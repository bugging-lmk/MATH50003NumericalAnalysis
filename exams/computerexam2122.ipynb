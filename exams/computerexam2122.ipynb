{
  "cells": [
    {
      "cell_type": "markdown",
      "metadata": {},
      "source": [
        "# MATH50003 Numerical Analysis (2021–2022) Computer-based Exam\n",
        "\n",
        "Instructions for uploading and downloading:\n",
        "\n",
        "1. Rename the file to include your CID.\n",
        "2. You have 30 mins to download the exam beginning at 3pm on 18 March.\n",
        "2. You have 1 hour to complete the exam beginning at 3:30pm on 18 March.\n",
        "3. Deadline is 5pm on 18 March to upload the completed Jupyter notebook (`.ipynb`) to Blackboard. \n",
        "Late submissions received before 7pm will be capped at 40%.\n",
        "5. Once uploaded, re-download the file before the final submission time to confirm it is correct.\n",
        "You are allowed to upload additional submissions but only last valid upload before 5pm will be used.\n",
        "6. If uploading via Blackboard fails you may e-mail the UG Office: maths.exams@imperial.ac.uk\n",
        "\n",
        "Instructions for the exam:\n",
        "\n",
        "1. For each problem, replace the `# TODO` to complete the question.\n",
        "The unit tests are provided to help you test your answers.\n",
        "3. Problems are marked A/B/C to indicate difficulty (\"A\" being most difficult).\n",
        "Partial credit will be awarded for reasonable attempts even if the tests\n",
        "are not passed. A and B questions are worth 12 marks while C questions are worth 10 marks.\n",
        "3. If you have technical queries please email s.olver@imperial.ac.uk. Any other queries\n",
        "should be sent to the UG Office: maths.exams@imperial.ac.uk\n",
        "4. You may use existing code from anywhere\n",
        "but you are **REQUIRED** to cite the source if it is not part of the module material,\n",
        "ideally by including a weblink in a comment. \n",
        "5. You **MUST NOT** ask for help online or\n",
        "communicate with others within or outside the module.\n",
        "Failure to follow these rules will be considered misconduct.\n",
        "\n",
        "\n",
        "\n",
        "You should use the following packages:"
      ]
    },
    {
      "cell_type": "code",
      "execution_count": 1,
      "metadata": {},
      "outputs": [],
      "source": [
        "using LinearAlgebra, Test"
      ]
    },
    {
      "cell_type": "markdown",
      "metadata": {},
      "source": [
        "(Note `SetRounding` is not necessary.)\n",
        "\n",
        "**WARNING** It may be necessary to restart the kernel if issues arise. Remember to reload the packages\n",
        "when you do so.\n",
        "\n",
        "## 1. Numbers\n",
        "\n",
        "**Problem 1.1 (C)** \n",
        "Implement the function `issub` that determines whether a `Float16` is a sub-normal number.\n",
        "DO NOT use the inbuilt routine `issubnormal`."
      ]
    },
    {
      "cell_type": "code",
      "execution_count": 2,
      "metadata": {},
      "outputs": [
        {
          "data": {
            "text/plain": [
              "issub (generic function with 1 method)"
            ]
          },
          "metadata": {},
          "output_type": "display_data"
        }
      ],
      "source": [
        "function issub(x::Float16)\n",
        "    # TODO: return `true` if `x` is a sub-normal float. Otherwise return `false`\n",
        "    α = 15\n",
        "    abs(x) < 2.0^(1-α)\n",
        "end"
      ]
    },
    {
      "cell_type": "code",
      "execution_count": 3,
      "metadata": {},
      "outputs": [
        {
          "data": {
            "text/plain": [
              "\u001b[32m\u001b[1mTest Passed\u001b[22m\u001b[39m"
            ]
          },
          "metadata": {},
          "output_type": "display_data"
        }
      ],
      "source": [
        "@test issub(Float16(0))\n",
        "@test issub(nextfloat(Float16(0)))\n",
        "@test issub(prevfloat(Float16(0)))\n",
        "@test !issub(Float16(1))\n",
        "@test !issub(reinterpret(Float16,0b0000010000000000))\n",
        "@test issub(reinterpret(Float16,0b0000001111111111))"
      ]
    },
    {
      "cell_type": "markdown",
      "metadata": {},
      "source": [
        "## 2. Differentiation\n",
        "\n",
        "**Problem 2.1 (C)** Use second-order finite differences\n",
        "with an appropriately chosen $h$ to approximate the second derivative of\n",
        "$$\n",
        "f(x) = \\cos(x^2)\n",
        "$$\n",
        "at $x = 0.1$ to 5 digits accuracy."
      ]
    },
    {
      "cell_type": "code",
      "execution_count": 6,
      "metadata": {},
      "outputs": [
        {
          "data": {
            "text/plain": [
              "fd2 (generic function with 1 method)"
            ]
          },
          "metadata": {},
          "output_type": "display_data"
        }
      ],
      "source": [
        "function fd2(x)\n",
        "    # TODO: implement a second-order finite-difference rule \n",
        "    # to approximate f''(x)\n",
        "    # for f(x) = cos(x^2)\n",
        "    # with step-size h chosen to get sufficient accuracy\n",
        "    h = cbrt(eps())\n",
        "    f = x -> cos(x^2)\n",
        "    (f(x + h) - 2f(x) + f(x - h)) / h^2\n",
        "end"
      ]
    },
    {
      "cell_type": "code",
      "execution_count": 7,
      "metadata": {},
      "outputs": [
        {
          "data": {
            "text/plain": [
              "\u001b[32m\u001b[1mTest Passed\u001b[22m\u001b[39m"
            ]
          },
          "metadata": {},
          "output_type": "display_data"
        }
      ],
      "source": [
        "@test abs(fd2(0.1) + 2*sin(0.1^2) + 4*0.1^2*cos(0.1^2)) ≤ 1E-5"
      ]
    },
    {
      "cell_type": "markdown",
      "metadata": {},
      "source": [
        "**Problem 2.2 (A)** Consider a 2nd order version of a dual number:\n",
        "$$\n",
        "a + b ϵ_1 + c ϵ_2\n",
        "$$\n",
        "such that\n",
        "$$\n",
        "\\begin{align*}\n",
        "ϵ_1^2 &= ϵ_2 \\\\\n",
        "ϵ_2^2 &= ϵ_1 ϵ_2 =  0.\n",
        "\\end{align*}\n",
        "$$\n",
        "Complete the following implementation supporting `+` and `*` (and\n",
        "assuming `a,b,c` are `Float64`). Hint: you may need to work out on paper\n",
        "how to multiply `(s.a + s.b ϵ_1 + s.c ϵ_2)*(t.a + t.b ϵ_1 + t.c ϵ_2)` using the\n",
        "relationship above."
      ]
    },
    {
      "cell_type": "code",
      "execution_count": 8,
      "metadata": {},
      "outputs": [
        {
          "data": {
            "text/plain": [
              "* (generic function with 223 methods)"
            ]
          },
          "metadata": {},
          "output_type": "display_data"
        }
      ],
      "source": [
        "import Base: *, +, ^\n",
        "struct Dual2\n",
        "    a::Float64\n",
        "    b::Float64\n",
        "    c::Float64\n",
        "end\n",
        "\n",
        "function +(s::Dual2, t::Dual2)\n",
        "    ## TODO: Implement Dual2(...) + Dual2(...), returning a Dual2\n",
        "    Dual2((s.a + t.a), (s.b + t.b), (s.c + t.c))\n",
        "end\n",
        "\n",
        "function +(s::Dual2, c::Real)\n",
        "    ## TODO: Implement Dual2(...) + c, returning a Dual2\n",
        "    Dual2(s.a + c, s.b, s.c)\n",
        "end\n",
        "\n",
        "function *(c::Number, s::Dual2)\n",
        "    ## TODO: Implement c * Dual2(...), returning a Dual2\n",
        "    Dual2(s.a * c, s.b * c, s.c * c)\n",
        "end\n",
        "\n",
        "function *(s::Dual2, t::Dual2)\n",
        "    ## TODO: Implement Dual2(...) * Dual2(...), returning a Dual2\n",
        "    Dual2(s.a * t.a, (s.a * t.b) + (s.b * t.a), (s.a * t.b) + (s.b * t.b) + (s.c * t.a))\n",
        "end"
      ]
    },
    {
      "cell_type": "code",
      "execution_count": 10,
      "metadata": {},
      "outputs": [
        {
          "name": "stdout",
          "output_type": "stream",
          "text": [
            "\u001b[91m\u001b[1mTest Failed\u001b[22m\u001b[39m at \u001b[39m\u001b[1m/Users/lmk/MATH50003NumericalAnalysis/exams/jl_notebook_cell_df34fa98e69747e1a8f8a730347b8e2f_X13sZmlsZQ==.jl:3\u001b[22m\n",
            "  Expression: f(Dual2(x, 1.0, 0.0)) == Dual2(f(x), 3 * x ^ 2 + 2, (6x) / 2)\n",
            "   Evaluated: Dual2(1.201, 2.03, 0.32000000000000006) == Dual2(1.201, 2.03, 0.30000000000000004)\n",
            "\n"
          ]
        },
        {
          "ename": "Test.FallbackTestSetException",
          "evalue": "Test.FallbackTestSetException(\"There was an error during testing\")",
          "output_type": "error",
          "traceback": [
            "Test.FallbackTestSetException(\"There was an error during testing\")\n",
            "\n",
            "Stacktrace:\n",
            " [1] record(ts::Test.FallbackTestSet, t::Union{Test.Error, Test.Fail})\n",
            "   @ Test ~/.julia/juliaup/julia-1.11.2+0.aarch64.apple.darwin14/share/julia/stdlib/v1.11/Test/src/Test.jl:1026\n",
            " [2] do_test(result::Test.ExecutionResult, orig_expr::Any)\n",
            "   @ Test ~/.julia/juliaup/julia-1.11.2+0.aarch64.apple.darwin14/share/julia/stdlib/v1.11/Test/src/Test.jl:712\n",
            " [3] macro expansion\n",
            "   @ ~/.julia/juliaup/julia-1.11.2+0.aarch64.apple.darwin14/share/julia/stdlib/v1.11/Test/src/Test.jl:679 [inlined]\n",
            " [4] top-level scope\n",
            "   @ ~/MATH50003NumericalAnalysis/exams/jl_notebook_cell_df34fa98e69747e1a8f8a730347b8e2f_X13sZmlsZQ==.jl:3"
          ]
        }
      ],
      "source": [
        "f = x -> x*x*x + 2x + 1\n",
        "x = 0.1\n",
        "@test f(Dual2(x,1.,0.)) == Dual2(f(x), 3x^2+2, 6x / 2)\n",
        "\n",
        "# This has computed the first and second derivatives as\n",
        "# as f(x) + f'(x)*ϵ_1 + f''(x)/2*ϵ_2\n",
        "# == (x^3 + x) + (3x^2+1)*ϵ_1 + 6x/2*ϵ_2"
      ]
    },
    {
      "cell_type": "markdown",
      "metadata": {},
      "source": [
        "## 3. Structured Matrices\n",
        "\n",
        "**Problem 3.1 (C)** Complete the implementation of `LowerTridiagonal` which represents a banded matrix with\n",
        "bandwidths $(l,u) = (2,0)$ by storing only its diagonal, sub-diagonal, and second-sub-diagonal as vectors."
      ]
    },
    {
      "cell_type": "code",
      "execution_count": 12,
      "metadata": {},
      "outputs": [
        {
          "data": {
            "text/plain": [
              "\u001b[32m\u001b[1mTest Passed\u001b[22m\u001b[39m"
            ]
          },
          "metadata": {},
          "output_type": "display_data"
        }
      ],
      "source": [
        "import Base: getindex,  size, *\n",
        "\n",
        "struct LowerTridiagonal <: AbstractMatrix{Float64}\n",
        "    d::Vector{Float64}   # diagonal entries of length n\n",
        "    dl::Vector{Float64}  # sub-diagonal entries of length n-1\n",
        "    dl2::Vector{Float64} # second-sub-diagonal entries of length n-2\n",
        "end\n",
        "\n",
        "size(L::LowerTridiagonal) = (length(L.d),length(L.d))\n",
        "\n",
        "function getindex(L::LowerTridiagonal, k::Int, j::Int)\n",
        "    d, dl, dl2 = L.d, L.dl, L.dl2\n",
        "    # TODO: return L[k,j].\n",
        "    # If `k == j` then it should be equal to `d[k]`.\n",
        "    # If `k == j+1` then it should be equal to `dl[j]`.\n",
        "    # If `k == j+2` then it should be equal to `dl2[j]`.\n",
        "    # Otherwise, it should return 0.0\n",
        "    if k == j\n",
        "        d[k]\n",
        "    elseif k == j+1\n",
        "        dl[j]\n",
        "    elseif k == j+2\n",
        "        dl2[j]\n",
        "    else\n",
        "        0.0\n",
        "    end\n",
        "end\n",
        "\n",
        "n = 10\n",
        "d, dl, dl2 = randn(n), randn(n-1), randn(n-2)\n",
        "@test LowerTridiagonal(d, dl, dl2) == diagm(0 => d, -1 => dl, -2 => dl2)"
      ]
    },
    {
      "cell_type": "markdown",
      "metadata": {},
      "source": [
        "**Problem 3.2 (B)** Complete the implementation of `*` for a `LowerTridiagonal` matrix\n",
        "so that it takes $O(n)$ operations."
      ]
    },
    {
      "cell_type": "code",
      "execution_count": 13,
      "metadata": {},
      "outputs": [
        {
          "data": {
            "text/plain": [
              "\u001b[32m\u001b[1mTest Passed\u001b[22m\u001b[39m"
            ]
          },
          "metadata": {},
          "output_type": "display_data"
        }
      ],
      "source": [
        "function *(L::LowerTridiagonal, x::AbstractVector)\n",
        "    ## TODO: Return L*x but computed in O(n) operations\n",
        "    n,m = size(L)\n",
        "    b = zeros(n)\n",
        "\n",
        "    for j = 1:n, k = j:min(j+2, n)\n",
        "        b[k] += L[k,j]*x[j]\n",
        "    end\n",
        "    b\n",
        "end\n",
        "\n",
        "n = 10\n",
        "d, dl, dl2 = randn(n), randn(n-1), randn(n-2)\n",
        "x = randn(n)\n",
        "@test LowerTridiagonal(d, dl, dl2)*x ≈ diagm(0 => d, -1 => dl, -2 => dl2)*x"
      ]
    },
    {
      "cell_type": "markdown",
      "metadata": {},
      "source": [
        "## 4. Decompositions\n",
        "\n",
        "**Problem 4.1 (C)** Approximate $\\exp x$ by a cubic polynomial by minimising\n",
        "the least squares error when sampled at $n$ evenly spaced points in $[0,1]$,\n",
        "that is, $x_k = (k-1)/(n-1)$,\n",
        "returning the coefficients in the monomial basis."
      ]
    },
    {
      "cell_type": "code",
      "execution_count": 26,
      "metadata": {},
      "outputs": [
        {
          "data": {
            "text/plain": [
              "11-element Vector{Float64}:\n",
              " 0.8948393168143698\n",
              " 1.0\n",
              " 1.1175190687418637\n",
              " 1.2488488690016821\n",
              " 1.3956124250860895\n",
              " 1.5596234976067807\n",
              " 1.7429089986334578\n",
              " 1.9477340410546757\n",
              " 2.1766299317162483\n",
              " 2.4324254542872077\n",
              " 2.718281828459045"
            ]
          },
          "metadata": {},
          "output_type": "display_data"
        }
      ],
      "source": [
        "n = 10\n",
        "x = [(k-1)/(n-1) for k = 0:n]\n",
        "V = x .^ (0:3)'\n",
        "V \\ exp.(x)\n",
        "V\n",
        "exp.(x)"
      ]
    },
    {
      "cell_type": "code",
      "execution_count": 18,
      "metadata": {},
      "outputs": [
        {
          "data": {
            "text/plain": [
              "expfit (generic function with 1 method)"
            ]
          },
          "metadata": {},
          "output_type": "display_data"
        }
      ],
      "source": [
        "function expfit(n)\n",
        "    ## TODO: return the coefficients [c_0,c_1,c_2,c_3] of the polynomial\n",
        "    # c_0 + c_1*x + c_2*x^2 + c_3*x^3 that minimises the L^2 error at `n`\n",
        "    # evenly spaced samples\n",
        "    x = [(k-1)/(n-1) for k = 0:n]\n",
        "    V = x .^ (0:3)'\n",
        "    V \\ exp.(x)\n",
        "end"
      ]
    },
    {
      "cell_type": "code",
      "execution_count": 19,
      "metadata": {},
      "outputs": [
        {
          "data": {
            "text/plain": [
              "\u001b[32m\u001b[1mTest Passed\u001b[22m\u001b[39m"
            ]
          },
          "metadata": {},
          "output_type": "display_data"
        }
      ],
      "source": [
        "c₀,c₁,c₂,c₃ = expfit(1000)\n",
        "    x = 0.1\n",
        "    @test abs(c₀ + c₁*x + c₂*x^2 + c₃*x^3 - exp(x)) ≤ 1E-3"
      ]
    },
    {
      "cell_type": "markdown",
      "metadata": {},
      "source": [
        "**Problem 4.2 (A)** Complete the function `lq(A)` that\n",
        "returns a LQ decomposition, that is, `A = LQ` where  `L` is lower triangular and `Q` is an orthogonal\n",
        "matrix. You may assume that `A`\n",
        "is a square `Matrix{Float64}`. Hint: think of how a Householder reflection\n",
        "can be constructed such that, for $𝐱 ∈ ℝ^n$,\n",
        "$$\n",
        "𝐱^⊤ Q = \\|𝐱\\|𝐞_1^⊤.\n",
        "$$"
      ]
    },
    {
      "cell_type": "code",
      "execution_count": 27,
      "metadata": {},
      "outputs": [
        {
          "data": {
            "text/plain": [
              "lq (generic function with 1 method)"
            ]
          },
          "metadata": {},
          "output_type": "display_data"
        }
      ],
      "source": [
        "function lq(A)\n",
        "    m,n = size(A)\n",
        "    m == n || error(\"not square\")\n",
        "    ## TODO: Create Q and L such that A = L*Q, Q'Q == I and L is lower triangular\n",
        "    L = copy(A)\n",
        "    Q = Matrix(1.0I, n, n)\n",
        "\n",
        "    for k = 1:n-1\n",
        "        y = L[k, k:end]\n",
        "        y[1] -= norm(y)\n",
        "        w = y / norm(y)\n",
        "        Qk = I - 2 * w * w'\n",
        "\n",
        "        L[k:end, k:end] = L[k:end, k:end] * Qk\n",
        "        Q[k:end, :] = Qk * Q[k:end, :]\n",
        "    end\n",
        "    L,Q\n",
        "\n",
        "end"
      ]
    },
    {
      "cell_type": "code",
      "execution_count": 28,
      "metadata": {},
      "outputs": [
        {
          "data": {
            "text/plain": [
              "\u001b[32m\u001b[1mTest Passed\u001b[22m\u001b[39m"
            ]
          },
          "metadata": {},
          "output_type": "display_data"
        }
      ],
      "source": [
        "A = [1.0 2 3; 1 4 9; 1 1 1]\n",
        "L,Q = lq(A)\n",
        "@test Q'Q ≈ I\n",
        "@test L*Q ≈ A\n",
        "@test L ≈ tril(L) # it is acceptable to have small non-zero entries in L"
      ]
    },
    {
      "cell_type": "markdown",
      "metadata": {},
      "source": [
        "## 5. Singular Value Decomposition\n",
        "\n",
        "**Problem 5.1 (B)** Implement `pseudoinv` that returns the pseudo-inverse $A^+$\n",
        "for an arbitrary square matrix, assuming that any singular value less than\n",
        "$10^{-15}$ is in fact exactly zero. DO NOT use the inbuilt routine `pinv`."
      ]
    },
    {
      "cell_type": "code",
      "execution_count": null,
      "metadata": {},
      "outputs": [],
      "source": [
        "function pseudoinv(A)\n",
        "    m,n = size(A)\n",
        "    m == n || error(\"A must be square\")\n",
        "    tol = 1E-15 # threshold below which we assume a singular value is zero\n",
        "    ## TODO: construct and return the pseudo inverse of A\n",
        "end"
      ]
    },
    {
      "cell_type": "code",
      "execution_count": null,
      "metadata": {},
      "outputs": [],
      "source": [
        "A = [1 2 3; 4 5 6; 7 8 9]\n",
        "A⁺ = pseudoinv(A)\n",
        "@test A⁺*A*A⁺ ≈ A⁺\n",
        "@test A*A⁺*A ≈ A"
      ]
    },
    {
      "cell_type": "markdown",
      "metadata": {},
      "source": [
        "## 6. Differential Equations\n",
        "\n",
        "**Problem 6.1 (B)** Complete the function `mathieu(n)` that returns a length-$n$ `Vector{Float64}`\n",
        "$$\n",
        "\\begin{bmatrix}\n",
        "u_1 \\\\\n",
        "⋮ \\\\\n",
        "u_n\n",
        "\\end{bmatrix}\n",
        "$$\n",
        "such that $u_k$ approximates the solution to the time-evolution equation\n",
        "$$\n",
        "\\begin{align*}\n",
        "u(0) &= 0 \\\\\n",
        "u'(0) &= 1 \\\\\n",
        "u''(t) &= cos(t) u(t)\n",
        "\\end{align*}\n",
        "$$\n",
        "at the point $t_k = (k-1)/(n-1)$ using the Forward Euler method, by first recasting the problem\n",
        "as a vector ODE."
      ]
    },
    {
      "cell_type": "code",
      "execution_count": null,
      "metadata": {},
      "outputs": [],
      "source": [
        "function mathieu(n)\n",
        "    # TODO: return a Vector{Float64} approximating the solution to the ODE\n",
        "    # at n evenly spaced points between 0 and 1.\n",
        "end"
      ]
    },
    {
      "cell_type": "code",
      "execution_count": null,
      "metadata": {},
      "outputs": [],
      "source": [
        "u = mathieu(100_000)\n",
        "@test u isa Vector\n",
        "@test abs(u[1]) ≤ 1E-15\n",
        "# this compares against the exact formula\n",
        "@test abs(u[end] - 1.148783704310448) ≤ 2E-5"
      ]
    }
  ],
  "metadata": {
    "kernelspec": {
      "display_name": "Julia 1.11.2",
      "language": "julia",
      "name": "julia-1.11"
    },
    "language_info": {
      "file_extension": ".jl",
      "mimetype": "application/julia",
      "name": "julia",
      "version": "1.11.2"
    }
  },
  "nbformat": 4,
  "nbformat_minor": 2
}
