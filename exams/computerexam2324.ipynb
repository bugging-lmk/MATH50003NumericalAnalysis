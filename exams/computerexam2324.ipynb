{
 "cells": [
  {
   "cell_type": "markdown",
   "metadata": {},
   "source": [
    "# MATH50003 Numerical Analysis (2023–2024) Computer-based Exam"
   ]
  },
  {
   "cell_type": "markdown",
   "metadata": {},
   "source": [
    "Instructions for uploading and downloading:"
   ]
  },
  {
   "cell_type": "markdown",
   "metadata": {},
   "source": [
    "1. Rename the file to include your CID.\n",
    "2. You have 15 mins to download the exam beginning at 9:00 on 15 March. **DO NOT** write or type anything during this time.\n",
    "2. You have 1 hour to complete the exam beginning at 9:15 on 15 March. You **MUST STOP** typing at 10:15.\n",
    "3. Deadline is 10:30 on 15 March to upload the completed Jupyter notebook (`.ipynb`) to Blackboard.\n",
    "5. Once uploaded, re-download the file before the final submission time to confirm it is correct.\n",
    "You are allowed to upload additional submissions but only the last valid upload before 10:30 will be used.\n",
    "6. If uploading via Blackboard fails or please contact an invigilator."
   ]
  },
  {
   "cell_type": "markdown",
   "metadata": {},
   "source": [
    "Instructions for the exam:"
   ]
  },
  {
   "cell_type": "markdown",
   "metadata": {},
   "source": [
    "1. For each problem, replace the `# TODO` to complete the question.\n",
    "The unit tests are provided to help you test your answers, but do not guarantee that the answer is correct.\n",
    "2. Problems are marked A/B/C to indicate difficulty (\"A\" being most difficult).\n",
    "3. All questions are worth 10 marks. Partial credit will be awarded for reasonable attempts or comments outlining a solution even if the tests\n",
    "are not passed.\n",
    "3. If you have technical queries please contact an invigilator.\n",
    "4. You may use existing code from anywhere\n",
    "but you are **REQUIRED** to cite the source if it is not part of the module material,\n",
    "by including a weblink in a comment.\n",
    "5. You **MUST NOT** ask for help online or\n",
    "communicate with others within or outside the module.\n",
    "Failure to follow these rules will be considered misconduct.\n",
    "6. **NO USAGE of AI tools** such as ChatGPT or GitHub Co-Pilot.\n",
    "7. **TURN OFF notifications** on your machine. In particular, close background processes for any chat applications (iMessage, WhatsApp, WeChat)."
   ]
  },
  {
   "cell_type": "markdown",
   "metadata": {},
   "source": [
    "You should use the following packages:"
   ]
  },
  {
   "cell_type": "code",
   "execution_count": 2,
   "metadata": {},
   "outputs": [],
   "source": [
    "using LinearAlgebra, SetRounding, Test"
   ]
  },
  {
   "cell_type": "markdown",
   "metadata": {},
   "source": [
    "**WARNING** It may be necessary to restart the kernel if issues arise. Remember to reload the packages\n",
    "when you do so."
   ]
  },
  {
   "cell_type": "markdown",
   "metadata": {},
   "source": [
    "-----"
   ]
  },
  {
   "cell_type": "markdown",
   "metadata": {},
   "source": [
    "**Problem 1 (C)** Implement the mid-point rule for approximating an integral:\n",
    "$$\n",
    "\\int_0^1 f(x) {\\rm d}x ≈ {1 \\over n} \\sum_{k=1}^n f(x_{k-1/2})\n",
    "$$\n",
    "where $x_k := k/n$. By computing with various values of $n$, conjecture what the convergence rate is as $n → ∞$,\n",
    "that is, for what $λ$ is the error $O(n^{-λ})$? You may assume all numbers are `Float64`."
   ]
  },
  {
   "cell_type": "code",
   "execution_count": 6,
   "metadata": {},
   "outputs": [
    {
     "data": {
      "text/plain": [
       "0"
      ]
     },
     "metadata": {},
     "output_type": "display_data"
    }
   ],
   "source": [
    "function midpointrule(f, n)\n",
    "    # TODO: implement the mid-point rule\n",
    "\n",
    "    ret = 0.0\n",
    "\n",
    "    for k = 1:n\n",
    "        ret += f((k-1/2)/n)\n",
    "    end\n",
    "    ret/n\n",
    "\n",
    "end\n",
    "\n",
    "@test midpointrule(exp, 5000) ≈ (exp(1)-1)\n",
    "\n",
    "# TODO: Replace 0 below to set λ to what you conjecture that the convergence rate O(n^(-λ)) is.\n",
    "# Include any experiments/comments to justify your conjecture.\n",
    "λ = 0"
   ]
  },
  {
   "cell_type": "markdown",
   "metadata": {},
   "source": [
    "**Problem 2 (B)** Derive a third-order divided difference formula by combining a first-order and second-order divided difference, that\n",
    "evaluates at the points $f(x+2h), f(x+h), f(x),$ and $f(x-h)$.\n",
    "Implement this formula in the following function:"
   ]
  },
  {
   "cell_type": "code",
   "execution_count": null,
   "metadata": {},
   "outputs": [],
   "source": [
    "function thirdorderdivideddifference(f, x, h)\n",
    "    # TODO: approximate f'''(x) by deriving a third-order divided difference formula\n",
    "\n",
    "end\n",
    "\n",
    "# We test with BigFloat as the round-off errors in third-order divided differences are too large to get accurate digits:\n",
    "@test thirdorderdivideddifference(x -> cos(x^2), big(1.0), big(0.0000001)) ≈ -12cos(1) + 8sin(1) atol=1E-5"
   ]
  },
  {
   "cell_type": "markdown",
   "metadata": {},
   "source": [
    "**Problem 3 (C)** Add support for `tan` and `acos` (which implements $\\arccos(x)$)  with duals. You may use the provided `cos` and `sin`\n",
    "implementations. Hint: recall that $\\arccos'(x) = -1/\\sqrt{1-x^2}$."
   ]
  },
  {
   "cell_type": "code",
   "execution_count": 10,
   "metadata": {},
   "outputs": [
    {
     "data": {
      "text/plain": [
       "\u001b[32m\u001b[1mTest Passed\u001b[22m\u001b[39m"
      ]
     },
     "metadata": {},
     "output_type": "display_data"
    }
   ],
   "source": [
    "struct Dual\n",
    "    a\n",
    "    b\n",
    "end\n",
    "\n",
    "import Base: tan, acos, cos, sin, /\n",
    "\n",
    "\n",
    "cos(x::Dual) = Dual(cos(x.a), -sin(x.a) * x.b)\n",
    "sin(x::Dual) = Dual(sin(x.a), cos(x.a) * x.b)\n",
    "function /(x::Dual, y::Dual)\n",
    "    if iszero(y.a)\n",
    "        error(\"Division for dual numbers is ill-defined when denonimator real part is zero.\")\n",
    "    end\n",
    "    return Dual(x.a / y.a, (y.a * x.b - x.a * y.b) / y.a^2)\n",
    "end\n",
    "\n",
    "function tan(x::Dual)\n",
    "    # TODO: implement tan for dual numbers\n",
    "    sin(x)/cos(x)\n",
    "\n",
    "end\n",
    "\n",
    "function acos(x::Dual)\n",
    "    # TODO: implement acos, i.e. arccos, for dual numbers\n",
    "\n",
    "    Dual(acos(x.a), x.b * (-1/sqrt(1-x.a^2)))\n",
    "\n",
    "end\n",
    "\n",
    "@test (tan(acos(Dual(0.1,1)))/cos(Dual(0.1,1))).a ≈ tan(acos(0.1))/cos(0.1)\n",
    "@test (tan(acos(Dual(0.1,1)))/cos(Dual(0.1,1))).b ≈ -((sec(0.1)*(1 + 0.1*(0.1^2-1)*tan(0.1)))/(0.1^2*sqrt(1 - 0.1^2)))"
   ]
  },
  {
   "cell_type": "markdown",
   "metadata": {},
   "source": [
    "**Problem 4 (C)** A `Float16` represents a number of the form $2^{q-15} (1.b_1…b_{10})_2$.\n",
    " Create a function that returns the exponent $q$ of a `Float16` as an `UInt8`. Do not use the\n",
    "built-in `exponent` function. Hint: combine `bitstring` and `parse`."
   ]
  },
  {
   "cell_type": "code",
   "execution_count": 12,
   "metadata": {},
   "outputs": [
    {
     "data": {
      "text/plain": [
       "\u001b[32m\u001b[1mTest Passed\u001b[22m\u001b[39m"
      ]
     },
     "metadata": {},
     "output_type": "display_data"
    }
   ],
   "source": [
    "function floatexponent(x::Float16)\n",
    "    # TODO: return the exponent of x\n",
    "    parse(UInt8, bitstring(x)[2:6]; base = 2)\n",
    "\n",
    "end\n",
    "\n",
    "\n",
    "@test floatexponent(Float16(0.0123)) isa UInt8\n",
    "@test floatexponent(Float16(0.0123)) == 8"
   ]
  },
  {
   "cell_type": "markdown",
   "metadata": {},
   "source": [
    "**Problem 5.1 (C)** Complete the implementation of a function `cos_t(x,n)` computing the\n",
    "first `2n` terms of the Taylor series:\n",
    "$$\n",
    "\\cos\\ x ≈ ∑_{k=0}^n {(-1)^k x^{2k} \\over (2k)!}\n",
    "$$"
   ]
  },
  {
   "cell_type": "code",
   "execution_count": null,
   "metadata": {},
   "outputs": [],
   "source": [
    "function cos_t(x, n)\n",
    "    ret = x^2\n",
    "    s = x^2\n",
    "    # TODO: Compute the first 2n terms of the Taylor series of cos,\n",
    "    # without using the factorial function.\n",
    "\n",
    "end\n",
    "\n",
    "@test cos_t(1.0, 10) ≈ cos(1)"
   ]
  },
  {
   "cell_type": "markdown",
   "metadata": {},
   "source": [
    "**Problem 5.2 (B)**  Complete the implementation of a function `cos_bound(x,n)` that\n",
    "includes an error bound on the computation. You may assume $0 ≤ x ≤ 1$."
   ]
  },
  {
   "cell_type": "code",
   "execution_count": null,
   "metadata": {},
   "outputs": [],
   "source": [
    "struct Interval # represents the set [a,b]\n",
    "    a # left endpoint\n",
    "    b # right endpoint\n",
    "end\n",
    "\n",
    "Interval(x) = Interval(x,x) # Support Interval(1) to represent [1,1]\n",
    "\n",
    "import Base: *, +, -, ^, /, one, in\n",
    "\n",
    "in(x, X::Interval) = X.a ≤ x ≤ X.b\n",
    "one(X::Interval) = Interval(one(X.a), one(X.b))\n",
    "function +(X::Interval, Y::Interval)\n",
    "    a,b,c,d = promote(X.a, X.b, Y.a, Y.b) # make sure all are the same type\n",
    "    T = typeof(a)\n",
    "    α = setrounding(T, RoundDown) do\n",
    "        a + c\n",
    "    end\n",
    "    β = setrounding(T, RoundUp) do\n",
    "        b + d\n",
    "    end\n",
    "    Interval(α, β)\n",
    "end\n",
    "function -(X::Interval)\n",
    "    a,b = promote(X.a, X.b)\n",
    "    Interval(-b, -a)\n",
    "end\n",
    "function /(X::Interval, n::Int)\n",
    "    a,b = promote(X.a, X.b)\n",
    "    T = eltype(a)\n",
    "    if n == 0\n",
    "        error(\"Dividing by zero not support\")\n",
    "    end\n",
    "    α = setrounding(T, RoundDown) do\n",
    "        n > 0 ? a / n : b / n\n",
    "    end\n",
    "    β = setrounding(T, RoundUp) do\n",
    "        n > 0 ? b / n : a / n\n",
    "    end\n",
    "    Interval(α, β)\n",
    "end\n",
    "function *(X::Interval, Y::Interval)\n",
    "    a,b,c,d = promote(X.a, X.b, Y.a, Y.b)\n",
    "    T = typeof(a)\n",
    "    if !(a ≤ b && c ≤ d)\n",
    "        error(\"Empty intervals not supported.\")\n",
    "    end\n",
    "    α = setrounding(T, RoundDown) do\n",
    "        min(a*c,a*d,b*c,b*d)\n",
    "    end\n",
    "    β = setrounding(T, RoundUp) do\n",
    "        max(a*c,a*d,b*c,b*d)\n",
    "    end\n",
    "    Interval(α, β)\n",
    "end\n",
    "function ^(X::Interval, k::Int)\n",
    "    if k ≤ 0\n",
    "        error(\"not supported\")\n",
    "    elseif k == 1\n",
    "        X\n",
    "    else\n",
    "        X * X^(k-1)\n",
    "    end\n",
    "end\n",
    "\n",
    "\n",
    "function cos_bound(X::Interval, n)\n",
    "    a,b = promote(X.a, X.b)\n",
    "    T = typeof(a)\n",
    "    if !(0 ≤ a ≤ b ≤ 1)\n",
    "        error(\"Interval must be a subset of [0, 1]\")\n",
    "    end\n",
    "    # TODO: complete the implementation of cosine applied to an interval,\n",
    "    # including the error in truncating the Taylor series.\n",
    "\n",
    "end\n",
    "\n",
    "@test cos(big(1)) in cos_bound(Interval(1.0), 10)\n",
    "@test cos_bound(Interval(1.0), 10).b - cos_bound(Interval(1.0), 10).a ≤ 1E-14"
   ]
  },
  {
   "cell_type": "markdown",
   "metadata": {},
   "source": [
    "**Problem 6 (B)** Complete the implementation of `LowerTridiagonal` which represents an $n × n$ banded matrix with\n",
    "bandwidths $(l,u) = (2,0)$ by storing only its diagonal, sub-diagonal, and second-sub-diagonal as vectors.\n",
    "Overload `setindex!`, as well as `\\` to solve a lower tridiagonal system in $O(n)$ operations. For simplicity you may assume all numbers are `Float64`."
   ]
  },
  {
   "cell_type": "code",
   "execution_count": null,
   "metadata": {},
   "outputs": [],
   "source": [
    "import Base: getindex, setindex!, size, \\\n",
    "\n",
    "struct LowerTridiagonal <: AbstractMatrix{Float64}\n",
    "    d::Vector{Float64}   # diagonal entries of length n\n",
    "    dl::Vector{Float64}  # sub-diagonal entries of length n-1\n",
    "    dl2::Vector{Float64} # second-sub-diagonal entries of length n-2\n",
    "end\n",
    "\n",
    "size(L::LowerTridiagonal) = (length(L.d),length(L.d))\n",
    "\n",
    "# implements L[k,j]\n",
    "function getindex(L::LowerTridiagonal, k::Int, j::Int)\n",
    "    d, dl, dl2 = L.d, L.dl, L.dl2\n",
    "    if k == j\n",
    "        d[k]\n",
    "    elseif k == j+1\n",
    "        dl[j]\n",
    "    elseif k == j+2\n",
    "        dl2[j]\n",
    "    else\n",
    "        0.0\n",
    "    end\n",
    "end\n",
    "\n",
    "# implements L[k,j] = v\n",
    "function setindex!(L::LowerTridiagonal, v, k::Int, j::Int)\n",
    "    d, dl, dl2 = L.d, L.dl, L.dl2\n",
    "    if j > k || j < k-2\n",
    "        error(\"Cannot modify off-band\")\n",
    "    end\n",
    "    # TODO: set L[k,j] to be equal to v\n",
    "\n",
    "end\n",
    "\n",
    "function \\(L::LowerTridiagonal, b::AbstractVector)\n",
    "    m,n = size(L) # we know m == n\n",
    "    if n ≠ length(b)\n",
    "        error(\"Dimensions do not match\")\n",
    "    end\n",
    "    if n < 1\n",
    "        error(\"Empty vectors not supported\")\n",
    "    end\n",
    "    x = zeros(n) # Vector to be populated\n",
    "    # TODO: Populate the vector x so that L*x ≈ b, using O(n) operations.\n",
    "\n",
    "end\n",
    "\n",
    "n = 10\n",
    "d, dl, dl2 = randn(n), randn(n-1), randn(n-2)\n",
    "L = LowerTridiagonal(d, dl, dl2)\n",
    "@test L == diagm(0 => d, -1 => dl, -2 => dl2)\n",
    "\n",
    "L[3,2] = 4\n",
    "@test L[3,2] == 4\n",
    "\n",
    "b = randn(n)\n",
    "@test L\\b ≈ Matrix(L)\\b"
   ]
  },
  {
   "cell_type": "markdown",
   "metadata": {},
   "source": [
    "**Problem 7 (A)**  Consider the second-order initial value problem\n",
    "$$\n",
    "u(0) = 1, u'(0) = 0, u''(x) = x u(x)\n",
    "$$\n",
    "for $x ∈ [0,1]$. Recast this problem as a linear system involving a `LowerTridiagonal` matrix (as defined in Problem 6)\n",
    "using a finite-difference approximation on the evenly grid $x_0,x_1,…,x_n$\n",
    "where $x_k = k/n$ using the right-sided divided difference to approximate\n",
    "$$\n",
    "u'(0) ≈ {u(h) - u(0) \\over h}\n",
    "$$\n",
    "and the second-order divided difference approximation\n",
    "$$\n",
    "u''(x) ≈ {u(x+h) - 2u(x) + u(x-h) \\over h^2}\n",
    "$$\n",
    "imposed at the grid points $x_1,…,x_{n-1}$."
   ]
  },
  {
   "cell_type": "code",
   "execution_count": null,
   "metadata": {},
   "outputs": [],
   "source": [
    "function secondorderairysystem(n)\n",
    "    # TODO: return a LowerTridiagonal matrix representing the differential operator u'' - x*u,\n",
    "    # with the first two rows representing the initial conditions u(0) and u'(0)\n",
    "\n",
    "end\n",
    "\n",
    "function secondorderairyrhs(n)\n",
    "    # TODO: return the right-hand side corresponding to the above system.\n",
    "\n",
    "end\n",
    "\n",
    "n = 1000\n",
    "@test secondorderairysystem(n) isa LowerTridiagonal\n",
    "u = secondorderairysystem(n) \\ secondorderairyrhs(n)\n",
    "@test u[end] ≈ 1.1722999700579313 atol=1E-5"
   ]
  },
  {
   "cell_type": "markdown",
   "metadata": {},
   "source": [
    "**Problem 8.1 (B)** Implement the following function that given a real vector $𝐱$ will return a 2 × 2 rotation matrix such that\n",
    "$$\n",
    "Q 𝐱 = \\| 𝐱 \\| 𝐞_2.\n",
    "$$\n",
    "You may assume all numbers are `Float64`."
   ]
  },
  {
   "cell_type": "code",
   "execution_count": null,
   "metadata": {},
   "outputs": [],
   "source": [
    "function rotatedown(x)\n",
    "    if length(x) ≠ 2\n",
    "        error(\"Length must be 2\")\n",
    "    end\n",
    "    # TODO: Create a 2 × 2 rotation matrix Q such that Q*x = [0,norm(x)].\n",
    "\n",
    "end\n",
    "\n",
    "x = randn(2)\n",
    "Q = rotatedown(x)\n",
    "@test Q'Q ≈ I\n",
    "@test det(Q) ≈ 1\n",
    "@test Q*x ≈ [0,norm(x)]"
   ]
  },
  {
   "cell_type": "markdown",
   "metadata": {},
   "source": [
    "**Problem 8.2 (A)** Implement a QL factorisation for a tridiagonal matrix, returning an orthogonal matrix `Q`\n",
    "and `L`  represented as a `LowerTridiagonal` matrix, as defined in Problem 6. You may assume all numbers are `Float64`. Hint: unlike the `bandedqr` implemented in the labs, `Q` may be stored as\n",
    "as a dense matrix. Because of this your solution will likely take $O(n^2)$ operations."
   ]
  },
  {
   "cell_type": "code",
   "execution_count": null,
   "metadata": {},
   "outputs": [],
   "source": [
    "function bandedql(A::Tridiagonal)\n",
    "    n = size(A, 1)\n",
    "    Q = Matrix(1.0I, n, n) # create an n × n identity matrix\n",
    "    L = LowerTridiagonal(zeros(n), zeros(n - 1), zeros(n - 2))\n",
    "\n",
    "    # TODO: Populate Q and L so that Q*L ≈ A in at most O(n^2) operations.\n",
    "\n",
    "\n",
    "    Q, L\n",
    "end\n",
    "\n",
    "n = 100\n",
    "A = Tridiagonal(randn(n-1), randn(n), randn(n-1))\n",
    "Q,L = bandedql(A)\n",
    "\n",
    "@test Q'*Q ≈ I\n",
    "@test L isa LowerTridiagonal\n",
    "@test Q*L ≈ A"
   ]
  },
  {
   "cell_type": "markdown",
   "metadata": {},
   "source": [
    "---\n",
    "\n",
    "*This notebook was generated using [Literate.jl](https://github.com/fredrikekre/Literate.jl).*"
   ]
  }
 ],
 "metadata": {
  "kernelspec": {
   "display_name": "Julia 1.11.2",
   "language": "julia",
   "name": "julia-1.11"
  },
  "language_info": {
   "file_extension": ".jl",
   "mimetype": "application/julia",
   "name": "julia",
   "version": "1.11.2"
  }
 },
 "nbformat": 4,
 "nbformat_minor": 3
}
