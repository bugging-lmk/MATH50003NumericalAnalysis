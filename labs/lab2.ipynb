{
 "cells": [
  {
   "cell_type": "markdown",
   "metadata": {},
   "source": [
    "# MATH50003 (2024–25)\n",
    "# Lab 2: I.3 Dual Numbers and I.4 Newton's Method"
   ]
  },
  {
   "cell_type": "markdown",
   "metadata": {},
   "source": [
    "In this lab we explore an alternative approach to computing derivatives:\n",
    "using _dual numbers_. This is a special mathematical object akin to complex numbers\n",
    "that allows us to compute derivatives to very high accuracy in an automated fashion.\n",
    "This is a basic example of [automatic differentiation](https://en.wikipedia.org/wiki/Automatic_differentiation)\n",
    "that is extremely important in Machine Learning and other computational applications.\n",
    "To realise dual numbers on a computer we need to introduce the notation of a \"type\"\n",
    "and create a customised type to represent dual numbers, which is what we discuss first.\n",
    "As an application of computing derivatives we consider root finding via [Newton's method](https://en.wikipedia.org/wiki/Newton%27s_method)."
   ]
  },
  {
   "cell_type": "markdown",
   "metadata": {},
   "source": [
    "**Learning Outcomes**\n",
    "\n",
    "Mathematical knowledge:\n",
    "\n",
    "1. Definition of dual numbers and functions applied dual numbers.\n",
    "3. Newton's method for root finding.\n",
    "\n",
    "Coding knowledge:\n",
    "\n",
    "1. The notion of a type and how to make your own type.\n",
    "2. Defining functions whose arguments are restricted to specific types.\n",
    "3. Overloading functions like `+`, `*`, and `exp` for a custom type."
   ]
  },
  {
   "cell_type": "markdown",
   "metadata": {},
   "source": [
    "We load the `Test` and `Plots` packages to be used below.\n",
    "We also define the function `nanabs` which is useful for logarithmically scaled\n",
    "plots. For brevity we use a shorthand `cond ? expr1 : expr2` which just means\n",
    "```julia\n",
    "if cond\n",
    "    expr1\n",
    "else\n",
    "    expr2\n",
    "end\n",
    "```"
   ]
  },
  {
   "cell_type": "code",
   "execution_count": 1,
   "metadata": {},
   "outputs": [
    {
     "data": {
      "text/plain": [
       "nanabs (generic function with 1 method)"
      ]
     },
     "metadata": {},
     "output_type": "display_data"
    }
   ],
   "source": [
    "using Plots, Test\n",
    "nanabs(x) = x == 0 ? NaN : abs(x)"
   ]
  },
  {
   "cell_type": "markdown",
   "metadata": {},
   "source": [
    "## Types in Julia"
   ]
  },
  {
   "cell_type": "markdown",
   "metadata": {},
   "source": [
    "Before we can use a concept like dual numbers we have to understand the notion of a \"type\".\n",
    "In compiled languages like Julia everything has a \"type\". The function `typeof` can be used to determine the type of,\n",
    "for example, a number.\n",
    "By default when we write an integer (e.g. `-123`) it is of type `Int`:"
   ]
  },
  {
   "cell_type": "code",
   "execution_count": 2,
   "metadata": {},
   "outputs": [
    {
     "data": {
      "text/plain": [
       "Int64"
      ]
     },
     "metadata": {},
     "output_type": "display_data"
    }
   ],
   "source": [
    "typeof(5)"
   ]
  },
  {
   "cell_type": "markdown",
   "metadata": {},
   "source": [
    "On a 64-bit machine this will print `Int64`, where the `64` indicates it is using precisely 64 bits\n",
    "to represent the number (a topic we will come back to in Part II). If we write something with\n",
    "a decimal point it represents a \"real\" number, whose storage is of type `Float64`:"
   ]
  },
  {
   "cell_type": "code",
   "execution_count": 3,
   "metadata": {},
   "outputs": [
    {
     "data": {
      "text/plain": [
       "Float64"
      ]
     },
     "metadata": {},
     "output_type": "display_data"
    }
   ],
   "source": [
    "typeof(5.3)"
   ]
  },
  {
   "cell_type": "markdown",
   "metadata": {},
   "source": [
    "This is called a \"floating point\" number, and again the `64` indicates it is using precisely\n",
    "64 bits to represent this number. (We will see this is why computations like divided differences\n",
    "have large errors: because we are limiting the number of \"digits\" to represent numbers we need to\n",
    "round our computations.) Note that some operations involving `Int`s return `Float64`s:"
   ]
  },
  {
   "cell_type": "code",
   "execution_count": 4,
   "metadata": {},
   "outputs": [
    {
     "data": {
      "text/plain": [
       "0.2"
      ]
     },
     "metadata": {},
     "output_type": "display_data"
    }
   ],
   "source": [
    "1/5 # 1 and 5 are Int but output is a Float64"
   ]
  },
  {
   "cell_type": "markdown",
   "metadata": {},
   "source": [
    "It is possible to have functions behave differently depending on the input type.\n",
    "To do so we can add a restriction denoted `::Int` or `::Float64` to the function \"signature\".\n",
    "Here we create a function `foo` that is equal to `1` if the input is an `Int`, `0` if the input is\n",
    "a `Float64`, and `-1` otherwise:"
   ]
  },
  {
   "cell_type": "code",
   "execution_count": 5,
   "metadata": {},
   "outputs": [
    {
     "data": {
      "text/plain": [
       "(1, 0, -1, 0)"
      ]
     },
     "metadata": {},
     "output_type": "display_data"
    }
   ],
   "source": [
    "foo(x::Int) = 1 # The ::Int means this version is called when the input is an Int\n",
    "foo(x::Float64) = 0\n",
    "foo(x) = -1 # This is equivalent to f(x::Any) = -1\n",
    "# Anything that is not an Int or Float64 will call this\n",
    "\n",
    "foo(3), foo(2.5), foo(\"hi\"), foo(3.0)"
   ]
  },
  {
   "cell_type": "markdown",
   "metadata": {},
   "source": [
    "The last line returns a list of `Int`s, which has the type `Tuple`.\n",
    "Note that there is a difference between the set concept of integer and the type `Int`: whilst `3.0` is an integer\n",
    "its type is `Float64` so `foo(3.0) == 0`."
   ]
  },
  {
   "cell_type": "markdown",
   "metadata": {},
   "source": [
    "**Remark** Every type has a \"supertype\", which is an \"abstract type\": something you can't make an instance of it.\n",
    "For example, in the same way that \"integers\"\n",
    "are subsets of the \"reals\" we have that `Int` and `Float64` are subtypes of\n",
    "`Real`. Which is a subtype of `Number`. Which, as is everything, a subtype of `Any`."
   ]
  },
  {
   "cell_type": "markdown",
   "metadata": {},
   "source": [
    "Types allow for combining multiple numbers (or instances of other types) to represent a more complicated\n",
    "object. A simple example of this is a complex number,\n",
    "which stores two real numbers $x$ and $y$ (either `Int` or `Float64` or indeed other real number types not yet discussed)\n",
    "to represent the complex number $x + {\\rm i} y$. In Julia ${\\rm i} = \\sqrt{-1}$ is denoted `im` and\n",
    "hence we can create a complex number like $1+2{\\rm i}$ as follows:"
   ]
  },
  {
   "cell_type": "code",
   "execution_count": 6,
   "metadata": {},
   "outputs": [
    {
     "data": {
      "text/plain": [
       "1 + 2im"
      ]
     },
     "metadata": {},
     "output_type": "display_data"
    }
   ],
   "source": [
    "z = 1 + 2im"
   ]
  },
  {
   "cell_type": "markdown",
   "metadata": {},
   "source": [
    "This complex number has two \"fields\": the real and imaginary part. Accessing the fields is done\n",
    "using a `.`, here we display the real and imaginary parts as a `Tuple`:"
   ]
  },
  {
   "cell_type": "code",
   "execution_count": 7,
   "metadata": {},
   "outputs": [
    {
     "data": {
      "text/plain": [
       "(1, 2)"
      ]
     },
     "metadata": {},
     "output_type": "display_data"
    }
   ],
   "source": [
    "z.re, z.im"
   ]
  },
  {
   "cell_type": "markdown",
   "metadata": {},
   "source": [
    "When we ask  its type we see it is a `Complex{Int}`:"
   ]
  },
  {
   "cell_type": "code",
   "execution_count": 8,
   "metadata": {},
   "outputs": [
    {
     "data": {
      "text/plain": [
       "Complex{Int64}"
      ]
     },
     "metadata": {},
     "output_type": "display_data"
    }
   ],
   "source": [
    "typeof(z)"
   ]
  },
  {
   "cell_type": "markdown",
   "metadata": {},
   "source": [
    "The `{Int}` indicates that each of the fields is an `Int`.\n",
    "Note we can add, subtract, multiply, or apply functions like `exp` to complex numbers:"
   ]
  },
  {
   "cell_type": "code",
   "execution_count": 9,
   "metadata": {},
   "outputs": [
    {
     "data": {
      "text/plain": [
       "1.0970208521148807e-5 - 0.002478727901132598im"
      ]
     },
     "metadata": {},
     "output_type": "display_data"
    }
   ],
   "source": [
    "exp(2z^2 + 3im)"
   ]
  },
  {
   "cell_type": "markdown",
   "metadata": {},
   "source": [
    "-----\n",
    "**Problem 1(a)** Use `typeof` to determine the type of `1.2 + 2.3im`."
   ]
  },
  {
   "cell_type": "code",
   "execution_count": 10,
   "metadata": {},
   "outputs": [
    {
     "data": {
      "text/plain": [
       "ComplexF64\u001b[90m (alias for \u001b[39m\u001b[90mComplex{Float64}\u001b[39m\u001b[90m)\u001b[39m"
      ]
     },
     "metadata": {},
     "output_type": "display_data"
    }
   ],
   "source": [
    "# TODO: What is the type of 1.2 + 2.3im?\n",
    "z = 1.2 + 2.3im\n",
    "typeof(z)"
   ]
  },
  {
   "cell_type": "markdown",
   "metadata": {},
   "source": [
    "**Problem 1(b)** Add another implementation of `foo` that returns `im` if the input\n",
    "is a `ComplexF64`."
   ]
  },
  {
   "cell_type": "code",
   "execution_count": 11,
   "metadata": {},
   "outputs": [
    {
     "data": {
      "text/plain": [
       "\u001b[32m\u001b[1mTest Passed\u001b[22m\u001b[39m"
      ]
     },
     "metadata": {},
     "output_type": "display_data"
    }
   ],
   "source": [
    "# TODO: Overload foo for when the input is a ComplexF64 and return im\n",
    "foo(x::ComplexF64) = im\n",
    "\n",
    "@test foo(1.1 + 2im) == im"
   ]
  },
  {
   "cell_type": "markdown",
   "metadata": {},
   "source": [
    "------"
   ]
  },
  {
   "cell_type": "markdown",
   "metadata": {},
   "source": [
    "**Problem 2(a)** Consider the Taylor series approximation to the exponential:\n",
    "$$\n",
    "\\exp z ≈ ∑_{k=0}^n {z^k \\over k!}\n",
    "$$\n",
    "Complete the function `exp_t(z, n)` that computes this and returns a\n",
    "`Complex{Float64}` if the input is complex and a `Float64` if the input is real.\n",
    "Do not use the inbuilt `factorial` function.\n",
    "Hint: It might help to think inductively: for $s_k = z^k/k!$ we have\n",
    "$$\n",
    "  s_{k+1}  = {z \\over k+1} s_k.\n",
    "$$"
   ]
  },
  {
   "cell_type": "code",
   "execution_count": 17,
   "metadata": {},
   "outputs": [
    {
     "data": {
      "text/plain": [
       "\u001b[32m\u001b[1mTest Passed\u001b[22m\u001b[39m"
      ]
     },
     "metadata": {},
     "output_type": "display_data"
    }
   ],
   "source": [
    "function exp_t(z, n)\n",
    "    # TODO: Compute the first (n+1)-terms of the Taylor series of exp\n",
    "    # evaluated at z\n",
    "    sum = 1\n",
    "    s = z\n",
    "    for i = 1:n\n",
    "        sum = s + sum\n",
    "        s = (z/(i+1)) * s\n",
    "    end\n",
    "    sum\n",
    "end\n",
    "\n",
    "@test exp_t(1.0, 10) isa Float64 # isa is used to test the type of a result\n",
    "@test exp_t(im, 10) isa ComplexF64 # isa is used to test the type of a result\n",
    "\n",
    "@test exp_t(1.0, 100) ≈ exp(1)"
   ]
  },
  {
   "cell_type": "markdown",
   "metadata": {},
   "source": [
    "**Problem 2(b)** Plot the error for `n = 1:1000` of `exp_t(z, n)` for `z = 1, im, -5`, and `-100`,\n",
    "scaling the y-axis logarithmically.\n",
    "Does the method appear to converge for all values of $z$?"
   ]
  },
  {
   "cell_type": "code",
   "execution_count": 20,
   "metadata": {},
   "outputs": [
    {
     "data": {
      "image/png": "[encoded data removed]",
      "image/svg+xml": [
       "<?xml version=\"1.0\" encoding=\"utf-8\"?>\n",
       "<svg xmlns=\"http://www.w3.org/2000/svg\" xmlns:xlink=\"http://www.w3.org/1999/xlink\" width=\"600\" height=\"400\" viewBox=\"0 0 2400 1600\">\n",
       "<defs>\n",
       "  <clipPath id=\"clip990\">\n",
       "    <rect x=\"0\" y=\"0\" width=\"2400\" height=\"1600\"/>\n",
       "  </clipPath>\n",
       "</defs>\n",
       "<path clip-path=\"url(#clip990)\" d=\"M0 1600 L2400 1600 L2400 8.88178e-14 L0 8.88178e-14  Z\" fill=\"#ffffff\" fill-rule=\"evenodd\" fill-opacity=\"1\"/>\n",
       "<defs>\n",
       "  <clipPath id=\"clip991\">\n",
       "    <rect x=\"480\" y=\"0\" width=\"1681\" height=\"1600\"/>\n",
       "  </clipPath>\n",
       "</defs>\n",
       "<path clip-path=\"url(#clip990)\" d=\"M213.607 1486.45 L2352.76 1486.45 L2352.76 47.2441 L213.607 47.2441  Z\" fill=\"#ffffff\" fill-rule=\"evenodd\" fill-opacity=\"1\"/>\n",
       "<defs>\n",
       "  <clipPath id=\"clip992\">\n",
       "    <rect x=\"213\" y=\"47\" width=\"2140\" height=\"1440\"/>\n",
       "  </clipPath>\n",
       "</defs>\n",
       "<polyline clip-path=\"url(#clip992)\" style=\"stroke:#000000; stroke-linecap:round; stroke-linejoin:round; stroke-width:2; stroke-opacity:0.1; fill:none\" points=\"272.129,1486.45 272.129,47.2441 \"/>\n",
       "<polyline clip-path=\"url(#clip992)\" style=\"stroke:#000000; stroke-linecap:round; stroke-linejoin:round; stroke-width:2; stroke-opacity:0.1; fill:none\" points=\"777.15,1486.45 777.15,47.2441 \"/>\n",
       "<polyline clip-path=\"url(#clip992)\" style=\"stroke:#000000; stroke-linecap:round; stroke-linejoin:round; stroke-width:2; stroke-opacity:0.1; fill:none\" points=\"1282.17,1486.45 1282.17,47.2441 \"/>\n",
       "<polyline clip-path=\"url(#clip992)\" style=\"stroke:#000000; stroke-linecap:round; stroke-linejoin:round; stroke-width:2; stroke-opacity:0.1; fill:none\" points=\"1787.19,1486.45 1787.19,47.2441 \"/>\n",
       "<polyline clip-path=\"url(#clip992)\" style=\"stroke:#000000; stroke-linecap:round; stroke-linejoin:round; stroke-width:2; stroke-opacity:0.1; fill:none\" points=\"2292.21,1486.45 2292.21,47.2441 \"/>\n",
       "<polyline clip-path=\"url(#clip992)\" style=\"stroke:#000000; stroke-linecap:round; stroke-linejoin:round; stroke-width:2; stroke-opacity:0.1; fill:none\" points=\"213.607,1006.07 2352.76,1006.07 \"/>\n",
       "<polyline clip-path=\"url(#clip992)\" style=\"stroke:#000000; stroke-linecap:round; stroke-linejoin:round; stroke-width:2; stroke-opacity:0.1; fill:none\" points=\"213.607,184.7 2352.76,184.7 \"/>\n",
       "<polyline clip-path=\"url(#clip990)\" style=\"stroke:#000000; stroke-linecap:round; stroke-linejoin:round; stroke-width:4; stroke-opacity:1; fill:none\" points=\"213.607,1486.45 2352.76,1486.45 \"/>\n",
       "<polyline clip-path=\"url(#clip990)\" style=\"stroke:#000000; stroke-linecap:round; stroke-linejoin:round; stroke-width:4; stroke-opacity:1; fill:none\" points=\"272.129,1486.45 272.129,1467.55 \"/>\n",
       "<polyline clip-path=\"url(#clip990)\" style=\"stroke:#000000; stroke-linecap:round; stroke-linejoin:round; stroke-width:4; stroke-opacity:1; fill:none\" points=\"777.15,1486.45 777.15,1467.55 \"/>\n",
       "<polyline clip-path=\"url(#clip990)\" style=\"stroke:#000000; stroke-linecap:round; stroke-linejoin:round; stroke-width:4; stroke-opacity:1; fill:none\" points=\"1282.17,1486.45 1282.17,1467.55 \"/>\n",
       "<polyline clip-path=\"url(#clip990)\" style=\"stroke:#000000; stroke-linecap:round; stroke-linejoin:round; stroke-width:4; stroke-opacity:1; fill:none\" points=\"1787.19,1486.45 1787.19,1467.55 \"/>\n",
       "<polyline clip-path=\"url(#clip990)\" style=\"stroke:#000000; stroke-linecap:round; stroke-linejoin:round; stroke-width:4; stroke-opacity:1; fill:none\" points=\"2292.21,1486.45 2292.21,1467.55 \"/>\n",
       "<path clip-path=\"url(#clip990)\" d=\"M272.129 1517.37 Q268.518 1517.37 266.69 1520.93 Q264.884 1524.47 264.884 1531.6 Q264.884 1538.71 266.69 1542.27 Q268.518 1545.82 272.129 1545.82 Q275.764 1545.82 277.569 1542.27 Q279.398 1538.71 279.398 1531.6 Q279.398 1524.47 277.569 1520.93 Q275.764 1517.37 272.129 1517.37 M272.129 1513.66 Q277.939 1513.66 280.995 1518.27 Q284.074 1522.85 284.074 1531.6 Q284.074 1540.33 280.995 1544.94 Q277.939 1549.52 272.129 1549.52 Q266.319 1549.52 263.24 1544.94 Q260.185 1540.33 260.185 1531.6 Q260.185 1522.85 263.24 1518.27 Q266.319 1513.66 272.129 1513.66 Z\" fill=\"#000000\" fill-rule=\"nonzero\" fill-opacity=\"1\" /><path clip-path=\"url(#clip990)\" d=\"M740.843 1544.91 L757.162 1544.91 L757.162 1548.85 L735.218 1548.85 L735.218 1544.91 Q737.88 1542.16 742.463 1537.53 Q747.07 1532.88 748.25 1531.53 Q750.496 1529.01 751.375 1527.27 Q752.278 1525.51 752.278 1523.82 Q752.278 1521.07 750.334 1519.33 Q748.412 1517.6 745.31 1517.6 Q743.111 1517.6 740.658 1518.36 Q738.227 1519.13 735.449 1520.68 L735.449 1515.95 Q738.273 1514.82 740.727 1514.24 Q743.181 1513.66 745.218 1513.66 Q750.588 1513.66 753.783 1516.35 Q756.977 1519.03 756.977 1523.52 Q756.977 1525.65 756.167 1527.57 Q755.38 1529.47 753.273 1532.07 Q752.695 1532.74 749.593 1535.95 Q746.491 1539.15 740.843 1544.91 Z\" fill=\"#000000\" fill-rule=\"nonzero\" fill-opacity=\"1\" /><path clip-path=\"url(#clip990)\" d=\"M767.023 1514.29 L785.38 1514.29 L785.38 1518.22 L771.306 1518.22 L771.306 1526.7 Q772.324 1526.35 773.343 1526.19 Q774.361 1526 775.38 1526 Q781.167 1526 784.546 1529.17 Q787.926 1532.34 787.926 1537.76 Q787.926 1543.34 784.454 1546.44 Q780.981 1549.52 774.662 1549.52 Q772.486 1549.52 770.218 1549.15 Q767.972 1548.78 765.565 1548.04 L765.565 1543.34 Q767.648 1544.47 769.87 1545.03 Q772.093 1545.58 774.569 1545.58 Q778.574 1545.58 780.912 1543.48 Q783.25 1541.37 783.25 1537.76 Q783.25 1534.15 780.912 1532.04 Q778.574 1529.94 774.569 1529.94 Q772.694 1529.94 770.82 1530.35 Q768.968 1530.77 767.023 1531.65 L767.023 1514.29 Z\" fill=\"#000000\" fill-rule=\"nonzero\" fill-opacity=\"1\" /><path clip-path=\"url(#clip990)\" d=\"M807.139 1517.37 Q803.528 1517.37 801.699 1520.93 Q799.893 1524.47 799.893 1531.6 Q799.893 1538.71 801.699 1542.27 Q803.528 1545.82 807.139 1545.82 Q810.773 1545.82 812.579 1542.27 Q814.407 1538.71 814.407 1531.6 Q814.407 1524.47 812.579 1520.93 Q810.773 1517.37 807.139 1517.37 M807.139 1513.66 Q812.949 1513.66 816.004 1518.27 Q819.083 1522.85 819.083 1531.6 Q819.083 1540.33 816.004 1544.94 Q812.949 1549.52 807.139 1549.52 Q801.329 1549.52 798.25 1544.94 Q795.194 1540.33 795.194 1531.6 Q795.194 1522.85 798.25 1518.27 Q801.329 1513.66 807.139 1513.66 Z\" fill=\"#000000\" fill-rule=\"nonzero\" fill-opacity=\"1\" /><path clip-path=\"url(#clip990)\" d=\"M1241.79 1514.29 L1260.15 1514.29 L1260.15 1518.22 L1246.07 1518.22 L1246.07 1526.7 Q1247.09 1526.35 1248.11 1526.19 Q1249.13 1526 1250.15 1526 Q1255.93 1526 1259.31 1529.17 Q1262.69 1532.34 1262.69 1537.76 Q1262.69 1543.34 1259.22 1546.44 Q1255.75 1549.52 1249.43 1549.52 Q1247.25 1549.52 1244.98 1549.15 Q1242.74 1548.78 1240.33 1548.04 L1240.33 1543.34 Q1242.41 1544.47 1244.64 1545.03 Q1246.86 1545.58 1249.34 1545.58 Q1253.34 1545.58 1255.68 1543.48 Q1258.02 1541.37 1258.02 1537.76 Q1258.02 1534.15 1255.68 1532.04 Q1253.34 1529.94 1249.34 1529.94 Q1247.46 1529.94 1245.59 1530.35 Q1243.73 1530.77 1241.79 1531.65 L1241.79 1514.29 Z\" fill=\"#000000\" fill-rule=\"nonzero\" fill-opacity=\"1\" /><path clip-path=\"url(#clip990)\" d=\"M1281.91 1517.37 Q1278.29 1517.37 1276.47 1520.93 Q1274.66 1524.47 1274.66 1531.6 Q1274.66 1538.71 1276.47 1542.27 Q1278.29 1545.82 1281.91 1545.82 Q1285.54 1545.82 1287.35 1542.27 Q1289.17 1538.71 1289.17 1531.6 Q1289.17 1524.47 1287.35 1520.93 Q1285.54 1517.37 1281.91 1517.37 M1281.91 1513.66 Q1287.72 1513.66 1290.77 1518.27 Q1293.85 1522.85 1293.85 1531.6 Q1293.85 1540.33 1290.77 1544.94 Q1287.72 1549.52 1281.91 1549.52 Q1276.1 1549.52 1273.02 1544.94 Q1269.96 1540.33 1269.96 1531.6 Q1269.96 1522.85 1273.02 1518.27 Q1276.1 1513.66 1281.91 1513.66 Z\" fill=\"#000000\" fill-rule=\"nonzero\" fill-opacity=\"1\" /><path clip-path=\"url(#clip990)\" d=\"M1312.07 1517.37 Q1308.46 1517.37 1306.63 1520.93 Q1304.82 1524.47 1304.82 1531.6 Q1304.82 1538.71 1306.63 1542.27 Q1308.46 1545.82 1312.07 1545.82 Q1315.7 1545.82 1317.51 1542.27 Q1319.34 1538.71 1319.34 1531.6 Q1319.34 1524.47 1317.51 1520.93 Q1315.7 1517.37 1312.07 1517.37 M1312.07 1513.66 Q1317.88 1513.66 1320.93 1518.27 Q1324.01 1522.85 1324.01 1531.6 Q1324.01 1540.33 1320.93 1544.94 Q1317.88 1549.52 1312.07 1549.52 Q1306.26 1549.52 1303.18 1544.94 Q1300.12 1540.33 1300.12 1531.6 Q1300.12 1522.85 1303.18 1518.27 Q1306.26 1513.66 1312.07 1513.66 Z\" fill=\"#000000\" fill-rule=\"nonzero\" fill-opacity=\"1\" /><path clip-path=\"url(#clip990)\" d=\"M1745.47 1514.29 L1767.69 1514.29 L1767.69 1516.28 L1755.14 1548.85 L1750.26 1548.85 L1762.07 1518.22 L1745.47 1518.22 L1745.47 1514.29 Z\" fill=\"#000000\" fill-rule=\"nonzero\" fill-opacity=\"1\" /><path clip-path=\"url(#clip990)\" d=\"M1776.86 1514.29 L1795.21 1514.29 L1795.21 1518.22 L1781.14 1518.22 L1781.14 1526.7 Q1782.16 1526.35 1783.18 1526.19 Q1784.2 1526 1785.21 1526 Q1791 1526 1794.38 1529.17 Q1797.76 1532.34 1797.76 1537.76 Q1797.76 1543.34 1794.29 1546.44 Q1790.82 1549.52 1784.5 1549.52 Q1782.32 1549.52 1780.05 1549.15 Q1777.81 1548.78 1775.4 1548.04 L1775.4 1543.34 Q1777.48 1544.47 1779.7 1545.03 Q1781.93 1545.58 1784.4 1545.58 Q1788.41 1545.58 1790.75 1543.48 Q1793.08 1541.37 1793.08 1537.76 Q1793.08 1534.15 1790.75 1532.04 Q1788.41 1529.94 1784.4 1529.94 Q1782.53 1529.94 1780.65 1530.35 Q1778.8 1530.77 1776.86 1531.65 L1776.86 1514.29 Z\" fill=\"#000000\" fill-rule=\"nonzero\" fill-opacity=\"1\" /><path clip-path=\"url(#clip990)\" d=\"M1816.97 1517.37 Q1813.36 1517.37 1811.53 1520.93 Q1809.73 1524.47 1809.73 1531.6 Q1809.73 1538.71 1811.53 1542.27 Q1813.36 1545.82 1816.97 1545.82 Q1820.61 1545.82 1822.41 1542.27 Q1824.24 1538.71 1824.24 1531.6 Q1824.24 1524.47 1822.41 1520.93 Q1820.61 1517.37 1816.97 1517.37 M1816.97 1513.66 Q1822.78 1513.66 1825.84 1518.27 Q1828.92 1522.85 1828.92 1531.6 Q1828.92 1540.33 1825.84 1544.94 Q1822.78 1549.52 1816.97 1549.52 Q1811.16 1549.52 1808.08 1544.94 Q1805.03 1540.33 1805.03 1531.6 Q1805.03 1522.85 1808.08 1518.27 Q1811.16 1513.66 1816.97 1513.66 Z\" fill=\"#000000\" fill-rule=\"nonzero\" fill-opacity=\"1\" /><path clip-path=\"url(#clip990)\" d=\"M2236.74 1544.91 L2244.38 1544.91 L2244.38 1518.55 L2236.07 1520.21 L2236.07 1515.95 L2244.33 1514.29 L2249.01 1514.29 L2249.01 1544.91 L2256.65 1544.91 L2256.65 1548.85 L2236.74 1548.85 L2236.74 1544.91 Z\" fill=\"#000000\" fill-rule=\"nonzero\" fill-opacity=\"1\" /><path clip-path=\"url(#clip990)\" d=\"M2276.09 1517.37 Q2272.48 1517.37 2270.65 1520.93 Q2268.85 1524.47 2268.85 1531.6 Q2268.85 1538.71 2270.65 1542.27 Q2272.48 1545.82 2276.09 1545.82 Q2279.73 1545.82 2281.53 1542.27 Q2283.36 1538.71 2283.36 1531.6 Q2283.36 1524.47 2281.53 1520.93 Q2279.73 1517.37 2276.09 1517.37 M2276.09 1513.66 Q2281.9 1513.66 2284.96 1518.27 Q2288.04 1522.85 2288.04 1531.6 Q2288.04 1540.33 2284.96 1544.94 Q2281.9 1549.52 2276.09 1549.52 Q2270.28 1549.52 2267.2 1544.94 Q2264.15 1540.33 2264.15 1531.6 Q2264.15 1522.85 2267.2 1518.27 Q2270.28 1513.66 2276.09 1513.66 Z\" fill=\"#000000\" fill-rule=\"nonzero\" fill-opacity=\"1\" /><path clip-path=\"url(#clip990)\" d=\"M2306.25 1517.37 Q2302.64 1517.37 2300.81 1520.93 Q2299.01 1524.47 2299.01 1531.6 Q2299.01 1538.71 2300.81 1542.27 Q2302.64 1545.82 2306.25 1545.82 Q2309.89 1545.82 2311.69 1542.27 Q2313.52 1538.71 2313.52 1531.6 Q2313.52 1524.47 2311.69 1520.93 Q2309.89 1517.37 2306.25 1517.37 M2306.25 1513.66 Q2312.06 1513.66 2315.12 1518.27 Q2318.2 1522.85 2318.2 1531.6 Q2318.2 1540.33 2315.12 1544.94 Q2312.06 1549.52 2306.25 1549.52 Q2300.44 1549.52 2297.36 1544.94 Q2294.31 1540.33 2294.31 1531.6 Q2294.31 1522.85 2297.36 1518.27 Q2300.44 1513.66 2306.25 1513.66 Z\" fill=\"#000000\" fill-rule=\"nonzero\" fill-opacity=\"1\" /><path clip-path=\"url(#clip990)\" d=\"M2336.42 1517.37 Q2332.8 1517.37 2330.98 1520.93 Q2329.17 1524.47 2329.17 1531.6 Q2329.17 1538.71 2330.98 1542.27 Q2332.8 1545.82 2336.42 1545.82 Q2340.05 1545.82 2341.85 1542.27 Q2343.68 1538.71 2343.68 1531.6 Q2343.68 1524.47 2341.85 1520.93 Q2340.05 1517.37 2336.42 1517.37 M2336.42 1513.66 Q2342.23 1513.66 2345.28 1518.27 Q2348.36 1522.85 2348.36 1531.6 Q2348.36 1540.33 2345.28 1544.94 Q2342.23 1549.52 2336.42 1549.52 Q2330.6 1549.52 2327.53 1544.94 Q2324.47 1540.33 2324.47 1531.6 Q2324.47 1522.85 2327.53 1518.27 Q2330.6 1513.66 2336.42 1513.66 Z\" fill=\"#000000\" fill-rule=\"nonzero\" fill-opacity=\"1\" /><polyline clip-path=\"url(#clip990)\" style=\"stroke:#000000; stroke-linecap:round; stroke-linejoin:round; stroke-width:4; stroke-opacity:1; fill:none\" points=\"213.607,1486.45 213.607,47.2441 \"/>\n",
       "<polyline clip-path=\"url(#clip990)\" style=\"stroke:#000000; stroke-linecap:round; stroke-linejoin:round; stroke-width:4; stroke-opacity:1; fill:none\" points=\"213.607,1006.07 232.505,1006.07 \"/>\n",
       "<polyline clip-path=\"url(#clip990)\" style=\"stroke:#000000; stroke-linecap:round; stroke-linejoin:round; stroke-width:4; stroke-opacity:1; fill:none\" points=\"213.607,184.7 232.505,184.7 \"/>\n",
       "<path clip-path=\"url(#clip990)\" d=\"M51.6634 1025.87 L59.3023 1025.87 L59.3023 999.5 L50.9921 1001.17 L50.9921 996.907 L59.256 995.241 L63.9319 995.241 L63.9319 1025.87 L71.5707 1025.87 L71.5707 1029.8 L51.6634 1029.8 L51.6634 1025.87 Z\" fill=\"#000000\" fill-rule=\"nonzero\" fill-opacity=\"1\" /><path clip-path=\"url(#clip990)\" d=\"M91.0151 998.319 Q87.404 998.319 85.5753 1001.88 Q83.7697 1005.43 83.7697 1012.56 Q83.7697 1019.66 85.5753 1023.23 Q87.404 1026.77 91.0151 1026.77 Q94.6493 1026.77 96.4548 1023.23 Q98.2835 1019.66 98.2835 1012.56 Q98.2835 1005.43 96.4548 1001.88 Q94.6493 998.319 91.0151 998.319 M91.0151 994.616 Q96.8252 994.616 99.8808 999.222 Q102.959 1003.81 102.959 1012.56 Q102.959 1021.28 99.8808 1025.89 Q96.8252 1030.47 91.0151 1030.47 Q85.2049 1030.47 82.1262 1025.89 Q79.0707 1021.28 79.0707 1012.56 Q79.0707 1003.81 82.1262 999.222 Q85.2049 994.616 91.0151 994.616 Z\" fill=\"#000000\" fill-rule=\"nonzero\" fill-opacity=\"1\" /><path clip-path=\"url(#clip990)\" d=\"M102.959 988.717 L127.071 988.717 L127.071 991.914 L102.959 991.914 L102.959 988.717 Z\" fill=\"#000000\" fill-rule=\"nonzero\" fill-opacity=\"1\" /><path clip-path=\"url(#clip990)\" d=\"M135.929 999.193 L142.136 999.193 L142.136 977.771 L135.384 979.125 L135.384 975.665 L142.098 974.31 L145.898 974.31 L145.898 999.193 L152.104 999.193 L152.104 1002.39 L135.929 1002.39 L135.929 999.193 Z\" fill=\"#000000\" fill-rule=\"nonzero\" fill-opacity=\"1\" /><path clip-path=\"url(#clip990)\" d=\"M167.903 976.812 Q164.969 976.812 163.483 979.708 Q162.016 982.586 162.016 988.379 Q162.016 994.153 163.483 997.049 Q164.969 999.927 167.903 999.927 Q170.855 999.927 172.322 997.049 Q173.808 994.153 173.808 988.379 Q173.808 982.586 172.322 979.708 Q170.855 976.812 167.903 976.812 M167.903 973.803 Q172.623 973.803 175.106 977.545 Q177.607 981.269 177.607 988.379 Q177.607 995.469 175.106 999.212 Q172.623 1002.94 167.903 1002.94 Q163.182 1002.94 160.68 999.212 Q158.198 995.469 158.198 988.379 Q158.198 981.269 160.68 977.545 Q163.182 973.803 167.903 973.803 Z\" fill=\"#000000\" fill-rule=\"nonzero\" fill-opacity=\"1\" /><path clip-path=\"url(#clip990)\" d=\"M106.902 204.492 L114.541 204.492 L114.541 178.127 L106.231 179.793 L106.231 175.534 L114.494 173.867 L119.17 173.867 L119.17 204.492 L126.809 204.492 L126.809 208.427 L106.902 208.427 L106.902 204.492 Z\" fill=\"#000000\" fill-rule=\"nonzero\" fill-opacity=\"1\" /><path clip-path=\"url(#clip990)\" d=\"M146.253 176.946 Q142.642 176.946 140.814 180.511 Q139.008 184.053 139.008 191.182 Q139.008 198.289 140.814 201.853 Q142.642 205.395 146.253 205.395 Q149.888 205.395 151.693 201.853 Q153.522 198.289 153.522 191.182 Q153.522 184.053 151.693 180.511 Q149.888 176.946 146.253 176.946 M146.253 173.242 Q152.064 173.242 155.119 177.849 Q158.198 182.432 158.198 191.182 Q158.198 199.909 155.119 204.515 Q152.064 209.099 146.253 209.099 Q140.443 209.099 137.365 204.515 Q134.309 199.909 134.309 191.182 Q134.309 182.432 137.365 177.849 Q140.443 173.242 146.253 173.242 Z\" fill=\"#000000\" fill-rule=\"nonzero\" fill-opacity=\"1\" /><path clip-path=\"url(#clip990)\" d=\"M167.903 155.438 Q164.969 155.438 163.483 158.335 Q162.016 161.212 162.016 167.005 Q162.016 172.779 163.483 175.676 Q164.969 178.553 167.903 178.553 Q170.855 178.553 172.322 175.676 Q173.808 172.779 173.808 167.005 Q173.808 161.212 172.322 158.335 Q170.855 155.438 167.903 155.438 M167.903 152.429 Q172.623 152.429 175.106 156.172 Q177.607 159.896 177.607 167.005 Q177.607 174.096 175.106 177.839 Q172.623 181.562 167.903 181.562 Q163.182 181.562 160.68 177.839 Q158.198 174.096 158.198 167.005 Q158.198 159.896 160.68 156.172 Q163.182 152.429 167.903 152.429 Z\" fill=\"#000000\" fill-rule=\"nonzero\" fill-opacity=\"1\" /><polyline clip-path=\"url(#clip992)\" style=\"stroke:#009af9; stroke-linecap:round; stroke-linejoin:round; stroke-width:4; stroke-opacity:1; fill:none\" points=\"274.149,196.503 276.169,238.991 278.19,290.429 280.21,349.159 282.23,414.01 284.25,484.121 286.27,558.837 288.29,637.644 290.31,720.13 292.33,805.957 294.35,894.842 296.37,986.546 298.39,1080.87 300.411,1177.65 302.431,1277.08 304.451,1388.3 306.471,1445.72 308.491,1445.72 310.511,1445.72 312.531,1445.72 314.551,1445.72 316.571,1445.72 318.591,1445.72 320.611,1445.72 322.631,1445.72 324.652,1445.72 326.672,1445.72 328.692,1445.72 330.712,1445.72 332.732,1445.72 334.752,1445.72 336.772,1445.72 338.792,1445.72 340.812,1445.72 342.832,1445.72 344.852,1445.72 346.872,1445.72 348.893,1445.72 350.913,1445.72 352.933,1445.72 354.953,1445.72 356.973,1445.72 358.993,1445.72 361.013,1445.72 363.033,1445.72 365.053,1445.72 367.073,1445.72 369.093,1445.72 371.113,1445.72 373.134,1445.72 375.154,1445.72 377.174,1445.72 379.194,1445.72 381.214,1445.72 383.234,1445.72 385.254,1445.72 387.274,1445.72 389.294,1445.72 391.314,1445.72 393.334,1445.72 395.354,1445.72 397.375,1445.72 399.395,1445.72 401.415,1445.72 403.435,1445.72 405.455,1445.72 407.475,1445.72 409.495,1445.72 411.515,1445.72 413.535,1445.72 415.555,1445.72 417.575,1445.72 419.596,1445.72 421.616,1445.72 423.636,1445.72 425.656,1445.72 427.676,1445.72 429.696,1445.72 431.716,1445.72 433.736,1445.72 435.756,1445.72 437.776,1445.72 439.796,1445.72 441.816,1445.72 443.837,1445.72 445.857,1445.72 447.877,1445.72 449.897,1445.72 451.917,1445.72 453.937,1445.72 455.957,1445.72 457.977,1445.72 459.997,1445.72 462.017,1445.72 464.037,1445.72 466.057,1445.72 468.078,1445.72 470.098,1445.72 472.118,1445.72 474.138,1445.72 476.158,1445.72 478.178,1445.72 480.198,1445.72 482.218,1445.72 484.238,1445.72 486.258,1445.72 488.278,1445.72 490.298,1445.72 492.319,1445.72 494.339,1445.72 496.359,1445.72 498.379,1445.72 500.399,1445.72 502.419,1445.72 504.439,1445.72 506.459,1445.72 508.479,1445.72 510.499,1445.72 512.519,1445.72 514.539,1445.72 516.56,1445.72 518.58,1445.72 520.6,1445.72 522.62,1445.72 524.64,1445.72 526.66,1445.72 528.68,1445.72 530.7,1445.72 532.72,1445.72 534.74,1445.72 536.76,1445.72 538.781,1445.72 540.801,1445.72 542.821,1445.72 544.841,1445.72 546.861,1445.72 548.881,1445.72 550.901,1445.72 552.921,1445.72 554.941,1445.72 556.961,1445.72 558.981,1445.72 561.001,1445.72 563.022,1445.72 565.042,1445.72 567.062,1445.72 569.082,1445.72 571.102,1445.72 573.122,1445.72 575.142,1445.72 577.162,1445.72 579.182,1445.72 581.202,1445.72 583.222,1445.72 585.242,1445.72 587.263,1445.72 589.283,1445.72 591.303,1445.72 593.323,1445.72 595.343,1445.72 597.363,1445.72 599.383,1445.72 601.403,1445.72 603.423,1445.72 605.443,1445.72 607.463,1445.72 609.483,1445.72 611.504,1445.72 613.524,1445.72 615.544,1445.72 617.564,1445.72 619.584,1445.72 621.604,1445.72 623.624,1445.72 625.644,1445.72 627.664,1445.72 629.684,1445.72 631.704,1445.72 633.724,1445.72 635.745,1445.72 637.765,1445.72 639.785,1445.72 641.805,1445.72 643.825,1445.72 645.845,1445.72 647.865,1445.72 649.885,1445.72 651.905,1445.72 653.925,1445.72 655.945,1445.72 657.965,1445.72 659.986,1445.72 662.006,1445.72 664.026,1445.72 666.046,1445.72 668.066,1445.72 670.086,1445.72 672.106,1445.72 674.126,1445.72 676.146,1445.72 678.166,1445.72 680.186,1445.72 682.207,1445.72 684.227,1445.72 686.247,1445.72 688.267,1445.72 690.287,1445.72 692.307,1445.72 694.327,1445.72 696.347,1445.72 698.367,1445.72 700.387,1445.72 702.407,1445.72 704.427,1445.72 706.448,1445.72 708.468,1445.72 710.488,1445.72 712.508,1445.72 714.528,1445.72 716.548,1445.72 718.568,1445.72 720.588,1445.72 722.608,1445.72 724.628,1445.72 726.648,1445.72 728.668,1445.72 730.689,1445.72 732.709,1445.72 734.729,1445.72 736.749,1445.72 738.769,1445.72 740.789,1445.72 742.809,1445.72 744.829,1445.72 746.849,1445.72 748.869,1445.72 750.889,1445.72 752.909,1445.72 754.93,1445.72 756.95,1445.72 758.97,1445.72 760.99,1445.72 763.01,1445.72 765.03,1445.72 767.05,1445.72 769.07,1445.72 771.09,1445.72 773.11,1445.72 775.13,1445.72 777.15,1445.72 779.171,1445.72 781.191,1445.72 783.211,1445.72 785.231,1445.72 787.251,1445.72 789.271,1445.72 791.291,1445.72 793.311,1445.72 795.331,1445.72 797.351,1445.72 799.371,1445.72 801.392,1445.72 803.412,1445.72 805.432,1445.72 807.452,1445.72 809.472,1445.72 811.492,1445.72 813.512,1445.72 815.532,1445.72 817.552,1445.72 819.572,1445.72 821.592,1445.72 823.612,1445.72 825.633,1445.72 827.653,1445.72 829.673,1445.72 831.693,1445.72 833.713,1445.72 835.733,1445.72 837.753,1445.72 839.773,1445.72 841.793,1445.72 843.813,1445.72 845.833,1445.72 847.853,1445.72 849.874,1445.72 851.894,1445.72 853.914,1445.72 855.934,1445.72 857.954,1445.72 859.974,1445.72 861.994,1445.72 864.014,1445.72 866.034,1445.72 868.054,1445.72 870.074,1445.72 872.094,1445.72 874.115,1445.72 876.135,1445.72 878.155,1445.72 880.175,1445.72 882.195,1445.72 884.215,1445.72 886.235,1445.72 888.255,1445.72 890.275,1445.72 892.295,1445.72 894.315,1445.72 896.335,1445.72 898.356,1445.72 900.376,1445.72 902.396,1445.72 904.416,1445.72 906.436,1445.72 908.456,1445.72 910.476,1445.72 912.496,1445.72 914.516,1445.72 916.536,1445.72 918.556,1445.72 920.576,1445.72 922.597,1445.72 924.617,1445.72 926.637,1445.72 928.657,1445.72 930.677,1445.72 932.697,1445.72 934.717,1445.72 936.737,1445.72 938.757,1445.72 940.777,1445.72 942.797,1445.72 944.818,1445.72 946.838,1445.72 948.858,1445.72 950.878,1445.72 952.898,1445.72 954.918,1445.72 956.938,1445.72 958.958,1445.72 960.978,1445.72 962.998,1445.72 965.018,1445.72 967.038,1445.72 969.059,1445.72 971.079,1445.72 973.099,1445.72 975.119,1445.72 977.139,1445.72 979.159,1445.72 981.179,1445.72 983.199,1445.72 985.219,1445.72 987.239,1445.72 989.259,1445.72 991.279,1445.72 993.3,1445.72 995.32,1445.72 997.34,1445.72 999.36,1445.72 1001.38,1445.72 1003.4,1445.72 1005.42,1445.72 1007.44,1445.72 1009.46,1445.72 1011.48,1445.72 1013.5,1445.72 1015.52,1445.72 1017.54,1445.72 1019.56,1445.72 1021.58,1445.72 1023.6,1445.72 1025.62,1445.72 1027.64,1445.72 1029.66,1445.72 1031.68,1445.72 1033.7,1445.72 1035.72,1445.72 1037.74,1445.72 1039.76,1445.72 1041.78,1445.72 1043.8,1445.72 1045.82,1445.72 1047.84,1445.72 1049.86,1445.72 1051.88,1445.72 1053.9,1445.72 1055.92,1445.72 1057.94,1445.72 1059.96,1445.72 1061.98,1445.72 1064,1445.72 1066.02,1445.72 1068.04,1445.72 1070.06,1445.72 1072.08,1445.72 1074.1,1445.72 1076.12,1445.72 1078.14,1445.72 1080.16,1445.72 1082.18,1445.72 1084.2,1445.72 1086.22,1445.72 1088.24,1445.72 1090.26,1445.72 1092.28,1445.72 1094.3,1445.72 1096.32,1445.72 1098.34,1445.72 1100.36,1445.72 1102.38,1445.72 1104.4,1445.72 1106.42,1445.72 1108.44,1445.72 1110.46,1445.72 1112.48,1445.72 1114.5,1445.72 1116.52,1445.72 1118.54,1445.72 1120.56,1445.72 1122.58,1445.72 1124.61,1445.72 1126.63,1445.72 1128.65,1445.72 1130.67,1445.72 1132.69,1445.72 1134.71,1445.72 1136.73,1445.72 1138.75,1445.72 1140.77,1445.72 1142.79,1445.72 1144.81,1445.72 1146.83,1445.72 1148.85,1445.72 1150.87,1445.72 1152.89,1445.72 1154.91,1445.72 1156.93,1445.72 1158.95,1445.72 1160.97,1445.72 1162.99,1445.72 1165.01,1445.72 1167.03,1445.72 1169.05,1445.72 1171.07,1445.72 1173.09,1445.72 1175.11,1445.72 1177.13,1445.72 1179.15,1445.72 1181.17,1445.72 1183.19,1445.72 1185.21,1445.72 1187.23,1445.72 1189.25,1445.72 1191.27,1445.72 1193.29,1445.72 1195.31,1445.72 1197.33,1445.72 1199.35,1445.72 1201.37,1445.72 1203.39,1445.72 1205.41,1445.72 1207.43,1445.72 1209.45,1445.72 1211.47,1445.72 1213.49,1445.72 1215.51,1445.72 1217.53,1445.72 1219.55,1445.72 1221.57,1445.72 1223.59,1445.72 1225.61,1445.72 1227.63,1445.72 1229.65,1445.72 1231.67,1445.72 1233.69,1445.72 1235.71,1445.72 1237.73,1445.72 1239.75,1445.72 1241.77,1445.72 1243.79,1445.72 1245.81,1445.72 1247.83,1445.72 1249.85,1445.72 1251.87,1445.72 1253.89,1445.72 1255.91,1445.72 1257.93,1445.72 1259.95,1445.72 1261.97,1445.72 1263.99,1445.72 1266.01,1445.72 1268.03,1445.72 1270.05,1445.72 1272.07,1445.72 1274.09,1445.72 1276.11,1445.72 1278.13,1445.72 1280.15,1445.72 1282.17,1445.72 1284.19,1445.72 1286.21,1445.72 1288.23,1445.72 1290.25,1445.72 1292.27,1445.72 1294.29,1445.72 1296.31,1445.72 1298.33,1445.72 1300.35,1445.72 1302.37,1445.72 1304.39,1445.72 1306.41,1445.72 1308.43,1445.72 1310.45,1445.72 1312.47,1445.72 1314.49,1445.72 1316.51,1445.72 1318.53,1445.72 1320.55,1445.72 1322.57,1445.72 1324.59,1445.72 1326.61,1445.72 1328.63,1445.72 1330.65,1445.72 1332.67,1445.72 1334.69,1445.72 1336.71,1445.72 1338.73,1445.72 1340.75,1445.72 1342.77,1445.72 1344.79,1445.72 1346.81,1445.72 1348.83,1445.72 1350.85,1445.72 1352.87,1445.72 1354.89,1445.72 1356.91,1445.72 1358.93,1445.72 1360.95,1445.72 1362.98,1445.72 1365,1445.72 1367.02,1445.72 1369.04,1445.72 1371.06,1445.72 1373.08,1445.72 1375.1,1445.72 1377.12,1445.72 1379.14,1445.72 1381.16,1445.72 1383.18,1445.72 1385.2,1445.72 1387.22,1445.72 1389.24,1445.72 1391.26,1445.72 1393.28,1445.72 1395.3,1445.72 1397.32,1445.72 1399.34,1445.72 1401.36,1445.72 1403.38,1445.72 1405.4,1445.72 1407.42,1445.72 1409.44,1445.72 1411.46,1445.72 1413.48,1445.72 1415.5,1445.72 1417.52,1445.72 1419.54,1445.72 1421.56,1445.72 1423.58,1445.72 1425.6,1445.72 1427.62,1445.72 1429.64,1445.72 1431.66,1445.72 1433.68,1445.72 1435.7,1445.72 1437.72,1445.72 1439.74,1445.72 1441.76,1445.72 1443.78,1445.72 1445.8,1445.72 1447.82,1445.72 1449.84,1445.72 1451.86,1445.72 1453.88,1445.72 1455.9,1445.72 1457.92,1445.72 1459.94,1445.72 1461.96,1445.72 1463.98,1445.72 1466,1445.72 1468.02,1445.72 1470.04,1445.72 1472.06,1445.72 1474.08,1445.72 1476.1,1445.72 1478.12,1445.72 1480.14,1445.72 1482.16,1445.72 1484.18,1445.72 1486.2,1445.72 1488.22,1445.72 1490.24,1445.72 1492.26,1445.72 1494.28,1445.72 1496.3,1445.72 1498.32,1445.72 1500.34,1445.72 1502.36,1445.72 1504.38,1445.72 1506.4,1445.72 1508.42,1445.72 1510.44,1445.72 1512.46,1445.72 1514.48,1445.72 1516.5,1445.72 1518.52,1445.72 1520.54,1445.72 1522.56,1445.72 1524.58,1445.72 1526.6,1445.72 1528.62,1445.72 1530.64,1445.72 1532.66,1445.72 1534.68,1445.72 1536.7,1445.72 1538.72,1445.72 1540.74,1445.72 1542.76,1445.72 1544.78,1445.72 1546.8,1445.72 1548.82,1445.72 1550.84,1445.72 1552.86,1445.72 1554.88,1445.72 1556.9,1445.72 1558.92,1445.72 1560.94,1445.72 1562.96,1445.72 1564.98,1445.72 1567,1445.72 1569.02,1445.72 1571.04,1445.72 1573.06,1445.72 1575.08,1445.72 1577.1,1445.72 1579.12,1445.72 1581.14,1445.72 1583.16,1445.72 1585.18,1445.72 1587.2,1445.72 1589.22,1445.72 1591.24,1445.72 1593.26,1445.72 1595.28,1445.72 1597.3,1445.72 1599.32,1445.72 1601.35,1445.72 1603.37,1445.72 1605.39,1445.72 1607.41,1445.72 1609.43,1445.72 1611.45,1445.72 1613.47,1445.72 1615.49,1445.72 1617.51,1445.72 1619.53,1445.72 1621.55,1445.72 1623.57,1445.72 1625.59,1445.72 1627.61,1445.72 1629.63,1445.72 1631.65,1445.72 1633.67,1445.72 1635.69,1445.72 1637.71,1445.72 1639.73,1445.72 1641.75,1445.72 1643.77,1445.72 1645.79,1445.72 1647.81,1445.72 1649.83,1445.72 1651.85,1445.72 1653.87,1445.72 1655.89,1445.72 1657.91,1445.72 1659.93,1445.72 1661.95,1445.72 1663.97,1445.72 1665.99,1445.72 1668.01,1445.72 1670.03,1445.72 1672.05,1445.72 1674.07,1445.72 1676.09,1445.72 1678.11,1445.72 1680.13,1445.72 1682.15,1445.72 1684.17,1445.72 1686.19,1445.72 1688.21,1445.72 1690.23,1445.72 1692.25,1445.72 1694.27,1445.72 1696.29,1445.72 1698.31,1445.72 1700.33,1445.72 1702.35,1445.72 1704.37,1445.72 1706.39,1445.72 1708.41,1445.72 1710.43,1445.72 1712.45,1445.72 1714.47,1445.72 1716.49,1445.72 1718.51,1445.72 1720.53,1445.72 1722.55,1445.72 1724.57,1445.72 1726.59,1445.72 1728.61,1445.72 1730.63,1445.72 1732.65,1445.72 1734.67,1445.72 1736.69,1445.72 1738.71,1445.72 1740.73,1445.72 1742.75,1445.72 1744.77,1445.72 1746.79,1445.72 1748.81,1445.72 1750.83,1445.72 1752.85,1445.72 1754.87,1445.72 1756.89,1445.72 1758.91,1445.72 1760.93,1445.72 1762.95,1445.72 1764.97,1445.72 1766.99,1445.72 1769.01,1445.72 1771.03,1445.72 1773.05,1445.72 1775.07,1445.72 1777.09,1445.72 1779.11,1445.72 1781.13,1445.72 1783.15,1445.72 1785.17,1445.72 1787.19,1445.72 1789.21,1445.72 1791.23,1445.72 1793.25,1445.72 1795.27,1445.72 1797.29,1445.72 1799.31,1445.72 1801.33,1445.72 1803.35,1445.72 1805.37,1445.72 1807.39,1445.72 1809.41,1445.72 1811.43,1445.72 1813.45,1445.72 1815.47,1445.72 1817.49,1445.72 1819.51,1445.72 1821.53,1445.72 1823.55,1445.72 1825.57,1445.72 1827.59,1445.72 1829.61,1445.72 1831.63,1445.72 1833.65,1445.72 1835.67,1445.72 1837.69,1445.72 1839.72,1445.72 1841.74,1445.72 1843.76,1445.72 1845.78,1445.72 1847.8,1445.72 1849.82,1445.72 1851.84,1445.72 1853.86,1445.72 1855.88,1445.72 1857.9,1445.72 1859.92,1445.72 1861.94,1445.72 1863.96,1445.72 1865.98,1445.72 1868,1445.72 1870.02,1445.72 1872.04,1445.72 1874.06,1445.72 1876.08,1445.72 1878.1,1445.72 1880.12,1445.72 1882.14,1445.72 1884.16,1445.72 1886.18,1445.72 1888.2,1445.72 1890.22,1445.72 1892.24,1445.72 1894.26,1445.72 1896.28,1445.72 1898.3,1445.72 1900.32,1445.72 1902.34,1445.72 1904.36,1445.72 1906.38,1445.72 1908.4,1445.72 1910.42,1445.72 1912.44,1445.72 1914.46,1445.72 1916.48,1445.72 1918.5,1445.72 1920.52,1445.72 1922.54,1445.72 1924.56,1445.72 1926.58,1445.72 1928.6,1445.72 1930.62,1445.72 1932.64,1445.72 1934.66,1445.72 1936.68,1445.72 1938.7,1445.72 1940.72,1445.72 1942.74,1445.72 1944.76,1445.72 1946.78,1445.72 1948.8,1445.72 1950.82,1445.72 1952.84,1445.72 1954.86,1445.72 1956.88,1445.72 1958.9,1445.72 1960.92,1445.72 1962.94,1445.72 1964.96,1445.72 1966.98,1445.72 1969,1445.72 1971.02,1445.72 1973.04,1445.72 1975.06,1445.72 1977.08,1445.72 1979.1,1445.72 1981.12,1445.72 1983.14,1445.72 1985.16,1445.72 1987.18,1445.72 1989.2,1445.72 1991.22,1445.72 1993.24,1445.72 1995.26,1445.72 1997.28,1445.72 1999.3,1445.72 2001.32,1445.72 2003.34,1445.72 2005.36,1445.72 2007.38,1445.72 2009.4,1445.72 2011.42,1445.72 2013.44,1445.72 2015.46,1445.72 2017.48,1445.72 2019.5,1445.72 2021.52,1445.72 2023.54,1445.72 2025.56,1445.72 2027.58,1445.72 2029.6,1445.72 2031.62,1445.72 2033.64,1445.72 2035.66,1445.72 2037.68,1445.72 2039.7,1445.72 2041.72,1445.72 2043.74,1445.72 2045.76,1445.72 2047.78,1445.72 2049.8,1445.72 2051.82,1445.72 2053.84,1445.72 2055.86,1445.72 2057.88,1445.72 2059.9,1445.72 2061.92,1445.72 2063.94,1445.72 2065.96,1445.72 2067.98,1445.72 2070,1445.72 2072.02,1445.72 2074.04,1445.72 2076.06,1445.72 2078.08,1445.72 2080.11,1445.72 2082.13,1445.72 2084.15,1445.72 2086.17,1445.72 2088.19,1445.72 2090.21,1445.72 2092.23,1445.72 2094.25,1445.72 2096.27,1445.72 2098.29,1445.72 2100.31,1445.72 2102.33,1445.72 2104.35,1445.72 2106.37,1445.72 2108.39,1445.72 2110.41,1445.72 2112.43,1445.72 2114.45,1445.72 2116.47,1445.72 2118.49,1445.72 2120.51,1445.72 2122.53,1445.72 2124.55,1445.72 2126.57,1445.72 2128.59,1445.72 2130.61,1445.72 2132.63,1445.72 2134.65,1445.72 2136.67,1445.72 2138.69,1445.72 2140.71,1445.72 2142.73,1445.72 2144.75,1445.72 2146.77,1445.72 2148.79,1445.72 2150.81,1445.72 2152.83,1445.72 2154.85,1445.72 2156.87,1445.72 2158.89,1445.72 2160.91,1445.72 2162.93,1445.72 2164.95,1445.72 2166.97,1445.72 2168.99,1445.72 2171.01,1445.72 2173.03,1445.72 2175.05,1445.72 2177.07,1445.72 2179.09,1445.72 2181.11,1445.72 2183.13,1445.72 2185.15,1445.72 2187.17,1445.72 2189.19,1445.72 2191.21,1445.72 2193.23,1445.72 2195.25,1445.72 2197.27,1445.72 2199.29,1445.72 2201.31,1445.72 2203.33,1445.72 2205.35,1445.72 2207.37,1445.72 2209.39,1445.72 2211.41,1445.72 2213.43,1445.72 2215.45,1445.72 2217.47,1445.72 2219.49,1445.72 2221.51,1445.72 2223.53,1445.72 2225.55,1445.72 2227.57,1445.72 2229.59,1445.72 2231.61,1445.72 2233.63,1445.72 2235.65,1445.72 2237.67,1445.72 2239.69,1445.72 2241.71,1445.72 2243.73,1445.72 2245.75,1445.72 2247.77,1445.72 2249.79,1445.72 2251.81,1445.72 2253.83,1445.72 2255.85,1445.72 2257.87,1445.72 2259.89,1445.72 2261.91,1445.72 2263.93,1445.72 2265.95,1445.72 2267.97,1445.72 2269.99,1445.72 2272.01,1445.72 2274.03,1445.72 2276.05,1445.72 2278.07,1445.72 2280.09,1445.72 2282.11,1445.72 2284.13,1445.72 2286.15,1445.72 2288.17,1445.72 2290.19,1445.72 2292.21,1445.72 \"/>\n",
       "<polyline clip-path=\"url(#clip992)\" style=\"stroke:#e26f46; stroke-linecap:round; stroke-linejoin:round; stroke-width:4; stroke-opacity:1; fill:none\" points=\"274.149,160.187 276.169,152.979 278.19,153.924 280.21,154.516 282.23,154.47 284.25,154.45 286.27,154.451 288.29,154.452 290.31,154.452 292.33,154.452 294.35,154.452 296.37,154.452 298.39,154.452 300.411,154.452 302.431,154.452 304.451,154.452 306.471,154.452 308.491,154.452 310.511,154.452 312.531,154.452 314.551,154.452 316.571,154.452 318.591,154.452 320.611,154.452 322.631,154.452 324.652,154.452 326.672,154.452 328.692,154.452 330.712,154.452 332.732,154.452 334.752,154.452 336.772,154.452 338.792,154.452 340.812,154.452 342.832,154.452 344.852,154.452 346.872,154.452 348.893,154.452 350.913,154.452 352.933,154.452 354.953,154.452 356.973,154.452 358.993,154.452 361.013,154.452 363.033,154.452 365.053,154.452 367.073,154.452 369.093,154.452 371.113,154.452 373.134,154.452 375.154,154.452 377.174,154.452 379.194,154.452 381.214,154.452 383.234,154.452 385.254,154.452 387.274,154.452 389.294,154.452 391.314,154.452 393.334,154.452 395.354,154.452 397.375,154.452 399.395,154.452 401.415,154.452 403.435,154.452 405.455,154.452 407.475,154.452 409.495,154.452 411.515,154.452 413.535,154.452 415.555,154.452 417.575,154.452 419.596,154.452 421.616,154.452 423.636,154.452 425.656,154.452 427.676,154.452 429.696,154.452 431.716,154.452 433.736,154.452 435.756,154.452 437.776,154.452 439.796,154.452 441.816,154.452 443.837,154.452 445.857,154.452 447.877,154.452 449.897,154.452 451.917,154.452 453.937,154.452 455.957,154.452 457.977,154.452 459.997,154.452 462.017,154.452 464.037,154.452 466.057,154.452 468.078,154.452 470.098,154.452 472.118,154.452 474.138,154.452 476.158,154.452 478.178,154.452 480.198,154.452 482.218,154.452 484.238,154.452 486.258,154.452 488.278,154.452 490.298,154.452 492.319,154.452 494.339,154.452 496.359,154.452 498.379,154.452 500.399,154.452 502.419,154.452 504.439,154.452 506.459,154.452 508.479,154.452 510.499,154.452 512.519,154.452 514.539,154.452 516.56,154.452 518.58,154.452 520.6,154.452 522.62,154.452 524.64,154.452 526.66,154.452 528.68,154.452 530.7,154.452 532.72,154.452 534.74,154.452 536.76,154.452 538.781,154.452 540.801,154.452 542.821,154.452 544.841,154.452 546.861,154.452 548.881,154.452 550.901,154.452 552.921,154.452 554.941,154.452 556.961,154.452 558.981,154.452 561.001,154.452 563.022,154.452 565.042,154.452 567.062,154.452 569.082,154.452 571.102,154.452 573.122,154.452 575.142,154.452 577.162,154.452 579.182,154.452 581.202,154.452 583.222,154.452 585.242,154.452 587.263,154.452 589.283,154.452 591.303,154.452 593.323,154.452 595.343,154.452 597.363,154.452 599.383,154.452 601.403,154.452 603.423,154.452 605.443,154.452 607.463,154.452 609.483,154.452 611.504,154.452 613.524,154.452 615.544,154.452 617.564,154.452 619.584,154.452 621.604,154.452 623.624,154.452 625.644,154.452 627.664,154.452 629.684,154.452 631.704,154.452 633.724,154.452 635.745,154.452 637.765,154.452 639.785,154.452 641.805,154.452 643.825,154.452 645.845,154.452 647.865,154.452 649.885,154.452 651.905,154.452 653.925,154.452 655.945,154.452 657.965,154.452 659.986,154.452 662.006,154.452 664.026,154.452 666.046,154.452 668.066,154.452 670.086,154.452 672.106,154.452 674.126,154.452 676.146,154.452 678.166,154.452 680.186,154.452 682.207,154.452 684.227,154.452 686.247,154.452 688.267,154.452 690.287,154.452 692.307,154.452 694.327,154.452 696.347,154.452 698.367,154.452 700.387,154.452 702.407,154.452 704.427,154.452 706.448,154.452 708.468,154.452 710.488,154.452 712.508,154.452 714.528,154.452 716.548,154.452 718.568,154.452 720.588,154.452 722.608,154.452 724.628,154.452 726.648,154.452 728.668,154.452 730.689,154.452 732.709,154.452 734.729,154.452 736.749,154.452 738.769,154.452 740.789,154.452 742.809,154.452 744.829,154.452 746.849,154.452 748.869,154.452 750.889,154.452 752.909,154.452 754.93,154.452 756.95,154.452 758.97,154.452 760.99,154.452 763.01,154.452 765.03,154.452 767.05,154.452 769.07,154.452 771.09,154.452 773.11,154.452 775.13,154.452 777.15,154.452 779.171,154.452 781.191,154.452 783.211,154.452 785.231,154.452 787.251,154.452 789.271,154.452 791.291,154.452 793.311,154.452 795.331,154.452 797.351,154.452 799.371,154.452 801.392,154.452 803.412,154.452 805.432,154.452 807.452,154.452 809.472,154.452 811.492,154.452 813.512,154.452 815.532,154.452 817.552,154.452 819.572,154.452 821.592,154.452 823.612,154.452 825.633,154.452 827.653,154.452 829.673,154.452 831.693,154.452 833.713,154.452 835.733,154.452 837.753,154.452 839.773,154.452 841.793,154.452 843.813,154.452 845.833,154.452 847.853,154.452 849.874,154.452 851.894,154.452 853.914,154.452 855.934,154.452 857.954,154.452 859.974,154.452 861.994,154.452 864.014,154.452 866.034,154.452 868.054,154.452 870.074,154.452 872.094,154.452 874.115,154.452 876.135,154.452 878.155,154.452 880.175,154.452 882.195,154.452 884.215,154.452 886.235,154.452 888.255,154.452 890.275,154.452 892.295,154.452 894.315,154.452 896.335,154.452 898.356,154.452 900.376,154.452 902.396,154.452 904.416,154.452 906.436,154.452 908.456,154.452 910.476,154.452 912.496,154.452 914.516,154.452 916.536,154.452 918.556,154.452 920.576,154.452 922.597,154.452 924.617,154.452 926.637,154.452 928.657,154.452 930.677,154.452 932.697,154.452 934.717,154.452 936.737,154.452 938.757,154.452 940.777,154.452 942.797,154.452 944.818,154.452 946.838,154.452 948.858,154.452 950.878,154.452 952.898,154.452 954.918,154.452 956.938,154.452 958.958,154.452 960.978,154.452 962.998,154.452 965.018,154.452 967.038,154.452 969.059,154.452 971.079,154.452 973.099,154.452 975.119,154.452 977.139,154.452 979.159,154.452 981.179,154.452 983.199,154.452 985.219,154.452 987.239,154.452 989.259,154.452 991.279,154.452 993.3,154.452 995.32,154.452 997.34,154.452 999.36,154.452 1001.38,154.452 1003.4,154.452 1005.42,154.452 1007.44,154.452 1009.46,154.452 1011.48,154.452 1013.5,154.452 1015.52,154.452 1017.54,154.452 1019.56,154.452 1021.58,154.452 1023.6,154.452 1025.62,154.452 1027.64,154.452 1029.66,154.452 1031.68,154.452 1033.7,154.452 1035.72,154.452 1037.74,154.452 1039.76,154.452 1041.78,154.452 1043.8,154.452 1045.82,154.452 1047.84,154.452 1049.86,154.452 1051.88,154.452 1053.9,154.452 1055.92,154.452 1057.94,154.452 1059.96,154.452 1061.98,154.452 1064,154.452 1066.02,154.452 1068.04,154.452 1070.06,154.452 1072.08,154.452 1074.1,154.452 1076.12,154.452 1078.14,154.452 1080.16,154.452 1082.18,154.452 1084.2,154.452 1086.22,154.452 1088.24,154.452 1090.26,154.452 1092.28,154.452 1094.3,154.452 1096.32,154.452 1098.34,154.452 1100.36,154.452 1102.38,154.452 1104.4,154.452 1106.42,154.452 1108.44,154.452 1110.46,154.452 1112.48,154.452 1114.5,154.452 1116.52,154.452 1118.54,154.452 1120.56,154.452 1122.58,154.452 1124.61,154.452 1126.63,154.452 1128.65,154.452 1130.67,154.452 1132.69,154.452 1134.71,154.452 1136.73,154.452 1138.75,154.452 1140.77,154.452 1142.79,154.452 1144.81,154.452 1146.83,154.452 1148.85,154.452 1150.87,154.452 1152.89,154.452 1154.91,154.452 1156.93,154.452 1158.95,154.452 1160.97,154.452 1162.99,154.452 1165.01,154.452 1167.03,154.452 1169.05,154.452 1171.07,154.452 1173.09,154.452 1175.11,154.452 1177.13,154.452 1179.15,154.452 1181.17,154.452 1183.19,154.452 1185.21,154.452 1187.23,154.452 1189.25,154.452 1191.27,154.452 1193.29,154.452 1195.31,154.452 1197.33,154.452 1199.35,154.452 1201.37,154.452 1203.39,154.452 1205.41,154.452 1207.43,154.452 1209.45,154.452 1211.47,154.452 1213.49,154.452 1215.51,154.452 1217.53,154.452 1219.55,154.452 1221.57,154.452 1223.59,154.452 1225.61,154.452 1227.63,154.452 1229.65,154.452 1231.67,154.452 1233.69,154.452 1235.71,154.452 1237.73,154.452 1239.75,154.452 1241.77,154.452 1243.79,154.452 1245.81,154.452 1247.83,154.452 1249.85,154.452 1251.87,154.452 1253.89,154.452 1255.91,154.452 1257.93,154.452 1259.95,154.452 1261.97,154.452 1263.99,154.452 1266.01,154.452 1268.03,154.452 1270.05,154.452 1272.07,154.452 1274.09,154.452 1276.11,154.452 1278.13,154.452 1280.15,154.452 1282.17,154.452 1284.19,154.452 1286.21,154.452 1288.23,154.452 1290.25,154.452 1292.27,154.452 1294.29,154.452 1296.31,154.452 1298.33,154.452 1300.35,154.452 1302.37,154.452 1304.39,154.452 1306.41,154.452 1308.43,154.452 1310.45,154.452 1312.47,154.452 1314.49,154.452 1316.51,154.452 1318.53,154.452 1320.55,154.452 1322.57,154.452 1324.59,154.452 1326.61,154.452 1328.63,154.452 1330.65,154.452 1332.67,154.452 1334.69,154.452 1336.71,154.452 1338.73,154.452 1340.75,154.452 1342.77,154.452 1344.79,154.452 1346.81,154.452 1348.83,154.452 1350.85,154.452 1352.87,154.452 1354.89,154.452 1356.91,154.452 1358.93,154.452 1360.95,154.452 1362.98,154.452 1365,154.452 1367.02,154.452 1369.04,154.452 1371.06,154.452 1373.08,154.452 1375.1,154.452 1377.12,154.452 1379.14,154.452 1381.16,154.452 1383.18,154.452 1385.2,154.452 1387.22,154.452 1389.24,154.452 1391.26,154.452 1393.28,154.452 1395.3,154.452 1397.32,154.452 1399.34,154.452 1401.36,154.452 1403.38,154.452 1405.4,154.452 1407.42,154.452 1409.44,154.452 1411.46,154.452 1413.48,154.452 1415.5,154.452 1417.52,154.452 1419.54,154.452 1421.56,154.452 1423.58,154.452 1425.6,154.452 1427.62,154.452 1429.64,154.452 1431.66,154.452 1433.68,154.452 1435.7,154.452 1437.72,154.452 1439.74,154.452 1441.76,154.452 1443.78,154.452 1445.8,154.452 1447.82,154.452 1449.84,154.452 1451.86,154.452 1453.88,154.452 1455.9,154.452 1457.92,154.452 1459.94,154.452 1461.96,154.452 1463.98,154.452 1466,154.452 1468.02,154.452 1470.04,154.452 1472.06,154.452 1474.08,154.452 1476.1,154.452 1478.12,154.452 1480.14,154.452 1482.16,154.452 1484.18,154.452 1486.2,154.452 1488.22,154.452 1490.24,154.452 1492.26,154.452 1494.28,154.452 1496.3,154.452 1498.32,154.452 1500.34,154.452 1502.36,154.452 1504.38,154.452 1506.4,154.452 1508.42,154.452 1510.44,154.452 1512.46,154.452 1514.48,154.452 1516.5,154.452 1518.52,154.452 1520.54,154.452 1522.56,154.452 1524.58,154.452 1526.6,154.452 1528.62,154.452 1530.64,154.452 1532.66,154.452 1534.68,154.452 1536.7,154.452 1538.72,154.452 1540.74,154.452 1542.76,154.452 1544.78,154.452 1546.8,154.452 1548.82,154.452 1550.84,154.452 1552.86,154.452 1554.88,154.452 1556.9,154.452 1558.92,154.452 1560.94,154.452 1562.96,154.452 1564.98,154.452 1567,154.452 1569.02,154.452 1571.04,154.452 1573.06,154.452 1575.08,154.452 1577.1,154.452 1579.12,154.452 1581.14,154.452 1583.16,154.452 1585.18,154.452 1587.2,154.452 1589.22,154.452 1591.24,154.452 1593.26,154.452 1595.28,154.452 1597.3,154.452 1599.32,154.452 1601.35,154.452 1603.37,154.452 1605.39,154.452 1607.41,154.452 1609.43,154.452 1611.45,154.452 1613.47,154.452 1615.49,154.452 1617.51,154.452 1619.53,154.452 1621.55,154.452 1623.57,154.452 1625.59,154.452 1627.61,154.452 1629.63,154.452 1631.65,154.452 1633.67,154.452 1635.69,154.452 1637.71,154.452 1639.73,154.452 1641.75,154.452 1643.77,154.452 1645.79,154.452 1647.81,154.452 1649.83,154.452 1651.85,154.452 1653.87,154.452 1655.89,154.452 1657.91,154.452 1659.93,154.452 1661.95,154.452 1663.97,154.452 1665.99,154.452 1668.01,154.452 1670.03,154.452 1672.05,154.452 1674.07,154.452 1676.09,154.452 1678.11,154.452 1680.13,154.452 1682.15,154.452 1684.17,154.452 1686.19,154.452 1688.21,154.452 1690.23,154.452 1692.25,154.452 1694.27,154.452 1696.29,154.452 1698.31,154.452 1700.33,154.452 1702.35,154.452 1704.37,154.452 1706.39,154.452 1708.41,154.452 1710.43,154.452 1712.45,154.452 1714.47,154.452 1716.49,154.452 1718.51,154.452 1720.53,154.452 1722.55,154.452 1724.57,154.452 1726.59,154.452 1728.61,154.452 1730.63,154.452 1732.65,154.452 1734.67,154.452 1736.69,154.452 1738.71,154.452 1740.73,154.452 1742.75,154.452 1744.77,154.452 1746.79,154.452 1748.81,154.452 1750.83,154.452 1752.85,154.452 1754.87,154.452 1756.89,154.452 1758.91,154.452 1760.93,154.452 1762.95,154.452 1764.97,154.452 1766.99,154.452 1769.01,154.452 1771.03,154.452 1773.05,154.452 1775.07,154.452 1777.09,154.452 1779.11,154.452 1781.13,154.452 1783.15,154.452 1785.17,154.452 1787.19,154.452 1789.21,154.452 1791.23,154.452 1793.25,154.452 1795.27,154.452 1797.29,154.452 1799.31,154.452 1801.33,154.452 1803.35,154.452 1805.37,154.452 1807.39,154.452 1809.41,154.452 1811.43,154.452 1813.45,154.452 1815.47,154.452 1817.49,154.452 1819.51,154.452 1821.53,154.452 1823.55,154.452 1825.57,154.452 1827.59,154.452 1829.61,154.452 1831.63,154.452 1833.65,154.452 1835.67,154.452 1837.69,154.452 1839.72,154.452 1841.74,154.452 1843.76,154.452 1845.78,154.452 1847.8,154.452 1849.82,154.452 1851.84,154.452 1853.86,154.452 1855.88,154.452 1857.9,154.452 1859.92,154.452 1861.94,154.452 1863.96,154.452 1865.98,154.452 1868,154.452 1870.02,154.452 1872.04,154.452 1874.06,154.452 1876.08,154.452 1878.1,154.452 1880.12,154.452 1882.14,154.452 1884.16,154.452 1886.18,154.452 1888.2,154.452 1890.22,154.452 1892.24,154.452 1894.26,154.452 1896.28,154.452 1898.3,154.452 1900.32,154.452 1902.34,154.452 1904.36,154.452 1906.38,154.452 1908.4,154.452 1910.42,154.452 1912.44,154.452 1914.46,154.452 1916.48,154.452 1918.5,154.452 1920.52,154.452 1922.54,154.452 1924.56,154.452 1926.58,154.452 1928.6,154.452 1930.62,154.452 1932.64,154.452 1934.66,154.452 1936.68,154.452 1938.7,154.452 1940.72,154.452 1942.74,154.452 1944.76,154.452 1946.78,154.452 1948.8,154.452 1950.82,154.452 1952.84,154.452 1954.86,154.452 1956.88,154.452 1958.9,154.452 1960.92,154.452 1962.94,154.452 1964.96,154.452 1966.98,154.452 1969,154.452 1971.02,154.452 1973.04,154.452 1975.06,154.452 1977.08,154.452 1979.1,154.452 1981.12,154.452 1983.14,154.452 1985.16,154.452 1987.18,154.452 1989.2,154.452 1991.22,154.452 1993.24,154.452 1995.26,154.452 1997.28,154.452 1999.3,154.452 2001.32,154.452 2003.34,154.452 2005.36,154.452 2007.38,154.452 2009.4,154.452 2011.42,154.452 2013.44,154.452 2015.46,154.452 2017.48,154.452 2019.5,154.452 2021.52,154.452 2023.54,154.452 2025.56,154.452 2027.58,154.452 2029.6,154.452 2031.62,154.452 2033.64,154.452 2035.66,154.452 2037.68,154.452 2039.7,154.452 2041.72,154.452 2043.74,154.452 2045.76,154.452 2047.78,154.452 2049.8,154.452 2051.82,154.452 2053.84,154.452 2055.86,154.452 2057.88,154.452 2059.9,154.452 2061.92,154.452 2063.94,154.452 2065.96,154.452 2067.98,154.452 2070,154.452 2072.02,154.452 2074.04,154.452 2076.06,154.452 2078.08,154.452 2080.11,154.452 2082.13,154.452 2084.15,154.452 2086.17,154.452 2088.19,154.452 2090.21,154.452 2092.23,154.452 2094.25,154.452 2096.27,154.452 2098.29,154.452 2100.31,154.452 2102.33,154.452 2104.35,154.452 2106.37,154.452 2108.39,154.452 2110.41,154.452 2112.43,154.452 2114.45,154.452 2116.47,154.452 2118.49,154.452 2120.51,154.452 2122.53,154.452 2124.55,154.452 2126.57,154.452 2128.59,154.452 2130.61,154.452 2132.63,154.452 2134.65,154.452 2136.67,154.452 2138.69,154.452 2140.71,154.452 2142.73,154.452 2144.75,154.452 2146.77,154.452 2148.79,154.452 2150.81,154.452 2152.83,154.452 2154.85,154.452 2156.87,154.452 2158.89,154.452 2160.91,154.452 2162.93,154.452 2164.95,154.452 2166.97,154.452 2168.99,154.452 2171.01,154.452 2173.03,154.452 2175.05,154.452 2177.07,154.452 2179.09,154.452 2181.11,154.452 2183.13,154.452 2185.15,154.452 2187.17,154.452 2189.19,154.452 2191.21,154.452 2193.23,154.452 2195.25,154.452 2197.27,154.452 2199.29,154.452 2201.31,154.452 2203.33,154.452 2205.35,154.452 2207.37,154.452 2209.39,154.452 2211.41,154.452 2213.43,154.452 2215.45,154.452 2217.47,154.452 2219.49,154.452 2221.51,154.452 2223.53,154.452 2225.55,154.452 2227.57,154.452 2229.59,154.452 2231.61,154.452 2233.63,154.452 2235.65,154.452 2237.67,154.452 2239.69,154.452 2241.71,154.452 2243.73,154.452 2245.75,154.452 2247.77,154.452 2249.79,154.452 2251.81,154.452 2253.83,154.452 2255.85,154.452 2257.87,154.452 2259.89,154.452 2261.91,154.452 2263.93,154.452 2265.95,154.452 2267.97,154.452 2269.99,154.452 2272.01,154.452 2274.03,154.452 2276.05,154.452 2278.07,154.452 2280.09,154.452 2282.11,154.452 2284.13,154.452 2286.15,154.452 2288.17,154.452 2290.19,154.452 2292.21,154.452 \"/>\n",
       "<polyline clip-path=\"url(#clip992)\" style=\"stroke:#3da44d; stroke-linecap:round; stroke-linejoin:round; stroke-width:4; stroke-opacity:1; fill:none\" points=\"274.149,116.751 276.169,122.106 278.19,87.9763 280.21,99.1949 282.23,87.9763 284.25,117.117 286.27,106.916 288.29,191.051 290.31,130.689 292.33,162.673 294.35,144.601 296.37,151.059 298.39,148.435 300.411,149.35 302.431,149.043 304.451,149.139 306.471,149.11 308.491,149.118 310.511,149.116 312.531,149.117 314.551,149.117 316.571,149.117 318.591,149.117 320.611,149.117 322.631,149.117 324.652,149.117 326.672,149.117 328.692,149.117 330.712,149.117 332.732,149.117 334.752,149.117 336.772,149.117 338.792,149.117 340.812,149.117 342.832,149.117 344.852,149.117 346.872,149.117 348.893,149.117 350.913,149.117 352.933,149.117 354.953,149.117 356.973,149.117 358.993,149.117 361.013,149.117 363.033,149.117 365.053,149.117 367.073,149.117 369.093,149.117 371.113,149.117 373.134,149.117 375.154,149.117 377.174,149.117 379.194,149.117 381.214,149.117 383.234,149.117 385.254,149.117 387.274,149.117 389.294,149.117 391.314,149.117 393.334,149.117 395.354,149.117 397.375,149.117 399.395,149.117 401.415,149.117 403.435,149.117 405.455,149.117 407.475,149.117 409.495,149.117 411.515,149.117 413.535,149.117 415.555,149.117 417.575,149.117 419.596,149.117 421.616,149.117 423.636,149.117 425.656,149.117 427.676,149.117 429.696,149.117 431.716,149.117 433.736,149.117 435.756,149.117 437.776,149.117 439.796,149.117 441.816,149.117 443.837,149.117 445.857,149.117 447.877,149.117 449.897,149.117 451.917,149.117 453.937,149.117 455.957,149.117 457.977,149.117 459.997,149.117 462.017,149.117 464.037,149.117 466.057,149.117 468.078,149.117 470.098,149.117 472.118,149.117 474.138,149.117 476.158,149.117 478.178,149.117 480.198,149.117 482.218,149.117 484.238,149.117 486.258,149.117 488.278,149.117 490.298,149.117 492.319,149.117 494.339,149.117 496.359,149.117 498.379,149.117 500.399,149.117 502.419,149.117 504.439,149.117 506.459,149.117 508.479,149.117 510.499,149.117 512.519,149.117 514.539,149.117 516.56,149.117 518.58,149.117 520.6,149.117 522.62,149.117 524.64,149.117 526.66,149.117 528.68,149.117 530.7,149.117 532.72,149.117 534.74,149.117 536.76,149.117 538.781,149.117 540.801,149.117 542.821,149.117 544.841,149.117 546.861,149.117 548.881,149.117 550.901,149.117 552.921,149.117 554.941,149.117 556.961,149.117 558.981,149.117 561.001,149.117 563.022,149.117 565.042,149.117 567.062,149.117 569.082,149.117 571.102,149.117 573.122,149.117 575.142,149.117 577.162,149.117 579.182,149.117 581.202,149.117 583.222,149.117 585.242,149.117 587.263,149.117 589.283,149.117 591.303,149.117 593.323,149.117 595.343,149.117 597.363,149.117 599.383,149.117 601.403,149.117 603.423,149.117 605.443,149.117 607.463,149.117 609.483,149.117 611.504,149.117 613.524,149.117 615.544,149.117 617.564,149.117 619.584,149.117 621.604,149.117 623.624,149.117 625.644,149.117 627.664,149.117 629.684,149.117 631.704,149.117 633.724,149.117 635.745,149.117 637.765,149.117 639.785,149.117 641.805,149.117 643.825,149.117 645.845,149.117 647.865,149.117 649.885,149.117 651.905,149.117 653.925,149.117 655.945,149.117 657.965,149.117 659.986,149.117 662.006,149.117 664.026,149.117 666.046,149.117 668.066,149.117 670.086,149.117 672.106,149.117 674.126,149.117 676.146,149.117 678.166,149.117 680.186,149.117 682.207,149.117 684.227,149.117 686.247,149.117 688.267,149.117 690.287,149.117 692.307,149.117 694.327,149.117 696.347,149.117 698.367,149.117 700.387,149.117 702.407,149.117 704.427,149.117 706.448,149.117 708.468,149.117 710.488,149.117 712.508,149.117 714.528,149.117 716.548,149.117 718.568,149.117 720.588,149.117 722.608,149.117 724.628,149.117 726.648,149.117 728.668,149.117 730.689,149.117 732.709,149.117 734.729,149.117 736.749,149.117 738.769,149.117 740.789,149.117 742.809,149.117 744.829,149.117 746.849,149.117 748.869,149.117 750.889,149.117 752.909,149.117 754.93,149.117 756.95,149.117 758.97,149.117 760.99,149.117 763.01,149.117 765.03,149.117 767.05,149.117 769.07,149.117 771.09,149.117 773.11,149.117 775.13,149.117 777.15,149.117 779.171,149.117 781.191,149.117 783.211,149.117 785.231,149.117 787.251,149.117 789.271,149.117 791.291,149.117 793.311,149.117 795.331,149.117 797.351,149.117 799.371,149.117 801.392,149.117 803.412,149.117 805.432,149.117 807.452,149.117 809.472,149.117 811.492,149.117 813.512,149.117 815.532,149.117 817.552,149.117 819.572,149.117 821.592,149.117 823.612,149.117 825.633,149.117 827.653,149.117 829.673,149.117 831.693,149.117 833.713,149.117 835.733,149.117 837.753,149.117 839.773,149.117 841.793,149.117 843.813,149.117 845.833,149.117 847.853,149.117 849.874,149.117 851.894,149.117 853.914,149.117 855.934,149.117 857.954,149.117 859.974,149.117 861.994,149.117 864.014,149.117 866.034,149.117 868.054,149.117 870.074,149.117 872.094,149.117 874.115,149.117 876.135,149.117 878.155,149.117 880.175,149.117 882.195,149.117 884.215,149.117 886.235,149.117 888.255,149.117 890.275,149.117 892.295,149.117 894.315,149.117 896.335,149.117 898.356,149.117 900.376,149.117 902.396,149.117 904.416,149.117 906.436,149.117 908.456,149.117 910.476,149.117 912.496,149.117 914.516,149.117 916.536,149.117 918.556,149.117 920.576,149.117 922.597,149.117 924.617,149.117 926.637,149.117 928.657,149.117 930.677,149.117 932.697,149.117 934.717,149.117 936.737,149.117 938.757,149.117 940.777,149.117 942.797,149.117 944.818,149.117 946.838,149.117 948.858,149.117 950.878,149.117 952.898,149.117 954.918,149.117 956.938,149.117 958.958,149.117 960.978,149.117 962.998,149.117 965.018,149.117 967.038,149.117 969.059,149.117 971.079,149.117 973.099,149.117 975.119,149.117 977.139,149.117 979.159,149.117 981.179,149.117 983.199,149.117 985.219,149.117 987.239,149.117 989.259,149.117 991.279,149.117 993.3,149.117 995.32,149.117 997.34,149.117 999.36,149.117 1001.38,149.117 1003.4,149.117 1005.42,149.117 1007.44,149.117 1009.46,149.117 1011.48,149.117 1013.5,149.117 1015.52,149.117 1017.54,149.117 1019.56,149.117 1021.58,149.117 1023.6,149.117 1025.62,149.117 1027.64,149.117 1029.66,149.117 1031.68,149.117 1033.7,149.117 1035.72,149.117 1037.74,149.117 1039.76,149.117 1041.78,149.117 1043.8,149.117 1045.82,149.117 1047.84,149.117 1049.86,149.117 1051.88,149.117 1053.9,149.117 1055.92,149.117 1057.94,149.117 1059.96,149.117 1061.98,149.117 1064,149.117 1066.02,149.117 1068.04,149.117 1070.06,149.117 1072.08,149.117 1074.1,149.117 1076.12,149.117 1078.14,149.117 1080.16,149.117 1082.18,149.117 1084.2,149.117 1086.22,149.117 1088.24,149.117 1090.26,149.117 1092.28,149.117 1094.3,149.117 1096.32,149.117 1098.34,149.117 1100.36,149.117 1102.38,149.117 1104.4,149.117 1106.42,149.117 1108.44,149.117 1110.46,149.117 1112.48,149.117 1114.5,149.117 1116.52,149.117 1118.54,149.117 1120.56,149.117 1122.58,149.117 1124.61,149.117 1126.63,149.117 1128.65,149.117 1130.67,149.117 1132.69,149.117 1134.71,149.117 1136.73,149.117 1138.75,149.117 1140.77,149.117 1142.79,149.117 1144.81,149.117 1146.83,149.117 1148.85,149.117 1150.87,149.117 1152.89,149.117 1154.91,149.117 1156.93,149.117 1158.95,149.117 1160.97,149.117 1162.99,149.117 1165.01,149.117 1167.03,149.117 1169.05,149.117 1171.07,149.117 1173.09,149.117 1175.11,149.117 1177.13,149.117 1179.15,149.117 1181.17,149.117 1183.19,149.117 1185.21,149.117 1187.23,149.117 1189.25,149.117 1191.27,149.117 1193.29,149.117 1195.31,149.117 1197.33,149.117 1199.35,149.117 1201.37,149.117 1203.39,149.117 1205.41,149.117 1207.43,149.117 1209.45,149.117 1211.47,149.117 1213.49,149.117 1215.51,149.117 1217.53,149.117 1219.55,149.117 1221.57,149.117 1223.59,149.117 1225.61,149.117 1227.63,149.117 1229.65,149.117 1231.67,149.117 1233.69,149.117 1235.71,149.117 1237.73,149.117 1239.75,149.117 1241.77,149.117 1243.79,149.117 1245.81,149.117 1247.83,149.117 1249.85,149.117 1251.87,149.117 1253.89,149.117 1255.91,149.117 1257.93,149.117 1259.95,149.117 1261.97,149.117 1263.99,149.117 1266.01,149.117 1268.03,149.117 1270.05,149.117 1272.07,149.117 1274.09,149.117 1276.11,149.117 1278.13,149.117 1280.15,149.117 1282.17,149.117 1284.19,149.117 1286.21,149.117 1288.23,149.117 1290.25,149.117 1292.27,149.117 1294.29,149.117 1296.31,149.117 1298.33,149.117 1300.35,149.117 1302.37,149.117 1304.39,149.117 1306.41,149.117 1308.43,149.117 1310.45,149.117 1312.47,149.117 1314.49,149.117 1316.51,149.117 1318.53,149.117 1320.55,149.117 1322.57,149.117 1324.59,149.117 1326.61,149.117 1328.63,149.117 1330.65,149.117 1332.67,149.117 1334.69,149.117 1336.71,149.117 1338.73,149.117 1340.75,149.117 1342.77,149.117 1344.79,149.117 1346.81,149.117 1348.83,149.117 1350.85,149.117 1352.87,149.117 1354.89,149.117 1356.91,149.117 1358.93,149.117 1360.95,149.117 1362.98,149.117 1365,149.117 1367.02,149.117 1369.04,149.117 1371.06,149.117 1373.08,149.117 1375.1,149.117 1377.12,149.117 1379.14,149.117 1381.16,149.117 1383.18,149.117 1385.2,149.117 1387.22,149.117 1389.24,149.117 1391.26,149.117 1393.28,149.117 1395.3,149.117 1397.32,149.117 1399.34,149.117 1401.36,149.117 1403.38,149.117 1405.4,149.117 1407.42,149.117 1409.44,149.117 1411.46,149.117 1413.48,149.117 1415.5,149.117 1417.52,149.117 1419.54,149.117 1421.56,149.117 1423.58,149.117 1425.6,149.117 1427.62,149.117 1429.64,149.117 1431.66,149.117 1433.68,149.117 1435.7,149.117 1437.72,149.117 1439.74,149.117 1441.76,149.117 1443.78,149.117 1445.8,149.117 1447.82,149.117 1449.84,149.117 1451.86,149.117 1453.88,149.117 1455.9,149.117 1457.92,149.117 1459.94,149.117 1461.96,149.117 1463.98,149.117 1466,149.117 1468.02,149.117 1470.04,149.117 1472.06,149.117 1474.08,149.117 1476.1,149.117 1478.12,149.117 1480.14,149.117 1482.16,149.117 1484.18,149.117 1486.2,149.117 1488.22,149.117 1490.24,149.117 1492.26,149.117 1494.28,149.117 1496.3,149.117 1498.32,149.117 1500.34,149.117 1502.36,149.117 1504.38,149.117 1506.4,149.117 1508.42,149.117 1510.44,149.117 1512.46,149.117 1514.48,149.117 1516.5,149.117 1518.52,149.117 1520.54,149.117 1522.56,149.117 1524.58,149.117 1526.6,149.117 1528.62,149.117 1530.64,149.117 1532.66,149.117 1534.68,149.117 1536.7,149.117 1538.72,149.117 1540.74,149.117 1542.76,149.117 1544.78,149.117 1546.8,149.117 1548.82,149.117 1550.84,149.117 1552.86,149.117 1554.88,149.117 1556.9,149.117 1558.92,149.117 1560.94,149.117 1562.96,149.117 1564.98,149.117 1567,149.117 1569.02,149.117 1571.04,149.117 1573.06,149.117 1575.08,149.117 1577.1,149.117 1579.12,149.117 1581.14,149.117 1583.16,149.117 1585.18,149.117 1587.2,149.117 1589.22,149.117 1591.24,149.117 1593.26,149.117 1595.28,149.117 1597.3,149.117 1599.32,149.117 1601.35,149.117 1603.37,149.117 1605.39,149.117 1607.41,149.117 1609.43,149.117 1611.45,149.117 1613.47,149.117 1615.49,149.117 1617.51,149.117 1619.53,149.117 1621.55,149.117 1623.57,149.117 1625.59,149.117 1627.61,149.117 1629.63,149.117 1631.65,149.117 1633.67,149.117 1635.69,149.117 1637.71,149.117 1639.73,149.117 1641.75,149.117 1643.77,149.117 1645.79,149.117 1647.81,149.117 1649.83,149.117 1651.85,149.117 1653.87,149.117 1655.89,149.117 1657.91,149.117 1659.93,149.117 1661.95,149.117 1663.97,149.117 1665.99,149.117 1668.01,149.117 1670.03,149.117 1672.05,149.117 1674.07,149.117 1676.09,149.117 1678.11,149.117 1680.13,149.117 1682.15,149.117 1684.17,149.117 1686.19,149.117 1688.21,149.117 1690.23,149.117 1692.25,149.117 1694.27,149.117 1696.29,149.117 1698.31,149.117 1700.33,149.117 1702.35,149.117 1704.37,149.117 1706.39,149.117 1708.41,149.117 1710.43,149.117 1712.45,149.117 1714.47,149.117 1716.49,149.117 1718.51,149.117 1720.53,149.117 1722.55,149.117 1724.57,149.117 1726.59,149.117 1728.61,149.117 1730.63,149.117 1732.65,149.117 1734.67,149.117 1736.69,149.117 1738.71,149.117 1740.73,149.117 1742.75,149.117 1744.77,149.117 1746.79,149.117 1748.81,149.117 1750.83,149.117 1752.85,149.117 1754.87,149.117 1756.89,149.117 1758.91,149.117 1760.93,149.117 1762.95,149.117 1764.97,149.117 1766.99,149.117 1769.01,149.117 1771.03,149.117 1773.05,149.117 1775.07,149.117 1777.09,149.117 1779.11,149.117 1781.13,149.117 1783.15,149.117 1785.17,149.117 1787.19,149.117 1789.21,149.117 1791.23,149.117 1793.25,149.117 1795.27,149.117 1797.29,149.117 1799.31,149.117 1801.33,149.117 1803.35,149.117 1805.37,149.117 1807.39,149.117 1809.41,149.117 1811.43,149.117 1813.45,149.117 1815.47,149.117 1817.49,149.117 1819.51,149.117 1821.53,149.117 1823.55,149.117 1825.57,149.117 1827.59,149.117 1829.61,149.117 1831.63,149.117 1833.65,149.117 1835.67,149.117 1837.69,149.117 1839.72,149.117 1841.74,149.117 1843.76,149.117 1845.78,149.117 1847.8,149.117 1849.82,149.117 1851.84,149.117 1853.86,149.117 1855.88,149.117 1857.9,149.117 1859.92,149.117 1861.94,149.117 1863.96,149.117 1865.98,149.117 1868,149.117 1870.02,149.117 1872.04,149.117 1874.06,149.117 1876.08,149.117 1878.1,149.117 1880.12,149.117 1882.14,149.117 1884.16,149.117 1886.18,149.117 1888.2,149.117 1890.22,149.117 1892.24,149.117 1894.26,149.117 1896.28,149.117 1898.3,149.117 1900.32,149.117 1902.34,149.117 1904.36,149.117 1906.38,149.117 1908.4,149.117 1910.42,149.117 1912.44,149.117 1914.46,149.117 1916.48,149.117 1918.5,149.117 1920.52,149.117 1922.54,149.117 1924.56,149.117 1926.58,149.117 1928.6,149.117 1930.62,149.117 1932.64,149.117 1934.66,149.117 1936.68,149.117 1938.7,149.117 1940.72,149.117 1942.74,149.117 1944.76,149.117 1946.78,149.117 1948.8,149.117 1950.82,149.117 1952.84,149.117 1954.86,149.117 1956.88,149.117 1958.9,149.117 1960.92,149.117 1962.94,149.117 1964.96,149.117 1966.98,149.117 1969,149.117 1971.02,149.117 1973.04,149.117 1975.06,149.117 1977.08,149.117 1979.1,149.117 1981.12,149.117 1983.14,149.117 1985.16,149.117 1987.18,149.117 1989.2,149.117 1991.22,149.117 1993.24,149.117 1995.26,149.117 1997.28,149.117 1999.3,149.117 2001.32,149.117 2003.34,149.117 2005.36,149.117 2007.38,149.117 2009.4,149.117 2011.42,149.117 2013.44,149.117 2015.46,149.117 2017.48,149.117 2019.5,149.117 2021.52,149.117 2023.54,149.117 2025.56,149.117 2027.58,149.117 2029.6,149.117 2031.62,149.117 2033.64,149.117 2035.66,149.117 2037.68,149.117 2039.7,149.117 2041.72,149.117 2043.74,149.117 2045.76,149.117 2047.78,149.117 2049.8,149.117 2051.82,149.117 2053.84,149.117 2055.86,149.117 2057.88,149.117 2059.9,149.117 2061.92,149.117 2063.94,149.117 2065.96,149.117 2067.98,149.117 2070,149.117 2072.02,149.117 2074.04,149.117 2076.06,149.117 2078.08,149.117 2080.11,149.117 2082.13,149.117 2084.15,149.117 2086.17,149.117 2088.19,149.117 2090.21,149.117 2092.23,149.117 2094.25,149.117 2096.27,149.117 2098.29,149.117 2100.31,149.117 2102.33,149.117 2104.35,149.117 2106.37,149.117 2108.39,149.117 2110.41,149.117 2112.43,149.117 2114.45,149.117 2116.47,149.117 2118.49,149.117 2120.51,149.117 2122.53,149.117 2124.55,149.117 2126.57,149.117 2128.59,149.117 2130.61,149.117 2132.63,149.117 2134.65,149.117 2136.67,149.117 2138.69,149.117 2140.71,149.117 2142.73,149.117 2144.75,149.117 2146.77,149.117 2148.79,149.117 2150.81,149.117 2152.83,149.117 2154.85,149.117 2156.87,149.117 2158.89,149.117 2160.91,149.117 2162.93,149.117 2164.95,149.117 2166.97,149.117 2168.99,149.117 2171.01,149.117 2173.03,149.117 2175.05,149.117 2177.07,149.117 2179.09,149.117 2181.11,149.117 2183.13,149.117 2185.15,149.117 2187.17,149.117 2189.19,149.117 2191.21,149.117 2193.23,149.117 2195.25,149.117 2197.27,149.117 2199.29,149.117 2201.31,149.117 2203.33,149.117 2205.35,149.117 2207.37,149.117 2209.39,149.117 2211.41,149.117 2213.43,149.117 2215.45,149.117 2217.47,149.117 2219.49,149.117 2221.51,149.117 2223.53,149.117 2225.55,149.117 2227.57,149.117 2229.59,149.117 2231.61,149.117 2233.63,149.117 2235.65,149.117 2237.67,149.117 2239.69,149.117 2241.71,149.117 2243.73,149.117 2245.75,149.117 2247.77,149.117 2249.79,149.117 2251.81,149.117 2253.83,149.117 2255.85,149.117 2257.87,149.117 2259.89,149.117 2261.91,149.117 2263.93,149.117 2265.95,149.117 2267.97,149.117 2269.99,149.117 2272.01,149.117 2274.03,149.117 2276.05,149.117 2278.07,149.117 2280.09,149.117 2282.11,149.117 2284.13,149.117 2286.15,149.117 2288.17,149.117 2290.19,149.117 2292.21,149.117 \"/>\n",
       "<path clip-path=\"url(#clip990)\" d=\"M1919.5 302.578 L2281.45 302.578 L2281.45 95.2176 L1919.5 95.2176  Z\" fill=\"#ffffff\" fill-rule=\"evenodd\" fill-opacity=\"1\"/>\n",
       "<polyline clip-path=\"url(#clip990)\" style=\"stroke:#000000; stroke-linecap:round; stroke-linejoin:round; stroke-width:4; stroke-opacity:1; fill:none\" points=\"1919.5,302.578 2281.45,302.578 2281.45,95.2176 1919.5,95.2176 1919.5,302.578 \"/>\n",
       "<polyline clip-path=\"url(#clip990)\" style=\"stroke:#009af9; stroke-linecap:round; stroke-linejoin:round; stroke-width:4; stroke-opacity:1; fill:none\" points=\"1943.27,147.058 2085.88,147.058 \"/>\n",
       "<path clip-path=\"url(#clip990)\" d=\"M2110.23 138.412 L2130.46 138.412 L2130.46 142.301 L2114.44 160.935 L2130.46 160.935 L2130.46 164.338 L2109.65 164.338 L2109.65 160.449 L2125.67 141.815 L2110.23 141.815 L2110.23 138.412 Z\" fill=\"#000000\" fill-rule=\"nonzero\" fill-opacity=\"1\" /><path clip-path=\"url(#clip990)\" d=\"M2152.59 142.81 L2182.27 142.81 L2182.27 146.699 L2152.59 146.699 L2152.59 142.81 M2152.59 152.254 L2182.27 152.254 L2182.27 156.189 L2152.59 156.189 L2152.59 152.254 Z\" fill=\"#000000\" fill-rule=\"nonzero\" fill-opacity=\"1\" /><path clip-path=\"url(#clip990)\" d=\"M2208.24 160.402 L2215.88 160.402 L2215.88 134.037 L2207.57 135.703 L2207.57 131.444 L2215.83 129.778 L2220.51 129.778 L2220.51 160.402 L2228.15 160.402 L2228.15 164.338 L2208.24 164.338 L2208.24 160.402 Z\" fill=\"#000000\" fill-rule=\"nonzero\" fill-opacity=\"1\" /><polyline clip-path=\"url(#clip990)\" style=\"stroke:#e26f46; stroke-linecap:round; stroke-linejoin:round; stroke-width:4; stroke-opacity:1; fill:none\" points=\"1943.27,198.898 2085.88,198.898 \"/>\n",
       "<path clip-path=\"url(#clip990)\" d=\"M2110.23 190.252 L2130.46 190.252 L2130.46 194.141 L2114.44 212.775 L2130.46 212.775 L2130.46 216.178 L2109.65 216.178 L2109.65 212.289 L2125.67 193.655 L2110.23 193.655 L2110.23 190.252 Z\" fill=\"#000000\" fill-rule=\"nonzero\" fill-opacity=\"1\" /><path clip-path=\"url(#clip990)\" d=\"M2152.59 194.65 L2182.27 194.65 L2182.27 198.539 L2152.59 198.539 L2152.59 194.65 M2152.59 204.094 L2182.27 204.094 L2182.27 208.029 L2152.59 208.029 L2152.59 204.094 Z\" fill=\"#000000\" fill-rule=\"nonzero\" fill-opacity=\"1\" /><path clip-path=\"url(#clip990)\" d=\"M2206.83 190.252 L2211.09 190.252 L2211.09 216.178 L2206.83 216.178 L2206.83 190.252 M2206.83 180.159 L2211.09 180.159 L2211.09 185.553 L2206.83 185.553 L2206.83 180.159 Z\" fill=\"#000000\" fill-rule=\"nonzero\" fill-opacity=\"1\" /><path clip-path=\"url(#clip990)\" d=\"M2240.18 195.229 Q2241.78 192.358 2244 190.993 Q2246.22 189.627 2249.23 189.627 Q2253.28 189.627 2255.48 192.474 Q2257.68 195.298 2257.68 200.529 L2257.68 216.178 L2253.4 216.178 L2253.4 200.668 Q2253.4 196.942 2252.08 195.136 Q2250.76 193.33 2248.05 193.33 Q2244.74 193.33 2242.82 195.53 Q2240.9 197.729 2240.9 201.525 L2240.9 216.178 L2236.62 216.178 L2236.62 200.668 Q2236.62 196.918 2235.3 195.136 Q2233.98 193.33 2231.22 193.33 Q2227.96 193.33 2226.04 195.553 Q2224.12 197.752 2224.12 201.525 L2224.12 216.178 L2219.84 216.178 L2219.84 190.252 L2224.12 190.252 L2224.12 194.28 Q2225.58 191.895 2227.61 190.761 Q2229.65 189.627 2232.45 189.627 Q2235.28 189.627 2237.24 191.062 Q2239.23 192.497 2240.18 195.229 Z\" fill=\"#000000\" fill-rule=\"nonzero\" fill-opacity=\"1\" /><polyline clip-path=\"url(#clip990)\" style=\"stroke:#3da44d; stroke-linecap:round; stroke-linejoin:round; stroke-width:4; stroke-opacity:1; fill:none\" points=\"1943.27,250.738 2085.88,250.738 \"/>\n",
       "<path clip-path=\"url(#clip990)\" d=\"M2110.23 242.092 L2130.46 242.092 L2130.46 245.981 L2114.44 264.615 L2130.46 264.615 L2130.46 268.018 L2109.65 268.018 L2109.65 264.129 L2125.67 245.495 L2110.23 245.495 L2110.23 242.092 Z\" fill=\"#000000\" fill-rule=\"nonzero\" fill-opacity=\"1\" /><path clip-path=\"url(#clip990)\" d=\"M2152.59 246.49 L2182.27 246.49 L2182.27 250.379 L2152.59 250.379 L2152.59 246.49 M2152.59 255.934 L2182.27 255.934 L2182.27 259.869 L2152.59 259.869 L2152.59 255.934 Z\" fill=\"#000000\" fill-rule=\"nonzero\" fill-opacity=\"1\" /><path clip-path=\"url(#clip990)\" d=\"M2204.67 253.133 L2217.15 253.133 L2217.15 256.93 L2204.67 256.93 L2204.67 253.133 Z\" fill=\"#000000\" fill-rule=\"nonzero\" fill-opacity=\"1\" /><path clip-path=\"url(#clip990)\" d=\"M2224.58 233.458 L2242.94 233.458 L2242.94 237.393 L2228.86 237.393 L2228.86 245.865 Q2229.88 245.518 2230.9 245.356 Q2231.92 245.17 2232.94 245.17 Q2238.72 245.17 2242.1 248.342 Q2245.48 251.513 2245.48 256.93 Q2245.48 262.508 2242.01 265.61 Q2238.54 268.689 2232.22 268.689 Q2230.04 268.689 2227.78 268.318 Q2225.53 267.948 2223.12 267.207 L2223.12 262.508 Q2225.21 263.643 2227.43 264.198 Q2229.65 264.754 2232.13 264.754 Q2236.13 264.754 2238.47 262.647 Q2240.81 260.541 2240.81 256.93 Q2240.81 253.319 2238.47 251.212 Q2236.13 249.106 2232.13 249.106 Q2230.25 249.106 2228.38 249.522 Q2226.53 249.939 2224.58 250.819 L2224.58 233.458 Z\" fill=\"#000000\" fill-rule=\"nonzero\" fill-opacity=\"1\" /></svg>\n"
      ],
      "text/html": [
       "<?xml version=\"1.0\" encoding=\"utf-8\"?>\n",
       "<svg xmlns=\"http://www.w3.org/2000/svg\" xmlns:xlink=\"http://www.w3.org/1999/xlink\" width=\"600\" height=\"400\" viewBox=\"0 0 2400 1600\">\n",
       "<defs>\n",
       "  <clipPath id=\"clip040\">\n",
       "    <rect x=\"0\" y=\"0\" width=\"2400\" height=\"1600\"/>\n",
       "  </clipPath>\n",
       "</defs>\n",
       "<path clip-path=\"url(#clip040)\" d=\"M0 1600 L2400 1600 L2400 8.88178e-14 L0 8.88178e-14  Z\" fill=\"#ffffff\" fill-rule=\"evenodd\" fill-opacity=\"1\"/>\n",
       "<defs>\n",
       "  <clipPath id=\"clip041\">\n",
       "    <rect x=\"480\" y=\"0\" width=\"1681\" height=\"1600\"/>\n",
       "  </clipPath>\n",
       "</defs>\n",
       "<path clip-path=\"url(#clip040)\" d=\"M213.607 1486.45 L2352.76 1486.45 L2352.76 47.2441 L213.607 47.2441  Z\" fill=\"#ffffff\" fill-rule=\"evenodd\" fill-opacity=\"1\"/>\n",
       "<defs>\n",
       "  <clipPath id=\"clip042\">\n",
       "    <rect x=\"213\" y=\"47\" width=\"2140\" height=\"1440\"/>\n",
       "  </clipPath>\n",
       "</defs>\n",
       "<polyline clip-path=\"url(#clip042)\" style=\"stroke:#000000; stroke-linecap:round; stroke-linejoin:round; stroke-width:2; stroke-opacity:0.1; fill:none\" points=\"272.129,1486.45 272.129,47.2441 \"/>\n",
       "<polyline clip-path=\"url(#clip042)\" style=\"stroke:#000000; stroke-linecap:round; stroke-linejoin:round; stroke-width:2; stroke-opacity:0.1; fill:none\" points=\"777.15,1486.45 777.15,47.2441 \"/>\n",
       "<polyline clip-path=\"url(#clip042)\" style=\"stroke:#000000; stroke-linecap:round; stroke-linejoin:round; stroke-width:2; stroke-opacity:0.1; fill:none\" points=\"1282.17,1486.45 1282.17,47.2441 \"/>\n",
       "<polyline clip-path=\"url(#clip042)\" style=\"stroke:#000000; stroke-linecap:round; stroke-linejoin:round; stroke-width:2; stroke-opacity:0.1; fill:none\" points=\"1787.19,1486.45 1787.19,47.2441 \"/>\n",
       "<polyline clip-path=\"url(#clip042)\" style=\"stroke:#000000; stroke-linecap:round; stroke-linejoin:round; stroke-width:2; stroke-opacity:0.1; fill:none\" points=\"2292.21,1486.45 2292.21,47.2441 \"/>\n",
       "<polyline clip-path=\"url(#clip042)\" style=\"stroke:#000000; stroke-linecap:round; stroke-linejoin:round; stroke-width:2; stroke-opacity:0.1; fill:none\" points=\"213.607,1006.07 2352.76,1006.07 \"/>\n",
       "<polyline clip-path=\"url(#clip042)\" style=\"stroke:#000000; stroke-linecap:round; stroke-linejoin:round; stroke-width:2; stroke-opacity:0.1; fill:none\" points=\"213.607,184.7 2352.76,184.7 \"/>\n",
       "<polyline clip-path=\"url(#clip040)\" style=\"stroke:#000000; stroke-linecap:round; stroke-linejoin:round; stroke-width:4; stroke-opacity:1; fill:none\" points=\"213.607,1486.45 2352.76,1486.45 \"/>\n",
       "<polyline clip-path=\"url(#clip040)\" style=\"stroke:#000000; stroke-linecap:round; stroke-linejoin:round; stroke-width:4; stroke-opacity:1; fill:none\" points=\"272.129,1486.45 272.129,1467.55 \"/>\n",
       "<polyline clip-path=\"url(#clip040)\" style=\"stroke:#000000; stroke-linecap:round; stroke-linejoin:round; stroke-width:4; stroke-opacity:1; fill:none\" points=\"777.15,1486.45 777.15,1467.55 \"/>\n",
       "<polyline clip-path=\"url(#clip040)\" style=\"stroke:#000000; stroke-linecap:round; stroke-linejoin:round; stroke-width:4; stroke-opacity:1; fill:none\" points=\"1282.17,1486.45 1282.17,1467.55 \"/>\n",
       "<polyline clip-path=\"url(#clip040)\" style=\"stroke:#000000; stroke-linecap:round; stroke-linejoin:round; stroke-width:4; stroke-opacity:1; fill:none\" points=\"1787.19,1486.45 1787.19,1467.55 \"/>\n",
       "<polyline clip-path=\"url(#clip040)\" style=\"stroke:#000000; stroke-linecap:round; stroke-linejoin:round; stroke-width:4; stroke-opacity:1; fill:none\" points=\"2292.21,1486.45 2292.21,1467.55 \"/>\n",
       "<path clip-path=\"url(#clip040)\" d=\"M272.129 1517.37 Q268.518 1517.37 266.69 1520.93 Q264.884 1524.47 264.884 1531.6 Q264.884 1538.71 266.69 1542.27 Q268.518 1545.82 272.129 1545.82 Q275.764 1545.82 277.569 1542.27 Q279.398 1538.71 279.398 1531.6 Q279.398 1524.47 277.569 1520.93 Q275.764 1517.37 272.129 1517.37 M272.129 1513.66 Q277.939 1513.66 280.995 1518.27 Q284.074 1522.85 284.074 1531.6 Q284.074 1540.33 280.995 1544.94 Q277.939 1549.52 272.129 1549.52 Q266.319 1549.52 263.24 1544.94 Q260.185 1540.33 260.185 1531.6 Q260.185 1522.85 263.24 1518.27 Q266.319 1513.66 272.129 1513.66 Z\" fill=\"#000000\" fill-rule=\"nonzero\" fill-opacity=\"1\" /><path clip-path=\"url(#clip040)\" d=\"M740.843 1544.91 L757.162 1544.91 L757.162 1548.85 L735.218 1548.85 L735.218 1544.91 Q737.88 1542.16 742.463 1537.53 Q747.07 1532.88 748.25 1531.53 Q750.496 1529.01 751.375 1527.27 Q752.278 1525.51 752.278 1523.82 Q752.278 1521.07 750.334 1519.33 Q748.412 1517.6 745.31 1517.6 Q743.111 1517.6 740.658 1518.36 Q738.227 1519.13 735.449 1520.68 L735.449 1515.95 Q738.273 1514.82 740.727 1514.24 Q743.181 1513.66 745.218 1513.66 Q750.588 1513.66 753.783 1516.35 Q756.977 1519.03 756.977 1523.52 Q756.977 1525.65 756.167 1527.57 Q755.38 1529.47 753.273 1532.07 Q752.695 1532.74 749.593 1535.95 Q746.491 1539.15 740.843 1544.91 Z\" fill=\"#000000\" fill-rule=\"nonzero\" fill-opacity=\"1\" /><path clip-path=\"url(#clip040)\" d=\"M767.023 1514.29 L785.38 1514.29 L785.38 1518.22 L771.306 1518.22 L771.306 1526.7 Q772.324 1526.35 773.343 1526.19 Q774.361 1526 775.38 1526 Q781.167 1526 784.546 1529.17 Q787.926 1532.34 787.926 1537.76 Q787.926 1543.34 784.454 1546.44 Q780.981 1549.52 774.662 1549.52 Q772.486 1549.52 770.218 1549.15 Q767.972 1548.78 765.565 1548.04 L765.565 1543.34 Q767.648 1544.47 769.87 1545.03 Q772.093 1545.58 774.569 1545.58 Q778.574 1545.58 780.912 1543.48 Q783.25 1541.37 783.25 1537.76 Q783.25 1534.15 780.912 1532.04 Q778.574 1529.94 774.569 1529.94 Q772.694 1529.94 770.82 1530.35 Q768.968 1530.77 767.023 1531.65 L767.023 1514.29 Z\" fill=\"#000000\" fill-rule=\"nonzero\" fill-opacity=\"1\" /><path clip-path=\"url(#clip040)\" d=\"M807.139 1517.37 Q803.528 1517.37 801.699 1520.93 Q799.893 1524.47 799.893 1531.6 Q799.893 1538.71 801.699 1542.27 Q803.528 1545.82 807.139 1545.82 Q810.773 1545.82 812.579 1542.27 Q814.407 1538.71 814.407 1531.6 Q814.407 1524.47 812.579 1520.93 Q810.773 1517.37 807.139 1517.37 M807.139 1513.66 Q812.949 1513.66 816.004 1518.27 Q819.083 1522.85 819.083 1531.6 Q819.083 1540.33 816.004 1544.94 Q812.949 1549.52 807.139 1549.52 Q801.329 1549.52 798.25 1544.94 Q795.194 1540.33 795.194 1531.6 Q795.194 1522.85 798.25 1518.27 Q801.329 1513.66 807.139 1513.66 Z\" fill=\"#000000\" fill-rule=\"nonzero\" fill-opacity=\"1\" /><path clip-path=\"url(#clip040)\" d=\"M1241.79 1514.29 L1260.15 1514.29 L1260.15 1518.22 L1246.07 1518.22 L1246.07 1526.7 Q1247.09 1526.35 1248.11 1526.19 Q1249.13 1526 1250.15 1526 Q1255.93 1526 1259.31 1529.17 Q1262.69 1532.34 1262.69 1537.76 Q1262.69 1543.34 1259.22 1546.44 Q1255.75 1549.52 1249.43 1549.52 Q1247.25 1549.52 1244.98 1549.15 Q1242.74 1548.78 1240.33 1548.04 L1240.33 1543.34 Q1242.41 1544.47 1244.64 1545.03 Q1246.86 1545.58 1249.34 1545.58 Q1253.34 1545.58 1255.68 1543.48 Q1258.02 1541.37 1258.02 1537.76 Q1258.02 1534.15 1255.68 1532.04 Q1253.34 1529.94 1249.34 1529.94 Q1247.46 1529.94 1245.59 1530.35 Q1243.73 1530.77 1241.79 1531.65 L1241.79 1514.29 Z\" fill=\"#000000\" fill-rule=\"nonzero\" fill-opacity=\"1\" /><path clip-path=\"url(#clip040)\" d=\"M1281.91 1517.37 Q1278.29 1517.37 1276.47 1520.93 Q1274.66 1524.47 1274.66 1531.6 Q1274.66 1538.71 1276.47 1542.27 Q1278.29 1545.82 1281.91 1545.82 Q1285.54 1545.82 1287.35 1542.27 Q1289.17 1538.71 1289.17 1531.6 Q1289.17 1524.47 1287.35 1520.93 Q1285.54 1517.37 1281.91 1517.37 M1281.91 1513.66 Q1287.72 1513.66 1290.77 1518.27 Q1293.85 1522.85 1293.85 1531.6 Q1293.85 1540.33 1290.77 1544.94 Q1287.72 1549.52 1281.91 1549.52 Q1276.1 1549.52 1273.02 1544.94 Q1269.96 1540.33 1269.96 1531.6 Q1269.96 1522.85 1273.02 1518.27 Q1276.1 1513.66 1281.91 1513.66 Z\" fill=\"#000000\" fill-rule=\"nonzero\" fill-opacity=\"1\" /><path clip-path=\"url(#clip040)\" d=\"M1312.07 1517.37 Q1308.46 1517.37 1306.63 1520.93 Q1304.82 1524.47 1304.82 1531.6 Q1304.82 1538.71 1306.63 1542.27 Q1308.46 1545.82 1312.07 1545.82 Q1315.7 1545.82 1317.51 1542.27 Q1319.34 1538.71 1319.34 1531.6 Q1319.34 1524.47 1317.51 1520.93 Q1315.7 1517.37 1312.07 1517.37 M1312.07 1513.66 Q1317.88 1513.66 1320.93 1518.27 Q1324.01 1522.85 1324.01 1531.6 Q1324.01 1540.33 1320.93 1544.94 Q1317.88 1549.52 1312.07 1549.52 Q1306.26 1549.52 1303.18 1544.94 Q1300.12 1540.33 1300.12 1531.6 Q1300.12 1522.85 1303.18 1518.27 Q1306.26 1513.66 1312.07 1513.66 Z\" fill=\"#000000\" fill-rule=\"nonzero\" fill-opacity=\"1\" /><path clip-path=\"url(#clip040)\" d=\"M1745.47 1514.29 L1767.69 1514.29 L1767.69 1516.28 L1755.14 1548.85 L1750.26 1548.85 L1762.07 1518.22 L1745.47 1518.22 L1745.47 1514.29 Z\" fill=\"#000000\" fill-rule=\"nonzero\" fill-opacity=\"1\" /><path clip-path=\"url(#clip040)\" d=\"M1776.86 1514.29 L1795.21 1514.29 L1795.21 1518.22 L1781.14 1518.22 L1781.14 1526.7 Q1782.16 1526.35 1783.18 1526.19 Q1784.2 1526 1785.21 1526 Q1791 1526 1794.38 1529.17 Q1797.76 1532.34 1797.76 1537.76 Q1797.76 1543.34 1794.29 1546.44 Q1790.82 1549.52 1784.5 1549.52 Q1782.32 1549.52 1780.05 1549.15 Q1777.81 1548.78 1775.4 1548.04 L1775.4 1543.34 Q1777.48 1544.47 1779.7 1545.03 Q1781.93 1545.58 1784.4 1545.58 Q1788.41 1545.58 1790.75 1543.48 Q1793.08 1541.37 1793.08 1537.76 Q1793.08 1534.15 1790.75 1532.04 Q1788.41 1529.94 1784.4 1529.94 Q1782.53 1529.94 1780.65 1530.35 Q1778.8 1530.77 1776.86 1531.65 L1776.86 1514.29 Z\" fill=\"#000000\" fill-rule=\"nonzero\" fill-opacity=\"1\" /><path clip-path=\"url(#clip040)\" d=\"M1816.97 1517.37 Q1813.36 1517.37 1811.53 1520.93 Q1809.73 1524.47 1809.73 1531.6 Q1809.73 1538.71 1811.53 1542.27 Q1813.36 1545.82 1816.97 1545.82 Q1820.61 1545.82 1822.41 1542.27 Q1824.24 1538.71 1824.24 1531.6 Q1824.24 1524.47 1822.41 1520.93 Q1820.61 1517.37 1816.97 1517.37 M1816.97 1513.66 Q1822.78 1513.66 1825.84 1518.27 Q1828.92 1522.85 1828.92 1531.6 Q1828.92 1540.33 1825.84 1544.94 Q1822.78 1549.52 1816.97 1549.52 Q1811.16 1549.52 1808.08 1544.94 Q1805.03 1540.33 1805.03 1531.6 Q1805.03 1522.85 1808.08 1518.27 Q1811.16 1513.66 1816.97 1513.66 Z\" fill=\"#000000\" fill-rule=\"nonzero\" fill-opacity=\"1\" /><path clip-path=\"url(#clip040)\" d=\"M2236.74 1544.91 L2244.38 1544.91 L2244.38 1518.55 L2236.07 1520.21 L2236.07 1515.95 L2244.33 1514.29 L2249.01 1514.29 L2249.01 1544.91 L2256.65 1544.91 L2256.65 1548.85 L2236.74 1548.85 L2236.74 1544.91 Z\" fill=\"#000000\" fill-rule=\"nonzero\" fill-opacity=\"1\" /><path clip-path=\"url(#clip040)\" d=\"M2276.09 1517.37 Q2272.48 1517.37 2270.65 1520.93 Q2268.85 1524.47 2268.85 1531.6 Q2268.85 1538.71 2270.65 1542.27 Q2272.48 1545.82 2276.09 1545.82 Q2279.73 1545.82 2281.53 1542.27 Q2283.36 1538.71 2283.36 1531.6 Q2283.36 1524.47 2281.53 1520.93 Q2279.73 1517.37 2276.09 1517.37 M2276.09 1513.66 Q2281.9 1513.66 2284.96 1518.27 Q2288.04 1522.85 2288.04 1531.6 Q2288.04 1540.33 2284.96 1544.94 Q2281.9 1549.52 2276.09 1549.52 Q2270.28 1549.52 2267.2 1544.94 Q2264.15 1540.33 2264.15 1531.6 Q2264.15 1522.85 2267.2 1518.27 Q2270.28 1513.66 2276.09 1513.66 Z\" fill=\"#000000\" fill-rule=\"nonzero\" fill-opacity=\"1\" /><path clip-path=\"url(#clip040)\" d=\"M2306.25 1517.37 Q2302.64 1517.37 2300.81 1520.93 Q2299.01 1524.47 2299.01 1531.6 Q2299.01 1538.71 2300.81 1542.27 Q2302.64 1545.82 2306.25 1545.82 Q2309.89 1545.82 2311.69 1542.27 Q2313.52 1538.71 2313.52 1531.6 Q2313.52 1524.47 2311.69 1520.93 Q2309.89 1517.37 2306.25 1517.37 M2306.25 1513.66 Q2312.06 1513.66 2315.12 1518.27 Q2318.2 1522.85 2318.2 1531.6 Q2318.2 1540.33 2315.12 1544.94 Q2312.06 1549.52 2306.25 1549.52 Q2300.44 1549.52 2297.36 1544.94 Q2294.31 1540.33 2294.31 1531.6 Q2294.31 1522.85 2297.36 1518.27 Q2300.44 1513.66 2306.25 1513.66 Z\" fill=\"#000000\" fill-rule=\"nonzero\" fill-opacity=\"1\" /><path clip-path=\"url(#clip040)\" d=\"M2336.42 1517.37 Q2332.8 1517.37 2330.98 1520.93 Q2329.17 1524.47 2329.17 1531.6 Q2329.17 1538.71 2330.98 1542.27 Q2332.8 1545.82 2336.42 1545.82 Q2340.05 1545.82 2341.85 1542.27 Q2343.68 1538.71 2343.68 1531.6 Q2343.68 1524.47 2341.85 1520.93 Q2340.05 1517.37 2336.42 1517.37 M2336.42 1513.66 Q2342.23 1513.66 2345.28 1518.27 Q2348.36 1522.85 2348.36 1531.6 Q2348.36 1540.33 2345.28 1544.94 Q2342.23 1549.52 2336.42 1549.52 Q2330.6 1549.52 2327.53 1544.94 Q2324.47 1540.33 2324.47 1531.6 Q2324.47 1522.85 2327.53 1518.27 Q2330.6 1513.66 2336.42 1513.66 Z\" fill=\"#000000\" fill-rule=\"nonzero\" fill-opacity=\"1\" /><polyline clip-path=\"url(#clip040)\" style=\"stroke:#000000; stroke-linecap:round; stroke-linejoin:round; stroke-width:4; stroke-opacity:1; fill:none\" points=\"213.607,1486.45 213.607,47.2441 \"/>\n",
       "<polyline clip-path=\"url(#clip040)\" style=\"stroke:#000000; stroke-linecap:round; stroke-linejoin:round; stroke-width:4; stroke-opacity:1; fill:none\" points=\"213.607,1006.07 232.505,1006.07 \"/>\n",
       "<polyline clip-path=\"url(#clip040)\" style=\"stroke:#000000; stroke-linecap:round; stroke-linejoin:round; stroke-width:4; stroke-opacity:1; fill:none\" points=\"213.607,184.7 232.505,184.7 \"/>\n",
       "<path clip-path=\"url(#clip040)\" d=\"M51.6634 1025.87 L59.3023 1025.87 L59.3023 999.5 L50.9921 1001.17 L50.9921 996.907 L59.256 995.241 L63.9319 995.241 L63.9319 1025.87 L71.5707 1025.87 L71.5707 1029.8 L51.6634 1029.8 L51.6634 1025.87 Z\" fill=\"#000000\" fill-rule=\"nonzero\" fill-opacity=\"1\" /><path clip-path=\"url(#clip040)\" d=\"M91.0151 998.319 Q87.404 998.319 85.5753 1001.88 Q83.7697 1005.43 83.7697 1012.56 Q83.7697 1019.66 85.5753 1023.23 Q87.404 1026.77 91.0151 1026.77 Q94.6493 1026.77 96.4548 1023.23 Q98.2835 1019.66 98.2835 1012.56 Q98.2835 1005.43 96.4548 1001.88 Q94.6493 998.319 91.0151 998.319 M91.0151 994.616 Q96.8252 994.616 99.8808 999.222 Q102.959 1003.81 102.959 1012.56 Q102.959 1021.28 99.8808 1025.89 Q96.8252 1030.47 91.0151 1030.47 Q85.2049 1030.47 82.1262 1025.89 Q79.0707 1021.28 79.0707 1012.56 Q79.0707 1003.81 82.1262 999.222 Q85.2049 994.616 91.0151 994.616 Z\" fill=\"#000000\" fill-rule=\"nonzero\" fill-opacity=\"1\" /><path clip-path=\"url(#clip040)\" d=\"M102.959 988.717 L127.071 988.717 L127.071 991.914 L102.959 991.914 L102.959 988.717 Z\" fill=\"#000000\" fill-rule=\"nonzero\" fill-opacity=\"1\" /><path clip-path=\"url(#clip040)\" d=\"M135.929 999.193 L142.136 999.193 L142.136 977.771 L135.384 979.125 L135.384 975.665 L142.098 974.31 L145.898 974.31 L145.898 999.193 L152.104 999.193 L152.104 1002.39 L135.929 1002.39 L135.929 999.193 Z\" fill=\"#000000\" fill-rule=\"nonzero\" fill-opacity=\"1\" /><path clip-path=\"url(#clip040)\" d=\"M167.903 976.812 Q164.969 976.812 163.483 979.708 Q162.016 982.586 162.016 988.379 Q162.016 994.153 163.483 997.049 Q164.969 999.927 167.903 999.927 Q170.855 999.927 172.322 997.049 Q173.808 994.153 173.808 988.379 Q173.808 982.586 172.322 979.708 Q170.855 976.812 167.903 976.812 M167.903 973.803 Q172.623 973.803 175.106 977.545 Q177.607 981.269 177.607 988.379 Q177.607 995.469 175.106 999.212 Q172.623 1002.94 167.903 1002.94 Q163.182 1002.94 160.68 999.212 Q158.198 995.469 158.198 988.379 Q158.198 981.269 160.68 977.545 Q163.182 973.803 167.903 973.803 Z\" fill=\"#000000\" fill-rule=\"nonzero\" fill-opacity=\"1\" /><path clip-path=\"url(#clip040)\" d=\"M106.902 204.492 L114.541 204.492 L114.541 178.127 L106.231 179.793 L106.231 175.534 L114.494 173.867 L119.17 173.867 L119.17 204.492 L126.809 204.492 L126.809 208.427 L106.902 208.427 L106.902 204.492 Z\" fill=\"#000000\" fill-rule=\"nonzero\" fill-opacity=\"1\" /><path clip-path=\"url(#clip040)\" d=\"M146.253 176.946 Q142.642 176.946 140.814 180.511 Q139.008 184.053 139.008 191.182 Q139.008 198.289 140.814 201.853 Q142.642 205.395 146.253 205.395 Q149.888 205.395 151.693 201.853 Q153.522 198.289 153.522 191.182 Q153.522 184.053 151.693 180.511 Q149.888 176.946 146.253 176.946 M146.253 173.242 Q152.064 173.242 155.119 177.849 Q158.198 182.432 158.198 191.182 Q158.198 199.909 155.119 204.515 Q152.064 209.099 146.253 209.099 Q140.443 209.099 137.365 204.515 Q134.309 199.909 134.309 191.182 Q134.309 182.432 137.365 177.849 Q140.443 173.242 146.253 173.242 Z\" fill=\"#000000\" fill-rule=\"nonzero\" fill-opacity=\"1\" /><path clip-path=\"url(#clip040)\" d=\"M167.903 155.438 Q164.969 155.438 163.483 158.335 Q162.016 161.212 162.016 167.005 Q162.016 172.779 163.483 175.676 Q164.969 178.553 167.903 178.553 Q170.855 178.553 172.322 175.676 Q173.808 172.779 173.808 167.005 Q173.808 161.212 172.322 158.335 Q170.855 155.438 167.903 155.438 M167.903 152.429 Q172.623 152.429 175.106 156.172 Q177.607 159.896 177.607 167.005 Q177.607 174.096 175.106 177.839 Q172.623 181.562 167.903 181.562 Q163.182 181.562 160.68 177.839 Q158.198 174.096 158.198 167.005 Q158.198 159.896 160.68 156.172 Q163.182 152.429 167.903 152.429 Z\" fill=\"#000000\" fill-rule=\"nonzero\" fill-opacity=\"1\" /><polyline clip-path=\"url(#clip042)\" style=\"stroke:#009af9; stroke-linecap:round; stroke-linejoin:round; stroke-width:4; stroke-opacity:1; fill:none\" points=\"274.149,196.503 276.169,238.991 278.19,290.429 280.21,349.159 282.23,414.01 284.25,484.121 286.27,558.837 288.29,637.644 290.31,720.13 292.33,805.957 294.35,894.842 296.37,986.546 298.39,1080.87 300.411,1177.65 302.431,1277.08 304.451,1388.3 306.471,1445.72 308.491,1445.72 310.511,1445.72 312.531,1445.72 314.551,1445.72 316.571,1445.72 318.591,1445.72 320.611,1445.72 322.631,1445.72 324.652,1445.72 326.672,1445.72 328.692,1445.72 330.712,1445.72 332.732,1445.72 334.752,1445.72 336.772,1445.72 338.792,1445.72 340.812,1445.72 342.832,1445.72 344.852,1445.72 346.872,1445.72 348.893,1445.72 350.913,1445.72 352.933,1445.72 354.953,1445.72 356.973,1445.72 358.993,1445.72 361.013,1445.72 363.033,1445.72 365.053,1445.72 367.073,1445.72 369.093,1445.72 371.113,1445.72 373.134,1445.72 375.154,1445.72 377.174,1445.72 379.194,1445.72 381.214,1445.72 383.234,1445.72 385.254,1445.72 387.274,1445.72 389.294,1445.72 391.314,1445.72 393.334,1445.72 395.354,1445.72 397.375,1445.72 399.395,1445.72 401.415,1445.72 403.435,1445.72 405.455,1445.72 407.475,1445.72 409.495,1445.72 411.515,1445.72 413.535,1445.72 415.555,1445.72 417.575,1445.72 419.596,1445.72 421.616,1445.72 423.636,1445.72 425.656,1445.72 427.676,1445.72 429.696,1445.72 431.716,1445.72 433.736,1445.72 435.756,1445.72 437.776,1445.72 439.796,1445.72 441.816,1445.72 443.837,1445.72 445.857,1445.72 447.877,1445.72 449.897,1445.72 451.917,1445.72 453.937,1445.72 455.957,1445.72 457.977,1445.72 459.997,1445.72 462.017,1445.72 464.037,1445.72 466.057,1445.72 468.078,1445.72 470.098,1445.72 472.118,1445.72 474.138,1445.72 476.158,1445.72 478.178,1445.72 480.198,1445.72 482.218,1445.72 484.238,1445.72 486.258,1445.72 488.278,1445.72 490.298,1445.72 492.319,1445.72 494.339,1445.72 496.359,1445.72 498.379,1445.72 500.399,1445.72 502.419,1445.72 504.439,1445.72 506.459,1445.72 508.479,1445.72 510.499,1445.72 512.519,1445.72 514.539,1445.72 516.56,1445.72 518.58,1445.72 520.6,1445.72 522.62,1445.72 524.64,1445.72 526.66,1445.72 528.68,1445.72 530.7,1445.72 532.72,1445.72 534.74,1445.72 536.76,1445.72 538.781,1445.72 540.801,1445.72 542.821,1445.72 544.841,1445.72 546.861,1445.72 548.881,1445.72 550.901,1445.72 552.921,1445.72 554.941,1445.72 556.961,1445.72 558.981,1445.72 561.001,1445.72 563.022,1445.72 565.042,1445.72 567.062,1445.72 569.082,1445.72 571.102,1445.72 573.122,1445.72 575.142,1445.72 577.162,1445.72 579.182,1445.72 581.202,1445.72 583.222,1445.72 585.242,1445.72 587.263,1445.72 589.283,1445.72 591.303,1445.72 593.323,1445.72 595.343,1445.72 597.363,1445.72 599.383,1445.72 601.403,1445.72 603.423,1445.72 605.443,1445.72 607.463,1445.72 609.483,1445.72 611.504,1445.72 613.524,1445.72 615.544,1445.72 617.564,1445.72 619.584,1445.72 621.604,1445.72 623.624,1445.72 625.644,1445.72 627.664,1445.72 629.684,1445.72 631.704,1445.72 633.724,1445.72 635.745,1445.72 637.765,1445.72 639.785,1445.72 641.805,1445.72 643.825,1445.72 645.845,1445.72 647.865,1445.72 649.885,1445.72 651.905,1445.72 653.925,1445.72 655.945,1445.72 657.965,1445.72 659.986,1445.72 662.006,1445.72 664.026,1445.72 666.046,1445.72 668.066,1445.72 670.086,1445.72 672.106,1445.72 674.126,1445.72 676.146,1445.72 678.166,1445.72 680.186,1445.72 682.207,1445.72 684.227,1445.72 686.247,1445.72 688.267,1445.72 690.287,1445.72 692.307,1445.72 694.327,1445.72 696.347,1445.72 698.367,1445.72 700.387,1445.72 702.407,1445.72 704.427,1445.72 706.448,1445.72 708.468,1445.72 710.488,1445.72 712.508,1445.72 714.528,1445.72 716.548,1445.72 718.568,1445.72 720.588,1445.72 722.608,1445.72 724.628,1445.72 726.648,1445.72 728.668,1445.72 730.689,1445.72 732.709,1445.72 734.729,1445.72 736.749,1445.72 738.769,1445.72 740.789,1445.72 742.809,1445.72 744.829,1445.72 746.849,1445.72 748.869,1445.72 750.889,1445.72 752.909,1445.72 754.93,1445.72 756.95,1445.72 758.97,1445.72 760.99,1445.72 763.01,1445.72 765.03,1445.72 767.05,1445.72 769.07,1445.72 771.09,1445.72 773.11,1445.72 775.13,1445.72 777.15,1445.72 779.171,1445.72 781.191,1445.72 783.211,1445.72 785.231,1445.72 787.251,1445.72 789.271,1445.72 791.291,1445.72 793.311,1445.72 795.331,1445.72 797.351,1445.72 799.371,1445.72 801.392,1445.72 803.412,1445.72 805.432,1445.72 807.452,1445.72 809.472,1445.72 811.492,1445.72 813.512,1445.72 815.532,1445.72 817.552,1445.72 819.572,1445.72 821.592,1445.72 823.612,1445.72 825.633,1445.72 827.653,1445.72 829.673,1445.72 831.693,1445.72 833.713,1445.72 835.733,1445.72 837.753,1445.72 839.773,1445.72 841.793,1445.72 843.813,1445.72 845.833,1445.72 847.853,1445.72 849.874,1445.72 851.894,1445.72 853.914,1445.72 855.934,1445.72 857.954,1445.72 859.974,1445.72 861.994,1445.72 864.014,1445.72 866.034,1445.72 868.054,1445.72 870.074,1445.72 872.094,1445.72 874.115,1445.72 876.135,1445.72 878.155,1445.72 880.175,1445.72 882.195,1445.72 884.215,1445.72 886.235,1445.72 888.255,1445.72 890.275,1445.72 892.295,1445.72 894.315,1445.72 896.335,1445.72 898.356,1445.72 900.376,1445.72 902.396,1445.72 904.416,1445.72 906.436,1445.72 908.456,1445.72 910.476,1445.72 912.496,1445.72 914.516,1445.72 916.536,1445.72 918.556,1445.72 920.576,1445.72 922.597,1445.72 924.617,1445.72 926.637,1445.72 928.657,1445.72 930.677,1445.72 932.697,1445.72 934.717,1445.72 936.737,1445.72 938.757,1445.72 940.777,1445.72 942.797,1445.72 944.818,1445.72 946.838,1445.72 948.858,1445.72 950.878,1445.72 952.898,1445.72 954.918,1445.72 956.938,1445.72 958.958,1445.72 960.978,1445.72 962.998,1445.72 965.018,1445.72 967.038,1445.72 969.059,1445.72 971.079,1445.72 973.099,1445.72 975.119,1445.72 977.139,1445.72 979.159,1445.72 981.179,1445.72 983.199,1445.72 985.219,1445.72 987.239,1445.72 989.259,1445.72 991.279,1445.72 993.3,1445.72 995.32,1445.72 997.34,1445.72 999.36,1445.72 1001.38,1445.72 1003.4,1445.72 1005.42,1445.72 1007.44,1445.72 1009.46,1445.72 1011.48,1445.72 1013.5,1445.72 1015.52,1445.72 1017.54,1445.72 1019.56,1445.72 1021.58,1445.72 1023.6,1445.72 1025.62,1445.72 1027.64,1445.72 1029.66,1445.72 1031.68,1445.72 1033.7,1445.72 1035.72,1445.72 1037.74,1445.72 1039.76,1445.72 1041.78,1445.72 1043.8,1445.72 1045.82,1445.72 1047.84,1445.72 1049.86,1445.72 1051.88,1445.72 1053.9,1445.72 1055.92,1445.72 1057.94,1445.72 1059.96,1445.72 1061.98,1445.72 1064,1445.72 1066.02,1445.72 1068.04,1445.72 1070.06,1445.72 1072.08,1445.72 1074.1,1445.72 1076.12,1445.72 1078.14,1445.72 1080.16,1445.72 1082.18,1445.72 1084.2,1445.72 1086.22,1445.72 1088.24,1445.72 1090.26,1445.72 1092.28,1445.72 1094.3,1445.72 1096.32,1445.72 1098.34,1445.72 1100.36,1445.72 1102.38,1445.72 1104.4,1445.72 1106.42,1445.72 1108.44,1445.72 1110.46,1445.72 1112.48,1445.72 1114.5,1445.72 1116.52,1445.72 1118.54,1445.72 1120.56,1445.72 1122.58,1445.72 1124.61,1445.72 1126.63,1445.72 1128.65,1445.72 1130.67,1445.72 1132.69,1445.72 1134.71,1445.72 1136.73,1445.72 1138.75,1445.72 1140.77,1445.72 1142.79,1445.72 1144.81,1445.72 1146.83,1445.72 1148.85,1445.72 1150.87,1445.72 1152.89,1445.72 1154.91,1445.72 1156.93,1445.72 1158.95,1445.72 1160.97,1445.72 1162.99,1445.72 1165.01,1445.72 1167.03,1445.72 1169.05,1445.72 1171.07,1445.72 1173.09,1445.72 1175.11,1445.72 1177.13,1445.72 1179.15,1445.72 1181.17,1445.72 1183.19,1445.72 1185.21,1445.72 1187.23,1445.72 1189.25,1445.72 1191.27,1445.72 1193.29,1445.72 1195.31,1445.72 1197.33,1445.72 1199.35,1445.72 1201.37,1445.72 1203.39,1445.72 1205.41,1445.72 1207.43,1445.72 1209.45,1445.72 1211.47,1445.72 1213.49,1445.72 1215.51,1445.72 1217.53,1445.72 1219.55,1445.72 1221.57,1445.72 1223.59,1445.72 1225.61,1445.72 1227.63,1445.72 1229.65,1445.72 1231.67,1445.72 1233.69,1445.72 1235.71,1445.72 1237.73,1445.72 1239.75,1445.72 1241.77,1445.72 1243.79,1445.72 1245.81,1445.72 1247.83,1445.72 1249.85,1445.72 1251.87,1445.72 1253.89,1445.72 1255.91,1445.72 1257.93,1445.72 1259.95,1445.72 1261.97,1445.72 1263.99,1445.72 1266.01,1445.72 1268.03,1445.72 1270.05,1445.72 1272.07,1445.72 1274.09,1445.72 1276.11,1445.72 1278.13,1445.72 1280.15,1445.72 1282.17,1445.72 1284.19,1445.72 1286.21,1445.72 1288.23,1445.72 1290.25,1445.72 1292.27,1445.72 1294.29,1445.72 1296.31,1445.72 1298.33,1445.72 1300.35,1445.72 1302.37,1445.72 1304.39,1445.72 1306.41,1445.72 1308.43,1445.72 1310.45,1445.72 1312.47,1445.72 1314.49,1445.72 1316.51,1445.72 1318.53,1445.72 1320.55,1445.72 1322.57,1445.72 1324.59,1445.72 1326.61,1445.72 1328.63,1445.72 1330.65,1445.72 1332.67,1445.72 1334.69,1445.72 1336.71,1445.72 1338.73,1445.72 1340.75,1445.72 1342.77,1445.72 1344.79,1445.72 1346.81,1445.72 1348.83,1445.72 1350.85,1445.72 1352.87,1445.72 1354.89,1445.72 1356.91,1445.72 1358.93,1445.72 1360.95,1445.72 1362.98,1445.72 1365,1445.72 1367.02,1445.72 1369.04,1445.72 1371.06,1445.72 1373.08,1445.72 1375.1,1445.72 1377.12,1445.72 1379.14,1445.72 1381.16,1445.72 1383.18,1445.72 1385.2,1445.72 1387.22,1445.72 1389.24,1445.72 1391.26,1445.72 1393.28,1445.72 1395.3,1445.72 1397.32,1445.72 1399.34,1445.72 1401.36,1445.72 1403.38,1445.72 1405.4,1445.72 1407.42,1445.72 1409.44,1445.72 1411.46,1445.72 1413.48,1445.72 1415.5,1445.72 1417.52,1445.72 1419.54,1445.72 1421.56,1445.72 1423.58,1445.72 1425.6,1445.72 1427.62,1445.72 1429.64,1445.72 1431.66,1445.72 1433.68,1445.72 1435.7,1445.72 1437.72,1445.72 1439.74,1445.72 1441.76,1445.72 1443.78,1445.72 1445.8,1445.72 1447.82,1445.72 1449.84,1445.72 1451.86,1445.72 1453.88,1445.72 1455.9,1445.72 1457.92,1445.72 1459.94,1445.72 1461.96,1445.72 1463.98,1445.72 1466,1445.72 1468.02,1445.72 1470.04,1445.72 1472.06,1445.72 1474.08,1445.72 1476.1,1445.72 1478.12,1445.72 1480.14,1445.72 1482.16,1445.72 1484.18,1445.72 1486.2,1445.72 1488.22,1445.72 1490.24,1445.72 1492.26,1445.72 1494.28,1445.72 1496.3,1445.72 1498.32,1445.72 1500.34,1445.72 1502.36,1445.72 1504.38,1445.72 1506.4,1445.72 1508.42,1445.72 1510.44,1445.72 1512.46,1445.72 1514.48,1445.72 1516.5,1445.72 1518.52,1445.72 1520.54,1445.72 1522.56,1445.72 1524.58,1445.72 1526.6,1445.72 1528.62,1445.72 1530.64,1445.72 1532.66,1445.72 1534.68,1445.72 1536.7,1445.72 1538.72,1445.72 1540.74,1445.72 1542.76,1445.72 1544.78,1445.72 1546.8,1445.72 1548.82,1445.72 1550.84,1445.72 1552.86,1445.72 1554.88,1445.72 1556.9,1445.72 1558.92,1445.72 1560.94,1445.72 1562.96,1445.72 1564.98,1445.72 1567,1445.72 1569.02,1445.72 1571.04,1445.72 1573.06,1445.72 1575.08,1445.72 1577.1,1445.72 1579.12,1445.72 1581.14,1445.72 1583.16,1445.72 1585.18,1445.72 1587.2,1445.72 1589.22,1445.72 1591.24,1445.72 1593.26,1445.72 1595.28,1445.72 1597.3,1445.72 1599.32,1445.72 1601.35,1445.72 1603.37,1445.72 1605.39,1445.72 1607.41,1445.72 1609.43,1445.72 1611.45,1445.72 1613.47,1445.72 1615.49,1445.72 1617.51,1445.72 1619.53,1445.72 1621.55,1445.72 1623.57,1445.72 1625.59,1445.72 1627.61,1445.72 1629.63,1445.72 1631.65,1445.72 1633.67,1445.72 1635.69,1445.72 1637.71,1445.72 1639.73,1445.72 1641.75,1445.72 1643.77,1445.72 1645.79,1445.72 1647.81,1445.72 1649.83,1445.72 1651.85,1445.72 1653.87,1445.72 1655.89,1445.72 1657.91,1445.72 1659.93,1445.72 1661.95,1445.72 1663.97,1445.72 1665.99,1445.72 1668.01,1445.72 1670.03,1445.72 1672.05,1445.72 1674.07,1445.72 1676.09,1445.72 1678.11,1445.72 1680.13,1445.72 1682.15,1445.72 1684.17,1445.72 1686.19,1445.72 1688.21,1445.72 1690.23,1445.72 1692.25,1445.72 1694.27,1445.72 1696.29,1445.72 1698.31,1445.72 1700.33,1445.72 1702.35,1445.72 1704.37,1445.72 1706.39,1445.72 1708.41,1445.72 1710.43,1445.72 1712.45,1445.72 1714.47,1445.72 1716.49,1445.72 1718.51,1445.72 1720.53,1445.72 1722.55,1445.72 1724.57,1445.72 1726.59,1445.72 1728.61,1445.72 1730.63,1445.72 1732.65,1445.72 1734.67,1445.72 1736.69,1445.72 1738.71,1445.72 1740.73,1445.72 1742.75,1445.72 1744.77,1445.72 1746.79,1445.72 1748.81,1445.72 1750.83,1445.72 1752.85,1445.72 1754.87,1445.72 1756.89,1445.72 1758.91,1445.72 1760.93,1445.72 1762.95,1445.72 1764.97,1445.72 1766.99,1445.72 1769.01,1445.72 1771.03,1445.72 1773.05,1445.72 1775.07,1445.72 1777.09,1445.72 1779.11,1445.72 1781.13,1445.72 1783.15,1445.72 1785.17,1445.72 1787.19,1445.72 1789.21,1445.72 1791.23,1445.72 1793.25,1445.72 1795.27,1445.72 1797.29,1445.72 1799.31,1445.72 1801.33,1445.72 1803.35,1445.72 1805.37,1445.72 1807.39,1445.72 1809.41,1445.72 1811.43,1445.72 1813.45,1445.72 1815.47,1445.72 1817.49,1445.72 1819.51,1445.72 1821.53,1445.72 1823.55,1445.72 1825.57,1445.72 1827.59,1445.72 1829.61,1445.72 1831.63,1445.72 1833.65,1445.72 1835.67,1445.72 1837.69,1445.72 1839.72,1445.72 1841.74,1445.72 1843.76,1445.72 1845.78,1445.72 1847.8,1445.72 1849.82,1445.72 1851.84,1445.72 1853.86,1445.72 1855.88,1445.72 1857.9,1445.72 1859.92,1445.72 1861.94,1445.72 1863.96,1445.72 1865.98,1445.72 1868,1445.72 1870.02,1445.72 1872.04,1445.72 1874.06,1445.72 1876.08,1445.72 1878.1,1445.72 1880.12,1445.72 1882.14,1445.72 1884.16,1445.72 1886.18,1445.72 1888.2,1445.72 1890.22,1445.72 1892.24,1445.72 1894.26,1445.72 1896.28,1445.72 1898.3,1445.72 1900.32,1445.72 1902.34,1445.72 1904.36,1445.72 1906.38,1445.72 1908.4,1445.72 1910.42,1445.72 1912.44,1445.72 1914.46,1445.72 1916.48,1445.72 1918.5,1445.72 1920.52,1445.72 1922.54,1445.72 1924.56,1445.72 1926.58,1445.72 1928.6,1445.72 1930.62,1445.72 1932.64,1445.72 1934.66,1445.72 1936.68,1445.72 1938.7,1445.72 1940.72,1445.72 1942.74,1445.72 1944.76,1445.72 1946.78,1445.72 1948.8,1445.72 1950.82,1445.72 1952.84,1445.72 1954.86,1445.72 1956.88,1445.72 1958.9,1445.72 1960.92,1445.72 1962.94,1445.72 1964.96,1445.72 1966.98,1445.72 1969,1445.72 1971.02,1445.72 1973.04,1445.72 1975.06,1445.72 1977.08,1445.72 1979.1,1445.72 1981.12,1445.72 1983.14,1445.72 1985.16,1445.72 1987.18,1445.72 1989.2,1445.72 1991.22,1445.72 1993.24,1445.72 1995.26,1445.72 1997.28,1445.72 1999.3,1445.72 2001.32,1445.72 2003.34,1445.72 2005.36,1445.72 2007.38,1445.72 2009.4,1445.72 2011.42,1445.72 2013.44,1445.72 2015.46,1445.72 2017.48,1445.72 2019.5,1445.72 2021.52,1445.72 2023.54,1445.72 2025.56,1445.72 2027.58,1445.72 2029.6,1445.72 2031.62,1445.72 2033.64,1445.72 2035.66,1445.72 2037.68,1445.72 2039.7,1445.72 2041.72,1445.72 2043.74,1445.72 2045.76,1445.72 2047.78,1445.72 2049.8,1445.72 2051.82,1445.72 2053.84,1445.72 2055.86,1445.72 2057.88,1445.72 2059.9,1445.72 2061.92,1445.72 2063.94,1445.72 2065.96,1445.72 2067.98,1445.72 2070,1445.72 2072.02,1445.72 2074.04,1445.72 2076.06,1445.72 2078.08,1445.72 2080.11,1445.72 2082.13,1445.72 2084.15,1445.72 2086.17,1445.72 2088.19,1445.72 2090.21,1445.72 2092.23,1445.72 2094.25,1445.72 2096.27,1445.72 2098.29,1445.72 2100.31,1445.72 2102.33,1445.72 2104.35,1445.72 2106.37,1445.72 2108.39,1445.72 2110.41,1445.72 2112.43,1445.72 2114.45,1445.72 2116.47,1445.72 2118.49,1445.72 2120.51,1445.72 2122.53,1445.72 2124.55,1445.72 2126.57,1445.72 2128.59,1445.72 2130.61,1445.72 2132.63,1445.72 2134.65,1445.72 2136.67,1445.72 2138.69,1445.72 2140.71,1445.72 2142.73,1445.72 2144.75,1445.72 2146.77,1445.72 2148.79,1445.72 2150.81,1445.72 2152.83,1445.72 2154.85,1445.72 2156.87,1445.72 2158.89,1445.72 2160.91,1445.72 2162.93,1445.72 2164.95,1445.72 2166.97,1445.72 2168.99,1445.72 2171.01,1445.72 2173.03,1445.72 2175.05,1445.72 2177.07,1445.72 2179.09,1445.72 2181.11,1445.72 2183.13,1445.72 2185.15,1445.72 2187.17,1445.72 2189.19,1445.72 2191.21,1445.72 2193.23,1445.72 2195.25,1445.72 2197.27,1445.72 2199.29,1445.72 2201.31,1445.72 2203.33,1445.72 2205.35,1445.72 2207.37,1445.72 2209.39,1445.72 2211.41,1445.72 2213.43,1445.72 2215.45,1445.72 2217.47,1445.72 2219.49,1445.72 2221.51,1445.72 2223.53,1445.72 2225.55,1445.72 2227.57,1445.72 2229.59,1445.72 2231.61,1445.72 2233.63,1445.72 2235.65,1445.72 2237.67,1445.72 2239.69,1445.72 2241.71,1445.72 2243.73,1445.72 2245.75,1445.72 2247.77,1445.72 2249.79,1445.72 2251.81,1445.72 2253.83,1445.72 2255.85,1445.72 2257.87,1445.72 2259.89,1445.72 2261.91,1445.72 2263.93,1445.72 2265.95,1445.72 2267.97,1445.72 2269.99,1445.72 2272.01,1445.72 2274.03,1445.72 2276.05,1445.72 2278.07,1445.72 2280.09,1445.72 2282.11,1445.72 2284.13,1445.72 2286.15,1445.72 2288.17,1445.72 2290.19,1445.72 2292.21,1445.72 \"/>\n",
       "<polyline clip-path=\"url(#clip042)\" style=\"stroke:#e26f46; stroke-linecap:round; stroke-linejoin:round; stroke-width:4; stroke-opacity:1; fill:none\" points=\"274.149,160.187 276.169,152.979 278.19,153.924 280.21,154.516 282.23,154.47 284.25,154.45 286.27,154.451 288.29,154.452 290.31,154.452 292.33,154.452 294.35,154.452 296.37,154.452 298.39,154.452 300.411,154.452 302.431,154.452 304.451,154.452 306.471,154.452 308.491,154.452 310.511,154.452 312.531,154.452 314.551,154.452 316.571,154.452 318.591,154.452 320.611,154.452 322.631,154.452 324.652,154.452 326.672,154.452 328.692,154.452 330.712,154.452 332.732,154.452 334.752,154.452 336.772,154.452 338.792,154.452 340.812,154.452 342.832,154.452 344.852,154.452 346.872,154.452 348.893,154.452 350.913,154.452 352.933,154.452 354.953,154.452 356.973,154.452 358.993,154.452 361.013,154.452 363.033,154.452 365.053,154.452 367.073,154.452 369.093,154.452 371.113,154.452 373.134,154.452 375.154,154.452 377.174,154.452 379.194,154.452 381.214,154.452 383.234,154.452 385.254,154.452 387.274,154.452 389.294,154.452 391.314,154.452 393.334,154.452 395.354,154.452 397.375,154.452 399.395,154.452 401.415,154.452 403.435,154.452 405.455,154.452 407.475,154.452 409.495,154.452 411.515,154.452 413.535,154.452 415.555,154.452 417.575,154.452 419.596,154.452 421.616,154.452 423.636,154.452 425.656,154.452 427.676,154.452 429.696,154.452 431.716,154.452 433.736,154.452 435.756,154.452 437.776,154.452 439.796,154.452 441.816,154.452 443.837,154.452 445.857,154.452 447.877,154.452 449.897,154.452 451.917,154.452 453.937,154.452 455.957,154.452 457.977,154.452 459.997,154.452 462.017,154.452 464.037,154.452 466.057,154.452 468.078,154.452 470.098,154.452 472.118,154.452 474.138,154.452 476.158,154.452 478.178,154.452 480.198,154.452 482.218,154.452 484.238,154.452 486.258,154.452 488.278,154.452 490.298,154.452 492.319,154.452 494.339,154.452 496.359,154.452 498.379,154.452 500.399,154.452 502.419,154.452 504.439,154.452 506.459,154.452 508.479,154.452 510.499,154.452 512.519,154.452 514.539,154.452 516.56,154.452 518.58,154.452 520.6,154.452 522.62,154.452 524.64,154.452 526.66,154.452 528.68,154.452 530.7,154.452 532.72,154.452 534.74,154.452 536.76,154.452 538.781,154.452 540.801,154.452 542.821,154.452 544.841,154.452 546.861,154.452 548.881,154.452 550.901,154.452 552.921,154.452 554.941,154.452 556.961,154.452 558.981,154.452 561.001,154.452 563.022,154.452 565.042,154.452 567.062,154.452 569.082,154.452 571.102,154.452 573.122,154.452 575.142,154.452 577.162,154.452 579.182,154.452 581.202,154.452 583.222,154.452 585.242,154.452 587.263,154.452 589.283,154.452 591.303,154.452 593.323,154.452 595.343,154.452 597.363,154.452 599.383,154.452 601.403,154.452 603.423,154.452 605.443,154.452 607.463,154.452 609.483,154.452 611.504,154.452 613.524,154.452 615.544,154.452 617.564,154.452 619.584,154.452 621.604,154.452 623.624,154.452 625.644,154.452 627.664,154.452 629.684,154.452 631.704,154.452 633.724,154.452 635.745,154.452 637.765,154.452 639.785,154.452 641.805,154.452 643.825,154.452 645.845,154.452 647.865,154.452 649.885,154.452 651.905,154.452 653.925,154.452 655.945,154.452 657.965,154.452 659.986,154.452 662.006,154.452 664.026,154.452 666.046,154.452 668.066,154.452 670.086,154.452 672.106,154.452 674.126,154.452 676.146,154.452 678.166,154.452 680.186,154.452 682.207,154.452 684.227,154.452 686.247,154.452 688.267,154.452 690.287,154.452 692.307,154.452 694.327,154.452 696.347,154.452 698.367,154.452 700.387,154.452 702.407,154.452 704.427,154.452 706.448,154.452 708.468,154.452 710.488,154.452 712.508,154.452 714.528,154.452 716.548,154.452 718.568,154.452 720.588,154.452 722.608,154.452 724.628,154.452 726.648,154.452 728.668,154.452 730.689,154.452 732.709,154.452 734.729,154.452 736.749,154.452 738.769,154.452 740.789,154.452 742.809,154.452 744.829,154.452 746.849,154.452 748.869,154.452 750.889,154.452 752.909,154.452 754.93,154.452 756.95,154.452 758.97,154.452 760.99,154.452 763.01,154.452 765.03,154.452 767.05,154.452 769.07,154.452 771.09,154.452 773.11,154.452 775.13,154.452 777.15,154.452 779.171,154.452 781.191,154.452 783.211,154.452 785.231,154.452 787.251,154.452 789.271,154.452 791.291,154.452 793.311,154.452 795.331,154.452 797.351,154.452 799.371,154.452 801.392,154.452 803.412,154.452 805.432,154.452 807.452,154.452 809.472,154.452 811.492,154.452 813.512,154.452 815.532,154.452 817.552,154.452 819.572,154.452 821.592,154.452 823.612,154.452 825.633,154.452 827.653,154.452 829.673,154.452 831.693,154.452 833.713,154.452 835.733,154.452 837.753,154.452 839.773,154.452 841.793,154.452 843.813,154.452 845.833,154.452 847.853,154.452 849.874,154.452 851.894,154.452 853.914,154.452 855.934,154.452 857.954,154.452 859.974,154.452 861.994,154.452 864.014,154.452 866.034,154.452 868.054,154.452 870.074,154.452 872.094,154.452 874.115,154.452 876.135,154.452 878.155,154.452 880.175,154.452 882.195,154.452 884.215,154.452 886.235,154.452 888.255,154.452 890.275,154.452 892.295,154.452 894.315,154.452 896.335,154.452 898.356,154.452 900.376,154.452 902.396,154.452 904.416,154.452 906.436,154.452 908.456,154.452 910.476,154.452 912.496,154.452 914.516,154.452 916.536,154.452 918.556,154.452 920.576,154.452 922.597,154.452 924.617,154.452 926.637,154.452 928.657,154.452 930.677,154.452 932.697,154.452 934.717,154.452 936.737,154.452 938.757,154.452 940.777,154.452 942.797,154.452 944.818,154.452 946.838,154.452 948.858,154.452 950.878,154.452 952.898,154.452 954.918,154.452 956.938,154.452 958.958,154.452 960.978,154.452 962.998,154.452 965.018,154.452 967.038,154.452 969.059,154.452 971.079,154.452 973.099,154.452 975.119,154.452 977.139,154.452 979.159,154.452 981.179,154.452 983.199,154.452 985.219,154.452 987.239,154.452 989.259,154.452 991.279,154.452 993.3,154.452 995.32,154.452 997.34,154.452 999.36,154.452 1001.38,154.452 1003.4,154.452 1005.42,154.452 1007.44,154.452 1009.46,154.452 1011.48,154.452 1013.5,154.452 1015.52,154.452 1017.54,154.452 1019.56,154.452 1021.58,154.452 1023.6,154.452 1025.62,154.452 1027.64,154.452 1029.66,154.452 1031.68,154.452 1033.7,154.452 1035.72,154.452 1037.74,154.452 1039.76,154.452 1041.78,154.452 1043.8,154.452 1045.82,154.452 1047.84,154.452 1049.86,154.452 1051.88,154.452 1053.9,154.452 1055.92,154.452 1057.94,154.452 1059.96,154.452 1061.98,154.452 1064,154.452 1066.02,154.452 1068.04,154.452 1070.06,154.452 1072.08,154.452 1074.1,154.452 1076.12,154.452 1078.14,154.452 1080.16,154.452 1082.18,154.452 1084.2,154.452 1086.22,154.452 1088.24,154.452 1090.26,154.452 1092.28,154.452 1094.3,154.452 1096.32,154.452 1098.34,154.452 1100.36,154.452 1102.38,154.452 1104.4,154.452 1106.42,154.452 1108.44,154.452 1110.46,154.452 1112.48,154.452 1114.5,154.452 1116.52,154.452 1118.54,154.452 1120.56,154.452 1122.58,154.452 1124.61,154.452 1126.63,154.452 1128.65,154.452 1130.67,154.452 1132.69,154.452 1134.71,154.452 1136.73,154.452 1138.75,154.452 1140.77,154.452 1142.79,154.452 1144.81,154.452 1146.83,154.452 1148.85,154.452 1150.87,154.452 1152.89,154.452 1154.91,154.452 1156.93,154.452 1158.95,154.452 1160.97,154.452 1162.99,154.452 1165.01,154.452 1167.03,154.452 1169.05,154.452 1171.07,154.452 1173.09,154.452 1175.11,154.452 1177.13,154.452 1179.15,154.452 1181.17,154.452 1183.19,154.452 1185.21,154.452 1187.23,154.452 1189.25,154.452 1191.27,154.452 1193.29,154.452 1195.31,154.452 1197.33,154.452 1199.35,154.452 1201.37,154.452 1203.39,154.452 1205.41,154.452 1207.43,154.452 1209.45,154.452 1211.47,154.452 1213.49,154.452 1215.51,154.452 1217.53,154.452 1219.55,154.452 1221.57,154.452 1223.59,154.452 1225.61,154.452 1227.63,154.452 1229.65,154.452 1231.67,154.452 1233.69,154.452 1235.71,154.452 1237.73,154.452 1239.75,154.452 1241.77,154.452 1243.79,154.452 1245.81,154.452 1247.83,154.452 1249.85,154.452 1251.87,154.452 1253.89,154.452 1255.91,154.452 1257.93,154.452 1259.95,154.452 1261.97,154.452 1263.99,154.452 1266.01,154.452 1268.03,154.452 1270.05,154.452 1272.07,154.452 1274.09,154.452 1276.11,154.452 1278.13,154.452 1280.15,154.452 1282.17,154.452 1284.19,154.452 1286.21,154.452 1288.23,154.452 1290.25,154.452 1292.27,154.452 1294.29,154.452 1296.31,154.452 1298.33,154.452 1300.35,154.452 1302.37,154.452 1304.39,154.452 1306.41,154.452 1308.43,154.452 1310.45,154.452 1312.47,154.452 1314.49,154.452 1316.51,154.452 1318.53,154.452 1320.55,154.452 1322.57,154.452 1324.59,154.452 1326.61,154.452 1328.63,154.452 1330.65,154.452 1332.67,154.452 1334.69,154.452 1336.71,154.452 1338.73,154.452 1340.75,154.452 1342.77,154.452 1344.79,154.452 1346.81,154.452 1348.83,154.452 1350.85,154.452 1352.87,154.452 1354.89,154.452 1356.91,154.452 1358.93,154.452 1360.95,154.452 1362.98,154.452 1365,154.452 1367.02,154.452 1369.04,154.452 1371.06,154.452 1373.08,154.452 1375.1,154.452 1377.12,154.452 1379.14,154.452 1381.16,154.452 1383.18,154.452 1385.2,154.452 1387.22,154.452 1389.24,154.452 1391.26,154.452 1393.28,154.452 1395.3,154.452 1397.32,154.452 1399.34,154.452 1401.36,154.452 1403.38,154.452 1405.4,154.452 1407.42,154.452 1409.44,154.452 1411.46,154.452 1413.48,154.452 1415.5,154.452 1417.52,154.452 1419.54,154.452 1421.56,154.452 1423.58,154.452 1425.6,154.452 1427.62,154.452 1429.64,154.452 1431.66,154.452 1433.68,154.452 1435.7,154.452 1437.72,154.452 1439.74,154.452 1441.76,154.452 1443.78,154.452 1445.8,154.452 1447.82,154.452 1449.84,154.452 1451.86,154.452 1453.88,154.452 1455.9,154.452 1457.92,154.452 1459.94,154.452 1461.96,154.452 1463.98,154.452 1466,154.452 1468.02,154.452 1470.04,154.452 1472.06,154.452 1474.08,154.452 1476.1,154.452 1478.12,154.452 1480.14,154.452 1482.16,154.452 1484.18,154.452 1486.2,154.452 1488.22,154.452 1490.24,154.452 1492.26,154.452 1494.28,154.452 1496.3,154.452 1498.32,154.452 1500.34,154.452 1502.36,154.452 1504.38,154.452 1506.4,154.452 1508.42,154.452 1510.44,154.452 1512.46,154.452 1514.48,154.452 1516.5,154.452 1518.52,154.452 1520.54,154.452 1522.56,154.452 1524.58,154.452 1526.6,154.452 1528.62,154.452 1530.64,154.452 1532.66,154.452 1534.68,154.452 1536.7,154.452 1538.72,154.452 1540.74,154.452 1542.76,154.452 1544.78,154.452 1546.8,154.452 1548.82,154.452 1550.84,154.452 1552.86,154.452 1554.88,154.452 1556.9,154.452 1558.92,154.452 1560.94,154.452 1562.96,154.452 1564.98,154.452 1567,154.452 1569.02,154.452 1571.04,154.452 1573.06,154.452 1575.08,154.452 1577.1,154.452 1579.12,154.452 1581.14,154.452 1583.16,154.452 1585.18,154.452 1587.2,154.452 1589.22,154.452 1591.24,154.452 1593.26,154.452 1595.28,154.452 1597.3,154.452 1599.32,154.452 1601.35,154.452 1603.37,154.452 1605.39,154.452 1607.41,154.452 1609.43,154.452 1611.45,154.452 1613.47,154.452 1615.49,154.452 1617.51,154.452 1619.53,154.452 1621.55,154.452 1623.57,154.452 1625.59,154.452 1627.61,154.452 1629.63,154.452 1631.65,154.452 1633.67,154.452 1635.69,154.452 1637.71,154.452 1639.73,154.452 1641.75,154.452 1643.77,154.452 1645.79,154.452 1647.81,154.452 1649.83,154.452 1651.85,154.452 1653.87,154.452 1655.89,154.452 1657.91,154.452 1659.93,154.452 1661.95,154.452 1663.97,154.452 1665.99,154.452 1668.01,154.452 1670.03,154.452 1672.05,154.452 1674.07,154.452 1676.09,154.452 1678.11,154.452 1680.13,154.452 1682.15,154.452 1684.17,154.452 1686.19,154.452 1688.21,154.452 1690.23,154.452 1692.25,154.452 1694.27,154.452 1696.29,154.452 1698.31,154.452 1700.33,154.452 1702.35,154.452 1704.37,154.452 1706.39,154.452 1708.41,154.452 1710.43,154.452 1712.45,154.452 1714.47,154.452 1716.49,154.452 1718.51,154.452 1720.53,154.452 1722.55,154.452 1724.57,154.452 1726.59,154.452 1728.61,154.452 1730.63,154.452 1732.65,154.452 1734.67,154.452 1736.69,154.452 1738.71,154.452 1740.73,154.452 1742.75,154.452 1744.77,154.452 1746.79,154.452 1748.81,154.452 1750.83,154.452 1752.85,154.452 1754.87,154.452 1756.89,154.452 1758.91,154.452 1760.93,154.452 1762.95,154.452 1764.97,154.452 1766.99,154.452 1769.01,154.452 1771.03,154.452 1773.05,154.452 1775.07,154.452 1777.09,154.452 1779.11,154.452 1781.13,154.452 1783.15,154.452 1785.17,154.452 1787.19,154.452 1789.21,154.452 1791.23,154.452 1793.25,154.452 1795.27,154.452 1797.29,154.452 1799.31,154.452 1801.33,154.452 1803.35,154.452 1805.37,154.452 1807.39,154.452 1809.41,154.452 1811.43,154.452 1813.45,154.452 1815.47,154.452 1817.49,154.452 1819.51,154.452 1821.53,154.452 1823.55,154.452 1825.57,154.452 1827.59,154.452 1829.61,154.452 1831.63,154.452 1833.65,154.452 1835.67,154.452 1837.69,154.452 1839.72,154.452 1841.74,154.452 1843.76,154.452 1845.78,154.452 1847.8,154.452 1849.82,154.452 1851.84,154.452 1853.86,154.452 1855.88,154.452 1857.9,154.452 1859.92,154.452 1861.94,154.452 1863.96,154.452 1865.98,154.452 1868,154.452 1870.02,154.452 1872.04,154.452 1874.06,154.452 1876.08,154.452 1878.1,154.452 1880.12,154.452 1882.14,154.452 1884.16,154.452 1886.18,154.452 1888.2,154.452 1890.22,154.452 1892.24,154.452 1894.26,154.452 1896.28,154.452 1898.3,154.452 1900.32,154.452 1902.34,154.452 1904.36,154.452 1906.38,154.452 1908.4,154.452 1910.42,154.452 1912.44,154.452 1914.46,154.452 1916.48,154.452 1918.5,154.452 1920.52,154.452 1922.54,154.452 1924.56,154.452 1926.58,154.452 1928.6,154.452 1930.62,154.452 1932.64,154.452 1934.66,154.452 1936.68,154.452 1938.7,154.452 1940.72,154.452 1942.74,154.452 1944.76,154.452 1946.78,154.452 1948.8,154.452 1950.82,154.452 1952.84,154.452 1954.86,154.452 1956.88,154.452 1958.9,154.452 1960.92,154.452 1962.94,154.452 1964.96,154.452 1966.98,154.452 1969,154.452 1971.02,154.452 1973.04,154.452 1975.06,154.452 1977.08,154.452 1979.1,154.452 1981.12,154.452 1983.14,154.452 1985.16,154.452 1987.18,154.452 1989.2,154.452 1991.22,154.452 1993.24,154.452 1995.26,154.452 1997.28,154.452 1999.3,154.452 2001.32,154.452 2003.34,154.452 2005.36,154.452 2007.38,154.452 2009.4,154.452 2011.42,154.452 2013.44,154.452 2015.46,154.452 2017.48,154.452 2019.5,154.452 2021.52,154.452 2023.54,154.452 2025.56,154.452 2027.58,154.452 2029.6,154.452 2031.62,154.452 2033.64,154.452 2035.66,154.452 2037.68,154.452 2039.7,154.452 2041.72,154.452 2043.74,154.452 2045.76,154.452 2047.78,154.452 2049.8,154.452 2051.82,154.452 2053.84,154.452 2055.86,154.452 2057.88,154.452 2059.9,154.452 2061.92,154.452 2063.94,154.452 2065.96,154.452 2067.98,154.452 2070,154.452 2072.02,154.452 2074.04,154.452 2076.06,154.452 2078.08,154.452 2080.11,154.452 2082.13,154.452 2084.15,154.452 2086.17,154.452 2088.19,154.452 2090.21,154.452 2092.23,154.452 2094.25,154.452 2096.27,154.452 2098.29,154.452 2100.31,154.452 2102.33,154.452 2104.35,154.452 2106.37,154.452 2108.39,154.452 2110.41,154.452 2112.43,154.452 2114.45,154.452 2116.47,154.452 2118.49,154.452 2120.51,154.452 2122.53,154.452 2124.55,154.452 2126.57,154.452 2128.59,154.452 2130.61,154.452 2132.63,154.452 2134.65,154.452 2136.67,154.452 2138.69,154.452 2140.71,154.452 2142.73,154.452 2144.75,154.452 2146.77,154.452 2148.79,154.452 2150.81,154.452 2152.83,154.452 2154.85,154.452 2156.87,154.452 2158.89,154.452 2160.91,154.452 2162.93,154.452 2164.95,154.452 2166.97,154.452 2168.99,154.452 2171.01,154.452 2173.03,154.452 2175.05,154.452 2177.07,154.452 2179.09,154.452 2181.11,154.452 2183.13,154.452 2185.15,154.452 2187.17,154.452 2189.19,154.452 2191.21,154.452 2193.23,154.452 2195.25,154.452 2197.27,154.452 2199.29,154.452 2201.31,154.452 2203.33,154.452 2205.35,154.452 2207.37,154.452 2209.39,154.452 2211.41,154.452 2213.43,154.452 2215.45,154.452 2217.47,154.452 2219.49,154.452 2221.51,154.452 2223.53,154.452 2225.55,154.452 2227.57,154.452 2229.59,154.452 2231.61,154.452 2233.63,154.452 2235.65,154.452 2237.67,154.452 2239.69,154.452 2241.71,154.452 2243.73,154.452 2245.75,154.452 2247.77,154.452 2249.79,154.452 2251.81,154.452 2253.83,154.452 2255.85,154.452 2257.87,154.452 2259.89,154.452 2261.91,154.452 2263.93,154.452 2265.95,154.452 2267.97,154.452 2269.99,154.452 2272.01,154.452 2274.03,154.452 2276.05,154.452 2278.07,154.452 2280.09,154.452 2282.11,154.452 2284.13,154.452 2286.15,154.452 2288.17,154.452 2290.19,154.452 2292.21,154.452 \"/>\n",
       "<polyline clip-path=\"url(#clip042)\" style=\"stroke:#3da44d; stroke-linecap:round; stroke-linejoin:round; stroke-width:4; stroke-opacity:1; fill:none\" points=\"274.149,116.751 276.169,122.106 278.19,87.9763 280.21,99.1949 282.23,87.9763 284.25,117.117 286.27,106.916 288.29,191.051 290.31,130.689 292.33,162.673 294.35,144.601 296.37,151.059 298.39,148.435 300.411,149.35 302.431,149.043 304.451,149.139 306.471,149.11 308.491,149.118 310.511,149.116 312.531,149.117 314.551,149.117 316.571,149.117 318.591,149.117 320.611,149.117 322.631,149.117 324.652,149.117 326.672,149.117 328.692,149.117 330.712,149.117 332.732,149.117 334.752,149.117 336.772,149.117 338.792,149.117 340.812,149.117 342.832,149.117 344.852,149.117 346.872,149.117 348.893,149.117 350.913,149.117 352.933,149.117 354.953,149.117 356.973,149.117 358.993,149.117 361.013,149.117 363.033,149.117 365.053,149.117 367.073,149.117 369.093,149.117 371.113,149.117 373.134,149.117 375.154,149.117 377.174,149.117 379.194,149.117 381.214,149.117 383.234,149.117 385.254,149.117 387.274,149.117 389.294,149.117 391.314,149.117 393.334,149.117 395.354,149.117 397.375,149.117 399.395,149.117 401.415,149.117 403.435,149.117 405.455,149.117 407.475,149.117 409.495,149.117 411.515,149.117 413.535,149.117 415.555,149.117 417.575,149.117 419.596,149.117 421.616,149.117 423.636,149.117 425.656,149.117 427.676,149.117 429.696,149.117 431.716,149.117 433.736,149.117 435.756,149.117 437.776,149.117 439.796,149.117 441.816,149.117 443.837,149.117 445.857,149.117 447.877,149.117 449.897,149.117 451.917,149.117 453.937,149.117 455.957,149.117 457.977,149.117 459.997,149.117 462.017,149.117 464.037,149.117 466.057,149.117 468.078,149.117 470.098,149.117 472.118,149.117 474.138,149.117 476.158,149.117 478.178,149.117 480.198,149.117 482.218,149.117 484.238,149.117 486.258,149.117 488.278,149.117 490.298,149.117 492.319,149.117 494.339,149.117 496.359,149.117 498.379,149.117 500.399,149.117 502.419,149.117 504.439,149.117 506.459,149.117 508.479,149.117 510.499,149.117 512.519,149.117 514.539,149.117 516.56,149.117 518.58,149.117 520.6,149.117 522.62,149.117 524.64,149.117 526.66,149.117 528.68,149.117 530.7,149.117 532.72,149.117 534.74,149.117 536.76,149.117 538.781,149.117 540.801,149.117 542.821,149.117 544.841,149.117 546.861,149.117 548.881,149.117 550.901,149.117 552.921,149.117 554.941,149.117 556.961,149.117 558.981,149.117 561.001,149.117 563.022,149.117 565.042,149.117 567.062,149.117 569.082,149.117 571.102,149.117 573.122,149.117 575.142,149.117 577.162,149.117 579.182,149.117 581.202,149.117 583.222,149.117 585.242,149.117 587.263,149.117 589.283,149.117 591.303,149.117 593.323,149.117 595.343,149.117 597.363,149.117 599.383,149.117 601.403,149.117 603.423,149.117 605.443,149.117 607.463,149.117 609.483,149.117 611.504,149.117 613.524,149.117 615.544,149.117 617.564,149.117 619.584,149.117 621.604,149.117 623.624,149.117 625.644,149.117 627.664,149.117 629.684,149.117 631.704,149.117 633.724,149.117 635.745,149.117 637.765,149.117 639.785,149.117 641.805,149.117 643.825,149.117 645.845,149.117 647.865,149.117 649.885,149.117 651.905,149.117 653.925,149.117 655.945,149.117 657.965,149.117 659.986,149.117 662.006,149.117 664.026,149.117 666.046,149.117 668.066,149.117 670.086,149.117 672.106,149.117 674.126,149.117 676.146,149.117 678.166,149.117 680.186,149.117 682.207,149.117 684.227,149.117 686.247,149.117 688.267,149.117 690.287,149.117 692.307,149.117 694.327,149.117 696.347,149.117 698.367,149.117 700.387,149.117 702.407,149.117 704.427,149.117 706.448,149.117 708.468,149.117 710.488,149.117 712.508,149.117 714.528,149.117 716.548,149.117 718.568,149.117 720.588,149.117 722.608,149.117 724.628,149.117 726.648,149.117 728.668,149.117 730.689,149.117 732.709,149.117 734.729,149.117 736.749,149.117 738.769,149.117 740.789,149.117 742.809,149.117 744.829,149.117 746.849,149.117 748.869,149.117 750.889,149.117 752.909,149.117 754.93,149.117 756.95,149.117 758.97,149.117 760.99,149.117 763.01,149.117 765.03,149.117 767.05,149.117 769.07,149.117 771.09,149.117 773.11,149.117 775.13,149.117 777.15,149.117 779.171,149.117 781.191,149.117 783.211,149.117 785.231,149.117 787.251,149.117 789.271,149.117 791.291,149.117 793.311,149.117 795.331,149.117 797.351,149.117 799.371,149.117 801.392,149.117 803.412,149.117 805.432,149.117 807.452,149.117 809.472,149.117 811.492,149.117 813.512,149.117 815.532,149.117 817.552,149.117 819.572,149.117 821.592,149.117 823.612,149.117 825.633,149.117 827.653,149.117 829.673,149.117 831.693,149.117 833.713,149.117 835.733,149.117 837.753,149.117 839.773,149.117 841.793,149.117 843.813,149.117 845.833,149.117 847.853,149.117 849.874,149.117 851.894,149.117 853.914,149.117 855.934,149.117 857.954,149.117 859.974,149.117 861.994,149.117 864.014,149.117 866.034,149.117 868.054,149.117 870.074,149.117 872.094,149.117 874.115,149.117 876.135,149.117 878.155,149.117 880.175,149.117 882.195,149.117 884.215,149.117 886.235,149.117 888.255,149.117 890.275,149.117 892.295,149.117 894.315,149.117 896.335,149.117 898.356,149.117 900.376,149.117 902.396,149.117 904.416,149.117 906.436,149.117 908.456,149.117 910.476,149.117 912.496,149.117 914.516,149.117 916.536,149.117 918.556,149.117 920.576,149.117 922.597,149.117 924.617,149.117 926.637,149.117 928.657,149.117 930.677,149.117 932.697,149.117 934.717,149.117 936.737,149.117 938.757,149.117 940.777,149.117 942.797,149.117 944.818,149.117 946.838,149.117 948.858,149.117 950.878,149.117 952.898,149.117 954.918,149.117 956.938,149.117 958.958,149.117 960.978,149.117 962.998,149.117 965.018,149.117 967.038,149.117 969.059,149.117 971.079,149.117 973.099,149.117 975.119,149.117 977.139,149.117 979.159,149.117 981.179,149.117 983.199,149.117 985.219,149.117 987.239,149.117 989.259,149.117 991.279,149.117 993.3,149.117 995.32,149.117 997.34,149.117 999.36,149.117 1001.38,149.117 1003.4,149.117 1005.42,149.117 1007.44,149.117 1009.46,149.117 1011.48,149.117 1013.5,149.117 1015.52,149.117 1017.54,149.117 1019.56,149.117 1021.58,149.117 1023.6,149.117 1025.62,149.117 1027.64,149.117 1029.66,149.117 1031.68,149.117 1033.7,149.117 1035.72,149.117 1037.74,149.117 1039.76,149.117 1041.78,149.117 1043.8,149.117 1045.82,149.117 1047.84,149.117 1049.86,149.117 1051.88,149.117 1053.9,149.117 1055.92,149.117 1057.94,149.117 1059.96,149.117 1061.98,149.117 1064,149.117 1066.02,149.117 1068.04,149.117 1070.06,149.117 1072.08,149.117 1074.1,149.117 1076.12,149.117 1078.14,149.117 1080.16,149.117 1082.18,149.117 1084.2,149.117 1086.22,149.117 1088.24,149.117 1090.26,149.117 1092.28,149.117 1094.3,149.117 1096.32,149.117 1098.34,149.117 1100.36,149.117 1102.38,149.117 1104.4,149.117 1106.42,149.117 1108.44,149.117 1110.46,149.117 1112.48,149.117 1114.5,149.117 1116.52,149.117 1118.54,149.117 1120.56,149.117 1122.58,149.117 1124.61,149.117 1126.63,149.117 1128.65,149.117 1130.67,149.117 1132.69,149.117 1134.71,149.117 1136.73,149.117 1138.75,149.117 1140.77,149.117 1142.79,149.117 1144.81,149.117 1146.83,149.117 1148.85,149.117 1150.87,149.117 1152.89,149.117 1154.91,149.117 1156.93,149.117 1158.95,149.117 1160.97,149.117 1162.99,149.117 1165.01,149.117 1167.03,149.117 1169.05,149.117 1171.07,149.117 1173.09,149.117 1175.11,149.117 1177.13,149.117 1179.15,149.117 1181.17,149.117 1183.19,149.117 1185.21,149.117 1187.23,149.117 1189.25,149.117 1191.27,149.117 1193.29,149.117 1195.31,149.117 1197.33,149.117 1199.35,149.117 1201.37,149.117 1203.39,149.117 1205.41,149.117 1207.43,149.117 1209.45,149.117 1211.47,149.117 1213.49,149.117 1215.51,149.117 1217.53,149.117 1219.55,149.117 1221.57,149.117 1223.59,149.117 1225.61,149.117 1227.63,149.117 1229.65,149.117 1231.67,149.117 1233.69,149.117 1235.71,149.117 1237.73,149.117 1239.75,149.117 1241.77,149.117 1243.79,149.117 1245.81,149.117 1247.83,149.117 1249.85,149.117 1251.87,149.117 1253.89,149.117 1255.91,149.117 1257.93,149.117 1259.95,149.117 1261.97,149.117 1263.99,149.117 1266.01,149.117 1268.03,149.117 1270.05,149.117 1272.07,149.117 1274.09,149.117 1276.11,149.117 1278.13,149.117 1280.15,149.117 1282.17,149.117 1284.19,149.117 1286.21,149.117 1288.23,149.117 1290.25,149.117 1292.27,149.117 1294.29,149.117 1296.31,149.117 1298.33,149.117 1300.35,149.117 1302.37,149.117 1304.39,149.117 1306.41,149.117 1308.43,149.117 1310.45,149.117 1312.47,149.117 1314.49,149.117 1316.51,149.117 1318.53,149.117 1320.55,149.117 1322.57,149.117 1324.59,149.117 1326.61,149.117 1328.63,149.117 1330.65,149.117 1332.67,149.117 1334.69,149.117 1336.71,149.117 1338.73,149.117 1340.75,149.117 1342.77,149.117 1344.79,149.117 1346.81,149.117 1348.83,149.117 1350.85,149.117 1352.87,149.117 1354.89,149.117 1356.91,149.117 1358.93,149.117 1360.95,149.117 1362.98,149.117 1365,149.117 1367.02,149.117 1369.04,149.117 1371.06,149.117 1373.08,149.117 1375.1,149.117 1377.12,149.117 1379.14,149.117 1381.16,149.117 1383.18,149.117 1385.2,149.117 1387.22,149.117 1389.24,149.117 1391.26,149.117 1393.28,149.117 1395.3,149.117 1397.32,149.117 1399.34,149.117 1401.36,149.117 1403.38,149.117 1405.4,149.117 1407.42,149.117 1409.44,149.117 1411.46,149.117 1413.48,149.117 1415.5,149.117 1417.52,149.117 1419.54,149.117 1421.56,149.117 1423.58,149.117 1425.6,149.117 1427.62,149.117 1429.64,149.117 1431.66,149.117 1433.68,149.117 1435.7,149.117 1437.72,149.117 1439.74,149.117 1441.76,149.117 1443.78,149.117 1445.8,149.117 1447.82,149.117 1449.84,149.117 1451.86,149.117 1453.88,149.117 1455.9,149.117 1457.92,149.117 1459.94,149.117 1461.96,149.117 1463.98,149.117 1466,149.117 1468.02,149.117 1470.04,149.117 1472.06,149.117 1474.08,149.117 1476.1,149.117 1478.12,149.117 1480.14,149.117 1482.16,149.117 1484.18,149.117 1486.2,149.117 1488.22,149.117 1490.24,149.117 1492.26,149.117 1494.28,149.117 1496.3,149.117 1498.32,149.117 1500.34,149.117 1502.36,149.117 1504.38,149.117 1506.4,149.117 1508.42,149.117 1510.44,149.117 1512.46,149.117 1514.48,149.117 1516.5,149.117 1518.52,149.117 1520.54,149.117 1522.56,149.117 1524.58,149.117 1526.6,149.117 1528.62,149.117 1530.64,149.117 1532.66,149.117 1534.68,149.117 1536.7,149.117 1538.72,149.117 1540.74,149.117 1542.76,149.117 1544.78,149.117 1546.8,149.117 1548.82,149.117 1550.84,149.117 1552.86,149.117 1554.88,149.117 1556.9,149.117 1558.92,149.117 1560.94,149.117 1562.96,149.117 1564.98,149.117 1567,149.117 1569.02,149.117 1571.04,149.117 1573.06,149.117 1575.08,149.117 1577.1,149.117 1579.12,149.117 1581.14,149.117 1583.16,149.117 1585.18,149.117 1587.2,149.117 1589.22,149.117 1591.24,149.117 1593.26,149.117 1595.28,149.117 1597.3,149.117 1599.32,149.117 1601.35,149.117 1603.37,149.117 1605.39,149.117 1607.41,149.117 1609.43,149.117 1611.45,149.117 1613.47,149.117 1615.49,149.117 1617.51,149.117 1619.53,149.117 1621.55,149.117 1623.57,149.117 1625.59,149.117 1627.61,149.117 1629.63,149.117 1631.65,149.117 1633.67,149.117 1635.69,149.117 1637.71,149.117 1639.73,149.117 1641.75,149.117 1643.77,149.117 1645.79,149.117 1647.81,149.117 1649.83,149.117 1651.85,149.117 1653.87,149.117 1655.89,149.117 1657.91,149.117 1659.93,149.117 1661.95,149.117 1663.97,149.117 1665.99,149.117 1668.01,149.117 1670.03,149.117 1672.05,149.117 1674.07,149.117 1676.09,149.117 1678.11,149.117 1680.13,149.117 1682.15,149.117 1684.17,149.117 1686.19,149.117 1688.21,149.117 1690.23,149.117 1692.25,149.117 1694.27,149.117 1696.29,149.117 1698.31,149.117 1700.33,149.117 1702.35,149.117 1704.37,149.117 1706.39,149.117 1708.41,149.117 1710.43,149.117 1712.45,149.117 1714.47,149.117 1716.49,149.117 1718.51,149.117 1720.53,149.117 1722.55,149.117 1724.57,149.117 1726.59,149.117 1728.61,149.117 1730.63,149.117 1732.65,149.117 1734.67,149.117 1736.69,149.117 1738.71,149.117 1740.73,149.117 1742.75,149.117 1744.77,149.117 1746.79,149.117 1748.81,149.117 1750.83,149.117 1752.85,149.117 1754.87,149.117 1756.89,149.117 1758.91,149.117 1760.93,149.117 1762.95,149.117 1764.97,149.117 1766.99,149.117 1769.01,149.117 1771.03,149.117 1773.05,149.117 1775.07,149.117 1777.09,149.117 1779.11,149.117 1781.13,149.117 1783.15,149.117 1785.17,149.117 1787.19,149.117 1789.21,149.117 1791.23,149.117 1793.25,149.117 1795.27,149.117 1797.29,149.117 1799.31,149.117 1801.33,149.117 1803.35,149.117 1805.37,149.117 1807.39,149.117 1809.41,149.117 1811.43,149.117 1813.45,149.117 1815.47,149.117 1817.49,149.117 1819.51,149.117 1821.53,149.117 1823.55,149.117 1825.57,149.117 1827.59,149.117 1829.61,149.117 1831.63,149.117 1833.65,149.117 1835.67,149.117 1837.69,149.117 1839.72,149.117 1841.74,149.117 1843.76,149.117 1845.78,149.117 1847.8,149.117 1849.82,149.117 1851.84,149.117 1853.86,149.117 1855.88,149.117 1857.9,149.117 1859.92,149.117 1861.94,149.117 1863.96,149.117 1865.98,149.117 1868,149.117 1870.02,149.117 1872.04,149.117 1874.06,149.117 1876.08,149.117 1878.1,149.117 1880.12,149.117 1882.14,149.117 1884.16,149.117 1886.18,149.117 1888.2,149.117 1890.22,149.117 1892.24,149.117 1894.26,149.117 1896.28,149.117 1898.3,149.117 1900.32,149.117 1902.34,149.117 1904.36,149.117 1906.38,149.117 1908.4,149.117 1910.42,149.117 1912.44,149.117 1914.46,149.117 1916.48,149.117 1918.5,149.117 1920.52,149.117 1922.54,149.117 1924.56,149.117 1926.58,149.117 1928.6,149.117 1930.62,149.117 1932.64,149.117 1934.66,149.117 1936.68,149.117 1938.7,149.117 1940.72,149.117 1942.74,149.117 1944.76,149.117 1946.78,149.117 1948.8,149.117 1950.82,149.117 1952.84,149.117 1954.86,149.117 1956.88,149.117 1958.9,149.117 1960.92,149.117 1962.94,149.117 1964.96,149.117 1966.98,149.117 1969,149.117 1971.02,149.117 1973.04,149.117 1975.06,149.117 1977.08,149.117 1979.1,149.117 1981.12,149.117 1983.14,149.117 1985.16,149.117 1987.18,149.117 1989.2,149.117 1991.22,149.117 1993.24,149.117 1995.26,149.117 1997.28,149.117 1999.3,149.117 2001.32,149.117 2003.34,149.117 2005.36,149.117 2007.38,149.117 2009.4,149.117 2011.42,149.117 2013.44,149.117 2015.46,149.117 2017.48,149.117 2019.5,149.117 2021.52,149.117 2023.54,149.117 2025.56,149.117 2027.58,149.117 2029.6,149.117 2031.62,149.117 2033.64,149.117 2035.66,149.117 2037.68,149.117 2039.7,149.117 2041.72,149.117 2043.74,149.117 2045.76,149.117 2047.78,149.117 2049.8,149.117 2051.82,149.117 2053.84,149.117 2055.86,149.117 2057.88,149.117 2059.9,149.117 2061.92,149.117 2063.94,149.117 2065.96,149.117 2067.98,149.117 2070,149.117 2072.02,149.117 2074.04,149.117 2076.06,149.117 2078.08,149.117 2080.11,149.117 2082.13,149.117 2084.15,149.117 2086.17,149.117 2088.19,149.117 2090.21,149.117 2092.23,149.117 2094.25,149.117 2096.27,149.117 2098.29,149.117 2100.31,149.117 2102.33,149.117 2104.35,149.117 2106.37,149.117 2108.39,149.117 2110.41,149.117 2112.43,149.117 2114.45,149.117 2116.47,149.117 2118.49,149.117 2120.51,149.117 2122.53,149.117 2124.55,149.117 2126.57,149.117 2128.59,149.117 2130.61,149.117 2132.63,149.117 2134.65,149.117 2136.67,149.117 2138.69,149.117 2140.71,149.117 2142.73,149.117 2144.75,149.117 2146.77,149.117 2148.79,149.117 2150.81,149.117 2152.83,149.117 2154.85,149.117 2156.87,149.117 2158.89,149.117 2160.91,149.117 2162.93,149.117 2164.95,149.117 2166.97,149.117 2168.99,149.117 2171.01,149.117 2173.03,149.117 2175.05,149.117 2177.07,149.117 2179.09,149.117 2181.11,149.117 2183.13,149.117 2185.15,149.117 2187.17,149.117 2189.19,149.117 2191.21,149.117 2193.23,149.117 2195.25,149.117 2197.27,149.117 2199.29,149.117 2201.31,149.117 2203.33,149.117 2205.35,149.117 2207.37,149.117 2209.39,149.117 2211.41,149.117 2213.43,149.117 2215.45,149.117 2217.47,149.117 2219.49,149.117 2221.51,149.117 2223.53,149.117 2225.55,149.117 2227.57,149.117 2229.59,149.117 2231.61,149.117 2233.63,149.117 2235.65,149.117 2237.67,149.117 2239.69,149.117 2241.71,149.117 2243.73,149.117 2245.75,149.117 2247.77,149.117 2249.79,149.117 2251.81,149.117 2253.83,149.117 2255.85,149.117 2257.87,149.117 2259.89,149.117 2261.91,149.117 2263.93,149.117 2265.95,149.117 2267.97,149.117 2269.99,149.117 2272.01,149.117 2274.03,149.117 2276.05,149.117 2278.07,149.117 2280.09,149.117 2282.11,149.117 2284.13,149.117 2286.15,149.117 2288.17,149.117 2290.19,149.117 2292.21,149.117 \"/>\n",
       "<path clip-path=\"url(#clip040)\" d=\"M1919.5 302.578 L2281.45 302.578 L2281.45 95.2176 L1919.5 95.2176  Z\" fill=\"#ffffff\" fill-rule=\"evenodd\" fill-opacity=\"1\"/>\n",
       "<polyline clip-path=\"url(#clip040)\" style=\"stroke:#000000; stroke-linecap:round; stroke-linejoin:round; stroke-width:4; stroke-opacity:1; fill:none\" points=\"1919.5,302.578 2281.45,302.578 2281.45,95.2176 1919.5,95.2176 1919.5,302.578 \"/>\n",
       "<polyline clip-path=\"url(#clip040)\" style=\"stroke:#009af9; stroke-linecap:round; stroke-linejoin:round; stroke-width:4; stroke-opacity:1; fill:none\" points=\"1943.27,147.058 2085.88,147.058 \"/>\n",
       "<path clip-path=\"url(#clip040)\" d=\"M2110.23 138.412 L2130.46 138.412 L2130.46 142.301 L2114.44 160.935 L2130.46 160.935 L2130.46 164.338 L2109.65 164.338 L2109.65 160.449 L2125.67 141.815 L2110.23 141.815 L2110.23 138.412 Z\" fill=\"#000000\" fill-rule=\"nonzero\" fill-opacity=\"1\" /><path clip-path=\"url(#clip040)\" d=\"M2152.59 142.81 L2182.27 142.81 L2182.27 146.699 L2152.59 146.699 L2152.59 142.81 M2152.59 152.254 L2182.27 152.254 L2182.27 156.189 L2152.59 156.189 L2152.59 152.254 Z\" fill=\"#000000\" fill-rule=\"nonzero\" fill-opacity=\"1\" /><path clip-path=\"url(#clip040)\" d=\"M2208.24 160.402 L2215.88 160.402 L2215.88 134.037 L2207.57 135.703 L2207.57 131.444 L2215.83 129.778 L2220.51 129.778 L2220.51 160.402 L2228.15 160.402 L2228.15 164.338 L2208.24 164.338 L2208.24 160.402 Z\" fill=\"#000000\" fill-rule=\"nonzero\" fill-opacity=\"1\" /><polyline clip-path=\"url(#clip040)\" style=\"stroke:#e26f46; stroke-linecap:round; stroke-linejoin:round; stroke-width:4; stroke-opacity:1; fill:none\" points=\"1943.27,198.898 2085.88,198.898 \"/>\n",
       "<path clip-path=\"url(#clip040)\" d=\"M2110.23 190.252 L2130.46 190.252 L2130.46 194.141 L2114.44 212.775 L2130.46 212.775 L2130.46 216.178 L2109.65 216.178 L2109.65 212.289 L2125.67 193.655 L2110.23 193.655 L2110.23 190.252 Z\" fill=\"#000000\" fill-rule=\"nonzero\" fill-opacity=\"1\" /><path clip-path=\"url(#clip040)\" d=\"M2152.59 194.65 L2182.27 194.65 L2182.27 198.539 L2152.59 198.539 L2152.59 194.65 M2152.59 204.094 L2182.27 204.094 L2182.27 208.029 L2152.59 208.029 L2152.59 204.094 Z\" fill=\"#000000\" fill-rule=\"nonzero\" fill-opacity=\"1\" /><path clip-path=\"url(#clip040)\" d=\"M2206.83 190.252 L2211.09 190.252 L2211.09 216.178 L2206.83 216.178 L2206.83 190.252 M2206.83 180.159 L2211.09 180.159 L2211.09 185.553 L2206.83 185.553 L2206.83 180.159 Z\" fill=\"#000000\" fill-rule=\"nonzero\" fill-opacity=\"1\" /><path clip-path=\"url(#clip040)\" d=\"M2240.18 195.229 Q2241.78 192.358 2244 190.993 Q2246.22 189.627 2249.23 189.627 Q2253.28 189.627 2255.48 192.474 Q2257.68 195.298 2257.68 200.529 L2257.68 216.178 L2253.4 216.178 L2253.4 200.668 Q2253.4 196.942 2252.08 195.136 Q2250.76 193.33 2248.05 193.33 Q2244.74 193.33 2242.82 195.53 Q2240.9 197.729 2240.9 201.525 L2240.9 216.178 L2236.62 216.178 L2236.62 200.668 Q2236.62 196.918 2235.3 195.136 Q2233.98 193.33 2231.22 193.33 Q2227.96 193.33 2226.04 195.553 Q2224.12 197.752 2224.12 201.525 L2224.12 216.178 L2219.84 216.178 L2219.84 190.252 L2224.12 190.252 L2224.12 194.28 Q2225.58 191.895 2227.61 190.761 Q2229.65 189.627 2232.45 189.627 Q2235.28 189.627 2237.24 191.062 Q2239.23 192.497 2240.18 195.229 Z\" fill=\"#000000\" fill-rule=\"nonzero\" fill-opacity=\"1\" /><polyline clip-path=\"url(#clip040)\" style=\"stroke:#3da44d; stroke-linecap:round; stroke-linejoin:round; stroke-width:4; stroke-opacity:1; fill:none\" points=\"1943.27,250.738 2085.88,250.738 \"/>\n",
       "<path clip-path=\"url(#clip040)\" d=\"M2110.23 242.092 L2130.46 242.092 L2130.46 245.981 L2114.44 264.615 L2130.46 264.615 L2130.46 268.018 L2109.65 268.018 L2109.65 264.129 L2125.67 245.495 L2110.23 245.495 L2110.23 242.092 Z\" fill=\"#000000\" fill-rule=\"nonzero\" fill-opacity=\"1\" /><path clip-path=\"url(#clip040)\" d=\"M2152.59 246.49 L2182.27 246.49 L2182.27 250.379 L2152.59 250.379 L2152.59 246.49 M2152.59 255.934 L2182.27 255.934 L2182.27 259.869 L2152.59 259.869 L2152.59 255.934 Z\" fill=\"#000000\" fill-rule=\"nonzero\" fill-opacity=\"1\" /><path clip-path=\"url(#clip040)\" d=\"M2204.67 253.133 L2217.15 253.133 L2217.15 256.93 L2204.67 256.93 L2204.67 253.133 Z\" fill=\"#000000\" fill-rule=\"nonzero\" fill-opacity=\"1\" /><path clip-path=\"url(#clip040)\" d=\"M2224.58 233.458 L2242.94 233.458 L2242.94 237.393 L2228.86 237.393 L2228.86 245.865 Q2229.88 245.518 2230.9 245.356 Q2231.92 245.17 2232.94 245.17 Q2238.72 245.17 2242.1 248.342 Q2245.48 251.513 2245.48 256.93 Q2245.48 262.508 2242.01 265.61 Q2238.54 268.689 2232.22 268.689 Q2230.04 268.689 2227.78 268.318 Q2225.53 267.948 2223.12 267.207 L2223.12 262.508 Q2225.21 263.643 2227.43 264.198 Q2229.65 264.754 2232.13 264.754 Q2236.13 264.754 2238.47 262.647 Q2240.81 260.541 2240.81 256.93 Q2240.81 253.319 2238.47 251.212 Q2236.13 249.106 2232.13 249.106 Q2230.25 249.106 2228.38 249.522 Q2226.53 249.939 2224.58 250.819 L2224.58 233.458 Z\" fill=\"#000000\" fill-rule=\"nonzero\" fill-opacity=\"1\" /></svg>\n"
      ]
     },
     "metadata": {},
     "output_type": "display_data"
    }
   ],
   "source": [
    "# TODO: plot the error for the Taylor series approximation.\n",
    "n = 1:1000\n",
    "errs1 = [abs(exp_t(1, i) - exp(1)) for i = n]\n",
    "errs2 = [abs(exp_t(im, i) - exp(1)) for i = n]\n",
    "errs3 = [abs(exp_t(-5, i) - exp(1)) for i = n]\n",
    "\n",
    "plot(n, errs1; yscale=:log10, label=\"z = 1\")\n",
    "plot!(n, errs2; yscale=:log10, label=\"z = im\")\n",
    "plot!(n, errs3; yscale=:log10, label=\"z = -5\")"
   ]
  },
  {
   "cell_type": "markdown",
   "metadata": {},
   "source": [
    "------"
   ]
  },
  {
   "cell_type": "markdown",
   "metadata": {},
   "source": [
    "One of the powerful features of Julia is that it's very easy to make our own types. Let's begin with a simple\n",
    "implementation of a rational function $p/q$ where $p$ and $q$ are `Int`s.  Thus we want to create a new\n",
    "type called `Rat` with two fields `p` and `q` to represent the numerator and denominator, respectively.\n",
    "(For simplicity  we won't worry about restricting $p$ and $q$ to be `Int`.)\n",
    "We can construct such a type using the `struct` keyword:"
   ]
  },
  {
   "cell_type": "code",
   "execution_count": 21,
   "metadata": {},
   "outputs": [],
   "source": [
    "struct Rat\n",
    "    p\n",
    "    q\n",
    "end"
   ]
  },
  {
   "cell_type": "markdown",
   "metadata": {},
   "source": [
    "A new instance of `Rat` is created via e.g. `Rat(1, 2)` represents `1/2`\n",
    "where the first argument specifies `p` and the second argument `q`.\n",
    "The fields are accessed by `.`:"
   ]
  },
  {
   "cell_type": "code",
   "execution_count": 22,
   "metadata": {},
   "outputs": [
    {
     "data": {
      "text/plain": [
       "\u001b[32m\u001b[1mTest Passed\u001b[22m\u001b[39m"
      ]
     },
     "metadata": {},
     "output_type": "display_data"
    }
   ],
   "source": [
    "x = Rat(1, 2) # Rat(1, 2) creates an instance with fields equal to the input\n",
    "@test x.p == 1\n",
    "@test x.q == 2"
   ]
  },
  {
   "cell_type": "markdown",
   "metadata": {},
   "source": [
    "Unfortunately we can't actually do anything with this type, yet:"
   ]
  },
  {
   "cell_type": "code",
   "execution_count": 23,
   "metadata": {},
   "outputs": [
    {
     "ename": "MethodError",
     "evalue": "MethodError: no method matching +(::Rat, ::Rat)\nThe function `+` exists, but no method is defined for this combination of argument types.\n\nClosest candidates are:\n  +(::Any, ::Any, !Matched::Any, !Matched::Any...)\n   @ Base operators.jl:596\n  +(!Matched::Rational{BigInt}, !Matched::Rational{BigInt})\n   @ Base gmp.jl:1056\n  +(!Matched::Bool, !Matched::Complex{Bool})\n   @ Base complex.jl:308\n  ...\n",
     "output_type": "error",
     "traceback": [
      "MethodError: no method matching +(::Rat, ::Rat)\n",
      "The function `+` exists, but no method is defined for this combination of argument types.\n",
      "\n",
      "Closest candidates are:\n",
      "  +(::Any, ::Any, !Matched::Any, !Matched::Any...)\n",
      "   @ Base operators.jl:596\n",
      "  +(!Matched::Rational{BigInt}, !Matched::Rational{BigInt})\n",
      "   @ Base gmp.jl:1056\n",
      "  +(!Matched::Bool, !Matched::Complex{Bool})\n",
      "   @ Base complex.jl:308\n",
      "  ...\n",
      "\n",
      "\n",
      "Stacktrace:\n",
      " [1] top-level scope\n",
      "   @ ~/MATH50003NumericalAnalysis/labs/jl_notebook_cell_df34fa98e69747e1a8f8a730347b8e2f_X54sZmlsZQ==.jl:1"
     ]
    }
   ],
   "source": [
    "x + x"
   ]
  },
  {
   "cell_type": "markdown",
   "metadata": {},
   "source": [
    "The error is telling us to overload the `+` function when the inputs are both `Rat`.\n",
    "To do this we need to \"import\" the `+` function and then we can overload it like any\n",
    "other function:"
   ]
  },
  {
   "cell_type": "code",
   "execution_count": 24,
   "metadata": {},
   "outputs": [
    {
     "data": {
      "text/plain": [
       "Rat(10, 8)"
      ]
     },
     "metadata": {},
     "output_type": "display_data"
    }
   ],
   "source": [
    "import Base: + # allows us to overload +\n",
    "\n",
    "# Here putting ::Rat after both x and y means this version of +\n",
    "# is only called if both arguments are Rat\n",
    "function +(x::Rat, y::Rat)\n",
    "    p,q = x.p,x.q # x represents p/q\n",
    "    r,s = y.p,y.q # y represents r/s\n",
    "    Rat(p * s + r * q, q * s)\n",
    "end\n",
    "\n",
    "Rat(1,2) + Rat(3,4) # 1/2 + 3/4 == 10/8 (== 5/4) which is represented\n",
    "                    # as Rat(10, 8)"
   ]
  },
  {
   "cell_type": "markdown",
   "metadata": {},
   "source": [
    "We can support mixing `Rat` and `Int` by adding additional functionality:"
   ]
  },
  {
   "cell_type": "code",
   "execution_count": 25,
   "metadata": {},
   "outputs": [
    {
     "data": {
      "text/plain": [
       "Rat(3, 2)"
      ]
     },
     "metadata": {},
     "output_type": "display_data"
    }
   ],
   "source": [
    "Rat(p::Int) = Rat(p,1) # an Int is converted to p/1\n",
    "+(x::Rat, y::Int) = x + Rat(y) # To add a Rat to an Int we convert the Int into a Rat and use the previously defined +\n",
    "\n",
    "Rat(1,2) + 1  # 1 + 1/2 == 3/2"
   ]
  },
  {
   "cell_type": "markdown",
   "metadata": {},
   "source": [
    "-----"
   ]
  },
  {
   "cell_type": "markdown",
   "metadata": {},
   "source": [
    "**Problem 3** Support `*`, `-`, `/`, and `==` for `Rat` and `Int`."
   ]
  },
  {
   "cell_type": "code",
   "execution_count": 32,
   "metadata": {},
   "outputs": [
    {
     "data": {
      "text/plain": [
       "\u001b[32m\u001b[1mTest Passed\u001b[22m\u001b[39m"
      ]
     },
     "metadata": {},
     "output_type": "display_data"
    }
   ],
   "source": [
    "# We import +, -, *, / so we can \"overload\" these operations\n",
    "# specifically for Rat.\n",
    "import Base: +, -, *, /, ==\n",
    "\n",
    "# The ::Rat means the following version of == is only called if both\n",
    "# arguments are Rat.\n",
    "function ==(x::Rat, y::Rat)\n",
    "    # TODO: implement equality, making sure to check the case where\n",
    "    # the numerator/denominator are possibly reducible\n",
    "    # Hint: gcd and div may be useful. Use ? to find out what they do\n",
    "    p, q = x.p, x.q\n",
    "    r, s = y.p, y.q\n",
    "\n",
    "    p * s == q * r\n",
    "\n",
    "end\n",
    "\n",
    "# We can also support equality when x is a Rat and y is an Int\n",
    "function ==(x::Rat, y::Int)\n",
    "    # TODO: implement\n",
    "    p, q = x.p, x.q\n",
    "\n",
    "    p == q * y\n",
    "\n",
    "end\n",
    "\n",
    "# TODO: implement ==(x::Int, y::Rat)\n",
    "==(x::Int, y::Rat) = y == x\n",
    "\n",
    "@test Rat(1, 2) == Rat(2, 4)\n",
    "@test Rat(1, 2) ≠ Rat(1, 3)\n",
    "@test Rat(2,2) == 1\n",
    "@test 1 == Rat(2,2)\n",
    "\n",
    "# TODO: implement +, -, *, and /,\n",
    "function +(x::Rat, y::Rat)\n",
    "    p,q = x.p,x.q\n",
    "    r,s = y.p,y.q \n",
    "    Rat(p * s + r * q, q * s)\n",
    "end\n",
    "\n",
    "function -(x::Rat, y::Rat)\n",
    "    p,q = x.p,x.q\n",
    "    r,s = y.p,y.q\n",
    "    Rat(p * s - r * q, q * s)\n",
    "end\n",
    "\n",
    "function *(x::Rat, y::Rat)\n",
    "    p,q = x.p,x.q\n",
    "    r,s = y.p,y.q\n",
    "    Rat(p * r, q * s)\n",
    "end\n",
    "\n",
    "function /(x::Rat, y::Rat)\n",
    "    p,q = x.p,x.q\n",
    "    r,s = y.p,y.q\n",
    "    Rat(p * s, q * r)\n",
    "end\n",
    "\n",
    "@test Rat(1, 2) + Rat(1, 3) == Rat(5, 6)\n",
    "@test Rat(1, 3) - Rat(1, 2) == Rat(-1, 6)\n",
    "@test Rat(2, 3) * Rat(3, 4) == Rat(1, 2)\n",
    "@test Rat(2, 3) / Rat(3, 4) == Rat(8, 9)"
   ]
  },
  {
   "cell_type": "markdown",
   "metadata": {},
   "source": [
    "------"
   ]
  },
  {
   "cell_type": "markdown",
   "metadata": {},
   "source": [
    "## I.3 Dual Numbers\n",
    "\n",
    "We now consider implementing a type `Dual` to represent the dual number $a + bϵ$,\n",
    "in a way similar to `Complex` or `Rat`. For simplicity we don't restrict the types of `a` and `b`\n",
    "but for us they will usually be `Float64`. We create this type very similar to `Rat` above:"
   ]
  },
  {
   "cell_type": "code",
   "execution_count": 33,
   "metadata": {},
   "outputs": [],
   "source": [
    "struct Dual\n",
    "    a\n",
    "    b\n",
    "end"
   ]
  },
  {
   "cell_type": "markdown",
   "metadata": {},
   "source": [
    "We can easily support addition of dual numbers as in `Rat` using the formula\n",
    "$$\n",
    "(a+bϵ) + (c+dϵ) = (a+c) + (b+d)ϵ\n",
    "$$"
   ]
  },
  {
   "cell_type": "code",
   "execution_count": 34,
   "metadata": {},
   "outputs": [
    {
     "data": {
      "text/plain": [
       "Dual(4, 6)"
      ]
     },
     "metadata": {},
     "output_type": "display_data"
    }
   ],
   "source": [
    "function +(x::Dual, y::Dual)\n",
    "    a,b = x.a, x.b # x == a+bϵ. This gets out a and b\n",
    "    c,d = y.a, y.b # y == c+dϵ. This gets out c and d\n",
    "    Dual(a+c, b+d)\n",
    "end\n",
    "\n",
    "Dual(1,2) + Dual(3,4) # just adds each argument"
   ]
  },
  {
   "cell_type": "markdown",
   "metadata": {},
   "source": [
    "For multiplication we used the fact that $ϵ^2 = 0$ to derive the formula\n",
    "$$\n",
    "(a+bϵ)*(c+dϵ) = ac +(bc+ad)ϵ.\n",
    "$$\n",
    "Here we support this operation by overloading `*` when the inputs are both\n",
    "`Dual`:"
   ]
  },
  {
   "cell_type": "code",
   "execution_count": 35,
   "metadata": {},
   "outputs": [
    {
     "data": {
      "text/plain": [
       "* (generic function with 300 methods)"
      ]
     },
     "metadata": {},
     "output_type": "display_data"
    }
   ],
   "source": [
    "import Base: * # we want to also overload *\n",
    "\n",
    "function *(x::Dual, y::Dual)\n",
    "    a,b = x.a, x.b # x == a+bϵ. This gets out a and b\n",
    "    c,d = y.a, y.b # y == c+dϵ. This gets out c and d\n",
    "    Dual(a*c, b*c + a*d)\n",
    "end"
   ]
  },
  {
   "cell_type": "markdown",
   "metadata": {},
   "source": [
    "### I.3.1 Differentiating polynomials"
   ]
  },
  {
   "cell_type": "markdown",
   "metadata": {},
   "source": [
    "Dual numbers allow us to differentiate functions provided they are composed of\n",
    "operations overloaded for `Dual`. In particular, we have that\n",
    "$$\n",
    "f(x + b ϵ) = f(x) + bf'(x)ϵ\n",
    "$$\n",
    "and thus if we set `b = 1` the \"dual part\" is equal to the derivative.\n",
    "We can use this fact to differentiate simple polynomials that only use `+`\n",
    "and `*`:"
   ]
  },
  {
   "cell_type": "code",
   "execution_count": 36,
   "metadata": {},
   "outputs": [
    {
     "data": {
      "text/plain": [
       "Dual(10, 13)"
      ]
     },
     "metadata": {},
     "output_type": "display_data"
    }
   ],
   "source": [
    "f = x -> x*x*x + x\n",
    "f(Dual(2,1)) # (2^3 + 2) + (3*2^2+1)*ϵ"
   ]
  },
  {
   "cell_type": "markdown",
   "metadata": {},
   "source": [
    "A polynomial like `x^3 + 1` is not yet supported.\n",
    "To support this we need to add addition of `Dual` with `Int` or `Float64`.\n",
    "Note that both of these are \"subtypes\" of `Real` and so restricting on `Real`\n",
    "will support both at the same time.\n",
    "We can overload the appropriate functions as follows:"
   ]
  },
  {
   "cell_type": "code",
   "execution_count": 48,
   "metadata": {},
   "outputs": [
    {
     "data": {
      "text/plain": [
       "Dual(9, 12)"
      ]
     },
     "metadata": {},
     "output_type": "display_data"
    }
   ],
   "source": [
    "import Base: ^\n",
    "\n",
    "Dual(a::Real) = Dual(a, 0) # converts a real number to a dual number with no ϵ\n",
    "\n",
    "+(x::Real, y::Dual) = Dual(x) + y\n",
    "+(x::Dual, y::Real) = x + Dual(y)\n",
    "\n",
    "# a simple recursive function to support x^2, x^3, etc.\n",
    "function ^(x::Dual, n::Int)\n",
    "    if n < 0\n",
    "        error(\"Not implemented\") # don't support negative n, yet\n",
    "    end\n",
    "    if n == 1\n",
    "        x # Just return the input\n",
    "    else\n",
    "        ret = x\n",
    "        for k = 1:n-1\n",
    "            ret = ret*x\n",
    "        end\n",
    "        ret # returns the last argument\n",
    "    end\n",
    "end\n",
    "\n",
    "f = x -> x^3 + 1\n",
    "f(Dual(2,1))  # 2^3+1 + 3*2^2*ϵ"
   ]
  },
  {
   "cell_type": "markdown",
   "metadata": {},
   "source": [
    "### I.3.2 Differentiating functions"
   ]
  },
  {
   "cell_type": "markdown",
   "metadata": {},
   "source": [
    "We can also overload functions like `exp` so that they satisfy the rules of\n",
    "a _dual extension_, that is, are consistent with the formula $f(a+bϵ) = f(a) + bf'(a)ϵ$\n",
    "as follows:"
   ]
  },
  {
   "cell_type": "code",
   "execution_count": 49,
   "metadata": {},
   "outputs": [
    {
     "data": {
      "text/plain": [
       "exp (generic function with 15 methods)"
      ]
     },
     "metadata": {},
     "output_type": "display_data"
    }
   ],
   "source": [
    "import Base: exp\n",
    "exp(x::Dual) = Dual(exp(x.a), exp(x.a) * x.b)"
   ]
  },
  {
   "cell_type": "markdown",
   "metadata": {},
   "source": [
    "We can use this to differentiate a function that composes these basic operations:"
   ]
  },
  {
   "cell_type": "code",
   "execution_count": 50,
   "metadata": {},
   "outputs": [
    {
     "data": {
      "text/plain": [
       "Dual(41.193555674716116, 194.362805189629)"
      ]
     },
     "metadata": {},
     "output_type": "display_data"
    }
   ],
   "source": [
    "f = x -> exp(x^2 + exp(x))\n",
    "f(Dual(1, 1))"
   ]
  },
  {
   "cell_type": "markdown",
   "metadata": {},
   "source": [
    "What makes dual numbers so effective is that, unlike divided differences, they are not\n",
    "prone to disasterous growth due to round-off errors: the above approximation\n",
    "matches the true answer to roughly 16 digits of accuracy."
   ]
  },
  {
   "cell_type": "markdown",
   "metadata": {},
   "source": [
    "------"
   ]
  },
  {
   "cell_type": "markdown",
   "metadata": {},
   "source": [
    "**Problem 4(a)** Add support for `-`, `cos`, `sin`, and `/` to the type `Dual`\n",
    "by replacing the `# TODO`s in the below code."
   ]
  },
  {
   "cell_type": "code",
   "execution_count": 56,
   "metadata": {},
   "outputs": [
    {
     "data": {
      "text/plain": [
       "\u001b[32m\u001b[1mTest Passed\u001b[22m\u001b[39m"
      ]
     },
     "metadata": {},
     "output_type": "display_data"
    }
   ],
   "source": [
    "import Base: -, cos, sin, /\n",
    "\n",
    "# The following supports negation -(a+bϵ)\n",
    "-(x::Dual) = Dual(-x.a, -x.b)\n",
    "\n",
    "# TODO: implement -(::Dual, ::Dual)\n",
    "function -(x::Dual, y::Dual)\n",
    "    x + (-y)\n",
    "end\n",
    "\n",
    "\n",
    "function cos(x::Dual)\n",
    "    # TODO: implement cos for Duals\n",
    "    a, b = x.a, x.b\n",
    "    Dual(cos(a), -1 * b * sin(a))\n",
    "end\n",
    "\n",
    "function sin(x::Dual)\n",
    "    # TODO: implement sin for Duals\n",
    "    a, b = x.a, x.b\n",
    "    Dual(sin(a), b * cos(a))\n",
    "end\n",
    "\n",
    "function /(x::Dual, y::Dual)\n",
    "    # TODO: implement division for Duals.\n",
    "    # Hint: think of this as x * (1/y)\n",
    "    a, b = x.a, x.b\n",
    "    c, d = y.a, y.b\n",
    "    \n",
    "    z = x * (Dual(c, -d))\n",
    "    Dual(z.a/(c^2), z.b/(c^2)) \n",
    "end\n",
    "\n",
    "x = 0.1\n",
    "ϵ = Dual(0,1)\n",
    "@test cos(sin(x+ϵ)/(x+ϵ)).b ≈ -((cos(x)/x - sin(x)/x^2)sin(sin(x)/x))"
   ]
  },
  {
   "cell_type": "markdown",
   "metadata": {},
   "source": [
    "**Problem 4(b)** Use dual numbers to compute the derivatives to\n",
    "1. $\\exp(\\exp x \\cos x + \\sin x)$\n",
    "2. $∏_{k=1}^{1000} \\left({x \\over k}-1\\right)$\n",
    "3. $f^{\\rm s}_{1000}(x)$ where, as in Lab 1 Problem 3(d), $f^{\\rm s}_n(x)$ corresponds to $n$-terms of the following continued fraction:\n",
    "$$\n",
    "1 + {x-1 \\over 2 + {x-1 \\over 2 + {x-1 \\over 2 + ⋱}}}.\n",
    "$$\n",
    "at the point $x = 0.1$. Compare with divided differences to give evidence that your implementation is correct."
   ]
  },
  {
   "cell_type": "code",
   "execution_count": 61,
   "metadata": {},
   "outputs": [
    {
     "data": {
      "text/plain": [
       "* (generic function with 302 methods)"
      ]
     },
     "metadata": {},
     "output_type": "display_data"
    }
   ],
   "source": [
    "-(x::Real, y::Dual) = Dual(x) - y\n",
    "-(x::Dual, y::Real) = x - Dual(y)\n",
    "/(x::Real, y::Dual) = Dual(x) / y\n",
    "/(x::Dual, y::Real) = x / Dual(y)\n",
    "*(x::Real, y::Dual) = Dual(x) * y\n",
    "*(x::Dual, y::Real) = x * Dual(y)"
   ]
  },
  {
   "cell_type": "code",
   "execution_count": 62,
   "metadata": {},
   "outputs": [
    {
     "data": {
      "text/plain": [
       "Dual(3.3184011429340323, 6.5847725546108276)"
      ]
     },
     "metadata": {},
     "output_type": "display_data"
    }
   ],
   "source": [
    "# TODO: Use dual numbers to compute the derivatives of the 3 functions above.\n",
    "func1 = x -> exp(exp(x) * cos(x) + sin(x))\n",
    "func1(Dual(0.1, 1))"
   ]
  },
  {
   "cell_type": "code",
   "execution_count": 63,
   "metadata": {},
   "outputs": [
    {
     "data": {
      "text/plain": [
       "Dual(0.4689792466949583, -3.593826513101571)"
      ]
     },
     "metadata": {},
     "output_type": "display_data"
    }
   ],
   "source": [
    "function func2(x)\n",
    "    prod = 1\n",
    "    for k = 1:1000\n",
    "        prod = prod * ((x/k) - 1)\n",
    "    end\n",
    "    prod\n",
    "end\n",
    "func2(Dual(0.1, 1))"
   ]
  },
  {
   "cell_type": "code",
   "execution_count": 64,
   "metadata": {},
   "outputs": [
    {
     "data": {
      "text/plain": [
       "Dual(1.316227766016838, 1.5811388300841893)"
      ]
     },
     "metadata": {},
     "output_type": "display_data"
    }
   ],
   "source": [
    "function func3(x)\n",
    "    res = 1 + (x - 1)/2\n",
    "    for k = 2:1000\n",
    "        res = 2 + (x - 1)/res\n",
    "    end\n",
    "    res\n",
    "end\n",
    "func3(Dual(0.1, 1))"
   ]
  },
  {
   "cell_type": "markdown",
   "metadata": {},
   "source": [
    "------\n",
    "## I.4 Newton's method"
   ]
  },
  {
   "cell_type": "markdown",
   "metadata": {},
   "source": [
    "Newton's method is a simple algorithmic approach that you may have seen before in school for computing roots (or zeros)\n",
    "of functions. The basic idea is given an initial guess $x_0$,\n",
    "find the first-order Taylor approximation $p(x)$ (i.e., find the line that matches the slope of the function at the point)\n",
    "$$\n",
    "f(x) ≈ \\underbrace{f(x_0) + f'(x_0) (x- x_0)}_{p(x)}.\n",
    "$$\n",
    "We can then solve the root finding problem for $p(x)$ exactly:\n",
    "$$\n",
    "p(x) = 0 ⇔ x = x_0 - {f(x_0) \\over f'(x_0)}\n",
    "$$\n",
    "We take this root of $p(x)$ as the new initial guess and repeat. In other words, we have a simple sequence\n",
    "defined by\n",
    "$$\n",
    "x_{k+1} = x_k - {f(x_k) \\over f'(x_k)}\n",
    "$$\n",
    "If the initial guess is \"close enough\" to a root $r$ of $f$ (ie $f(r) = 0$)\n",
    "then we have proven that $x_k → r$. Thus for large $N$ we have $x_N ≈ r$."
   ]
  },
  {
   "cell_type": "markdown",
   "metadata": {},
   "source": [
    "Dual numbers as implemented by `Dual` gives us a powerful tool to compute derivatives and get a simple implementation\n",
    "of Newton's method working:"
   ]
  },
  {
   "cell_type": "code",
   "execution_count": 65,
   "metadata": {},
   "outputs": [
    {
     "data": {
      "text/plain": [
       "-1.193859111321223"
      ]
     },
     "metadata": {},
     "output_type": "display_data"
    }
   ],
   "source": [
    "# derivative(f, x) computes the derivative at a point x using Dual\n",
    "derivative(f, x) = f(Dual(x,1)).b\n",
    "\n",
    "function newton(f, x, N) # x = x_0 is the initial guess\n",
    "    for k = 1:N\n",
    "        x = x - f(x)/derivative(f,x)\n",
    "    end\n",
    "    x\n",
    "end\n",
    "\n",
    "f = x -> x^5 + x^2 + 1\n",
    "r = newton(f, 0.1, 100)"
   ]
  },
  {
   "cell_type": "markdown",
   "metadata": {},
   "source": [
    "We can test that we have indeed found a root:"
   ]
  },
  {
   "cell_type": "code",
   "execution_count": 66,
   "metadata": {},
   "outputs": [
    {
     "data": {
      "text/plain": [
       "6.661338147750939e-16"
      ]
     },
     "metadata": {},
     "output_type": "display_data"
    }
   ],
   "source": [
    "f(r)"
   ]
  },
  {
   "cell_type": "markdown",
   "metadata": {},
   "source": [
    "-----"
   ]
  },
  {
   "cell_type": "markdown",
   "metadata": {},
   "source": [
    "**Problem 5(a)** For $f(x) = x^5 + x^2 + 1$, plot the error of $x_k$ for `k = 1:15` where the\n",
    "y-axis is scaled logarithmically and chosen $x_0 = 0.1$ You may\n",
    "use the computed `r` as the \"exact\" root. What do you think the convergence rate is?"
   ]
  },
  {
   "cell_type": "code",
   "execution_count": 88,
   "metadata": {},
   "outputs": [
    {
     "data": {
      "image/png": "[encoded data removed]",
      "image/svg+xml": [
       "<?xml version=\"1.0\" encoding=\"utf-8\"?>\n",
       "<svg xmlns=\"http://www.w3.org/2000/svg\" xmlns:xlink=\"http://www.w3.org/1999/xlink\" width=\"600\" height=\"400\" viewBox=\"0 0 2400 1600\">\n",
       "<defs>\n",
       "  <clipPath id=\"clip520\">\n",
       "    <rect x=\"0\" y=\"0\" width=\"2400\" height=\"1600\"/>\n",
       "  </clipPath>\n",
       "</defs>\n",
       "<path clip-path=\"url(#clip520)\" d=\"M0 1600 L2400 1600 L2400 8.88178e-14 L0 8.88178e-14  Z\" fill=\"#ffffff\" fill-rule=\"evenodd\" fill-opacity=\"1\"/>\n",
       "<defs>\n",
       "  <clipPath id=\"clip521\">\n",
       "    <rect x=\"480\" y=\"0\" width=\"1681\" height=\"1600\"/>\n",
       "  </clipPath>\n",
       "</defs>\n",
       "<path clip-path=\"url(#clip520)\" d=\"M213.607 1486.45 L2352.76 1486.45 L2352.76 47.2441 L213.607 47.2441  Z\" fill=\"#ffffff\" fill-rule=\"evenodd\" fill-opacity=\"1\"/>\n",
       "<defs>\n",
       "  <clipPath id=\"clip522\">\n",
       "    <rect x=\"213\" y=\"47\" width=\"2140\" height=\"1440\"/>\n",
       "  </clipPath>\n",
       "</defs>\n",
       "<polyline clip-path=\"url(#clip522)\" style=\"stroke:#000000; stroke-linecap:round; stroke-linejoin:round; stroke-width:2; stroke-opacity:0.1; fill:none\" points=\"418.297,1486.45 418.297,47.2441 \"/>\n",
       "<polyline clip-path=\"url(#clip522)\" style=\"stroke:#000000; stroke-linecap:round; stroke-linejoin:round; stroke-width:2; stroke-opacity:0.1; fill:none\" points=\"706.592,1486.45 706.592,47.2441 \"/>\n",
       "<polyline clip-path=\"url(#clip522)\" style=\"stroke:#000000; stroke-linecap:round; stroke-linejoin:round; stroke-width:2; stroke-opacity:0.1; fill:none\" points=\"994.887,1486.45 994.887,47.2441 \"/>\n",
       "<polyline clip-path=\"url(#clip522)\" style=\"stroke:#000000; stroke-linecap:round; stroke-linejoin:round; stroke-width:2; stroke-opacity:0.1; fill:none\" points=\"1283.18,1486.45 1283.18,47.2441 \"/>\n",
       "<polyline clip-path=\"url(#clip522)\" style=\"stroke:#000000; stroke-linecap:round; stroke-linejoin:round; stroke-width:2; stroke-opacity:0.1; fill:none\" points=\"1571.48,1486.45 1571.48,47.2441 \"/>\n",
       "<polyline clip-path=\"url(#clip522)\" style=\"stroke:#000000; stroke-linecap:round; stroke-linejoin:round; stroke-width:2; stroke-opacity:0.1; fill:none\" points=\"1859.77,1486.45 1859.77,47.2441 \"/>\n",
       "<polyline clip-path=\"url(#clip522)\" style=\"stroke:#000000; stroke-linecap:round; stroke-linejoin:round; stroke-width:2; stroke-opacity:0.1; fill:none\" points=\"2148.07,1486.45 2148.07,47.2441 \"/>\n",
       "<polyline clip-path=\"url(#clip522)\" style=\"stroke:#000000; stroke-linecap:round; stroke-linejoin:round; stroke-width:2; stroke-opacity:0.1; fill:none\" points=\"213.607,1063.12 2352.76,1063.12 \"/>\n",
       "<polyline clip-path=\"url(#clip522)\" style=\"stroke:#000000; stroke-linecap:round; stroke-linejoin:round; stroke-width:2; stroke-opacity:0.1; fill:none\" points=\"213.607,601.985 2352.76,601.985 \"/>\n",
       "<polyline clip-path=\"url(#clip522)\" style=\"stroke:#000000; stroke-linecap:round; stroke-linejoin:round; stroke-width:2; stroke-opacity:0.1; fill:none\" points=\"213.607,140.849 2352.76,140.849 \"/>\n",
       "<polyline clip-path=\"url(#clip520)\" style=\"stroke:#000000; stroke-linecap:round; stroke-linejoin:round; stroke-width:4; stroke-opacity:1; fill:none\" points=\"213.607,1486.45 2352.76,1486.45 \"/>\n",
       "<polyline clip-path=\"url(#clip520)\" style=\"stroke:#000000; stroke-linecap:round; stroke-linejoin:round; stroke-width:4; stroke-opacity:1; fill:none\" points=\"418.297,1486.45 418.297,1467.55 \"/>\n",
       "<polyline clip-path=\"url(#clip520)\" style=\"stroke:#000000; stroke-linecap:round; stroke-linejoin:round; stroke-width:4; stroke-opacity:1; fill:none\" points=\"706.592,1486.45 706.592,1467.55 \"/>\n",
       "<polyline clip-path=\"url(#clip520)\" style=\"stroke:#000000; stroke-linecap:round; stroke-linejoin:round; stroke-width:4; stroke-opacity:1; fill:none\" points=\"994.887,1486.45 994.887,1467.55 \"/>\n",
       "<polyline clip-path=\"url(#clip520)\" style=\"stroke:#000000; stroke-linecap:round; stroke-linejoin:round; stroke-width:4; stroke-opacity:1; fill:none\" points=\"1283.18,1486.45 1283.18,1467.55 \"/>\n",
       "<polyline clip-path=\"url(#clip520)\" style=\"stroke:#000000; stroke-linecap:round; stroke-linejoin:round; stroke-width:4; stroke-opacity:1; fill:none\" points=\"1571.48,1486.45 1571.48,1467.55 \"/>\n",
       "<polyline clip-path=\"url(#clip520)\" style=\"stroke:#000000; stroke-linecap:round; stroke-linejoin:round; stroke-width:4; stroke-opacity:1; fill:none\" points=\"1859.77,1486.45 1859.77,1467.55 \"/>\n",
       "<polyline clip-path=\"url(#clip520)\" style=\"stroke:#000000; stroke-linecap:round; stroke-linejoin:round; stroke-width:4; stroke-opacity:1; fill:none\" points=\"2148.07,1486.45 2148.07,1467.55 \"/>\n",
       "<path clip-path=\"url(#clip520)\" d=\"M412.95 1544.91 L429.269 1544.91 L429.269 1548.85 L407.325 1548.85 L407.325 1544.91 Q409.987 1542.16 414.57 1537.53 Q419.177 1532.88 420.357 1531.53 Q422.602 1529.01 423.482 1527.27 Q424.385 1525.51 424.385 1523.82 Q424.385 1521.07 422.44 1519.33 Q420.519 1517.6 417.417 1517.6 Q415.218 1517.6 412.765 1518.36 Q410.334 1519.13 407.556 1520.68 L407.556 1515.95 Q410.38 1514.82 412.834 1514.24 Q415.288 1513.66 417.325 1513.66 Q422.695 1513.66 425.889 1516.35 Q429.084 1519.03 429.084 1523.52 Q429.084 1525.65 428.274 1527.57 Q427.487 1529.47 425.38 1532.07 Q424.801 1532.74 421.7 1535.95 Q418.598 1539.15 412.95 1544.91 Z\" fill=\"#000000\" fill-rule=\"nonzero\" fill-opacity=\"1\" /><path clip-path=\"url(#clip520)\" d=\"M709.601 1518.36 L697.796 1536.81 L709.601 1536.81 L709.601 1518.36 M708.374 1514.29 L714.254 1514.29 L714.254 1536.81 L719.184 1536.81 L719.184 1540.7 L714.254 1540.7 L714.254 1548.85 L709.601 1548.85 L709.601 1540.7 L693.999 1540.7 L693.999 1536.19 L708.374 1514.29 Z\" fill=\"#000000\" fill-rule=\"nonzero\" fill-opacity=\"1\" /><path clip-path=\"url(#clip520)\" d=\"M995.292 1529.7 Q992.144 1529.7 990.292 1531.86 Q988.463 1534.01 988.463 1537.76 Q988.463 1541.49 990.292 1543.66 Q992.144 1545.82 995.292 1545.82 Q998.44 1545.82 1000.27 1543.66 Q1002.12 1541.49 1002.12 1537.76 Q1002.12 1534.01 1000.27 1531.86 Q998.44 1529.7 995.292 1529.7 M1004.57 1515.05 L1004.57 1519.31 Q1002.81 1518.48 1001.01 1518.04 Q999.227 1517.6 997.468 1517.6 Q992.838 1517.6 990.384 1520.72 Q987.954 1523.85 987.607 1530.17 Q988.972 1528.15 991.033 1527.09 Q993.093 1526 995.57 1526 Q1000.78 1526 1003.79 1529.17 Q1006.82 1532.32 1006.82 1537.76 Q1006.82 1543.08 1003.67 1546.3 Q1000.52 1549.52 995.292 1549.52 Q989.297 1549.52 986.125 1544.94 Q982.954 1540.33 982.954 1531.6 Q982.954 1523.41 986.843 1518.55 Q990.732 1513.66 997.283 1513.66 Q999.042 1513.66 1000.82 1514.01 Q1002.63 1514.36 1004.57 1515.05 Z\" fill=\"#000000\" fill-rule=\"nonzero\" fill-opacity=\"1\" /><path clip-path=\"url(#clip520)\" d=\"M1283.18 1532.44 Q1279.85 1532.44 1277.93 1534.22 Q1276.03 1536 1276.03 1539.13 Q1276.03 1542.25 1277.93 1544.03 Q1279.85 1545.82 1283.18 1545.82 Q1286.52 1545.82 1288.44 1544.03 Q1290.36 1542.23 1290.36 1539.13 Q1290.36 1536 1288.44 1534.22 Q1286.54 1532.44 1283.18 1532.44 M1278.51 1530.45 Q1275.5 1529.7 1273.81 1527.64 Q1272.14 1525.58 1272.14 1522.62 Q1272.14 1518.48 1275.08 1516.07 Q1278.04 1513.66 1283.18 1513.66 Q1288.34 1513.66 1291.28 1516.07 Q1294.22 1518.48 1294.22 1522.62 Q1294.22 1525.58 1292.53 1527.64 Q1290.87 1529.7 1287.88 1530.45 Q1291.26 1531.23 1293.14 1533.52 Q1295.03 1535.82 1295.03 1539.13 Q1295.03 1544.15 1291.95 1546.83 Q1288.9 1549.52 1283.18 1549.52 Q1277.46 1549.52 1274.39 1546.83 Q1271.33 1544.15 1271.33 1539.13 Q1271.33 1535.82 1273.23 1533.52 Q1275.13 1531.23 1278.51 1530.45 M1276.79 1523.06 Q1276.79 1525.75 1278.46 1527.25 Q1280.15 1528.76 1283.18 1528.76 Q1286.19 1528.76 1287.88 1527.25 Q1289.59 1525.75 1289.59 1523.06 Q1289.59 1520.38 1287.88 1518.87 Q1286.19 1517.37 1283.18 1517.37 Q1280.15 1517.37 1278.46 1518.87 Q1276.79 1520.38 1276.79 1523.06 Z\" fill=\"#000000\" fill-rule=\"nonzero\" fill-opacity=\"1\" /><path clip-path=\"url(#clip520)\" d=\"M1546.16 1544.91 L1553.8 1544.91 L1553.8 1518.55 L1545.49 1520.21 L1545.49 1515.95 L1553.76 1514.29 L1558.43 1514.29 L1558.43 1544.91 L1566.07 1544.91 L1566.07 1548.85 L1546.16 1548.85 L1546.16 1544.91 Z\" fill=\"#000000\" fill-rule=\"nonzero\" fill-opacity=\"1\" /><path clip-path=\"url(#clip520)\" d=\"M1585.52 1517.37 Q1581.9 1517.37 1580.08 1520.93 Q1578.27 1524.47 1578.27 1531.6 Q1578.27 1538.71 1580.08 1542.27 Q1581.9 1545.82 1585.52 1545.82 Q1589.15 1545.82 1590.96 1542.27 Q1592.78 1538.71 1592.78 1531.6 Q1592.78 1524.47 1590.96 1520.93 Q1589.15 1517.37 1585.52 1517.37 M1585.52 1513.66 Q1591.33 1513.66 1594.38 1518.27 Q1597.46 1522.85 1597.46 1531.6 Q1597.46 1540.33 1594.38 1544.94 Q1591.33 1549.52 1585.52 1549.52 Q1579.71 1549.52 1576.63 1544.94 Q1573.57 1540.33 1573.57 1531.6 Q1573.57 1522.85 1576.63 1518.27 Q1579.71 1513.66 1585.52 1513.66 Z\" fill=\"#000000\" fill-rule=\"nonzero\" fill-opacity=\"1\" /><path clip-path=\"url(#clip520)\" d=\"M1835.26 1544.91 L1842.9 1544.91 L1842.9 1518.55 L1834.59 1520.21 L1834.59 1515.95 L1842.85 1514.29 L1847.53 1514.29 L1847.53 1544.91 L1855.17 1544.91 L1855.17 1548.85 L1835.26 1548.85 L1835.26 1544.91 Z\" fill=\"#000000\" fill-rule=\"nonzero\" fill-opacity=\"1\" /><path clip-path=\"url(#clip520)\" d=\"M1868.64 1544.91 L1884.96 1544.91 L1884.96 1548.85 L1863.01 1548.85 L1863.01 1544.91 Q1865.67 1542.16 1870.26 1537.53 Q1874.86 1532.88 1876.04 1531.53 Q1878.29 1529.01 1879.17 1527.27 Q1880.07 1525.51 1880.07 1523.82 Q1880.07 1521.07 1878.13 1519.33 Q1876.21 1517.6 1873.1 1517.6 Q1870.91 1517.6 1868.45 1518.36 Q1866.02 1519.13 1863.24 1520.68 L1863.24 1515.95 Q1866.07 1514.82 1868.52 1514.24 Q1870.98 1513.66 1873.01 1513.66 Q1878.38 1513.66 1881.58 1516.35 Q1884.77 1519.03 1884.77 1523.52 Q1884.77 1525.65 1883.96 1527.57 Q1883.17 1529.47 1881.07 1532.07 Q1880.49 1532.74 1877.39 1535.95 Q1874.29 1539.15 1868.64 1544.91 Z\" fill=\"#000000\" fill-rule=\"nonzero\" fill-opacity=\"1\" /><path clip-path=\"url(#clip520)\" d=\"M2122.51 1544.91 L2130.15 1544.91 L2130.15 1518.55 L2121.84 1520.21 L2121.84 1515.95 L2130.1 1514.29 L2134.78 1514.29 L2134.78 1544.91 L2142.42 1544.91 L2142.42 1548.85 L2122.51 1548.85 L2122.51 1544.91 Z\" fill=\"#000000\" fill-rule=\"nonzero\" fill-opacity=\"1\" /><path clip-path=\"url(#clip520)\" d=\"M2164.71 1518.36 L2152.9 1536.81 L2164.71 1536.81 L2164.71 1518.36 M2163.48 1514.29 L2169.36 1514.29 L2169.36 1536.81 L2174.29 1536.81 L2174.29 1540.7 L2169.36 1540.7 L2169.36 1548.85 L2164.71 1548.85 L2164.71 1540.7 L2149.11 1540.7 L2149.11 1536.19 L2163.48 1514.29 Z\" fill=\"#000000\" fill-rule=\"nonzero\" fill-opacity=\"1\" /><polyline clip-path=\"url(#clip520)\" style=\"stroke:#000000; stroke-linecap:round; stroke-linejoin:round; stroke-width:4; stroke-opacity:1; fill:none\" points=\"213.607,1486.45 213.607,47.2441 \"/>\n",
       "<polyline clip-path=\"url(#clip520)\" style=\"stroke:#000000; stroke-linecap:round; stroke-linejoin:round; stroke-width:4; stroke-opacity:1; fill:none\" points=\"213.607,1063.12 232.505,1063.12 \"/>\n",
       "<polyline clip-path=\"url(#clip520)\" style=\"stroke:#000000; stroke-linecap:round; stroke-linejoin:round; stroke-width:4; stroke-opacity:1; fill:none\" points=\"213.607,601.985 232.505,601.985 \"/>\n",
       "<polyline clip-path=\"url(#clip520)\" style=\"stroke:#000000; stroke-linecap:round; stroke-linejoin:round; stroke-width:4; stroke-opacity:1; fill:none\" points=\"213.607,140.849 232.505,140.849 \"/>\n",
       "<path clip-path=\"url(#clip520)\" d=\"M51.6634 1082.91 L59.3023 1082.91 L59.3023 1056.55 L50.9921 1058.21 L50.9921 1053.95 L59.256 1052.29 L63.9319 1052.29 L63.9319 1082.91 L71.5707 1082.91 L71.5707 1086.85 L51.6634 1086.85 L51.6634 1082.91 Z\" fill=\"#000000\" fill-rule=\"nonzero\" fill-opacity=\"1\" /><path clip-path=\"url(#clip520)\" d=\"M91.0151 1055.37 Q87.404 1055.37 85.5753 1058.93 Q83.7697 1062.47 83.7697 1069.6 Q83.7697 1076.71 85.5753 1080.27 Q87.404 1083.82 91.0151 1083.82 Q94.6493 1083.82 96.4548 1080.27 Q98.2835 1076.71 98.2835 1069.6 Q98.2835 1062.47 96.4548 1058.93 Q94.6493 1055.37 91.0151 1055.37 M91.0151 1051.66 Q96.8252 1051.66 99.8808 1056.27 Q102.959 1060.85 102.959 1069.6 Q102.959 1078.33 99.8808 1082.94 Q96.8252 1087.52 91.0151 1087.52 Q85.2049 1087.52 82.1262 1082.94 Q79.0707 1078.33 79.0707 1069.6 Q79.0707 1060.85 82.1262 1056.27 Q85.2049 1051.66 91.0151 1051.66 Z\" fill=\"#000000\" fill-rule=\"nonzero\" fill-opacity=\"1\" /><path clip-path=\"url(#clip520)\" d=\"M102.959 1045.76 L127.071 1045.76 L127.071 1048.96 L102.959 1048.96 L102.959 1045.76 Z\" fill=\"#000000\" fill-rule=\"nonzero\" fill-opacity=\"1\" /><path clip-path=\"url(#clip520)\" d=\"M135.929 1056.24 L142.136 1056.24 L142.136 1034.82 L135.384 1036.17 L135.384 1032.71 L142.098 1031.36 L145.898 1031.36 L145.898 1056.24 L152.104 1056.24 L152.104 1059.44 L135.929 1059.44 L135.929 1056.24 Z\" fill=\"#000000\" fill-rule=\"nonzero\" fill-opacity=\"1\" /><path clip-path=\"url(#clip520)\" d=\"M167.903 1033.86 Q164.969 1033.86 163.483 1036.75 Q162.016 1039.63 162.016 1045.43 Q162.016 1051.2 163.483 1054.1 Q164.969 1056.97 167.903 1056.97 Q170.855 1056.97 172.322 1054.1 Q173.808 1051.2 173.808 1045.43 Q173.808 1039.63 172.322 1036.75 Q170.855 1033.86 167.903 1033.86 M167.903 1030.85 Q172.623 1030.85 175.106 1034.59 Q177.607 1038.32 177.607 1045.43 Q177.607 1052.52 175.106 1056.26 Q172.623 1059.98 167.903 1059.98 Q163.182 1059.98 160.68 1056.26 Q158.198 1052.52 158.198 1045.43 Q158.198 1038.32 160.68 1034.59 Q163.182 1030.85 167.903 1030.85 Z\" fill=\"#000000\" fill-rule=\"nonzero\" fill-opacity=\"1\" /><path clip-path=\"url(#clip520)\" d=\"M76.9787 621.777 L84.6175 621.777 L84.6175 595.411 L76.3074 597.078 L76.3074 592.819 L84.5712 591.152 L89.2471 591.152 L89.2471 621.777 L96.886 621.777 L96.886 625.712 L76.9787 625.712 L76.9787 621.777 Z\" fill=\"#000000\" fill-rule=\"nonzero\" fill-opacity=\"1\" /><path clip-path=\"url(#clip520)\" d=\"M116.33 594.231 Q112.719 594.231 110.891 597.796 Q109.085 601.337 109.085 608.467 Q109.085 615.573 110.891 619.138 Q112.719 622.68 116.33 622.68 Q119.965 622.68 121.77 619.138 Q123.599 615.573 123.599 608.467 Q123.599 601.337 121.77 597.796 Q119.965 594.231 116.33 594.231 M116.33 590.527 Q122.14 590.527 125.196 595.134 Q128.275 599.717 128.275 608.467 Q128.275 617.194 125.196 621.8 Q122.14 626.383 116.33 626.383 Q110.52 626.383 107.441 621.8 Q104.386 617.194 104.386 608.467 Q104.386 599.717 107.441 595.134 Q110.52 590.527 116.33 590.527 Z\" fill=\"#000000\" fill-rule=\"nonzero\" fill-opacity=\"1\" /><path clip-path=\"url(#clip520)\" d=\"M128.275 584.628 L152.386 584.628 L152.386 587.826 L128.275 587.826 L128.275 584.628 Z\" fill=\"#000000\" fill-rule=\"nonzero\" fill-opacity=\"1\" /><path clip-path=\"url(#clip520)\" d=\"M160.624 570.222 L175.539 570.222 L175.539 573.419 L164.103 573.419 L164.103 580.303 Q164.931 580.021 165.759 579.889 Q166.586 579.738 167.414 579.738 Q172.116 579.738 174.862 582.315 Q177.607 584.892 177.607 589.293 Q177.607 593.825 174.786 596.346 Q171.965 598.847 166.831 598.847 Q165.063 598.847 163.22 598.546 Q161.395 598.245 159.439 597.643 L159.439 593.825 Q161.132 594.747 162.937 595.198 Q164.743 595.65 166.755 595.65 Q170.009 595.65 171.909 593.938 Q173.808 592.227 173.808 589.293 Q173.808 586.359 171.909 584.647 Q170.009 582.936 166.755 582.936 Q165.232 582.936 163.709 583.274 Q162.204 583.613 160.624 584.328 L160.624 570.222 Z\" fill=\"#000000\" fill-rule=\"nonzero\" fill-opacity=\"1\" /><path clip-path=\"url(#clip520)\" d=\"M106.902 160.641 L114.541 160.641 L114.541 134.276 L106.231 135.943 L106.231 131.683 L114.494 130.017 L119.17 130.017 L119.17 160.641 L126.809 160.641 L126.809 164.577 L106.902 164.577 L106.902 160.641 Z\" fill=\"#000000\" fill-rule=\"nonzero\" fill-opacity=\"1\" /><path clip-path=\"url(#clip520)\" d=\"M146.253 133.095 Q142.642 133.095 140.814 136.66 Q139.008 140.202 139.008 147.331 Q139.008 154.438 140.814 158.003 Q142.642 161.544 146.253 161.544 Q149.888 161.544 151.693 158.003 Q153.522 154.438 153.522 147.331 Q153.522 140.202 151.693 136.66 Q149.888 133.095 146.253 133.095 M146.253 129.392 Q152.064 129.392 155.119 133.998 Q158.198 138.581 158.198 147.331 Q158.198 156.058 155.119 160.665 Q152.064 165.248 146.253 165.248 Q140.443 165.248 137.365 160.665 Q134.309 156.058 134.309 147.331 Q134.309 138.581 137.365 133.998 Q140.443 129.392 146.253 129.392 Z\" fill=\"#000000\" fill-rule=\"nonzero\" fill-opacity=\"1\" /><path clip-path=\"url(#clip520)\" d=\"M167.903 111.588 Q164.969 111.588 163.483 114.484 Q162.016 117.362 162.016 123.154 Q162.016 128.928 163.483 131.825 Q164.969 134.702 167.903 134.702 Q170.855 134.702 172.322 131.825 Q173.808 128.928 173.808 123.154 Q173.808 117.362 172.322 114.484 Q170.855 111.588 167.903 111.588 M167.903 108.578 Q172.623 108.578 175.106 112.321 Q177.607 116.045 177.607 123.154 Q177.607 130.245 175.106 133.988 Q172.623 137.712 167.903 137.712 Q163.182 137.712 160.68 133.988 Q158.198 130.245 158.198 123.154 Q158.198 116.045 160.68 112.321 Q163.182 108.578 167.903 108.578 Z\" fill=\"#000000\" fill-rule=\"nonzero\" fill-opacity=\"1\" /><polyline clip-path=\"url(#clip522)\" style=\"stroke:#009af9; stroke-linecap:round; stroke-linejoin:round; stroke-width:4; stroke-opacity:1; fill:none\" points=\"274.149,87.9763 418.297,100.165 562.444,113.511 706.592,128.58 850.739,146.351 994.887,168.65 1139.03,199.203 1283.18,246.28 1427.33,329.011 1571.48,489.047 1715.62,808.288 1859.77,1445.72 \"/>\n",
       "<path clip-path=\"url(#clip520)\" d=\"M284.912 198.898 L551.258 198.898 L551.258 95.2176 L284.912 95.2176  Z\" fill=\"#ffffff\" fill-rule=\"evenodd\" fill-opacity=\"1\"/>\n",
       "<polyline clip-path=\"url(#clip520)\" style=\"stroke:#000000; stroke-linecap:round; stroke-linejoin:round; stroke-width:4; stroke-opacity:1; fill:none\" points=\"284.912,198.898 551.258,198.898 551.258,95.2176 284.912,95.2176 284.912,198.898 \"/>\n",
       "<polyline clip-path=\"url(#clip520)\" style=\"stroke:#009af9; stroke-linecap:round; stroke-linejoin:round; stroke-width:4; stroke-opacity:1; fill:none\" points=\"308.681,147.058 451.291,147.058 \"/>\n",
       "<path clip-path=\"url(#clip520)\" d=\"M488.901 166.745 Q487.096 171.375 485.383 172.787 Q483.67 174.199 480.8 174.199 L477.397 174.199 L477.397 170.634 L479.897 170.634 Q481.656 170.634 482.628 169.8 Q483.601 168.967 484.781 165.865 L485.545 163.921 L475.059 138.412 L479.573 138.412 L487.675 158.689 L495.776 138.412 L500.29 138.412 L488.901 166.745 Z\" fill=\"#000000\" fill-rule=\"nonzero\" fill-opacity=\"1\" /><path clip-path=\"url(#clip520)\" d=\"M507.582 160.402 L515.221 160.402 L515.221 134.037 L506.911 135.703 L506.911 131.444 L515.174 129.778 L519.85 129.778 L519.85 160.402 L527.489 160.402 L527.489 164.338 L507.582 164.338 L507.582 160.402 Z\" fill=\"#000000\" fill-rule=\"nonzero\" fill-opacity=\"1\" /></svg>\n"
      ],
      "text/html": [
       "<?xml version=\"1.0\" encoding=\"utf-8\"?>\n",
       "<svg xmlns=\"http://www.w3.org/2000/svg\" xmlns:xlink=\"http://www.w3.org/1999/xlink\" width=\"600\" height=\"400\" viewBox=\"0 0 2400 1600\">\n",
       "<defs>\n",
       "  <clipPath id=\"clip570\">\n",
       "    <rect x=\"0\" y=\"0\" width=\"2400\" height=\"1600\"/>\n",
       "  </clipPath>\n",
       "</defs>\n",
       "<path clip-path=\"url(#clip570)\" d=\"M0 1600 L2400 1600 L2400 8.88178e-14 L0 8.88178e-14  Z\" fill=\"#ffffff\" fill-rule=\"evenodd\" fill-opacity=\"1\"/>\n",
       "<defs>\n",
       "  <clipPath id=\"clip571\">\n",
       "    <rect x=\"480\" y=\"0\" width=\"1681\" height=\"1600\"/>\n",
       "  </clipPath>\n",
       "</defs>\n",
       "<path clip-path=\"url(#clip570)\" d=\"M213.607 1486.45 L2352.76 1486.45 L2352.76 47.2441 L213.607 47.2441  Z\" fill=\"#ffffff\" fill-rule=\"evenodd\" fill-opacity=\"1\"/>\n",
       "<defs>\n",
       "  <clipPath id=\"clip572\">\n",
       "    <rect x=\"213\" y=\"47\" width=\"2140\" height=\"1440\"/>\n",
       "  </clipPath>\n",
       "</defs>\n",
       "<polyline clip-path=\"url(#clip572)\" style=\"stroke:#000000; stroke-linecap:round; stroke-linejoin:round; stroke-width:2; stroke-opacity:0.1; fill:none\" points=\"418.297,1486.45 418.297,47.2441 \"/>\n",
       "<polyline clip-path=\"url(#clip572)\" style=\"stroke:#000000; stroke-linecap:round; stroke-linejoin:round; stroke-width:2; stroke-opacity:0.1; fill:none\" points=\"706.592,1486.45 706.592,47.2441 \"/>\n",
       "<polyline clip-path=\"url(#clip572)\" style=\"stroke:#000000; stroke-linecap:round; stroke-linejoin:round; stroke-width:2; stroke-opacity:0.1; fill:none\" points=\"994.887,1486.45 994.887,47.2441 \"/>\n",
       "<polyline clip-path=\"url(#clip572)\" style=\"stroke:#000000; stroke-linecap:round; stroke-linejoin:round; stroke-width:2; stroke-opacity:0.1; fill:none\" points=\"1283.18,1486.45 1283.18,47.2441 \"/>\n",
       "<polyline clip-path=\"url(#clip572)\" style=\"stroke:#000000; stroke-linecap:round; stroke-linejoin:round; stroke-width:2; stroke-opacity:0.1; fill:none\" points=\"1571.48,1486.45 1571.48,47.2441 \"/>\n",
       "<polyline clip-path=\"url(#clip572)\" style=\"stroke:#000000; stroke-linecap:round; stroke-linejoin:round; stroke-width:2; stroke-opacity:0.1; fill:none\" points=\"1859.77,1486.45 1859.77,47.2441 \"/>\n",
       "<polyline clip-path=\"url(#clip572)\" style=\"stroke:#000000; stroke-linecap:round; stroke-linejoin:round; stroke-width:2; stroke-opacity:0.1; fill:none\" points=\"2148.07,1486.45 2148.07,47.2441 \"/>\n",
       "<polyline clip-path=\"url(#clip572)\" style=\"stroke:#000000; stroke-linecap:round; stroke-linejoin:round; stroke-width:2; stroke-opacity:0.1; fill:none\" points=\"213.607,1063.12 2352.76,1063.12 \"/>\n",
       "<polyline clip-path=\"url(#clip572)\" style=\"stroke:#000000; stroke-linecap:round; stroke-linejoin:round; stroke-width:2; stroke-opacity:0.1; fill:none\" points=\"213.607,601.985 2352.76,601.985 \"/>\n",
       "<polyline clip-path=\"url(#clip572)\" style=\"stroke:#000000; stroke-linecap:round; stroke-linejoin:round; stroke-width:2; stroke-opacity:0.1; fill:none\" points=\"213.607,140.849 2352.76,140.849 \"/>\n",
       "<polyline clip-path=\"url(#clip570)\" style=\"stroke:#000000; stroke-linecap:round; stroke-linejoin:round; stroke-width:4; stroke-opacity:1; fill:none\" points=\"213.607,1486.45 2352.76,1486.45 \"/>\n",
       "<polyline clip-path=\"url(#clip570)\" style=\"stroke:#000000; stroke-linecap:round; stroke-linejoin:round; stroke-width:4; stroke-opacity:1; fill:none\" points=\"418.297,1486.45 418.297,1467.55 \"/>\n",
       "<polyline clip-path=\"url(#clip570)\" style=\"stroke:#000000; stroke-linecap:round; stroke-linejoin:round; stroke-width:4; stroke-opacity:1; fill:none\" points=\"706.592,1486.45 706.592,1467.55 \"/>\n",
       "<polyline clip-path=\"url(#clip570)\" style=\"stroke:#000000; stroke-linecap:round; stroke-linejoin:round; stroke-width:4; stroke-opacity:1; fill:none\" points=\"994.887,1486.45 994.887,1467.55 \"/>\n",
       "<polyline clip-path=\"url(#clip570)\" style=\"stroke:#000000; stroke-linecap:round; stroke-linejoin:round; stroke-width:4; stroke-opacity:1; fill:none\" points=\"1283.18,1486.45 1283.18,1467.55 \"/>\n",
       "<polyline clip-path=\"url(#clip570)\" style=\"stroke:#000000; stroke-linecap:round; stroke-linejoin:round; stroke-width:4; stroke-opacity:1; fill:none\" points=\"1571.48,1486.45 1571.48,1467.55 \"/>\n",
       "<polyline clip-path=\"url(#clip570)\" style=\"stroke:#000000; stroke-linecap:round; stroke-linejoin:round; stroke-width:4; stroke-opacity:1; fill:none\" points=\"1859.77,1486.45 1859.77,1467.55 \"/>\n",
       "<polyline clip-path=\"url(#clip570)\" style=\"stroke:#000000; stroke-linecap:round; stroke-linejoin:round; stroke-width:4; stroke-opacity:1; fill:none\" points=\"2148.07,1486.45 2148.07,1467.55 \"/>\n",
       "<path clip-path=\"url(#clip570)\" d=\"M412.95 1544.91 L429.269 1544.91 L429.269 1548.85 L407.325 1548.85 L407.325 1544.91 Q409.987 1542.16 414.57 1537.53 Q419.177 1532.88 420.357 1531.53 Q422.602 1529.01 423.482 1527.27 Q424.385 1525.51 424.385 1523.82 Q424.385 1521.07 422.44 1519.33 Q420.519 1517.6 417.417 1517.6 Q415.218 1517.6 412.765 1518.36 Q410.334 1519.13 407.556 1520.68 L407.556 1515.95 Q410.38 1514.82 412.834 1514.24 Q415.288 1513.66 417.325 1513.66 Q422.695 1513.66 425.889 1516.35 Q429.084 1519.03 429.084 1523.52 Q429.084 1525.65 428.274 1527.57 Q427.487 1529.47 425.38 1532.07 Q424.801 1532.74 421.7 1535.95 Q418.598 1539.15 412.95 1544.91 Z\" fill=\"#000000\" fill-rule=\"nonzero\" fill-opacity=\"1\" /><path clip-path=\"url(#clip570)\" d=\"M709.601 1518.36 L697.796 1536.81 L709.601 1536.81 L709.601 1518.36 M708.374 1514.29 L714.254 1514.29 L714.254 1536.81 L719.184 1536.81 L719.184 1540.7 L714.254 1540.7 L714.254 1548.85 L709.601 1548.85 L709.601 1540.7 L693.999 1540.7 L693.999 1536.19 L708.374 1514.29 Z\" fill=\"#000000\" fill-rule=\"nonzero\" fill-opacity=\"1\" /><path clip-path=\"url(#clip570)\" d=\"M995.292 1529.7 Q992.144 1529.7 990.292 1531.86 Q988.463 1534.01 988.463 1537.76 Q988.463 1541.49 990.292 1543.66 Q992.144 1545.82 995.292 1545.82 Q998.44 1545.82 1000.27 1543.66 Q1002.12 1541.49 1002.12 1537.76 Q1002.12 1534.01 1000.27 1531.86 Q998.44 1529.7 995.292 1529.7 M1004.57 1515.05 L1004.57 1519.31 Q1002.81 1518.48 1001.01 1518.04 Q999.227 1517.6 997.468 1517.6 Q992.838 1517.6 990.384 1520.72 Q987.954 1523.85 987.607 1530.17 Q988.972 1528.15 991.033 1527.09 Q993.093 1526 995.57 1526 Q1000.78 1526 1003.79 1529.17 Q1006.82 1532.32 1006.82 1537.76 Q1006.82 1543.08 1003.67 1546.3 Q1000.52 1549.52 995.292 1549.52 Q989.297 1549.52 986.125 1544.94 Q982.954 1540.33 982.954 1531.6 Q982.954 1523.41 986.843 1518.55 Q990.732 1513.66 997.283 1513.66 Q999.042 1513.66 1000.82 1514.01 Q1002.63 1514.36 1004.57 1515.05 Z\" fill=\"#000000\" fill-rule=\"nonzero\" fill-opacity=\"1\" /><path clip-path=\"url(#clip570)\" d=\"M1283.18 1532.44 Q1279.85 1532.44 1277.93 1534.22 Q1276.03 1536 1276.03 1539.13 Q1276.03 1542.25 1277.93 1544.03 Q1279.85 1545.82 1283.18 1545.82 Q1286.52 1545.82 1288.44 1544.03 Q1290.36 1542.23 1290.36 1539.13 Q1290.36 1536 1288.44 1534.22 Q1286.54 1532.44 1283.18 1532.44 M1278.51 1530.45 Q1275.5 1529.7 1273.81 1527.64 Q1272.14 1525.58 1272.14 1522.62 Q1272.14 1518.48 1275.08 1516.07 Q1278.04 1513.66 1283.18 1513.66 Q1288.34 1513.66 1291.28 1516.07 Q1294.22 1518.48 1294.22 1522.62 Q1294.22 1525.58 1292.53 1527.64 Q1290.87 1529.7 1287.88 1530.45 Q1291.26 1531.23 1293.14 1533.52 Q1295.03 1535.82 1295.03 1539.13 Q1295.03 1544.15 1291.95 1546.83 Q1288.9 1549.52 1283.18 1549.52 Q1277.46 1549.52 1274.39 1546.83 Q1271.33 1544.15 1271.33 1539.13 Q1271.33 1535.82 1273.23 1533.52 Q1275.13 1531.23 1278.51 1530.45 M1276.79 1523.06 Q1276.79 1525.75 1278.46 1527.25 Q1280.15 1528.76 1283.18 1528.76 Q1286.19 1528.76 1287.88 1527.25 Q1289.59 1525.75 1289.59 1523.06 Q1289.59 1520.38 1287.88 1518.87 Q1286.19 1517.37 1283.18 1517.37 Q1280.15 1517.37 1278.46 1518.87 Q1276.79 1520.38 1276.79 1523.06 Z\" fill=\"#000000\" fill-rule=\"nonzero\" fill-opacity=\"1\" /><path clip-path=\"url(#clip570)\" d=\"M1546.16 1544.91 L1553.8 1544.91 L1553.8 1518.55 L1545.49 1520.21 L1545.49 1515.95 L1553.76 1514.29 L1558.43 1514.29 L1558.43 1544.91 L1566.07 1544.91 L1566.07 1548.85 L1546.16 1548.85 L1546.16 1544.91 Z\" fill=\"#000000\" fill-rule=\"nonzero\" fill-opacity=\"1\" /><path clip-path=\"url(#clip570)\" d=\"M1585.52 1517.37 Q1581.9 1517.37 1580.08 1520.93 Q1578.27 1524.47 1578.27 1531.6 Q1578.27 1538.71 1580.08 1542.27 Q1581.9 1545.82 1585.52 1545.82 Q1589.15 1545.82 1590.96 1542.27 Q1592.78 1538.71 1592.78 1531.6 Q1592.78 1524.47 1590.96 1520.93 Q1589.15 1517.37 1585.52 1517.37 M1585.52 1513.66 Q1591.33 1513.66 1594.38 1518.27 Q1597.46 1522.85 1597.46 1531.6 Q1597.46 1540.33 1594.38 1544.94 Q1591.33 1549.52 1585.52 1549.52 Q1579.71 1549.52 1576.63 1544.94 Q1573.57 1540.33 1573.57 1531.6 Q1573.57 1522.85 1576.63 1518.27 Q1579.71 1513.66 1585.52 1513.66 Z\" fill=\"#000000\" fill-rule=\"nonzero\" fill-opacity=\"1\" /><path clip-path=\"url(#clip570)\" d=\"M1835.26 1544.91 L1842.9 1544.91 L1842.9 1518.55 L1834.59 1520.21 L1834.59 1515.95 L1842.85 1514.29 L1847.53 1514.29 L1847.53 1544.91 L1855.17 1544.91 L1855.17 1548.85 L1835.26 1548.85 L1835.26 1544.91 Z\" fill=\"#000000\" fill-rule=\"nonzero\" fill-opacity=\"1\" /><path clip-path=\"url(#clip570)\" d=\"M1868.64 1544.91 L1884.96 1544.91 L1884.96 1548.85 L1863.01 1548.85 L1863.01 1544.91 Q1865.67 1542.16 1870.26 1537.53 Q1874.86 1532.88 1876.04 1531.53 Q1878.29 1529.01 1879.17 1527.27 Q1880.07 1525.51 1880.07 1523.82 Q1880.07 1521.07 1878.13 1519.33 Q1876.21 1517.6 1873.1 1517.6 Q1870.91 1517.6 1868.45 1518.36 Q1866.02 1519.13 1863.24 1520.68 L1863.24 1515.95 Q1866.07 1514.82 1868.52 1514.24 Q1870.98 1513.66 1873.01 1513.66 Q1878.38 1513.66 1881.58 1516.35 Q1884.77 1519.03 1884.77 1523.52 Q1884.77 1525.65 1883.96 1527.57 Q1883.17 1529.47 1881.07 1532.07 Q1880.49 1532.74 1877.39 1535.95 Q1874.29 1539.15 1868.64 1544.91 Z\" fill=\"#000000\" fill-rule=\"nonzero\" fill-opacity=\"1\" /><path clip-path=\"url(#clip570)\" d=\"M2122.51 1544.91 L2130.15 1544.91 L2130.15 1518.55 L2121.84 1520.21 L2121.84 1515.95 L2130.1 1514.29 L2134.78 1514.29 L2134.78 1544.91 L2142.42 1544.91 L2142.42 1548.85 L2122.51 1548.85 L2122.51 1544.91 Z\" fill=\"#000000\" fill-rule=\"nonzero\" fill-opacity=\"1\" /><path clip-path=\"url(#clip570)\" d=\"M2164.71 1518.36 L2152.9 1536.81 L2164.71 1536.81 L2164.71 1518.36 M2163.48 1514.29 L2169.36 1514.29 L2169.36 1536.81 L2174.29 1536.81 L2174.29 1540.7 L2169.36 1540.7 L2169.36 1548.85 L2164.71 1548.85 L2164.71 1540.7 L2149.11 1540.7 L2149.11 1536.19 L2163.48 1514.29 Z\" fill=\"#000000\" fill-rule=\"nonzero\" fill-opacity=\"1\" /><polyline clip-path=\"url(#clip570)\" style=\"stroke:#000000; stroke-linecap:round; stroke-linejoin:round; stroke-width:4; stroke-opacity:1; fill:none\" points=\"213.607,1486.45 213.607,47.2441 \"/>\n",
       "<polyline clip-path=\"url(#clip570)\" style=\"stroke:#000000; stroke-linecap:round; stroke-linejoin:round; stroke-width:4; stroke-opacity:1; fill:none\" points=\"213.607,1063.12 232.505,1063.12 \"/>\n",
       "<polyline clip-path=\"url(#clip570)\" style=\"stroke:#000000; stroke-linecap:round; stroke-linejoin:round; stroke-width:4; stroke-opacity:1; fill:none\" points=\"213.607,601.985 232.505,601.985 \"/>\n",
       "<polyline clip-path=\"url(#clip570)\" style=\"stroke:#000000; stroke-linecap:round; stroke-linejoin:round; stroke-width:4; stroke-opacity:1; fill:none\" points=\"213.607,140.849 232.505,140.849 \"/>\n",
       "<path clip-path=\"url(#clip570)\" d=\"M51.6634 1082.91 L59.3023 1082.91 L59.3023 1056.55 L50.9921 1058.21 L50.9921 1053.95 L59.256 1052.29 L63.9319 1052.29 L63.9319 1082.91 L71.5707 1082.91 L71.5707 1086.85 L51.6634 1086.85 L51.6634 1082.91 Z\" fill=\"#000000\" fill-rule=\"nonzero\" fill-opacity=\"1\" /><path clip-path=\"url(#clip570)\" d=\"M91.0151 1055.37 Q87.404 1055.37 85.5753 1058.93 Q83.7697 1062.47 83.7697 1069.6 Q83.7697 1076.71 85.5753 1080.27 Q87.404 1083.82 91.0151 1083.82 Q94.6493 1083.82 96.4548 1080.27 Q98.2835 1076.71 98.2835 1069.6 Q98.2835 1062.47 96.4548 1058.93 Q94.6493 1055.37 91.0151 1055.37 M91.0151 1051.66 Q96.8252 1051.66 99.8808 1056.27 Q102.959 1060.85 102.959 1069.6 Q102.959 1078.33 99.8808 1082.94 Q96.8252 1087.52 91.0151 1087.52 Q85.2049 1087.52 82.1262 1082.94 Q79.0707 1078.33 79.0707 1069.6 Q79.0707 1060.85 82.1262 1056.27 Q85.2049 1051.66 91.0151 1051.66 Z\" fill=\"#000000\" fill-rule=\"nonzero\" fill-opacity=\"1\" /><path clip-path=\"url(#clip570)\" d=\"M102.959 1045.76 L127.071 1045.76 L127.071 1048.96 L102.959 1048.96 L102.959 1045.76 Z\" fill=\"#000000\" fill-rule=\"nonzero\" fill-opacity=\"1\" /><path clip-path=\"url(#clip570)\" d=\"M135.929 1056.24 L142.136 1056.24 L142.136 1034.82 L135.384 1036.17 L135.384 1032.71 L142.098 1031.36 L145.898 1031.36 L145.898 1056.24 L152.104 1056.24 L152.104 1059.44 L135.929 1059.44 L135.929 1056.24 Z\" fill=\"#000000\" fill-rule=\"nonzero\" fill-opacity=\"1\" /><path clip-path=\"url(#clip570)\" d=\"M167.903 1033.86 Q164.969 1033.86 163.483 1036.75 Q162.016 1039.63 162.016 1045.43 Q162.016 1051.2 163.483 1054.1 Q164.969 1056.97 167.903 1056.97 Q170.855 1056.97 172.322 1054.1 Q173.808 1051.2 173.808 1045.43 Q173.808 1039.63 172.322 1036.75 Q170.855 1033.86 167.903 1033.86 M167.903 1030.85 Q172.623 1030.85 175.106 1034.59 Q177.607 1038.32 177.607 1045.43 Q177.607 1052.52 175.106 1056.26 Q172.623 1059.98 167.903 1059.98 Q163.182 1059.98 160.68 1056.26 Q158.198 1052.52 158.198 1045.43 Q158.198 1038.32 160.68 1034.59 Q163.182 1030.85 167.903 1030.85 Z\" fill=\"#000000\" fill-rule=\"nonzero\" fill-opacity=\"1\" /><path clip-path=\"url(#clip570)\" d=\"M76.9787 621.777 L84.6175 621.777 L84.6175 595.411 L76.3074 597.078 L76.3074 592.819 L84.5712 591.152 L89.2471 591.152 L89.2471 621.777 L96.886 621.777 L96.886 625.712 L76.9787 625.712 L76.9787 621.777 Z\" fill=\"#000000\" fill-rule=\"nonzero\" fill-opacity=\"1\" /><path clip-path=\"url(#clip570)\" d=\"M116.33 594.231 Q112.719 594.231 110.891 597.796 Q109.085 601.337 109.085 608.467 Q109.085 615.573 110.891 619.138 Q112.719 622.68 116.33 622.68 Q119.965 622.68 121.77 619.138 Q123.599 615.573 123.599 608.467 Q123.599 601.337 121.77 597.796 Q119.965 594.231 116.33 594.231 M116.33 590.527 Q122.14 590.527 125.196 595.134 Q128.275 599.717 128.275 608.467 Q128.275 617.194 125.196 621.8 Q122.14 626.383 116.33 626.383 Q110.52 626.383 107.441 621.8 Q104.386 617.194 104.386 608.467 Q104.386 599.717 107.441 595.134 Q110.52 590.527 116.33 590.527 Z\" fill=\"#000000\" fill-rule=\"nonzero\" fill-opacity=\"1\" /><path clip-path=\"url(#clip570)\" d=\"M128.275 584.628 L152.386 584.628 L152.386 587.826 L128.275 587.826 L128.275 584.628 Z\" fill=\"#000000\" fill-rule=\"nonzero\" fill-opacity=\"1\" /><path clip-path=\"url(#clip570)\" d=\"M160.624 570.222 L175.539 570.222 L175.539 573.419 L164.103 573.419 L164.103 580.303 Q164.931 580.021 165.759 579.889 Q166.586 579.738 167.414 579.738 Q172.116 579.738 174.862 582.315 Q177.607 584.892 177.607 589.293 Q177.607 593.825 174.786 596.346 Q171.965 598.847 166.831 598.847 Q165.063 598.847 163.22 598.546 Q161.395 598.245 159.439 597.643 L159.439 593.825 Q161.132 594.747 162.937 595.198 Q164.743 595.65 166.755 595.65 Q170.009 595.65 171.909 593.938 Q173.808 592.227 173.808 589.293 Q173.808 586.359 171.909 584.647 Q170.009 582.936 166.755 582.936 Q165.232 582.936 163.709 583.274 Q162.204 583.613 160.624 584.328 L160.624 570.222 Z\" fill=\"#000000\" fill-rule=\"nonzero\" fill-opacity=\"1\" /><path clip-path=\"url(#clip570)\" d=\"M106.902 160.641 L114.541 160.641 L114.541 134.276 L106.231 135.943 L106.231 131.683 L114.494 130.017 L119.17 130.017 L119.17 160.641 L126.809 160.641 L126.809 164.577 L106.902 164.577 L106.902 160.641 Z\" fill=\"#000000\" fill-rule=\"nonzero\" fill-opacity=\"1\" /><path clip-path=\"url(#clip570)\" d=\"M146.253 133.095 Q142.642 133.095 140.814 136.66 Q139.008 140.202 139.008 147.331 Q139.008 154.438 140.814 158.003 Q142.642 161.544 146.253 161.544 Q149.888 161.544 151.693 158.003 Q153.522 154.438 153.522 147.331 Q153.522 140.202 151.693 136.66 Q149.888 133.095 146.253 133.095 M146.253 129.392 Q152.064 129.392 155.119 133.998 Q158.198 138.581 158.198 147.331 Q158.198 156.058 155.119 160.665 Q152.064 165.248 146.253 165.248 Q140.443 165.248 137.365 160.665 Q134.309 156.058 134.309 147.331 Q134.309 138.581 137.365 133.998 Q140.443 129.392 146.253 129.392 Z\" fill=\"#000000\" fill-rule=\"nonzero\" fill-opacity=\"1\" /><path clip-path=\"url(#clip570)\" d=\"M167.903 111.588 Q164.969 111.588 163.483 114.484 Q162.016 117.362 162.016 123.154 Q162.016 128.928 163.483 131.825 Q164.969 134.702 167.903 134.702 Q170.855 134.702 172.322 131.825 Q173.808 128.928 173.808 123.154 Q173.808 117.362 172.322 114.484 Q170.855 111.588 167.903 111.588 M167.903 108.578 Q172.623 108.578 175.106 112.321 Q177.607 116.045 177.607 123.154 Q177.607 130.245 175.106 133.988 Q172.623 137.712 167.903 137.712 Q163.182 137.712 160.68 133.988 Q158.198 130.245 158.198 123.154 Q158.198 116.045 160.68 112.321 Q163.182 108.578 167.903 108.578 Z\" fill=\"#000000\" fill-rule=\"nonzero\" fill-opacity=\"1\" /><polyline clip-path=\"url(#clip572)\" style=\"stroke:#009af9; stroke-linecap:round; stroke-linejoin:round; stroke-width:4; stroke-opacity:1; fill:none\" points=\"274.149,87.9763 418.297,100.165 562.444,113.511 706.592,128.58 850.739,146.351 994.887,168.65 1139.03,199.203 1283.18,246.28 1427.33,329.011 1571.48,489.047 1715.62,808.288 1859.77,1445.72 \"/>\n",
       "<path clip-path=\"url(#clip570)\" d=\"M284.912 198.898 L551.258 198.898 L551.258 95.2176 L284.912 95.2176  Z\" fill=\"#ffffff\" fill-rule=\"evenodd\" fill-opacity=\"1\"/>\n",
       "<polyline clip-path=\"url(#clip570)\" style=\"stroke:#000000; stroke-linecap:round; stroke-linejoin:round; stroke-width:4; stroke-opacity:1; fill:none\" points=\"284.912,198.898 551.258,198.898 551.258,95.2176 284.912,95.2176 284.912,198.898 \"/>\n",
       "<polyline clip-path=\"url(#clip570)\" style=\"stroke:#009af9; stroke-linecap:round; stroke-linejoin:round; stroke-width:4; stroke-opacity:1; fill:none\" points=\"308.681,147.058 451.291,147.058 \"/>\n",
       "<path clip-path=\"url(#clip570)\" d=\"M488.901 166.745 Q487.096 171.375 485.383 172.787 Q483.67 174.199 480.8 174.199 L477.397 174.199 L477.397 170.634 L479.897 170.634 Q481.656 170.634 482.628 169.8 Q483.601 168.967 484.781 165.865 L485.545 163.921 L475.059 138.412 L479.573 138.412 L487.675 158.689 L495.776 138.412 L500.29 138.412 L488.901 166.745 Z\" fill=\"#000000\" fill-rule=\"nonzero\" fill-opacity=\"1\" /><path clip-path=\"url(#clip570)\" d=\"M507.582 160.402 L515.221 160.402 L515.221 134.037 L506.911 135.703 L506.911 131.444 L515.174 129.778 L519.85 129.778 L519.85 160.402 L527.489 160.402 L527.489 164.338 L507.582 164.338 L507.582 160.402 Z\" fill=\"#000000\" fill-rule=\"nonzero\" fill-opacity=\"1\" /></svg>\n"
      ]
     },
     "metadata": {},
     "output_type": "display_data"
    }
   ],
   "source": [
    "# TODO: compute and plot the error of `newton(f, 0.1, k)` for `k = 1:15`\n",
    "k = 1:15\n",
    "x_0 = 0.1\n",
    "f1 = x -> x^5 + x^2 + 1\n",
    "\n",
    "errs = [nanabs(newton(f1, x_0, n) - newton(f1, x_0, 15)) for n = k]\n",
    "plot(k, errs; yscale=:log10)"
   ]
  },
  {
   "cell_type": "markdown",
   "metadata": {},
   "source": [
    "**Problem 5(b)** Use `newton` with a complex number to compute\n",
    "an approximation to a complex root of $f(x) = x^5 - x^2 + 1$.\n",
    "Verify the approximation is accurate by testing that it satisfies $f(r)$\n",
    "is approximately zero."
   ]
  },
  {
   "cell_type": "code",
   "execution_count": 89,
   "metadata": {},
   "outputs": [
    {
     "data": {
      "image/png": "[encoded data removed]",
      "image/svg+xml": [
       "<?xml version=\"1.0\" encoding=\"utf-8\"?>\n",
       "<svg xmlns=\"http://www.w3.org/2000/svg\" xmlns:xlink=\"http://www.w3.org/1999/xlink\" width=\"600\" height=\"400\" viewBox=\"0 0 2400 1600\">\n",
       "<defs>\n",
       "  <clipPath id=\"clip610\">\n",
       "    <rect x=\"0\" y=\"0\" width=\"2400\" height=\"1600\"/>\n",
       "  </clipPath>\n",
       "</defs>\n",
       "<path clip-path=\"url(#clip610)\" d=\"M0 1600 L2400 1600 L2400 8.88178e-14 L0 8.88178e-14  Z\" fill=\"#ffffff\" fill-rule=\"evenodd\" fill-opacity=\"1\"/>\n",
       "<defs>\n",
       "  <clipPath id=\"clip611\">\n",
       "    <rect x=\"480\" y=\"0\" width=\"1681\" height=\"1600\"/>\n",
       "  </clipPath>\n",
       "</defs>\n",
       "<path clip-path=\"url(#clip610)\" d=\"M213.607 1486.45 L2352.76 1486.45 L2352.76 47.2441 L213.607 47.2441  Z\" fill=\"#ffffff\" fill-rule=\"evenodd\" fill-opacity=\"1\"/>\n",
       "<defs>\n",
       "  <clipPath id=\"clip612\">\n",
       "    <rect x=\"213\" y=\"47\" width=\"2140\" height=\"1440\"/>\n",
       "  </clipPath>\n",
       "</defs>\n",
       "<polyline clip-path=\"url(#clip612)\" style=\"stroke:#000000; stroke-linecap:round; stroke-linejoin:round; stroke-width:2; stroke-opacity:0.1; fill:none\" points=\"418.297,1486.45 418.297,47.2441 \"/>\n",
       "<polyline clip-path=\"url(#clip612)\" style=\"stroke:#000000; stroke-linecap:round; stroke-linejoin:round; stroke-width:2; stroke-opacity:0.1; fill:none\" points=\"706.592,1486.45 706.592,47.2441 \"/>\n",
       "<polyline clip-path=\"url(#clip612)\" style=\"stroke:#000000; stroke-linecap:round; stroke-linejoin:round; stroke-width:2; stroke-opacity:0.1; fill:none\" points=\"994.887,1486.45 994.887,47.2441 \"/>\n",
       "<polyline clip-path=\"url(#clip612)\" style=\"stroke:#000000; stroke-linecap:round; stroke-linejoin:round; stroke-width:2; stroke-opacity:0.1; fill:none\" points=\"1283.18,1486.45 1283.18,47.2441 \"/>\n",
       "<polyline clip-path=\"url(#clip612)\" style=\"stroke:#000000; stroke-linecap:round; stroke-linejoin:round; stroke-width:2; stroke-opacity:0.1; fill:none\" points=\"1571.48,1486.45 1571.48,47.2441 \"/>\n",
       "<polyline clip-path=\"url(#clip612)\" style=\"stroke:#000000; stroke-linecap:round; stroke-linejoin:round; stroke-width:2; stroke-opacity:0.1; fill:none\" points=\"1859.77,1486.45 1859.77,47.2441 \"/>\n",
       "<polyline clip-path=\"url(#clip612)\" style=\"stroke:#000000; stroke-linecap:round; stroke-linejoin:round; stroke-width:2; stroke-opacity:0.1; fill:none\" points=\"2148.07,1486.45 2148.07,47.2441 \"/>\n",
       "<polyline clip-path=\"url(#clip612)\" style=\"stroke:#000000; stroke-linecap:round; stroke-linejoin:round; stroke-width:2; stroke-opacity:0.1; fill:none\" points=\"213.607,1392.91 2352.76,1392.91 \"/>\n",
       "<polyline clip-path=\"url(#clip612)\" style=\"stroke:#000000; stroke-linecap:round; stroke-linejoin:round; stroke-width:2; stroke-opacity:0.1; fill:none\" points=\"213.607,776.889 2352.76,776.889 \"/>\n",
       "<polyline clip-path=\"url(#clip612)\" style=\"stroke:#000000; stroke-linecap:round; stroke-linejoin:round; stroke-width:2; stroke-opacity:0.1; fill:none\" points=\"213.607,160.864 2352.76,160.864 \"/>\n",
       "<polyline clip-path=\"url(#clip610)\" style=\"stroke:#000000; stroke-linecap:round; stroke-linejoin:round; stroke-width:4; stroke-opacity:1; fill:none\" points=\"213.607,1486.45 2352.76,1486.45 \"/>\n",
       "<polyline clip-path=\"url(#clip610)\" style=\"stroke:#000000; stroke-linecap:round; stroke-linejoin:round; stroke-width:4; stroke-opacity:1; fill:none\" points=\"418.297,1486.45 418.297,1467.55 \"/>\n",
       "<polyline clip-path=\"url(#clip610)\" style=\"stroke:#000000; stroke-linecap:round; stroke-linejoin:round; stroke-width:4; stroke-opacity:1; fill:none\" points=\"706.592,1486.45 706.592,1467.55 \"/>\n",
       "<polyline clip-path=\"url(#clip610)\" style=\"stroke:#000000; stroke-linecap:round; stroke-linejoin:round; stroke-width:4; stroke-opacity:1; fill:none\" points=\"994.887,1486.45 994.887,1467.55 \"/>\n",
       "<polyline clip-path=\"url(#clip610)\" style=\"stroke:#000000; stroke-linecap:round; stroke-linejoin:round; stroke-width:4; stroke-opacity:1; fill:none\" points=\"1283.18,1486.45 1283.18,1467.55 \"/>\n",
       "<polyline clip-path=\"url(#clip610)\" style=\"stroke:#000000; stroke-linecap:round; stroke-linejoin:round; stroke-width:4; stroke-opacity:1; fill:none\" points=\"1571.48,1486.45 1571.48,1467.55 \"/>\n",
       "<polyline clip-path=\"url(#clip610)\" style=\"stroke:#000000; stroke-linecap:round; stroke-linejoin:round; stroke-width:4; stroke-opacity:1; fill:none\" points=\"1859.77,1486.45 1859.77,1467.55 \"/>\n",
       "<polyline clip-path=\"url(#clip610)\" style=\"stroke:#000000; stroke-linecap:round; stroke-linejoin:round; stroke-width:4; stroke-opacity:1; fill:none\" points=\"2148.07,1486.45 2148.07,1467.55 \"/>\n",
       "<path clip-path=\"url(#clip610)\" d=\"M412.95 1544.91 L429.269 1544.91 L429.269 1548.85 L407.325 1548.85 L407.325 1544.91 Q409.987 1542.16 414.57 1537.53 Q419.177 1532.88 420.357 1531.53 Q422.602 1529.01 423.482 1527.27 Q424.385 1525.51 424.385 1523.82 Q424.385 1521.07 422.44 1519.33 Q420.519 1517.6 417.417 1517.6 Q415.218 1517.6 412.765 1518.36 Q410.334 1519.13 407.556 1520.68 L407.556 1515.95 Q410.38 1514.82 412.834 1514.24 Q415.288 1513.66 417.325 1513.66 Q422.695 1513.66 425.889 1516.35 Q429.084 1519.03 429.084 1523.52 Q429.084 1525.65 428.274 1527.57 Q427.487 1529.47 425.38 1532.07 Q424.801 1532.74 421.7 1535.95 Q418.598 1539.15 412.95 1544.91 Z\" fill=\"#000000\" fill-rule=\"nonzero\" fill-opacity=\"1\" /><path clip-path=\"url(#clip610)\" d=\"M709.601 1518.36 L697.796 1536.81 L709.601 1536.81 L709.601 1518.36 M708.374 1514.29 L714.254 1514.29 L714.254 1536.81 L719.184 1536.81 L719.184 1540.7 L714.254 1540.7 L714.254 1548.85 L709.601 1548.85 L709.601 1540.7 L693.999 1540.7 L693.999 1536.19 L708.374 1514.29 Z\" fill=\"#000000\" fill-rule=\"nonzero\" fill-opacity=\"1\" /><path clip-path=\"url(#clip610)\" d=\"M995.292 1529.7 Q992.144 1529.7 990.292 1531.86 Q988.463 1534.01 988.463 1537.76 Q988.463 1541.49 990.292 1543.66 Q992.144 1545.82 995.292 1545.82 Q998.44 1545.82 1000.27 1543.66 Q1002.12 1541.49 1002.12 1537.76 Q1002.12 1534.01 1000.27 1531.86 Q998.44 1529.7 995.292 1529.7 M1004.57 1515.05 L1004.57 1519.31 Q1002.81 1518.48 1001.01 1518.04 Q999.227 1517.6 997.468 1517.6 Q992.838 1517.6 990.384 1520.72 Q987.954 1523.85 987.607 1530.17 Q988.972 1528.15 991.033 1527.09 Q993.093 1526 995.57 1526 Q1000.78 1526 1003.79 1529.17 Q1006.82 1532.32 1006.82 1537.76 Q1006.82 1543.08 1003.67 1546.3 Q1000.52 1549.52 995.292 1549.52 Q989.297 1549.52 986.125 1544.94 Q982.954 1540.33 982.954 1531.6 Q982.954 1523.41 986.843 1518.55 Q990.732 1513.66 997.283 1513.66 Q999.042 1513.66 1000.82 1514.01 Q1002.63 1514.36 1004.57 1515.05 Z\" fill=\"#000000\" fill-rule=\"nonzero\" fill-opacity=\"1\" /><path clip-path=\"url(#clip610)\" d=\"M1283.18 1532.44 Q1279.85 1532.44 1277.93 1534.22 Q1276.03 1536 1276.03 1539.13 Q1276.03 1542.25 1277.93 1544.03 Q1279.85 1545.82 1283.18 1545.82 Q1286.52 1545.82 1288.44 1544.03 Q1290.36 1542.23 1290.36 1539.13 Q1290.36 1536 1288.44 1534.22 Q1286.54 1532.44 1283.18 1532.44 M1278.51 1530.45 Q1275.5 1529.7 1273.81 1527.64 Q1272.14 1525.58 1272.14 1522.62 Q1272.14 1518.48 1275.08 1516.07 Q1278.04 1513.66 1283.18 1513.66 Q1288.34 1513.66 1291.28 1516.07 Q1294.22 1518.48 1294.22 1522.62 Q1294.22 1525.58 1292.53 1527.64 Q1290.87 1529.7 1287.88 1530.45 Q1291.26 1531.23 1293.14 1533.52 Q1295.03 1535.82 1295.03 1539.13 Q1295.03 1544.15 1291.95 1546.83 Q1288.9 1549.52 1283.18 1549.52 Q1277.46 1549.52 1274.39 1546.83 Q1271.33 1544.15 1271.33 1539.13 Q1271.33 1535.82 1273.23 1533.52 Q1275.13 1531.23 1278.51 1530.45 M1276.79 1523.06 Q1276.79 1525.75 1278.46 1527.25 Q1280.15 1528.76 1283.18 1528.76 Q1286.19 1528.76 1287.88 1527.25 Q1289.59 1525.75 1289.59 1523.06 Q1289.59 1520.38 1287.88 1518.87 Q1286.19 1517.37 1283.18 1517.37 Q1280.15 1517.37 1278.46 1518.87 Q1276.79 1520.38 1276.79 1523.06 Z\" fill=\"#000000\" fill-rule=\"nonzero\" fill-opacity=\"1\" /><path clip-path=\"url(#clip610)\" d=\"M1546.16 1544.91 L1553.8 1544.91 L1553.8 1518.55 L1545.49 1520.21 L1545.49 1515.95 L1553.76 1514.29 L1558.43 1514.29 L1558.43 1544.91 L1566.07 1544.91 L1566.07 1548.85 L1546.16 1548.85 L1546.16 1544.91 Z\" fill=\"#000000\" fill-rule=\"nonzero\" fill-opacity=\"1\" /><path clip-path=\"url(#clip610)\" d=\"M1585.52 1517.37 Q1581.9 1517.37 1580.08 1520.93 Q1578.27 1524.47 1578.27 1531.6 Q1578.27 1538.71 1580.08 1542.27 Q1581.9 1545.82 1585.52 1545.82 Q1589.15 1545.82 1590.96 1542.27 Q1592.78 1538.71 1592.78 1531.6 Q1592.78 1524.47 1590.96 1520.93 Q1589.15 1517.37 1585.52 1517.37 M1585.52 1513.66 Q1591.33 1513.66 1594.38 1518.27 Q1597.46 1522.85 1597.46 1531.6 Q1597.46 1540.33 1594.38 1544.94 Q1591.33 1549.52 1585.52 1549.52 Q1579.71 1549.52 1576.63 1544.94 Q1573.57 1540.33 1573.57 1531.6 Q1573.57 1522.85 1576.63 1518.27 Q1579.71 1513.66 1585.52 1513.66 Z\" fill=\"#000000\" fill-rule=\"nonzero\" fill-opacity=\"1\" /><path clip-path=\"url(#clip610)\" d=\"M1835.26 1544.91 L1842.9 1544.91 L1842.9 1518.55 L1834.59 1520.21 L1834.59 1515.95 L1842.85 1514.29 L1847.53 1514.29 L1847.53 1544.91 L1855.17 1544.91 L1855.17 1548.85 L1835.26 1548.85 L1835.26 1544.91 Z\" fill=\"#000000\" fill-rule=\"nonzero\" fill-opacity=\"1\" /><path clip-path=\"url(#clip610)\" d=\"M1868.64 1544.91 L1884.96 1544.91 L1884.96 1548.85 L1863.01 1548.85 L1863.01 1544.91 Q1865.67 1542.16 1870.26 1537.53 Q1874.86 1532.88 1876.04 1531.53 Q1878.29 1529.01 1879.17 1527.27 Q1880.07 1525.51 1880.07 1523.82 Q1880.07 1521.07 1878.13 1519.33 Q1876.21 1517.6 1873.1 1517.6 Q1870.91 1517.6 1868.45 1518.36 Q1866.02 1519.13 1863.24 1520.68 L1863.24 1515.95 Q1866.07 1514.82 1868.52 1514.24 Q1870.98 1513.66 1873.01 1513.66 Q1878.38 1513.66 1881.58 1516.35 Q1884.77 1519.03 1884.77 1523.52 Q1884.77 1525.65 1883.96 1527.57 Q1883.17 1529.47 1881.07 1532.07 Q1880.49 1532.74 1877.39 1535.95 Q1874.29 1539.15 1868.64 1544.91 Z\" fill=\"#000000\" fill-rule=\"nonzero\" fill-opacity=\"1\" /><path clip-path=\"url(#clip610)\" d=\"M2122.51 1544.91 L2130.15 1544.91 L2130.15 1518.55 L2121.84 1520.21 L2121.84 1515.95 L2130.1 1514.29 L2134.78 1514.29 L2134.78 1544.91 L2142.42 1544.91 L2142.42 1548.85 L2122.51 1548.85 L2122.51 1544.91 Z\" fill=\"#000000\" fill-rule=\"nonzero\" fill-opacity=\"1\" /><path clip-path=\"url(#clip610)\" d=\"M2164.71 1518.36 L2152.9 1536.81 L2164.71 1536.81 L2164.71 1518.36 M2163.48 1514.29 L2169.36 1514.29 L2169.36 1536.81 L2174.29 1536.81 L2174.29 1540.7 L2169.36 1540.7 L2169.36 1548.85 L2164.71 1548.85 L2164.71 1540.7 L2149.11 1540.7 L2149.11 1536.19 L2163.48 1514.29 Z\" fill=\"#000000\" fill-rule=\"nonzero\" fill-opacity=\"1\" /><polyline clip-path=\"url(#clip610)\" style=\"stroke:#000000; stroke-linecap:round; stroke-linejoin:round; stroke-width:4; stroke-opacity:1; fill:none\" points=\"213.607,1486.45 213.607,47.2441 \"/>\n",
       "<polyline clip-path=\"url(#clip610)\" style=\"stroke:#000000; stroke-linecap:round; stroke-linejoin:round; stroke-width:4; stroke-opacity:1; fill:none\" points=\"213.607,1392.91 232.505,1392.91 \"/>\n",
       "<polyline clip-path=\"url(#clip610)\" style=\"stroke:#000000; stroke-linecap:round; stroke-linejoin:round; stroke-width:4; stroke-opacity:1; fill:none\" points=\"213.607,776.889 232.505,776.889 \"/>\n",
       "<polyline clip-path=\"url(#clip610)\" style=\"stroke:#000000; stroke-linecap:round; stroke-linejoin:round; stroke-width:4; stroke-opacity:1; fill:none\" points=\"213.607,160.864 232.505,160.864 \"/>\n",
       "<path clip-path=\"url(#clip610)\" d=\"M51.6634 1412.71 L59.3023 1412.71 L59.3023 1386.34 L50.9921 1388.01 L50.9921 1383.75 L59.256 1382.08 L63.9319 1382.08 L63.9319 1412.71 L71.5707 1412.71 L71.5707 1416.64 L51.6634 1416.64 L51.6634 1412.71 Z\" fill=\"#000000\" fill-rule=\"nonzero\" fill-opacity=\"1\" /><path clip-path=\"url(#clip610)\" d=\"M91.0151 1385.16 Q87.404 1385.16 85.5753 1388.72 Q83.7697 1392.27 83.7697 1399.4 Q83.7697 1406.5 85.5753 1410.07 Q87.404 1413.61 91.0151 1413.61 Q94.6493 1413.61 96.4548 1410.07 Q98.2835 1406.5 98.2835 1399.4 Q98.2835 1392.27 96.4548 1388.72 Q94.6493 1385.16 91.0151 1385.16 M91.0151 1381.46 Q96.8252 1381.46 99.8808 1386.06 Q102.959 1390.65 102.959 1399.4 Q102.959 1408.12 99.8808 1412.73 Q96.8252 1417.31 91.0151 1417.31 Q85.2049 1417.31 82.1262 1412.73 Q79.0707 1408.12 79.0707 1399.4 Q79.0707 1390.65 82.1262 1386.06 Q85.2049 1381.46 91.0151 1381.46 Z\" fill=\"#000000\" fill-rule=\"nonzero\" fill-opacity=\"1\" /><path clip-path=\"url(#clip610)\" d=\"M102.959 1375.56 L127.071 1375.56 L127.071 1378.76 L102.959 1378.76 L102.959 1375.56 Z\" fill=\"#000000\" fill-rule=\"nonzero\" fill-opacity=\"1\" /><path clip-path=\"url(#clip610)\" d=\"M135.929 1386.03 L142.136 1386.03 L142.136 1364.61 L135.384 1365.97 L135.384 1362.51 L142.098 1361.15 L145.898 1361.15 L145.898 1386.03 L152.104 1386.03 L152.104 1389.23 L135.929 1389.23 L135.929 1386.03 Z\" fill=\"#000000\" fill-rule=\"nonzero\" fill-opacity=\"1\" /><path clip-path=\"url(#clip610)\" d=\"M167.903 1363.65 Q164.969 1363.65 163.483 1366.55 Q162.016 1369.43 162.016 1375.22 Q162.016 1380.99 163.483 1383.89 Q164.969 1386.77 167.903 1386.77 Q170.855 1386.77 172.322 1383.89 Q173.808 1380.99 173.808 1375.22 Q173.808 1369.43 172.322 1366.55 Q170.855 1363.65 167.903 1363.65 M167.903 1360.64 Q172.623 1360.64 175.106 1364.39 Q177.607 1368.11 177.607 1375.22 Q177.607 1382.31 175.106 1386.05 Q172.623 1389.78 167.903 1389.78 Q163.182 1389.78 160.68 1386.05 Q158.198 1382.31 158.198 1375.22 Q158.198 1368.11 160.68 1364.39 Q163.182 1360.64 167.903 1360.64 Z\" fill=\"#000000\" fill-rule=\"nonzero\" fill-opacity=\"1\" /><path clip-path=\"url(#clip610)\" d=\"M76.9787 796.681 L84.6175 796.681 L84.6175 770.316 L76.3074 771.982 L76.3074 767.723 L84.5712 766.056 L89.2471 766.056 L89.2471 796.681 L96.886 796.681 L96.886 800.616 L76.9787 800.616 L76.9787 796.681 Z\" fill=\"#000000\" fill-rule=\"nonzero\" fill-opacity=\"1\" /><path clip-path=\"url(#clip610)\" d=\"M116.33 769.135 Q112.719 769.135 110.891 772.7 Q109.085 776.242 109.085 783.371 Q109.085 790.478 110.891 794.042 Q112.719 797.584 116.33 797.584 Q119.965 797.584 121.77 794.042 Q123.599 790.478 123.599 783.371 Q123.599 776.242 121.77 772.7 Q119.965 769.135 116.33 769.135 M116.33 765.431 Q122.14 765.431 125.196 770.038 Q128.275 774.621 128.275 783.371 Q128.275 792.098 125.196 796.704 Q122.14 801.288 116.33 801.288 Q110.52 801.288 107.441 796.704 Q104.386 792.098 104.386 783.371 Q104.386 774.621 107.441 770.038 Q110.52 765.431 116.33 765.431 Z\" fill=\"#000000\" fill-rule=\"nonzero\" fill-opacity=\"1\" /><path clip-path=\"url(#clip610)\" d=\"M128.275 759.533 L152.386 759.533 L152.386 762.73 L128.275 762.73 L128.275 759.533 Z\" fill=\"#000000\" fill-rule=\"nonzero\" fill-opacity=\"1\" /><path clip-path=\"url(#clip610)\" d=\"M160.624 745.126 L175.539 745.126 L175.539 748.323 L164.103 748.323 L164.103 755.207 Q164.931 754.925 165.759 754.793 Q166.586 754.643 167.414 754.643 Q172.116 754.643 174.862 757.219 Q177.607 759.796 177.607 764.197 Q177.607 768.73 174.786 771.25 Q171.965 773.752 166.831 773.752 Q165.063 773.752 163.22 773.451 Q161.395 773.15 159.439 772.548 L159.439 768.73 Q161.132 769.651 162.937 770.103 Q164.743 770.554 166.755 770.554 Q170.009 770.554 171.909 768.843 Q173.808 767.131 173.808 764.197 Q173.808 761.263 171.909 759.552 Q170.009 757.84 166.755 757.84 Q165.232 757.84 163.709 758.179 Q162.204 758.517 160.624 759.232 L160.624 745.126 Z\" fill=\"#000000\" fill-rule=\"nonzero\" fill-opacity=\"1\" /><path clip-path=\"url(#clip610)\" d=\"M106.902 180.656 L114.541 180.656 L114.541 154.291 L106.231 155.957 L106.231 151.698 L114.494 150.032 L119.17 150.032 L119.17 180.656 L126.809 180.656 L126.809 184.592 L106.902 184.592 L106.902 180.656 Z\" fill=\"#000000\" fill-rule=\"nonzero\" fill-opacity=\"1\" /><path clip-path=\"url(#clip610)\" d=\"M146.253 153.11 Q142.642 153.11 140.814 156.675 Q139.008 160.217 139.008 167.346 Q139.008 174.453 140.814 178.018 Q142.642 181.559 146.253 181.559 Q149.888 181.559 151.693 178.018 Q153.522 174.453 153.522 167.346 Q153.522 160.217 151.693 156.675 Q149.888 153.11 146.253 153.11 M146.253 149.407 Q152.064 149.407 155.119 154.013 Q158.198 158.596 158.198 167.346 Q158.198 176.073 155.119 180.68 Q152.064 185.263 146.253 185.263 Q140.443 185.263 137.365 180.68 Q134.309 176.073 134.309 167.346 Q134.309 158.596 137.365 154.013 Q140.443 149.407 146.253 149.407 Z\" fill=\"#000000\" fill-rule=\"nonzero\" fill-opacity=\"1\" /><path clip-path=\"url(#clip610)\" d=\"M167.903 131.603 Q164.969 131.603 163.483 134.499 Q162.016 137.377 162.016 143.169 Q162.016 148.943 163.483 151.84 Q164.969 154.717 167.903 154.717 Q170.855 154.717 172.322 151.84 Q173.808 148.943 173.808 143.169 Q173.808 137.377 172.322 134.499 Q170.855 131.603 167.903 131.603 M167.903 128.593 Q172.623 128.593 175.106 132.336 Q177.607 136.06 177.607 143.169 Q177.607 150.26 175.106 154.003 Q172.623 157.727 167.903 157.727 Q163.182 157.727 160.68 154.003 Q158.198 150.26 158.198 143.169 Q158.198 136.06 160.68 132.336 Q163.182 128.593 167.903 128.593 Z\" fill=\"#000000\" fill-rule=\"nonzero\" fill-opacity=\"1\" /><polyline clip-path=\"url(#clip612)\" style=\"stroke:#009af9; stroke-linecap:round; stroke-linejoin:round; stroke-width:4; stroke-opacity:1; fill:none\" points=\"274.149,87.9763 418.297,103.466 562.444,120.079 706.592,138.246 850.739,158.604 994.887,182.084 1139.03,209.973 1283.18,243.706 1427.33,284.557 1571.48,354.639 1715.62,511.757 1859.77,823.112 2003.92,1445.72 \"/>\n",
       "<path clip-path=\"url(#clip610)\" d=\"M284.912 198.898 L551.258 198.898 L551.258 95.2176 L284.912 95.2176  Z\" fill=\"#ffffff\" fill-rule=\"evenodd\" fill-opacity=\"1\"/>\n",
       "<polyline clip-path=\"url(#clip610)\" style=\"stroke:#000000; stroke-linecap:round; stroke-linejoin:round; stroke-width:4; stroke-opacity:1; fill:none\" points=\"284.912,198.898 551.258,198.898 551.258,95.2176 284.912,95.2176 284.912,198.898 \"/>\n",
       "<polyline clip-path=\"url(#clip610)\" style=\"stroke:#009af9; stroke-linecap:round; stroke-linejoin:round; stroke-width:4; stroke-opacity:1; fill:none\" points=\"308.681,147.058 451.291,147.058 \"/>\n",
       "<path clip-path=\"url(#clip610)\" d=\"M488.901 166.745 Q487.096 171.375 485.383 172.787 Q483.67 174.199 480.8 174.199 L477.397 174.199 L477.397 170.634 L479.897 170.634 Q481.656 170.634 482.628 169.8 Q483.601 168.967 484.781 165.865 L485.545 163.921 L475.059 138.412 L479.573 138.412 L487.675 158.689 L495.776 138.412 L500.29 138.412 L488.901 166.745 Z\" fill=\"#000000\" fill-rule=\"nonzero\" fill-opacity=\"1\" /><path clip-path=\"url(#clip610)\" d=\"M507.582 160.402 L515.221 160.402 L515.221 134.037 L506.911 135.703 L506.911 131.444 L515.174 129.778 L519.85 129.778 L519.85 160.402 L527.489 160.402 L527.489 164.338 L507.582 164.338 L507.582 160.402 Z\" fill=\"#000000\" fill-rule=\"nonzero\" fill-opacity=\"1\" /></svg>\n"
      ],
      "text/html": [
       "<?xml version=\"1.0\" encoding=\"utf-8\"?>\n",
       "<svg xmlns=\"http://www.w3.org/2000/svg\" xmlns:xlink=\"http://www.w3.org/1999/xlink\" width=\"600\" height=\"400\" viewBox=\"0 0 2400 1600\">\n",
       "<defs>\n",
       "  <clipPath id=\"clip660\">\n",
       "    <rect x=\"0\" y=\"0\" width=\"2400\" height=\"1600\"/>\n",
       "  </clipPath>\n",
       "</defs>\n",
       "<path clip-path=\"url(#clip660)\" d=\"M0 1600 L2400 1600 L2400 8.88178e-14 L0 8.88178e-14  Z\" fill=\"#ffffff\" fill-rule=\"evenodd\" fill-opacity=\"1\"/>\n",
       "<defs>\n",
       "  <clipPath id=\"clip661\">\n",
       "    <rect x=\"480\" y=\"0\" width=\"1681\" height=\"1600\"/>\n",
       "  </clipPath>\n",
       "</defs>\n",
       "<path clip-path=\"url(#clip660)\" d=\"M213.607 1486.45 L2352.76 1486.45 L2352.76 47.2441 L213.607 47.2441  Z\" fill=\"#ffffff\" fill-rule=\"evenodd\" fill-opacity=\"1\"/>\n",
       "<defs>\n",
       "  <clipPath id=\"clip662\">\n",
       "    <rect x=\"213\" y=\"47\" width=\"2140\" height=\"1440\"/>\n",
       "  </clipPath>\n",
       "</defs>\n",
       "<polyline clip-path=\"url(#clip662)\" style=\"stroke:#000000; stroke-linecap:round; stroke-linejoin:round; stroke-width:2; stroke-opacity:0.1; fill:none\" points=\"418.297,1486.45 418.297,47.2441 \"/>\n",
       "<polyline clip-path=\"url(#clip662)\" style=\"stroke:#000000; stroke-linecap:round; stroke-linejoin:round; stroke-width:2; stroke-opacity:0.1; fill:none\" points=\"706.592,1486.45 706.592,47.2441 \"/>\n",
       "<polyline clip-path=\"url(#clip662)\" style=\"stroke:#000000; stroke-linecap:round; stroke-linejoin:round; stroke-width:2; stroke-opacity:0.1; fill:none\" points=\"994.887,1486.45 994.887,47.2441 \"/>\n",
       "<polyline clip-path=\"url(#clip662)\" style=\"stroke:#000000; stroke-linecap:round; stroke-linejoin:round; stroke-width:2; stroke-opacity:0.1; fill:none\" points=\"1283.18,1486.45 1283.18,47.2441 \"/>\n",
       "<polyline clip-path=\"url(#clip662)\" style=\"stroke:#000000; stroke-linecap:round; stroke-linejoin:round; stroke-width:2; stroke-opacity:0.1; fill:none\" points=\"1571.48,1486.45 1571.48,47.2441 \"/>\n",
       "<polyline clip-path=\"url(#clip662)\" style=\"stroke:#000000; stroke-linecap:round; stroke-linejoin:round; stroke-width:2; stroke-opacity:0.1; fill:none\" points=\"1859.77,1486.45 1859.77,47.2441 \"/>\n",
       "<polyline clip-path=\"url(#clip662)\" style=\"stroke:#000000; stroke-linecap:round; stroke-linejoin:round; stroke-width:2; stroke-opacity:0.1; fill:none\" points=\"2148.07,1486.45 2148.07,47.2441 \"/>\n",
       "<polyline clip-path=\"url(#clip662)\" style=\"stroke:#000000; stroke-linecap:round; stroke-linejoin:round; stroke-width:2; stroke-opacity:0.1; fill:none\" points=\"213.607,1392.91 2352.76,1392.91 \"/>\n",
       "<polyline clip-path=\"url(#clip662)\" style=\"stroke:#000000; stroke-linecap:round; stroke-linejoin:round; stroke-width:2; stroke-opacity:0.1; fill:none\" points=\"213.607,776.889 2352.76,776.889 \"/>\n",
       "<polyline clip-path=\"url(#clip662)\" style=\"stroke:#000000; stroke-linecap:round; stroke-linejoin:round; stroke-width:2; stroke-opacity:0.1; fill:none\" points=\"213.607,160.864 2352.76,160.864 \"/>\n",
       "<polyline clip-path=\"url(#clip660)\" style=\"stroke:#000000; stroke-linecap:round; stroke-linejoin:round; stroke-width:4; stroke-opacity:1; fill:none\" points=\"213.607,1486.45 2352.76,1486.45 \"/>\n",
       "<polyline clip-path=\"url(#clip660)\" style=\"stroke:#000000; stroke-linecap:round; stroke-linejoin:round; stroke-width:4; stroke-opacity:1; fill:none\" points=\"418.297,1486.45 418.297,1467.55 \"/>\n",
       "<polyline clip-path=\"url(#clip660)\" style=\"stroke:#000000; stroke-linecap:round; stroke-linejoin:round; stroke-width:4; stroke-opacity:1; fill:none\" points=\"706.592,1486.45 706.592,1467.55 \"/>\n",
       "<polyline clip-path=\"url(#clip660)\" style=\"stroke:#000000; stroke-linecap:round; stroke-linejoin:round; stroke-width:4; stroke-opacity:1; fill:none\" points=\"994.887,1486.45 994.887,1467.55 \"/>\n",
       "<polyline clip-path=\"url(#clip660)\" style=\"stroke:#000000; stroke-linecap:round; stroke-linejoin:round; stroke-width:4; stroke-opacity:1; fill:none\" points=\"1283.18,1486.45 1283.18,1467.55 \"/>\n",
       "<polyline clip-path=\"url(#clip660)\" style=\"stroke:#000000; stroke-linecap:round; stroke-linejoin:round; stroke-width:4; stroke-opacity:1; fill:none\" points=\"1571.48,1486.45 1571.48,1467.55 \"/>\n",
       "<polyline clip-path=\"url(#clip660)\" style=\"stroke:#000000; stroke-linecap:round; stroke-linejoin:round; stroke-width:4; stroke-opacity:1; fill:none\" points=\"1859.77,1486.45 1859.77,1467.55 \"/>\n",
       "<polyline clip-path=\"url(#clip660)\" style=\"stroke:#000000; stroke-linecap:round; stroke-linejoin:round; stroke-width:4; stroke-opacity:1; fill:none\" points=\"2148.07,1486.45 2148.07,1467.55 \"/>\n",
       "<path clip-path=\"url(#clip660)\" d=\"M412.95 1544.91 L429.269 1544.91 L429.269 1548.85 L407.325 1548.85 L407.325 1544.91 Q409.987 1542.16 414.57 1537.53 Q419.177 1532.88 420.357 1531.53 Q422.602 1529.01 423.482 1527.27 Q424.385 1525.51 424.385 1523.82 Q424.385 1521.07 422.44 1519.33 Q420.519 1517.6 417.417 1517.6 Q415.218 1517.6 412.765 1518.36 Q410.334 1519.13 407.556 1520.68 L407.556 1515.95 Q410.38 1514.82 412.834 1514.24 Q415.288 1513.66 417.325 1513.66 Q422.695 1513.66 425.889 1516.35 Q429.084 1519.03 429.084 1523.52 Q429.084 1525.65 428.274 1527.57 Q427.487 1529.47 425.38 1532.07 Q424.801 1532.74 421.7 1535.95 Q418.598 1539.15 412.95 1544.91 Z\" fill=\"#000000\" fill-rule=\"nonzero\" fill-opacity=\"1\" /><path clip-path=\"url(#clip660)\" d=\"M709.601 1518.36 L697.796 1536.81 L709.601 1536.81 L709.601 1518.36 M708.374 1514.29 L714.254 1514.29 L714.254 1536.81 L719.184 1536.81 L719.184 1540.7 L714.254 1540.7 L714.254 1548.85 L709.601 1548.85 L709.601 1540.7 L693.999 1540.7 L693.999 1536.19 L708.374 1514.29 Z\" fill=\"#000000\" fill-rule=\"nonzero\" fill-opacity=\"1\" /><path clip-path=\"url(#clip660)\" d=\"M995.292 1529.7 Q992.144 1529.7 990.292 1531.86 Q988.463 1534.01 988.463 1537.76 Q988.463 1541.49 990.292 1543.66 Q992.144 1545.82 995.292 1545.82 Q998.44 1545.82 1000.27 1543.66 Q1002.12 1541.49 1002.12 1537.76 Q1002.12 1534.01 1000.27 1531.86 Q998.44 1529.7 995.292 1529.7 M1004.57 1515.05 L1004.57 1519.31 Q1002.81 1518.48 1001.01 1518.04 Q999.227 1517.6 997.468 1517.6 Q992.838 1517.6 990.384 1520.72 Q987.954 1523.85 987.607 1530.17 Q988.972 1528.15 991.033 1527.09 Q993.093 1526 995.57 1526 Q1000.78 1526 1003.79 1529.17 Q1006.82 1532.32 1006.82 1537.76 Q1006.82 1543.08 1003.67 1546.3 Q1000.52 1549.52 995.292 1549.52 Q989.297 1549.52 986.125 1544.94 Q982.954 1540.33 982.954 1531.6 Q982.954 1523.41 986.843 1518.55 Q990.732 1513.66 997.283 1513.66 Q999.042 1513.66 1000.82 1514.01 Q1002.63 1514.36 1004.57 1515.05 Z\" fill=\"#000000\" fill-rule=\"nonzero\" fill-opacity=\"1\" /><path clip-path=\"url(#clip660)\" d=\"M1283.18 1532.44 Q1279.85 1532.44 1277.93 1534.22 Q1276.03 1536 1276.03 1539.13 Q1276.03 1542.25 1277.93 1544.03 Q1279.85 1545.82 1283.18 1545.82 Q1286.52 1545.82 1288.44 1544.03 Q1290.36 1542.23 1290.36 1539.13 Q1290.36 1536 1288.44 1534.22 Q1286.54 1532.44 1283.18 1532.44 M1278.51 1530.45 Q1275.5 1529.7 1273.81 1527.64 Q1272.14 1525.58 1272.14 1522.62 Q1272.14 1518.48 1275.08 1516.07 Q1278.04 1513.66 1283.18 1513.66 Q1288.34 1513.66 1291.28 1516.07 Q1294.22 1518.48 1294.22 1522.62 Q1294.22 1525.58 1292.53 1527.64 Q1290.87 1529.7 1287.88 1530.45 Q1291.26 1531.23 1293.14 1533.52 Q1295.03 1535.82 1295.03 1539.13 Q1295.03 1544.15 1291.95 1546.83 Q1288.9 1549.52 1283.18 1549.52 Q1277.46 1549.52 1274.39 1546.83 Q1271.33 1544.15 1271.33 1539.13 Q1271.33 1535.82 1273.23 1533.52 Q1275.13 1531.23 1278.51 1530.45 M1276.79 1523.06 Q1276.79 1525.75 1278.46 1527.25 Q1280.15 1528.76 1283.18 1528.76 Q1286.19 1528.76 1287.88 1527.25 Q1289.59 1525.75 1289.59 1523.06 Q1289.59 1520.38 1287.88 1518.87 Q1286.19 1517.37 1283.18 1517.37 Q1280.15 1517.37 1278.46 1518.87 Q1276.79 1520.38 1276.79 1523.06 Z\" fill=\"#000000\" fill-rule=\"nonzero\" fill-opacity=\"1\" /><path clip-path=\"url(#clip660)\" d=\"M1546.16 1544.91 L1553.8 1544.91 L1553.8 1518.55 L1545.49 1520.21 L1545.49 1515.95 L1553.76 1514.29 L1558.43 1514.29 L1558.43 1544.91 L1566.07 1544.91 L1566.07 1548.85 L1546.16 1548.85 L1546.16 1544.91 Z\" fill=\"#000000\" fill-rule=\"nonzero\" fill-opacity=\"1\" /><path clip-path=\"url(#clip660)\" d=\"M1585.52 1517.37 Q1581.9 1517.37 1580.08 1520.93 Q1578.27 1524.47 1578.27 1531.6 Q1578.27 1538.71 1580.08 1542.27 Q1581.9 1545.82 1585.52 1545.82 Q1589.15 1545.82 1590.96 1542.27 Q1592.78 1538.71 1592.78 1531.6 Q1592.78 1524.47 1590.96 1520.93 Q1589.15 1517.37 1585.52 1517.37 M1585.52 1513.66 Q1591.33 1513.66 1594.38 1518.27 Q1597.46 1522.85 1597.46 1531.6 Q1597.46 1540.33 1594.38 1544.94 Q1591.33 1549.52 1585.52 1549.52 Q1579.71 1549.52 1576.63 1544.94 Q1573.57 1540.33 1573.57 1531.6 Q1573.57 1522.85 1576.63 1518.27 Q1579.71 1513.66 1585.52 1513.66 Z\" fill=\"#000000\" fill-rule=\"nonzero\" fill-opacity=\"1\" /><path clip-path=\"url(#clip660)\" d=\"M1835.26 1544.91 L1842.9 1544.91 L1842.9 1518.55 L1834.59 1520.21 L1834.59 1515.95 L1842.85 1514.29 L1847.53 1514.29 L1847.53 1544.91 L1855.17 1544.91 L1855.17 1548.85 L1835.26 1548.85 L1835.26 1544.91 Z\" fill=\"#000000\" fill-rule=\"nonzero\" fill-opacity=\"1\" /><path clip-path=\"url(#clip660)\" d=\"M1868.64 1544.91 L1884.96 1544.91 L1884.96 1548.85 L1863.01 1548.85 L1863.01 1544.91 Q1865.67 1542.16 1870.26 1537.53 Q1874.86 1532.88 1876.04 1531.53 Q1878.29 1529.01 1879.17 1527.27 Q1880.07 1525.51 1880.07 1523.82 Q1880.07 1521.07 1878.13 1519.33 Q1876.21 1517.6 1873.1 1517.6 Q1870.91 1517.6 1868.45 1518.36 Q1866.02 1519.13 1863.24 1520.68 L1863.24 1515.95 Q1866.07 1514.82 1868.52 1514.24 Q1870.98 1513.66 1873.01 1513.66 Q1878.38 1513.66 1881.58 1516.35 Q1884.77 1519.03 1884.77 1523.52 Q1884.77 1525.65 1883.96 1527.57 Q1883.17 1529.47 1881.07 1532.07 Q1880.49 1532.74 1877.39 1535.95 Q1874.29 1539.15 1868.64 1544.91 Z\" fill=\"#000000\" fill-rule=\"nonzero\" fill-opacity=\"1\" /><path clip-path=\"url(#clip660)\" d=\"M2122.51 1544.91 L2130.15 1544.91 L2130.15 1518.55 L2121.84 1520.21 L2121.84 1515.95 L2130.1 1514.29 L2134.78 1514.29 L2134.78 1544.91 L2142.42 1544.91 L2142.42 1548.85 L2122.51 1548.85 L2122.51 1544.91 Z\" fill=\"#000000\" fill-rule=\"nonzero\" fill-opacity=\"1\" /><path clip-path=\"url(#clip660)\" d=\"M2164.71 1518.36 L2152.9 1536.81 L2164.71 1536.81 L2164.71 1518.36 M2163.48 1514.29 L2169.36 1514.29 L2169.36 1536.81 L2174.29 1536.81 L2174.29 1540.7 L2169.36 1540.7 L2169.36 1548.85 L2164.71 1548.85 L2164.71 1540.7 L2149.11 1540.7 L2149.11 1536.19 L2163.48 1514.29 Z\" fill=\"#000000\" fill-rule=\"nonzero\" fill-opacity=\"1\" /><polyline clip-path=\"url(#clip660)\" style=\"stroke:#000000; stroke-linecap:round; stroke-linejoin:round; stroke-width:4; stroke-opacity:1; fill:none\" points=\"213.607,1486.45 213.607,47.2441 \"/>\n",
       "<polyline clip-path=\"url(#clip660)\" style=\"stroke:#000000; stroke-linecap:round; stroke-linejoin:round; stroke-width:4; stroke-opacity:1; fill:none\" points=\"213.607,1392.91 232.505,1392.91 \"/>\n",
       "<polyline clip-path=\"url(#clip660)\" style=\"stroke:#000000; stroke-linecap:round; stroke-linejoin:round; stroke-width:4; stroke-opacity:1; fill:none\" points=\"213.607,776.889 232.505,776.889 \"/>\n",
       "<polyline clip-path=\"url(#clip660)\" style=\"stroke:#000000; stroke-linecap:round; stroke-linejoin:round; stroke-width:4; stroke-opacity:1; fill:none\" points=\"213.607,160.864 232.505,160.864 \"/>\n",
       "<path clip-path=\"url(#clip660)\" d=\"M51.6634 1412.71 L59.3023 1412.71 L59.3023 1386.34 L50.9921 1388.01 L50.9921 1383.75 L59.256 1382.08 L63.9319 1382.08 L63.9319 1412.71 L71.5707 1412.71 L71.5707 1416.64 L51.6634 1416.64 L51.6634 1412.71 Z\" fill=\"#000000\" fill-rule=\"nonzero\" fill-opacity=\"1\" /><path clip-path=\"url(#clip660)\" d=\"M91.0151 1385.16 Q87.404 1385.16 85.5753 1388.72 Q83.7697 1392.27 83.7697 1399.4 Q83.7697 1406.5 85.5753 1410.07 Q87.404 1413.61 91.0151 1413.61 Q94.6493 1413.61 96.4548 1410.07 Q98.2835 1406.5 98.2835 1399.4 Q98.2835 1392.27 96.4548 1388.72 Q94.6493 1385.16 91.0151 1385.16 M91.0151 1381.46 Q96.8252 1381.46 99.8808 1386.06 Q102.959 1390.65 102.959 1399.4 Q102.959 1408.12 99.8808 1412.73 Q96.8252 1417.31 91.0151 1417.31 Q85.2049 1417.31 82.1262 1412.73 Q79.0707 1408.12 79.0707 1399.4 Q79.0707 1390.65 82.1262 1386.06 Q85.2049 1381.46 91.0151 1381.46 Z\" fill=\"#000000\" fill-rule=\"nonzero\" fill-opacity=\"1\" /><path clip-path=\"url(#clip660)\" d=\"M102.959 1375.56 L127.071 1375.56 L127.071 1378.76 L102.959 1378.76 L102.959 1375.56 Z\" fill=\"#000000\" fill-rule=\"nonzero\" fill-opacity=\"1\" /><path clip-path=\"url(#clip660)\" d=\"M135.929 1386.03 L142.136 1386.03 L142.136 1364.61 L135.384 1365.97 L135.384 1362.51 L142.098 1361.15 L145.898 1361.15 L145.898 1386.03 L152.104 1386.03 L152.104 1389.23 L135.929 1389.23 L135.929 1386.03 Z\" fill=\"#000000\" fill-rule=\"nonzero\" fill-opacity=\"1\" /><path clip-path=\"url(#clip660)\" d=\"M167.903 1363.65 Q164.969 1363.65 163.483 1366.55 Q162.016 1369.43 162.016 1375.22 Q162.016 1380.99 163.483 1383.89 Q164.969 1386.77 167.903 1386.77 Q170.855 1386.77 172.322 1383.89 Q173.808 1380.99 173.808 1375.22 Q173.808 1369.43 172.322 1366.55 Q170.855 1363.65 167.903 1363.65 M167.903 1360.64 Q172.623 1360.64 175.106 1364.39 Q177.607 1368.11 177.607 1375.22 Q177.607 1382.31 175.106 1386.05 Q172.623 1389.78 167.903 1389.78 Q163.182 1389.78 160.68 1386.05 Q158.198 1382.31 158.198 1375.22 Q158.198 1368.11 160.68 1364.39 Q163.182 1360.64 167.903 1360.64 Z\" fill=\"#000000\" fill-rule=\"nonzero\" fill-opacity=\"1\" /><path clip-path=\"url(#clip660)\" d=\"M76.9787 796.681 L84.6175 796.681 L84.6175 770.316 L76.3074 771.982 L76.3074 767.723 L84.5712 766.056 L89.2471 766.056 L89.2471 796.681 L96.886 796.681 L96.886 800.616 L76.9787 800.616 L76.9787 796.681 Z\" fill=\"#000000\" fill-rule=\"nonzero\" fill-opacity=\"1\" /><path clip-path=\"url(#clip660)\" d=\"M116.33 769.135 Q112.719 769.135 110.891 772.7 Q109.085 776.242 109.085 783.371 Q109.085 790.478 110.891 794.042 Q112.719 797.584 116.33 797.584 Q119.965 797.584 121.77 794.042 Q123.599 790.478 123.599 783.371 Q123.599 776.242 121.77 772.7 Q119.965 769.135 116.33 769.135 M116.33 765.431 Q122.14 765.431 125.196 770.038 Q128.275 774.621 128.275 783.371 Q128.275 792.098 125.196 796.704 Q122.14 801.288 116.33 801.288 Q110.52 801.288 107.441 796.704 Q104.386 792.098 104.386 783.371 Q104.386 774.621 107.441 770.038 Q110.52 765.431 116.33 765.431 Z\" fill=\"#000000\" fill-rule=\"nonzero\" fill-opacity=\"1\" /><path clip-path=\"url(#clip660)\" d=\"M128.275 759.533 L152.386 759.533 L152.386 762.73 L128.275 762.73 L128.275 759.533 Z\" fill=\"#000000\" fill-rule=\"nonzero\" fill-opacity=\"1\" /><path clip-path=\"url(#clip660)\" d=\"M160.624 745.126 L175.539 745.126 L175.539 748.323 L164.103 748.323 L164.103 755.207 Q164.931 754.925 165.759 754.793 Q166.586 754.643 167.414 754.643 Q172.116 754.643 174.862 757.219 Q177.607 759.796 177.607 764.197 Q177.607 768.73 174.786 771.25 Q171.965 773.752 166.831 773.752 Q165.063 773.752 163.22 773.451 Q161.395 773.15 159.439 772.548 L159.439 768.73 Q161.132 769.651 162.937 770.103 Q164.743 770.554 166.755 770.554 Q170.009 770.554 171.909 768.843 Q173.808 767.131 173.808 764.197 Q173.808 761.263 171.909 759.552 Q170.009 757.84 166.755 757.84 Q165.232 757.84 163.709 758.179 Q162.204 758.517 160.624 759.232 L160.624 745.126 Z\" fill=\"#000000\" fill-rule=\"nonzero\" fill-opacity=\"1\" /><path clip-path=\"url(#clip660)\" d=\"M106.902 180.656 L114.541 180.656 L114.541 154.291 L106.231 155.957 L106.231 151.698 L114.494 150.032 L119.17 150.032 L119.17 180.656 L126.809 180.656 L126.809 184.592 L106.902 184.592 L106.902 180.656 Z\" fill=\"#000000\" fill-rule=\"nonzero\" fill-opacity=\"1\" /><path clip-path=\"url(#clip660)\" d=\"M146.253 153.11 Q142.642 153.11 140.814 156.675 Q139.008 160.217 139.008 167.346 Q139.008 174.453 140.814 178.018 Q142.642 181.559 146.253 181.559 Q149.888 181.559 151.693 178.018 Q153.522 174.453 153.522 167.346 Q153.522 160.217 151.693 156.675 Q149.888 153.11 146.253 153.11 M146.253 149.407 Q152.064 149.407 155.119 154.013 Q158.198 158.596 158.198 167.346 Q158.198 176.073 155.119 180.68 Q152.064 185.263 146.253 185.263 Q140.443 185.263 137.365 180.68 Q134.309 176.073 134.309 167.346 Q134.309 158.596 137.365 154.013 Q140.443 149.407 146.253 149.407 Z\" fill=\"#000000\" fill-rule=\"nonzero\" fill-opacity=\"1\" /><path clip-path=\"url(#clip660)\" d=\"M167.903 131.603 Q164.969 131.603 163.483 134.499 Q162.016 137.377 162.016 143.169 Q162.016 148.943 163.483 151.84 Q164.969 154.717 167.903 154.717 Q170.855 154.717 172.322 151.84 Q173.808 148.943 173.808 143.169 Q173.808 137.377 172.322 134.499 Q170.855 131.603 167.903 131.603 M167.903 128.593 Q172.623 128.593 175.106 132.336 Q177.607 136.06 177.607 143.169 Q177.607 150.26 175.106 154.003 Q172.623 157.727 167.903 157.727 Q163.182 157.727 160.68 154.003 Q158.198 150.26 158.198 143.169 Q158.198 136.06 160.68 132.336 Q163.182 128.593 167.903 128.593 Z\" fill=\"#000000\" fill-rule=\"nonzero\" fill-opacity=\"1\" /><polyline clip-path=\"url(#clip662)\" style=\"stroke:#009af9; stroke-linecap:round; stroke-linejoin:round; stroke-width:4; stroke-opacity:1; fill:none\" points=\"274.149,87.9763 418.297,103.466 562.444,120.079 706.592,138.246 850.739,158.604 994.887,182.084 1139.03,209.973 1283.18,243.706 1427.33,284.557 1571.48,354.639 1715.62,511.757 1859.77,823.112 2003.92,1445.72 \"/>\n",
       "<path clip-path=\"url(#clip660)\" d=\"M284.912 198.898 L551.258 198.898 L551.258 95.2176 L284.912 95.2176  Z\" fill=\"#ffffff\" fill-rule=\"evenodd\" fill-opacity=\"1\"/>\n",
       "<polyline clip-path=\"url(#clip660)\" style=\"stroke:#000000; stroke-linecap:round; stroke-linejoin:round; stroke-width:4; stroke-opacity:1; fill:none\" points=\"284.912,198.898 551.258,198.898 551.258,95.2176 284.912,95.2176 284.912,198.898 \"/>\n",
       "<polyline clip-path=\"url(#clip660)\" style=\"stroke:#009af9; stroke-linecap:round; stroke-linejoin:round; stroke-width:4; stroke-opacity:1; fill:none\" points=\"308.681,147.058 451.291,147.058 \"/>\n",
       "<path clip-path=\"url(#clip660)\" d=\"M488.901 166.745 Q487.096 171.375 485.383 172.787 Q483.67 174.199 480.8 174.199 L477.397 174.199 L477.397 170.634 L479.897 170.634 Q481.656 170.634 482.628 169.8 Q483.601 168.967 484.781 165.865 L485.545 163.921 L475.059 138.412 L479.573 138.412 L487.675 158.689 L495.776 138.412 L500.29 138.412 L488.901 166.745 Z\" fill=\"#000000\" fill-rule=\"nonzero\" fill-opacity=\"1\" /><path clip-path=\"url(#clip660)\" d=\"M507.582 160.402 L515.221 160.402 L515.221 134.037 L506.911 135.703 L506.911 131.444 L515.174 129.778 L519.85 129.778 L519.85 160.402 L527.489 160.402 L527.489 164.338 L507.582 164.338 L507.582 160.402 Z\" fill=\"#000000\" fill-rule=\"nonzero\" fill-opacity=\"1\" /></svg>\n"
      ]
     },
     "metadata": {},
     "output_type": "display_data"
    }
   ],
   "source": [
    "# TODO: By making the initial guess complex find a complex root.\n",
    "k = 1:15\n",
    "x_0 = 0.1im\n",
    "f2 = x -> x^5 - x^2 + 1\n",
    "\n",
    "errs = [nanabs(newton(f2, x_0, n) - newton(f2, x_0, 15)) for n = k]\n",
    "plot(k, errs; yscale=:log10)"
   ]
  },
  {
   "cell_type": "code",
   "execution_count": 91,
   "metadata": {},
   "outputs": [
    {
     "data": {
      "text/plain": [
       "2.230842177652903e-10 + 1.4571654993744687e-10im"
      ]
     },
     "metadata": {},
     "output_type": "display_data"
    }
   ],
   "source": [
    "r = newton(f2, 0.1im, 13)\n",
    "f2(r)"
   ]
  },
  {
   "cell_type": "markdown",
   "metadata": {},
   "source": [
    "**Problem 5(c)** By changing the initial guesses compute 5 roots to\n",
    "$\\sin x - 1/x$. Hint: you may need to add an overload for `/(x::Real, y::Dual)`."
   ]
  },
  {
   "cell_type": "code",
   "execution_count": 93,
   "metadata": {},
   "outputs": [
    {
     "data": {
      "image/png": "[encoded data removed]",
      "image/svg+xml": [
       "<?xml version=\"1.0\" encoding=\"utf-8\"?>\n",
       "<svg xmlns=\"http://www.w3.org/2000/svg\" xmlns:xlink=\"http://www.w3.org/1999/xlink\" width=\"600\" height=\"400\" viewBox=\"0 0 2400 1600\">\n",
       "<defs>\n",
       "  <clipPath id=\"clip790\">\n",
       "    <rect x=\"0\" y=\"0\" width=\"2400\" height=\"1600\"/>\n",
       "  </clipPath>\n",
       "</defs>\n",
       "<path clip-path=\"url(#clip790)\" d=\"M0 1600 L2400 1600 L2400 8.88178e-14 L0 8.88178e-14  Z\" fill=\"#ffffff\" fill-rule=\"evenodd\" fill-opacity=\"1\"/>\n",
       "<defs>\n",
       "  <clipPath id=\"clip791\">\n",
       "    <rect x=\"480\" y=\"0\" width=\"1681\" height=\"1600\"/>\n",
       "  </clipPath>\n",
       "</defs>\n",
       "<path clip-path=\"url(#clip790)\" d=\"M213.607 1486.45 L2352.76 1486.45 L2352.76 47.2441 L213.607 47.2441  Z\" fill=\"#ffffff\" fill-rule=\"evenodd\" fill-opacity=\"1\"/>\n",
       "<defs>\n",
       "  <clipPath id=\"clip792\">\n",
       "    <rect x=\"213\" y=\"47\" width=\"2140\" height=\"1440\"/>\n",
       "  </clipPath>\n",
       "</defs>\n",
       "<polyline clip-path=\"url(#clip792)\" style=\"stroke:#000000; stroke-linecap:round; stroke-linejoin:round; stroke-width:2; stroke-opacity:0.1; fill:none\" points=\"274.149,1486.45 274.149,47.2441 \"/>\n",
       "<polyline clip-path=\"url(#clip792)\" style=\"stroke:#000000; stroke-linecap:round; stroke-linejoin:round; stroke-width:2; stroke-opacity:0.1; fill:none\" points=\"778.666,1486.45 778.666,47.2441 \"/>\n",
       "<polyline clip-path=\"url(#clip792)\" style=\"stroke:#000000; stroke-linecap:round; stroke-linejoin:round; stroke-width:2; stroke-opacity:0.1; fill:none\" points=\"1283.18,1486.45 1283.18,47.2441 \"/>\n",
       "<polyline clip-path=\"url(#clip792)\" style=\"stroke:#000000; stroke-linecap:round; stroke-linejoin:round; stroke-width:2; stroke-opacity:0.1; fill:none\" points=\"1787.7,1486.45 1787.7,47.2441 \"/>\n",
       "<polyline clip-path=\"url(#clip792)\" style=\"stroke:#000000; stroke-linecap:round; stroke-linejoin:round; stroke-width:2; stroke-opacity:0.1; fill:none\" points=\"2292.21,1486.45 2292.21,47.2441 \"/>\n",
       "<polyline clip-path=\"url(#clip792)\" style=\"stroke:#000000; stroke-linecap:round; stroke-linejoin:round; stroke-width:2; stroke-opacity:0.1; fill:none\" points=\"213.607,1380.96 2352.76,1380.96 \"/>\n",
       "<polyline clip-path=\"url(#clip792)\" style=\"stroke:#000000; stroke-linecap:round; stroke-linejoin:round; stroke-width:2; stroke-opacity:0.1; fill:none\" points=\"213.607,885.59 2352.76,885.59 \"/>\n",
       "<polyline clip-path=\"url(#clip792)\" style=\"stroke:#000000; stroke-linecap:round; stroke-linejoin:round; stroke-width:2; stroke-opacity:0.1; fill:none\" points=\"213.607,390.217 2352.76,390.217 \"/>\n",
       "<polyline clip-path=\"url(#clip790)\" style=\"stroke:#000000; stroke-linecap:round; stroke-linejoin:round; stroke-width:4; stroke-opacity:1; fill:none\" points=\"213.607,1486.45 2352.76,1486.45 \"/>\n",
       "<polyline clip-path=\"url(#clip790)\" style=\"stroke:#000000; stroke-linecap:round; stroke-linejoin:round; stroke-width:4; stroke-opacity:1; fill:none\" points=\"274.149,1486.45 274.149,1467.55 \"/>\n",
       "<polyline clip-path=\"url(#clip790)\" style=\"stroke:#000000; stroke-linecap:round; stroke-linejoin:round; stroke-width:4; stroke-opacity:1; fill:none\" points=\"778.666,1486.45 778.666,1467.55 \"/>\n",
       "<polyline clip-path=\"url(#clip790)\" style=\"stroke:#000000; stroke-linecap:round; stroke-linejoin:round; stroke-width:4; stroke-opacity:1; fill:none\" points=\"1283.18,1486.45 1283.18,1467.55 \"/>\n",
       "<polyline clip-path=\"url(#clip790)\" style=\"stroke:#000000; stroke-linecap:round; stroke-linejoin:round; stroke-width:4; stroke-opacity:1; fill:none\" points=\"1787.7,1486.45 1787.7,1467.55 \"/>\n",
       "<polyline clip-path=\"url(#clip790)\" style=\"stroke:#000000; stroke-linecap:round; stroke-linejoin:round; stroke-width:4; stroke-opacity:1; fill:none\" points=\"2292.21,1486.45 2292.21,1467.55 \"/>\n",
       "<path clip-path=\"url(#clip790)\" d=\"M264.531 1544.91 L272.17 1544.91 L272.17 1518.55 L263.86 1520.21 L263.86 1515.95 L272.124 1514.29 L276.8 1514.29 L276.8 1544.91 L284.439 1544.91 L284.439 1548.85 L264.531 1548.85 L264.531 1544.91 Z\" fill=\"#000000\" fill-rule=\"nonzero\" fill-opacity=\"1\" /><path clip-path=\"url(#clip790)\" d=\"M773.318 1544.91 L789.638 1544.91 L789.638 1548.85 L767.693 1548.85 L767.693 1544.91 Q770.355 1542.16 774.939 1537.53 Q779.545 1532.88 780.726 1531.53 Q782.971 1529.01 783.851 1527.27 Q784.753 1525.51 784.753 1523.82 Q784.753 1521.07 782.809 1519.33 Q780.888 1517.6 777.786 1517.6 Q775.587 1517.6 773.133 1518.36 Q770.703 1519.13 767.925 1520.68 L767.925 1515.95 Q770.749 1514.82 773.203 1514.24 Q775.656 1513.66 777.693 1513.66 Q783.064 1513.66 786.258 1516.35 Q789.453 1519.03 789.453 1523.52 Q789.453 1525.65 788.642 1527.57 Q787.855 1529.47 785.749 1532.07 Q785.17 1532.74 782.068 1535.95 Q778.966 1539.15 773.318 1544.91 Z\" fill=\"#000000\" fill-rule=\"nonzero\" fill-opacity=\"1\" /><path clip-path=\"url(#clip790)\" d=\"M1287.43 1530.21 Q1290.79 1530.93 1292.66 1533.2 Q1294.56 1535.47 1294.56 1538.8 Q1294.56 1543.92 1291.04 1546.72 Q1287.52 1549.52 1281.04 1549.52 Q1278.86 1549.52 1276.55 1549.08 Q1274.26 1548.66 1271.8 1547.81 L1271.8 1543.29 Q1273.75 1544.43 1276.06 1545.01 Q1278.38 1545.58 1280.9 1545.58 Q1285.3 1545.58 1287.59 1543.85 Q1289.91 1542.11 1289.91 1538.8 Q1289.91 1535.75 1287.75 1534.03 Q1285.62 1532.3 1281.8 1532.3 L1277.78 1532.3 L1277.78 1528.45 L1281.99 1528.45 Q1285.44 1528.45 1287.27 1527.09 Q1289.1 1525.7 1289.1 1523.11 Q1289.1 1520.45 1287.2 1519.03 Q1285.32 1517.6 1281.8 1517.6 Q1279.88 1517.6 1277.68 1518.01 Q1275.48 1518.43 1272.85 1519.31 L1272.85 1515.14 Q1275.51 1514.4 1277.82 1514.03 Q1280.16 1513.66 1282.22 1513.66 Q1287.55 1513.66 1290.65 1516.09 Q1293.75 1518.5 1293.75 1522.62 Q1293.75 1525.49 1292.11 1527.48 Q1290.46 1529.45 1287.43 1530.21 Z\" fill=\"#000000\" fill-rule=\"nonzero\" fill-opacity=\"1\" /><path clip-path=\"url(#clip790)\" d=\"M1790.71 1518.36 L1778.9 1536.81 L1790.71 1536.81 L1790.71 1518.36 M1789.48 1514.29 L1795.36 1514.29 L1795.36 1536.81 L1800.29 1536.81 L1800.29 1540.7 L1795.36 1540.7 L1795.36 1548.85 L1790.71 1548.85 L1790.71 1540.7 L1775.11 1540.7 L1775.11 1536.19 L1789.48 1514.29 Z\" fill=\"#000000\" fill-rule=\"nonzero\" fill-opacity=\"1\" /><path clip-path=\"url(#clip790)\" d=\"M2282.49 1514.29 L2300.85 1514.29 L2300.85 1518.22 L2286.77 1518.22 L2286.77 1526.7 Q2287.79 1526.35 2288.81 1526.19 Q2289.83 1526 2290.85 1526 Q2296.64 1526 2300.01 1529.17 Q2303.39 1532.34 2303.39 1537.76 Q2303.39 1543.34 2299.92 1546.44 Q2296.45 1549.52 2290.13 1549.52 Q2287.95 1549.52 2285.69 1549.15 Q2283.44 1548.78 2281.03 1548.04 L2281.03 1543.34 Q2283.12 1544.47 2285.34 1545.03 Q2287.56 1545.58 2290.04 1545.58 Q2294.04 1545.58 2296.38 1543.48 Q2298.72 1541.37 2298.72 1537.76 Q2298.72 1534.15 2296.38 1532.04 Q2294.04 1529.94 2290.04 1529.94 Q2288.16 1529.94 2286.29 1530.35 Q2284.44 1530.77 2282.49 1531.65 L2282.49 1514.29 Z\" fill=\"#000000\" fill-rule=\"nonzero\" fill-opacity=\"1\" /><polyline clip-path=\"url(#clip790)\" style=\"stroke:#000000; stroke-linecap:round; stroke-linejoin:round; stroke-width:4; stroke-opacity:1; fill:none\" points=\"213.607,1486.45 213.607,47.2441 \"/>\n",
       "<polyline clip-path=\"url(#clip790)\" style=\"stroke:#000000; stroke-linecap:round; stroke-linejoin:round; stroke-width:4; stroke-opacity:1; fill:none\" points=\"213.607,1380.96 232.505,1380.96 \"/>\n",
       "<polyline clip-path=\"url(#clip790)\" style=\"stroke:#000000; stroke-linecap:round; stroke-linejoin:round; stroke-width:4; stroke-opacity:1; fill:none\" points=\"213.607,885.59 232.505,885.59 \"/>\n",
       "<polyline clip-path=\"url(#clip790)\" style=\"stroke:#000000; stroke-linecap:round; stroke-linejoin:round; stroke-width:4; stroke-opacity:1; fill:none\" points=\"213.607,390.217 232.505,390.217 \"/>\n",
       "<path clip-path=\"url(#clip790)\" d=\"M52.4722 1400.76 L60.111 1400.76 L60.111 1374.39 L51.8009 1376.06 L51.8009 1371.8 L60.0647 1370.13 L64.7406 1370.13 L64.7406 1400.76 L72.3795 1400.76 L72.3795 1404.69 L52.4722 1404.69 L52.4722 1400.76 Z\" fill=\"#000000\" fill-rule=\"nonzero\" fill-opacity=\"1\" /><path clip-path=\"url(#clip790)\" d=\"M91.8238 1373.21 Q88.2127 1373.21 86.384 1376.78 Q84.5785 1380.32 84.5785 1387.45 Q84.5785 1394.55 86.384 1398.12 Q88.2127 1401.66 91.8238 1401.66 Q95.458 1401.66 97.2636 1398.12 Q99.0923 1394.55 99.0923 1387.45 Q99.0923 1380.32 97.2636 1376.78 Q95.458 1373.21 91.8238 1373.21 M91.8238 1369.51 Q97.6339 1369.51 100.689 1374.11 Q103.768 1378.7 103.768 1387.45 Q103.768 1396.17 100.689 1400.78 Q97.6339 1405.36 91.8238 1405.36 Q86.0136 1405.36 82.935 1400.78 Q79.8794 1396.17 79.8794 1387.45 Q79.8794 1378.7 82.935 1374.11 Q86.0136 1369.51 91.8238 1369.51 Z\" fill=\"#000000\" fill-rule=\"nonzero\" fill-opacity=\"1\" /><path clip-path=\"url(#clip790)\" d=\"M103.768 1363.61 L127.88 1363.61 L127.88 1366.81 L103.768 1366.81 L103.768 1363.61 Z\" fill=\"#000000\" fill-rule=\"nonzero\" fill-opacity=\"1\" /><path clip-path=\"url(#clip790)\" d=\"M136.738 1374.08 L142.945 1374.08 L142.945 1352.66 L136.193 1354.02 L136.193 1350.56 L142.907 1349.2 L146.706 1349.2 L146.706 1374.08 L152.913 1374.08 L152.913 1377.28 L136.738 1377.28 L136.738 1374.08 Z\" fill=\"#000000\" fill-rule=\"nonzero\" fill-opacity=\"1\" /><path clip-path=\"url(#clip790)\" d=\"M160.624 1349.2 L175.539 1349.2 L175.539 1352.4 L164.103 1352.4 L164.103 1359.28 Q164.931 1359 165.759 1358.87 Q166.586 1358.72 167.414 1358.72 Q172.116 1358.72 174.862 1361.29 Q177.607 1363.87 177.607 1368.27 Q177.607 1372.81 174.786 1375.33 Q171.965 1377.83 166.831 1377.83 Q165.063 1377.83 163.22 1377.53 Q161.395 1377.23 159.439 1376.62 L159.439 1372.81 Q161.132 1373.73 162.937 1374.18 Q164.743 1374.63 166.755 1374.63 Q170.009 1374.63 171.909 1372.92 Q173.808 1371.21 173.808 1368.27 Q173.808 1365.34 171.909 1363.63 Q170.009 1361.92 166.755 1361.92 Q165.232 1361.92 163.709 1362.25 Q162.204 1362.59 160.624 1363.31 L160.624 1349.2 Z\" fill=\"#000000\" fill-rule=\"nonzero\" fill-opacity=\"1\" /><path clip-path=\"url(#clip790)\" d=\"M51.6634 905.383 L59.3023 905.383 L59.3023 879.017 L50.9921 880.684 L50.9921 876.425 L59.256 874.758 L63.9319 874.758 L63.9319 905.383 L71.5707 905.383 L71.5707 909.318 L51.6634 909.318 L51.6634 905.383 Z\" fill=\"#000000\" fill-rule=\"nonzero\" fill-opacity=\"1\" /><path clip-path=\"url(#clip790)\" d=\"M91.0151 877.837 Q87.404 877.837 85.5753 881.402 Q83.7697 884.943 83.7697 892.073 Q83.7697 899.179 85.5753 902.744 Q87.404 906.286 91.0151 906.286 Q94.6493 906.286 96.4548 902.744 Q98.2835 899.179 98.2835 892.073 Q98.2835 884.943 96.4548 881.402 Q94.6493 877.837 91.0151 877.837 M91.0151 874.133 Q96.8252 874.133 99.8808 878.74 Q102.959 883.323 102.959 892.073 Q102.959 900.8 99.8808 905.406 Q96.8252 909.989 91.0151 909.989 Q85.2049 909.989 82.1262 905.406 Q79.0707 900.8 79.0707 892.073 Q79.0707 883.323 82.1262 878.74 Q85.2049 874.133 91.0151 874.133 Z\" fill=\"#000000\" fill-rule=\"nonzero\" fill-opacity=\"1\" /><path clip-path=\"url(#clip790)\" d=\"M102.959 868.234 L127.071 868.234 L127.071 871.432 L102.959 871.432 L102.959 868.234 Z\" fill=\"#000000\" fill-rule=\"nonzero\" fill-opacity=\"1\" /><path clip-path=\"url(#clip790)\" d=\"M135.929 878.71 L142.136 878.71 L142.136 857.288 L135.384 858.642 L135.384 855.182 L142.098 853.828 L145.898 853.828 L145.898 878.71 L152.104 878.71 L152.104 881.908 L135.929 881.908 L135.929 878.71 Z\" fill=\"#000000\" fill-rule=\"nonzero\" fill-opacity=\"1\" /><path clip-path=\"url(#clip790)\" d=\"M167.903 856.329 Q164.969 856.329 163.483 859.226 Q162.016 862.103 162.016 867.896 Q162.016 873.67 163.483 876.566 Q164.969 879.444 167.903 879.444 Q170.855 879.444 172.322 876.566 Q173.808 873.67 173.808 867.896 Q173.808 862.103 172.322 859.226 Q170.855 856.329 167.903 856.329 M167.903 853.32 Q172.623 853.32 175.106 857.063 Q177.607 860.787 177.607 867.896 Q177.607 874.986 175.106 878.729 Q172.623 882.453 167.903 882.453 Q163.182 882.453 160.68 878.729 Q158.198 874.986 158.198 867.896 Q158.198 860.787 160.68 857.063 Q163.182 853.32 167.903 853.32 Z\" fill=\"#000000\" fill-rule=\"nonzero\" fill-opacity=\"1\" /><path clip-path=\"url(#clip790)\" d=\"M76.9787 410.009 L84.6175 410.009 L84.6175 383.643 L76.3074 385.31 L76.3074 381.051 L84.5712 379.384 L89.2471 379.384 L89.2471 410.009 L96.886 410.009 L96.886 413.944 L76.9787 413.944 L76.9787 410.009 Z\" fill=\"#000000\" fill-rule=\"nonzero\" fill-opacity=\"1\" /><path clip-path=\"url(#clip790)\" d=\"M116.33 382.463 Q112.719 382.463 110.891 386.028 Q109.085 389.569 109.085 396.699 Q109.085 403.805 110.891 407.37 Q112.719 410.912 116.33 410.912 Q119.965 410.912 121.77 407.37 Q123.599 403.805 123.599 396.699 Q123.599 389.569 121.77 386.028 Q119.965 382.463 116.33 382.463 M116.33 378.759 Q122.14 378.759 125.196 383.366 Q128.275 387.949 128.275 396.699 Q128.275 405.426 125.196 410.032 Q122.14 414.615 116.33 414.615 Q110.52 414.615 107.441 410.032 Q104.386 405.426 104.386 396.699 Q104.386 387.949 107.441 383.366 Q110.52 378.759 116.33 378.759 Z\" fill=\"#000000\" fill-rule=\"nonzero\" fill-opacity=\"1\" /><path clip-path=\"url(#clip790)\" d=\"M128.275 372.861 L152.386 372.861 L152.386 376.058 L128.275 376.058 L128.275 372.861 Z\" fill=\"#000000\" fill-rule=\"nonzero\" fill-opacity=\"1\" /><path clip-path=\"url(#clip790)\" d=\"M160.624 358.454 L175.539 358.454 L175.539 361.651 L164.103 361.651 L164.103 368.535 Q164.931 368.253 165.759 368.121 Q166.586 367.971 167.414 367.971 Q172.116 367.971 174.862 370.547 Q177.607 373.124 177.607 377.525 Q177.607 382.058 174.786 384.578 Q171.965 387.079 166.831 387.079 Q165.063 387.079 163.22 386.778 Q161.395 386.477 159.439 385.876 L159.439 382.058 Q161.132 382.979 162.937 383.431 Q164.743 383.882 166.755 383.882 Q170.009 383.882 171.909 382.17 Q173.808 380.459 173.808 377.525 Q173.808 374.591 171.909 372.879 Q170.009 371.168 166.755 371.168 Q165.232 371.168 163.709 371.506 Q162.204 371.845 160.624 372.56 L160.624 358.454 Z\" fill=\"#000000\" fill-rule=\"nonzero\" fill-opacity=\"1\" /><polyline clip-path=\"url(#clip792)\" style=\"stroke:#009af9; stroke-linecap:round; stroke-linejoin:round; stroke-width:4; stroke-opacity:1; fill:none\" points=\"274.149,87.9763 778.666,284.196 1283.18,676.213 1787.7,1445.72 \"/>\n",
       "<path clip-path=\"url(#clip790)\" d=\"M284.912 198.898 L551.258 198.898 L551.258 95.2176 L284.912 95.2176  Z\" fill=\"#ffffff\" fill-rule=\"evenodd\" fill-opacity=\"1\"/>\n",
       "<polyline clip-path=\"url(#clip790)\" style=\"stroke:#000000; stroke-linecap:round; stroke-linejoin:round; stroke-width:4; stroke-opacity:1; fill:none\" points=\"284.912,198.898 551.258,198.898 551.258,95.2176 284.912,95.2176 284.912,198.898 \"/>\n",
       "<polyline clip-path=\"url(#clip790)\" style=\"stroke:#009af9; stroke-linecap:round; stroke-linejoin:round; stroke-width:4; stroke-opacity:1; fill:none\" points=\"308.681,147.058 451.291,147.058 \"/>\n",
       "<path clip-path=\"url(#clip790)\" d=\"M488.901 166.745 Q487.096 171.375 485.383 172.787 Q483.67 174.199 480.8 174.199 L477.397 174.199 L477.397 170.634 L479.897 170.634 Q481.656 170.634 482.628 169.8 Q483.601 168.967 484.781 165.865 L485.545 163.921 L475.059 138.412 L479.573 138.412 L487.675 158.689 L495.776 138.412 L500.29 138.412 L488.901 166.745 Z\" fill=\"#000000\" fill-rule=\"nonzero\" fill-opacity=\"1\" /><path clip-path=\"url(#clip790)\" d=\"M507.582 160.402 L515.221 160.402 L515.221 134.037 L506.911 135.703 L506.911 131.444 L515.174 129.778 L519.85 129.778 L519.85 160.402 L527.489 160.402 L527.489 164.338 L507.582 164.338 L507.582 160.402 Z\" fill=\"#000000\" fill-rule=\"nonzero\" fill-opacity=\"1\" /></svg>\n"
      ],
      "text/html": [
       "<?xml version=\"1.0\" encoding=\"utf-8\"?>\n",
       "<svg xmlns=\"http://www.w3.org/2000/svg\" xmlns:xlink=\"http://www.w3.org/1999/xlink\" width=\"600\" height=\"400\" viewBox=\"0 0 2400 1600\">\n",
       "<defs>\n",
       "  <clipPath id=\"clip840\">\n",
       "    <rect x=\"0\" y=\"0\" width=\"2400\" height=\"1600\"/>\n",
       "  </clipPath>\n",
       "</defs>\n",
       "<path clip-path=\"url(#clip840)\" d=\"M0 1600 L2400 1600 L2400 8.88178e-14 L0 8.88178e-14  Z\" fill=\"#ffffff\" fill-rule=\"evenodd\" fill-opacity=\"1\"/>\n",
       "<defs>\n",
       "  <clipPath id=\"clip841\">\n",
       "    <rect x=\"480\" y=\"0\" width=\"1681\" height=\"1600\"/>\n",
       "  </clipPath>\n",
       "</defs>\n",
       "<path clip-path=\"url(#clip840)\" d=\"M213.607 1486.45 L2352.76 1486.45 L2352.76 47.2441 L213.607 47.2441  Z\" fill=\"#ffffff\" fill-rule=\"evenodd\" fill-opacity=\"1\"/>\n",
       "<defs>\n",
       "  <clipPath id=\"clip842\">\n",
       "    <rect x=\"213\" y=\"47\" width=\"2140\" height=\"1440\"/>\n",
       "  </clipPath>\n",
       "</defs>\n",
       "<polyline clip-path=\"url(#clip842)\" style=\"stroke:#000000; stroke-linecap:round; stroke-linejoin:round; stroke-width:2; stroke-opacity:0.1; fill:none\" points=\"274.149,1486.45 274.149,47.2441 \"/>\n",
       "<polyline clip-path=\"url(#clip842)\" style=\"stroke:#000000; stroke-linecap:round; stroke-linejoin:round; stroke-width:2; stroke-opacity:0.1; fill:none\" points=\"778.666,1486.45 778.666,47.2441 \"/>\n",
       "<polyline clip-path=\"url(#clip842)\" style=\"stroke:#000000; stroke-linecap:round; stroke-linejoin:round; stroke-width:2; stroke-opacity:0.1; fill:none\" points=\"1283.18,1486.45 1283.18,47.2441 \"/>\n",
       "<polyline clip-path=\"url(#clip842)\" style=\"stroke:#000000; stroke-linecap:round; stroke-linejoin:round; stroke-width:2; stroke-opacity:0.1; fill:none\" points=\"1787.7,1486.45 1787.7,47.2441 \"/>\n",
       "<polyline clip-path=\"url(#clip842)\" style=\"stroke:#000000; stroke-linecap:round; stroke-linejoin:round; stroke-width:2; stroke-opacity:0.1; fill:none\" points=\"2292.21,1486.45 2292.21,47.2441 \"/>\n",
       "<polyline clip-path=\"url(#clip842)\" style=\"stroke:#000000; stroke-linecap:round; stroke-linejoin:round; stroke-width:2; stroke-opacity:0.1; fill:none\" points=\"213.607,1380.96 2352.76,1380.96 \"/>\n",
       "<polyline clip-path=\"url(#clip842)\" style=\"stroke:#000000; stroke-linecap:round; stroke-linejoin:round; stroke-width:2; stroke-opacity:0.1; fill:none\" points=\"213.607,885.59 2352.76,885.59 \"/>\n",
       "<polyline clip-path=\"url(#clip842)\" style=\"stroke:#000000; stroke-linecap:round; stroke-linejoin:round; stroke-width:2; stroke-opacity:0.1; fill:none\" points=\"213.607,390.217 2352.76,390.217 \"/>\n",
       "<polyline clip-path=\"url(#clip840)\" style=\"stroke:#000000; stroke-linecap:round; stroke-linejoin:round; stroke-width:4; stroke-opacity:1; fill:none\" points=\"213.607,1486.45 2352.76,1486.45 \"/>\n",
       "<polyline clip-path=\"url(#clip840)\" style=\"stroke:#000000; stroke-linecap:round; stroke-linejoin:round; stroke-width:4; stroke-opacity:1; fill:none\" points=\"274.149,1486.45 274.149,1467.55 \"/>\n",
       "<polyline clip-path=\"url(#clip840)\" style=\"stroke:#000000; stroke-linecap:round; stroke-linejoin:round; stroke-width:4; stroke-opacity:1; fill:none\" points=\"778.666,1486.45 778.666,1467.55 \"/>\n",
       "<polyline clip-path=\"url(#clip840)\" style=\"stroke:#000000; stroke-linecap:round; stroke-linejoin:round; stroke-width:4; stroke-opacity:1; fill:none\" points=\"1283.18,1486.45 1283.18,1467.55 \"/>\n",
       "<polyline clip-path=\"url(#clip840)\" style=\"stroke:#000000; stroke-linecap:round; stroke-linejoin:round; stroke-width:4; stroke-opacity:1; fill:none\" points=\"1787.7,1486.45 1787.7,1467.55 \"/>\n",
       "<polyline clip-path=\"url(#clip840)\" style=\"stroke:#000000; stroke-linecap:round; stroke-linejoin:round; stroke-width:4; stroke-opacity:1; fill:none\" points=\"2292.21,1486.45 2292.21,1467.55 \"/>\n",
       "<path clip-path=\"url(#clip840)\" d=\"M264.531 1544.91 L272.17 1544.91 L272.17 1518.55 L263.86 1520.21 L263.86 1515.95 L272.124 1514.29 L276.8 1514.29 L276.8 1544.91 L284.439 1544.91 L284.439 1548.85 L264.531 1548.85 L264.531 1544.91 Z\" fill=\"#000000\" fill-rule=\"nonzero\" fill-opacity=\"1\" /><path clip-path=\"url(#clip840)\" d=\"M773.318 1544.91 L789.638 1544.91 L789.638 1548.85 L767.693 1548.85 L767.693 1544.91 Q770.355 1542.16 774.939 1537.53 Q779.545 1532.88 780.726 1531.53 Q782.971 1529.01 783.851 1527.27 Q784.753 1525.51 784.753 1523.82 Q784.753 1521.07 782.809 1519.33 Q780.888 1517.6 777.786 1517.6 Q775.587 1517.6 773.133 1518.36 Q770.703 1519.13 767.925 1520.68 L767.925 1515.95 Q770.749 1514.82 773.203 1514.24 Q775.656 1513.66 777.693 1513.66 Q783.064 1513.66 786.258 1516.35 Q789.453 1519.03 789.453 1523.52 Q789.453 1525.65 788.642 1527.57 Q787.855 1529.47 785.749 1532.07 Q785.17 1532.74 782.068 1535.95 Q778.966 1539.15 773.318 1544.91 Z\" fill=\"#000000\" fill-rule=\"nonzero\" fill-opacity=\"1\" /><path clip-path=\"url(#clip840)\" d=\"M1287.43 1530.21 Q1290.79 1530.93 1292.66 1533.2 Q1294.56 1535.47 1294.56 1538.8 Q1294.56 1543.92 1291.04 1546.72 Q1287.52 1549.52 1281.04 1549.52 Q1278.86 1549.52 1276.55 1549.08 Q1274.26 1548.66 1271.8 1547.81 L1271.8 1543.29 Q1273.75 1544.43 1276.06 1545.01 Q1278.38 1545.58 1280.9 1545.58 Q1285.3 1545.58 1287.59 1543.85 Q1289.91 1542.11 1289.91 1538.8 Q1289.91 1535.75 1287.75 1534.03 Q1285.62 1532.3 1281.8 1532.3 L1277.78 1532.3 L1277.78 1528.45 L1281.99 1528.45 Q1285.44 1528.45 1287.27 1527.09 Q1289.1 1525.7 1289.1 1523.11 Q1289.1 1520.45 1287.2 1519.03 Q1285.32 1517.6 1281.8 1517.6 Q1279.88 1517.6 1277.68 1518.01 Q1275.48 1518.43 1272.85 1519.31 L1272.85 1515.14 Q1275.51 1514.4 1277.82 1514.03 Q1280.16 1513.66 1282.22 1513.66 Q1287.55 1513.66 1290.65 1516.09 Q1293.75 1518.5 1293.75 1522.62 Q1293.75 1525.49 1292.11 1527.48 Q1290.46 1529.45 1287.43 1530.21 Z\" fill=\"#000000\" fill-rule=\"nonzero\" fill-opacity=\"1\" /><path clip-path=\"url(#clip840)\" d=\"M1790.71 1518.36 L1778.9 1536.81 L1790.71 1536.81 L1790.71 1518.36 M1789.48 1514.29 L1795.36 1514.29 L1795.36 1536.81 L1800.29 1536.81 L1800.29 1540.7 L1795.36 1540.7 L1795.36 1548.85 L1790.71 1548.85 L1790.71 1540.7 L1775.11 1540.7 L1775.11 1536.19 L1789.48 1514.29 Z\" fill=\"#000000\" fill-rule=\"nonzero\" fill-opacity=\"1\" /><path clip-path=\"url(#clip840)\" d=\"M2282.49 1514.29 L2300.85 1514.29 L2300.85 1518.22 L2286.77 1518.22 L2286.77 1526.7 Q2287.79 1526.35 2288.81 1526.19 Q2289.83 1526 2290.85 1526 Q2296.64 1526 2300.01 1529.17 Q2303.39 1532.34 2303.39 1537.76 Q2303.39 1543.34 2299.92 1546.44 Q2296.45 1549.52 2290.13 1549.52 Q2287.95 1549.52 2285.69 1549.15 Q2283.44 1548.78 2281.03 1548.04 L2281.03 1543.34 Q2283.12 1544.47 2285.34 1545.03 Q2287.56 1545.58 2290.04 1545.58 Q2294.04 1545.58 2296.38 1543.48 Q2298.72 1541.37 2298.72 1537.76 Q2298.72 1534.15 2296.38 1532.04 Q2294.04 1529.94 2290.04 1529.94 Q2288.16 1529.94 2286.29 1530.35 Q2284.44 1530.77 2282.49 1531.65 L2282.49 1514.29 Z\" fill=\"#000000\" fill-rule=\"nonzero\" fill-opacity=\"1\" /><polyline clip-path=\"url(#clip840)\" style=\"stroke:#000000; stroke-linecap:round; stroke-linejoin:round; stroke-width:4; stroke-opacity:1; fill:none\" points=\"213.607,1486.45 213.607,47.2441 \"/>\n",
       "<polyline clip-path=\"url(#clip840)\" style=\"stroke:#000000; stroke-linecap:round; stroke-linejoin:round; stroke-width:4; stroke-opacity:1; fill:none\" points=\"213.607,1380.96 232.505,1380.96 \"/>\n",
       "<polyline clip-path=\"url(#clip840)\" style=\"stroke:#000000; stroke-linecap:round; stroke-linejoin:round; stroke-width:4; stroke-opacity:1; fill:none\" points=\"213.607,885.59 232.505,885.59 \"/>\n",
       "<polyline clip-path=\"url(#clip840)\" style=\"stroke:#000000; stroke-linecap:round; stroke-linejoin:round; stroke-width:4; stroke-opacity:1; fill:none\" points=\"213.607,390.217 232.505,390.217 \"/>\n",
       "<path clip-path=\"url(#clip840)\" d=\"M52.4722 1400.76 L60.111 1400.76 L60.111 1374.39 L51.8009 1376.06 L51.8009 1371.8 L60.0647 1370.13 L64.7406 1370.13 L64.7406 1400.76 L72.3795 1400.76 L72.3795 1404.69 L52.4722 1404.69 L52.4722 1400.76 Z\" fill=\"#000000\" fill-rule=\"nonzero\" fill-opacity=\"1\" /><path clip-path=\"url(#clip840)\" d=\"M91.8238 1373.21 Q88.2127 1373.21 86.384 1376.78 Q84.5785 1380.32 84.5785 1387.45 Q84.5785 1394.55 86.384 1398.12 Q88.2127 1401.66 91.8238 1401.66 Q95.458 1401.66 97.2636 1398.12 Q99.0923 1394.55 99.0923 1387.45 Q99.0923 1380.32 97.2636 1376.78 Q95.458 1373.21 91.8238 1373.21 M91.8238 1369.51 Q97.6339 1369.51 100.689 1374.11 Q103.768 1378.7 103.768 1387.45 Q103.768 1396.17 100.689 1400.78 Q97.6339 1405.36 91.8238 1405.36 Q86.0136 1405.36 82.935 1400.78 Q79.8794 1396.17 79.8794 1387.45 Q79.8794 1378.7 82.935 1374.11 Q86.0136 1369.51 91.8238 1369.51 Z\" fill=\"#000000\" fill-rule=\"nonzero\" fill-opacity=\"1\" /><path clip-path=\"url(#clip840)\" d=\"M103.768 1363.61 L127.88 1363.61 L127.88 1366.81 L103.768 1366.81 L103.768 1363.61 Z\" fill=\"#000000\" fill-rule=\"nonzero\" fill-opacity=\"1\" /><path clip-path=\"url(#clip840)\" d=\"M136.738 1374.08 L142.945 1374.08 L142.945 1352.66 L136.193 1354.02 L136.193 1350.56 L142.907 1349.2 L146.706 1349.2 L146.706 1374.08 L152.913 1374.08 L152.913 1377.28 L136.738 1377.28 L136.738 1374.08 Z\" fill=\"#000000\" fill-rule=\"nonzero\" fill-opacity=\"1\" /><path clip-path=\"url(#clip840)\" d=\"M160.624 1349.2 L175.539 1349.2 L175.539 1352.4 L164.103 1352.4 L164.103 1359.28 Q164.931 1359 165.759 1358.87 Q166.586 1358.72 167.414 1358.72 Q172.116 1358.72 174.862 1361.29 Q177.607 1363.87 177.607 1368.27 Q177.607 1372.81 174.786 1375.33 Q171.965 1377.83 166.831 1377.83 Q165.063 1377.83 163.22 1377.53 Q161.395 1377.23 159.439 1376.62 L159.439 1372.81 Q161.132 1373.73 162.937 1374.18 Q164.743 1374.63 166.755 1374.63 Q170.009 1374.63 171.909 1372.92 Q173.808 1371.21 173.808 1368.27 Q173.808 1365.34 171.909 1363.63 Q170.009 1361.92 166.755 1361.92 Q165.232 1361.92 163.709 1362.25 Q162.204 1362.59 160.624 1363.31 L160.624 1349.2 Z\" fill=\"#000000\" fill-rule=\"nonzero\" fill-opacity=\"1\" /><path clip-path=\"url(#clip840)\" d=\"M51.6634 905.383 L59.3023 905.383 L59.3023 879.017 L50.9921 880.684 L50.9921 876.425 L59.256 874.758 L63.9319 874.758 L63.9319 905.383 L71.5707 905.383 L71.5707 909.318 L51.6634 909.318 L51.6634 905.383 Z\" fill=\"#000000\" fill-rule=\"nonzero\" fill-opacity=\"1\" /><path clip-path=\"url(#clip840)\" d=\"M91.0151 877.837 Q87.404 877.837 85.5753 881.402 Q83.7697 884.943 83.7697 892.073 Q83.7697 899.179 85.5753 902.744 Q87.404 906.286 91.0151 906.286 Q94.6493 906.286 96.4548 902.744 Q98.2835 899.179 98.2835 892.073 Q98.2835 884.943 96.4548 881.402 Q94.6493 877.837 91.0151 877.837 M91.0151 874.133 Q96.8252 874.133 99.8808 878.74 Q102.959 883.323 102.959 892.073 Q102.959 900.8 99.8808 905.406 Q96.8252 909.989 91.0151 909.989 Q85.2049 909.989 82.1262 905.406 Q79.0707 900.8 79.0707 892.073 Q79.0707 883.323 82.1262 878.74 Q85.2049 874.133 91.0151 874.133 Z\" fill=\"#000000\" fill-rule=\"nonzero\" fill-opacity=\"1\" /><path clip-path=\"url(#clip840)\" d=\"M102.959 868.234 L127.071 868.234 L127.071 871.432 L102.959 871.432 L102.959 868.234 Z\" fill=\"#000000\" fill-rule=\"nonzero\" fill-opacity=\"1\" /><path clip-path=\"url(#clip840)\" d=\"M135.929 878.71 L142.136 878.71 L142.136 857.288 L135.384 858.642 L135.384 855.182 L142.098 853.828 L145.898 853.828 L145.898 878.71 L152.104 878.71 L152.104 881.908 L135.929 881.908 L135.929 878.71 Z\" fill=\"#000000\" fill-rule=\"nonzero\" fill-opacity=\"1\" /><path clip-path=\"url(#clip840)\" d=\"M167.903 856.329 Q164.969 856.329 163.483 859.226 Q162.016 862.103 162.016 867.896 Q162.016 873.67 163.483 876.566 Q164.969 879.444 167.903 879.444 Q170.855 879.444 172.322 876.566 Q173.808 873.67 173.808 867.896 Q173.808 862.103 172.322 859.226 Q170.855 856.329 167.903 856.329 M167.903 853.32 Q172.623 853.32 175.106 857.063 Q177.607 860.787 177.607 867.896 Q177.607 874.986 175.106 878.729 Q172.623 882.453 167.903 882.453 Q163.182 882.453 160.68 878.729 Q158.198 874.986 158.198 867.896 Q158.198 860.787 160.68 857.063 Q163.182 853.32 167.903 853.32 Z\" fill=\"#000000\" fill-rule=\"nonzero\" fill-opacity=\"1\" /><path clip-path=\"url(#clip840)\" d=\"M76.9787 410.009 L84.6175 410.009 L84.6175 383.643 L76.3074 385.31 L76.3074 381.051 L84.5712 379.384 L89.2471 379.384 L89.2471 410.009 L96.886 410.009 L96.886 413.944 L76.9787 413.944 L76.9787 410.009 Z\" fill=\"#000000\" fill-rule=\"nonzero\" fill-opacity=\"1\" /><path clip-path=\"url(#clip840)\" d=\"M116.33 382.463 Q112.719 382.463 110.891 386.028 Q109.085 389.569 109.085 396.699 Q109.085 403.805 110.891 407.37 Q112.719 410.912 116.33 410.912 Q119.965 410.912 121.77 407.37 Q123.599 403.805 123.599 396.699 Q123.599 389.569 121.77 386.028 Q119.965 382.463 116.33 382.463 M116.33 378.759 Q122.14 378.759 125.196 383.366 Q128.275 387.949 128.275 396.699 Q128.275 405.426 125.196 410.032 Q122.14 414.615 116.33 414.615 Q110.52 414.615 107.441 410.032 Q104.386 405.426 104.386 396.699 Q104.386 387.949 107.441 383.366 Q110.52 378.759 116.33 378.759 Z\" fill=\"#000000\" fill-rule=\"nonzero\" fill-opacity=\"1\" /><path clip-path=\"url(#clip840)\" d=\"M128.275 372.861 L152.386 372.861 L152.386 376.058 L128.275 376.058 L128.275 372.861 Z\" fill=\"#000000\" fill-rule=\"nonzero\" fill-opacity=\"1\" /><path clip-path=\"url(#clip840)\" d=\"M160.624 358.454 L175.539 358.454 L175.539 361.651 L164.103 361.651 L164.103 368.535 Q164.931 368.253 165.759 368.121 Q166.586 367.971 167.414 367.971 Q172.116 367.971 174.862 370.547 Q177.607 373.124 177.607 377.525 Q177.607 382.058 174.786 384.578 Q171.965 387.079 166.831 387.079 Q165.063 387.079 163.22 386.778 Q161.395 386.477 159.439 385.876 L159.439 382.058 Q161.132 382.979 162.937 383.431 Q164.743 383.882 166.755 383.882 Q170.009 383.882 171.909 382.17 Q173.808 380.459 173.808 377.525 Q173.808 374.591 171.909 372.879 Q170.009 371.168 166.755 371.168 Q165.232 371.168 163.709 371.506 Q162.204 371.845 160.624 372.56 L160.624 358.454 Z\" fill=\"#000000\" fill-rule=\"nonzero\" fill-opacity=\"1\" /><polyline clip-path=\"url(#clip842)\" style=\"stroke:#009af9; stroke-linecap:round; stroke-linejoin:round; stroke-width:4; stroke-opacity:1; fill:none\" points=\"274.149,87.9763 778.666,284.196 1283.18,676.213 1787.7,1445.72 \"/>\n",
       "<path clip-path=\"url(#clip840)\" d=\"M284.912 198.898 L551.258 198.898 L551.258 95.2176 L284.912 95.2176  Z\" fill=\"#ffffff\" fill-rule=\"evenodd\" fill-opacity=\"1\"/>\n",
       "<polyline clip-path=\"url(#clip840)\" style=\"stroke:#000000; stroke-linecap:round; stroke-linejoin:round; stroke-width:4; stroke-opacity:1; fill:none\" points=\"284.912,198.898 551.258,198.898 551.258,95.2176 284.912,95.2176 284.912,198.898 \"/>\n",
       "<polyline clip-path=\"url(#clip840)\" style=\"stroke:#009af9; stroke-linecap:round; stroke-linejoin:round; stroke-width:4; stroke-opacity:1; fill:none\" points=\"308.681,147.058 451.291,147.058 \"/>\n",
       "<path clip-path=\"url(#clip840)\" d=\"M488.901 166.745 Q487.096 171.375 485.383 172.787 Q483.67 174.199 480.8 174.199 L477.397 174.199 L477.397 170.634 L479.897 170.634 Q481.656 170.634 482.628 169.8 Q483.601 168.967 484.781 165.865 L485.545 163.921 L475.059 138.412 L479.573 138.412 L487.675 158.689 L495.776 138.412 L500.29 138.412 L488.901 166.745 Z\" fill=\"#000000\" fill-rule=\"nonzero\" fill-opacity=\"1\" /><path clip-path=\"url(#clip840)\" d=\"M507.582 160.402 L515.221 160.402 L515.221 134.037 L506.911 135.703 L506.911 131.444 L515.174 129.778 L519.85 129.778 L519.85 160.402 L527.489 160.402 L527.489 164.338 L507.582 164.338 L507.582 160.402 Z\" fill=\"#000000\" fill-rule=\"nonzero\" fill-opacity=\"1\" /></svg>\n"
      ]
     },
     "metadata": {},
     "output_type": "display_data"
    }
   ],
   "source": [
    "# TODO: Use newton to compute roots of sin(x) - 1/x.\n",
    "k = 1:5\n",
    "x_0 = 1\n",
    "f3 = x -> sin(x) - 1/x\n",
    "\n",
    "errs = [nanabs(newton(f3, x_0, n) - newton(f3, x_0, 15)) for n = k]\n",
    "plot(k, errs; yscale=:log10)"
   ]
  },
  {
   "cell_type": "markdown",
   "metadata": {},
   "source": [
    "---\n",
    "\n",
    "*This notebook was generated using [Literate.jl](https://github.com/fredrikekre/Literate.jl).*"
   ]
  }
 ],
 "metadata": {
  "kernelspec": {
   "display_name": "Julia 1.11.2",
   "language": "julia",
   "name": "julia-1.11"
  },
  "language_info": {
   "file_extension": ".jl",
   "mimetype": "application/julia",
   "name": "julia",
   "version": "1.11.2"
  }
 },
 "nbformat": 4,
 "nbformat_minor": 3
}
