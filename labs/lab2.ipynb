{
 "cells": [
  {
   "cell_type": "markdown",
   "metadata": {},
   "source": [
    "# MATH50003 (2024–25)\n",
    "# Lab 2: I.3 Dual Numbers and I.4 Newton's Method"
   ]
  },
  {
   "cell_type": "markdown",
   "metadata": {},
   "source": [
    "In this lab we explore an alternative approach to computing derivatives:\n",
    "using _dual numbers_. This is a special mathematical object akin to complex numbers\n",
    "that allows us to compute derivatives to very high accuracy in an automated fashion.\n",
    "This is a basic example of [automatic differentiation](https://en.wikipedia.org/wiki/Automatic_differentiation)\n",
    "that is extremely important in Machine Learning and other computational applications.\n",
    "To realise dual numbers on a computer we need to introduce the notation of a \"type\"\n",
    "and create a customised type to represent dual numbers, which is what we discuss first.\n",
    "As an application of computing derivatives we consider root finding via [Newton's method](https://en.wikipedia.org/wiki/Newton%27s_method)."
   ]
  },
  {
   "cell_type": "markdown",
   "metadata": {},
   "source": [
    "**Learning Outcomes**\n",
    "\n",
    "Mathematical knowledge:\n",
    "\n",
    "1. Definition of dual numbers and functions applied dual numbers.\n",
    "3. Newton's method for root finding.\n",
    "\n",
    "Coding knowledge:\n",
    "\n",
    "1. The notion of a type and how to make your own type.\n",
    "2. Defining functions whose arguments are restricted to specific types.\n",
    "3. Overloading functions like `+`, `*`, and `exp` for a custom type."
   ]
  },
  {
   "cell_type": "markdown",
   "metadata": {},
   "source": [
    "We load the `Test` and `Plots` packages to be used below.\n",
    "We also define the function `nanabs` which is useful for logarithmically scaled\n",
    "plots. For brevity we use a shorthand `cond ? expr1 : expr2` which just means\n",
    "```julia\n",
    "if cond\n",
    "    expr1\n",
    "else\n",
    "    expr2\n",
    "end\n",
    "```"
   ]
  },
  {
   "cell_type": "code",
   "execution_count": 2,
   "metadata": {},
   "outputs": [
    {
     "data": {
      "text/plain": [
       "nanabs (generic function with 1 method)"
      ]
     },
     "metadata": {},
     "output_type": "display_data"
    }
   ],
   "source": [
    "using Plots, Test\n",
    "nanabs(x) = x == 0 ? NaN : abs(x)"
   ]
  },
  {
   "cell_type": "markdown",
   "metadata": {},
   "source": [
    "## Types in Julia"
   ]
  },
  {
   "cell_type": "markdown",
   "metadata": {},
   "source": [
    "Before we can use a concept like dual numbers we have to understand the notion of a \"type\".\n",
    "In compiled languages like Julia everything has a \"type\". The function `typeof` can be used to determine the type of,\n",
    "for example, a number.\n",
    "By default when we write an integer (e.g. `-123`) it is of type `Int`:"
   ]
  },
  {
   "cell_type": "code",
   "execution_count": 2,
   "metadata": {},
   "outputs": [
    {
     "data": {
      "text/plain": [
       "Int64"
      ]
     },
     "metadata": {},
     "output_type": "display_data"
    }
   ],
   "source": [
    "typeof(5)"
   ]
  },
  {
   "cell_type": "markdown",
   "metadata": {},
   "source": [
    "On a 64-bit machine this will print `Int64`, where the `64` indicates it is using precisely 64 bits\n",
    "to represent the number (a topic we will come back to in Part II). If we write something with\n",
    "a decimal point it represents a \"real\" number, whose storage is of type `Float64`:"
   ]
  },
  {
   "cell_type": "code",
   "execution_count": 3,
   "metadata": {},
   "outputs": [
    {
     "data": {
      "text/plain": [
       "Float64"
      ]
     },
     "metadata": {},
     "output_type": "display_data"
    }
   ],
   "source": [
    "typeof(5.3)"
   ]
  },
  {
   "cell_type": "markdown",
   "metadata": {},
   "source": [
    "This is called a \"floating point\" number, and again the `64` indicates it is using precisely\n",
    "64 bits to represent this number. (We will see this is why computations like divided differences\n",
    "have large errors: because we are limiting the number of \"digits\" to represent numbers we need to\n",
    "round our computations.) Note that some operations involving `Int`s return `Float64`s:"
   ]
  },
  {
   "cell_type": "code",
   "execution_count": 4,
   "metadata": {},
   "outputs": [
    {
     "data": {
      "text/plain": [
       "0.2"
      ]
     },
     "metadata": {},
     "output_type": "display_data"
    }
   ],
   "source": [
    "1/5 # 1 and 5 are Int but output is a Float64"
   ]
  },
  {
   "cell_type": "markdown",
   "metadata": {},
   "source": [
    "It is possible to have functions behave differently depending on the input type.\n",
    "To do so we can add a restriction denoted `::Int` or `::Float64` to the function \"signature\".\n",
    "Here we create a function `foo` that is equal to `1` if the input is an `Int`, `0` if the input is\n",
    "a `Float64`, and `-1` otherwise:"
   ]
  },
  {
   "cell_type": "code",
   "execution_count": 5,
   "metadata": {},
   "outputs": [
    {
     "data": {
      "text/plain": [
       "(1, 0, -1, 0)"
      ]
     },
     "metadata": {},
     "output_type": "display_data"
    }
   ],
   "source": [
    "foo(x::Int) = 1 # The ::Int means this version is called when the input is an Int\n",
    "foo(x::Float64) = 0\n",
    "foo(x) = -1 # This is equivalent to f(x::Any) = -1\n",
    "# Anything that is not an Int or Float64 will call this\n",
    "\n",
    "foo(3), foo(2.5), foo(\"hi\"), foo(3.0)"
   ]
  },
  {
   "cell_type": "markdown",
   "metadata": {},
   "source": [
    "The last line returns a list of `Int`s, which has the type `Tuple`.\n",
    "Note that there is a difference between the set concept of integer and the type `Int`: whilst `3.0` is an integer\n",
    "its type is `Float64` so `foo(3.0) == 0`."
   ]
  },
  {
   "cell_type": "markdown",
   "metadata": {},
   "source": [
    "**Remark** Every type has a \"supertype\", which is an \"abstract type\": something you can't make an instance of it.\n",
    "For example, in the same way that \"integers\"\n",
    "are subsets of the \"reals\" we have that `Int` and `Float64` are subtypes of\n",
    "`Real`. Which is a subtype of `Number`. Which, as is everything, a subtype of `Any`."
   ]
  },
  {
   "cell_type": "markdown",
   "metadata": {},
   "source": [
    "Types allow for combining multiple numbers (or instances of other types) to represent a more complicated\n",
    "object. A simple example of this is a complex number,\n",
    "which stores two real numbers $x$ and $y$ (either `Int` or `Float64` or indeed other real number types not yet discussed)\n",
    "to represent the complex number $x + {\\rm i} y$. In Julia ${\\rm i} = \\sqrt{-1}$ is denoted `im` and\n",
    "hence we can create a complex number like $1+2{\\rm i}$ as follows:"
   ]
  },
  {
   "cell_type": "code",
   "execution_count": 6,
   "metadata": {},
   "outputs": [
    {
     "data": {
      "text/plain": [
       "1 + 2im"
      ]
     },
     "metadata": {},
     "output_type": "display_data"
    }
   ],
   "source": [
    "z = 1 + 2im"
   ]
  },
  {
   "cell_type": "markdown",
   "metadata": {},
   "source": [
    "This complex number has two \"fields\": the real and imaginary part. Accessing the fields is done\n",
    "using a `.`, here we display the real and imaginary parts as a `Tuple`:"
   ]
  },
  {
   "cell_type": "code",
   "execution_count": 7,
   "metadata": {},
   "outputs": [
    {
     "data": {
      "text/plain": [
       "(1, 2)"
      ]
     },
     "metadata": {},
     "output_type": "display_data"
    }
   ],
   "source": [
    "z.re, z.im"
   ]
  },
  {
   "cell_type": "markdown",
   "metadata": {},
   "source": [
    "When we ask  its type we see it is a `Complex{Int}`:"
   ]
  },
  {
   "cell_type": "code",
   "execution_count": 8,
   "metadata": {},
   "outputs": [
    {
     "data": {
      "text/plain": [
       "Complex{Int64}"
      ]
     },
     "metadata": {},
     "output_type": "display_data"
    }
   ],
   "source": [
    "typeof(z)"
   ]
  },
  {
   "cell_type": "markdown",
   "metadata": {},
   "source": [
    "The `{Int}` indicates that each of the fields is an `Int`.\n",
    "Note we can add, subtract, multiply, or apply functions like `exp` to complex numbers:"
   ]
  },
  {
   "cell_type": "code",
   "execution_count": 9,
   "metadata": {},
   "outputs": [
    {
     "data": {
      "text/plain": [
       "1.0970208521148807e-5 - 0.002478727901132598im"
      ]
     },
     "metadata": {},
     "output_type": "display_data"
    }
   ],
   "source": [
    "exp(2z^2 + 3im)"
   ]
  },
  {
   "cell_type": "markdown",
   "metadata": {},
   "source": [
    "-----\n",
    "**Problem 1(a)** Use `typeof` to determine the type of `1.2 + 2.3im`."
   ]
  },
  {
   "cell_type": "code",
   "execution_count": 10,
   "metadata": {},
   "outputs": [
    {
     "data": {
      "text/plain": [
       "ComplexF64\u001b[90m (alias for \u001b[39m\u001b[90mComplex{Float64}\u001b[39m\u001b[90m)\u001b[39m"
      ]
     },
     "metadata": {},
     "output_type": "display_data"
    }
   ],
   "source": [
    "# TODO: What is the type of 1.2 + 2.3im?\n",
    "z = 1.2 + 2.3im\n",
    "typeof(z)"
   ]
  },
  {
   "cell_type": "markdown",
   "metadata": {},
   "source": [
    "**Problem 1(b)** Add another implementation of `foo` that returns `im` if the input\n",
    "is a `ComplexF64`."
   ]
  },
  {
   "cell_type": "code",
   "execution_count": 11,
   "metadata": {},
   "outputs": [
    {
     "data": {
      "text/plain": [
       "\u001b[32m\u001b[1mTest Passed\u001b[22m\u001b[39m"
      ]
     },
     "metadata": {},
     "output_type": "display_data"
    }
   ],
   "source": [
    "# TODO: Overload foo for when the input is a ComplexF64 and return im\n",
    "foo(x::ComplexF64) = im\n",
    "\n",
    "@test foo(1.1 + 2im) == im"
   ]
  },
  {
   "cell_type": "markdown",
   "metadata": {},
   "source": [
    "------"
   ]
  },
  {
   "cell_type": "markdown",
   "metadata": {},
   "source": [
    "**Problem 2(a)** Consider the Taylor series approximation to the exponential:\n",
    "$$\n",
    "\\exp z ≈ ∑_{k=0}^n {z^k \\over k!}\n",
    "$$\n",
    "Complete the function `exp_t(z, n)` that computes this and returns a\n",
    "`Complex{Float64}` if the input is complex and a `Float64` if the input is real.\n",
    "Do not use the inbuilt `factorial` function.\n",
    "Hint: It might help to think inductively: for $s_k = z^k/k!$ we have\n",
    "$$\n",
    "  s_{k+1}  = {z \\over k+1} s_k.\n",
    "$$"
   ]
  },
  {
   "cell_type": "code",
   "execution_count": 4,
   "metadata": {},
   "outputs": [
    {
     "data": {
      "text/plain": [
       "\u001b[32m\u001b[1mTest Passed\u001b[22m\u001b[39m"
      ]
     },
     "metadata": {},
     "output_type": "display_data"
    }
   ],
   "source": [
    "function exp_t(z, n)\n",
    "    # TODO: Compute the first (n+1)-terms of the Taylor series of exp\n",
    "    # evaluated at z\n",
    "    sum = 1\n",
    "    s = z\n",
    "    for i = 1:n\n",
    "        sum = s + sum\n",
    "        s = (z/(i+1)) * s\n",
    "    end\n",
    "    sum\n",
    "end\n",
    "\n",
    "@test exp_t(1.0, 10) isa Float64 # isa is used to test the type of a result\n",
    "@test exp_t(im, 10) isa ComplexF64 # isa is used to test the type of a result\n",
    "\n",
    "@test exp_t(1.0, 100) ≈ exp(1)"
   ]
  },
  {
   "cell_type": "markdown",
   "metadata": {},
   "source": [
    "**Problem 2(b)** Plot the error for `n = 1:1000` of `exp_t(z, n)` for `z = 1, im, -5`, and `-100`,\n",
    "scaling the y-axis logarithmically.\n",
    "Does the method appear to converge for all values of $z$?"
   ]
  },
  {
   "cell_type": "code",
   "execution_count": 6,
   "metadata": {},
   "outputs": [
    {
     "data": {
      "image/png": "[encoded data removed]",
      "image/svg+xml": [
       "<?xml version=\"1.0\" encoding=\"utf-8\"?>\n",
       "<svg xmlns=\"http://www.w3.org/2000/svg\" xmlns:xlink=\"http://www.w3.org/1999/xlink\" width=\"600\" height=\"400\" viewBox=\"0 0 2400 1600\">\n",
       "<defs>\n",
       "  <clipPath id=\"clip410\">\n",
       "    <rect x=\"0\" y=\"0\" width=\"2400\" height=\"1600\"/>\n",
       "  </clipPath>\n",
       "</defs>\n",
       "<path clip-path=\"url(#clip410)\" d=\"M0 1600 L2400 1600 L2400 8.88178e-14 L0 8.88178e-14  Z\" fill=\"#ffffff\" fill-rule=\"evenodd\" fill-opacity=\"1\"/>\n",
       "<defs>\n",
       "  <clipPath id=\"clip411\">\n",
       "    <rect x=\"480\" y=\"0\" width=\"1681\" height=\"1600\"/>\n",
       "  </clipPath>\n",
       "</defs>\n",
       "<path clip-path=\"url(#clip410)\" d=\"M213.607 1486.45 L2352.76 1486.45 L2352.76 47.2441 L213.607 47.2441  Z\" fill=\"#ffffff\" fill-rule=\"evenodd\" fill-opacity=\"1\"/>\n",
       "<defs>\n",
       "  <clipPath id=\"clip412\">\n",
       "    <rect x=\"213\" y=\"47\" width=\"2140\" height=\"1440\"/>\n",
       "  </clipPath>\n",
       "</defs>\n",
       "<polyline clip-path=\"url(#clip412)\" style=\"stroke:#000000; stroke-linecap:round; stroke-linejoin:round; stroke-width:2; stroke-opacity:0.1; fill:none\" points=\"272.129,1486.45 272.129,47.2441 \"/>\n",
       "<polyline clip-path=\"url(#clip412)\" style=\"stroke:#000000; stroke-linecap:round; stroke-linejoin:round; stroke-width:2; stroke-opacity:0.1; fill:none\" points=\"777.15,1486.45 777.15,47.2441 \"/>\n",
       "<polyline clip-path=\"url(#clip412)\" style=\"stroke:#000000; stroke-linecap:round; stroke-linejoin:round; stroke-width:2; stroke-opacity:0.1; fill:none\" points=\"1282.17,1486.45 1282.17,47.2441 \"/>\n",
       "<polyline clip-path=\"url(#clip412)\" style=\"stroke:#000000; stroke-linecap:round; stroke-linejoin:round; stroke-width:2; stroke-opacity:0.1; fill:none\" points=\"1787.19,1486.45 1787.19,47.2441 \"/>\n",
       "<polyline clip-path=\"url(#clip412)\" style=\"stroke:#000000; stroke-linecap:round; stroke-linejoin:round; stroke-width:2; stroke-opacity:0.1; fill:none\" points=\"2292.21,1486.45 2292.21,47.2441 \"/>\n",
       "<polyline clip-path=\"url(#clip412)\" style=\"stroke:#000000; stroke-linecap:round; stroke-linejoin:round; stroke-width:2; stroke-opacity:0.1; fill:none\" points=\"213.607,1022.53 2352.76,1022.53 \"/>\n",
       "<polyline clip-path=\"url(#clip412)\" style=\"stroke:#000000; stroke-linecap:round; stroke-linejoin:round; stroke-width:2; stroke-opacity:0.1; fill:none\" points=\"213.607,311.854 2352.76,311.854 \"/>\n",
       "<polyline clip-path=\"url(#clip410)\" style=\"stroke:#000000; stroke-linecap:round; stroke-linejoin:round; stroke-width:4; stroke-opacity:1; fill:none\" points=\"213.607,1486.45 2352.76,1486.45 \"/>\n",
       "<polyline clip-path=\"url(#clip410)\" style=\"stroke:#000000; stroke-linecap:round; stroke-linejoin:round; stroke-width:4; stroke-opacity:1; fill:none\" points=\"272.129,1486.45 272.129,1467.55 \"/>\n",
       "<polyline clip-path=\"url(#clip410)\" style=\"stroke:#000000; stroke-linecap:round; stroke-linejoin:round; stroke-width:4; stroke-opacity:1; fill:none\" points=\"777.15,1486.45 777.15,1467.55 \"/>\n",
       "<polyline clip-path=\"url(#clip410)\" style=\"stroke:#000000; stroke-linecap:round; stroke-linejoin:round; stroke-width:4; stroke-opacity:1; fill:none\" points=\"1282.17,1486.45 1282.17,1467.55 \"/>\n",
       "<polyline clip-path=\"url(#clip410)\" style=\"stroke:#000000; stroke-linecap:round; stroke-linejoin:round; stroke-width:4; stroke-opacity:1; fill:none\" points=\"1787.19,1486.45 1787.19,1467.55 \"/>\n",
       "<polyline clip-path=\"url(#clip410)\" style=\"stroke:#000000; stroke-linecap:round; stroke-linejoin:round; stroke-width:4; stroke-opacity:1; fill:none\" points=\"2292.21,1486.45 2292.21,1467.55 \"/>\n",
       "<path clip-path=\"url(#clip410)\" d=\"M272.129 1517.37 Q268.518 1517.37 266.69 1520.93 Q264.884 1524.47 264.884 1531.6 Q264.884 1538.71 266.69 1542.27 Q268.518 1545.82 272.129 1545.82 Q275.764 1545.82 277.569 1542.27 Q279.398 1538.71 279.398 1531.6 Q279.398 1524.47 277.569 1520.93 Q275.764 1517.37 272.129 1517.37 M272.129 1513.66 Q277.939 1513.66 280.995 1518.27 Q284.074 1522.85 284.074 1531.6 Q284.074 1540.33 280.995 1544.94 Q277.939 1549.52 272.129 1549.52 Q266.319 1549.52 263.24 1544.94 Q260.185 1540.33 260.185 1531.6 Q260.185 1522.85 263.24 1518.27 Q266.319 1513.66 272.129 1513.66 Z\" fill=\"#000000\" fill-rule=\"nonzero\" fill-opacity=\"1\" /><path clip-path=\"url(#clip410)\" d=\"M740.843 1544.91 L757.162 1544.91 L757.162 1548.85 L735.218 1548.85 L735.218 1544.91 Q737.88 1542.16 742.463 1537.53 Q747.07 1532.88 748.25 1531.53 Q750.496 1529.01 751.375 1527.27 Q752.278 1525.51 752.278 1523.82 Q752.278 1521.07 750.334 1519.33 Q748.412 1517.6 745.31 1517.6 Q743.111 1517.6 740.658 1518.36 Q738.227 1519.13 735.449 1520.68 L735.449 1515.95 Q738.273 1514.82 740.727 1514.24 Q743.181 1513.66 745.218 1513.66 Q750.588 1513.66 753.783 1516.35 Q756.977 1519.03 756.977 1523.52 Q756.977 1525.65 756.167 1527.57 Q755.38 1529.47 753.273 1532.07 Q752.695 1532.74 749.593 1535.95 Q746.491 1539.15 740.843 1544.91 Z\" fill=\"#000000\" fill-rule=\"nonzero\" fill-opacity=\"1\" /><path clip-path=\"url(#clip410)\" d=\"M767.023 1514.29 L785.38 1514.29 L785.38 1518.22 L771.306 1518.22 L771.306 1526.7 Q772.324 1526.35 773.343 1526.19 Q774.361 1526 775.38 1526 Q781.167 1526 784.546 1529.17 Q787.926 1532.34 787.926 1537.76 Q787.926 1543.34 784.454 1546.44 Q780.981 1549.52 774.662 1549.52 Q772.486 1549.52 770.218 1549.15 Q767.972 1548.78 765.565 1548.04 L765.565 1543.34 Q767.648 1544.47 769.87 1545.03 Q772.093 1545.58 774.569 1545.58 Q778.574 1545.58 780.912 1543.48 Q783.25 1541.37 783.25 1537.76 Q783.25 1534.15 780.912 1532.04 Q778.574 1529.94 774.569 1529.94 Q772.694 1529.94 770.82 1530.35 Q768.968 1530.77 767.023 1531.65 L767.023 1514.29 Z\" fill=\"#000000\" fill-rule=\"nonzero\" fill-opacity=\"1\" /><path clip-path=\"url(#clip410)\" d=\"M807.139 1517.37 Q803.528 1517.37 801.699 1520.93 Q799.893 1524.47 799.893 1531.6 Q799.893 1538.71 801.699 1542.27 Q803.528 1545.82 807.139 1545.82 Q810.773 1545.82 812.579 1542.27 Q814.407 1538.71 814.407 1531.6 Q814.407 1524.47 812.579 1520.93 Q810.773 1517.37 807.139 1517.37 M807.139 1513.66 Q812.949 1513.66 816.004 1518.27 Q819.083 1522.85 819.083 1531.6 Q819.083 1540.33 816.004 1544.94 Q812.949 1549.52 807.139 1549.52 Q801.329 1549.52 798.25 1544.94 Q795.194 1540.33 795.194 1531.6 Q795.194 1522.85 798.25 1518.27 Q801.329 1513.66 807.139 1513.66 Z\" fill=\"#000000\" fill-rule=\"nonzero\" fill-opacity=\"1\" /><path clip-path=\"url(#clip410)\" d=\"M1241.79 1514.29 L1260.15 1514.29 L1260.15 1518.22 L1246.07 1518.22 L1246.07 1526.7 Q1247.09 1526.35 1248.11 1526.19 Q1249.13 1526 1250.15 1526 Q1255.93 1526 1259.31 1529.17 Q1262.69 1532.34 1262.69 1537.76 Q1262.69 1543.34 1259.22 1546.44 Q1255.75 1549.52 1249.43 1549.52 Q1247.25 1549.52 1244.98 1549.15 Q1242.74 1548.78 1240.33 1548.04 L1240.33 1543.34 Q1242.41 1544.47 1244.64 1545.03 Q1246.86 1545.58 1249.34 1545.58 Q1253.34 1545.58 1255.68 1543.48 Q1258.02 1541.37 1258.02 1537.76 Q1258.02 1534.15 1255.68 1532.04 Q1253.34 1529.94 1249.34 1529.94 Q1247.46 1529.94 1245.59 1530.35 Q1243.73 1530.77 1241.79 1531.65 L1241.79 1514.29 Z\" fill=\"#000000\" fill-rule=\"nonzero\" fill-opacity=\"1\" /><path clip-path=\"url(#clip410)\" d=\"M1281.91 1517.37 Q1278.29 1517.37 1276.47 1520.93 Q1274.66 1524.47 1274.66 1531.6 Q1274.66 1538.71 1276.47 1542.27 Q1278.29 1545.82 1281.91 1545.82 Q1285.54 1545.82 1287.35 1542.27 Q1289.17 1538.71 1289.17 1531.6 Q1289.17 1524.47 1287.35 1520.93 Q1285.54 1517.37 1281.91 1517.37 M1281.91 1513.66 Q1287.72 1513.66 1290.77 1518.27 Q1293.85 1522.85 1293.85 1531.6 Q1293.85 1540.33 1290.77 1544.94 Q1287.72 1549.52 1281.91 1549.52 Q1276.1 1549.52 1273.02 1544.94 Q1269.96 1540.33 1269.96 1531.6 Q1269.96 1522.85 1273.02 1518.27 Q1276.1 1513.66 1281.91 1513.66 Z\" fill=\"#000000\" fill-rule=\"nonzero\" fill-opacity=\"1\" /><path clip-path=\"url(#clip410)\" d=\"M1312.07 1517.37 Q1308.46 1517.37 1306.63 1520.93 Q1304.82 1524.47 1304.82 1531.6 Q1304.82 1538.71 1306.63 1542.27 Q1308.46 1545.82 1312.07 1545.82 Q1315.7 1545.82 1317.51 1542.27 Q1319.34 1538.71 1319.34 1531.6 Q1319.34 1524.47 1317.51 1520.93 Q1315.7 1517.37 1312.07 1517.37 M1312.07 1513.66 Q1317.88 1513.66 1320.93 1518.27 Q1324.01 1522.85 1324.01 1531.6 Q1324.01 1540.33 1320.93 1544.94 Q1317.88 1549.52 1312.07 1549.52 Q1306.26 1549.52 1303.18 1544.94 Q1300.12 1540.33 1300.12 1531.6 Q1300.12 1522.85 1303.18 1518.27 Q1306.26 1513.66 1312.07 1513.66 Z\" fill=\"#000000\" fill-rule=\"nonzero\" fill-opacity=\"1\" /><path clip-path=\"url(#clip410)\" d=\"M1745.47 1514.29 L1767.69 1514.29 L1767.69 1516.28 L1755.14 1548.85 L1750.26 1548.85 L1762.07 1518.22 L1745.47 1518.22 L1745.47 1514.29 Z\" fill=\"#000000\" fill-rule=\"nonzero\" fill-opacity=\"1\" /><path clip-path=\"url(#clip410)\" d=\"M1776.86 1514.29 L1795.21 1514.29 L1795.21 1518.22 L1781.14 1518.22 L1781.14 1526.7 Q1782.16 1526.35 1783.18 1526.19 Q1784.2 1526 1785.21 1526 Q1791 1526 1794.38 1529.17 Q1797.76 1532.34 1797.76 1537.76 Q1797.76 1543.34 1794.29 1546.44 Q1790.82 1549.52 1784.5 1549.52 Q1782.32 1549.52 1780.05 1549.15 Q1777.81 1548.78 1775.4 1548.04 L1775.4 1543.34 Q1777.48 1544.47 1779.7 1545.03 Q1781.93 1545.58 1784.4 1545.58 Q1788.41 1545.58 1790.75 1543.48 Q1793.08 1541.37 1793.08 1537.76 Q1793.08 1534.15 1790.75 1532.04 Q1788.41 1529.94 1784.4 1529.94 Q1782.53 1529.94 1780.65 1530.35 Q1778.8 1530.77 1776.86 1531.65 L1776.86 1514.29 Z\" fill=\"#000000\" fill-rule=\"nonzero\" fill-opacity=\"1\" /><path clip-path=\"url(#clip410)\" d=\"M1816.97 1517.37 Q1813.36 1517.37 1811.53 1520.93 Q1809.73 1524.47 1809.73 1531.6 Q1809.73 1538.71 1811.53 1542.27 Q1813.36 1545.82 1816.97 1545.82 Q1820.61 1545.82 1822.41 1542.27 Q1824.24 1538.71 1824.24 1531.6 Q1824.24 1524.47 1822.41 1520.93 Q1820.61 1517.37 1816.97 1517.37 M1816.97 1513.66 Q1822.78 1513.66 1825.84 1518.27 Q1828.92 1522.85 1828.92 1531.6 Q1828.92 1540.33 1825.84 1544.94 Q1822.78 1549.52 1816.97 1549.52 Q1811.16 1549.52 1808.08 1544.94 Q1805.03 1540.33 1805.03 1531.6 Q1805.03 1522.85 1808.08 1518.27 Q1811.16 1513.66 1816.97 1513.66 Z\" fill=\"#000000\" fill-rule=\"nonzero\" fill-opacity=\"1\" /><path clip-path=\"url(#clip410)\" d=\"M2236.74 1544.91 L2244.38 1544.91 L2244.38 1518.55 L2236.07 1520.21 L2236.07 1515.95 L2244.33 1514.29 L2249.01 1514.29 L2249.01 1544.91 L2256.65 1544.91 L2256.65 1548.85 L2236.74 1548.85 L2236.74 1544.91 Z\" fill=\"#000000\" fill-rule=\"nonzero\" fill-opacity=\"1\" /><path clip-path=\"url(#clip410)\" d=\"M2276.09 1517.37 Q2272.48 1517.37 2270.65 1520.93 Q2268.85 1524.47 2268.85 1531.6 Q2268.85 1538.71 2270.65 1542.27 Q2272.48 1545.82 2276.09 1545.82 Q2279.73 1545.82 2281.53 1542.27 Q2283.36 1538.71 2283.36 1531.6 Q2283.36 1524.47 2281.53 1520.93 Q2279.73 1517.37 2276.09 1517.37 M2276.09 1513.66 Q2281.9 1513.66 2284.96 1518.27 Q2288.04 1522.85 2288.04 1531.6 Q2288.04 1540.33 2284.96 1544.94 Q2281.9 1549.52 2276.09 1549.52 Q2270.28 1549.52 2267.2 1544.94 Q2264.15 1540.33 2264.15 1531.6 Q2264.15 1522.85 2267.2 1518.27 Q2270.28 1513.66 2276.09 1513.66 Z\" fill=\"#000000\" fill-rule=\"nonzero\" fill-opacity=\"1\" /><path clip-path=\"url(#clip410)\" d=\"M2306.25 1517.37 Q2302.64 1517.37 2300.81 1520.93 Q2299.01 1524.47 2299.01 1531.6 Q2299.01 1538.71 2300.81 1542.27 Q2302.64 1545.82 2306.25 1545.82 Q2309.89 1545.82 2311.69 1542.27 Q2313.52 1538.71 2313.52 1531.6 Q2313.52 1524.47 2311.69 1520.93 Q2309.89 1517.37 2306.25 1517.37 M2306.25 1513.66 Q2312.06 1513.66 2315.12 1518.27 Q2318.2 1522.85 2318.2 1531.6 Q2318.2 1540.33 2315.12 1544.94 Q2312.06 1549.52 2306.25 1549.52 Q2300.44 1549.52 2297.36 1544.94 Q2294.31 1540.33 2294.31 1531.6 Q2294.31 1522.85 2297.36 1518.27 Q2300.44 1513.66 2306.25 1513.66 Z\" fill=\"#000000\" fill-rule=\"nonzero\" fill-opacity=\"1\" /><path clip-path=\"url(#clip410)\" d=\"M2336.42 1517.37 Q2332.8 1517.37 2330.98 1520.93 Q2329.17 1524.47 2329.17 1531.6 Q2329.17 1538.71 2330.98 1542.27 Q2332.8 1545.82 2336.42 1545.82 Q2340.05 1545.82 2341.85 1542.27 Q2343.68 1538.71 2343.68 1531.6 Q2343.68 1524.47 2341.85 1520.93 Q2340.05 1517.37 2336.42 1517.37 M2336.42 1513.66 Q2342.23 1513.66 2345.28 1518.27 Q2348.36 1522.85 2348.36 1531.6 Q2348.36 1540.33 2345.28 1544.94 Q2342.23 1549.52 2336.42 1549.52 Q2330.6 1549.52 2327.53 1544.94 Q2324.47 1540.33 2324.47 1531.6 Q2324.47 1522.85 2327.53 1518.27 Q2330.6 1513.66 2336.42 1513.66 Z\" fill=\"#000000\" fill-rule=\"nonzero\" fill-opacity=\"1\" /><polyline clip-path=\"url(#clip410)\" style=\"stroke:#000000; stroke-linecap:round; stroke-linejoin:round; stroke-width:4; stroke-opacity:1; fill:none\" points=\"213.607,1486.45 213.607,47.2441 \"/>\n",
       "<polyline clip-path=\"url(#clip410)\" style=\"stroke:#000000; stroke-linecap:round; stroke-linejoin:round; stroke-width:4; stroke-opacity:1; fill:none\" points=\"213.607,1022.53 232.505,1022.53 \"/>\n",
       "<polyline clip-path=\"url(#clip410)\" style=\"stroke:#000000; stroke-linecap:round; stroke-linejoin:round; stroke-width:4; stroke-opacity:1; fill:none\" points=\"213.607,311.854 232.505,311.854 \"/>\n",
       "<path clip-path=\"url(#clip410)\" d=\"M51.6634 1042.33 L59.3023 1042.33 L59.3023 1015.96 L50.9921 1017.63 L50.9921 1013.37 L59.256 1011.7 L63.9319 1011.7 L63.9319 1042.33 L71.5707 1042.33 L71.5707 1046.26 L51.6634 1046.26 L51.6634 1042.33 Z\" fill=\"#000000\" fill-rule=\"nonzero\" fill-opacity=\"1\" /><path clip-path=\"url(#clip410)\" d=\"M91.0151 1014.78 Q87.404 1014.78 85.5753 1018.35 Q83.7697 1021.89 83.7697 1029.02 Q83.7697 1036.12 85.5753 1039.69 Q87.404 1043.23 91.0151 1043.23 Q94.6493 1043.23 96.4548 1039.69 Q98.2835 1036.12 98.2835 1029.02 Q98.2835 1021.89 96.4548 1018.35 Q94.6493 1014.78 91.0151 1014.78 M91.0151 1011.08 Q96.8252 1011.08 99.8808 1015.68 Q102.959 1020.27 102.959 1029.02 Q102.959 1037.74 99.8808 1042.35 Q96.8252 1046.93 91.0151 1046.93 Q85.2049 1046.93 82.1262 1042.35 Q79.0707 1037.74 79.0707 1029.02 Q79.0707 1020.27 82.1262 1015.68 Q85.2049 1011.08 91.0151 1011.08 Z\" fill=\"#000000\" fill-rule=\"nonzero\" fill-opacity=\"1\" /><path clip-path=\"url(#clip410)\" d=\"M102.959 1005.18 L127.071 1005.18 L127.071 1008.38 L102.959 1008.38 L102.959 1005.18 Z\" fill=\"#000000\" fill-rule=\"nonzero\" fill-opacity=\"1\" /><path clip-path=\"url(#clip410)\" d=\"M135.929 1015.65 L142.136 1015.65 L142.136 994.232 L135.384 995.587 L135.384 992.126 L142.098 990.772 L145.898 990.772 L145.898 1015.65 L152.104 1015.65 L152.104 1018.85 L135.929 1018.85 L135.929 1015.65 Z\" fill=\"#000000\" fill-rule=\"nonzero\" fill-opacity=\"1\" /><path clip-path=\"url(#clip410)\" d=\"M167.903 993.273 Q164.969 993.273 163.483 996.17 Q162.016 999.047 162.016 1004.84 Q162.016 1010.61 163.483 1013.51 Q164.969 1016.39 167.903 1016.39 Q170.855 1016.39 172.322 1013.51 Q173.808 1010.61 173.808 1004.84 Q173.808 999.047 172.322 996.17 Q170.855 993.273 167.903 993.273 M167.903 990.264 Q172.623 990.264 175.106 994.007 Q177.607 997.731 177.607 1004.84 Q177.607 1011.93 175.106 1015.67 Q172.623 1019.4 167.903 1019.4 Q163.182 1019.4 160.68 1015.67 Q158.198 1011.93 158.198 1004.84 Q158.198 997.731 160.68 994.007 Q163.182 990.264 167.903 990.264 Z\" fill=\"#000000\" fill-rule=\"nonzero\" fill-opacity=\"1\" /><path clip-path=\"url(#clip410)\" d=\"M106.902 331.646 L114.541 331.646 L114.541 305.281 L106.231 306.947 L106.231 302.688 L114.494 301.022 L119.17 301.022 L119.17 331.646 L126.809 331.646 L126.809 335.582 L106.902 335.582 L106.902 331.646 Z\" fill=\"#000000\" fill-rule=\"nonzero\" fill-opacity=\"1\" /><path clip-path=\"url(#clip410)\" d=\"M146.253 304.1 Q142.642 304.1 140.814 307.665 Q139.008 311.207 139.008 318.336 Q139.008 325.443 140.814 329.007 Q142.642 332.549 146.253 332.549 Q149.888 332.549 151.693 329.007 Q153.522 325.443 153.522 318.336 Q153.522 311.207 151.693 307.665 Q149.888 304.1 146.253 304.1 M146.253 300.397 Q152.064 300.397 155.119 305.003 Q158.198 309.586 158.198 318.336 Q158.198 327.063 155.119 331.67 Q152.064 336.253 146.253 336.253 Q140.443 336.253 137.365 331.67 Q134.309 327.063 134.309 318.336 Q134.309 309.586 137.365 305.003 Q140.443 300.397 146.253 300.397 Z\" fill=\"#000000\" fill-rule=\"nonzero\" fill-opacity=\"1\" /><path clip-path=\"url(#clip410)\" d=\"M167.903 282.593 Q164.969 282.593 163.483 285.489 Q162.016 288.367 162.016 294.159 Q162.016 299.933 163.483 302.83 Q164.969 305.707 167.903 305.707 Q170.855 305.707 172.322 302.83 Q173.808 299.933 173.808 294.159 Q173.808 288.367 172.322 285.489 Q170.855 282.593 167.903 282.593 M167.903 279.583 Q172.623 279.583 175.106 283.326 Q177.607 287.05 177.607 294.159 Q177.607 301.25 175.106 304.993 Q172.623 308.717 167.903 308.717 Q163.182 308.717 160.68 304.993 Q158.198 301.25 158.198 294.159 Q158.198 287.05 160.68 283.326 Q163.182 279.583 167.903 279.583 Z\" fill=\"#000000\" fill-rule=\"nonzero\" fill-opacity=\"1\" /><polyline clip-path=\"url(#clip412)\" style=\"stroke:#009af9; stroke-linecap:round; stroke-linejoin:round; stroke-width:4; stroke-opacity:1; fill:none\" points=\"274.149,322.067 276.169,358.829 278.19,403.334 280.21,454.149 282.23,510.261 284.25,570.923 286.27,635.57 288.29,703.757 290.31,775.127 292.33,849.387 294.35,926.293 296.37,1005.64 298.39,1087.25 300.411,1170.99 302.431,1257.02 304.451,1353.25 306.471,1402.93 308.491,1402.93 310.511,1402.93 312.531,1402.93 314.551,1402.93 316.571,1402.93 318.591,1402.93 320.611,1402.93 322.631,1402.93 324.652,1402.93 326.672,1402.93 328.692,1402.93 330.712,1402.93 332.732,1402.93 334.752,1402.93 336.772,1402.93 338.792,1402.93 340.812,1402.93 342.832,1402.93 344.852,1402.93 346.872,1402.93 348.893,1402.93 350.913,1402.93 352.933,1402.93 354.953,1402.93 356.973,1402.93 358.993,1402.93 361.013,1402.93 363.033,1402.93 365.053,1402.93 367.073,1402.93 369.093,1402.93 371.113,1402.93 373.134,1402.93 375.154,1402.93 377.174,1402.93 379.194,1402.93 381.214,1402.93 383.234,1402.93 385.254,1402.93 387.274,1402.93 389.294,1402.93 391.314,1402.93 393.334,1402.93 395.354,1402.93 397.375,1402.93 399.395,1402.93 401.415,1402.93 403.435,1402.93 405.455,1402.93 407.475,1402.93 409.495,1402.93 411.515,1402.93 413.535,1402.93 415.555,1402.93 417.575,1402.93 419.596,1402.93 421.616,1402.93 423.636,1402.93 425.656,1402.93 427.676,1402.93 429.696,1402.93 431.716,1402.93 433.736,1402.93 435.756,1402.93 437.776,1402.93 439.796,1402.93 441.816,1402.93 443.837,1402.93 445.857,1402.93 447.877,1402.93 449.897,1402.93 451.917,1402.93 453.937,1402.93 455.957,1402.93 457.977,1402.93 459.997,1402.93 462.017,1402.93 464.037,1402.93 466.057,1402.93 468.078,1402.93 470.098,1402.93 472.118,1402.93 474.138,1402.93 476.158,1402.93 478.178,1402.93 480.198,1402.93 482.218,1402.93 484.238,1402.93 486.258,1402.93 488.278,1402.93 490.298,1402.93 492.319,1402.93 494.339,1402.93 496.359,1402.93 498.379,1402.93 500.399,1402.93 502.419,1402.93 504.439,1402.93 506.459,1402.93 508.479,1402.93 510.499,1402.93 512.519,1402.93 514.539,1402.93 516.56,1402.93 518.58,1402.93 520.6,1402.93 522.62,1402.93 524.64,1402.93 526.66,1402.93 528.68,1402.93 530.7,1402.93 532.72,1402.93 534.74,1402.93 536.76,1402.93 538.781,1402.93 540.801,1402.93 542.821,1402.93 544.841,1402.93 546.861,1402.93 548.881,1402.93 550.901,1402.93 552.921,1402.93 554.941,1402.93 556.961,1402.93 558.981,1402.93 561.001,1402.93 563.022,1402.93 565.042,1402.93 567.062,1402.93 569.082,1402.93 571.102,1402.93 573.122,1402.93 575.142,1402.93 577.162,1402.93 579.182,1402.93 581.202,1402.93 583.222,1402.93 585.242,1402.93 587.263,1402.93 589.283,1402.93 591.303,1402.93 593.323,1402.93 595.343,1402.93 597.363,1402.93 599.383,1402.93 601.403,1402.93 603.423,1402.93 605.443,1402.93 607.463,1402.93 609.483,1402.93 611.504,1402.93 613.524,1402.93 615.544,1402.93 617.564,1402.93 619.584,1402.93 621.604,1402.93 623.624,1402.93 625.644,1402.93 627.664,1402.93 629.684,1402.93 631.704,1402.93 633.724,1402.93 635.745,1402.93 637.765,1402.93 639.785,1402.93 641.805,1402.93 643.825,1402.93 645.845,1402.93 647.865,1402.93 649.885,1402.93 651.905,1402.93 653.925,1402.93 655.945,1402.93 657.965,1402.93 659.986,1402.93 662.006,1402.93 664.026,1402.93 666.046,1402.93 668.066,1402.93 670.086,1402.93 672.106,1402.93 674.126,1402.93 676.146,1402.93 678.166,1402.93 680.186,1402.93 682.207,1402.93 684.227,1402.93 686.247,1402.93 688.267,1402.93 690.287,1402.93 692.307,1402.93 694.327,1402.93 696.347,1402.93 698.367,1402.93 700.387,1402.93 702.407,1402.93 704.427,1402.93 706.448,1402.93 708.468,1402.93 710.488,1402.93 712.508,1402.93 714.528,1402.93 716.548,1402.93 718.568,1402.93 720.588,1402.93 722.608,1402.93 724.628,1402.93 726.648,1402.93 728.668,1402.93 730.689,1402.93 732.709,1402.93 734.729,1402.93 736.749,1402.93 738.769,1402.93 740.789,1402.93 742.809,1402.93 744.829,1402.93 746.849,1402.93 748.869,1402.93 750.889,1402.93 752.909,1402.93 754.93,1402.93 756.95,1402.93 758.97,1402.93 760.99,1402.93 763.01,1402.93 765.03,1402.93 767.05,1402.93 769.07,1402.93 771.09,1402.93 773.11,1402.93 775.13,1402.93 777.15,1402.93 779.171,1402.93 781.191,1402.93 783.211,1402.93 785.231,1402.93 787.251,1402.93 789.271,1402.93 791.291,1402.93 793.311,1402.93 795.331,1402.93 797.351,1402.93 799.371,1402.93 801.392,1402.93 803.412,1402.93 805.432,1402.93 807.452,1402.93 809.472,1402.93 811.492,1402.93 813.512,1402.93 815.532,1402.93 817.552,1402.93 819.572,1402.93 821.592,1402.93 823.612,1402.93 825.633,1402.93 827.653,1402.93 829.673,1402.93 831.693,1402.93 833.713,1402.93 835.733,1402.93 837.753,1402.93 839.773,1402.93 841.793,1402.93 843.813,1402.93 845.833,1402.93 847.853,1402.93 849.874,1402.93 851.894,1402.93 853.914,1402.93 855.934,1402.93 857.954,1402.93 859.974,1402.93 861.994,1402.93 864.014,1402.93 866.034,1402.93 868.054,1402.93 870.074,1402.93 872.094,1402.93 874.115,1402.93 876.135,1402.93 878.155,1402.93 880.175,1402.93 882.195,1402.93 884.215,1402.93 886.235,1402.93 888.255,1402.93 890.275,1402.93 892.295,1402.93 894.315,1402.93 896.335,1402.93 898.356,1402.93 900.376,1402.93 902.396,1402.93 904.416,1402.93 906.436,1402.93 908.456,1402.93 910.476,1402.93 912.496,1402.93 914.516,1402.93 916.536,1402.93 918.556,1402.93 920.576,1402.93 922.597,1402.93 924.617,1402.93 926.637,1402.93 928.657,1402.93 930.677,1402.93 932.697,1402.93 934.717,1402.93 936.737,1402.93 938.757,1402.93 940.777,1402.93 942.797,1402.93 944.818,1402.93 946.838,1402.93 948.858,1402.93 950.878,1402.93 952.898,1402.93 954.918,1402.93 956.938,1402.93 958.958,1402.93 960.978,1402.93 962.998,1402.93 965.018,1402.93 967.038,1402.93 969.059,1402.93 971.079,1402.93 973.099,1402.93 975.119,1402.93 977.139,1402.93 979.159,1402.93 981.179,1402.93 983.199,1402.93 985.219,1402.93 987.239,1402.93 989.259,1402.93 991.279,1402.93 993.3,1402.93 995.32,1402.93 997.34,1402.93 999.36,1402.93 1001.38,1402.93 1003.4,1402.93 1005.42,1402.93 1007.44,1402.93 1009.46,1402.93 1011.48,1402.93 1013.5,1402.93 1015.52,1402.93 1017.54,1402.93 1019.56,1402.93 1021.58,1402.93 1023.6,1402.93 1025.62,1402.93 1027.64,1402.93 1029.66,1402.93 1031.68,1402.93 1033.7,1402.93 1035.72,1402.93 1037.74,1402.93 1039.76,1402.93 1041.78,1402.93 1043.8,1402.93 1045.82,1402.93 1047.84,1402.93 1049.86,1402.93 1051.88,1402.93 1053.9,1402.93 1055.92,1402.93 1057.94,1402.93 1059.96,1402.93 1061.98,1402.93 1064,1402.93 1066.02,1402.93 1068.04,1402.93 1070.06,1402.93 1072.08,1402.93 1074.1,1402.93 1076.12,1402.93 1078.14,1402.93 1080.16,1402.93 1082.18,1402.93 1084.2,1402.93 1086.22,1402.93 1088.24,1402.93 1090.26,1402.93 1092.28,1402.93 1094.3,1402.93 1096.32,1402.93 1098.34,1402.93 1100.36,1402.93 1102.38,1402.93 1104.4,1402.93 1106.42,1402.93 1108.44,1402.93 1110.46,1402.93 1112.48,1402.93 1114.5,1402.93 1116.52,1402.93 1118.54,1402.93 1120.56,1402.93 1122.58,1402.93 1124.61,1402.93 1126.63,1402.93 1128.65,1402.93 1130.67,1402.93 1132.69,1402.93 1134.71,1402.93 1136.73,1402.93 1138.75,1402.93 1140.77,1402.93 1142.79,1402.93 1144.81,1402.93 1146.83,1402.93 1148.85,1402.93 1150.87,1402.93 1152.89,1402.93 1154.91,1402.93 1156.93,1402.93 1158.95,1402.93 1160.97,1402.93 1162.99,1402.93 1165.01,1402.93 1167.03,1402.93 1169.05,1402.93 1171.07,1402.93 1173.09,1402.93 1175.11,1402.93 1177.13,1402.93 1179.15,1402.93 1181.17,1402.93 1183.19,1402.93 1185.21,1402.93 1187.23,1402.93 1189.25,1402.93 1191.27,1402.93 1193.29,1402.93 1195.31,1402.93 1197.33,1402.93 1199.35,1402.93 1201.37,1402.93 1203.39,1402.93 1205.41,1402.93 1207.43,1402.93 1209.45,1402.93 1211.47,1402.93 1213.49,1402.93 1215.51,1402.93 1217.53,1402.93 1219.55,1402.93 1221.57,1402.93 1223.59,1402.93 1225.61,1402.93 1227.63,1402.93 1229.65,1402.93 1231.67,1402.93 1233.69,1402.93 1235.71,1402.93 1237.73,1402.93 1239.75,1402.93 1241.77,1402.93 1243.79,1402.93 1245.81,1402.93 1247.83,1402.93 1249.85,1402.93 1251.87,1402.93 1253.89,1402.93 1255.91,1402.93 1257.93,1402.93 1259.95,1402.93 1261.97,1402.93 1263.99,1402.93 1266.01,1402.93 1268.03,1402.93 1270.05,1402.93 1272.07,1402.93 1274.09,1402.93 1276.11,1402.93 1278.13,1402.93 1280.15,1402.93 1282.17,1402.93 1284.19,1402.93 1286.21,1402.93 1288.23,1402.93 1290.25,1402.93 1292.27,1402.93 1294.29,1402.93 1296.31,1402.93 1298.33,1402.93 1300.35,1402.93 1302.37,1402.93 1304.39,1402.93 1306.41,1402.93 1308.43,1402.93 1310.45,1402.93 1312.47,1402.93 1314.49,1402.93 1316.51,1402.93 1318.53,1402.93 1320.55,1402.93 1322.57,1402.93 1324.59,1402.93 1326.61,1402.93 1328.63,1402.93 1330.65,1402.93 1332.67,1402.93 1334.69,1402.93 1336.71,1402.93 1338.73,1402.93 1340.75,1402.93 1342.77,1402.93 1344.79,1402.93 1346.81,1402.93 1348.83,1402.93 1350.85,1402.93 1352.87,1402.93 1354.89,1402.93 1356.91,1402.93 1358.93,1402.93 1360.95,1402.93 1362.98,1402.93 1365,1402.93 1367.02,1402.93 1369.04,1402.93 1371.06,1402.93 1373.08,1402.93 1375.1,1402.93 1377.12,1402.93 1379.14,1402.93 1381.16,1402.93 1383.18,1402.93 1385.2,1402.93 1387.22,1402.93 1389.24,1402.93 1391.26,1402.93 1393.28,1402.93 1395.3,1402.93 1397.32,1402.93 1399.34,1402.93 1401.36,1402.93 1403.38,1402.93 1405.4,1402.93 1407.42,1402.93 1409.44,1402.93 1411.46,1402.93 1413.48,1402.93 1415.5,1402.93 1417.52,1402.93 1419.54,1402.93 1421.56,1402.93 1423.58,1402.93 1425.6,1402.93 1427.62,1402.93 1429.64,1402.93 1431.66,1402.93 1433.68,1402.93 1435.7,1402.93 1437.72,1402.93 1439.74,1402.93 1441.76,1402.93 1443.78,1402.93 1445.8,1402.93 1447.82,1402.93 1449.84,1402.93 1451.86,1402.93 1453.88,1402.93 1455.9,1402.93 1457.92,1402.93 1459.94,1402.93 1461.96,1402.93 1463.98,1402.93 1466,1402.93 1468.02,1402.93 1470.04,1402.93 1472.06,1402.93 1474.08,1402.93 1476.1,1402.93 1478.12,1402.93 1480.14,1402.93 1482.16,1402.93 1484.18,1402.93 1486.2,1402.93 1488.22,1402.93 1490.24,1402.93 1492.26,1402.93 1494.28,1402.93 1496.3,1402.93 1498.32,1402.93 1500.34,1402.93 1502.36,1402.93 1504.38,1402.93 1506.4,1402.93 1508.42,1402.93 1510.44,1402.93 1512.46,1402.93 1514.48,1402.93 1516.5,1402.93 1518.52,1402.93 1520.54,1402.93 1522.56,1402.93 1524.58,1402.93 1526.6,1402.93 1528.62,1402.93 1530.64,1402.93 1532.66,1402.93 1534.68,1402.93 1536.7,1402.93 1538.72,1402.93 1540.74,1402.93 1542.76,1402.93 1544.78,1402.93 1546.8,1402.93 1548.82,1402.93 1550.84,1402.93 1552.86,1402.93 1554.88,1402.93 1556.9,1402.93 1558.92,1402.93 1560.94,1402.93 1562.96,1402.93 1564.98,1402.93 1567,1402.93 1569.02,1402.93 1571.04,1402.93 1573.06,1402.93 1575.08,1402.93 1577.1,1402.93 1579.12,1402.93 1581.14,1402.93 1583.16,1402.93 1585.18,1402.93 1587.2,1402.93 1589.22,1402.93 1591.24,1402.93 1593.26,1402.93 1595.28,1402.93 1597.3,1402.93 1599.32,1402.93 1601.35,1402.93 1603.37,1402.93 1605.39,1402.93 1607.41,1402.93 1609.43,1402.93 1611.45,1402.93 1613.47,1402.93 1615.49,1402.93 1617.51,1402.93 1619.53,1402.93 1621.55,1402.93 1623.57,1402.93 1625.59,1402.93 1627.61,1402.93 1629.63,1402.93 1631.65,1402.93 1633.67,1402.93 1635.69,1402.93 1637.71,1402.93 1639.73,1402.93 1641.75,1402.93 1643.77,1402.93 1645.79,1402.93 1647.81,1402.93 1649.83,1402.93 1651.85,1402.93 1653.87,1402.93 1655.89,1402.93 1657.91,1402.93 1659.93,1402.93 1661.95,1402.93 1663.97,1402.93 1665.99,1402.93 1668.01,1402.93 1670.03,1402.93 1672.05,1402.93 1674.07,1402.93 1676.09,1402.93 1678.11,1402.93 1680.13,1402.93 1682.15,1402.93 1684.17,1402.93 1686.19,1402.93 1688.21,1402.93 1690.23,1402.93 1692.25,1402.93 1694.27,1402.93 1696.29,1402.93 1698.31,1402.93 1700.33,1402.93 1702.35,1402.93 1704.37,1402.93 1706.39,1402.93 1708.41,1402.93 1710.43,1402.93 1712.45,1402.93 1714.47,1402.93 1716.49,1402.93 1718.51,1402.93 1720.53,1402.93 1722.55,1402.93 1724.57,1402.93 1726.59,1402.93 1728.61,1402.93 1730.63,1402.93 1732.65,1402.93 1734.67,1402.93 1736.69,1402.93 1738.71,1402.93 1740.73,1402.93 1742.75,1402.93 1744.77,1402.93 1746.79,1402.93 1748.81,1402.93 1750.83,1402.93 1752.85,1402.93 1754.87,1402.93 1756.89,1402.93 1758.91,1402.93 1760.93,1402.93 1762.95,1402.93 1764.97,1402.93 1766.99,1402.93 1769.01,1402.93 1771.03,1402.93 1773.05,1402.93 1775.07,1402.93 1777.09,1402.93 1779.11,1402.93 1781.13,1402.93 1783.15,1402.93 1785.17,1402.93 1787.19,1402.93 1789.21,1402.93 1791.23,1402.93 1793.25,1402.93 1795.27,1402.93 1797.29,1402.93 1799.31,1402.93 1801.33,1402.93 1803.35,1402.93 1805.37,1402.93 1807.39,1402.93 1809.41,1402.93 1811.43,1402.93 1813.45,1402.93 1815.47,1402.93 1817.49,1402.93 1819.51,1402.93 1821.53,1402.93 1823.55,1402.93 1825.57,1402.93 1827.59,1402.93 1829.61,1402.93 1831.63,1402.93 1833.65,1402.93 1835.67,1402.93 1837.69,1402.93 1839.72,1402.93 1841.74,1402.93 1843.76,1402.93 1845.78,1402.93 1847.8,1402.93 1849.82,1402.93 1851.84,1402.93 1853.86,1402.93 1855.88,1402.93 1857.9,1402.93 1859.92,1402.93 1861.94,1402.93 1863.96,1402.93 1865.98,1402.93 1868,1402.93 1870.02,1402.93 1872.04,1402.93 1874.06,1402.93 1876.08,1402.93 1878.1,1402.93 1880.12,1402.93 1882.14,1402.93 1884.16,1402.93 1886.18,1402.93 1888.2,1402.93 1890.22,1402.93 1892.24,1402.93 1894.26,1402.93 1896.28,1402.93 1898.3,1402.93 1900.32,1402.93 1902.34,1402.93 1904.36,1402.93 1906.38,1402.93 1908.4,1402.93 1910.42,1402.93 1912.44,1402.93 1914.46,1402.93 1916.48,1402.93 1918.5,1402.93 1920.52,1402.93 1922.54,1402.93 1924.56,1402.93 1926.58,1402.93 1928.6,1402.93 1930.62,1402.93 1932.64,1402.93 1934.66,1402.93 1936.68,1402.93 1938.7,1402.93 1940.72,1402.93 1942.74,1402.93 1944.76,1402.93 1946.78,1402.93 1948.8,1402.93 1950.82,1402.93 1952.84,1402.93 1954.86,1402.93 1956.88,1402.93 1958.9,1402.93 1960.92,1402.93 1962.94,1402.93 1964.96,1402.93 1966.98,1402.93 1969,1402.93 1971.02,1402.93 1973.04,1402.93 1975.06,1402.93 1977.08,1402.93 1979.1,1402.93 1981.12,1402.93 1983.14,1402.93 1985.16,1402.93 1987.18,1402.93 1989.2,1402.93 1991.22,1402.93 1993.24,1402.93 1995.26,1402.93 1997.28,1402.93 1999.3,1402.93 2001.32,1402.93 2003.34,1402.93 2005.36,1402.93 2007.38,1402.93 2009.4,1402.93 2011.42,1402.93 2013.44,1402.93 2015.46,1402.93 2017.48,1402.93 2019.5,1402.93 2021.52,1402.93 2023.54,1402.93 2025.56,1402.93 2027.58,1402.93 2029.6,1402.93 2031.62,1402.93 2033.64,1402.93 2035.66,1402.93 2037.68,1402.93 2039.7,1402.93 2041.72,1402.93 2043.74,1402.93 2045.76,1402.93 2047.78,1402.93 2049.8,1402.93 2051.82,1402.93 2053.84,1402.93 2055.86,1402.93 2057.88,1402.93 2059.9,1402.93 2061.92,1402.93 2063.94,1402.93 2065.96,1402.93 2067.98,1402.93 2070,1402.93 2072.02,1402.93 2074.04,1402.93 2076.06,1402.93 2078.08,1402.93 2080.11,1402.93 2082.13,1402.93 2084.15,1402.93 2086.17,1402.93 2088.19,1402.93 2090.21,1402.93 2092.23,1402.93 2094.25,1402.93 2096.27,1402.93 2098.29,1402.93 2100.31,1402.93 2102.33,1402.93 2104.35,1402.93 2106.37,1402.93 2108.39,1402.93 2110.41,1402.93 2112.43,1402.93 2114.45,1402.93 2116.47,1402.93 2118.49,1402.93 2120.51,1402.93 2122.53,1402.93 2124.55,1402.93 2126.57,1402.93 2128.59,1402.93 2130.61,1402.93 2132.63,1402.93 2134.65,1402.93 2136.67,1402.93 2138.69,1402.93 2140.71,1402.93 2142.73,1402.93 2144.75,1402.93 2146.77,1402.93 2148.79,1402.93 2150.81,1402.93 2152.83,1402.93 2154.85,1402.93 2156.87,1402.93 2158.89,1402.93 2160.91,1402.93 2162.93,1402.93 2164.95,1402.93 2166.97,1402.93 2168.99,1402.93 2171.01,1402.93 2173.03,1402.93 2175.05,1402.93 2177.07,1402.93 2179.09,1402.93 2181.11,1402.93 2183.13,1402.93 2185.15,1402.93 2187.17,1402.93 2189.19,1402.93 2191.21,1402.93 2193.23,1402.93 2195.25,1402.93 2197.27,1402.93 2199.29,1402.93 2201.31,1402.93 2203.33,1402.93 2205.35,1402.93 2207.37,1402.93 2209.39,1402.93 2211.41,1402.93 2213.43,1402.93 2215.45,1402.93 2217.47,1402.93 2219.49,1402.93 2221.51,1402.93 2223.53,1402.93 2225.55,1402.93 2227.57,1402.93 2229.59,1402.93 2231.61,1402.93 2233.63,1402.93 2235.65,1402.93 2237.67,1402.93 2239.69,1402.93 2241.71,1402.93 2243.73,1402.93 2245.75,1402.93 2247.77,1402.93 2249.79,1402.93 2251.81,1402.93 2253.83,1402.93 2255.85,1402.93 2257.87,1402.93 2259.89,1402.93 2261.91,1402.93 2263.93,1402.93 2265.95,1402.93 2267.97,1402.93 2269.99,1402.93 2272.01,1402.93 2274.03,1402.93 2276.05,1402.93 2278.07,1402.93 2280.09,1402.93 2282.11,1402.93 2284.13,1402.93 2286.15,1402.93 2288.17,1402.93 2290.19,1402.93 2292.21,1402.93 \"/>\n",
       "<polyline clip-path=\"url(#clip412)\" style=\"stroke:#e26f46; stroke-linecap:round; stroke-linejoin:round; stroke-width:4; stroke-opacity:1; fill:none\" points=\"274.149,334.107 276.169,367.734 278.19,410.354 280.21,459.923 282.23,515.155 284.25,575.166 286.27,639.311 288.29,707.102 290.31,778.15 292.33,852.144 294.35,928.827 296.37,1007.98 298.39,1089.43 300.411,1173 302.431,1258.51 304.451,1346.37 \"/>\n",
       "<polyline clip-path=\"url(#clip412)\" style=\"stroke:#e26f46; stroke-linecap:round; stroke-linejoin:round; stroke-width:4; stroke-opacity:1; fill:none\" points=\"308.491,1445.72 310.511,1445.72 312.531,1445.72 314.551,1445.72 316.571,1445.72 318.591,1445.72 320.611,1445.72 322.631,1445.72 324.652,1445.72 326.672,1445.72 328.692,1445.72 330.712,1445.72 332.732,1445.72 334.752,1445.72 336.772,1445.72 338.792,1445.72 340.812,1445.72 342.832,1445.72 344.852,1445.72 346.872,1445.72 348.893,1445.72 350.913,1445.72 352.933,1445.72 354.953,1445.72 356.973,1445.72 358.993,1445.72 361.013,1445.72 363.033,1445.72 365.053,1445.72 367.073,1445.72 369.093,1445.72 371.113,1445.72 373.134,1445.72 375.154,1445.72 377.174,1445.72 379.194,1445.72 381.214,1445.72 383.234,1445.72 385.254,1445.72 387.274,1445.72 389.294,1445.72 391.314,1445.72 393.334,1445.72 395.354,1445.72 397.375,1445.72 399.395,1445.72 401.415,1445.72 403.435,1445.72 405.455,1445.72 407.475,1445.72 409.495,1445.72 411.515,1445.72 413.535,1445.72 415.555,1445.72 417.575,1445.72 419.596,1445.72 421.616,1445.72 423.636,1445.72 425.656,1445.72 427.676,1445.72 429.696,1445.72 431.716,1445.72 433.736,1445.72 435.756,1445.72 437.776,1445.72 439.796,1445.72 441.816,1445.72 443.837,1445.72 445.857,1445.72 447.877,1445.72 449.897,1445.72 451.917,1445.72 453.937,1445.72 455.957,1445.72 457.977,1445.72 459.997,1445.72 462.017,1445.72 464.037,1445.72 466.057,1445.72 468.078,1445.72 470.098,1445.72 472.118,1445.72 474.138,1445.72 476.158,1445.72 478.178,1445.72 480.198,1445.72 482.218,1445.72 484.238,1445.72 486.258,1445.72 488.278,1445.72 490.298,1445.72 492.319,1445.72 494.339,1445.72 496.359,1445.72 498.379,1445.72 500.399,1445.72 502.419,1445.72 504.439,1445.72 506.459,1445.72 508.479,1445.72 510.499,1445.72 512.519,1445.72 514.539,1445.72 516.56,1445.72 518.58,1445.72 520.6,1445.72 522.62,1445.72 524.64,1445.72 526.66,1445.72 528.68,1445.72 530.7,1445.72 532.72,1445.72 534.74,1445.72 536.76,1445.72 538.781,1445.72 540.801,1445.72 542.821,1445.72 544.841,1445.72 546.861,1445.72 548.881,1445.72 550.901,1445.72 552.921,1445.72 554.941,1445.72 556.961,1445.72 558.981,1445.72 561.001,1445.72 563.022,1445.72 565.042,1445.72 567.062,1445.72 569.082,1445.72 571.102,1445.72 573.122,1445.72 575.142,1445.72 577.162,1445.72 579.182,1445.72 581.202,1445.72 583.222,1445.72 585.242,1445.72 587.263,1445.72 589.283,1445.72 591.303,1445.72 593.323,1445.72 595.343,1445.72 597.363,1445.72 599.383,1445.72 601.403,1445.72 603.423,1445.72 605.443,1445.72 607.463,1445.72 609.483,1445.72 611.504,1445.72 613.524,1445.72 615.544,1445.72 617.564,1445.72 619.584,1445.72 621.604,1445.72 623.624,1445.72 625.644,1445.72 627.664,1445.72 629.684,1445.72 631.704,1445.72 633.724,1445.72 635.745,1445.72 637.765,1445.72 639.785,1445.72 641.805,1445.72 643.825,1445.72 645.845,1445.72 647.865,1445.72 649.885,1445.72 651.905,1445.72 653.925,1445.72 655.945,1445.72 657.965,1445.72 659.986,1445.72 662.006,1445.72 664.026,1445.72 666.046,1445.72 668.066,1445.72 670.086,1445.72 672.106,1445.72 674.126,1445.72 676.146,1445.72 678.166,1445.72 680.186,1445.72 682.207,1445.72 684.227,1445.72 686.247,1445.72 688.267,1445.72 690.287,1445.72 692.307,1445.72 694.327,1445.72 696.347,1445.72 698.367,1445.72 700.387,1445.72 702.407,1445.72 704.427,1445.72 706.448,1445.72 708.468,1445.72 710.488,1445.72 712.508,1445.72 714.528,1445.72 716.548,1445.72 718.568,1445.72 720.588,1445.72 722.608,1445.72 724.628,1445.72 726.648,1445.72 728.668,1445.72 730.689,1445.72 732.709,1445.72 734.729,1445.72 736.749,1445.72 738.769,1445.72 740.789,1445.72 742.809,1445.72 744.829,1445.72 746.849,1445.72 748.869,1445.72 750.889,1445.72 752.909,1445.72 754.93,1445.72 756.95,1445.72 758.97,1445.72 760.99,1445.72 763.01,1445.72 765.03,1445.72 767.05,1445.72 769.07,1445.72 771.09,1445.72 773.11,1445.72 775.13,1445.72 777.15,1445.72 779.171,1445.72 781.191,1445.72 783.211,1445.72 785.231,1445.72 787.251,1445.72 789.271,1445.72 791.291,1445.72 793.311,1445.72 795.331,1445.72 797.351,1445.72 799.371,1445.72 801.392,1445.72 803.412,1445.72 805.432,1445.72 807.452,1445.72 809.472,1445.72 811.492,1445.72 813.512,1445.72 815.532,1445.72 817.552,1445.72 819.572,1445.72 821.592,1445.72 823.612,1445.72 825.633,1445.72 827.653,1445.72 829.673,1445.72 831.693,1445.72 833.713,1445.72 835.733,1445.72 837.753,1445.72 839.773,1445.72 841.793,1445.72 843.813,1445.72 845.833,1445.72 847.853,1445.72 849.874,1445.72 851.894,1445.72 853.914,1445.72 855.934,1445.72 857.954,1445.72 859.974,1445.72 861.994,1445.72 864.014,1445.72 866.034,1445.72 868.054,1445.72 870.074,1445.72 872.094,1445.72 874.115,1445.72 876.135,1445.72 878.155,1445.72 880.175,1445.72 882.195,1445.72 884.215,1445.72 886.235,1445.72 888.255,1445.72 890.275,1445.72 892.295,1445.72 894.315,1445.72 896.335,1445.72 898.356,1445.72 900.376,1445.72 902.396,1445.72 904.416,1445.72 906.436,1445.72 908.456,1445.72 910.476,1445.72 912.496,1445.72 914.516,1445.72 916.536,1445.72 918.556,1445.72 920.576,1445.72 922.597,1445.72 924.617,1445.72 926.637,1445.72 928.657,1445.72 930.677,1445.72 932.697,1445.72 934.717,1445.72 936.737,1445.72 938.757,1445.72 940.777,1445.72 942.797,1445.72 944.818,1445.72 946.838,1445.72 948.858,1445.72 950.878,1445.72 952.898,1445.72 954.918,1445.72 956.938,1445.72 958.958,1445.72 960.978,1445.72 962.998,1445.72 965.018,1445.72 967.038,1445.72 969.059,1445.72 971.079,1445.72 973.099,1445.72 975.119,1445.72 977.139,1445.72 979.159,1445.72 981.179,1445.72 983.199,1445.72 985.219,1445.72 987.239,1445.72 989.259,1445.72 991.279,1445.72 993.3,1445.72 995.32,1445.72 997.34,1445.72 999.36,1445.72 1001.38,1445.72 1003.4,1445.72 1005.42,1445.72 1007.44,1445.72 1009.46,1445.72 1011.48,1445.72 1013.5,1445.72 1015.52,1445.72 1017.54,1445.72 1019.56,1445.72 1021.58,1445.72 1023.6,1445.72 1025.62,1445.72 1027.64,1445.72 1029.66,1445.72 1031.68,1445.72 1033.7,1445.72 1035.72,1445.72 1037.74,1445.72 1039.76,1445.72 1041.78,1445.72 1043.8,1445.72 1045.82,1445.72 1047.84,1445.72 1049.86,1445.72 1051.88,1445.72 1053.9,1445.72 1055.92,1445.72 1057.94,1445.72 1059.96,1445.72 1061.98,1445.72 1064,1445.72 1066.02,1445.72 1068.04,1445.72 1070.06,1445.72 1072.08,1445.72 1074.1,1445.72 1076.12,1445.72 1078.14,1445.72 1080.16,1445.72 1082.18,1445.72 1084.2,1445.72 1086.22,1445.72 1088.24,1445.72 1090.26,1445.72 1092.28,1445.72 1094.3,1445.72 1096.32,1445.72 1098.34,1445.72 1100.36,1445.72 1102.38,1445.72 1104.4,1445.72 1106.42,1445.72 1108.44,1445.72 1110.46,1445.72 1112.48,1445.72 1114.5,1445.72 1116.52,1445.72 1118.54,1445.72 1120.56,1445.72 1122.58,1445.72 1124.61,1445.72 1126.63,1445.72 1128.65,1445.72 1130.67,1445.72 1132.69,1445.72 1134.71,1445.72 1136.73,1445.72 1138.75,1445.72 1140.77,1445.72 1142.79,1445.72 1144.81,1445.72 1146.83,1445.72 1148.85,1445.72 1150.87,1445.72 1152.89,1445.72 1154.91,1445.72 1156.93,1445.72 1158.95,1445.72 1160.97,1445.72 1162.99,1445.72 1165.01,1445.72 1167.03,1445.72 1169.05,1445.72 1171.07,1445.72 1173.09,1445.72 1175.11,1445.72 1177.13,1445.72 1179.15,1445.72 1181.17,1445.72 1183.19,1445.72 1185.21,1445.72 1187.23,1445.72 1189.25,1445.72 1191.27,1445.72 1193.29,1445.72 1195.31,1445.72 1197.33,1445.72 1199.35,1445.72 1201.37,1445.72 1203.39,1445.72 1205.41,1445.72 1207.43,1445.72 1209.45,1445.72 1211.47,1445.72 1213.49,1445.72 1215.51,1445.72 1217.53,1445.72 1219.55,1445.72 1221.57,1445.72 1223.59,1445.72 1225.61,1445.72 1227.63,1445.72 1229.65,1445.72 1231.67,1445.72 1233.69,1445.72 1235.71,1445.72 1237.73,1445.72 1239.75,1445.72 1241.77,1445.72 1243.79,1445.72 1245.81,1445.72 1247.83,1445.72 1249.85,1445.72 1251.87,1445.72 1253.89,1445.72 1255.91,1445.72 1257.93,1445.72 1259.95,1445.72 1261.97,1445.72 1263.99,1445.72 1266.01,1445.72 1268.03,1445.72 1270.05,1445.72 1272.07,1445.72 1274.09,1445.72 1276.11,1445.72 1278.13,1445.72 1280.15,1445.72 1282.17,1445.72 1284.19,1445.72 1286.21,1445.72 1288.23,1445.72 1290.25,1445.72 1292.27,1445.72 1294.29,1445.72 1296.31,1445.72 1298.33,1445.72 1300.35,1445.72 1302.37,1445.72 1304.39,1445.72 1306.41,1445.72 1308.43,1445.72 1310.45,1445.72 1312.47,1445.72 1314.49,1445.72 1316.51,1445.72 1318.53,1445.72 1320.55,1445.72 1322.57,1445.72 1324.59,1445.72 1326.61,1445.72 1328.63,1445.72 1330.65,1445.72 1332.67,1445.72 1334.69,1445.72 1336.71,1445.72 1338.73,1445.72 1340.75,1445.72 1342.77,1445.72 1344.79,1445.72 1346.81,1445.72 1348.83,1445.72 1350.85,1445.72 1352.87,1445.72 1354.89,1445.72 1356.91,1445.72 1358.93,1445.72 1360.95,1445.72 1362.98,1445.72 1365,1445.72 1367.02,1445.72 1369.04,1445.72 1371.06,1445.72 1373.08,1445.72 1375.1,1445.72 1377.12,1445.72 1379.14,1445.72 1381.16,1445.72 1383.18,1445.72 1385.2,1445.72 1387.22,1445.72 1389.24,1445.72 1391.26,1445.72 1393.28,1445.72 1395.3,1445.72 1397.32,1445.72 1399.34,1445.72 1401.36,1445.72 1403.38,1445.72 1405.4,1445.72 1407.42,1445.72 1409.44,1445.72 1411.46,1445.72 1413.48,1445.72 1415.5,1445.72 1417.52,1445.72 1419.54,1445.72 1421.56,1445.72 1423.58,1445.72 1425.6,1445.72 1427.62,1445.72 1429.64,1445.72 1431.66,1445.72 1433.68,1445.72 1435.7,1445.72 1437.72,1445.72 1439.74,1445.72 1441.76,1445.72 1443.78,1445.72 1445.8,1445.72 1447.82,1445.72 1449.84,1445.72 1451.86,1445.72 1453.88,1445.72 1455.9,1445.72 1457.92,1445.72 1459.94,1445.72 1461.96,1445.72 1463.98,1445.72 1466,1445.72 1468.02,1445.72 1470.04,1445.72 1472.06,1445.72 1474.08,1445.72 1476.1,1445.72 1478.12,1445.72 1480.14,1445.72 1482.16,1445.72 1484.18,1445.72 1486.2,1445.72 1488.22,1445.72 1490.24,1445.72 1492.26,1445.72 1494.28,1445.72 1496.3,1445.72 1498.32,1445.72 1500.34,1445.72 1502.36,1445.72 1504.38,1445.72 1506.4,1445.72 1508.42,1445.72 1510.44,1445.72 1512.46,1445.72 1514.48,1445.72 1516.5,1445.72 1518.52,1445.72 1520.54,1445.72 1522.56,1445.72 1524.58,1445.72 1526.6,1445.72 1528.62,1445.72 1530.64,1445.72 1532.66,1445.72 1534.68,1445.72 1536.7,1445.72 1538.72,1445.72 1540.74,1445.72 1542.76,1445.72 1544.78,1445.72 1546.8,1445.72 1548.82,1445.72 1550.84,1445.72 1552.86,1445.72 1554.88,1445.72 1556.9,1445.72 1558.92,1445.72 1560.94,1445.72 1562.96,1445.72 1564.98,1445.72 1567,1445.72 1569.02,1445.72 1571.04,1445.72 1573.06,1445.72 1575.08,1445.72 1577.1,1445.72 1579.12,1445.72 1581.14,1445.72 1583.16,1445.72 1585.18,1445.72 1587.2,1445.72 1589.22,1445.72 1591.24,1445.72 1593.26,1445.72 1595.28,1445.72 1597.3,1445.72 1599.32,1445.72 1601.35,1445.72 1603.37,1445.72 1605.39,1445.72 1607.41,1445.72 1609.43,1445.72 1611.45,1445.72 1613.47,1445.72 1615.49,1445.72 1617.51,1445.72 1619.53,1445.72 1621.55,1445.72 1623.57,1445.72 1625.59,1445.72 1627.61,1445.72 1629.63,1445.72 1631.65,1445.72 1633.67,1445.72 1635.69,1445.72 1637.71,1445.72 1639.73,1445.72 1641.75,1445.72 1643.77,1445.72 1645.79,1445.72 1647.81,1445.72 1649.83,1445.72 1651.85,1445.72 1653.87,1445.72 1655.89,1445.72 1657.91,1445.72 1659.93,1445.72 1661.95,1445.72 1663.97,1445.72 1665.99,1445.72 1668.01,1445.72 1670.03,1445.72 1672.05,1445.72 1674.07,1445.72 1676.09,1445.72 1678.11,1445.72 1680.13,1445.72 1682.15,1445.72 1684.17,1445.72 1686.19,1445.72 1688.21,1445.72 1690.23,1445.72 1692.25,1445.72 1694.27,1445.72 1696.29,1445.72 1698.31,1445.72 1700.33,1445.72 1702.35,1445.72 1704.37,1445.72 1706.39,1445.72 1708.41,1445.72 1710.43,1445.72 1712.45,1445.72 1714.47,1445.72 1716.49,1445.72 1718.51,1445.72 1720.53,1445.72 1722.55,1445.72 1724.57,1445.72 1726.59,1445.72 1728.61,1445.72 1730.63,1445.72 1732.65,1445.72 1734.67,1445.72 1736.69,1445.72 1738.71,1445.72 1740.73,1445.72 1742.75,1445.72 1744.77,1445.72 1746.79,1445.72 1748.81,1445.72 1750.83,1445.72 1752.85,1445.72 1754.87,1445.72 1756.89,1445.72 1758.91,1445.72 1760.93,1445.72 1762.95,1445.72 1764.97,1445.72 1766.99,1445.72 1769.01,1445.72 1771.03,1445.72 1773.05,1445.72 1775.07,1445.72 1777.09,1445.72 1779.11,1445.72 1781.13,1445.72 1783.15,1445.72 1785.17,1445.72 1787.19,1445.72 1789.21,1445.72 1791.23,1445.72 1793.25,1445.72 1795.27,1445.72 1797.29,1445.72 1799.31,1445.72 1801.33,1445.72 1803.35,1445.72 1805.37,1445.72 1807.39,1445.72 1809.41,1445.72 1811.43,1445.72 1813.45,1445.72 1815.47,1445.72 1817.49,1445.72 1819.51,1445.72 1821.53,1445.72 1823.55,1445.72 1825.57,1445.72 1827.59,1445.72 1829.61,1445.72 1831.63,1445.72 1833.65,1445.72 1835.67,1445.72 1837.69,1445.72 1839.72,1445.72 1841.74,1445.72 1843.76,1445.72 1845.78,1445.72 1847.8,1445.72 1849.82,1445.72 1851.84,1445.72 1853.86,1445.72 1855.88,1445.72 1857.9,1445.72 1859.92,1445.72 1861.94,1445.72 1863.96,1445.72 1865.98,1445.72 1868,1445.72 1870.02,1445.72 1872.04,1445.72 1874.06,1445.72 1876.08,1445.72 1878.1,1445.72 1880.12,1445.72 1882.14,1445.72 1884.16,1445.72 1886.18,1445.72 1888.2,1445.72 1890.22,1445.72 1892.24,1445.72 1894.26,1445.72 1896.28,1445.72 1898.3,1445.72 1900.32,1445.72 1902.34,1445.72 1904.36,1445.72 1906.38,1445.72 1908.4,1445.72 1910.42,1445.72 1912.44,1445.72 1914.46,1445.72 1916.48,1445.72 1918.5,1445.72 1920.52,1445.72 1922.54,1445.72 1924.56,1445.72 1926.58,1445.72 1928.6,1445.72 1930.62,1445.72 1932.64,1445.72 1934.66,1445.72 1936.68,1445.72 1938.7,1445.72 1940.72,1445.72 1942.74,1445.72 1944.76,1445.72 1946.78,1445.72 1948.8,1445.72 1950.82,1445.72 1952.84,1445.72 1954.86,1445.72 1956.88,1445.72 1958.9,1445.72 1960.92,1445.72 1962.94,1445.72 1964.96,1445.72 1966.98,1445.72 1969,1445.72 1971.02,1445.72 1973.04,1445.72 1975.06,1445.72 1977.08,1445.72 1979.1,1445.72 1981.12,1445.72 1983.14,1445.72 1985.16,1445.72 1987.18,1445.72 1989.2,1445.72 1991.22,1445.72 1993.24,1445.72 1995.26,1445.72 1997.28,1445.72 1999.3,1445.72 2001.32,1445.72 2003.34,1445.72 2005.36,1445.72 2007.38,1445.72 2009.4,1445.72 2011.42,1445.72 2013.44,1445.72 2015.46,1445.72 2017.48,1445.72 2019.5,1445.72 2021.52,1445.72 2023.54,1445.72 2025.56,1445.72 2027.58,1445.72 2029.6,1445.72 2031.62,1445.72 2033.64,1445.72 2035.66,1445.72 2037.68,1445.72 2039.7,1445.72 2041.72,1445.72 2043.74,1445.72 2045.76,1445.72 2047.78,1445.72 2049.8,1445.72 2051.82,1445.72 2053.84,1445.72 2055.86,1445.72 2057.88,1445.72 2059.9,1445.72 2061.92,1445.72 2063.94,1445.72 2065.96,1445.72 2067.98,1445.72 2070,1445.72 2072.02,1445.72 2074.04,1445.72 2076.06,1445.72 2078.08,1445.72 2080.11,1445.72 2082.13,1445.72 2084.15,1445.72 2086.17,1445.72 2088.19,1445.72 2090.21,1445.72 2092.23,1445.72 2094.25,1445.72 2096.27,1445.72 2098.29,1445.72 2100.31,1445.72 2102.33,1445.72 2104.35,1445.72 2106.37,1445.72 2108.39,1445.72 2110.41,1445.72 2112.43,1445.72 2114.45,1445.72 2116.47,1445.72 2118.49,1445.72 2120.51,1445.72 2122.53,1445.72 2124.55,1445.72 2126.57,1445.72 2128.59,1445.72 2130.61,1445.72 2132.63,1445.72 2134.65,1445.72 2136.67,1445.72 2138.69,1445.72 2140.71,1445.72 2142.73,1445.72 2144.75,1445.72 2146.77,1445.72 2148.79,1445.72 2150.81,1445.72 2152.83,1445.72 2154.85,1445.72 2156.87,1445.72 2158.89,1445.72 2160.91,1445.72 2162.93,1445.72 2164.95,1445.72 2166.97,1445.72 2168.99,1445.72 2171.01,1445.72 2173.03,1445.72 2175.05,1445.72 2177.07,1445.72 2179.09,1445.72 2181.11,1445.72 2183.13,1445.72 2185.15,1445.72 2187.17,1445.72 2189.19,1445.72 2191.21,1445.72 2193.23,1445.72 2195.25,1445.72 2197.27,1445.72 2199.29,1445.72 2201.31,1445.72 2203.33,1445.72 2205.35,1445.72 2207.37,1445.72 2209.39,1445.72 2211.41,1445.72 2213.43,1445.72 2215.45,1445.72 2217.47,1445.72 2219.49,1445.72 2221.51,1445.72 2223.53,1445.72 2225.55,1445.72 2227.57,1445.72 2229.59,1445.72 2231.61,1445.72 2233.63,1445.72 2235.65,1445.72 2237.67,1445.72 2239.69,1445.72 2241.71,1445.72 2243.73,1445.72 2245.75,1445.72 2247.77,1445.72 2249.79,1445.72 2251.81,1445.72 2253.83,1445.72 2255.85,1445.72 2257.87,1445.72 2259.89,1445.72 2261.91,1445.72 2263.93,1445.72 2265.95,1445.72 2267.97,1445.72 2269.99,1445.72 2272.01,1445.72 2274.03,1445.72 2276.05,1445.72 2278.07,1445.72 2280.09,1445.72 2282.11,1445.72 2284.13,1445.72 2286.15,1445.72 2288.17,1445.72 2290.19,1445.72 2292.21,1445.72 \"/>\n",
       "<polyline clip-path=\"url(#clip412)\" style=\"stroke:#3da44d; stroke-linecap:round; stroke-linejoin:round; stroke-width:4; stroke-opacity:1; fill:none\" points=\"274.149,244.038 276.169,197.237 278.19,162.666 280.21,136.75 282.23,117.535 284.25,103.791 286.27,94.6715 288.29,89.5571 290.31,87.9763 292.33,89.5571 294.35,93.9991 296.37,101.054 298.39,110.514 300.411,122.202 302.431,135.965 304.451,151.67 306.471,169.2 308.491,188.452 310.511,209.333 312.531,231.76 314.551,255.659 316.571,280.962 318.591,307.607 320.611,335.538 322.631,364.702 324.652,395.052 326.672,426.543 328.692,459.134 330.712,492.787 332.732,527.466 334.752,563.139 336.772,599.773 338.792,637.34 340.812,675.812 342.832,715.162 344.852,755.367 346.872,796.404 348.893,838.25 350.913,880.884 352.933,924.289 354.953,968.436 356.973,1013.35 358.993,1058.83 361.013,1105.64 363.033,1150.37 365.053,1210.34 367.073,1221.44 369.093,1243.25 371.113,1237.38 373.134,1238.47 375.154,1238.25 377.174,1238.29 379.194,1238.28 381.214,1238.28 383.234,1238.28 385.254,1238.28 387.274,1238.28 389.294,1238.28 391.314,1238.28 393.334,1238.28 395.354,1238.28 397.375,1238.28 399.395,1238.28 401.415,1238.28 403.435,1238.28 405.455,1238.28 407.475,1238.28 409.495,1238.28 411.515,1238.28 413.535,1238.28 415.555,1238.28 417.575,1238.28 419.596,1238.28 421.616,1238.28 423.636,1238.28 425.656,1238.28 427.676,1238.28 429.696,1238.28 431.716,1238.28 433.736,1238.28 435.756,1238.28 437.776,1238.28 439.796,1238.28 441.816,1238.28 443.837,1238.28 445.857,1238.28 447.877,1238.28 449.897,1238.28 451.917,1238.28 453.937,1238.28 455.957,1238.28 457.977,1238.28 459.997,1238.28 462.017,1238.28 464.037,1238.28 466.057,1238.28 468.078,1238.28 470.098,1238.28 472.118,1238.28 474.138,1238.28 476.158,1238.28 478.178,1238.28 480.198,1238.28 482.218,1238.28 484.238,1238.28 486.258,1238.28 488.278,1238.28 490.298,1238.28 492.319,1238.28 494.339,1238.28 496.359,1238.28 498.379,1238.28 500.399,1238.28 502.419,1238.28 504.439,1238.28 506.459,1238.28 508.479,1238.28 510.499,1238.28 512.519,1238.28 514.539,1238.28 516.56,1238.28 518.58,1238.28 520.6,1238.28 522.62,1238.28 524.64,1238.28 526.66,1238.28 528.68,1238.28 530.7,1238.28 532.72,1238.28 534.74,1238.28 536.76,1238.28 538.781,1238.28 540.801,1238.28 542.821,1238.28 544.841,1238.28 546.861,1238.28 548.881,1238.28 550.901,1238.28 552.921,1238.28 554.941,1238.28 556.961,1238.28 558.981,1238.28 561.001,1238.28 563.022,1238.28 565.042,1238.28 567.062,1238.28 569.082,1238.28 571.102,1238.28 573.122,1238.28 575.142,1238.28 577.162,1238.28 579.182,1238.28 581.202,1238.28 583.222,1238.28 585.242,1238.28 587.263,1238.28 589.283,1238.28 591.303,1238.28 593.323,1238.28 595.343,1238.28 597.363,1238.28 599.383,1238.28 601.403,1238.28 603.423,1238.28 605.443,1238.28 607.463,1238.28 609.483,1238.28 611.504,1238.28 613.524,1238.28 615.544,1238.28 617.564,1238.28 619.584,1238.28 621.604,1238.28 623.624,1238.28 625.644,1238.28 627.664,1238.28 629.684,1238.28 631.704,1238.28 633.724,1238.28 635.745,1238.28 637.765,1238.28 639.785,1238.28 641.805,1238.28 643.825,1238.28 645.845,1238.28 647.865,1238.28 649.885,1238.28 651.905,1238.28 653.925,1238.28 655.945,1238.28 657.965,1238.28 659.986,1238.28 662.006,1238.28 664.026,1238.28 666.046,1238.28 668.066,1238.28 670.086,1238.28 672.106,1238.28 674.126,1238.28 676.146,1238.28 678.166,1238.28 680.186,1238.28 682.207,1238.28 684.227,1238.28 686.247,1238.28 688.267,1238.28 690.287,1238.28 692.307,1238.28 694.327,1238.28 696.347,1238.28 698.367,1238.28 700.387,1238.28 702.407,1238.28 704.427,1238.28 706.448,1238.28 708.468,1238.28 710.488,1238.28 712.508,1238.28 714.528,1238.28 716.548,1238.28 718.568,1238.28 720.588,1238.28 722.608,1238.28 724.628,1238.28 726.648,1238.28 728.668,1238.28 730.689,1238.28 732.709,1238.28 734.729,1238.28 736.749,1238.28 738.769,1238.28 740.789,1238.28 742.809,1238.28 744.829,1238.28 746.849,1238.28 748.869,1238.28 750.889,1238.28 752.909,1238.28 754.93,1238.28 756.95,1238.28 758.97,1238.28 760.99,1238.28 763.01,1238.28 765.03,1238.28 767.05,1238.28 769.07,1238.28 771.09,1238.28 773.11,1238.28 775.13,1238.28 777.15,1238.28 779.171,1238.28 781.191,1238.28 783.211,1238.28 785.231,1238.28 787.251,1238.28 789.271,1238.28 791.291,1238.28 793.311,1238.28 795.331,1238.28 797.351,1238.28 799.371,1238.28 801.392,1238.28 803.412,1238.28 805.432,1238.28 807.452,1238.28 809.472,1238.28 811.492,1238.28 813.512,1238.28 815.532,1238.28 817.552,1238.28 819.572,1238.28 821.592,1238.28 823.612,1238.28 825.633,1238.28 827.653,1238.28 829.673,1238.28 831.693,1238.28 833.713,1238.28 835.733,1238.28 837.753,1238.28 839.773,1238.28 841.793,1238.28 843.813,1238.28 845.833,1238.28 847.853,1238.28 849.874,1238.28 851.894,1238.28 853.914,1238.28 855.934,1238.28 857.954,1238.28 859.974,1238.28 861.994,1238.28 864.014,1238.28 866.034,1238.28 868.054,1238.28 870.074,1238.28 872.094,1238.28 874.115,1238.28 876.135,1238.28 878.155,1238.28 880.175,1238.28 882.195,1238.28 884.215,1238.28 886.235,1238.28 888.255,1238.28 890.275,1238.28 892.295,1238.28 894.315,1238.28 896.335,1238.28 898.356,1238.28 900.376,1238.28 902.396,1238.28 904.416,1238.28 906.436,1238.28 908.456,1238.28 910.476,1238.28 912.496,1238.28 914.516,1238.28 916.536,1238.28 918.556,1238.28 920.576,1238.28 922.597,1238.28 924.617,1238.28 926.637,1238.28 928.657,1238.28 930.677,1238.28 932.697,1238.28 934.717,1238.28 936.737,1238.28 938.757,1238.28 940.777,1238.28 942.797,1238.28 944.818,1238.28 946.838,1238.28 948.858,1238.28 950.878,1238.28 952.898,1238.28 954.918,1238.28 956.938,1238.28 958.958,1238.28 960.978,1238.28 962.998,1238.28 965.018,1238.28 967.038,1238.28 969.059,1238.28 971.079,1238.28 973.099,1238.28 975.119,1238.28 977.139,1238.28 979.159,1238.28 981.179,1238.28 983.199,1238.28 985.219,1238.28 987.239,1238.28 989.259,1238.28 991.279,1238.28 993.3,1238.28 995.32,1238.28 997.34,1238.28 999.36,1238.28 1001.38,1238.28 1003.4,1238.28 1005.42,1238.28 1007.44,1238.28 1009.46,1238.28 1011.48,1238.28 1013.5,1238.28 1015.52,1238.28 1017.54,1238.28 1019.56,1238.28 1021.58,1238.28 1023.6,1238.28 1025.62,1238.28 1027.64,1238.28 1029.66,1238.28 1031.68,1238.28 1033.7,1238.28 1035.72,1238.28 1037.74,1238.28 1039.76,1238.28 1041.78,1238.28 1043.8,1238.28 1045.82,1238.28 1047.84,1238.28 1049.86,1238.28 1051.88,1238.28 1053.9,1238.28 1055.92,1238.28 1057.94,1238.28 1059.96,1238.28 1061.98,1238.28 1064,1238.28 1066.02,1238.28 1068.04,1238.28 1070.06,1238.28 1072.08,1238.28 1074.1,1238.28 1076.12,1238.28 1078.14,1238.28 1080.16,1238.28 1082.18,1238.28 1084.2,1238.28 1086.22,1238.28 1088.24,1238.28 1090.26,1238.28 1092.28,1238.28 1094.3,1238.28 1096.32,1238.28 1098.34,1238.28 1100.36,1238.28 1102.38,1238.28 1104.4,1238.28 1106.42,1238.28 1108.44,1238.28 1110.46,1238.28 1112.48,1238.28 1114.5,1238.28 1116.52,1238.28 1118.54,1238.28 1120.56,1238.28 1122.58,1238.28 1124.61,1238.28 1126.63,1238.28 1128.65,1238.28 1130.67,1238.28 1132.69,1238.28 1134.71,1238.28 1136.73,1238.28 1138.75,1238.28 1140.77,1238.28 1142.79,1238.28 1144.81,1238.28 1146.83,1238.28 1148.85,1238.28 1150.87,1238.28 1152.89,1238.28 1154.91,1238.28 1156.93,1238.28 1158.95,1238.28 1160.97,1238.28 1162.99,1238.28 1165.01,1238.28 1167.03,1238.28 1169.05,1238.28 1171.07,1238.28 1173.09,1238.28 1175.11,1238.28 1177.13,1238.28 1179.15,1238.28 1181.17,1238.28 1183.19,1238.28 1185.21,1238.28 1187.23,1238.28 1189.25,1238.28 1191.27,1238.28 1193.29,1238.28 1195.31,1238.28 1197.33,1238.28 1199.35,1238.28 1201.37,1238.28 1203.39,1238.28 1205.41,1238.28 1207.43,1238.28 1209.45,1238.28 1211.47,1238.28 1213.49,1238.28 1215.51,1238.28 1217.53,1238.28 1219.55,1238.28 1221.57,1238.28 1223.59,1238.28 1225.61,1238.28 1227.63,1238.28 1229.65,1238.28 1231.67,1238.28 1233.69,1238.28 1235.71,1238.28 1237.73,1238.28 1239.75,1238.28 1241.77,1238.28 1243.79,1238.28 1245.81,1238.28 1247.83,1238.28 1249.85,1238.28 1251.87,1238.28 1253.89,1238.28 1255.91,1238.28 1257.93,1238.28 1259.95,1238.28 1261.97,1238.28 1263.99,1238.28 1266.01,1238.28 1268.03,1238.28 1270.05,1238.28 1272.07,1238.28 1274.09,1238.28 1276.11,1238.28 1278.13,1238.28 1280.15,1238.28 1282.17,1238.28 1284.19,1238.28 1286.21,1238.28 1288.23,1238.28 1290.25,1238.28 1292.27,1238.28 1294.29,1238.28 1296.31,1238.28 1298.33,1238.28 1300.35,1238.28 1302.37,1238.28 1304.39,1238.28 1306.41,1238.28 1308.43,1238.28 1310.45,1238.28 1312.47,1238.28 1314.49,1238.28 1316.51,1238.28 1318.53,1238.28 1320.55,1238.28 1322.57,1238.28 1324.59,1238.28 1326.61,1238.28 1328.63,1238.28 1330.65,1238.28 1332.67,1238.28 1334.69,1238.28 1336.71,1238.28 1338.73,1238.28 1340.75,1238.28 1342.77,1238.28 1344.79,1238.28 1346.81,1238.28 1348.83,1238.28 1350.85,1238.28 1352.87,1238.28 1354.89,1238.28 1356.91,1238.28 1358.93,1238.28 1360.95,1238.28 1362.98,1238.28 1365,1238.28 1367.02,1238.28 1369.04,1238.28 1371.06,1238.28 1373.08,1238.28 1375.1,1238.28 1377.12,1238.28 1379.14,1238.28 1381.16,1238.28 1383.18,1238.28 1385.2,1238.28 1387.22,1238.28 1389.24,1238.28 1391.26,1238.28 1393.28,1238.28 1395.3,1238.28 1397.32,1238.28 1399.34,1238.28 1401.36,1238.28 1403.38,1238.28 1405.4,1238.28 1407.42,1238.28 1409.44,1238.28 1411.46,1238.28 1413.48,1238.28 1415.5,1238.28 1417.52,1238.28 1419.54,1238.28 1421.56,1238.28 1423.58,1238.28 1425.6,1238.28 1427.62,1238.28 1429.64,1238.28 1431.66,1238.28 1433.68,1238.28 1435.7,1238.28 1437.72,1238.28 1439.74,1238.28 1441.76,1238.28 1443.78,1238.28 1445.8,1238.28 1447.82,1238.28 1449.84,1238.28 1451.86,1238.28 1453.88,1238.28 1455.9,1238.28 1457.92,1238.28 1459.94,1238.28 1461.96,1238.28 1463.98,1238.28 1466,1238.28 1468.02,1238.28 1470.04,1238.28 1472.06,1238.28 1474.08,1238.28 1476.1,1238.28 1478.12,1238.28 1480.14,1238.28 1482.16,1238.28 1484.18,1238.28 1486.2,1238.28 1488.22,1238.28 1490.24,1238.28 1492.26,1238.28 1494.28,1238.28 1496.3,1238.28 1498.32,1238.28 1500.34,1238.28 1502.36,1238.28 1504.38,1238.28 1506.4,1238.28 1508.42,1238.28 1510.44,1238.28 1512.46,1238.28 1514.48,1238.28 1516.5,1238.28 1518.52,1238.28 1520.54,1238.28 1522.56,1238.28 1524.58,1238.28 1526.6,1238.28 1528.62,1238.28 1530.64,1238.28 1532.66,1238.28 1534.68,1238.28 1536.7,1238.28 1538.72,1238.28 1540.74,1238.28 1542.76,1238.28 1544.78,1238.28 1546.8,1238.28 1548.82,1238.28 1550.84,1238.28 1552.86,1238.28 1554.88,1238.28 1556.9,1238.28 1558.92,1238.28 1560.94,1238.28 1562.96,1238.28 1564.98,1238.28 1567,1238.28 1569.02,1238.28 1571.04,1238.28 1573.06,1238.28 1575.08,1238.28 1577.1,1238.28 1579.12,1238.28 1581.14,1238.28 1583.16,1238.28 1585.18,1238.28 1587.2,1238.28 1589.22,1238.28 1591.24,1238.28 1593.26,1238.28 1595.28,1238.28 1597.3,1238.28 1599.32,1238.28 1601.35,1238.28 1603.37,1238.28 1605.39,1238.28 1607.41,1238.28 1609.43,1238.28 1611.45,1238.28 1613.47,1238.28 1615.49,1238.28 1617.51,1238.28 1619.53,1238.28 1621.55,1238.28 1623.57,1238.28 1625.59,1238.28 1627.61,1238.28 1629.63,1238.28 1631.65,1238.28 1633.67,1238.28 1635.69,1238.28 1637.71,1238.28 1639.73,1238.28 1641.75,1238.28 1643.77,1238.28 1645.79,1238.28 1647.81,1238.28 1649.83,1238.28 1651.85,1238.28 1653.87,1238.28 1655.89,1238.28 1657.91,1238.28 1659.93,1238.28 1661.95,1238.28 1663.97,1238.28 1665.99,1238.28 1668.01,1238.28 1670.03,1238.28 1672.05,1238.28 1674.07,1238.28 1676.09,1238.28 1678.11,1238.28 1680.13,1238.28 1682.15,1238.28 1684.17,1238.28 1686.19,1238.28 1688.21,1238.28 1690.23,1238.28 1692.25,1238.28 1694.27,1238.28 1696.29,1238.28 1698.31,1238.28 1700.33,1238.28 1702.35,1238.28 1704.37,1238.28 1706.39,1238.28 1708.41,1238.28 1710.43,1238.28 1712.45,1238.28 1714.47,1238.28 1716.49,1238.28 1718.51,1238.28 1720.53,1238.28 1722.55,1238.28 1724.57,1238.28 1726.59,1238.28 1728.61,1238.28 1730.63,1238.28 1732.65,1238.28 1734.67,1238.28 1736.69,1238.28 1738.71,1238.28 1740.73,1238.28 1742.75,1238.28 1744.77,1238.28 1746.79,1238.28 1748.81,1238.28 1750.83,1238.28 1752.85,1238.28 1754.87,1238.28 1756.89,1238.28 1758.91,1238.28 1760.93,1238.28 1762.95,1238.28 1764.97,1238.28 1766.99,1238.28 1769.01,1238.28 1771.03,1238.28 1773.05,1238.28 1775.07,1238.28 1777.09,1238.28 1779.11,1238.28 1781.13,1238.28 1783.15,1238.28 1785.17,1238.28 1787.19,1238.28 1789.21,1238.28 1791.23,1238.28 1793.25,1238.28 1795.27,1238.28 1797.29,1238.28 1799.31,1238.28 1801.33,1238.28 1803.35,1238.28 1805.37,1238.28 1807.39,1238.28 1809.41,1238.28 1811.43,1238.28 1813.45,1238.28 1815.47,1238.28 1817.49,1238.28 1819.51,1238.28 1821.53,1238.28 1823.55,1238.28 1825.57,1238.28 1827.59,1238.28 1829.61,1238.28 1831.63,1238.28 1833.65,1238.28 1835.67,1238.28 1837.69,1238.28 1839.72,1238.28 1841.74,1238.28 1843.76,1238.28 1845.78,1238.28 1847.8,1238.28 1849.82,1238.28 1851.84,1238.28 1853.86,1238.28 1855.88,1238.28 1857.9,1238.28 1859.92,1238.28 1861.94,1238.28 1863.96,1238.28 1865.98,1238.28 1868,1238.28 1870.02,1238.28 1872.04,1238.28 1874.06,1238.28 1876.08,1238.28 1878.1,1238.28 1880.12,1238.28 1882.14,1238.28 1884.16,1238.28 1886.18,1238.28 1888.2,1238.28 1890.22,1238.28 1892.24,1238.28 1894.26,1238.28 1896.28,1238.28 1898.3,1238.28 1900.32,1238.28 1902.34,1238.28 1904.36,1238.28 1906.38,1238.28 1908.4,1238.28 1910.42,1238.28 1912.44,1238.28 1914.46,1238.28 1916.48,1238.28 1918.5,1238.28 1920.52,1238.28 1922.54,1238.28 1924.56,1238.28 1926.58,1238.28 1928.6,1238.28 1930.62,1238.28 1932.64,1238.28 1934.66,1238.28 1936.68,1238.28 1938.7,1238.28 1940.72,1238.28 1942.74,1238.28 1944.76,1238.28 1946.78,1238.28 1948.8,1238.28 1950.82,1238.28 1952.84,1238.28 1954.86,1238.28 1956.88,1238.28 1958.9,1238.28 1960.92,1238.28 1962.94,1238.28 1964.96,1238.28 1966.98,1238.28 1969,1238.28 1971.02,1238.28 1973.04,1238.28 1975.06,1238.28 1977.08,1238.28 1979.1,1238.28 1981.12,1238.28 1983.14,1238.28 1985.16,1238.28 1987.18,1238.28 1989.2,1238.28 1991.22,1238.28 1993.24,1238.28 1995.26,1238.28 1997.28,1238.28 1999.3,1238.28 2001.32,1238.28 2003.34,1238.28 2005.36,1238.28 2007.38,1238.28 2009.4,1238.28 2011.42,1238.28 2013.44,1238.28 2015.46,1238.28 2017.48,1238.28 2019.5,1238.28 2021.52,1238.28 2023.54,1238.28 2025.56,1238.28 2027.58,1238.28 2029.6,1238.28 2031.62,1238.28 2033.64,1238.28 2035.66,1238.28 2037.68,1238.28 2039.7,1238.28 2041.72,1238.28 2043.74,1238.28 2045.76,1238.28 2047.78,1238.28 2049.8,1238.28 2051.82,1238.28 2053.84,1238.28 2055.86,1238.28 2057.88,1238.28 2059.9,1238.28 2061.92,1238.28 2063.94,1238.28 2065.96,1238.28 2067.98,1238.28 2070,1238.28 2072.02,1238.28 2074.04,1238.28 2076.06,1238.28 2078.08,1238.28 2080.11,1238.28 2082.13,1238.28 2084.15,1238.28 2086.17,1238.28 2088.19,1238.28 2090.21,1238.28 2092.23,1238.28 2094.25,1238.28 2096.27,1238.28 2098.29,1238.28 2100.31,1238.28 2102.33,1238.28 2104.35,1238.28 2106.37,1238.28 2108.39,1238.28 2110.41,1238.28 2112.43,1238.28 2114.45,1238.28 2116.47,1238.28 2118.49,1238.28 2120.51,1238.28 2122.53,1238.28 2124.55,1238.28 2126.57,1238.28 2128.59,1238.28 2130.61,1238.28 2132.63,1238.28 2134.65,1238.28 2136.67,1238.28 2138.69,1238.28 2140.71,1238.28 2142.73,1238.28 2144.75,1238.28 2146.77,1238.28 2148.79,1238.28 2150.81,1238.28 2152.83,1238.28 2154.85,1238.28 2156.87,1238.28 2158.89,1238.28 2160.91,1238.28 2162.93,1238.28 2164.95,1238.28 2166.97,1238.28 2168.99,1238.28 2171.01,1238.28 2173.03,1238.28 2175.05,1238.28 2177.07,1238.28 2179.09,1238.28 2181.11,1238.28 2183.13,1238.28 2185.15,1238.28 2187.17,1238.28 2189.19,1238.28 2191.21,1238.28 2193.23,1238.28 2195.25,1238.28 2197.27,1238.28 2199.29,1238.28 2201.31,1238.28 2203.33,1238.28 2205.35,1238.28 2207.37,1238.28 2209.39,1238.28 2211.41,1238.28 2213.43,1238.28 2215.45,1238.28 2217.47,1238.28 2219.49,1238.28 2221.51,1238.28 2223.53,1238.28 2225.55,1238.28 2227.57,1238.28 2229.59,1238.28 2231.61,1238.28 2233.63,1238.28 2235.65,1238.28 2237.67,1238.28 2239.69,1238.28 2241.71,1238.28 2243.73,1238.28 2245.75,1238.28 2247.77,1238.28 2249.79,1238.28 2251.81,1238.28 2253.83,1238.28 2255.85,1238.28 2257.87,1238.28 2259.89,1238.28 2261.91,1238.28 2263.93,1238.28 2265.95,1238.28 2267.97,1238.28 2269.99,1238.28 2272.01,1238.28 2274.03,1238.28 2276.05,1238.28 2278.07,1238.28 2280.09,1238.28 2282.11,1238.28 2284.13,1238.28 2286.15,1238.28 2288.17,1238.28 2290.19,1238.28 2292.21,1238.28 \"/>\n",
       "<path clip-path=\"url(#clip410)\" d=\"M1900.55 302.578 L2281.45 302.578 L2281.45 95.2176 L1900.55 95.2176  Z\" fill=\"#ffffff\" fill-rule=\"evenodd\" fill-opacity=\"1\"/>\n",
       "<polyline clip-path=\"url(#clip410)\" style=\"stroke:#000000; stroke-linecap:round; stroke-linejoin:round; stroke-width:4; stroke-opacity:1; fill:none\" points=\"1900.55,302.578 2281.45,302.578 2281.45,95.2176 1900.55,95.2176 1900.55,302.578 \"/>\n",
       "<polyline clip-path=\"url(#clip410)\" style=\"stroke:#009af9; stroke-linecap:round; stroke-linejoin:round; stroke-width:4; stroke-opacity:1; fill:none\" points=\"1924.31,147.058 2066.92,147.058 \"/>\n",
       "<path clip-path=\"url(#clip410)\" d=\"M2091.27 138.412 L2111.5 138.412 L2111.5 142.301 L2095.48 160.935 L2111.5 160.935 L2111.5 164.338 L2090.69 164.338 L2090.69 160.449 L2106.71 141.815 L2091.27 141.815 L2091.27 138.412 Z\" fill=\"#000000\" fill-rule=\"nonzero\" fill-opacity=\"1\" /><path clip-path=\"url(#clip410)\" d=\"M2133.63 142.81 L2163.31 142.81 L2163.31 146.699 L2133.63 146.699 L2133.63 142.81 M2133.63 152.254 L2163.31 152.254 L2163.31 156.189 L2133.63 156.189 L2133.63 152.254 Z\" fill=\"#000000\" fill-rule=\"nonzero\" fill-opacity=\"1\" /><path clip-path=\"url(#clip410)\" d=\"M2189.28 160.402 L2196.92 160.402 L2196.92 134.037 L2188.61 135.703 L2188.61 131.444 L2196.87 129.778 L2201.55 129.778 L2201.55 160.402 L2209.19 160.402 L2209.19 164.338 L2189.28 164.338 L2189.28 160.402 Z\" fill=\"#000000\" fill-rule=\"nonzero\" fill-opacity=\"1\" /><polyline clip-path=\"url(#clip410)\" style=\"stroke:#e26f46; stroke-linecap:round; stroke-linejoin:round; stroke-width:4; stroke-opacity:1; fill:none\" points=\"1924.31,198.898 2066.92,198.898 \"/>\n",
       "<path clip-path=\"url(#clip410)\" d=\"M2091.27 190.252 L2111.5 190.252 L2111.5 194.141 L2095.48 212.775 L2111.5 212.775 L2111.5 216.178 L2090.69 216.178 L2090.69 212.289 L2106.71 193.655 L2091.27 193.655 L2091.27 190.252 Z\" fill=\"#000000\" fill-rule=\"nonzero\" fill-opacity=\"1\" /><path clip-path=\"url(#clip410)\" d=\"M2133.63 194.65 L2163.31 194.65 L2163.31 198.539 L2133.63 198.539 L2133.63 194.65 M2133.63 204.094 L2163.31 204.094 L2163.31 208.029 L2133.63 208.029 L2133.63 204.094 Z\" fill=\"#000000\" fill-rule=\"nonzero\" fill-opacity=\"1\" /><path clip-path=\"url(#clip410)\" d=\"M2187.87 190.252 L2192.13 190.252 L2192.13 216.178 L2187.87 216.178 L2187.87 190.252 M2187.87 180.159 L2192.13 180.159 L2192.13 185.553 L2187.87 185.553 L2187.87 180.159 Z\" fill=\"#000000\" fill-rule=\"nonzero\" fill-opacity=\"1\" /><path clip-path=\"url(#clip410)\" d=\"M2221.22 195.229 Q2222.82 192.358 2225.04 190.993 Q2227.27 189.627 2230.28 189.627 Q2234.33 189.627 2236.53 192.474 Q2238.72 195.298 2238.72 200.529 L2238.72 216.178 L2234.44 216.178 L2234.44 200.668 Q2234.44 196.942 2233.12 195.136 Q2231.8 193.33 2229.09 193.33 Q2225.78 193.33 2223.86 195.53 Q2221.94 197.729 2221.94 201.525 L2221.94 216.178 L2217.66 216.178 L2217.66 200.668 Q2217.66 196.918 2216.34 195.136 Q2215.02 193.33 2212.27 193.33 Q2209 193.33 2207.08 195.553 Q2205.16 197.752 2205.16 201.525 L2205.16 216.178 L2200.88 216.178 L2200.88 190.252 L2205.16 190.252 L2205.16 194.28 Q2206.62 191.895 2208.66 190.761 Q2210.69 189.627 2213.49 189.627 Q2216.32 189.627 2218.28 191.062 Q2220.28 192.497 2221.22 195.229 Z\" fill=\"#000000\" fill-rule=\"nonzero\" fill-opacity=\"1\" /><polyline clip-path=\"url(#clip410)\" style=\"stroke:#3da44d; stroke-linecap:round; stroke-linejoin:round; stroke-width:4; stroke-opacity:1; fill:none\" points=\"1924.31,250.738 2066.92,250.738 \"/>\n",
       "<path clip-path=\"url(#clip410)\" d=\"M2091.27 242.092 L2111.5 242.092 L2111.5 245.981 L2095.48 264.615 L2111.5 264.615 L2111.5 268.018 L2090.69 268.018 L2090.69 264.129 L2106.71 245.495 L2091.27 245.495 L2091.27 242.092 Z\" fill=\"#000000\" fill-rule=\"nonzero\" fill-opacity=\"1\" /><path clip-path=\"url(#clip410)\" d=\"M2133.63 246.49 L2163.31 246.49 L2163.31 250.379 L2133.63 250.379 L2133.63 246.49 M2133.63 255.934 L2163.31 255.934 L2163.31 259.869 L2133.63 259.869 L2133.63 255.934 Z\" fill=\"#000000\" fill-rule=\"nonzero\" fill-opacity=\"1\" /><path clip-path=\"url(#clip410)\" d=\"M2185.72 253.133 L2198.19 253.133 L2198.19 256.93 L2185.72 256.93 L2185.72 253.133 Z\" fill=\"#000000\" fill-rule=\"nonzero\" fill-opacity=\"1\" /><path clip-path=\"url(#clip410)\" d=\"M2206.39 264.082 L2214.03 264.082 L2214.03 237.717 L2205.72 239.383 L2205.72 235.124 L2213.98 233.458 L2218.66 233.458 L2218.66 264.082 L2226.29 264.082 L2226.29 268.018 L2206.39 268.018 L2206.39 264.082 Z\" fill=\"#000000\" fill-rule=\"nonzero\" fill-opacity=\"1\" /><path clip-path=\"url(#clip410)\" d=\"M2245.74 236.536 Q2242.13 236.536 2240.3 240.101 Q2238.49 243.643 2238.49 250.772 Q2238.49 257.879 2240.3 261.444 Q2242.13 264.985 2245.74 264.985 Q2249.37 264.985 2251.18 261.444 Q2253.01 257.879 2253.01 250.772 Q2253.01 243.643 2251.18 240.101 Q2249.37 236.536 2245.74 236.536 M2245.74 232.833 Q2251.55 232.833 2254.6 237.439 Q2257.68 242.022 2257.68 250.772 Q2257.68 259.499 2254.6 264.106 Q2251.55 268.689 2245.74 268.689 Q2239.93 268.689 2236.85 264.106 Q2233.79 259.499 2233.79 250.772 Q2233.79 242.022 2236.85 237.439 Q2239.93 232.833 2245.74 232.833 Z\" fill=\"#000000\" fill-rule=\"nonzero\" fill-opacity=\"1\" /></svg>\n"
      ],
      "text/html": [
       "<?xml version=\"1.0\" encoding=\"utf-8\"?>\n",
       "<svg xmlns=\"http://www.w3.org/2000/svg\" xmlns:xlink=\"http://www.w3.org/1999/xlink\" width=\"600\" height=\"400\" viewBox=\"0 0 2400 1600\">\n",
       "<defs>\n",
       "  <clipPath id=\"clip460\">\n",
       "    <rect x=\"0\" y=\"0\" width=\"2400\" height=\"1600\"/>\n",
       "  </clipPath>\n",
       "</defs>\n",
       "<path clip-path=\"url(#clip460)\" d=\"M0 1600 L2400 1600 L2400 8.88178e-14 L0 8.88178e-14  Z\" fill=\"#ffffff\" fill-rule=\"evenodd\" fill-opacity=\"1\"/>\n",
       "<defs>\n",
       "  <clipPath id=\"clip461\">\n",
       "    <rect x=\"480\" y=\"0\" width=\"1681\" height=\"1600\"/>\n",
       "  </clipPath>\n",
       "</defs>\n",
       "<path clip-path=\"url(#clip460)\" d=\"M213.607 1486.45 L2352.76 1486.45 L2352.76 47.2441 L213.607 47.2441  Z\" fill=\"#ffffff\" fill-rule=\"evenodd\" fill-opacity=\"1\"/>\n",
       "<defs>\n",
       "  <clipPath id=\"clip462\">\n",
       "    <rect x=\"213\" y=\"47\" width=\"2140\" height=\"1440\"/>\n",
       "  </clipPath>\n",
       "</defs>\n",
       "<polyline clip-path=\"url(#clip462)\" style=\"stroke:#000000; stroke-linecap:round; stroke-linejoin:round; stroke-width:2; stroke-opacity:0.1; fill:none\" points=\"272.129,1486.45 272.129,47.2441 \"/>\n",
       "<polyline clip-path=\"url(#clip462)\" style=\"stroke:#000000; stroke-linecap:round; stroke-linejoin:round; stroke-width:2; stroke-opacity:0.1; fill:none\" points=\"777.15,1486.45 777.15,47.2441 \"/>\n",
       "<polyline clip-path=\"url(#clip462)\" style=\"stroke:#000000; stroke-linecap:round; stroke-linejoin:round; stroke-width:2; stroke-opacity:0.1; fill:none\" points=\"1282.17,1486.45 1282.17,47.2441 \"/>\n",
       "<polyline clip-path=\"url(#clip462)\" style=\"stroke:#000000; stroke-linecap:round; stroke-linejoin:round; stroke-width:2; stroke-opacity:0.1; fill:none\" points=\"1787.19,1486.45 1787.19,47.2441 \"/>\n",
       "<polyline clip-path=\"url(#clip462)\" style=\"stroke:#000000; stroke-linecap:round; stroke-linejoin:round; stroke-width:2; stroke-opacity:0.1; fill:none\" points=\"2292.21,1486.45 2292.21,47.2441 \"/>\n",
       "<polyline clip-path=\"url(#clip462)\" style=\"stroke:#000000; stroke-linecap:round; stroke-linejoin:round; stroke-width:2; stroke-opacity:0.1; fill:none\" points=\"213.607,1022.53 2352.76,1022.53 \"/>\n",
       "<polyline clip-path=\"url(#clip462)\" style=\"stroke:#000000; stroke-linecap:round; stroke-linejoin:round; stroke-width:2; stroke-opacity:0.1; fill:none\" points=\"213.607,311.854 2352.76,311.854 \"/>\n",
       "<polyline clip-path=\"url(#clip460)\" style=\"stroke:#000000; stroke-linecap:round; stroke-linejoin:round; stroke-width:4; stroke-opacity:1; fill:none\" points=\"213.607,1486.45 2352.76,1486.45 \"/>\n",
       "<polyline clip-path=\"url(#clip460)\" style=\"stroke:#000000; stroke-linecap:round; stroke-linejoin:round; stroke-width:4; stroke-opacity:1; fill:none\" points=\"272.129,1486.45 272.129,1467.55 \"/>\n",
       "<polyline clip-path=\"url(#clip460)\" style=\"stroke:#000000; stroke-linecap:round; stroke-linejoin:round; stroke-width:4; stroke-opacity:1; fill:none\" points=\"777.15,1486.45 777.15,1467.55 \"/>\n",
       "<polyline clip-path=\"url(#clip460)\" style=\"stroke:#000000; stroke-linecap:round; stroke-linejoin:round; stroke-width:4; stroke-opacity:1; fill:none\" points=\"1282.17,1486.45 1282.17,1467.55 \"/>\n",
       "<polyline clip-path=\"url(#clip460)\" style=\"stroke:#000000; stroke-linecap:round; stroke-linejoin:round; stroke-width:4; stroke-opacity:1; fill:none\" points=\"1787.19,1486.45 1787.19,1467.55 \"/>\n",
       "<polyline clip-path=\"url(#clip460)\" style=\"stroke:#000000; stroke-linecap:round; stroke-linejoin:round; stroke-width:4; stroke-opacity:1; fill:none\" points=\"2292.21,1486.45 2292.21,1467.55 \"/>\n",
       "<path clip-path=\"url(#clip460)\" d=\"M272.129 1517.37 Q268.518 1517.37 266.69 1520.93 Q264.884 1524.47 264.884 1531.6 Q264.884 1538.71 266.69 1542.27 Q268.518 1545.82 272.129 1545.82 Q275.764 1545.82 277.569 1542.27 Q279.398 1538.71 279.398 1531.6 Q279.398 1524.47 277.569 1520.93 Q275.764 1517.37 272.129 1517.37 M272.129 1513.66 Q277.939 1513.66 280.995 1518.27 Q284.074 1522.85 284.074 1531.6 Q284.074 1540.33 280.995 1544.94 Q277.939 1549.52 272.129 1549.52 Q266.319 1549.52 263.24 1544.94 Q260.185 1540.33 260.185 1531.6 Q260.185 1522.85 263.24 1518.27 Q266.319 1513.66 272.129 1513.66 Z\" fill=\"#000000\" fill-rule=\"nonzero\" fill-opacity=\"1\" /><path clip-path=\"url(#clip460)\" d=\"M740.843 1544.91 L757.162 1544.91 L757.162 1548.85 L735.218 1548.85 L735.218 1544.91 Q737.88 1542.16 742.463 1537.53 Q747.07 1532.88 748.25 1531.53 Q750.496 1529.01 751.375 1527.27 Q752.278 1525.51 752.278 1523.82 Q752.278 1521.07 750.334 1519.33 Q748.412 1517.6 745.31 1517.6 Q743.111 1517.6 740.658 1518.36 Q738.227 1519.13 735.449 1520.68 L735.449 1515.95 Q738.273 1514.82 740.727 1514.24 Q743.181 1513.66 745.218 1513.66 Q750.588 1513.66 753.783 1516.35 Q756.977 1519.03 756.977 1523.52 Q756.977 1525.65 756.167 1527.57 Q755.38 1529.47 753.273 1532.07 Q752.695 1532.74 749.593 1535.95 Q746.491 1539.15 740.843 1544.91 Z\" fill=\"#000000\" fill-rule=\"nonzero\" fill-opacity=\"1\" /><path clip-path=\"url(#clip460)\" d=\"M767.023 1514.29 L785.38 1514.29 L785.38 1518.22 L771.306 1518.22 L771.306 1526.7 Q772.324 1526.35 773.343 1526.19 Q774.361 1526 775.38 1526 Q781.167 1526 784.546 1529.17 Q787.926 1532.34 787.926 1537.76 Q787.926 1543.34 784.454 1546.44 Q780.981 1549.52 774.662 1549.52 Q772.486 1549.52 770.218 1549.15 Q767.972 1548.78 765.565 1548.04 L765.565 1543.34 Q767.648 1544.47 769.87 1545.03 Q772.093 1545.58 774.569 1545.58 Q778.574 1545.58 780.912 1543.48 Q783.25 1541.37 783.25 1537.76 Q783.25 1534.15 780.912 1532.04 Q778.574 1529.94 774.569 1529.94 Q772.694 1529.94 770.82 1530.35 Q768.968 1530.77 767.023 1531.65 L767.023 1514.29 Z\" fill=\"#000000\" fill-rule=\"nonzero\" fill-opacity=\"1\" /><path clip-path=\"url(#clip460)\" d=\"M807.139 1517.37 Q803.528 1517.37 801.699 1520.93 Q799.893 1524.47 799.893 1531.6 Q799.893 1538.71 801.699 1542.27 Q803.528 1545.82 807.139 1545.82 Q810.773 1545.82 812.579 1542.27 Q814.407 1538.71 814.407 1531.6 Q814.407 1524.47 812.579 1520.93 Q810.773 1517.37 807.139 1517.37 M807.139 1513.66 Q812.949 1513.66 816.004 1518.27 Q819.083 1522.85 819.083 1531.6 Q819.083 1540.33 816.004 1544.94 Q812.949 1549.52 807.139 1549.52 Q801.329 1549.52 798.25 1544.94 Q795.194 1540.33 795.194 1531.6 Q795.194 1522.85 798.25 1518.27 Q801.329 1513.66 807.139 1513.66 Z\" fill=\"#000000\" fill-rule=\"nonzero\" fill-opacity=\"1\" /><path clip-path=\"url(#clip460)\" d=\"M1241.79 1514.29 L1260.15 1514.29 L1260.15 1518.22 L1246.07 1518.22 L1246.07 1526.7 Q1247.09 1526.35 1248.11 1526.19 Q1249.13 1526 1250.15 1526 Q1255.93 1526 1259.31 1529.17 Q1262.69 1532.34 1262.69 1537.76 Q1262.69 1543.34 1259.22 1546.44 Q1255.75 1549.52 1249.43 1549.52 Q1247.25 1549.52 1244.98 1549.15 Q1242.74 1548.78 1240.33 1548.04 L1240.33 1543.34 Q1242.41 1544.47 1244.64 1545.03 Q1246.86 1545.58 1249.34 1545.58 Q1253.34 1545.58 1255.68 1543.48 Q1258.02 1541.37 1258.02 1537.76 Q1258.02 1534.15 1255.68 1532.04 Q1253.34 1529.94 1249.34 1529.94 Q1247.46 1529.94 1245.59 1530.35 Q1243.73 1530.77 1241.79 1531.65 L1241.79 1514.29 Z\" fill=\"#000000\" fill-rule=\"nonzero\" fill-opacity=\"1\" /><path clip-path=\"url(#clip460)\" d=\"M1281.91 1517.37 Q1278.29 1517.37 1276.47 1520.93 Q1274.66 1524.47 1274.66 1531.6 Q1274.66 1538.71 1276.47 1542.27 Q1278.29 1545.82 1281.91 1545.82 Q1285.54 1545.82 1287.35 1542.27 Q1289.17 1538.71 1289.17 1531.6 Q1289.17 1524.47 1287.35 1520.93 Q1285.54 1517.37 1281.91 1517.37 M1281.91 1513.66 Q1287.72 1513.66 1290.77 1518.27 Q1293.85 1522.85 1293.85 1531.6 Q1293.85 1540.33 1290.77 1544.94 Q1287.72 1549.52 1281.91 1549.52 Q1276.1 1549.52 1273.02 1544.94 Q1269.96 1540.33 1269.96 1531.6 Q1269.96 1522.85 1273.02 1518.27 Q1276.1 1513.66 1281.91 1513.66 Z\" fill=\"#000000\" fill-rule=\"nonzero\" fill-opacity=\"1\" /><path clip-path=\"url(#clip460)\" d=\"M1312.07 1517.37 Q1308.46 1517.37 1306.63 1520.93 Q1304.82 1524.47 1304.82 1531.6 Q1304.82 1538.71 1306.63 1542.27 Q1308.46 1545.82 1312.07 1545.82 Q1315.7 1545.82 1317.51 1542.27 Q1319.34 1538.71 1319.34 1531.6 Q1319.34 1524.47 1317.51 1520.93 Q1315.7 1517.37 1312.07 1517.37 M1312.07 1513.66 Q1317.88 1513.66 1320.93 1518.27 Q1324.01 1522.85 1324.01 1531.6 Q1324.01 1540.33 1320.93 1544.94 Q1317.88 1549.52 1312.07 1549.52 Q1306.26 1549.52 1303.18 1544.94 Q1300.12 1540.33 1300.12 1531.6 Q1300.12 1522.85 1303.18 1518.27 Q1306.26 1513.66 1312.07 1513.66 Z\" fill=\"#000000\" fill-rule=\"nonzero\" fill-opacity=\"1\" /><path clip-path=\"url(#clip460)\" d=\"M1745.47 1514.29 L1767.69 1514.29 L1767.69 1516.28 L1755.14 1548.85 L1750.26 1548.85 L1762.07 1518.22 L1745.47 1518.22 L1745.47 1514.29 Z\" fill=\"#000000\" fill-rule=\"nonzero\" fill-opacity=\"1\" /><path clip-path=\"url(#clip460)\" d=\"M1776.86 1514.29 L1795.21 1514.29 L1795.21 1518.22 L1781.14 1518.22 L1781.14 1526.7 Q1782.16 1526.35 1783.18 1526.19 Q1784.2 1526 1785.21 1526 Q1791 1526 1794.38 1529.17 Q1797.76 1532.34 1797.76 1537.76 Q1797.76 1543.34 1794.29 1546.44 Q1790.82 1549.52 1784.5 1549.52 Q1782.32 1549.52 1780.05 1549.15 Q1777.81 1548.78 1775.4 1548.04 L1775.4 1543.34 Q1777.48 1544.47 1779.7 1545.03 Q1781.93 1545.58 1784.4 1545.58 Q1788.41 1545.58 1790.75 1543.48 Q1793.08 1541.37 1793.08 1537.76 Q1793.08 1534.15 1790.75 1532.04 Q1788.41 1529.94 1784.4 1529.94 Q1782.53 1529.94 1780.65 1530.35 Q1778.8 1530.77 1776.86 1531.65 L1776.86 1514.29 Z\" fill=\"#000000\" fill-rule=\"nonzero\" fill-opacity=\"1\" /><path clip-path=\"url(#clip460)\" d=\"M1816.97 1517.37 Q1813.36 1517.37 1811.53 1520.93 Q1809.73 1524.47 1809.73 1531.6 Q1809.73 1538.71 1811.53 1542.27 Q1813.36 1545.82 1816.97 1545.82 Q1820.61 1545.82 1822.41 1542.27 Q1824.24 1538.71 1824.24 1531.6 Q1824.24 1524.47 1822.41 1520.93 Q1820.61 1517.37 1816.97 1517.37 M1816.97 1513.66 Q1822.78 1513.66 1825.84 1518.27 Q1828.92 1522.85 1828.92 1531.6 Q1828.92 1540.33 1825.84 1544.94 Q1822.78 1549.52 1816.97 1549.52 Q1811.16 1549.52 1808.08 1544.94 Q1805.03 1540.33 1805.03 1531.6 Q1805.03 1522.85 1808.08 1518.27 Q1811.16 1513.66 1816.97 1513.66 Z\" fill=\"#000000\" fill-rule=\"nonzero\" fill-opacity=\"1\" /><path clip-path=\"url(#clip460)\" d=\"M2236.74 1544.91 L2244.38 1544.91 L2244.38 1518.55 L2236.07 1520.21 L2236.07 1515.95 L2244.33 1514.29 L2249.01 1514.29 L2249.01 1544.91 L2256.65 1544.91 L2256.65 1548.85 L2236.74 1548.85 L2236.74 1544.91 Z\" fill=\"#000000\" fill-rule=\"nonzero\" fill-opacity=\"1\" /><path clip-path=\"url(#clip460)\" d=\"M2276.09 1517.37 Q2272.48 1517.37 2270.65 1520.93 Q2268.85 1524.47 2268.85 1531.6 Q2268.85 1538.71 2270.65 1542.27 Q2272.48 1545.82 2276.09 1545.82 Q2279.73 1545.82 2281.53 1542.27 Q2283.36 1538.71 2283.36 1531.6 Q2283.36 1524.47 2281.53 1520.93 Q2279.73 1517.37 2276.09 1517.37 M2276.09 1513.66 Q2281.9 1513.66 2284.96 1518.27 Q2288.04 1522.85 2288.04 1531.6 Q2288.04 1540.33 2284.96 1544.94 Q2281.9 1549.52 2276.09 1549.52 Q2270.28 1549.52 2267.2 1544.94 Q2264.15 1540.33 2264.15 1531.6 Q2264.15 1522.85 2267.2 1518.27 Q2270.28 1513.66 2276.09 1513.66 Z\" fill=\"#000000\" fill-rule=\"nonzero\" fill-opacity=\"1\" /><path clip-path=\"url(#clip460)\" d=\"M2306.25 1517.37 Q2302.64 1517.37 2300.81 1520.93 Q2299.01 1524.47 2299.01 1531.6 Q2299.01 1538.71 2300.81 1542.27 Q2302.64 1545.82 2306.25 1545.82 Q2309.89 1545.82 2311.69 1542.27 Q2313.52 1538.71 2313.52 1531.6 Q2313.52 1524.47 2311.69 1520.93 Q2309.89 1517.37 2306.25 1517.37 M2306.25 1513.66 Q2312.06 1513.66 2315.12 1518.27 Q2318.2 1522.85 2318.2 1531.6 Q2318.2 1540.33 2315.12 1544.94 Q2312.06 1549.52 2306.25 1549.52 Q2300.44 1549.52 2297.36 1544.94 Q2294.31 1540.33 2294.31 1531.6 Q2294.31 1522.85 2297.36 1518.27 Q2300.44 1513.66 2306.25 1513.66 Z\" fill=\"#000000\" fill-rule=\"nonzero\" fill-opacity=\"1\" /><path clip-path=\"url(#clip460)\" d=\"M2336.42 1517.37 Q2332.8 1517.37 2330.98 1520.93 Q2329.17 1524.47 2329.17 1531.6 Q2329.17 1538.71 2330.98 1542.27 Q2332.8 1545.82 2336.42 1545.82 Q2340.05 1545.82 2341.85 1542.27 Q2343.68 1538.71 2343.68 1531.6 Q2343.68 1524.47 2341.85 1520.93 Q2340.05 1517.37 2336.42 1517.37 M2336.42 1513.66 Q2342.23 1513.66 2345.28 1518.27 Q2348.36 1522.85 2348.36 1531.6 Q2348.36 1540.33 2345.28 1544.94 Q2342.23 1549.52 2336.42 1549.52 Q2330.6 1549.52 2327.53 1544.94 Q2324.47 1540.33 2324.47 1531.6 Q2324.47 1522.85 2327.53 1518.27 Q2330.6 1513.66 2336.42 1513.66 Z\" fill=\"#000000\" fill-rule=\"nonzero\" fill-opacity=\"1\" /><polyline clip-path=\"url(#clip460)\" style=\"stroke:#000000; stroke-linecap:round; stroke-linejoin:round; stroke-width:4; stroke-opacity:1; fill:none\" points=\"213.607,1486.45 213.607,47.2441 \"/>\n",
       "<polyline clip-path=\"url(#clip460)\" style=\"stroke:#000000; stroke-linecap:round; stroke-linejoin:round; stroke-width:4; stroke-opacity:1; fill:none\" points=\"213.607,1022.53 232.505,1022.53 \"/>\n",
       "<polyline clip-path=\"url(#clip460)\" style=\"stroke:#000000; stroke-linecap:round; stroke-linejoin:round; stroke-width:4; stroke-opacity:1; fill:none\" points=\"213.607,311.854 232.505,311.854 \"/>\n",
       "<path clip-path=\"url(#clip460)\" d=\"M51.6634 1042.33 L59.3023 1042.33 L59.3023 1015.96 L50.9921 1017.63 L50.9921 1013.37 L59.256 1011.7 L63.9319 1011.7 L63.9319 1042.33 L71.5707 1042.33 L71.5707 1046.26 L51.6634 1046.26 L51.6634 1042.33 Z\" fill=\"#000000\" fill-rule=\"nonzero\" fill-opacity=\"1\" /><path clip-path=\"url(#clip460)\" d=\"M91.0151 1014.78 Q87.404 1014.78 85.5753 1018.35 Q83.7697 1021.89 83.7697 1029.02 Q83.7697 1036.12 85.5753 1039.69 Q87.404 1043.23 91.0151 1043.23 Q94.6493 1043.23 96.4548 1039.69 Q98.2835 1036.12 98.2835 1029.02 Q98.2835 1021.89 96.4548 1018.35 Q94.6493 1014.78 91.0151 1014.78 M91.0151 1011.08 Q96.8252 1011.08 99.8808 1015.68 Q102.959 1020.27 102.959 1029.02 Q102.959 1037.74 99.8808 1042.35 Q96.8252 1046.93 91.0151 1046.93 Q85.2049 1046.93 82.1262 1042.35 Q79.0707 1037.74 79.0707 1029.02 Q79.0707 1020.27 82.1262 1015.68 Q85.2049 1011.08 91.0151 1011.08 Z\" fill=\"#000000\" fill-rule=\"nonzero\" fill-opacity=\"1\" /><path clip-path=\"url(#clip460)\" d=\"M102.959 1005.18 L127.071 1005.18 L127.071 1008.38 L102.959 1008.38 L102.959 1005.18 Z\" fill=\"#000000\" fill-rule=\"nonzero\" fill-opacity=\"1\" /><path clip-path=\"url(#clip460)\" d=\"M135.929 1015.65 L142.136 1015.65 L142.136 994.232 L135.384 995.587 L135.384 992.126 L142.098 990.772 L145.898 990.772 L145.898 1015.65 L152.104 1015.65 L152.104 1018.85 L135.929 1018.85 L135.929 1015.65 Z\" fill=\"#000000\" fill-rule=\"nonzero\" fill-opacity=\"1\" /><path clip-path=\"url(#clip460)\" d=\"M167.903 993.273 Q164.969 993.273 163.483 996.17 Q162.016 999.047 162.016 1004.84 Q162.016 1010.61 163.483 1013.51 Q164.969 1016.39 167.903 1016.39 Q170.855 1016.39 172.322 1013.51 Q173.808 1010.61 173.808 1004.84 Q173.808 999.047 172.322 996.17 Q170.855 993.273 167.903 993.273 M167.903 990.264 Q172.623 990.264 175.106 994.007 Q177.607 997.731 177.607 1004.84 Q177.607 1011.93 175.106 1015.67 Q172.623 1019.4 167.903 1019.4 Q163.182 1019.4 160.68 1015.67 Q158.198 1011.93 158.198 1004.84 Q158.198 997.731 160.68 994.007 Q163.182 990.264 167.903 990.264 Z\" fill=\"#000000\" fill-rule=\"nonzero\" fill-opacity=\"1\" /><path clip-path=\"url(#clip460)\" d=\"M106.902 331.646 L114.541 331.646 L114.541 305.281 L106.231 306.947 L106.231 302.688 L114.494 301.022 L119.17 301.022 L119.17 331.646 L126.809 331.646 L126.809 335.582 L106.902 335.582 L106.902 331.646 Z\" fill=\"#000000\" fill-rule=\"nonzero\" fill-opacity=\"1\" /><path clip-path=\"url(#clip460)\" d=\"M146.253 304.1 Q142.642 304.1 140.814 307.665 Q139.008 311.207 139.008 318.336 Q139.008 325.443 140.814 329.007 Q142.642 332.549 146.253 332.549 Q149.888 332.549 151.693 329.007 Q153.522 325.443 153.522 318.336 Q153.522 311.207 151.693 307.665 Q149.888 304.1 146.253 304.1 M146.253 300.397 Q152.064 300.397 155.119 305.003 Q158.198 309.586 158.198 318.336 Q158.198 327.063 155.119 331.67 Q152.064 336.253 146.253 336.253 Q140.443 336.253 137.365 331.67 Q134.309 327.063 134.309 318.336 Q134.309 309.586 137.365 305.003 Q140.443 300.397 146.253 300.397 Z\" fill=\"#000000\" fill-rule=\"nonzero\" fill-opacity=\"1\" /><path clip-path=\"url(#clip460)\" d=\"M167.903 282.593 Q164.969 282.593 163.483 285.489 Q162.016 288.367 162.016 294.159 Q162.016 299.933 163.483 302.83 Q164.969 305.707 167.903 305.707 Q170.855 305.707 172.322 302.83 Q173.808 299.933 173.808 294.159 Q173.808 288.367 172.322 285.489 Q170.855 282.593 167.903 282.593 M167.903 279.583 Q172.623 279.583 175.106 283.326 Q177.607 287.05 177.607 294.159 Q177.607 301.25 175.106 304.993 Q172.623 308.717 167.903 308.717 Q163.182 308.717 160.68 304.993 Q158.198 301.25 158.198 294.159 Q158.198 287.05 160.68 283.326 Q163.182 279.583 167.903 279.583 Z\" fill=\"#000000\" fill-rule=\"nonzero\" fill-opacity=\"1\" /><polyline clip-path=\"url(#clip462)\" style=\"stroke:#009af9; stroke-linecap:round; stroke-linejoin:round; stroke-width:4; stroke-opacity:1; fill:none\" points=\"274.149,322.067 276.169,358.829 278.19,403.334 280.21,454.149 282.23,510.261 284.25,570.923 286.27,635.57 288.29,703.757 290.31,775.127 292.33,849.387 294.35,926.293 296.37,1005.64 298.39,1087.25 300.411,1170.99 302.431,1257.02 304.451,1353.25 306.471,1402.93 308.491,1402.93 310.511,1402.93 312.531,1402.93 314.551,1402.93 316.571,1402.93 318.591,1402.93 320.611,1402.93 322.631,1402.93 324.652,1402.93 326.672,1402.93 328.692,1402.93 330.712,1402.93 332.732,1402.93 334.752,1402.93 336.772,1402.93 338.792,1402.93 340.812,1402.93 342.832,1402.93 344.852,1402.93 346.872,1402.93 348.893,1402.93 350.913,1402.93 352.933,1402.93 354.953,1402.93 356.973,1402.93 358.993,1402.93 361.013,1402.93 363.033,1402.93 365.053,1402.93 367.073,1402.93 369.093,1402.93 371.113,1402.93 373.134,1402.93 375.154,1402.93 377.174,1402.93 379.194,1402.93 381.214,1402.93 383.234,1402.93 385.254,1402.93 387.274,1402.93 389.294,1402.93 391.314,1402.93 393.334,1402.93 395.354,1402.93 397.375,1402.93 399.395,1402.93 401.415,1402.93 403.435,1402.93 405.455,1402.93 407.475,1402.93 409.495,1402.93 411.515,1402.93 413.535,1402.93 415.555,1402.93 417.575,1402.93 419.596,1402.93 421.616,1402.93 423.636,1402.93 425.656,1402.93 427.676,1402.93 429.696,1402.93 431.716,1402.93 433.736,1402.93 435.756,1402.93 437.776,1402.93 439.796,1402.93 441.816,1402.93 443.837,1402.93 445.857,1402.93 447.877,1402.93 449.897,1402.93 451.917,1402.93 453.937,1402.93 455.957,1402.93 457.977,1402.93 459.997,1402.93 462.017,1402.93 464.037,1402.93 466.057,1402.93 468.078,1402.93 470.098,1402.93 472.118,1402.93 474.138,1402.93 476.158,1402.93 478.178,1402.93 480.198,1402.93 482.218,1402.93 484.238,1402.93 486.258,1402.93 488.278,1402.93 490.298,1402.93 492.319,1402.93 494.339,1402.93 496.359,1402.93 498.379,1402.93 500.399,1402.93 502.419,1402.93 504.439,1402.93 506.459,1402.93 508.479,1402.93 510.499,1402.93 512.519,1402.93 514.539,1402.93 516.56,1402.93 518.58,1402.93 520.6,1402.93 522.62,1402.93 524.64,1402.93 526.66,1402.93 528.68,1402.93 530.7,1402.93 532.72,1402.93 534.74,1402.93 536.76,1402.93 538.781,1402.93 540.801,1402.93 542.821,1402.93 544.841,1402.93 546.861,1402.93 548.881,1402.93 550.901,1402.93 552.921,1402.93 554.941,1402.93 556.961,1402.93 558.981,1402.93 561.001,1402.93 563.022,1402.93 565.042,1402.93 567.062,1402.93 569.082,1402.93 571.102,1402.93 573.122,1402.93 575.142,1402.93 577.162,1402.93 579.182,1402.93 581.202,1402.93 583.222,1402.93 585.242,1402.93 587.263,1402.93 589.283,1402.93 591.303,1402.93 593.323,1402.93 595.343,1402.93 597.363,1402.93 599.383,1402.93 601.403,1402.93 603.423,1402.93 605.443,1402.93 607.463,1402.93 609.483,1402.93 611.504,1402.93 613.524,1402.93 615.544,1402.93 617.564,1402.93 619.584,1402.93 621.604,1402.93 623.624,1402.93 625.644,1402.93 627.664,1402.93 629.684,1402.93 631.704,1402.93 633.724,1402.93 635.745,1402.93 637.765,1402.93 639.785,1402.93 641.805,1402.93 643.825,1402.93 645.845,1402.93 647.865,1402.93 649.885,1402.93 651.905,1402.93 653.925,1402.93 655.945,1402.93 657.965,1402.93 659.986,1402.93 662.006,1402.93 664.026,1402.93 666.046,1402.93 668.066,1402.93 670.086,1402.93 672.106,1402.93 674.126,1402.93 676.146,1402.93 678.166,1402.93 680.186,1402.93 682.207,1402.93 684.227,1402.93 686.247,1402.93 688.267,1402.93 690.287,1402.93 692.307,1402.93 694.327,1402.93 696.347,1402.93 698.367,1402.93 700.387,1402.93 702.407,1402.93 704.427,1402.93 706.448,1402.93 708.468,1402.93 710.488,1402.93 712.508,1402.93 714.528,1402.93 716.548,1402.93 718.568,1402.93 720.588,1402.93 722.608,1402.93 724.628,1402.93 726.648,1402.93 728.668,1402.93 730.689,1402.93 732.709,1402.93 734.729,1402.93 736.749,1402.93 738.769,1402.93 740.789,1402.93 742.809,1402.93 744.829,1402.93 746.849,1402.93 748.869,1402.93 750.889,1402.93 752.909,1402.93 754.93,1402.93 756.95,1402.93 758.97,1402.93 760.99,1402.93 763.01,1402.93 765.03,1402.93 767.05,1402.93 769.07,1402.93 771.09,1402.93 773.11,1402.93 775.13,1402.93 777.15,1402.93 779.171,1402.93 781.191,1402.93 783.211,1402.93 785.231,1402.93 787.251,1402.93 789.271,1402.93 791.291,1402.93 793.311,1402.93 795.331,1402.93 797.351,1402.93 799.371,1402.93 801.392,1402.93 803.412,1402.93 805.432,1402.93 807.452,1402.93 809.472,1402.93 811.492,1402.93 813.512,1402.93 815.532,1402.93 817.552,1402.93 819.572,1402.93 821.592,1402.93 823.612,1402.93 825.633,1402.93 827.653,1402.93 829.673,1402.93 831.693,1402.93 833.713,1402.93 835.733,1402.93 837.753,1402.93 839.773,1402.93 841.793,1402.93 843.813,1402.93 845.833,1402.93 847.853,1402.93 849.874,1402.93 851.894,1402.93 853.914,1402.93 855.934,1402.93 857.954,1402.93 859.974,1402.93 861.994,1402.93 864.014,1402.93 866.034,1402.93 868.054,1402.93 870.074,1402.93 872.094,1402.93 874.115,1402.93 876.135,1402.93 878.155,1402.93 880.175,1402.93 882.195,1402.93 884.215,1402.93 886.235,1402.93 888.255,1402.93 890.275,1402.93 892.295,1402.93 894.315,1402.93 896.335,1402.93 898.356,1402.93 900.376,1402.93 902.396,1402.93 904.416,1402.93 906.436,1402.93 908.456,1402.93 910.476,1402.93 912.496,1402.93 914.516,1402.93 916.536,1402.93 918.556,1402.93 920.576,1402.93 922.597,1402.93 924.617,1402.93 926.637,1402.93 928.657,1402.93 930.677,1402.93 932.697,1402.93 934.717,1402.93 936.737,1402.93 938.757,1402.93 940.777,1402.93 942.797,1402.93 944.818,1402.93 946.838,1402.93 948.858,1402.93 950.878,1402.93 952.898,1402.93 954.918,1402.93 956.938,1402.93 958.958,1402.93 960.978,1402.93 962.998,1402.93 965.018,1402.93 967.038,1402.93 969.059,1402.93 971.079,1402.93 973.099,1402.93 975.119,1402.93 977.139,1402.93 979.159,1402.93 981.179,1402.93 983.199,1402.93 985.219,1402.93 987.239,1402.93 989.259,1402.93 991.279,1402.93 993.3,1402.93 995.32,1402.93 997.34,1402.93 999.36,1402.93 1001.38,1402.93 1003.4,1402.93 1005.42,1402.93 1007.44,1402.93 1009.46,1402.93 1011.48,1402.93 1013.5,1402.93 1015.52,1402.93 1017.54,1402.93 1019.56,1402.93 1021.58,1402.93 1023.6,1402.93 1025.62,1402.93 1027.64,1402.93 1029.66,1402.93 1031.68,1402.93 1033.7,1402.93 1035.72,1402.93 1037.74,1402.93 1039.76,1402.93 1041.78,1402.93 1043.8,1402.93 1045.82,1402.93 1047.84,1402.93 1049.86,1402.93 1051.88,1402.93 1053.9,1402.93 1055.92,1402.93 1057.94,1402.93 1059.96,1402.93 1061.98,1402.93 1064,1402.93 1066.02,1402.93 1068.04,1402.93 1070.06,1402.93 1072.08,1402.93 1074.1,1402.93 1076.12,1402.93 1078.14,1402.93 1080.16,1402.93 1082.18,1402.93 1084.2,1402.93 1086.22,1402.93 1088.24,1402.93 1090.26,1402.93 1092.28,1402.93 1094.3,1402.93 1096.32,1402.93 1098.34,1402.93 1100.36,1402.93 1102.38,1402.93 1104.4,1402.93 1106.42,1402.93 1108.44,1402.93 1110.46,1402.93 1112.48,1402.93 1114.5,1402.93 1116.52,1402.93 1118.54,1402.93 1120.56,1402.93 1122.58,1402.93 1124.61,1402.93 1126.63,1402.93 1128.65,1402.93 1130.67,1402.93 1132.69,1402.93 1134.71,1402.93 1136.73,1402.93 1138.75,1402.93 1140.77,1402.93 1142.79,1402.93 1144.81,1402.93 1146.83,1402.93 1148.85,1402.93 1150.87,1402.93 1152.89,1402.93 1154.91,1402.93 1156.93,1402.93 1158.95,1402.93 1160.97,1402.93 1162.99,1402.93 1165.01,1402.93 1167.03,1402.93 1169.05,1402.93 1171.07,1402.93 1173.09,1402.93 1175.11,1402.93 1177.13,1402.93 1179.15,1402.93 1181.17,1402.93 1183.19,1402.93 1185.21,1402.93 1187.23,1402.93 1189.25,1402.93 1191.27,1402.93 1193.29,1402.93 1195.31,1402.93 1197.33,1402.93 1199.35,1402.93 1201.37,1402.93 1203.39,1402.93 1205.41,1402.93 1207.43,1402.93 1209.45,1402.93 1211.47,1402.93 1213.49,1402.93 1215.51,1402.93 1217.53,1402.93 1219.55,1402.93 1221.57,1402.93 1223.59,1402.93 1225.61,1402.93 1227.63,1402.93 1229.65,1402.93 1231.67,1402.93 1233.69,1402.93 1235.71,1402.93 1237.73,1402.93 1239.75,1402.93 1241.77,1402.93 1243.79,1402.93 1245.81,1402.93 1247.83,1402.93 1249.85,1402.93 1251.87,1402.93 1253.89,1402.93 1255.91,1402.93 1257.93,1402.93 1259.95,1402.93 1261.97,1402.93 1263.99,1402.93 1266.01,1402.93 1268.03,1402.93 1270.05,1402.93 1272.07,1402.93 1274.09,1402.93 1276.11,1402.93 1278.13,1402.93 1280.15,1402.93 1282.17,1402.93 1284.19,1402.93 1286.21,1402.93 1288.23,1402.93 1290.25,1402.93 1292.27,1402.93 1294.29,1402.93 1296.31,1402.93 1298.33,1402.93 1300.35,1402.93 1302.37,1402.93 1304.39,1402.93 1306.41,1402.93 1308.43,1402.93 1310.45,1402.93 1312.47,1402.93 1314.49,1402.93 1316.51,1402.93 1318.53,1402.93 1320.55,1402.93 1322.57,1402.93 1324.59,1402.93 1326.61,1402.93 1328.63,1402.93 1330.65,1402.93 1332.67,1402.93 1334.69,1402.93 1336.71,1402.93 1338.73,1402.93 1340.75,1402.93 1342.77,1402.93 1344.79,1402.93 1346.81,1402.93 1348.83,1402.93 1350.85,1402.93 1352.87,1402.93 1354.89,1402.93 1356.91,1402.93 1358.93,1402.93 1360.95,1402.93 1362.98,1402.93 1365,1402.93 1367.02,1402.93 1369.04,1402.93 1371.06,1402.93 1373.08,1402.93 1375.1,1402.93 1377.12,1402.93 1379.14,1402.93 1381.16,1402.93 1383.18,1402.93 1385.2,1402.93 1387.22,1402.93 1389.24,1402.93 1391.26,1402.93 1393.28,1402.93 1395.3,1402.93 1397.32,1402.93 1399.34,1402.93 1401.36,1402.93 1403.38,1402.93 1405.4,1402.93 1407.42,1402.93 1409.44,1402.93 1411.46,1402.93 1413.48,1402.93 1415.5,1402.93 1417.52,1402.93 1419.54,1402.93 1421.56,1402.93 1423.58,1402.93 1425.6,1402.93 1427.62,1402.93 1429.64,1402.93 1431.66,1402.93 1433.68,1402.93 1435.7,1402.93 1437.72,1402.93 1439.74,1402.93 1441.76,1402.93 1443.78,1402.93 1445.8,1402.93 1447.82,1402.93 1449.84,1402.93 1451.86,1402.93 1453.88,1402.93 1455.9,1402.93 1457.92,1402.93 1459.94,1402.93 1461.96,1402.93 1463.98,1402.93 1466,1402.93 1468.02,1402.93 1470.04,1402.93 1472.06,1402.93 1474.08,1402.93 1476.1,1402.93 1478.12,1402.93 1480.14,1402.93 1482.16,1402.93 1484.18,1402.93 1486.2,1402.93 1488.22,1402.93 1490.24,1402.93 1492.26,1402.93 1494.28,1402.93 1496.3,1402.93 1498.32,1402.93 1500.34,1402.93 1502.36,1402.93 1504.38,1402.93 1506.4,1402.93 1508.42,1402.93 1510.44,1402.93 1512.46,1402.93 1514.48,1402.93 1516.5,1402.93 1518.52,1402.93 1520.54,1402.93 1522.56,1402.93 1524.58,1402.93 1526.6,1402.93 1528.62,1402.93 1530.64,1402.93 1532.66,1402.93 1534.68,1402.93 1536.7,1402.93 1538.72,1402.93 1540.74,1402.93 1542.76,1402.93 1544.78,1402.93 1546.8,1402.93 1548.82,1402.93 1550.84,1402.93 1552.86,1402.93 1554.88,1402.93 1556.9,1402.93 1558.92,1402.93 1560.94,1402.93 1562.96,1402.93 1564.98,1402.93 1567,1402.93 1569.02,1402.93 1571.04,1402.93 1573.06,1402.93 1575.08,1402.93 1577.1,1402.93 1579.12,1402.93 1581.14,1402.93 1583.16,1402.93 1585.18,1402.93 1587.2,1402.93 1589.22,1402.93 1591.24,1402.93 1593.26,1402.93 1595.28,1402.93 1597.3,1402.93 1599.32,1402.93 1601.35,1402.93 1603.37,1402.93 1605.39,1402.93 1607.41,1402.93 1609.43,1402.93 1611.45,1402.93 1613.47,1402.93 1615.49,1402.93 1617.51,1402.93 1619.53,1402.93 1621.55,1402.93 1623.57,1402.93 1625.59,1402.93 1627.61,1402.93 1629.63,1402.93 1631.65,1402.93 1633.67,1402.93 1635.69,1402.93 1637.71,1402.93 1639.73,1402.93 1641.75,1402.93 1643.77,1402.93 1645.79,1402.93 1647.81,1402.93 1649.83,1402.93 1651.85,1402.93 1653.87,1402.93 1655.89,1402.93 1657.91,1402.93 1659.93,1402.93 1661.95,1402.93 1663.97,1402.93 1665.99,1402.93 1668.01,1402.93 1670.03,1402.93 1672.05,1402.93 1674.07,1402.93 1676.09,1402.93 1678.11,1402.93 1680.13,1402.93 1682.15,1402.93 1684.17,1402.93 1686.19,1402.93 1688.21,1402.93 1690.23,1402.93 1692.25,1402.93 1694.27,1402.93 1696.29,1402.93 1698.31,1402.93 1700.33,1402.93 1702.35,1402.93 1704.37,1402.93 1706.39,1402.93 1708.41,1402.93 1710.43,1402.93 1712.45,1402.93 1714.47,1402.93 1716.49,1402.93 1718.51,1402.93 1720.53,1402.93 1722.55,1402.93 1724.57,1402.93 1726.59,1402.93 1728.61,1402.93 1730.63,1402.93 1732.65,1402.93 1734.67,1402.93 1736.69,1402.93 1738.71,1402.93 1740.73,1402.93 1742.75,1402.93 1744.77,1402.93 1746.79,1402.93 1748.81,1402.93 1750.83,1402.93 1752.85,1402.93 1754.87,1402.93 1756.89,1402.93 1758.91,1402.93 1760.93,1402.93 1762.95,1402.93 1764.97,1402.93 1766.99,1402.93 1769.01,1402.93 1771.03,1402.93 1773.05,1402.93 1775.07,1402.93 1777.09,1402.93 1779.11,1402.93 1781.13,1402.93 1783.15,1402.93 1785.17,1402.93 1787.19,1402.93 1789.21,1402.93 1791.23,1402.93 1793.25,1402.93 1795.27,1402.93 1797.29,1402.93 1799.31,1402.93 1801.33,1402.93 1803.35,1402.93 1805.37,1402.93 1807.39,1402.93 1809.41,1402.93 1811.43,1402.93 1813.45,1402.93 1815.47,1402.93 1817.49,1402.93 1819.51,1402.93 1821.53,1402.93 1823.55,1402.93 1825.57,1402.93 1827.59,1402.93 1829.61,1402.93 1831.63,1402.93 1833.65,1402.93 1835.67,1402.93 1837.69,1402.93 1839.72,1402.93 1841.74,1402.93 1843.76,1402.93 1845.78,1402.93 1847.8,1402.93 1849.82,1402.93 1851.84,1402.93 1853.86,1402.93 1855.88,1402.93 1857.9,1402.93 1859.92,1402.93 1861.94,1402.93 1863.96,1402.93 1865.98,1402.93 1868,1402.93 1870.02,1402.93 1872.04,1402.93 1874.06,1402.93 1876.08,1402.93 1878.1,1402.93 1880.12,1402.93 1882.14,1402.93 1884.16,1402.93 1886.18,1402.93 1888.2,1402.93 1890.22,1402.93 1892.24,1402.93 1894.26,1402.93 1896.28,1402.93 1898.3,1402.93 1900.32,1402.93 1902.34,1402.93 1904.36,1402.93 1906.38,1402.93 1908.4,1402.93 1910.42,1402.93 1912.44,1402.93 1914.46,1402.93 1916.48,1402.93 1918.5,1402.93 1920.52,1402.93 1922.54,1402.93 1924.56,1402.93 1926.58,1402.93 1928.6,1402.93 1930.62,1402.93 1932.64,1402.93 1934.66,1402.93 1936.68,1402.93 1938.7,1402.93 1940.72,1402.93 1942.74,1402.93 1944.76,1402.93 1946.78,1402.93 1948.8,1402.93 1950.82,1402.93 1952.84,1402.93 1954.86,1402.93 1956.88,1402.93 1958.9,1402.93 1960.92,1402.93 1962.94,1402.93 1964.96,1402.93 1966.98,1402.93 1969,1402.93 1971.02,1402.93 1973.04,1402.93 1975.06,1402.93 1977.08,1402.93 1979.1,1402.93 1981.12,1402.93 1983.14,1402.93 1985.16,1402.93 1987.18,1402.93 1989.2,1402.93 1991.22,1402.93 1993.24,1402.93 1995.26,1402.93 1997.28,1402.93 1999.3,1402.93 2001.32,1402.93 2003.34,1402.93 2005.36,1402.93 2007.38,1402.93 2009.4,1402.93 2011.42,1402.93 2013.44,1402.93 2015.46,1402.93 2017.48,1402.93 2019.5,1402.93 2021.52,1402.93 2023.54,1402.93 2025.56,1402.93 2027.58,1402.93 2029.6,1402.93 2031.62,1402.93 2033.64,1402.93 2035.66,1402.93 2037.68,1402.93 2039.7,1402.93 2041.72,1402.93 2043.74,1402.93 2045.76,1402.93 2047.78,1402.93 2049.8,1402.93 2051.82,1402.93 2053.84,1402.93 2055.86,1402.93 2057.88,1402.93 2059.9,1402.93 2061.92,1402.93 2063.94,1402.93 2065.96,1402.93 2067.98,1402.93 2070,1402.93 2072.02,1402.93 2074.04,1402.93 2076.06,1402.93 2078.08,1402.93 2080.11,1402.93 2082.13,1402.93 2084.15,1402.93 2086.17,1402.93 2088.19,1402.93 2090.21,1402.93 2092.23,1402.93 2094.25,1402.93 2096.27,1402.93 2098.29,1402.93 2100.31,1402.93 2102.33,1402.93 2104.35,1402.93 2106.37,1402.93 2108.39,1402.93 2110.41,1402.93 2112.43,1402.93 2114.45,1402.93 2116.47,1402.93 2118.49,1402.93 2120.51,1402.93 2122.53,1402.93 2124.55,1402.93 2126.57,1402.93 2128.59,1402.93 2130.61,1402.93 2132.63,1402.93 2134.65,1402.93 2136.67,1402.93 2138.69,1402.93 2140.71,1402.93 2142.73,1402.93 2144.75,1402.93 2146.77,1402.93 2148.79,1402.93 2150.81,1402.93 2152.83,1402.93 2154.85,1402.93 2156.87,1402.93 2158.89,1402.93 2160.91,1402.93 2162.93,1402.93 2164.95,1402.93 2166.97,1402.93 2168.99,1402.93 2171.01,1402.93 2173.03,1402.93 2175.05,1402.93 2177.07,1402.93 2179.09,1402.93 2181.11,1402.93 2183.13,1402.93 2185.15,1402.93 2187.17,1402.93 2189.19,1402.93 2191.21,1402.93 2193.23,1402.93 2195.25,1402.93 2197.27,1402.93 2199.29,1402.93 2201.31,1402.93 2203.33,1402.93 2205.35,1402.93 2207.37,1402.93 2209.39,1402.93 2211.41,1402.93 2213.43,1402.93 2215.45,1402.93 2217.47,1402.93 2219.49,1402.93 2221.51,1402.93 2223.53,1402.93 2225.55,1402.93 2227.57,1402.93 2229.59,1402.93 2231.61,1402.93 2233.63,1402.93 2235.65,1402.93 2237.67,1402.93 2239.69,1402.93 2241.71,1402.93 2243.73,1402.93 2245.75,1402.93 2247.77,1402.93 2249.79,1402.93 2251.81,1402.93 2253.83,1402.93 2255.85,1402.93 2257.87,1402.93 2259.89,1402.93 2261.91,1402.93 2263.93,1402.93 2265.95,1402.93 2267.97,1402.93 2269.99,1402.93 2272.01,1402.93 2274.03,1402.93 2276.05,1402.93 2278.07,1402.93 2280.09,1402.93 2282.11,1402.93 2284.13,1402.93 2286.15,1402.93 2288.17,1402.93 2290.19,1402.93 2292.21,1402.93 \"/>\n",
       "<polyline clip-path=\"url(#clip462)\" style=\"stroke:#e26f46; stroke-linecap:round; stroke-linejoin:round; stroke-width:4; stroke-opacity:1; fill:none\" points=\"274.149,334.107 276.169,367.734 278.19,410.354 280.21,459.923 282.23,515.155 284.25,575.166 286.27,639.311 288.29,707.102 290.31,778.15 292.33,852.144 294.35,928.827 296.37,1007.98 298.39,1089.43 300.411,1173 302.431,1258.51 304.451,1346.37 \"/>\n",
       "<polyline clip-path=\"url(#clip462)\" style=\"stroke:#e26f46; stroke-linecap:round; stroke-linejoin:round; stroke-width:4; stroke-opacity:1; fill:none\" points=\"308.491,1445.72 310.511,1445.72 312.531,1445.72 314.551,1445.72 316.571,1445.72 318.591,1445.72 320.611,1445.72 322.631,1445.72 324.652,1445.72 326.672,1445.72 328.692,1445.72 330.712,1445.72 332.732,1445.72 334.752,1445.72 336.772,1445.72 338.792,1445.72 340.812,1445.72 342.832,1445.72 344.852,1445.72 346.872,1445.72 348.893,1445.72 350.913,1445.72 352.933,1445.72 354.953,1445.72 356.973,1445.72 358.993,1445.72 361.013,1445.72 363.033,1445.72 365.053,1445.72 367.073,1445.72 369.093,1445.72 371.113,1445.72 373.134,1445.72 375.154,1445.72 377.174,1445.72 379.194,1445.72 381.214,1445.72 383.234,1445.72 385.254,1445.72 387.274,1445.72 389.294,1445.72 391.314,1445.72 393.334,1445.72 395.354,1445.72 397.375,1445.72 399.395,1445.72 401.415,1445.72 403.435,1445.72 405.455,1445.72 407.475,1445.72 409.495,1445.72 411.515,1445.72 413.535,1445.72 415.555,1445.72 417.575,1445.72 419.596,1445.72 421.616,1445.72 423.636,1445.72 425.656,1445.72 427.676,1445.72 429.696,1445.72 431.716,1445.72 433.736,1445.72 435.756,1445.72 437.776,1445.72 439.796,1445.72 441.816,1445.72 443.837,1445.72 445.857,1445.72 447.877,1445.72 449.897,1445.72 451.917,1445.72 453.937,1445.72 455.957,1445.72 457.977,1445.72 459.997,1445.72 462.017,1445.72 464.037,1445.72 466.057,1445.72 468.078,1445.72 470.098,1445.72 472.118,1445.72 474.138,1445.72 476.158,1445.72 478.178,1445.72 480.198,1445.72 482.218,1445.72 484.238,1445.72 486.258,1445.72 488.278,1445.72 490.298,1445.72 492.319,1445.72 494.339,1445.72 496.359,1445.72 498.379,1445.72 500.399,1445.72 502.419,1445.72 504.439,1445.72 506.459,1445.72 508.479,1445.72 510.499,1445.72 512.519,1445.72 514.539,1445.72 516.56,1445.72 518.58,1445.72 520.6,1445.72 522.62,1445.72 524.64,1445.72 526.66,1445.72 528.68,1445.72 530.7,1445.72 532.72,1445.72 534.74,1445.72 536.76,1445.72 538.781,1445.72 540.801,1445.72 542.821,1445.72 544.841,1445.72 546.861,1445.72 548.881,1445.72 550.901,1445.72 552.921,1445.72 554.941,1445.72 556.961,1445.72 558.981,1445.72 561.001,1445.72 563.022,1445.72 565.042,1445.72 567.062,1445.72 569.082,1445.72 571.102,1445.72 573.122,1445.72 575.142,1445.72 577.162,1445.72 579.182,1445.72 581.202,1445.72 583.222,1445.72 585.242,1445.72 587.263,1445.72 589.283,1445.72 591.303,1445.72 593.323,1445.72 595.343,1445.72 597.363,1445.72 599.383,1445.72 601.403,1445.72 603.423,1445.72 605.443,1445.72 607.463,1445.72 609.483,1445.72 611.504,1445.72 613.524,1445.72 615.544,1445.72 617.564,1445.72 619.584,1445.72 621.604,1445.72 623.624,1445.72 625.644,1445.72 627.664,1445.72 629.684,1445.72 631.704,1445.72 633.724,1445.72 635.745,1445.72 637.765,1445.72 639.785,1445.72 641.805,1445.72 643.825,1445.72 645.845,1445.72 647.865,1445.72 649.885,1445.72 651.905,1445.72 653.925,1445.72 655.945,1445.72 657.965,1445.72 659.986,1445.72 662.006,1445.72 664.026,1445.72 666.046,1445.72 668.066,1445.72 670.086,1445.72 672.106,1445.72 674.126,1445.72 676.146,1445.72 678.166,1445.72 680.186,1445.72 682.207,1445.72 684.227,1445.72 686.247,1445.72 688.267,1445.72 690.287,1445.72 692.307,1445.72 694.327,1445.72 696.347,1445.72 698.367,1445.72 700.387,1445.72 702.407,1445.72 704.427,1445.72 706.448,1445.72 708.468,1445.72 710.488,1445.72 712.508,1445.72 714.528,1445.72 716.548,1445.72 718.568,1445.72 720.588,1445.72 722.608,1445.72 724.628,1445.72 726.648,1445.72 728.668,1445.72 730.689,1445.72 732.709,1445.72 734.729,1445.72 736.749,1445.72 738.769,1445.72 740.789,1445.72 742.809,1445.72 744.829,1445.72 746.849,1445.72 748.869,1445.72 750.889,1445.72 752.909,1445.72 754.93,1445.72 756.95,1445.72 758.97,1445.72 760.99,1445.72 763.01,1445.72 765.03,1445.72 767.05,1445.72 769.07,1445.72 771.09,1445.72 773.11,1445.72 775.13,1445.72 777.15,1445.72 779.171,1445.72 781.191,1445.72 783.211,1445.72 785.231,1445.72 787.251,1445.72 789.271,1445.72 791.291,1445.72 793.311,1445.72 795.331,1445.72 797.351,1445.72 799.371,1445.72 801.392,1445.72 803.412,1445.72 805.432,1445.72 807.452,1445.72 809.472,1445.72 811.492,1445.72 813.512,1445.72 815.532,1445.72 817.552,1445.72 819.572,1445.72 821.592,1445.72 823.612,1445.72 825.633,1445.72 827.653,1445.72 829.673,1445.72 831.693,1445.72 833.713,1445.72 835.733,1445.72 837.753,1445.72 839.773,1445.72 841.793,1445.72 843.813,1445.72 845.833,1445.72 847.853,1445.72 849.874,1445.72 851.894,1445.72 853.914,1445.72 855.934,1445.72 857.954,1445.72 859.974,1445.72 861.994,1445.72 864.014,1445.72 866.034,1445.72 868.054,1445.72 870.074,1445.72 872.094,1445.72 874.115,1445.72 876.135,1445.72 878.155,1445.72 880.175,1445.72 882.195,1445.72 884.215,1445.72 886.235,1445.72 888.255,1445.72 890.275,1445.72 892.295,1445.72 894.315,1445.72 896.335,1445.72 898.356,1445.72 900.376,1445.72 902.396,1445.72 904.416,1445.72 906.436,1445.72 908.456,1445.72 910.476,1445.72 912.496,1445.72 914.516,1445.72 916.536,1445.72 918.556,1445.72 920.576,1445.72 922.597,1445.72 924.617,1445.72 926.637,1445.72 928.657,1445.72 930.677,1445.72 932.697,1445.72 934.717,1445.72 936.737,1445.72 938.757,1445.72 940.777,1445.72 942.797,1445.72 944.818,1445.72 946.838,1445.72 948.858,1445.72 950.878,1445.72 952.898,1445.72 954.918,1445.72 956.938,1445.72 958.958,1445.72 960.978,1445.72 962.998,1445.72 965.018,1445.72 967.038,1445.72 969.059,1445.72 971.079,1445.72 973.099,1445.72 975.119,1445.72 977.139,1445.72 979.159,1445.72 981.179,1445.72 983.199,1445.72 985.219,1445.72 987.239,1445.72 989.259,1445.72 991.279,1445.72 993.3,1445.72 995.32,1445.72 997.34,1445.72 999.36,1445.72 1001.38,1445.72 1003.4,1445.72 1005.42,1445.72 1007.44,1445.72 1009.46,1445.72 1011.48,1445.72 1013.5,1445.72 1015.52,1445.72 1017.54,1445.72 1019.56,1445.72 1021.58,1445.72 1023.6,1445.72 1025.62,1445.72 1027.64,1445.72 1029.66,1445.72 1031.68,1445.72 1033.7,1445.72 1035.72,1445.72 1037.74,1445.72 1039.76,1445.72 1041.78,1445.72 1043.8,1445.72 1045.82,1445.72 1047.84,1445.72 1049.86,1445.72 1051.88,1445.72 1053.9,1445.72 1055.92,1445.72 1057.94,1445.72 1059.96,1445.72 1061.98,1445.72 1064,1445.72 1066.02,1445.72 1068.04,1445.72 1070.06,1445.72 1072.08,1445.72 1074.1,1445.72 1076.12,1445.72 1078.14,1445.72 1080.16,1445.72 1082.18,1445.72 1084.2,1445.72 1086.22,1445.72 1088.24,1445.72 1090.26,1445.72 1092.28,1445.72 1094.3,1445.72 1096.32,1445.72 1098.34,1445.72 1100.36,1445.72 1102.38,1445.72 1104.4,1445.72 1106.42,1445.72 1108.44,1445.72 1110.46,1445.72 1112.48,1445.72 1114.5,1445.72 1116.52,1445.72 1118.54,1445.72 1120.56,1445.72 1122.58,1445.72 1124.61,1445.72 1126.63,1445.72 1128.65,1445.72 1130.67,1445.72 1132.69,1445.72 1134.71,1445.72 1136.73,1445.72 1138.75,1445.72 1140.77,1445.72 1142.79,1445.72 1144.81,1445.72 1146.83,1445.72 1148.85,1445.72 1150.87,1445.72 1152.89,1445.72 1154.91,1445.72 1156.93,1445.72 1158.95,1445.72 1160.97,1445.72 1162.99,1445.72 1165.01,1445.72 1167.03,1445.72 1169.05,1445.72 1171.07,1445.72 1173.09,1445.72 1175.11,1445.72 1177.13,1445.72 1179.15,1445.72 1181.17,1445.72 1183.19,1445.72 1185.21,1445.72 1187.23,1445.72 1189.25,1445.72 1191.27,1445.72 1193.29,1445.72 1195.31,1445.72 1197.33,1445.72 1199.35,1445.72 1201.37,1445.72 1203.39,1445.72 1205.41,1445.72 1207.43,1445.72 1209.45,1445.72 1211.47,1445.72 1213.49,1445.72 1215.51,1445.72 1217.53,1445.72 1219.55,1445.72 1221.57,1445.72 1223.59,1445.72 1225.61,1445.72 1227.63,1445.72 1229.65,1445.72 1231.67,1445.72 1233.69,1445.72 1235.71,1445.72 1237.73,1445.72 1239.75,1445.72 1241.77,1445.72 1243.79,1445.72 1245.81,1445.72 1247.83,1445.72 1249.85,1445.72 1251.87,1445.72 1253.89,1445.72 1255.91,1445.72 1257.93,1445.72 1259.95,1445.72 1261.97,1445.72 1263.99,1445.72 1266.01,1445.72 1268.03,1445.72 1270.05,1445.72 1272.07,1445.72 1274.09,1445.72 1276.11,1445.72 1278.13,1445.72 1280.15,1445.72 1282.17,1445.72 1284.19,1445.72 1286.21,1445.72 1288.23,1445.72 1290.25,1445.72 1292.27,1445.72 1294.29,1445.72 1296.31,1445.72 1298.33,1445.72 1300.35,1445.72 1302.37,1445.72 1304.39,1445.72 1306.41,1445.72 1308.43,1445.72 1310.45,1445.72 1312.47,1445.72 1314.49,1445.72 1316.51,1445.72 1318.53,1445.72 1320.55,1445.72 1322.57,1445.72 1324.59,1445.72 1326.61,1445.72 1328.63,1445.72 1330.65,1445.72 1332.67,1445.72 1334.69,1445.72 1336.71,1445.72 1338.73,1445.72 1340.75,1445.72 1342.77,1445.72 1344.79,1445.72 1346.81,1445.72 1348.83,1445.72 1350.85,1445.72 1352.87,1445.72 1354.89,1445.72 1356.91,1445.72 1358.93,1445.72 1360.95,1445.72 1362.98,1445.72 1365,1445.72 1367.02,1445.72 1369.04,1445.72 1371.06,1445.72 1373.08,1445.72 1375.1,1445.72 1377.12,1445.72 1379.14,1445.72 1381.16,1445.72 1383.18,1445.72 1385.2,1445.72 1387.22,1445.72 1389.24,1445.72 1391.26,1445.72 1393.28,1445.72 1395.3,1445.72 1397.32,1445.72 1399.34,1445.72 1401.36,1445.72 1403.38,1445.72 1405.4,1445.72 1407.42,1445.72 1409.44,1445.72 1411.46,1445.72 1413.48,1445.72 1415.5,1445.72 1417.52,1445.72 1419.54,1445.72 1421.56,1445.72 1423.58,1445.72 1425.6,1445.72 1427.62,1445.72 1429.64,1445.72 1431.66,1445.72 1433.68,1445.72 1435.7,1445.72 1437.72,1445.72 1439.74,1445.72 1441.76,1445.72 1443.78,1445.72 1445.8,1445.72 1447.82,1445.72 1449.84,1445.72 1451.86,1445.72 1453.88,1445.72 1455.9,1445.72 1457.92,1445.72 1459.94,1445.72 1461.96,1445.72 1463.98,1445.72 1466,1445.72 1468.02,1445.72 1470.04,1445.72 1472.06,1445.72 1474.08,1445.72 1476.1,1445.72 1478.12,1445.72 1480.14,1445.72 1482.16,1445.72 1484.18,1445.72 1486.2,1445.72 1488.22,1445.72 1490.24,1445.72 1492.26,1445.72 1494.28,1445.72 1496.3,1445.72 1498.32,1445.72 1500.34,1445.72 1502.36,1445.72 1504.38,1445.72 1506.4,1445.72 1508.42,1445.72 1510.44,1445.72 1512.46,1445.72 1514.48,1445.72 1516.5,1445.72 1518.52,1445.72 1520.54,1445.72 1522.56,1445.72 1524.58,1445.72 1526.6,1445.72 1528.62,1445.72 1530.64,1445.72 1532.66,1445.72 1534.68,1445.72 1536.7,1445.72 1538.72,1445.72 1540.74,1445.72 1542.76,1445.72 1544.78,1445.72 1546.8,1445.72 1548.82,1445.72 1550.84,1445.72 1552.86,1445.72 1554.88,1445.72 1556.9,1445.72 1558.92,1445.72 1560.94,1445.72 1562.96,1445.72 1564.98,1445.72 1567,1445.72 1569.02,1445.72 1571.04,1445.72 1573.06,1445.72 1575.08,1445.72 1577.1,1445.72 1579.12,1445.72 1581.14,1445.72 1583.16,1445.72 1585.18,1445.72 1587.2,1445.72 1589.22,1445.72 1591.24,1445.72 1593.26,1445.72 1595.28,1445.72 1597.3,1445.72 1599.32,1445.72 1601.35,1445.72 1603.37,1445.72 1605.39,1445.72 1607.41,1445.72 1609.43,1445.72 1611.45,1445.72 1613.47,1445.72 1615.49,1445.72 1617.51,1445.72 1619.53,1445.72 1621.55,1445.72 1623.57,1445.72 1625.59,1445.72 1627.61,1445.72 1629.63,1445.72 1631.65,1445.72 1633.67,1445.72 1635.69,1445.72 1637.71,1445.72 1639.73,1445.72 1641.75,1445.72 1643.77,1445.72 1645.79,1445.72 1647.81,1445.72 1649.83,1445.72 1651.85,1445.72 1653.87,1445.72 1655.89,1445.72 1657.91,1445.72 1659.93,1445.72 1661.95,1445.72 1663.97,1445.72 1665.99,1445.72 1668.01,1445.72 1670.03,1445.72 1672.05,1445.72 1674.07,1445.72 1676.09,1445.72 1678.11,1445.72 1680.13,1445.72 1682.15,1445.72 1684.17,1445.72 1686.19,1445.72 1688.21,1445.72 1690.23,1445.72 1692.25,1445.72 1694.27,1445.72 1696.29,1445.72 1698.31,1445.72 1700.33,1445.72 1702.35,1445.72 1704.37,1445.72 1706.39,1445.72 1708.41,1445.72 1710.43,1445.72 1712.45,1445.72 1714.47,1445.72 1716.49,1445.72 1718.51,1445.72 1720.53,1445.72 1722.55,1445.72 1724.57,1445.72 1726.59,1445.72 1728.61,1445.72 1730.63,1445.72 1732.65,1445.72 1734.67,1445.72 1736.69,1445.72 1738.71,1445.72 1740.73,1445.72 1742.75,1445.72 1744.77,1445.72 1746.79,1445.72 1748.81,1445.72 1750.83,1445.72 1752.85,1445.72 1754.87,1445.72 1756.89,1445.72 1758.91,1445.72 1760.93,1445.72 1762.95,1445.72 1764.97,1445.72 1766.99,1445.72 1769.01,1445.72 1771.03,1445.72 1773.05,1445.72 1775.07,1445.72 1777.09,1445.72 1779.11,1445.72 1781.13,1445.72 1783.15,1445.72 1785.17,1445.72 1787.19,1445.72 1789.21,1445.72 1791.23,1445.72 1793.25,1445.72 1795.27,1445.72 1797.29,1445.72 1799.31,1445.72 1801.33,1445.72 1803.35,1445.72 1805.37,1445.72 1807.39,1445.72 1809.41,1445.72 1811.43,1445.72 1813.45,1445.72 1815.47,1445.72 1817.49,1445.72 1819.51,1445.72 1821.53,1445.72 1823.55,1445.72 1825.57,1445.72 1827.59,1445.72 1829.61,1445.72 1831.63,1445.72 1833.65,1445.72 1835.67,1445.72 1837.69,1445.72 1839.72,1445.72 1841.74,1445.72 1843.76,1445.72 1845.78,1445.72 1847.8,1445.72 1849.82,1445.72 1851.84,1445.72 1853.86,1445.72 1855.88,1445.72 1857.9,1445.72 1859.92,1445.72 1861.94,1445.72 1863.96,1445.72 1865.98,1445.72 1868,1445.72 1870.02,1445.72 1872.04,1445.72 1874.06,1445.72 1876.08,1445.72 1878.1,1445.72 1880.12,1445.72 1882.14,1445.72 1884.16,1445.72 1886.18,1445.72 1888.2,1445.72 1890.22,1445.72 1892.24,1445.72 1894.26,1445.72 1896.28,1445.72 1898.3,1445.72 1900.32,1445.72 1902.34,1445.72 1904.36,1445.72 1906.38,1445.72 1908.4,1445.72 1910.42,1445.72 1912.44,1445.72 1914.46,1445.72 1916.48,1445.72 1918.5,1445.72 1920.52,1445.72 1922.54,1445.72 1924.56,1445.72 1926.58,1445.72 1928.6,1445.72 1930.62,1445.72 1932.64,1445.72 1934.66,1445.72 1936.68,1445.72 1938.7,1445.72 1940.72,1445.72 1942.74,1445.72 1944.76,1445.72 1946.78,1445.72 1948.8,1445.72 1950.82,1445.72 1952.84,1445.72 1954.86,1445.72 1956.88,1445.72 1958.9,1445.72 1960.92,1445.72 1962.94,1445.72 1964.96,1445.72 1966.98,1445.72 1969,1445.72 1971.02,1445.72 1973.04,1445.72 1975.06,1445.72 1977.08,1445.72 1979.1,1445.72 1981.12,1445.72 1983.14,1445.72 1985.16,1445.72 1987.18,1445.72 1989.2,1445.72 1991.22,1445.72 1993.24,1445.72 1995.26,1445.72 1997.28,1445.72 1999.3,1445.72 2001.32,1445.72 2003.34,1445.72 2005.36,1445.72 2007.38,1445.72 2009.4,1445.72 2011.42,1445.72 2013.44,1445.72 2015.46,1445.72 2017.48,1445.72 2019.5,1445.72 2021.52,1445.72 2023.54,1445.72 2025.56,1445.72 2027.58,1445.72 2029.6,1445.72 2031.62,1445.72 2033.64,1445.72 2035.66,1445.72 2037.68,1445.72 2039.7,1445.72 2041.72,1445.72 2043.74,1445.72 2045.76,1445.72 2047.78,1445.72 2049.8,1445.72 2051.82,1445.72 2053.84,1445.72 2055.86,1445.72 2057.88,1445.72 2059.9,1445.72 2061.92,1445.72 2063.94,1445.72 2065.96,1445.72 2067.98,1445.72 2070,1445.72 2072.02,1445.72 2074.04,1445.72 2076.06,1445.72 2078.08,1445.72 2080.11,1445.72 2082.13,1445.72 2084.15,1445.72 2086.17,1445.72 2088.19,1445.72 2090.21,1445.72 2092.23,1445.72 2094.25,1445.72 2096.27,1445.72 2098.29,1445.72 2100.31,1445.72 2102.33,1445.72 2104.35,1445.72 2106.37,1445.72 2108.39,1445.72 2110.41,1445.72 2112.43,1445.72 2114.45,1445.72 2116.47,1445.72 2118.49,1445.72 2120.51,1445.72 2122.53,1445.72 2124.55,1445.72 2126.57,1445.72 2128.59,1445.72 2130.61,1445.72 2132.63,1445.72 2134.65,1445.72 2136.67,1445.72 2138.69,1445.72 2140.71,1445.72 2142.73,1445.72 2144.75,1445.72 2146.77,1445.72 2148.79,1445.72 2150.81,1445.72 2152.83,1445.72 2154.85,1445.72 2156.87,1445.72 2158.89,1445.72 2160.91,1445.72 2162.93,1445.72 2164.95,1445.72 2166.97,1445.72 2168.99,1445.72 2171.01,1445.72 2173.03,1445.72 2175.05,1445.72 2177.07,1445.72 2179.09,1445.72 2181.11,1445.72 2183.13,1445.72 2185.15,1445.72 2187.17,1445.72 2189.19,1445.72 2191.21,1445.72 2193.23,1445.72 2195.25,1445.72 2197.27,1445.72 2199.29,1445.72 2201.31,1445.72 2203.33,1445.72 2205.35,1445.72 2207.37,1445.72 2209.39,1445.72 2211.41,1445.72 2213.43,1445.72 2215.45,1445.72 2217.47,1445.72 2219.49,1445.72 2221.51,1445.72 2223.53,1445.72 2225.55,1445.72 2227.57,1445.72 2229.59,1445.72 2231.61,1445.72 2233.63,1445.72 2235.65,1445.72 2237.67,1445.72 2239.69,1445.72 2241.71,1445.72 2243.73,1445.72 2245.75,1445.72 2247.77,1445.72 2249.79,1445.72 2251.81,1445.72 2253.83,1445.72 2255.85,1445.72 2257.87,1445.72 2259.89,1445.72 2261.91,1445.72 2263.93,1445.72 2265.95,1445.72 2267.97,1445.72 2269.99,1445.72 2272.01,1445.72 2274.03,1445.72 2276.05,1445.72 2278.07,1445.72 2280.09,1445.72 2282.11,1445.72 2284.13,1445.72 2286.15,1445.72 2288.17,1445.72 2290.19,1445.72 2292.21,1445.72 \"/>\n",
       "<polyline clip-path=\"url(#clip462)\" style=\"stroke:#3da44d; stroke-linecap:round; stroke-linejoin:round; stroke-width:4; stroke-opacity:1; fill:none\" points=\"274.149,244.038 276.169,197.237 278.19,162.666 280.21,136.75 282.23,117.535 284.25,103.791 286.27,94.6715 288.29,89.5571 290.31,87.9763 292.33,89.5571 294.35,93.9991 296.37,101.054 298.39,110.514 300.411,122.202 302.431,135.965 304.451,151.67 306.471,169.2 308.491,188.452 310.511,209.333 312.531,231.76 314.551,255.659 316.571,280.962 318.591,307.607 320.611,335.538 322.631,364.702 324.652,395.052 326.672,426.543 328.692,459.134 330.712,492.787 332.732,527.466 334.752,563.139 336.772,599.773 338.792,637.34 340.812,675.812 342.832,715.162 344.852,755.367 346.872,796.404 348.893,838.25 350.913,880.884 352.933,924.289 354.953,968.436 356.973,1013.35 358.993,1058.83 361.013,1105.64 363.033,1150.37 365.053,1210.34 367.073,1221.44 369.093,1243.25 371.113,1237.38 373.134,1238.47 375.154,1238.25 377.174,1238.29 379.194,1238.28 381.214,1238.28 383.234,1238.28 385.254,1238.28 387.274,1238.28 389.294,1238.28 391.314,1238.28 393.334,1238.28 395.354,1238.28 397.375,1238.28 399.395,1238.28 401.415,1238.28 403.435,1238.28 405.455,1238.28 407.475,1238.28 409.495,1238.28 411.515,1238.28 413.535,1238.28 415.555,1238.28 417.575,1238.28 419.596,1238.28 421.616,1238.28 423.636,1238.28 425.656,1238.28 427.676,1238.28 429.696,1238.28 431.716,1238.28 433.736,1238.28 435.756,1238.28 437.776,1238.28 439.796,1238.28 441.816,1238.28 443.837,1238.28 445.857,1238.28 447.877,1238.28 449.897,1238.28 451.917,1238.28 453.937,1238.28 455.957,1238.28 457.977,1238.28 459.997,1238.28 462.017,1238.28 464.037,1238.28 466.057,1238.28 468.078,1238.28 470.098,1238.28 472.118,1238.28 474.138,1238.28 476.158,1238.28 478.178,1238.28 480.198,1238.28 482.218,1238.28 484.238,1238.28 486.258,1238.28 488.278,1238.28 490.298,1238.28 492.319,1238.28 494.339,1238.28 496.359,1238.28 498.379,1238.28 500.399,1238.28 502.419,1238.28 504.439,1238.28 506.459,1238.28 508.479,1238.28 510.499,1238.28 512.519,1238.28 514.539,1238.28 516.56,1238.28 518.58,1238.28 520.6,1238.28 522.62,1238.28 524.64,1238.28 526.66,1238.28 528.68,1238.28 530.7,1238.28 532.72,1238.28 534.74,1238.28 536.76,1238.28 538.781,1238.28 540.801,1238.28 542.821,1238.28 544.841,1238.28 546.861,1238.28 548.881,1238.28 550.901,1238.28 552.921,1238.28 554.941,1238.28 556.961,1238.28 558.981,1238.28 561.001,1238.28 563.022,1238.28 565.042,1238.28 567.062,1238.28 569.082,1238.28 571.102,1238.28 573.122,1238.28 575.142,1238.28 577.162,1238.28 579.182,1238.28 581.202,1238.28 583.222,1238.28 585.242,1238.28 587.263,1238.28 589.283,1238.28 591.303,1238.28 593.323,1238.28 595.343,1238.28 597.363,1238.28 599.383,1238.28 601.403,1238.28 603.423,1238.28 605.443,1238.28 607.463,1238.28 609.483,1238.28 611.504,1238.28 613.524,1238.28 615.544,1238.28 617.564,1238.28 619.584,1238.28 621.604,1238.28 623.624,1238.28 625.644,1238.28 627.664,1238.28 629.684,1238.28 631.704,1238.28 633.724,1238.28 635.745,1238.28 637.765,1238.28 639.785,1238.28 641.805,1238.28 643.825,1238.28 645.845,1238.28 647.865,1238.28 649.885,1238.28 651.905,1238.28 653.925,1238.28 655.945,1238.28 657.965,1238.28 659.986,1238.28 662.006,1238.28 664.026,1238.28 666.046,1238.28 668.066,1238.28 670.086,1238.28 672.106,1238.28 674.126,1238.28 676.146,1238.28 678.166,1238.28 680.186,1238.28 682.207,1238.28 684.227,1238.28 686.247,1238.28 688.267,1238.28 690.287,1238.28 692.307,1238.28 694.327,1238.28 696.347,1238.28 698.367,1238.28 700.387,1238.28 702.407,1238.28 704.427,1238.28 706.448,1238.28 708.468,1238.28 710.488,1238.28 712.508,1238.28 714.528,1238.28 716.548,1238.28 718.568,1238.28 720.588,1238.28 722.608,1238.28 724.628,1238.28 726.648,1238.28 728.668,1238.28 730.689,1238.28 732.709,1238.28 734.729,1238.28 736.749,1238.28 738.769,1238.28 740.789,1238.28 742.809,1238.28 744.829,1238.28 746.849,1238.28 748.869,1238.28 750.889,1238.28 752.909,1238.28 754.93,1238.28 756.95,1238.28 758.97,1238.28 760.99,1238.28 763.01,1238.28 765.03,1238.28 767.05,1238.28 769.07,1238.28 771.09,1238.28 773.11,1238.28 775.13,1238.28 777.15,1238.28 779.171,1238.28 781.191,1238.28 783.211,1238.28 785.231,1238.28 787.251,1238.28 789.271,1238.28 791.291,1238.28 793.311,1238.28 795.331,1238.28 797.351,1238.28 799.371,1238.28 801.392,1238.28 803.412,1238.28 805.432,1238.28 807.452,1238.28 809.472,1238.28 811.492,1238.28 813.512,1238.28 815.532,1238.28 817.552,1238.28 819.572,1238.28 821.592,1238.28 823.612,1238.28 825.633,1238.28 827.653,1238.28 829.673,1238.28 831.693,1238.28 833.713,1238.28 835.733,1238.28 837.753,1238.28 839.773,1238.28 841.793,1238.28 843.813,1238.28 845.833,1238.28 847.853,1238.28 849.874,1238.28 851.894,1238.28 853.914,1238.28 855.934,1238.28 857.954,1238.28 859.974,1238.28 861.994,1238.28 864.014,1238.28 866.034,1238.28 868.054,1238.28 870.074,1238.28 872.094,1238.28 874.115,1238.28 876.135,1238.28 878.155,1238.28 880.175,1238.28 882.195,1238.28 884.215,1238.28 886.235,1238.28 888.255,1238.28 890.275,1238.28 892.295,1238.28 894.315,1238.28 896.335,1238.28 898.356,1238.28 900.376,1238.28 902.396,1238.28 904.416,1238.28 906.436,1238.28 908.456,1238.28 910.476,1238.28 912.496,1238.28 914.516,1238.28 916.536,1238.28 918.556,1238.28 920.576,1238.28 922.597,1238.28 924.617,1238.28 926.637,1238.28 928.657,1238.28 930.677,1238.28 932.697,1238.28 934.717,1238.28 936.737,1238.28 938.757,1238.28 940.777,1238.28 942.797,1238.28 944.818,1238.28 946.838,1238.28 948.858,1238.28 950.878,1238.28 952.898,1238.28 954.918,1238.28 956.938,1238.28 958.958,1238.28 960.978,1238.28 962.998,1238.28 965.018,1238.28 967.038,1238.28 969.059,1238.28 971.079,1238.28 973.099,1238.28 975.119,1238.28 977.139,1238.28 979.159,1238.28 981.179,1238.28 983.199,1238.28 985.219,1238.28 987.239,1238.28 989.259,1238.28 991.279,1238.28 993.3,1238.28 995.32,1238.28 997.34,1238.28 999.36,1238.28 1001.38,1238.28 1003.4,1238.28 1005.42,1238.28 1007.44,1238.28 1009.46,1238.28 1011.48,1238.28 1013.5,1238.28 1015.52,1238.28 1017.54,1238.28 1019.56,1238.28 1021.58,1238.28 1023.6,1238.28 1025.62,1238.28 1027.64,1238.28 1029.66,1238.28 1031.68,1238.28 1033.7,1238.28 1035.72,1238.28 1037.74,1238.28 1039.76,1238.28 1041.78,1238.28 1043.8,1238.28 1045.82,1238.28 1047.84,1238.28 1049.86,1238.28 1051.88,1238.28 1053.9,1238.28 1055.92,1238.28 1057.94,1238.28 1059.96,1238.28 1061.98,1238.28 1064,1238.28 1066.02,1238.28 1068.04,1238.28 1070.06,1238.28 1072.08,1238.28 1074.1,1238.28 1076.12,1238.28 1078.14,1238.28 1080.16,1238.28 1082.18,1238.28 1084.2,1238.28 1086.22,1238.28 1088.24,1238.28 1090.26,1238.28 1092.28,1238.28 1094.3,1238.28 1096.32,1238.28 1098.34,1238.28 1100.36,1238.28 1102.38,1238.28 1104.4,1238.28 1106.42,1238.28 1108.44,1238.28 1110.46,1238.28 1112.48,1238.28 1114.5,1238.28 1116.52,1238.28 1118.54,1238.28 1120.56,1238.28 1122.58,1238.28 1124.61,1238.28 1126.63,1238.28 1128.65,1238.28 1130.67,1238.28 1132.69,1238.28 1134.71,1238.28 1136.73,1238.28 1138.75,1238.28 1140.77,1238.28 1142.79,1238.28 1144.81,1238.28 1146.83,1238.28 1148.85,1238.28 1150.87,1238.28 1152.89,1238.28 1154.91,1238.28 1156.93,1238.28 1158.95,1238.28 1160.97,1238.28 1162.99,1238.28 1165.01,1238.28 1167.03,1238.28 1169.05,1238.28 1171.07,1238.28 1173.09,1238.28 1175.11,1238.28 1177.13,1238.28 1179.15,1238.28 1181.17,1238.28 1183.19,1238.28 1185.21,1238.28 1187.23,1238.28 1189.25,1238.28 1191.27,1238.28 1193.29,1238.28 1195.31,1238.28 1197.33,1238.28 1199.35,1238.28 1201.37,1238.28 1203.39,1238.28 1205.41,1238.28 1207.43,1238.28 1209.45,1238.28 1211.47,1238.28 1213.49,1238.28 1215.51,1238.28 1217.53,1238.28 1219.55,1238.28 1221.57,1238.28 1223.59,1238.28 1225.61,1238.28 1227.63,1238.28 1229.65,1238.28 1231.67,1238.28 1233.69,1238.28 1235.71,1238.28 1237.73,1238.28 1239.75,1238.28 1241.77,1238.28 1243.79,1238.28 1245.81,1238.28 1247.83,1238.28 1249.85,1238.28 1251.87,1238.28 1253.89,1238.28 1255.91,1238.28 1257.93,1238.28 1259.95,1238.28 1261.97,1238.28 1263.99,1238.28 1266.01,1238.28 1268.03,1238.28 1270.05,1238.28 1272.07,1238.28 1274.09,1238.28 1276.11,1238.28 1278.13,1238.28 1280.15,1238.28 1282.17,1238.28 1284.19,1238.28 1286.21,1238.28 1288.23,1238.28 1290.25,1238.28 1292.27,1238.28 1294.29,1238.28 1296.31,1238.28 1298.33,1238.28 1300.35,1238.28 1302.37,1238.28 1304.39,1238.28 1306.41,1238.28 1308.43,1238.28 1310.45,1238.28 1312.47,1238.28 1314.49,1238.28 1316.51,1238.28 1318.53,1238.28 1320.55,1238.28 1322.57,1238.28 1324.59,1238.28 1326.61,1238.28 1328.63,1238.28 1330.65,1238.28 1332.67,1238.28 1334.69,1238.28 1336.71,1238.28 1338.73,1238.28 1340.75,1238.28 1342.77,1238.28 1344.79,1238.28 1346.81,1238.28 1348.83,1238.28 1350.85,1238.28 1352.87,1238.28 1354.89,1238.28 1356.91,1238.28 1358.93,1238.28 1360.95,1238.28 1362.98,1238.28 1365,1238.28 1367.02,1238.28 1369.04,1238.28 1371.06,1238.28 1373.08,1238.28 1375.1,1238.28 1377.12,1238.28 1379.14,1238.28 1381.16,1238.28 1383.18,1238.28 1385.2,1238.28 1387.22,1238.28 1389.24,1238.28 1391.26,1238.28 1393.28,1238.28 1395.3,1238.28 1397.32,1238.28 1399.34,1238.28 1401.36,1238.28 1403.38,1238.28 1405.4,1238.28 1407.42,1238.28 1409.44,1238.28 1411.46,1238.28 1413.48,1238.28 1415.5,1238.28 1417.52,1238.28 1419.54,1238.28 1421.56,1238.28 1423.58,1238.28 1425.6,1238.28 1427.62,1238.28 1429.64,1238.28 1431.66,1238.28 1433.68,1238.28 1435.7,1238.28 1437.72,1238.28 1439.74,1238.28 1441.76,1238.28 1443.78,1238.28 1445.8,1238.28 1447.82,1238.28 1449.84,1238.28 1451.86,1238.28 1453.88,1238.28 1455.9,1238.28 1457.92,1238.28 1459.94,1238.28 1461.96,1238.28 1463.98,1238.28 1466,1238.28 1468.02,1238.28 1470.04,1238.28 1472.06,1238.28 1474.08,1238.28 1476.1,1238.28 1478.12,1238.28 1480.14,1238.28 1482.16,1238.28 1484.18,1238.28 1486.2,1238.28 1488.22,1238.28 1490.24,1238.28 1492.26,1238.28 1494.28,1238.28 1496.3,1238.28 1498.32,1238.28 1500.34,1238.28 1502.36,1238.28 1504.38,1238.28 1506.4,1238.28 1508.42,1238.28 1510.44,1238.28 1512.46,1238.28 1514.48,1238.28 1516.5,1238.28 1518.52,1238.28 1520.54,1238.28 1522.56,1238.28 1524.58,1238.28 1526.6,1238.28 1528.62,1238.28 1530.64,1238.28 1532.66,1238.28 1534.68,1238.28 1536.7,1238.28 1538.72,1238.28 1540.74,1238.28 1542.76,1238.28 1544.78,1238.28 1546.8,1238.28 1548.82,1238.28 1550.84,1238.28 1552.86,1238.28 1554.88,1238.28 1556.9,1238.28 1558.92,1238.28 1560.94,1238.28 1562.96,1238.28 1564.98,1238.28 1567,1238.28 1569.02,1238.28 1571.04,1238.28 1573.06,1238.28 1575.08,1238.28 1577.1,1238.28 1579.12,1238.28 1581.14,1238.28 1583.16,1238.28 1585.18,1238.28 1587.2,1238.28 1589.22,1238.28 1591.24,1238.28 1593.26,1238.28 1595.28,1238.28 1597.3,1238.28 1599.32,1238.28 1601.35,1238.28 1603.37,1238.28 1605.39,1238.28 1607.41,1238.28 1609.43,1238.28 1611.45,1238.28 1613.47,1238.28 1615.49,1238.28 1617.51,1238.28 1619.53,1238.28 1621.55,1238.28 1623.57,1238.28 1625.59,1238.28 1627.61,1238.28 1629.63,1238.28 1631.65,1238.28 1633.67,1238.28 1635.69,1238.28 1637.71,1238.28 1639.73,1238.28 1641.75,1238.28 1643.77,1238.28 1645.79,1238.28 1647.81,1238.28 1649.83,1238.28 1651.85,1238.28 1653.87,1238.28 1655.89,1238.28 1657.91,1238.28 1659.93,1238.28 1661.95,1238.28 1663.97,1238.28 1665.99,1238.28 1668.01,1238.28 1670.03,1238.28 1672.05,1238.28 1674.07,1238.28 1676.09,1238.28 1678.11,1238.28 1680.13,1238.28 1682.15,1238.28 1684.17,1238.28 1686.19,1238.28 1688.21,1238.28 1690.23,1238.28 1692.25,1238.28 1694.27,1238.28 1696.29,1238.28 1698.31,1238.28 1700.33,1238.28 1702.35,1238.28 1704.37,1238.28 1706.39,1238.28 1708.41,1238.28 1710.43,1238.28 1712.45,1238.28 1714.47,1238.28 1716.49,1238.28 1718.51,1238.28 1720.53,1238.28 1722.55,1238.28 1724.57,1238.28 1726.59,1238.28 1728.61,1238.28 1730.63,1238.28 1732.65,1238.28 1734.67,1238.28 1736.69,1238.28 1738.71,1238.28 1740.73,1238.28 1742.75,1238.28 1744.77,1238.28 1746.79,1238.28 1748.81,1238.28 1750.83,1238.28 1752.85,1238.28 1754.87,1238.28 1756.89,1238.28 1758.91,1238.28 1760.93,1238.28 1762.95,1238.28 1764.97,1238.28 1766.99,1238.28 1769.01,1238.28 1771.03,1238.28 1773.05,1238.28 1775.07,1238.28 1777.09,1238.28 1779.11,1238.28 1781.13,1238.28 1783.15,1238.28 1785.17,1238.28 1787.19,1238.28 1789.21,1238.28 1791.23,1238.28 1793.25,1238.28 1795.27,1238.28 1797.29,1238.28 1799.31,1238.28 1801.33,1238.28 1803.35,1238.28 1805.37,1238.28 1807.39,1238.28 1809.41,1238.28 1811.43,1238.28 1813.45,1238.28 1815.47,1238.28 1817.49,1238.28 1819.51,1238.28 1821.53,1238.28 1823.55,1238.28 1825.57,1238.28 1827.59,1238.28 1829.61,1238.28 1831.63,1238.28 1833.65,1238.28 1835.67,1238.28 1837.69,1238.28 1839.72,1238.28 1841.74,1238.28 1843.76,1238.28 1845.78,1238.28 1847.8,1238.28 1849.82,1238.28 1851.84,1238.28 1853.86,1238.28 1855.88,1238.28 1857.9,1238.28 1859.92,1238.28 1861.94,1238.28 1863.96,1238.28 1865.98,1238.28 1868,1238.28 1870.02,1238.28 1872.04,1238.28 1874.06,1238.28 1876.08,1238.28 1878.1,1238.28 1880.12,1238.28 1882.14,1238.28 1884.16,1238.28 1886.18,1238.28 1888.2,1238.28 1890.22,1238.28 1892.24,1238.28 1894.26,1238.28 1896.28,1238.28 1898.3,1238.28 1900.32,1238.28 1902.34,1238.28 1904.36,1238.28 1906.38,1238.28 1908.4,1238.28 1910.42,1238.28 1912.44,1238.28 1914.46,1238.28 1916.48,1238.28 1918.5,1238.28 1920.52,1238.28 1922.54,1238.28 1924.56,1238.28 1926.58,1238.28 1928.6,1238.28 1930.62,1238.28 1932.64,1238.28 1934.66,1238.28 1936.68,1238.28 1938.7,1238.28 1940.72,1238.28 1942.74,1238.28 1944.76,1238.28 1946.78,1238.28 1948.8,1238.28 1950.82,1238.28 1952.84,1238.28 1954.86,1238.28 1956.88,1238.28 1958.9,1238.28 1960.92,1238.28 1962.94,1238.28 1964.96,1238.28 1966.98,1238.28 1969,1238.28 1971.02,1238.28 1973.04,1238.28 1975.06,1238.28 1977.08,1238.28 1979.1,1238.28 1981.12,1238.28 1983.14,1238.28 1985.16,1238.28 1987.18,1238.28 1989.2,1238.28 1991.22,1238.28 1993.24,1238.28 1995.26,1238.28 1997.28,1238.28 1999.3,1238.28 2001.32,1238.28 2003.34,1238.28 2005.36,1238.28 2007.38,1238.28 2009.4,1238.28 2011.42,1238.28 2013.44,1238.28 2015.46,1238.28 2017.48,1238.28 2019.5,1238.28 2021.52,1238.28 2023.54,1238.28 2025.56,1238.28 2027.58,1238.28 2029.6,1238.28 2031.62,1238.28 2033.64,1238.28 2035.66,1238.28 2037.68,1238.28 2039.7,1238.28 2041.72,1238.28 2043.74,1238.28 2045.76,1238.28 2047.78,1238.28 2049.8,1238.28 2051.82,1238.28 2053.84,1238.28 2055.86,1238.28 2057.88,1238.28 2059.9,1238.28 2061.92,1238.28 2063.94,1238.28 2065.96,1238.28 2067.98,1238.28 2070,1238.28 2072.02,1238.28 2074.04,1238.28 2076.06,1238.28 2078.08,1238.28 2080.11,1238.28 2082.13,1238.28 2084.15,1238.28 2086.17,1238.28 2088.19,1238.28 2090.21,1238.28 2092.23,1238.28 2094.25,1238.28 2096.27,1238.28 2098.29,1238.28 2100.31,1238.28 2102.33,1238.28 2104.35,1238.28 2106.37,1238.28 2108.39,1238.28 2110.41,1238.28 2112.43,1238.28 2114.45,1238.28 2116.47,1238.28 2118.49,1238.28 2120.51,1238.28 2122.53,1238.28 2124.55,1238.28 2126.57,1238.28 2128.59,1238.28 2130.61,1238.28 2132.63,1238.28 2134.65,1238.28 2136.67,1238.28 2138.69,1238.28 2140.71,1238.28 2142.73,1238.28 2144.75,1238.28 2146.77,1238.28 2148.79,1238.28 2150.81,1238.28 2152.83,1238.28 2154.85,1238.28 2156.87,1238.28 2158.89,1238.28 2160.91,1238.28 2162.93,1238.28 2164.95,1238.28 2166.97,1238.28 2168.99,1238.28 2171.01,1238.28 2173.03,1238.28 2175.05,1238.28 2177.07,1238.28 2179.09,1238.28 2181.11,1238.28 2183.13,1238.28 2185.15,1238.28 2187.17,1238.28 2189.19,1238.28 2191.21,1238.28 2193.23,1238.28 2195.25,1238.28 2197.27,1238.28 2199.29,1238.28 2201.31,1238.28 2203.33,1238.28 2205.35,1238.28 2207.37,1238.28 2209.39,1238.28 2211.41,1238.28 2213.43,1238.28 2215.45,1238.28 2217.47,1238.28 2219.49,1238.28 2221.51,1238.28 2223.53,1238.28 2225.55,1238.28 2227.57,1238.28 2229.59,1238.28 2231.61,1238.28 2233.63,1238.28 2235.65,1238.28 2237.67,1238.28 2239.69,1238.28 2241.71,1238.28 2243.73,1238.28 2245.75,1238.28 2247.77,1238.28 2249.79,1238.28 2251.81,1238.28 2253.83,1238.28 2255.85,1238.28 2257.87,1238.28 2259.89,1238.28 2261.91,1238.28 2263.93,1238.28 2265.95,1238.28 2267.97,1238.28 2269.99,1238.28 2272.01,1238.28 2274.03,1238.28 2276.05,1238.28 2278.07,1238.28 2280.09,1238.28 2282.11,1238.28 2284.13,1238.28 2286.15,1238.28 2288.17,1238.28 2290.19,1238.28 2292.21,1238.28 \"/>\n",
       "<path clip-path=\"url(#clip460)\" d=\"M1900.55 302.578 L2281.45 302.578 L2281.45 95.2176 L1900.55 95.2176  Z\" fill=\"#ffffff\" fill-rule=\"evenodd\" fill-opacity=\"1\"/>\n",
       "<polyline clip-path=\"url(#clip460)\" style=\"stroke:#000000; stroke-linecap:round; stroke-linejoin:round; stroke-width:4; stroke-opacity:1; fill:none\" points=\"1900.55,302.578 2281.45,302.578 2281.45,95.2176 1900.55,95.2176 1900.55,302.578 \"/>\n",
       "<polyline clip-path=\"url(#clip460)\" style=\"stroke:#009af9; stroke-linecap:round; stroke-linejoin:round; stroke-width:4; stroke-opacity:1; fill:none\" points=\"1924.31,147.058 2066.92,147.058 \"/>\n",
       "<path clip-path=\"url(#clip460)\" d=\"M2091.27 138.412 L2111.5 138.412 L2111.5 142.301 L2095.48 160.935 L2111.5 160.935 L2111.5 164.338 L2090.69 164.338 L2090.69 160.449 L2106.71 141.815 L2091.27 141.815 L2091.27 138.412 Z\" fill=\"#000000\" fill-rule=\"nonzero\" fill-opacity=\"1\" /><path clip-path=\"url(#clip460)\" d=\"M2133.63 142.81 L2163.31 142.81 L2163.31 146.699 L2133.63 146.699 L2133.63 142.81 M2133.63 152.254 L2163.31 152.254 L2163.31 156.189 L2133.63 156.189 L2133.63 152.254 Z\" fill=\"#000000\" fill-rule=\"nonzero\" fill-opacity=\"1\" /><path clip-path=\"url(#clip460)\" d=\"M2189.28 160.402 L2196.92 160.402 L2196.92 134.037 L2188.61 135.703 L2188.61 131.444 L2196.87 129.778 L2201.55 129.778 L2201.55 160.402 L2209.19 160.402 L2209.19 164.338 L2189.28 164.338 L2189.28 160.402 Z\" fill=\"#000000\" fill-rule=\"nonzero\" fill-opacity=\"1\" /><polyline clip-path=\"url(#clip460)\" style=\"stroke:#e26f46; stroke-linecap:round; stroke-linejoin:round; stroke-width:4; stroke-opacity:1; fill:none\" points=\"1924.31,198.898 2066.92,198.898 \"/>\n",
       "<path clip-path=\"url(#clip460)\" d=\"M2091.27 190.252 L2111.5 190.252 L2111.5 194.141 L2095.48 212.775 L2111.5 212.775 L2111.5 216.178 L2090.69 216.178 L2090.69 212.289 L2106.71 193.655 L2091.27 193.655 L2091.27 190.252 Z\" fill=\"#000000\" fill-rule=\"nonzero\" fill-opacity=\"1\" /><path clip-path=\"url(#clip460)\" d=\"M2133.63 194.65 L2163.31 194.65 L2163.31 198.539 L2133.63 198.539 L2133.63 194.65 M2133.63 204.094 L2163.31 204.094 L2163.31 208.029 L2133.63 208.029 L2133.63 204.094 Z\" fill=\"#000000\" fill-rule=\"nonzero\" fill-opacity=\"1\" /><path clip-path=\"url(#clip460)\" d=\"M2187.87 190.252 L2192.13 190.252 L2192.13 216.178 L2187.87 216.178 L2187.87 190.252 M2187.87 180.159 L2192.13 180.159 L2192.13 185.553 L2187.87 185.553 L2187.87 180.159 Z\" fill=\"#000000\" fill-rule=\"nonzero\" fill-opacity=\"1\" /><path clip-path=\"url(#clip460)\" d=\"M2221.22 195.229 Q2222.82 192.358 2225.04 190.993 Q2227.27 189.627 2230.28 189.627 Q2234.33 189.627 2236.53 192.474 Q2238.72 195.298 2238.72 200.529 L2238.72 216.178 L2234.44 216.178 L2234.44 200.668 Q2234.44 196.942 2233.12 195.136 Q2231.8 193.33 2229.09 193.33 Q2225.78 193.33 2223.86 195.53 Q2221.94 197.729 2221.94 201.525 L2221.94 216.178 L2217.66 216.178 L2217.66 200.668 Q2217.66 196.918 2216.34 195.136 Q2215.02 193.33 2212.27 193.33 Q2209 193.33 2207.08 195.553 Q2205.16 197.752 2205.16 201.525 L2205.16 216.178 L2200.88 216.178 L2200.88 190.252 L2205.16 190.252 L2205.16 194.28 Q2206.62 191.895 2208.66 190.761 Q2210.69 189.627 2213.49 189.627 Q2216.32 189.627 2218.28 191.062 Q2220.28 192.497 2221.22 195.229 Z\" fill=\"#000000\" fill-rule=\"nonzero\" fill-opacity=\"1\" /><polyline clip-path=\"url(#clip460)\" style=\"stroke:#3da44d; stroke-linecap:round; stroke-linejoin:round; stroke-width:4; stroke-opacity:1; fill:none\" points=\"1924.31,250.738 2066.92,250.738 \"/>\n",
       "<path clip-path=\"url(#clip460)\" d=\"M2091.27 242.092 L2111.5 242.092 L2111.5 245.981 L2095.48 264.615 L2111.5 264.615 L2111.5 268.018 L2090.69 268.018 L2090.69 264.129 L2106.71 245.495 L2091.27 245.495 L2091.27 242.092 Z\" fill=\"#000000\" fill-rule=\"nonzero\" fill-opacity=\"1\" /><path clip-path=\"url(#clip460)\" d=\"M2133.63 246.49 L2163.31 246.49 L2163.31 250.379 L2133.63 250.379 L2133.63 246.49 M2133.63 255.934 L2163.31 255.934 L2163.31 259.869 L2133.63 259.869 L2133.63 255.934 Z\" fill=\"#000000\" fill-rule=\"nonzero\" fill-opacity=\"1\" /><path clip-path=\"url(#clip460)\" d=\"M2185.72 253.133 L2198.19 253.133 L2198.19 256.93 L2185.72 256.93 L2185.72 253.133 Z\" fill=\"#000000\" fill-rule=\"nonzero\" fill-opacity=\"1\" /><path clip-path=\"url(#clip460)\" d=\"M2206.39 264.082 L2214.03 264.082 L2214.03 237.717 L2205.72 239.383 L2205.72 235.124 L2213.98 233.458 L2218.66 233.458 L2218.66 264.082 L2226.29 264.082 L2226.29 268.018 L2206.39 268.018 L2206.39 264.082 Z\" fill=\"#000000\" fill-rule=\"nonzero\" fill-opacity=\"1\" /><path clip-path=\"url(#clip460)\" d=\"M2245.74 236.536 Q2242.13 236.536 2240.3 240.101 Q2238.49 243.643 2238.49 250.772 Q2238.49 257.879 2240.3 261.444 Q2242.13 264.985 2245.74 264.985 Q2249.37 264.985 2251.18 261.444 Q2253.01 257.879 2253.01 250.772 Q2253.01 243.643 2251.18 240.101 Q2249.37 236.536 2245.74 236.536 M2245.74 232.833 Q2251.55 232.833 2254.6 237.439 Q2257.68 242.022 2257.68 250.772 Q2257.68 259.499 2254.6 264.106 Q2251.55 268.689 2245.74 268.689 Q2239.93 268.689 2236.85 264.106 Q2233.79 259.499 2233.79 250.772 Q2233.79 242.022 2236.85 237.439 Q2239.93 232.833 2245.74 232.833 Z\" fill=\"#000000\" fill-rule=\"nonzero\" fill-opacity=\"1\" /></svg>\n"
      ]
     },
     "metadata": {},
     "output_type": "display_data"
    }
   ],
   "source": [
    "# TODO: plot the error for the Taylor series approximation.\n",
    "n = 1:1000\n",
    "errs1 = [nanabs(exp_t(1, i) - exp(1)) for i = n]\n",
    "errs2 = [nanabs(exp_t(im, i) - exp(im)) for i = n]\n",
    "errs3 = [nanabs(exp_t(-10, i) - exp(-10)) for i = n]\n",
    "\n",
    "plot(n, errs1; yscale=:log10, label=\"z = 1\")\n",
    "plot!(n, errs2; yscale=:log10, label=\"z = im\")\n",
    "plot!(n, errs3; yscale=:log10, label=\"z = -10\")"
   ]
  },
  {
   "cell_type": "markdown",
   "metadata": {},
   "source": [
    "------"
   ]
  },
  {
   "cell_type": "markdown",
   "metadata": {},
   "source": [
    "One of the powerful features of Julia is that it's very easy to make our own types. Let's begin with a simple\n",
    "implementation of a rational function $p/q$ where $p$ and $q$ are `Int`s.  Thus we want to create a new\n",
    "type called `Rat` with two fields `p` and `q` to represent the numerator and denominator, respectively.\n",
    "(For simplicity  we won't worry about restricting $p$ and $q$ to be `Int`.)\n",
    "We can construct such a type using the `struct` keyword:"
   ]
  },
  {
   "cell_type": "code",
   "execution_count": 21,
   "metadata": {},
   "outputs": [],
   "source": [
    "struct Rat\n",
    "    p\n",
    "    q\n",
    "end"
   ]
  },
  {
   "cell_type": "markdown",
   "metadata": {},
   "source": [
    "A new instance of `Rat` is created via e.g. `Rat(1, 2)` represents `1/2`\n",
    "where the first argument specifies `p` and the second argument `q`.\n",
    "The fields are accessed by `.`:"
   ]
  },
  {
   "cell_type": "code",
   "execution_count": 22,
   "metadata": {},
   "outputs": [
    {
     "data": {
      "text/plain": [
       "\u001b[32m\u001b[1mTest Passed\u001b[22m\u001b[39m"
      ]
     },
     "metadata": {},
     "output_type": "display_data"
    }
   ],
   "source": [
    "x = Rat(1, 2) # Rat(1, 2) creates an instance with fields equal to the input\n",
    "@test x.p == 1\n",
    "@test x.q == 2"
   ]
  },
  {
   "cell_type": "markdown",
   "metadata": {},
   "source": [
    "Unfortunately we can't actually do anything with this type, yet:"
   ]
  },
  {
   "cell_type": "code",
   "execution_count": 23,
   "metadata": {},
   "outputs": [
    {
     "ename": "MethodError",
     "evalue": "MethodError: no method matching +(::Rat, ::Rat)\nThe function `+` exists, but no method is defined for this combination of argument types.\n\nClosest candidates are:\n  +(::Any, ::Any, !Matched::Any, !Matched::Any...)\n   @ Base operators.jl:596\n  +(!Matched::Rational{BigInt}, !Matched::Rational{BigInt})\n   @ Base gmp.jl:1056\n  +(!Matched::Bool, !Matched::Complex{Bool})\n   @ Base complex.jl:308\n  ...\n",
     "output_type": "error",
     "traceback": [
      "MethodError: no method matching +(::Rat, ::Rat)\n",
      "The function `+` exists, but no method is defined for this combination of argument types.\n",
      "\n",
      "Closest candidates are:\n",
      "  +(::Any, ::Any, !Matched::Any, !Matched::Any...)\n",
      "   @ Base operators.jl:596\n",
      "  +(!Matched::Rational{BigInt}, !Matched::Rational{BigInt})\n",
      "   @ Base gmp.jl:1056\n",
      "  +(!Matched::Bool, !Matched::Complex{Bool})\n",
      "   @ Base complex.jl:308\n",
      "  ...\n",
      "\n",
      "\n",
      "Stacktrace:\n",
      " [1] top-level scope\n",
      "   @ ~/MATH50003NumericalAnalysis/labs/jl_notebook_cell_df34fa98e69747e1a8f8a730347b8e2f_X54sZmlsZQ==.jl:1"
     ]
    }
   ],
   "source": [
    "x + x"
   ]
  },
  {
   "cell_type": "markdown",
   "metadata": {},
   "source": [
    "The error is telling us to overload the `+` function when the inputs are both `Rat`.\n",
    "To do this we need to \"import\" the `+` function and then we can overload it like any\n",
    "other function:"
   ]
  },
  {
   "cell_type": "code",
   "execution_count": 24,
   "metadata": {},
   "outputs": [
    {
     "data": {
      "text/plain": [
       "Rat(10, 8)"
      ]
     },
     "metadata": {},
     "output_type": "display_data"
    }
   ],
   "source": [
    "import Base: + # allows us to overload +\n",
    "\n",
    "# Here putting ::Rat after both x and y means this version of +\n",
    "# is only called if both arguments are Rat\n",
    "function +(x::Rat, y::Rat)\n",
    "    p,q = x.p,x.q # x represents p/q\n",
    "    r,s = y.p,y.q # y represents r/s\n",
    "    Rat(p * s + r * q, q * s)\n",
    "end\n",
    "\n",
    "Rat(1,2) + Rat(3,4) # 1/2 + 3/4 == 10/8 (== 5/4) which is represented\n",
    "                    # as Rat(10, 8)"
   ]
  },
  {
   "cell_type": "markdown",
   "metadata": {},
   "source": [
    "We can support mixing `Rat` and `Int` by adding additional functionality:"
   ]
  },
  {
   "cell_type": "code",
   "execution_count": 25,
   "metadata": {},
   "outputs": [
    {
     "data": {
      "text/plain": [
       "Rat(3, 2)"
      ]
     },
     "metadata": {},
     "output_type": "display_data"
    }
   ],
   "source": [
    "Rat(p::Int) = Rat(p,1) # an Int is converted to p/1\n",
    "+(x::Rat, y::Int) = x + Rat(y) # To add a Rat to an Int we convert the Int into a Rat and use the previously defined +\n",
    "\n",
    "Rat(1,2) + 1  # 1 + 1/2 == 3/2"
   ]
  },
  {
   "cell_type": "markdown",
   "metadata": {},
   "source": [
    "-----"
   ]
  },
  {
   "cell_type": "markdown",
   "metadata": {},
   "source": [
    "**Problem 3** Support `*`, `-`, `/`, and `==` for `Rat` and `Int`."
   ]
  },
  {
   "cell_type": "code",
   "execution_count": 32,
   "metadata": {},
   "outputs": [
    {
     "data": {
      "text/plain": [
       "\u001b[32m\u001b[1mTest Passed\u001b[22m\u001b[39m"
      ]
     },
     "metadata": {},
     "output_type": "display_data"
    }
   ],
   "source": [
    "# We import +, -, *, / so we can \"overload\" these operations\n",
    "# specifically for Rat.\n",
    "import Base: +, -, *, /, ==\n",
    "\n",
    "# The ::Rat means the following version of == is only called if both\n",
    "# arguments are Rat.\n",
    "function ==(x::Rat, y::Rat)\n",
    "    # TODO: implement equality, making sure to check the case where\n",
    "    # the numerator/denominator are possibly reducible\n",
    "    # Hint: gcd and div may be useful. Use ? to find out what they do\n",
    "    p, q = x.p, x.q\n",
    "    r, s = y.p, y.q\n",
    "\n",
    "    p * s == q * r\n",
    "\n",
    "end\n",
    "\n",
    "# We can also support equality when x is a Rat and y is an Int\n",
    "function ==(x::Rat, y::Int)\n",
    "    # TODO: implement\n",
    "    p, q = x.p, x.q\n",
    "\n",
    "    p == q * y\n",
    "\n",
    "end\n",
    "\n",
    "# TODO: implement ==(x::Int, y::Rat)\n",
    "==(x::Int, y::Rat) = y == x\n",
    "\n",
    "@test Rat(1, 2) == Rat(2, 4)\n",
    "@test Rat(1, 2) ≠ Rat(1, 3)\n",
    "@test Rat(2,2) == 1\n",
    "@test 1 == Rat(2,2)\n",
    "\n",
    "# TODO: implement +, -, *, and /,\n",
    "function +(x::Rat, y::Rat)\n",
    "    p,q = x.p,x.q\n",
    "    r,s = y.p,y.q \n",
    "    Rat(p * s + r * q, q * s)\n",
    "end\n",
    "\n",
    "function -(x::Rat, y::Rat)\n",
    "    p,q = x.p,x.q\n",
    "    r,s = y.p,y.q\n",
    "    Rat(p * s - r * q, q * s)\n",
    "end\n",
    "\n",
    "function *(x::Rat, y::Rat)\n",
    "    p,q = x.p,x.q\n",
    "    r,s = y.p,y.q\n",
    "    Rat(p * r, q * s)\n",
    "end\n",
    "\n",
    "function /(x::Rat, y::Rat)\n",
    "    p,q = x.p,x.q\n",
    "    r,s = y.p,y.q\n",
    "    Rat(p * s, q * r)\n",
    "end\n",
    "\n",
    "@test Rat(1, 2) + Rat(1, 3) == Rat(5, 6)\n",
    "@test Rat(1, 3) - Rat(1, 2) == Rat(-1, 6)\n",
    "@test Rat(2, 3) * Rat(3, 4) == Rat(1, 2)\n",
    "@test Rat(2, 3) / Rat(3, 4) == Rat(8, 9)"
   ]
  },
  {
   "cell_type": "markdown",
   "metadata": {},
   "source": [
    "------"
   ]
  },
  {
   "cell_type": "markdown",
   "metadata": {},
   "source": [
    "## I.3 Dual Numbers\n",
    "\n",
    "We now consider implementing a type `Dual` to represent the dual number $a + bϵ$,\n",
    "in a way similar to `Complex` or `Rat`. For simplicity we don't restrict the types of `a` and `b`\n",
    "but for us they will usually be `Float64`. We create this type very similar to `Rat` above:"
   ]
  },
  {
   "cell_type": "code",
   "execution_count": 33,
   "metadata": {},
   "outputs": [],
   "source": [
    "struct Dual\n",
    "    a\n",
    "    b\n",
    "end"
   ]
  },
  {
   "cell_type": "markdown",
   "metadata": {},
   "source": [
    "We can easily support addition of dual numbers as in `Rat` using the formula\n",
    "$$\n",
    "(a+bϵ) + (c+dϵ) = (a+c) + (b+d)ϵ\n",
    "$$"
   ]
  },
  {
   "cell_type": "code",
   "execution_count": 34,
   "metadata": {},
   "outputs": [
    {
     "data": {
      "text/plain": [
       "Dual(4, 6)"
      ]
     },
     "metadata": {},
     "output_type": "display_data"
    }
   ],
   "source": [
    "function +(x::Dual, y::Dual)\n",
    "    a,b = x.a, x.b # x == a+bϵ. This gets out a and b\n",
    "    c,d = y.a, y.b # y == c+dϵ. This gets out c and d\n",
    "    Dual(a+c, b+d)\n",
    "end\n",
    "\n",
    "Dual(1,2) + Dual(3,4) # just adds each argument"
   ]
  },
  {
   "cell_type": "markdown",
   "metadata": {},
   "source": [
    "For multiplication we used the fact that $ϵ^2 = 0$ to derive the formula\n",
    "$$\n",
    "(a+bϵ)*(c+dϵ) = ac +(bc+ad)ϵ.\n",
    "$$\n",
    "Here we support this operation by overloading `*` when the inputs are both\n",
    "`Dual`:"
   ]
  },
  {
   "cell_type": "code",
   "execution_count": 35,
   "metadata": {},
   "outputs": [
    {
     "data": {
      "text/plain": [
       "* (generic function with 300 methods)"
      ]
     },
     "metadata": {},
     "output_type": "display_data"
    }
   ],
   "source": [
    "import Base: * # we want to also overload *\n",
    "\n",
    "function *(x::Dual, y::Dual)\n",
    "    a,b = x.a, x.b # x == a+bϵ. This gets out a and b\n",
    "    c,d = y.a, y.b # y == c+dϵ. This gets out c and d\n",
    "    Dual(a*c, b*c + a*d)\n",
    "end"
   ]
  },
  {
   "cell_type": "markdown",
   "metadata": {},
   "source": [
    "### I.3.1 Differentiating polynomials"
   ]
  },
  {
   "cell_type": "markdown",
   "metadata": {},
   "source": [
    "Dual numbers allow us to differentiate functions provided they are composed of\n",
    "operations overloaded for `Dual`. In particular, we have that\n",
    "$$\n",
    "f(x + b ϵ) = f(x) + bf'(x)ϵ\n",
    "$$\n",
    "and thus if we set `b = 1` the \"dual part\" is equal to the derivative.\n",
    "We can use this fact to differentiate simple polynomials that only use `+`\n",
    "and `*`:"
   ]
  },
  {
   "cell_type": "code",
   "execution_count": 36,
   "metadata": {},
   "outputs": [
    {
     "data": {
      "text/plain": [
       "Dual(10, 13)"
      ]
     },
     "metadata": {},
     "output_type": "display_data"
    }
   ],
   "source": [
    "f = x -> x*x*x + x\n",
    "f(Dual(2,1)) # (2^3 + 2) + (3*2^2+1)*ϵ"
   ]
  },
  {
   "cell_type": "markdown",
   "metadata": {},
   "source": [
    "A polynomial like `x^3 + 1` is not yet supported.\n",
    "To support this we need to add addition of `Dual` with `Int` or `Float64`.\n",
    "Note that both of these are \"subtypes\" of `Real` and so restricting on `Real`\n",
    "will support both at the same time.\n",
    "We can overload the appropriate functions as follows:"
   ]
  },
  {
   "cell_type": "code",
   "execution_count": 48,
   "metadata": {},
   "outputs": [
    {
     "data": {
      "text/plain": [
       "Dual(9, 12)"
      ]
     },
     "metadata": {},
     "output_type": "display_data"
    }
   ],
   "source": [
    "import Base: ^\n",
    "\n",
    "Dual(a::Real) = Dual(a, 0) # converts a real number to a dual number with no ϵ\n",
    "\n",
    "+(x::Real, y::Dual) = Dual(x) + y\n",
    "+(x::Dual, y::Real) = x + Dual(y)\n",
    "\n",
    "# a simple recursive function to support x^2, x^3, etc.\n",
    "function ^(x::Dual, n::Int)\n",
    "    if n < 0\n",
    "        error(\"Not implemented\") # don't support negative n, yet\n",
    "    end\n",
    "    if n == 1\n",
    "        x # Just return the input\n",
    "    else\n",
    "        ret = x\n",
    "        for k = 1:n-1\n",
    "            ret = ret*x\n",
    "        end\n",
    "        ret # returns the last argument\n",
    "    end\n",
    "end\n",
    "\n",
    "f = x -> x^3 + 1\n",
    "f(Dual(2,1))  # 2^3+1 + 3*2^2*ϵ"
   ]
  },
  {
   "cell_type": "markdown",
   "metadata": {},
   "source": [
    "### I.3.2 Differentiating functions"
   ]
  },
  {
   "cell_type": "markdown",
   "metadata": {},
   "source": [
    "We can also overload functions like `exp` so that they satisfy the rules of\n",
    "a _dual extension_, that is, are consistent with the formula $f(a+bϵ) = f(a) + bf'(a)ϵ$\n",
    "as follows:"
   ]
  },
  {
   "cell_type": "code",
   "execution_count": 49,
   "metadata": {},
   "outputs": [
    {
     "data": {
      "text/plain": [
       "exp (generic function with 15 methods)"
      ]
     },
     "metadata": {},
     "output_type": "display_data"
    }
   ],
   "source": [
    "import Base: exp\n",
    "exp(x::Dual) = Dual(exp(x.a), exp(x.a) * x.b)"
   ]
  },
  {
   "cell_type": "markdown",
   "metadata": {},
   "source": [
    "We can use this to differentiate a function that composes these basic operations:"
   ]
  },
  {
   "cell_type": "code",
   "execution_count": 50,
   "metadata": {},
   "outputs": [
    {
     "data": {
      "text/plain": [
       "Dual(41.193555674716116, 194.362805189629)"
      ]
     },
     "metadata": {},
     "output_type": "display_data"
    }
   ],
   "source": [
    "f = x -> exp(x^2 + exp(x))\n",
    "f(Dual(1, 1))"
   ]
  },
  {
   "cell_type": "markdown",
   "metadata": {},
   "source": [
    "What makes dual numbers so effective is that, unlike divided differences, they are not\n",
    "prone to disasterous growth due to round-off errors: the above approximation\n",
    "matches the true answer to roughly 16 digits of accuracy."
   ]
  },
  {
   "cell_type": "markdown",
   "metadata": {},
   "source": [
    "------"
   ]
  },
  {
   "cell_type": "markdown",
   "metadata": {},
   "source": [
    "**Problem 4(a)** Add support for `-`, `cos`, `sin`, and `/` to the type `Dual`\n",
    "by replacing the `# TODO`s in the below code."
   ]
  },
  {
   "cell_type": "code",
   "execution_count": 56,
   "metadata": {},
   "outputs": [
    {
     "data": {
      "text/plain": [
       "\u001b[32m\u001b[1mTest Passed\u001b[22m\u001b[39m"
      ]
     },
     "metadata": {},
     "output_type": "display_data"
    }
   ],
   "source": [
    "import Base: -, cos, sin, /\n",
    "\n",
    "# The following supports negation -(a+bϵ)\n",
    "-(x::Dual) = Dual(-x.a, -x.b)\n",
    "\n",
    "# TODO: implement -(::Dual, ::Dual)\n",
    "function -(x::Dual, y::Dual)\n",
    "    x + (-y)\n",
    "end\n",
    "\n",
    "\n",
    "function cos(x::Dual)\n",
    "    # TODO: implement cos for Duals\n",
    "    a, b = x.a, x.b\n",
    "    Dual(cos(a), -1 * b * sin(a))\n",
    "end\n",
    "\n",
    "function sin(x::Dual)\n",
    "    # TODO: implement sin for Duals\n",
    "    a, b = x.a, x.b\n",
    "    Dual(sin(a), b * cos(a))\n",
    "end\n",
    "\n",
    "function /(x::Dual, y::Dual)\n",
    "    # TODO: implement division for Duals.\n",
    "    # Hint: think of this as x * (1/y)\n",
    "    a, b = x.a, x.b\n",
    "    c, d = y.a, y.b\n",
    "    \n",
    "    z = x * (Dual(c, -d))\n",
    "    Dual(z.a/(c^2), z.b/(c^2)) \n",
    "end\n",
    "\n",
    "x = 0.1\n",
    "ϵ = Dual(0,1)\n",
    "@test cos(sin(x+ϵ)/(x+ϵ)).b ≈ -((cos(x)/x - sin(x)/x^2)sin(sin(x)/x))"
   ]
  },
  {
   "cell_type": "markdown",
   "metadata": {},
   "source": [
    "**Problem 4(b)** Use dual numbers to compute the derivatives to\n",
    "1. $\\exp(\\exp x \\cos x + \\sin x)$\n",
    "2. $∏_{k=1}^{1000} \\left({x \\over k}-1\\right)$\n",
    "3. $f^{\\rm s}_{1000}(x)$ where, as in Lab 1 Problem 3(d), $f^{\\rm s}_n(x)$ corresponds to $n$-terms of the following continued fraction:\n",
    "$$\n",
    "1 + {x-1 \\over 2 + {x-1 \\over 2 + {x-1 \\over 2 + ⋱}}}.\n",
    "$$\n",
    "at the point $x = 0.1$. Compare with divided differences to give evidence that your implementation is correct."
   ]
  },
  {
   "cell_type": "code",
   "execution_count": 61,
   "metadata": {},
   "outputs": [
    {
     "data": {
      "text/plain": [
       "* (generic function with 302 methods)"
      ]
     },
     "metadata": {},
     "output_type": "display_data"
    }
   ],
   "source": [
    "-(x::Real, y::Dual) = Dual(x) - y\n",
    "-(x::Dual, y::Real) = x - Dual(y)\n",
    "/(x::Real, y::Dual) = Dual(x) / y\n",
    "/(x::Dual, y::Real) = x / Dual(y)\n",
    "*(x::Real, y::Dual) = Dual(x) * y\n",
    "*(x::Dual, y::Real) = x * Dual(y)"
   ]
  },
  {
   "cell_type": "code",
   "execution_count": 62,
   "metadata": {},
   "outputs": [
    {
     "data": {
      "text/plain": [
       "Dual(3.3184011429340323, 6.5847725546108276)"
      ]
     },
     "metadata": {},
     "output_type": "display_data"
    }
   ],
   "source": [
    "# TODO: Use dual numbers to compute the derivatives of the 3 functions above.\n",
    "func1 = x -> exp(exp(x) * cos(x) + sin(x))\n",
    "func1(Dual(0.1, 1))"
   ]
  },
  {
   "cell_type": "code",
   "execution_count": 63,
   "metadata": {},
   "outputs": [
    {
     "data": {
      "text/plain": [
       "Dual(0.4689792466949583, -3.593826513101571)"
      ]
     },
     "metadata": {},
     "output_type": "display_data"
    }
   ],
   "source": [
    "function func2(x)\n",
    "    prod = 1\n",
    "    for k = 1:1000\n",
    "        prod = prod * ((x/k) - 1)\n",
    "    end\n",
    "    prod\n",
    "end\n",
    "func2(Dual(0.1, 1))"
   ]
  },
  {
   "cell_type": "code",
   "execution_count": 64,
   "metadata": {},
   "outputs": [
    {
     "data": {
      "text/plain": [
       "Dual(1.316227766016838, 1.5811388300841893)"
      ]
     },
     "metadata": {},
     "output_type": "display_data"
    }
   ],
   "source": [
    "function func3(x)\n",
    "    res = 1 + (x - 1)/2\n",
    "    for k = 2:1000\n",
    "        res = 2 + (x - 1)/res\n",
    "    end\n",
    "    res\n",
    "end\n",
    "func3(Dual(0.1, 1))"
   ]
  },
  {
   "cell_type": "markdown",
   "metadata": {},
   "source": [
    "------\n",
    "## I.4 Newton's method"
   ]
  },
  {
   "cell_type": "markdown",
   "metadata": {},
   "source": [
    "Newton's method is a simple algorithmic approach that you may have seen before in school for computing roots (or zeros)\n",
    "of functions. The basic idea is given an initial guess $x_0$,\n",
    "find the first-order Taylor approximation $p(x)$ (i.e., find the line that matches the slope of the function at the point)\n",
    "$$\n",
    "f(x) ≈ \\underbrace{f(x_0) + f'(x_0) (x- x_0)}_{p(x)}.\n",
    "$$\n",
    "We can then solve the root finding problem for $p(x)$ exactly:\n",
    "$$\n",
    "p(x) = 0 ⇔ x = x_0 - {f(x_0) \\over f'(x_0)}\n",
    "$$\n",
    "We take this root of $p(x)$ as the new initial guess and repeat. In other words, we have a simple sequence\n",
    "defined by\n",
    "$$\n",
    "x_{k+1} = x_k - {f(x_k) \\over f'(x_k)}\n",
    "$$\n",
    "If the initial guess is \"close enough\" to a root $r$ of $f$ (ie $f(r) = 0$)\n",
    "then we have proven that $x_k → r$. Thus for large $N$ we have $x_N ≈ r$."
   ]
  },
  {
   "cell_type": "markdown",
   "metadata": {},
   "source": [
    "Dual numbers as implemented by `Dual` gives us a powerful tool to compute derivatives and get a simple implementation\n",
    "of Newton's method working:"
   ]
  },
  {
   "cell_type": "code",
   "execution_count": 65,
   "metadata": {},
   "outputs": [
    {
     "data": {
      "text/plain": [
       "-1.193859111321223"
      ]
     },
     "metadata": {},
     "output_type": "display_data"
    }
   ],
   "source": [
    "# derivative(f, x) computes the derivative at a point x using Dual\n",
    "derivative(f, x) = f(Dual(x,1)).b\n",
    "\n",
    "function newton(f, x, N) # x = x_0 is the initial guess\n",
    "    for k = 1:N\n",
    "        x = x - f(x)/derivative(f,x)\n",
    "    end\n",
    "    x\n",
    "end\n",
    "\n",
    "f = x -> x^5 + x^2 + 1\n",
    "r = newton(f, 0.1, 100)"
   ]
  },
  {
   "cell_type": "markdown",
   "metadata": {},
   "source": [
    "We can test that we have indeed found a root:"
   ]
  },
  {
   "cell_type": "code",
   "execution_count": 66,
   "metadata": {},
   "outputs": [
    {
     "data": {
      "text/plain": [
       "6.661338147750939e-16"
      ]
     },
     "metadata": {},
     "output_type": "display_data"
    }
   ],
   "source": [
    "f(r)"
   ]
  },
  {
   "cell_type": "markdown",
   "metadata": {},
   "source": [
    "-----"
   ]
  },
  {
   "cell_type": "markdown",
   "metadata": {},
   "source": [
    "**Problem 5(a)** For $f(x) = x^5 + x^2 + 1$, plot the error of $x_k$ for `k = 1:15` where the\n",
    "y-axis is scaled logarithmically and chosen $x_0 = 0.1$ You may\n",
    "use the computed `r` as the \"exact\" root. What do you think the convergence rate is?"
   ]
  },
  {
   "cell_type": "code",
   "execution_count": 88,
   "metadata": {},
   "outputs": [
    {
     "data": {
      "image/png": "[encoded data removed]",
      "image/svg+xml": [
       "<?xml version=\"1.0\" encoding=\"utf-8\"?>\n",
       "<svg xmlns=\"http://www.w3.org/2000/svg\" xmlns:xlink=\"http://www.w3.org/1999/xlink\" width=\"600\" height=\"400\" viewBox=\"0 0 2400 1600\">\n",
       "<defs>\n",
       "  <clipPath id=\"clip520\">\n",
       "    <rect x=\"0\" y=\"0\" width=\"2400\" height=\"1600\"/>\n",
       "  </clipPath>\n",
       "</defs>\n",
       "<path clip-path=\"url(#clip520)\" d=\"M0 1600 L2400 1600 L2400 8.88178e-14 L0 8.88178e-14  Z\" fill=\"#ffffff\" fill-rule=\"evenodd\" fill-opacity=\"1\"/>\n",
       "<defs>\n",
       "  <clipPath id=\"clip521\">\n",
       "    <rect x=\"480\" y=\"0\" width=\"1681\" height=\"1600\"/>\n",
       "  </clipPath>\n",
       "</defs>\n",
       "<path clip-path=\"url(#clip520)\" d=\"M213.607 1486.45 L2352.76 1486.45 L2352.76 47.2441 L213.607 47.2441  Z\" fill=\"#ffffff\" fill-rule=\"evenodd\" fill-opacity=\"1\"/>\n",
       "<defs>\n",
       "  <clipPath id=\"clip522\">\n",
       "    <rect x=\"213\" y=\"47\" width=\"2140\" height=\"1440\"/>\n",
       "  </clipPath>\n",
       "</defs>\n",
       "<polyline clip-path=\"url(#clip522)\" style=\"stroke:#000000; stroke-linecap:round; stroke-linejoin:round; stroke-width:2; stroke-opacity:0.1; fill:none\" points=\"418.297,1486.45 418.297,47.2441 \"/>\n",
       "<polyline clip-path=\"url(#clip522)\" style=\"stroke:#000000; stroke-linecap:round; stroke-linejoin:round; stroke-width:2; stroke-opacity:0.1; fill:none\" points=\"706.592,1486.45 706.592,47.2441 \"/>\n",
       "<polyline clip-path=\"url(#clip522)\" style=\"stroke:#000000; stroke-linecap:round; stroke-linejoin:round; stroke-width:2; stroke-opacity:0.1; fill:none\" points=\"994.887,1486.45 994.887,47.2441 \"/>\n",
       "<polyline clip-path=\"url(#clip522)\" style=\"stroke:#000000; stroke-linecap:round; stroke-linejoin:round; stroke-width:2; stroke-opacity:0.1; fill:none\" points=\"1283.18,1486.45 1283.18,47.2441 \"/>\n",
       "<polyline clip-path=\"url(#clip522)\" style=\"stroke:#000000; stroke-linecap:round; stroke-linejoin:round; stroke-width:2; stroke-opacity:0.1; fill:none\" points=\"1571.48,1486.45 1571.48,47.2441 \"/>\n",
       "<polyline clip-path=\"url(#clip522)\" style=\"stroke:#000000; stroke-linecap:round; stroke-linejoin:round; stroke-width:2; stroke-opacity:0.1; fill:none\" points=\"1859.77,1486.45 1859.77,47.2441 \"/>\n",
       "<polyline clip-path=\"url(#clip522)\" style=\"stroke:#000000; stroke-linecap:round; stroke-linejoin:round; stroke-width:2; stroke-opacity:0.1; fill:none\" points=\"2148.07,1486.45 2148.07,47.2441 \"/>\n",
       "<polyline clip-path=\"url(#clip522)\" style=\"stroke:#000000; stroke-linecap:round; stroke-linejoin:round; stroke-width:2; stroke-opacity:0.1; fill:none\" points=\"213.607,1063.12 2352.76,1063.12 \"/>\n",
       "<polyline clip-path=\"url(#clip522)\" style=\"stroke:#000000; stroke-linecap:round; stroke-linejoin:round; stroke-width:2; stroke-opacity:0.1; fill:none\" points=\"213.607,601.985 2352.76,601.985 \"/>\n",
       "<polyline clip-path=\"url(#clip522)\" style=\"stroke:#000000; stroke-linecap:round; stroke-linejoin:round; stroke-width:2; stroke-opacity:0.1; fill:none\" points=\"213.607,140.849 2352.76,140.849 \"/>\n",
       "<polyline clip-path=\"url(#clip520)\" style=\"stroke:#000000; stroke-linecap:round; stroke-linejoin:round; stroke-width:4; stroke-opacity:1; fill:none\" points=\"213.607,1486.45 2352.76,1486.45 \"/>\n",
       "<polyline clip-path=\"url(#clip520)\" style=\"stroke:#000000; stroke-linecap:round; stroke-linejoin:round; stroke-width:4; stroke-opacity:1; fill:none\" points=\"418.297,1486.45 418.297,1467.55 \"/>\n",
       "<polyline clip-path=\"url(#clip520)\" style=\"stroke:#000000; stroke-linecap:round; stroke-linejoin:round; stroke-width:4; stroke-opacity:1; fill:none\" points=\"706.592,1486.45 706.592,1467.55 \"/>\n",
       "<polyline clip-path=\"url(#clip520)\" style=\"stroke:#000000; stroke-linecap:round; stroke-linejoin:round; stroke-width:4; stroke-opacity:1; fill:none\" points=\"994.887,1486.45 994.887,1467.55 \"/>\n",
       "<polyline clip-path=\"url(#clip520)\" style=\"stroke:#000000; stroke-linecap:round; stroke-linejoin:round; stroke-width:4; stroke-opacity:1; fill:none\" points=\"1283.18,1486.45 1283.18,1467.55 \"/>\n",
       "<polyline clip-path=\"url(#clip520)\" style=\"stroke:#000000; stroke-linecap:round; stroke-linejoin:round; stroke-width:4; stroke-opacity:1; fill:none\" points=\"1571.48,1486.45 1571.48,1467.55 \"/>\n",
       "<polyline clip-path=\"url(#clip520)\" style=\"stroke:#000000; stroke-linecap:round; stroke-linejoin:round; stroke-width:4; stroke-opacity:1; fill:none\" points=\"1859.77,1486.45 1859.77,1467.55 \"/>\n",
       "<polyline clip-path=\"url(#clip520)\" style=\"stroke:#000000; stroke-linecap:round; stroke-linejoin:round; stroke-width:4; stroke-opacity:1; fill:none\" points=\"2148.07,1486.45 2148.07,1467.55 \"/>\n",
       "<path clip-path=\"url(#clip520)\" d=\"M412.95 1544.91 L429.269 1544.91 L429.269 1548.85 L407.325 1548.85 L407.325 1544.91 Q409.987 1542.16 414.57 1537.53 Q419.177 1532.88 420.357 1531.53 Q422.602 1529.01 423.482 1527.27 Q424.385 1525.51 424.385 1523.82 Q424.385 1521.07 422.44 1519.33 Q420.519 1517.6 417.417 1517.6 Q415.218 1517.6 412.765 1518.36 Q410.334 1519.13 407.556 1520.68 L407.556 1515.95 Q410.38 1514.82 412.834 1514.24 Q415.288 1513.66 417.325 1513.66 Q422.695 1513.66 425.889 1516.35 Q429.084 1519.03 429.084 1523.52 Q429.084 1525.65 428.274 1527.57 Q427.487 1529.47 425.38 1532.07 Q424.801 1532.74 421.7 1535.95 Q418.598 1539.15 412.95 1544.91 Z\" fill=\"#000000\" fill-rule=\"nonzero\" fill-opacity=\"1\" /><path clip-path=\"url(#clip520)\" d=\"M709.601 1518.36 L697.796 1536.81 L709.601 1536.81 L709.601 1518.36 M708.374 1514.29 L714.254 1514.29 L714.254 1536.81 L719.184 1536.81 L719.184 1540.7 L714.254 1540.7 L714.254 1548.85 L709.601 1548.85 L709.601 1540.7 L693.999 1540.7 L693.999 1536.19 L708.374 1514.29 Z\" fill=\"#000000\" fill-rule=\"nonzero\" fill-opacity=\"1\" /><path clip-path=\"url(#clip520)\" d=\"M995.292 1529.7 Q992.144 1529.7 990.292 1531.86 Q988.463 1534.01 988.463 1537.76 Q988.463 1541.49 990.292 1543.66 Q992.144 1545.82 995.292 1545.82 Q998.44 1545.82 1000.27 1543.66 Q1002.12 1541.49 1002.12 1537.76 Q1002.12 1534.01 1000.27 1531.86 Q998.44 1529.7 995.292 1529.7 M1004.57 1515.05 L1004.57 1519.31 Q1002.81 1518.48 1001.01 1518.04 Q999.227 1517.6 997.468 1517.6 Q992.838 1517.6 990.384 1520.72 Q987.954 1523.85 987.607 1530.17 Q988.972 1528.15 991.033 1527.09 Q993.093 1526 995.57 1526 Q1000.78 1526 1003.79 1529.17 Q1006.82 1532.32 1006.82 1537.76 Q1006.82 1543.08 1003.67 1546.3 Q1000.52 1549.52 995.292 1549.52 Q989.297 1549.52 986.125 1544.94 Q982.954 1540.33 982.954 1531.6 Q982.954 1523.41 986.843 1518.55 Q990.732 1513.66 997.283 1513.66 Q999.042 1513.66 1000.82 1514.01 Q1002.63 1514.36 1004.57 1515.05 Z\" fill=\"#000000\" fill-rule=\"nonzero\" fill-opacity=\"1\" /><path clip-path=\"url(#clip520)\" d=\"M1283.18 1532.44 Q1279.85 1532.44 1277.93 1534.22 Q1276.03 1536 1276.03 1539.13 Q1276.03 1542.25 1277.93 1544.03 Q1279.85 1545.82 1283.18 1545.82 Q1286.52 1545.82 1288.44 1544.03 Q1290.36 1542.23 1290.36 1539.13 Q1290.36 1536 1288.44 1534.22 Q1286.54 1532.44 1283.18 1532.44 M1278.51 1530.45 Q1275.5 1529.7 1273.81 1527.64 Q1272.14 1525.58 1272.14 1522.62 Q1272.14 1518.48 1275.08 1516.07 Q1278.04 1513.66 1283.18 1513.66 Q1288.34 1513.66 1291.28 1516.07 Q1294.22 1518.48 1294.22 1522.62 Q1294.22 1525.58 1292.53 1527.64 Q1290.87 1529.7 1287.88 1530.45 Q1291.26 1531.23 1293.14 1533.52 Q1295.03 1535.82 1295.03 1539.13 Q1295.03 1544.15 1291.95 1546.83 Q1288.9 1549.52 1283.18 1549.52 Q1277.46 1549.52 1274.39 1546.83 Q1271.33 1544.15 1271.33 1539.13 Q1271.33 1535.82 1273.23 1533.52 Q1275.13 1531.23 1278.51 1530.45 M1276.79 1523.06 Q1276.79 1525.75 1278.46 1527.25 Q1280.15 1528.76 1283.18 1528.76 Q1286.19 1528.76 1287.88 1527.25 Q1289.59 1525.75 1289.59 1523.06 Q1289.59 1520.38 1287.88 1518.87 Q1286.19 1517.37 1283.18 1517.37 Q1280.15 1517.37 1278.46 1518.87 Q1276.79 1520.38 1276.79 1523.06 Z\" fill=\"#000000\" fill-rule=\"nonzero\" fill-opacity=\"1\" /><path clip-path=\"url(#clip520)\" d=\"M1546.16 1544.91 L1553.8 1544.91 L1553.8 1518.55 L1545.49 1520.21 L1545.49 1515.95 L1553.76 1514.29 L1558.43 1514.29 L1558.43 1544.91 L1566.07 1544.91 L1566.07 1548.85 L1546.16 1548.85 L1546.16 1544.91 Z\" fill=\"#000000\" fill-rule=\"nonzero\" fill-opacity=\"1\" /><path clip-path=\"url(#clip520)\" d=\"M1585.52 1517.37 Q1581.9 1517.37 1580.08 1520.93 Q1578.27 1524.47 1578.27 1531.6 Q1578.27 1538.71 1580.08 1542.27 Q1581.9 1545.82 1585.52 1545.82 Q1589.15 1545.82 1590.96 1542.27 Q1592.78 1538.71 1592.78 1531.6 Q1592.78 1524.47 1590.96 1520.93 Q1589.15 1517.37 1585.52 1517.37 M1585.52 1513.66 Q1591.33 1513.66 1594.38 1518.27 Q1597.46 1522.85 1597.46 1531.6 Q1597.46 1540.33 1594.38 1544.94 Q1591.33 1549.52 1585.52 1549.52 Q1579.71 1549.52 1576.63 1544.94 Q1573.57 1540.33 1573.57 1531.6 Q1573.57 1522.85 1576.63 1518.27 Q1579.71 1513.66 1585.52 1513.66 Z\" fill=\"#000000\" fill-rule=\"nonzero\" fill-opacity=\"1\" /><path clip-path=\"url(#clip520)\" d=\"M1835.26 1544.91 L1842.9 1544.91 L1842.9 1518.55 L1834.59 1520.21 L1834.59 1515.95 L1842.85 1514.29 L1847.53 1514.29 L1847.53 1544.91 L1855.17 1544.91 L1855.17 1548.85 L1835.26 1548.85 L1835.26 1544.91 Z\" fill=\"#000000\" fill-rule=\"nonzero\" fill-opacity=\"1\" /><path clip-path=\"url(#clip520)\" d=\"M1868.64 1544.91 L1884.96 1544.91 L1884.96 1548.85 L1863.01 1548.85 L1863.01 1544.91 Q1865.67 1542.16 1870.26 1537.53 Q1874.86 1532.88 1876.04 1531.53 Q1878.29 1529.01 1879.17 1527.27 Q1880.07 1525.51 1880.07 1523.82 Q1880.07 1521.07 1878.13 1519.33 Q1876.21 1517.6 1873.1 1517.6 Q1870.91 1517.6 1868.45 1518.36 Q1866.02 1519.13 1863.24 1520.68 L1863.24 1515.95 Q1866.07 1514.82 1868.52 1514.24 Q1870.98 1513.66 1873.01 1513.66 Q1878.38 1513.66 1881.58 1516.35 Q1884.77 1519.03 1884.77 1523.52 Q1884.77 1525.65 1883.96 1527.57 Q1883.17 1529.47 1881.07 1532.07 Q1880.49 1532.74 1877.39 1535.95 Q1874.29 1539.15 1868.64 1544.91 Z\" fill=\"#000000\" fill-rule=\"nonzero\" fill-opacity=\"1\" /><path clip-path=\"url(#clip520)\" d=\"M2122.51 1544.91 L2130.15 1544.91 L2130.15 1518.55 L2121.84 1520.21 L2121.84 1515.95 L2130.1 1514.29 L2134.78 1514.29 L2134.78 1544.91 L2142.42 1544.91 L2142.42 1548.85 L2122.51 1548.85 L2122.51 1544.91 Z\" fill=\"#000000\" fill-rule=\"nonzero\" fill-opacity=\"1\" /><path clip-path=\"url(#clip520)\" d=\"M2164.71 1518.36 L2152.9 1536.81 L2164.71 1536.81 L2164.71 1518.36 M2163.48 1514.29 L2169.36 1514.29 L2169.36 1536.81 L2174.29 1536.81 L2174.29 1540.7 L2169.36 1540.7 L2169.36 1548.85 L2164.71 1548.85 L2164.71 1540.7 L2149.11 1540.7 L2149.11 1536.19 L2163.48 1514.29 Z\" fill=\"#000000\" fill-rule=\"nonzero\" fill-opacity=\"1\" /><polyline clip-path=\"url(#clip520)\" style=\"stroke:#000000; stroke-linecap:round; stroke-linejoin:round; stroke-width:4; stroke-opacity:1; fill:none\" points=\"213.607,1486.45 213.607,47.2441 \"/>\n",
       "<polyline clip-path=\"url(#clip520)\" style=\"stroke:#000000; stroke-linecap:round; stroke-linejoin:round; stroke-width:4; stroke-opacity:1; fill:none\" points=\"213.607,1063.12 232.505,1063.12 \"/>\n",
       "<polyline clip-path=\"url(#clip520)\" style=\"stroke:#000000; stroke-linecap:round; stroke-linejoin:round; stroke-width:4; stroke-opacity:1; fill:none\" points=\"213.607,601.985 232.505,601.985 \"/>\n",
       "<polyline clip-path=\"url(#clip520)\" style=\"stroke:#000000; stroke-linecap:round; stroke-linejoin:round; stroke-width:4; stroke-opacity:1; fill:none\" points=\"213.607,140.849 232.505,140.849 \"/>\n",
       "<path clip-path=\"url(#clip520)\" d=\"M51.6634 1082.91 L59.3023 1082.91 L59.3023 1056.55 L50.9921 1058.21 L50.9921 1053.95 L59.256 1052.29 L63.9319 1052.29 L63.9319 1082.91 L71.5707 1082.91 L71.5707 1086.85 L51.6634 1086.85 L51.6634 1082.91 Z\" fill=\"#000000\" fill-rule=\"nonzero\" fill-opacity=\"1\" /><path clip-path=\"url(#clip520)\" d=\"M91.0151 1055.37 Q87.404 1055.37 85.5753 1058.93 Q83.7697 1062.47 83.7697 1069.6 Q83.7697 1076.71 85.5753 1080.27 Q87.404 1083.82 91.0151 1083.82 Q94.6493 1083.82 96.4548 1080.27 Q98.2835 1076.71 98.2835 1069.6 Q98.2835 1062.47 96.4548 1058.93 Q94.6493 1055.37 91.0151 1055.37 M91.0151 1051.66 Q96.8252 1051.66 99.8808 1056.27 Q102.959 1060.85 102.959 1069.6 Q102.959 1078.33 99.8808 1082.94 Q96.8252 1087.52 91.0151 1087.52 Q85.2049 1087.52 82.1262 1082.94 Q79.0707 1078.33 79.0707 1069.6 Q79.0707 1060.85 82.1262 1056.27 Q85.2049 1051.66 91.0151 1051.66 Z\" fill=\"#000000\" fill-rule=\"nonzero\" fill-opacity=\"1\" /><path clip-path=\"url(#clip520)\" d=\"M102.959 1045.76 L127.071 1045.76 L127.071 1048.96 L102.959 1048.96 L102.959 1045.76 Z\" fill=\"#000000\" fill-rule=\"nonzero\" fill-opacity=\"1\" /><path clip-path=\"url(#clip520)\" d=\"M135.929 1056.24 L142.136 1056.24 L142.136 1034.82 L135.384 1036.17 L135.384 1032.71 L142.098 1031.36 L145.898 1031.36 L145.898 1056.24 L152.104 1056.24 L152.104 1059.44 L135.929 1059.44 L135.929 1056.24 Z\" fill=\"#000000\" fill-rule=\"nonzero\" fill-opacity=\"1\" /><path clip-path=\"url(#clip520)\" d=\"M167.903 1033.86 Q164.969 1033.86 163.483 1036.75 Q162.016 1039.63 162.016 1045.43 Q162.016 1051.2 163.483 1054.1 Q164.969 1056.97 167.903 1056.97 Q170.855 1056.97 172.322 1054.1 Q173.808 1051.2 173.808 1045.43 Q173.808 1039.63 172.322 1036.75 Q170.855 1033.86 167.903 1033.86 M167.903 1030.85 Q172.623 1030.85 175.106 1034.59 Q177.607 1038.32 177.607 1045.43 Q177.607 1052.52 175.106 1056.26 Q172.623 1059.98 167.903 1059.98 Q163.182 1059.98 160.68 1056.26 Q158.198 1052.52 158.198 1045.43 Q158.198 1038.32 160.68 1034.59 Q163.182 1030.85 167.903 1030.85 Z\" fill=\"#000000\" fill-rule=\"nonzero\" fill-opacity=\"1\" /><path clip-path=\"url(#clip520)\" d=\"M76.9787 621.777 L84.6175 621.777 L84.6175 595.411 L76.3074 597.078 L76.3074 592.819 L84.5712 591.152 L89.2471 591.152 L89.2471 621.777 L96.886 621.777 L96.886 625.712 L76.9787 625.712 L76.9787 621.777 Z\" fill=\"#000000\" fill-rule=\"nonzero\" fill-opacity=\"1\" /><path clip-path=\"url(#clip520)\" d=\"M116.33 594.231 Q112.719 594.231 110.891 597.796 Q109.085 601.337 109.085 608.467 Q109.085 615.573 110.891 619.138 Q112.719 622.68 116.33 622.68 Q119.965 622.68 121.77 619.138 Q123.599 615.573 123.599 608.467 Q123.599 601.337 121.77 597.796 Q119.965 594.231 116.33 594.231 M116.33 590.527 Q122.14 590.527 125.196 595.134 Q128.275 599.717 128.275 608.467 Q128.275 617.194 125.196 621.8 Q122.14 626.383 116.33 626.383 Q110.52 626.383 107.441 621.8 Q104.386 617.194 104.386 608.467 Q104.386 599.717 107.441 595.134 Q110.52 590.527 116.33 590.527 Z\" fill=\"#000000\" fill-rule=\"nonzero\" fill-opacity=\"1\" /><path clip-path=\"url(#clip520)\" d=\"M128.275 584.628 L152.386 584.628 L152.386 587.826 L128.275 587.826 L128.275 584.628 Z\" fill=\"#000000\" fill-rule=\"nonzero\" fill-opacity=\"1\" /><path clip-path=\"url(#clip520)\" d=\"M160.624 570.222 L175.539 570.222 L175.539 573.419 L164.103 573.419 L164.103 580.303 Q164.931 580.021 165.759 579.889 Q166.586 579.738 167.414 579.738 Q172.116 579.738 174.862 582.315 Q177.607 584.892 177.607 589.293 Q177.607 593.825 174.786 596.346 Q171.965 598.847 166.831 598.847 Q165.063 598.847 163.22 598.546 Q161.395 598.245 159.439 597.643 L159.439 593.825 Q161.132 594.747 162.937 595.198 Q164.743 595.65 166.755 595.65 Q170.009 595.65 171.909 593.938 Q173.808 592.227 173.808 589.293 Q173.808 586.359 171.909 584.647 Q170.009 582.936 166.755 582.936 Q165.232 582.936 163.709 583.274 Q162.204 583.613 160.624 584.328 L160.624 570.222 Z\" fill=\"#000000\" fill-rule=\"nonzero\" fill-opacity=\"1\" /><path clip-path=\"url(#clip520)\" d=\"M106.902 160.641 L114.541 160.641 L114.541 134.276 L106.231 135.943 L106.231 131.683 L114.494 130.017 L119.17 130.017 L119.17 160.641 L126.809 160.641 L126.809 164.577 L106.902 164.577 L106.902 160.641 Z\" fill=\"#000000\" fill-rule=\"nonzero\" fill-opacity=\"1\" /><path clip-path=\"url(#clip520)\" d=\"M146.253 133.095 Q142.642 133.095 140.814 136.66 Q139.008 140.202 139.008 147.331 Q139.008 154.438 140.814 158.003 Q142.642 161.544 146.253 161.544 Q149.888 161.544 151.693 158.003 Q153.522 154.438 153.522 147.331 Q153.522 140.202 151.693 136.66 Q149.888 133.095 146.253 133.095 M146.253 129.392 Q152.064 129.392 155.119 133.998 Q158.198 138.581 158.198 147.331 Q158.198 156.058 155.119 160.665 Q152.064 165.248 146.253 165.248 Q140.443 165.248 137.365 160.665 Q134.309 156.058 134.309 147.331 Q134.309 138.581 137.365 133.998 Q140.443 129.392 146.253 129.392 Z\" fill=\"#000000\" fill-rule=\"nonzero\" fill-opacity=\"1\" /><path clip-path=\"url(#clip520)\" d=\"M167.903 111.588 Q164.969 111.588 163.483 114.484 Q162.016 117.362 162.016 123.154 Q162.016 128.928 163.483 131.825 Q164.969 134.702 167.903 134.702 Q170.855 134.702 172.322 131.825 Q173.808 128.928 173.808 123.154 Q173.808 117.362 172.322 114.484 Q170.855 111.588 167.903 111.588 M167.903 108.578 Q172.623 108.578 175.106 112.321 Q177.607 116.045 177.607 123.154 Q177.607 130.245 175.106 133.988 Q172.623 137.712 167.903 137.712 Q163.182 137.712 160.68 133.988 Q158.198 130.245 158.198 123.154 Q158.198 116.045 160.68 112.321 Q163.182 108.578 167.903 108.578 Z\" fill=\"#000000\" fill-rule=\"nonzero\" fill-opacity=\"1\" /><polyline clip-path=\"url(#clip522)\" style=\"stroke:#009af9; stroke-linecap:round; stroke-linejoin:round; stroke-width:4; stroke-opacity:1; fill:none\" points=\"274.149,87.9763 418.297,100.165 562.444,113.511 706.592,128.58 850.739,146.351 994.887,168.65 1139.03,199.203 1283.18,246.28 1427.33,329.011 1571.48,489.047 1715.62,808.288 1859.77,1445.72 \"/>\n",
       "<path clip-path=\"url(#clip520)\" d=\"M284.912 198.898 L551.258 198.898 L551.258 95.2176 L284.912 95.2176  Z\" fill=\"#ffffff\" fill-rule=\"evenodd\" fill-opacity=\"1\"/>\n",
       "<polyline clip-path=\"url(#clip520)\" style=\"stroke:#000000; stroke-linecap:round; stroke-linejoin:round; stroke-width:4; stroke-opacity:1; fill:none\" points=\"284.912,198.898 551.258,198.898 551.258,95.2176 284.912,95.2176 284.912,198.898 \"/>\n",
       "<polyline clip-path=\"url(#clip520)\" style=\"stroke:#009af9; stroke-linecap:round; stroke-linejoin:round; stroke-width:4; stroke-opacity:1; fill:none\" points=\"308.681,147.058 451.291,147.058 \"/>\n",
       "<path clip-path=\"url(#clip520)\" d=\"M488.901 166.745 Q487.096 171.375 485.383 172.787 Q483.67 174.199 480.8 174.199 L477.397 174.199 L477.397 170.634 L479.897 170.634 Q481.656 170.634 482.628 169.8 Q483.601 168.967 484.781 165.865 L485.545 163.921 L475.059 138.412 L479.573 138.412 L487.675 158.689 L495.776 138.412 L500.29 138.412 L488.901 166.745 Z\" fill=\"#000000\" fill-rule=\"nonzero\" fill-opacity=\"1\" /><path clip-path=\"url(#clip520)\" d=\"M507.582 160.402 L515.221 160.402 L515.221 134.037 L506.911 135.703 L506.911 131.444 L515.174 129.778 L519.85 129.778 L519.85 160.402 L527.489 160.402 L527.489 164.338 L507.582 164.338 L507.582 160.402 Z\" fill=\"#000000\" fill-rule=\"nonzero\" fill-opacity=\"1\" /></svg>\n"
      ],
      "text/html": [
       "<?xml version=\"1.0\" encoding=\"utf-8\"?>\n",
       "<svg xmlns=\"http://www.w3.org/2000/svg\" xmlns:xlink=\"http://www.w3.org/1999/xlink\" width=\"600\" height=\"400\" viewBox=\"0 0 2400 1600\">\n",
       "<defs>\n",
       "  <clipPath id=\"clip570\">\n",
       "    <rect x=\"0\" y=\"0\" width=\"2400\" height=\"1600\"/>\n",
       "  </clipPath>\n",
       "</defs>\n",
       "<path clip-path=\"url(#clip570)\" d=\"M0 1600 L2400 1600 L2400 8.88178e-14 L0 8.88178e-14  Z\" fill=\"#ffffff\" fill-rule=\"evenodd\" fill-opacity=\"1\"/>\n",
       "<defs>\n",
       "  <clipPath id=\"clip571\">\n",
       "    <rect x=\"480\" y=\"0\" width=\"1681\" height=\"1600\"/>\n",
       "  </clipPath>\n",
       "</defs>\n",
       "<path clip-path=\"url(#clip570)\" d=\"M213.607 1486.45 L2352.76 1486.45 L2352.76 47.2441 L213.607 47.2441  Z\" fill=\"#ffffff\" fill-rule=\"evenodd\" fill-opacity=\"1\"/>\n",
       "<defs>\n",
       "  <clipPath id=\"clip572\">\n",
       "    <rect x=\"213\" y=\"47\" width=\"2140\" height=\"1440\"/>\n",
       "  </clipPath>\n",
       "</defs>\n",
       "<polyline clip-path=\"url(#clip572)\" style=\"stroke:#000000; stroke-linecap:round; stroke-linejoin:round; stroke-width:2; stroke-opacity:0.1; fill:none\" points=\"418.297,1486.45 418.297,47.2441 \"/>\n",
       "<polyline clip-path=\"url(#clip572)\" style=\"stroke:#000000; stroke-linecap:round; stroke-linejoin:round; stroke-width:2; stroke-opacity:0.1; fill:none\" points=\"706.592,1486.45 706.592,47.2441 \"/>\n",
       "<polyline clip-path=\"url(#clip572)\" style=\"stroke:#000000; stroke-linecap:round; stroke-linejoin:round; stroke-width:2; stroke-opacity:0.1; fill:none\" points=\"994.887,1486.45 994.887,47.2441 \"/>\n",
       "<polyline clip-path=\"url(#clip572)\" style=\"stroke:#000000; stroke-linecap:round; stroke-linejoin:round; stroke-width:2; stroke-opacity:0.1; fill:none\" points=\"1283.18,1486.45 1283.18,47.2441 \"/>\n",
       "<polyline clip-path=\"url(#clip572)\" style=\"stroke:#000000; stroke-linecap:round; stroke-linejoin:round; stroke-width:2; stroke-opacity:0.1; fill:none\" points=\"1571.48,1486.45 1571.48,47.2441 \"/>\n",
       "<polyline clip-path=\"url(#clip572)\" style=\"stroke:#000000; stroke-linecap:round; stroke-linejoin:round; stroke-width:2; stroke-opacity:0.1; fill:none\" points=\"1859.77,1486.45 1859.77,47.2441 \"/>\n",
       "<polyline clip-path=\"url(#clip572)\" style=\"stroke:#000000; stroke-linecap:round; stroke-linejoin:round; stroke-width:2; stroke-opacity:0.1; fill:none\" points=\"2148.07,1486.45 2148.07,47.2441 \"/>\n",
       "<polyline clip-path=\"url(#clip572)\" style=\"stroke:#000000; stroke-linecap:round; stroke-linejoin:round; stroke-width:2; stroke-opacity:0.1; fill:none\" points=\"213.607,1063.12 2352.76,1063.12 \"/>\n",
       "<polyline clip-path=\"url(#clip572)\" style=\"stroke:#000000; stroke-linecap:round; stroke-linejoin:round; stroke-width:2; stroke-opacity:0.1; fill:none\" points=\"213.607,601.985 2352.76,601.985 \"/>\n",
       "<polyline clip-path=\"url(#clip572)\" style=\"stroke:#000000; stroke-linecap:round; stroke-linejoin:round; stroke-width:2; stroke-opacity:0.1; fill:none\" points=\"213.607,140.849 2352.76,140.849 \"/>\n",
       "<polyline clip-path=\"url(#clip570)\" style=\"stroke:#000000; stroke-linecap:round; stroke-linejoin:round; stroke-width:4; stroke-opacity:1; fill:none\" points=\"213.607,1486.45 2352.76,1486.45 \"/>\n",
       "<polyline clip-path=\"url(#clip570)\" style=\"stroke:#000000; stroke-linecap:round; stroke-linejoin:round; stroke-width:4; stroke-opacity:1; fill:none\" points=\"418.297,1486.45 418.297,1467.55 \"/>\n",
       "<polyline clip-path=\"url(#clip570)\" style=\"stroke:#000000; stroke-linecap:round; stroke-linejoin:round; stroke-width:4; stroke-opacity:1; fill:none\" points=\"706.592,1486.45 706.592,1467.55 \"/>\n",
       "<polyline clip-path=\"url(#clip570)\" style=\"stroke:#000000; stroke-linecap:round; stroke-linejoin:round; stroke-width:4; stroke-opacity:1; fill:none\" points=\"994.887,1486.45 994.887,1467.55 \"/>\n",
       "<polyline clip-path=\"url(#clip570)\" style=\"stroke:#000000; stroke-linecap:round; stroke-linejoin:round; stroke-width:4; stroke-opacity:1; fill:none\" points=\"1283.18,1486.45 1283.18,1467.55 \"/>\n",
       "<polyline clip-path=\"url(#clip570)\" style=\"stroke:#000000; stroke-linecap:round; stroke-linejoin:round; stroke-width:4; stroke-opacity:1; fill:none\" points=\"1571.48,1486.45 1571.48,1467.55 \"/>\n",
       "<polyline clip-path=\"url(#clip570)\" style=\"stroke:#000000; stroke-linecap:round; stroke-linejoin:round; stroke-width:4; stroke-opacity:1; fill:none\" points=\"1859.77,1486.45 1859.77,1467.55 \"/>\n",
       "<polyline clip-path=\"url(#clip570)\" style=\"stroke:#000000; stroke-linecap:round; stroke-linejoin:round; stroke-width:4; stroke-opacity:1; fill:none\" points=\"2148.07,1486.45 2148.07,1467.55 \"/>\n",
       "<path clip-path=\"url(#clip570)\" d=\"M412.95 1544.91 L429.269 1544.91 L429.269 1548.85 L407.325 1548.85 L407.325 1544.91 Q409.987 1542.16 414.57 1537.53 Q419.177 1532.88 420.357 1531.53 Q422.602 1529.01 423.482 1527.27 Q424.385 1525.51 424.385 1523.82 Q424.385 1521.07 422.44 1519.33 Q420.519 1517.6 417.417 1517.6 Q415.218 1517.6 412.765 1518.36 Q410.334 1519.13 407.556 1520.68 L407.556 1515.95 Q410.38 1514.82 412.834 1514.24 Q415.288 1513.66 417.325 1513.66 Q422.695 1513.66 425.889 1516.35 Q429.084 1519.03 429.084 1523.52 Q429.084 1525.65 428.274 1527.57 Q427.487 1529.47 425.38 1532.07 Q424.801 1532.74 421.7 1535.95 Q418.598 1539.15 412.95 1544.91 Z\" fill=\"#000000\" fill-rule=\"nonzero\" fill-opacity=\"1\" /><path clip-path=\"url(#clip570)\" d=\"M709.601 1518.36 L697.796 1536.81 L709.601 1536.81 L709.601 1518.36 M708.374 1514.29 L714.254 1514.29 L714.254 1536.81 L719.184 1536.81 L719.184 1540.7 L714.254 1540.7 L714.254 1548.85 L709.601 1548.85 L709.601 1540.7 L693.999 1540.7 L693.999 1536.19 L708.374 1514.29 Z\" fill=\"#000000\" fill-rule=\"nonzero\" fill-opacity=\"1\" /><path clip-path=\"url(#clip570)\" d=\"M995.292 1529.7 Q992.144 1529.7 990.292 1531.86 Q988.463 1534.01 988.463 1537.76 Q988.463 1541.49 990.292 1543.66 Q992.144 1545.82 995.292 1545.82 Q998.44 1545.82 1000.27 1543.66 Q1002.12 1541.49 1002.12 1537.76 Q1002.12 1534.01 1000.27 1531.86 Q998.44 1529.7 995.292 1529.7 M1004.57 1515.05 L1004.57 1519.31 Q1002.81 1518.48 1001.01 1518.04 Q999.227 1517.6 997.468 1517.6 Q992.838 1517.6 990.384 1520.72 Q987.954 1523.85 987.607 1530.17 Q988.972 1528.15 991.033 1527.09 Q993.093 1526 995.57 1526 Q1000.78 1526 1003.79 1529.17 Q1006.82 1532.32 1006.82 1537.76 Q1006.82 1543.08 1003.67 1546.3 Q1000.52 1549.52 995.292 1549.52 Q989.297 1549.52 986.125 1544.94 Q982.954 1540.33 982.954 1531.6 Q982.954 1523.41 986.843 1518.55 Q990.732 1513.66 997.283 1513.66 Q999.042 1513.66 1000.82 1514.01 Q1002.63 1514.36 1004.57 1515.05 Z\" fill=\"#000000\" fill-rule=\"nonzero\" fill-opacity=\"1\" /><path clip-path=\"url(#clip570)\" d=\"M1283.18 1532.44 Q1279.85 1532.44 1277.93 1534.22 Q1276.03 1536 1276.03 1539.13 Q1276.03 1542.25 1277.93 1544.03 Q1279.85 1545.82 1283.18 1545.82 Q1286.52 1545.82 1288.44 1544.03 Q1290.36 1542.23 1290.36 1539.13 Q1290.36 1536 1288.44 1534.22 Q1286.54 1532.44 1283.18 1532.44 M1278.51 1530.45 Q1275.5 1529.7 1273.81 1527.64 Q1272.14 1525.58 1272.14 1522.62 Q1272.14 1518.48 1275.08 1516.07 Q1278.04 1513.66 1283.18 1513.66 Q1288.34 1513.66 1291.28 1516.07 Q1294.22 1518.48 1294.22 1522.62 Q1294.22 1525.58 1292.53 1527.64 Q1290.87 1529.7 1287.88 1530.45 Q1291.26 1531.23 1293.14 1533.52 Q1295.03 1535.82 1295.03 1539.13 Q1295.03 1544.15 1291.95 1546.83 Q1288.9 1549.52 1283.18 1549.52 Q1277.46 1549.52 1274.39 1546.83 Q1271.33 1544.15 1271.33 1539.13 Q1271.33 1535.82 1273.23 1533.52 Q1275.13 1531.23 1278.51 1530.45 M1276.79 1523.06 Q1276.79 1525.75 1278.46 1527.25 Q1280.15 1528.76 1283.18 1528.76 Q1286.19 1528.76 1287.88 1527.25 Q1289.59 1525.75 1289.59 1523.06 Q1289.59 1520.38 1287.88 1518.87 Q1286.19 1517.37 1283.18 1517.37 Q1280.15 1517.37 1278.46 1518.87 Q1276.79 1520.38 1276.79 1523.06 Z\" fill=\"#000000\" fill-rule=\"nonzero\" fill-opacity=\"1\" /><path clip-path=\"url(#clip570)\" d=\"M1546.16 1544.91 L1553.8 1544.91 L1553.8 1518.55 L1545.49 1520.21 L1545.49 1515.95 L1553.76 1514.29 L1558.43 1514.29 L1558.43 1544.91 L1566.07 1544.91 L1566.07 1548.85 L1546.16 1548.85 L1546.16 1544.91 Z\" fill=\"#000000\" fill-rule=\"nonzero\" fill-opacity=\"1\" /><path clip-path=\"url(#clip570)\" d=\"M1585.52 1517.37 Q1581.9 1517.37 1580.08 1520.93 Q1578.27 1524.47 1578.27 1531.6 Q1578.27 1538.71 1580.08 1542.27 Q1581.9 1545.82 1585.52 1545.82 Q1589.15 1545.82 1590.96 1542.27 Q1592.78 1538.71 1592.78 1531.6 Q1592.78 1524.47 1590.96 1520.93 Q1589.15 1517.37 1585.52 1517.37 M1585.52 1513.66 Q1591.33 1513.66 1594.38 1518.27 Q1597.46 1522.85 1597.46 1531.6 Q1597.46 1540.33 1594.38 1544.94 Q1591.33 1549.52 1585.52 1549.52 Q1579.71 1549.52 1576.63 1544.94 Q1573.57 1540.33 1573.57 1531.6 Q1573.57 1522.85 1576.63 1518.27 Q1579.71 1513.66 1585.52 1513.66 Z\" fill=\"#000000\" fill-rule=\"nonzero\" fill-opacity=\"1\" /><path clip-path=\"url(#clip570)\" d=\"M1835.26 1544.91 L1842.9 1544.91 L1842.9 1518.55 L1834.59 1520.21 L1834.59 1515.95 L1842.85 1514.29 L1847.53 1514.29 L1847.53 1544.91 L1855.17 1544.91 L1855.17 1548.85 L1835.26 1548.85 L1835.26 1544.91 Z\" fill=\"#000000\" fill-rule=\"nonzero\" fill-opacity=\"1\" /><path clip-path=\"url(#clip570)\" d=\"M1868.64 1544.91 L1884.96 1544.91 L1884.96 1548.85 L1863.01 1548.85 L1863.01 1544.91 Q1865.67 1542.16 1870.26 1537.53 Q1874.86 1532.88 1876.04 1531.53 Q1878.29 1529.01 1879.17 1527.27 Q1880.07 1525.51 1880.07 1523.82 Q1880.07 1521.07 1878.13 1519.33 Q1876.21 1517.6 1873.1 1517.6 Q1870.91 1517.6 1868.45 1518.36 Q1866.02 1519.13 1863.24 1520.68 L1863.24 1515.95 Q1866.07 1514.82 1868.52 1514.24 Q1870.98 1513.66 1873.01 1513.66 Q1878.38 1513.66 1881.58 1516.35 Q1884.77 1519.03 1884.77 1523.52 Q1884.77 1525.65 1883.96 1527.57 Q1883.17 1529.47 1881.07 1532.07 Q1880.49 1532.74 1877.39 1535.95 Q1874.29 1539.15 1868.64 1544.91 Z\" fill=\"#000000\" fill-rule=\"nonzero\" fill-opacity=\"1\" /><path clip-path=\"url(#clip570)\" d=\"M2122.51 1544.91 L2130.15 1544.91 L2130.15 1518.55 L2121.84 1520.21 L2121.84 1515.95 L2130.1 1514.29 L2134.78 1514.29 L2134.78 1544.91 L2142.42 1544.91 L2142.42 1548.85 L2122.51 1548.85 L2122.51 1544.91 Z\" fill=\"#000000\" fill-rule=\"nonzero\" fill-opacity=\"1\" /><path clip-path=\"url(#clip570)\" d=\"M2164.71 1518.36 L2152.9 1536.81 L2164.71 1536.81 L2164.71 1518.36 M2163.48 1514.29 L2169.36 1514.29 L2169.36 1536.81 L2174.29 1536.81 L2174.29 1540.7 L2169.36 1540.7 L2169.36 1548.85 L2164.71 1548.85 L2164.71 1540.7 L2149.11 1540.7 L2149.11 1536.19 L2163.48 1514.29 Z\" fill=\"#000000\" fill-rule=\"nonzero\" fill-opacity=\"1\" /><polyline clip-path=\"url(#clip570)\" style=\"stroke:#000000; stroke-linecap:round; stroke-linejoin:round; stroke-width:4; stroke-opacity:1; fill:none\" points=\"213.607,1486.45 213.607,47.2441 \"/>\n",
       "<polyline clip-path=\"url(#clip570)\" style=\"stroke:#000000; stroke-linecap:round; stroke-linejoin:round; stroke-width:4; stroke-opacity:1; fill:none\" points=\"213.607,1063.12 232.505,1063.12 \"/>\n",
       "<polyline clip-path=\"url(#clip570)\" style=\"stroke:#000000; stroke-linecap:round; stroke-linejoin:round; stroke-width:4; stroke-opacity:1; fill:none\" points=\"213.607,601.985 232.505,601.985 \"/>\n",
       "<polyline clip-path=\"url(#clip570)\" style=\"stroke:#000000; stroke-linecap:round; stroke-linejoin:round; stroke-width:4; stroke-opacity:1; fill:none\" points=\"213.607,140.849 232.505,140.849 \"/>\n",
       "<path clip-path=\"url(#clip570)\" d=\"M51.6634 1082.91 L59.3023 1082.91 L59.3023 1056.55 L50.9921 1058.21 L50.9921 1053.95 L59.256 1052.29 L63.9319 1052.29 L63.9319 1082.91 L71.5707 1082.91 L71.5707 1086.85 L51.6634 1086.85 L51.6634 1082.91 Z\" fill=\"#000000\" fill-rule=\"nonzero\" fill-opacity=\"1\" /><path clip-path=\"url(#clip570)\" d=\"M91.0151 1055.37 Q87.404 1055.37 85.5753 1058.93 Q83.7697 1062.47 83.7697 1069.6 Q83.7697 1076.71 85.5753 1080.27 Q87.404 1083.82 91.0151 1083.82 Q94.6493 1083.82 96.4548 1080.27 Q98.2835 1076.71 98.2835 1069.6 Q98.2835 1062.47 96.4548 1058.93 Q94.6493 1055.37 91.0151 1055.37 M91.0151 1051.66 Q96.8252 1051.66 99.8808 1056.27 Q102.959 1060.85 102.959 1069.6 Q102.959 1078.33 99.8808 1082.94 Q96.8252 1087.52 91.0151 1087.52 Q85.2049 1087.52 82.1262 1082.94 Q79.0707 1078.33 79.0707 1069.6 Q79.0707 1060.85 82.1262 1056.27 Q85.2049 1051.66 91.0151 1051.66 Z\" fill=\"#000000\" fill-rule=\"nonzero\" fill-opacity=\"1\" /><path clip-path=\"url(#clip570)\" d=\"M102.959 1045.76 L127.071 1045.76 L127.071 1048.96 L102.959 1048.96 L102.959 1045.76 Z\" fill=\"#000000\" fill-rule=\"nonzero\" fill-opacity=\"1\" /><path clip-path=\"url(#clip570)\" d=\"M135.929 1056.24 L142.136 1056.24 L142.136 1034.82 L135.384 1036.17 L135.384 1032.71 L142.098 1031.36 L145.898 1031.36 L145.898 1056.24 L152.104 1056.24 L152.104 1059.44 L135.929 1059.44 L135.929 1056.24 Z\" fill=\"#000000\" fill-rule=\"nonzero\" fill-opacity=\"1\" /><path clip-path=\"url(#clip570)\" d=\"M167.903 1033.86 Q164.969 1033.86 163.483 1036.75 Q162.016 1039.63 162.016 1045.43 Q162.016 1051.2 163.483 1054.1 Q164.969 1056.97 167.903 1056.97 Q170.855 1056.97 172.322 1054.1 Q173.808 1051.2 173.808 1045.43 Q173.808 1039.63 172.322 1036.75 Q170.855 1033.86 167.903 1033.86 M167.903 1030.85 Q172.623 1030.85 175.106 1034.59 Q177.607 1038.32 177.607 1045.43 Q177.607 1052.52 175.106 1056.26 Q172.623 1059.98 167.903 1059.98 Q163.182 1059.98 160.68 1056.26 Q158.198 1052.52 158.198 1045.43 Q158.198 1038.32 160.68 1034.59 Q163.182 1030.85 167.903 1030.85 Z\" fill=\"#000000\" fill-rule=\"nonzero\" fill-opacity=\"1\" /><path clip-path=\"url(#clip570)\" d=\"M76.9787 621.777 L84.6175 621.777 L84.6175 595.411 L76.3074 597.078 L76.3074 592.819 L84.5712 591.152 L89.2471 591.152 L89.2471 621.777 L96.886 621.777 L96.886 625.712 L76.9787 625.712 L76.9787 621.777 Z\" fill=\"#000000\" fill-rule=\"nonzero\" fill-opacity=\"1\" /><path clip-path=\"url(#clip570)\" d=\"M116.33 594.231 Q112.719 594.231 110.891 597.796 Q109.085 601.337 109.085 608.467 Q109.085 615.573 110.891 619.138 Q112.719 622.68 116.33 622.68 Q119.965 622.68 121.77 619.138 Q123.599 615.573 123.599 608.467 Q123.599 601.337 121.77 597.796 Q119.965 594.231 116.33 594.231 M116.33 590.527 Q122.14 590.527 125.196 595.134 Q128.275 599.717 128.275 608.467 Q128.275 617.194 125.196 621.8 Q122.14 626.383 116.33 626.383 Q110.52 626.383 107.441 621.8 Q104.386 617.194 104.386 608.467 Q104.386 599.717 107.441 595.134 Q110.52 590.527 116.33 590.527 Z\" fill=\"#000000\" fill-rule=\"nonzero\" fill-opacity=\"1\" /><path clip-path=\"url(#clip570)\" d=\"M128.275 584.628 L152.386 584.628 L152.386 587.826 L128.275 587.826 L128.275 584.628 Z\" fill=\"#000000\" fill-rule=\"nonzero\" fill-opacity=\"1\" /><path clip-path=\"url(#clip570)\" d=\"M160.624 570.222 L175.539 570.222 L175.539 573.419 L164.103 573.419 L164.103 580.303 Q164.931 580.021 165.759 579.889 Q166.586 579.738 167.414 579.738 Q172.116 579.738 174.862 582.315 Q177.607 584.892 177.607 589.293 Q177.607 593.825 174.786 596.346 Q171.965 598.847 166.831 598.847 Q165.063 598.847 163.22 598.546 Q161.395 598.245 159.439 597.643 L159.439 593.825 Q161.132 594.747 162.937 595.198 Q164.743 595.65 166.755 595.65 Q170.009 595.65 171.909 593.938 Q173.808 592.227 173.808 589.293 Q173.808 586.359 171.909 584.647 Q170.009 582.936 166.755 582.936 Q165.232 582.936 163.709 583.274 Q162.204 583.613 160.624 584.328 L160.624 570.222 Z\" fill=\"#000000\" fill-rule=\"nonzero\" fill-opacity=\"1\" /><path clip-path=\"url(#clip570)\" d=\"M106.902 160.641 L114.541 160.641 L114.541 134.276 L106.231 135.943 L106.231 131.683 L114.494 130.017 L119.17 130.017 L119.17 160.641 L126.809 160.641 L126.809 164.577 L106.902 164.577 L106.902 160.641 Z\" fill=\"#000000\" fill-rule=\"nonzero\" fill-opacity=\"1\" /><path clip-path=\"url(#clip570)\" d=\"M146.253 133.095 Q142.642 133.095 140.814 136.66 Q139.008 140.202 139.008 147.331 Q139.008 154.438 140.814 158.003 Q142.642 161.544 146.253 161.544 Q149.888 161.544 151.693 158.003 Q153.522 154.438 153.522 147.331 Q153.522 140.202 151.693 136.66 Q149.888 133.095 146.253 133.095 M146.253 129.392 Q152.064 129.392 155.119 133.998 Q158.198 138.581 158.198 147.331 Q158.198 156.058 155.119 160.665 Q152.064 165.248 146.253 165.248 Q140.443 165.248 137.365 160.665 Q134.309 156.058 134.309 147.331 Q134.309 138.581 137.365 133.998 Q140.443 129.392 146.253 129.392 Z\" fill=\"#000000\" fill-rule=\"nonzero\" fill-opacity=\"1\" /><path clip-path=\"url(#clip570)\" d=\"M167.903 111.588 Q164.969 111.588 163.483 114.484 Q162.016 117.362 162.016 123.154 Q162.016 128.928 163.483 131.825 Q164.969 134.702 167.903 134.702 Q170.855 134.702 172.322 131.825 Q173.808 128.928 173.808 123.154 Q173.808 117.362 172.322 114.484 Q170.855 111.588 167.903 111.588 M167.903 108.578 Q172.623 108.578 175.106 112.321 Q177.607 116.045 177.607 123.154 Q177.607 130.245 175.106 133.988 Q172.623 137.712 167.903 137.712 Q163.182 137.712 160.68 133.988 Q158.198 130.245 158.198 123.154 Q158.198 116.045 160.68 112.321 Q163.182 108.578 167.903 108.578 Z\" fill=\"#000000\" fill-rule=\"nonzero\" fill-opacity=\"1\" /><polyline clip-path=\"url(#clip572)\" style=\"stroke:#009af9; stroke-linecap:round; stroke-linejoin:round; stroke-width:4; stroke-opacity:1; fill:none\" points=\"274.149,87.9763 418.297,100.165 562.444,113.511 706.592,128.58 850.739,146.351 994.887,168.65 1139.03,199.203 1283.18,246.28 1427.33,329.011 1571.48,489.047 1715.62,808.288 1859.77,1445.72 \"/>\n",
       "<path clip-path=\"url(#clip570)\" d=\"M284.912 198.898 L551.258 198.898 L551.258 95.2176 L284.912 95.2176  Z\" fill=\"#ffffff\" fill-rule=\"evenodd\" fill-opacity=\"1\"/>\n",
       "<polyline clip-path=\"url(#clip570)\" style=\"stroke:#000000; stroke-linecap:round; stroke-linejoin:round; stroke-width:4; stroke-opacity:1; fill:none\" points=\"284.912,198.898 551.258,198.898 551.258,95.2176 284.912,95.2176 284.912,198.898 \"/>\n",
       "<polyline clip-path=\"url(#clip570)\" style=\"stroke:#009af9; stroke-linecap:round; stroke-linejoin:round; stroke-width:4; stroke-opacity:1; fill:none\" points=\"308.681,147.058 451.291,147.058 \"/>\n",
       "<path clip-path=\"url(#clip570)\" d=\"M488.901 166.745 Q487.096 171.375 485.383 172.787 Q483.67 174.199 480.8 174.199 L477.397 174.199 L477.397 170.634 L479.897 170.634 Q481.656 170.634 482.628 169.8 Q483.601 168.967 484.781 165.865 L485.545 163.921 L475.059 138.412 L479.573 138.412 L487.675 158.689 L495.776 138.412 L500.29 138.412 L488.901 166.745 Z\" fill=\"#000000\" fill-rule=\"nonzero\" fill-opacity=\"1\" /><path clip-path=\"url(#clip570)\" d=\"M507.582 160.402 L515.221 160.402 L515.221 134.037 L506.911 135.703 L506.911 131.444 L515.174 129.778 L519.85 129.778 L519.85 160.402 L527.489 160.402 L527.489 164.338 L507.582 164.338 L507.582 160.402 Z\" fill=\"#000000\" fill-rule=\"nonzero\" fill-opacity=\"1\" /></svg>\n"
      ]
     },
     "metadata": {},
     "output_type": "display_data"
    }
   ],
   "source": [
    "# TODO: compute and plot the error of `newton(f, 0.1, k)` for `k = 1:15`\n",
    "k = 1:15\n",
    "x_0 = 0.1\n",
    "f1 = x -> x^5 + x^2 + 1\n",
    "\n",
    "errs = [nanabs(newton(f1, x_0, n) - newton(f1, x_0, 15)) for n = k]\n",
    "plot(k, errs; yscale=:log10)"
   ]
  },
  {
   "cell_type": "markdown",
   "metadata": {},
   "source": [
    "**Problem 5(b)** Use `newton` with a complex number to compute\n",
    "an approximation to a complex root of $f(x) = x^5 - x^2 + 1$.\n",
    "Verify the approximation is accurate by testing that it satisfies $f(r)$\n",
    "is approximately zero."
   ]
  },
  {
   "cell_type": "code",
   "execution_count": 89,
   "metadata": {},
   "outputs": [
    {
     "data": {
      "image/png": "[encoded data removed]",
      "image/svg+xml": [
       "<?xml version=\"1.0\" encoding=\"utf-8\"?>\n",
       "<svg xmlns=\"http://www.w3.org/2000/svg\" xmlns:xlink=\"http://www.w3.org/1999/xlink\" width=\"600\" height=\"400\" viewBox=\"0 0 2400 1600\">\n",
       "<defs>\n",
       "  <clipPath id=\"clip610\">\n",
       "    <rect x=\"0\" y=\"0\" width=\"2400\" height=\"1600\"/>\n",
       "  </clipPath>\n",
       "</defs>\n",
       "<path clip-path=\"url(#clip610)\" d=\"M0 1600 L2400 1600 L2400 8.88178e-14 L0 8.88178e-14  Z\" fill=\"#ffffff\" fill-rule=\"evenodd\" fill-opacity=\"1\"/>\n",
       "<defs>\n",
       "  <clipPath id=\"clip611\">\n",
       "    <rect x=\"480\" y=\"0\" width=\"1681\" height=\"1600\"/>\n",
       "  </clipPath>\n",
       "</defs>\n",
       "<path clip-path=\"url(#clip610)\" d=\"M213.607 1486.45 L2352.76 1486.45 L2352.76 47.2441 L213.607 47.2441  Z\" fill=\"#ffffff\" fill-rule=\"evenodd\" fill-opacity=\"1\"/>\n",
       "<defs>\n",
       "  <clipPath id=\"clip612\">\n",
       "    <rect x=\"213\" y=\"47\" width=\"2140\" height=\"1440\"/>\n",
       "  </clipPath>\n",
       "</defs>\n",
       "<polyline clip-path=\"url(#clip612)\" style=\"stroke:#000000; stroke-linecap:round; stroke-linejoin:round; stroke-width:2; stroke-opacity:0.1; fill:none\" points=\"418.297,1486.45 418.297,47.2441 \"/>\n",
       "<polyline clip-path=\"url(#clip612)\" style=\"stroke:#000000; stroke-linecap:round; stroke-linejoin:round; stroke-width:2; stroke-opacity:0.1; fill:none\" points=\"706.592,1486.45 706.592,47.2441 \"/>\n",
       "<polyline clip-path=\"url(#clip612)\" style=\"stroke:#000000; stroke-linecap:round; stroke-linejoin:round; stroke-width:2; stroke-opacity:0.1; fill:none\" points=\"994.887,1486.45 994.887,47.2441 \"/>\n",
       "<polyline clip-path=\"url(#clip612)\" style=\"stroke:#000000; stroke-linecap:round; stroke-linejoin:round; stroke-width:2; stroke-opacity:0.1; fill:none\" points=\"1283.18,1486.45 1283.18,47.2441 \"/>\n",
       "<polyline clip-path=\"url(#clip612)\" style=\"stroke:#000000; stroke-linecap:round; stroke-linejoin:round; stroke-width:2; stroke-opacity:0.1; fill:none\" points=\"1571.48,1486.45 1571.48,47.2441 \"/>\n",
       "<polyline clip-path=\"url(#clip612)\" style=\"stroke:#000000; stroke-linecap:round; stroke-linejoin:round; stroke-width:2; stroke-opacity:0.1; fill:none\" points=\"1859.77,1486.45 1859.77,47.2441 \"/>\n",
       "<polyline clip-path=\"url(#clip612)\" style=\"stroke:#000000; stroke-linecap:round; stroke-linejoin:round; stroke-width:2; stroke-opacity:0.1; fill:none\" points=\"2148.07,1486.45 2148.07,47.2441 \"/>\n",
       "<polyline clip-path=\"url(#clip612)\" style=\"stroke:#000000; stroke-linecap:round; stroke-linejoin:round; stroke-width:2; stroke-opacity:0.1; fill:none\" points=\"213.607,1392.91 2352.76,1392.91 \"/>\n",
       "<polyline clip-path=\"url(#clip612)\" style=\"stroke:#000000; stroke-linecap:round; stroke-linejoin:round; stroke-width:2; stroke-opacity:0.1; fill:none\" points=\"213.607,776.889 2352.76,776.889 \"/>\n",
       "<polyline clip-path=\"url(#clip612)\" style=\"stroke:#000000; stroke-linecap:round; stroke-linejoin:round; stroke-width:2; stroke-opacity:0.1; fill:none\" points=\"213.607,160.864 2352.76,160.864 \"/>\n",
       "<polyline clip-path=\"url(#clip610)\" style=\"stroke:#000000; stroke-linecap:round; stroke-linejoin:round; stroke-width:4; stroke-opacity:1; fill:none\" points=\"213.607,1486.45 2352.76,1486.45 \"/>\n",
       "<polyline clip-path=\"url(#clip610)\" style=\"stroke:#000000; stroke-linecap:round; stroke-linejoin:round; stroke-width:4; stroke-opacity:1; fill:none\" points=\"418.297,1486.45 418.297,1467.55 \"/>\n",
       "<polyline clip-path=\"url(#clip610)\" style=\"stroke:#000000; stroke-linecap:round; stroke-linejoin:round; stroke-width:4; stroke-opacity:1; fill:none\" points=\"706.592,1486.45 706.592,1467.55 \"/>\n",
       "<polyline clip-path=\"url(#clip610)\" style=\"stroke:#000000; stroke-linecap:round; stroke-linejoin:round; stroke-width:4; stroke-opacity:1; fill:none\" points=\"994.887,1486.45 994.887,1467.55 \"/>\n",
       "<polyline clip-path=\"url(#clip610)\" style=\"stroke:#000000; stroke-linecap:round; stroke-linejoin:round; stroke-width:4; stroke-opacity:1; fill:none\" points=\"1283.18,1486.45 1283.18,1467.55 \"/>\n",
       "<polyline clip-path=\"url(#clip610)\" style=\"stroke:#000000; stroke-linecap:round; stroke-linejoin:round; stroke-width:4; stroke-opacity:1; fill:none\" points=\"1571.48,1486.45 1571.48,1467.55 \"/>\n",
       "<polyline clip-path=\"url(#clip610)\" style=\"stroke:#000000; stroke-linecap:round; stroke-linejoin:round; stroke-width:4; stroke-opacity:1; fill:none\" points=\"1859.77,1486.45 1859.77,1467.55 \"/>\n",
       "<polyline clip-path=\"url(#clip610)\" style=\"stroke:#000000; stroke-linecap:round; stroke-linejoin:round; stroke-width:4; stroke-opacity:1; fill:none\" points=\"2148.07,1486.45 2148.07,1467.55 \"/>\n",
       "<path clip-path=\"url(#clip610)\" d=\"M412.95 1544.91 L429.269 1544.91 L429.269 1548.85 L407.325 1548.85 L407.325 1544.91 Q409.987 1542.16 414.57 1537.53 Q419.177 1532.88 420.357 1531.53 Q422.602 1529.01 423.482 1527.27 Q424.385 1525.51 424.385 1523.82 Q424.385 1521.07 422.44 1519.33 Q420.519 1517.6 417.417 1517.6 Q415.218 1517.6 412.765 1518.36 Q410.334 1519.13 407.556 1520.68 L407.556 1515.95 Q410.38 1514.82 412.834 1514.24 Q415.288 1513.66 417.325 1513.66 Q422.695 1513.66 425.889 1516.35 Q429.084 1519.03 429.084 1523.52 Q429.084 1525.65 428.274 1527.57 Q427.487 1529.47 425.38 1532.07 Q424.801 1532.74 421.7 1535.95 Q418.598 1539.15 412.95 1544.91 Z\" fill=\"#000000\" fill-rule=\"nonzero\" fill-opacity=\"1\" /><path clip-path=\"url(#clip610)\" d=\"M709.601 1518.36 L697.796 1536.81 L709.601 1536.81 L709.601 1518.36 M708.374 1514.29 L714.254 1514.29 L714.254 1536.81 L719.184 1536.81 L719.184 1540.7 L714.254 1540.7 L714.254 1548.85 L709.601 1548.85 L709.601 1540.7 L693.999 1540.7 L693.999 1536.19 L708.374 1514.29 Z\" fill=\"#000000\" fill-rule=\"nonzero\" fill-opacity=\"1\" /><path clip-path=\"url(#clip610)\" d=\"M995.292 1529.7 Q992.144 1529.7 990.292 1531.86 Q988.463 1534.01 988.463 1537.76 Q988.463 1541.49 990.292 1543.66 Q992.144 1545.82 995.292 1545.82 Q998.44 1545.82 1000.27 1543.66 Q1002.12 1541.49 1002.12 1537.76 Q1002.12 1534.01 1000.27 1531.86 Q998.44 1529.7 995.292 1529.7 M1004.57 1515.05 L1004.57 1519.31 Q1002.81 1518.48 1001.01 1518.04 Q999.227 1517.6 997.468 1517.6 Q992.838 1517.6 990.384 1520.72 Q987.954 1523.85 987.607 1530.17 Q988.972 1528.15 991.033 1527.09 Q993.093 1526 995.57 1526 Q1000.78 1526 1003.79 1529.17 Q1006.82 1532.32 1006.82 1537.76 Q1006.82 1543.08 1003.67 1546.3 Q1000.52 1549.52 995.292 1549.52 Q989.297 1549.52 986.125 1544.94 Q982.954 1540.33 982.954 1531.6 Q982.954 1523.41 986.843 1518.55 Q990.732 1513.66 997.283 1513.66 Q999.042 1513.66 1000.82 1514.01 Q1002.63 1514.36 1004.57 1515.05 Z\" fill=\"#000000\" fill-rule=\"nonzero\" fill-opacity=\"1\" /><path clip-path=\"url(#clip610)\" d=\"M1283.18 1532.44 Q1279.85 1532.44 1277.93 1534.22 Q1276.03 1536 1276.03 1539.13 Q1276.03 1542.25 1277.93 1544.03 Q1279.85 1545.82 1283.18 1545.82 Q1286.52 1545.82 1288.44 1544.03 Q1290.36 1542.23 1290.36 1539.13 Q1290.36 1536 1288.44 1534.22 Q1286.54 1532.44 1283.18 1532.44 M1278.51 1530.45 Q1275.5 1529.7 1273.81 1527.64 Q1272.14 1525.58 1272.14 1522.62 Q1272.14 1518.48 1275.08 1516.07 Q1278.04 1513.66 1283.18 1513.66 Q1288.34 1513.66 1291.28 1516.07 Q1294.22 1518.48 1294.22 1522.62 Q1294.22 1525.58 1292.53 1527.64 Q1290.87 1529.7 1287.88 1530.45 Q1291.26 1531.23 1293.14 1533.52 Q1295.03 1535.82 1295.03 1539.13 Q1295.03 1544.15 1291.95 1546.83 Q1288.9 1549.52 1283.18 1549.52 Q1277.46 1549.52 1274.39 1546.83 Q1271.33 1544.15 1271.33 1539.13 Q1271.33 1535.82 1273.23 1533.52 Q1275.13 1531.23 1278.51 1530.45 M1276.79 1523.06 Q1276.79 1525.75 1278.46 1527.25 Q1280.15 1528.76 1283.18 1528.76 Q1286.19 1528.76 1287.88 1527.25 Q1289.59 1525.75 1289.59 1523.06 Q1289.59 1520.38 1287.88 1518.87 Q1286.19 1517.37 1283.18 1517.37 Q1280.15 1517.37 1278.46 1518.87 Q1276.79 1520.38 1276.79 1523.06 Z\" fill=\"#000000\" fill-rule=\"nonzero\" fill-opacity=\"1\" /><path clip-path=\"url(#clip610)\" d=\"M1546.16 1544.91 L1553.8 1544.91 L1553.8 1518.55 L1545.49 1520.21 L1545.49 1515.95 L1553.76 1514.29 L1558.43 1514.29 L1558.43 1544.91 L1566.07 1544.91 L1566.07 1548.85 L1546.16 1548.85 L1546.16 1544.91 Z\" fill=\"#000000\" fill-rule=\"nonzero\" fill-opacity=\"1\" /><path clip-path=\"url(#clip610)\" d=\"M1585.52 1517.37 Q1581.9 1517.37 1580.08 1520.93 Q1578.27 1524.47 1578.27 1531.6 Q1578.27 1538.71 1580.08 1542.27 Q1581.9 1545.82 1585.52 1545.82 Q1589.15 1545.82 1590.96 1542.27 Q1592.78 1538.71 1592.78 1531.6 Q1592.78 1524.47 1590.96 1520.93 Q1589.15 1517.37 1585.52 1517.37 M1585.52 1513.66 Q1591.33 1513.66 1594.38 1518.27 Q1597.46 1522.85 1597.46 1531.6 Q1597.46 1540.33 1594.38 1544.94 Q1591.33 1549.52 1585.52 1549.52 Q1579.71 1549.52 1576.63 1544.94 Q1573.57 1540.33 1573.57 1531.6 Q1573.57 1522.85 1576.63 1518.27 Q1579.71 1513.66 1585.52 1513.66 Z\" fill=\"#000000\" fill-rule=\"nonzero\" fill-opacity=\"1\" /><path clip-path=\"url(#clip610)\" d=\"M1835.26 1544.91 L1842.9 1544.91 L1842.9 1518.55 L1834.59 1520.21 L1834.59 1515.95 L1842.85 1514.29 L1847.53 1514.29 L1847.53 1544.91 L1855.17 1544.91 L1855.17 1548.85 L1835.26 1548.85 L1835.26 1544.91 Z\" fill=\"#000000\" fill-rule=\"nonzero\" fill-opacity=\"1\" /><path clip-path=\"url(#clip610)\" d=\"M1868.64 1544.91 L1884.96 1544.91 L1884.96 1548.85 L1863.01 1548.85 L1863.01 1544.91 Q1865.67 1542.16 1870.26 1537.53 Q1874.86 1532.88 1876.04 1531.53 Q1878.29 1529.01 1879.17 1527.27 Q1880.07 1525.51 1880.07 1523.82 Q1880.07 1521.07 1878.13 1519.33 Q1876.21 1517.6 1873.1 1517.6 Q1870.91 1517.6 1868.45 1518.36 Q1866.02 1519.13 1863.24 1520.68 L1863.24 1515.95 Q1866.07 1514.82 1868.52 1514.24 Q1870.98 1513.66 1873.01 1513.66 Q1878.38 1513.66 1881.58 1516.35 Q1884.77 1519.03 1884.77 1523.52 Q1884.77 1525.65 1883.96 1527.57 Q1883.17 1529.47 1881.07 1532.07 Q1880.49 1532.74 1877.39 1535.95 Q1874.29 1539.15 1868.64 1544.91 Z\" fill=\"#000000\" fill-rule=\"nonzero\" fill-opacity=\"1\" /><path clip-path=\"url(#clip610)\" d=\"M2122.51 1544.91 L2130.15 1544.91 L2130.15 1518.55 L2121.84 1520.21 L2121.84 1515.95 L2130.1 1514.29 L2134.78 1514.29 L2134.78 1544.91 L2142.42 1544.91 L2142.42 1548.85 L2122.51 1548.85 L2122.51 1544.91 Z\" fill=\"#000000\" fill-rule=\"nonzero\" fill-opacity=\"1\" /><path clip-path=\"url(#clip610)\" d=\"M2164.71 1518.36 L2152.9 1536.81 L2164.71 1536.81 L2164.71 1518.36 M2163.48 1514.29 L2169.36 1514.29 L2169.36 1536.81 L2174.29 1536.81 L2174.29 1540.7 L2169.36 1540.7 L2169.36 1548.85 L2164.71 1548.85 L2164.71 1540.7 L2149.11 1540.7 L2149.11 1536.19 L2163.48 1514.29 Z\" fill=\"#000000\" fill-rule=\"nonzero\" fill-opacity=\"1\" /><polyline clip-path=\"url(#clip610)\" style=\"stroke:#000000; stroke-linecap:round; stroke-linejoin:round; stroke-width:4; stroke-opacity:1; fill:none\" points=\"213.607,1486.45 213.607,47.2441 \"/>\n",
       "<polyline clip-path=\"url(#clip610)\" style=\"stroke:#000000; stroke-linecap:round; stroke-linejoin:round; stroke-width:4; stroke-opacity:1; fill:none\" points=\"213.607,1392.91 232.505,1392.91 \"/>\n",
       "<polyline clip-path=\"url(#clip610)\" style=\"stroke:#000000; stroke-linecap:round; stroke-linejoin:round; stroke-width:4; stroke-opacity:1; fill:none\" points=\"213.607,776.889 232.505,776.889 \"/>\n",
       "<polyline clip-path=\"url(#clip610)\" style=\"stroke:#000000; stroke-linecap:round; stroke-linejoin:round; stroke-width:4; stroke-opacity:1; fill:none\" points=\"213.607,160.864 232.505,160.864 \"/>\n",
       "<path clip-path=\"url(#clip610)\" d=\"M51.6634 1412.71 L59.3023 1412.71 L59.3023 1386.34 L50.9921 1388.01 L50.9921 1383.75 L59.256 1382.08 L63.9319 1382.08 L63.9319 1412.71 L71.5707 1412.71 L71.5707 1416.64 L51.6634 1416.64 L51.6634 1412.71 Z\" fill=\"#000000\" fill-rule=\"nonzero\" fill-opacity=\"1\" /><path clip-path=\"url(#clip610)\" d=\"M91.0151 1385.16 Q87.404 1385.16 85.5753 1388.72 Q83.7697 1392.27 83.7697 1399.4 Q83.7697 1406.5 85.5753 1410.07 Q87.404 1413.61 91.0151 1413.61 Q94.6493 1413.61 96.4548 1410.07 Q98.2835 1406.5 98.2835 1399.4 Q98.2835 1392.27 96.4548 1388.72 Q94.6493 1385.16 91.0151 1385.16 M91.0151 1381.46 Q96.8252 1381.46 99.8808 1386.06 Q102.959 1390.65 102.959 1399.4 Q102.959 1408.12 99.8808 1412.73 Q96.8252 1417.31 91.0151 1417.31 Q85.2049 1417.31 82.1262 1412.73 Q79.0707 1408.12 79.0707 1399.4 Q79.0707 1390.65 82.1262 1386.06 Q85.2049 1381.46 91.0151 1381.46 Z\" fill=\"#000000\" fill-rule=\"nonzero\" fill-opacity=\"1\" /><path clip-path=\"url(#clip610)\" d=\"M102.959 1375.56 L127.071 1375.56 L127.071 1378.76 L102.959 1378.76 L102.959 1375.56 Z\" fill=\"#000000\" fill-rule=\"nonzero\" fill-opacity=\"1\" /><path clip-path=\"url(#clip610)\" d=\"M135.929 1386.03 L142.136 1386.03 L142.136 1364.61 L135.384 1365.97 L135.384 1362.51 L142.098 1361.15 L145.898 1361.15 L145.898 1386.03 L152.104 1386.03 L152.104 1389.23 L135.929 1389.23 L135.929 1386.03 Z\" fill=\"#000000\" fill-rule=\"nonzero\" fill-opacity=\"1\" /><path clip-path=\"url(#clip610)\" d=\"M167.903 1363.65 Q164.969 1363.65 163.483 1366.55 Q162.016 1369.43 162.016 1375.22 Q162.016 1380.99 163.483 1383.89 Q164.969 1386.77 167.903 1386.77 Q170.855 1386.77 172.322 1383.89 Q173.808 1380.99 173.808 1375.22 Q173.808 1369.43 172.322 1366.55 Q170.855 1363.65 167.903 1363.65 M167.903 1360.64 Q172.623 1360.64 175.106 1364.39 Q177.607 1368.11 177.607 1375.22 Q177.607 1382.31 175.106 1386.05 Q172.623 1389.78 167.903 1389.78 Q163.182 1389.78 160.68 1386.05 Q158.198 1382.31 158.198 1375.22 Q158.198 1368.11 160.68 1364.39 Q163.182 1360.64 167.903 1360.64 Z\" fill=\"#000000\" fill-rule=\"nonzero\" fill-opacity=\"1\" /><path clip-path=\"url(#clip610)\" d=\"M76.9787 796.681 L84.6175 796.681 L84.6175 770.316 L76.3074 771.982 L76.3074 767.723 L84.5712 766.056 L89.2471 766.056 L89.2471 796.681 L96.886 796.681 L96.886 800.616 L76.9787 800.616 L76.9787 796.681 Z\" fill=\"#000000\" fill-rule=\"nonzero\" fill-opacity=\"1\" /><path clip-path=\"url(#clip610)\" d=\"M116.33 769.135 Q112.719 769.135 110.891 772.7 Q109.085 776.242 109.085 783.371 Q109.085 790.478 110.891 794.042 Q112.719 797.584 116.33 797.584 Q119.965 797.584 121.77 794.042 Q123.599 790.478 123.599 783.371 Q123.599 776.242 121.77 772.7 Q119.965 769.135 116.33 769.135 M116.33 765.431 Q122.14 765.431 125.196 770.038 Q128.275 774.621 128.275 783.371 Q128.275 792.098 125.196 796.704 Q122.14 801.288 116.33 801.288 Q110.52 801.288 107.441 796.704 Q104.386 792.098 104.386 783.371 Q104.386 774.621 107.441 770.038 Q110.52 765.431 116.33 765.431 Z\" fill=\"#000000\" fill-rule=\"nonzero\" fill-opacity=\"1\" /><path clip-path=\"url(#clip610)\" d=\"M128.275 759.533 L152.386 759.533 L152.386 762.73 L128.275 762.73 L128.275 759.533 Z\" fill=\"#000000\" fill-rule=\"nonzero\" fill-opacity=\"1\" /><path clip-path=\"url(#clip610)\" d=\"M160.624 745.126 L175.539 745.126 L175.539 748.323 L164.103 748.323 L164.103 755.207 Q164.931 754.925 165.759 754.793 Q166.586 754.643 167.414 754.643 Q172.116 754.643 174.862 757.219 Q177.607 759.796 177.607 764.197 Q177.607 768.73 174.786 771.25 Q171.965 773.752 166.831 773.752 Q165.063 773.752 163.22 773.451 Q161.395 773.15 159.439 772.548 L159.439 768.73 Q161.132 769.651 162.937 770.103 Q164.743 770.554 166.755 770.554 Q170.009 770.554 171.909 768.843 Q173.808 767.131 173.808 764.197 Q173.808 761.263 171.909 759.552 Q170.009 757.84 166.755 757.84 Q165.232 757.84 163.709 758.179 Q162.204 758.517 160.624 759.232 L160.624 745.126 Z\" fill=\"#000000\" fill-rule=\"nonzero\" fill-opacity=\"1\" /><path clip-path=\"url(#clip610)\" d=\"M106.902 180.656 L114.541 180.656 L114.541 154.291 L106.231 155.957 L106.231 151.698 L114.494 150.032 L119.17 150.032 L119.17 180.656 L126.809 180.656 L126.809 184.592 L106.902 184.592 L106.902 180.656 Z\" fill=\"#000000\" fill-rule=\"nonzero\" fill-opacity=\"1\" /><path clip-path=\"url(#clip610)\" d=\"M146.253 153.11 Q142.642 153.11 140.814 156.675 Q139.008 160.217 139.008 167.346 Q139.008 174.453 140.814 178.018 Q142.642 181.559 146.253 181.559 Q149.888 181.559 151.693 178.018 Q153.522 174.453 153.522 167.346 Q153.522 160.217 151.693 156.675 Q149.888 153.11 146.253 153.11 M146.253 149.407 Q152.064 149.407 155.119 154.013 Q158.198 158.596 158.198 167.346 Q158.198 176.073 155.119 180.68 Q152.064 185.263 146.253 185.263 Q140.443 185.263 137.365 180.68 Q134.309 176.073 134.309 167.346 Q134.309 158.596 137.365 154.013 Q140.443 149.407 146.253 149.407 Z\" fill=\"#000000\" fill-rule=\"nonzero\" fill-opacity=\"1\" /><path clip-path=\"url(#clip610)\" d=\"M167.903 131.603 Q164.969 131.603 163.483 134.499 Q162.016 137.377 162.016 143.169 Q162.016 148.943 163.483 151.84 Q164.969 154.717 167.903 154.717 Q170.855 154.717 172.322 151.84 Q173.808 148.943 173.808 143.169 Q173.808 137.377 172.322 134.499 Q170.855 131.603 167.903 131.603 M167.903 128.593 Q172.623 128.593 175.106 132.336 Q177.607 136.06 177.607 143.169 Q177.607 150.26 175.106 154.003 Q172.623 157.727 167.903 157.727 Q163.182 157.727 160.68 154.003 Q158.198 150.26 158.198 143.169 Q158.198 136.06 160.68 132.336 Q163.182 128.593 167.903 128.593 Z\" fill=\"#000000\" fill-rule=\"nonzero\" fill-opacity=\"1\" /><polyline clip-path=\"url(#clip612)\" style=\"stroke:#009af9; stroke-linecap:round; stroke-linejoin:round; stroke-width:4; stroke-opacity:1; fill:none\" points=\"274.149,87.9763 418.297,103.466 562.444,120.079 706.592,138.246 850.739,158.604 994.887,182.084 1139.03,209.973 1283.18,243.706 1427.33,284.557 1571.48,354.639 1715.62,511.757 1859.77,823.112 2003.92,1445.72 \"/>\n",
       "<path clip-path=\"url(#clip610)\" d=\"M284.912 198.898 L551.258 198.898 L551.258 95.2176 L284.912 95.2176  Z\" fill=\"#ffffff\" fill-rule=\"evenodd\" fill-opacity=\"1\"/>\n",
       "<polyline clip-path=\"url(#clip610)\" style=\"stroke:#000000; stroke-linecap:round; stroke-linejoin:round; stroke-width:4; stroke-opacity:1; fill:none\" points=\"284.912,198.898 551.258,198.898 551.258,95.2176 284.912,95.2176 284.912,198.898 \"/>\n",
       "<polyline clip-path=\"url(#clip610)\" style=\"stroke:#009af9; stroke-linecap:round; stroke-linejoin:round; stroke-width:4; stroke-opacity:1; fill:none\" points=\"308.681,147.058 451.291,147.058 \"/>\n",
       "<path clip-path=\"url(#clip610)\" d=\"M488.901 166.745 Q487.096 171.375 485.383 172.787 Q483.67 174.199 480.8 174.199 L477.397 174.199 L477.397 170.634 L479.897 170.634 Q481.656 170.634 482.628 169.8 Q483.601 168.967 484.781 165.865 L485.545 163.921 L475.059 138.412 L479.573 138.412 L487.675 158.689 L495.776 138.412 L500.29 138.412 L488.901 166.745 Z\" fill=\"#000000\" fill-rule=\"nonzero\" fill-opacity=\"1\" /><path clip-path=\"url(#clip610)\" d=\"M507.582 160.402 L515.221 160.402 L515.221 134.037 L506.911 135.703 L506.911 131.444 L515.174 129.778 L519.85 129.778 L519.85 160.402 L527.489 160.402 L527.489 164.338 L507.582 164.338 L507.582 160.402 Z\" fill=\"#000000\" fill-rule=\"nonzero\" fill-opacity=\"1\" /></svg>\n"
      ],
      "text/html": [
       "<?xml version=\"1.0\" encoding=\"utf-8\"?>\n",
       "<svg xmlns=\"http://www.w3.org/2000/svg\" xmlns:xlink=\"http://www.w3.org/1999/xlink\" width=\"600\" height=\"400\" viewBox=\"0 0 2400 1600\">\n",
       "<defs>\n",
       "  <clipPath id=\"clip660\">\n",
       "    <rect x=\"0\" y=\"0\" width=\"2400\" height=\"1600\"/>\n",
       "  </clipPath>\n",
       "</defs>\n",
       "<path clip-path=\"url(#clip660)\" d=\"M0 1600 L2400 1600 L2400 8.88178e-14 L0 8.88178e-14  Z\" fill=\"#ffffff\" fill-rule=\"evenodd\" fill-opacity=\"1\"/>\n",
       "<defs>\n",
       "  <clipPath id=\"clip661\">\n",
       "    <rect x=\"480\" y=\"0\" width=\"1681\" height=\"1600\"/>\n",
       "  </clipPath>\n",
       "</defs>\n",
       "<path clip-path=\"url(#clip660)\" d=\"M213.607 1486.45 L2352.76 1486.45 L2352.76 47.2441 L213.607 47.2441  Z\" fill=\"#ffffff\" fill-rule=\"evenodd\" fill-opacity=\"1\"/>\n",
       "<defs>\n",
       "  <clipPath id=\"clip662\">\n",
       "    <rect x=\"213\" y=\"47\" width=\"2140\" height=\"1440\"/>\n",
       "  </clipPath>\n",
       "</defs>\n",
       "<polyline clip-path=\"url(#clip662)\" style=\"stroke:#000000; stroke-linecap:round; stroke-linejoin:round; stroke-width:2; stroke-opacity:0.1; fill:none\" points=\"418.297,1486.45 418.297,47.2441 \"/>\n",
       "<polyline clip-path=\"url(#clip662)\" style=\"stroke:#000000; stroke-linecap:round; stroke-linejoin:round; stroke-width:2; stroke-opacity:0.1; fill:none\" points=\"706.592,1486.45 706.592,47.2441 \"/>\n",
       "<polyline clip-path=\"url(#clip662)\" style=\"stroke:#000000; stroke-linecap:round; stroke-linejoin:round; stroke-width:2; stroke-opacity:0.1; fill:none\" points=\"994.887,1486.45 994.887,47.2441 \"/>\n",
       "<polyline clip-path=\"url(#clip662)\" style=\"stroke:#000000; stroke-linecap:round; stroke-linejoin:round; stroke-width:2; stroke-opacity:0.1; fill:none\" points=\"1283.18,1486.45 1283.18,47.2441 \"/>\n",
       "<polyline clip-path=\"url(#clip662)\" style=\"stroke:#000000; stroke-linecap:round; stroke-linejoin:round; stroke-width:2; stroke-opacity:0.1; fill:none\" points=\"1571.48,1486.45 1571.48,47.2441 \"/>\n",
       "<polyline clip-path=\"url(#clip662)\" style=\"stroke:#000000; stroke-linecap:round; stroke-linejoin:round; stroke-width:2; stroke-opacity:0.1; fill:none\" points=\"1859.77,1486.45 1859.77,47.2441 \"/>\n",
       "<polyline clip-path=\"url(#clip662)\" style=\"stroke:#000000; stroke-linecap:round; stroke-linejoin:round; stroke-width:2; stroke-opacity:0.1; fill:none\" points=\"2148.07,1486.45 2148.07,47.2441 \"/>\n",
       "<polyline clip-path=\"url(#clip662)\" style=\"stroke:#000000; stroke-linecap:round; stroke-linejoin:round; stroke-width:2; stroke-opacity:0.1; fill:none\" points=\"213.607,1392.91 2352.76,1392.91 \"/>\n",
       "<polyline clip-path=\"url(#clip662)\" style=\"stroke:#000000; stroke-linecap:round; stroke-linejoin:round; stroke-width:2; stroke-opacity:0.1; fill:none\" points=\"213.607,776.889 2352.76,776.889 \"/>\n",
       "<polyline clip-path=\"url(#clip662)\" style=\"stroke:#000000; stroke-linecap:round; stroke-linejoin:round; stroke-width:2; stroke-opacity:0.1; fill:none\" points=\"213.607,160.864 2352.76,160.864 \"/>\n",
       "<polyline clip-path=\"url(#clip660)\" style=\"stroke:#000000; stroke-linecap:round; stroke-linejoin:round; stroke-width:4; stroke-opacity:1; fill:none\" points=\"213.607,1486.45 2352.76,1486.45 \"/>\n",
       "<polyline clip-path=\"url(#clip660)\" style=\"stroke:#000000; stroke-linecap:round; stroke-linejoin:round; stroke-width:4; stroke-opacity:1; fill:none\" points=\"418.297,1486.45 418.297,1467.55 \"/>\n",
       "<polyline clip-path=\"url(#clip660)\" style=\"stroke:#000000; stroke-linecap:round; stroke-linejoin:round; stroke-width:4; stroke-opacity:1; fill:none\" points=\"706.592,1486.45 706.592,1467.55 \"/>\n",
       "<polyline clip-path=\"url(#clip660)\" style=\"stroke:#000000; stroke-linecap:round; stroke-linejoin:round; stroke-width:4; stroke-opacity:1; fill:none\" points=\"994.887,1486.45 994.887,1467.55 \"/>\n",
       "<polyline clip-path=\"url(#clip660)\" style=\"stroke:#000000; stroke-linecap:round; stroke-linejoin:round; stroke-width:4; stroke-opacity:1; fill:none\" points=\"1283.18,1486.45 1283.18,1467.55 \"/>\n",
       "<polyline clip-path=\"url(#clip660)\" style=\"stroke:#000000; stroke-linecap:round; stroke-linejoin:round; stroke-width:4; stroke-opacity:1; fill:none\" points=\"1571.48,1486.45 1571.48,1467.55 \"/>\n",
       "<polyline clip-path=\"url(#clip660)\" style=\"stroke:#000000; stroke-linecap:round; stroke-linejoin:round; stroke-width:4; stroke-opacity:1; fill:none\" points=\"1859.77,1486.45 1859.77,1467.55 \"/>\n",
       "<polyline clip-path=\"url(#clip660)\" style=\"stroke:#000000; stroke-linecap:round; stroke-linejoin:round; stroke-width:4; stroke-opacity:1; fill:none\" points=\"2148.07,1486.45 2148.07,1467.55 \"/>\n",
       "<path clip-path=\"url(#clip660)\" d=\"M412.95 1544.91 L429.269 1544.91 L429.269 1548.85 L407.325 1548.85 L407.325 1544.91 Q409.987 1542.16 414.57 1537.53 Q419.177 1532.88 420.357 1531.53 Q422.602 1529.01 423.482 1527.27 Q424.385 1525.51 424.385 1523.82 Q424.385 1521.07 422.44 1519.33 Q420.519 1517.6 417.417 1517.6 Q415.218 1517.6 412.765 1518.36 Q410.334 1519.13 407.556 1520.68 L407.556 1515.95 Q410.38 1514.82 412.834 1514.24 Q415.288 1513.66 417.325 1513.66 Q422.695 1513.66 425.889 1516.35 Q429.084 1519.03 429.084 1523.52 Q429.084 1525.65 428.274 1527.57 Q427.487 1529.47 425.38 1532.07 Q424.801 1532.74 421.7 1535.95 Q418.598 1539.15 412.95 1544.91 Z\" fill=\"#000000\" fill-rule=\"nonzero\" fill-opacity=\"1\" /><path clip-path=\"url(#clip660)\" d=\"M709.601 1518.36 L697.796 1536.81 L709.601 1536.81 L709.601 1518.36 M708.374 1514.29 L714.254 1514.29 L714.254 1536.81 L719.184 1536.81 L719.184 1540.7 L714.254 1540.7 L714.254 1548.85 L709.601 1548.85 L709.601 1540.7 L693.999 1540.7 L693.999 1536.19 L708.374 1514.29 Z\" fill=\"#000000\" fill-rule=\"nonzero\" fill-opacity=\"1\" /><path clip-path=\"url(#clip660)\" d=\"M995.292 1529.7 Q992.144 1529.7 990.292 1531.86 Q988.463 1534.01 988.463 1537.76 Q988.463 1541.49 990.292 1543.66 Q992.144 1545.82 995.292 1545.82 Q998.44 1545.82 1000.27 1543.66 Q1002.12 1541.49 1002.12 1537.76 Q1002.12 1534.01 1000.27 1531.86 Q998.44 1529.7 995.292 1529.7 M1004.57 1515.05 L1004.57 1519.31 Q1002.81 1518.48 1001.01 1518.04 Q999.227 1517.6 997.468 1517.6 Q992.838 1517.6 990.384 1520.72 Q987.954 1523.85 987.607 1530.17 Q988.972 1528.15 991.033 1527.09 Q993.093 1526 995.57 1526 Q1000.78 1526 1003.79 1529.17 Q1006.82 1532.32 1006.82 1537.76 Q1006.82 1543.08 1003.67 1546.3 Q1000.52 1549.52 995.292 1549.52 Q989.297 1549.52 986.125 1544.94 Q982.954 1540.33 982.954 1531.6 Q982.954 1523.41 986.843 1518.55 Q990.732 1513.66 997.283 1513.66 Q999.042 1513.66 1000.82 1514.01 Q1002.63 1514.36 1004.57 1515.05 Z\" fill=\"#000000\" fill-rule=\"nonzero\" fill-opacity=\"1\" /><path clip-path=\"url(#clip660)\" d=\"M1283.18 1532.44 Q1279.85 1532.44 1277.93 1534.22 Q1276.03 1536 1276.03 1539.13 Q1276.03 1542.25 1277.93 1544.03 Q1279.85 1545.82 1283.18 1545.82 Q1286.52 1545.82 1288.44 1544.03 Q1290.36 1542.23 1290.36 1539.13 Q1290.36 1536 1288.44 1534.22 Q1286.54 1532.44 1283.18 1532.44 M1278.51 1530.45 Q1275.5 1529.7 1273.81 1527.64 Q1272.14 1525.58 1272.14 1522.62 Q1272.14 1518.48 1275.08 1516.07 Q1278.04 1513.66 1283.18 1513.66 Q1288.34 1513.66 1291.28 1516.07 Q1294.22 1518.48 1294.22 1522.62 Q1294.22 1525.58 1292.53 1527.64 Q1290.87 1529.7 1287.88 1530.45 Q1291.26 1531.23 1293.14 1533.52 Q1295.03 1535.82 1295.03 1539.13 Q1295.03 1544.15 1291.95 1546.83 Q1288.9 1549.52 1283.18 1549.52 Q1277.46 1549.52 1274.39 1546.83 Q1271.33 1544.15 1271.33 1539.13 Q1271.33 1535.82 1273.23 1533.52 Q1275.13 1531.23 1278.51 1530.45 M1276.79 1523.06 Q1276.79 1525.75 1278.46 1527.25 Q1280.15 1528.76 1283.18 1528.76 Q1286.19 1528.76 1287.88 1527.25 Q1289.59 1525.75 1289.59 1523.06 Q1289.59 1520.38 1287.88 1518.87 Q1286.19 1517.37 1283.18 1517.37 Q1280.15 1517.37 1278.46 1518.87 Q1276.79 1520.38 1276.79 1523.06 Z\" fill=\"#000000\" fill-rule=\"nonzero\" fill-opacity=\"1\" /><path clip-path=\"url(#clip660)\" d=\"M1546.16 1544.91 L1553.8 1544.91 L1553.8 1518.55 L1545.49 1520.21 L1545.49 1515.95 L1553.76 1514.29 L1558.43 1514.29 L1558.43 1544.91 L1566.07 1544.91 L1566.07 1548.85 L1546.16 1548.85 L1546.16 1544.91 Z\" fill=\"#000000\" fill-rule=\"nonzero\" fill-opacity=\"1\" /><path clip-path=\"url(#clip660)\" d=\"M1585.52 1517.37 Q1581.9 1517.37 1580.08 1520.93 Q1578.27 1524.47 1578.27 1531.6 Q1578.27 1538.71 1580.08 1542.27 Q1581.9 1545.82 1585.52 1545.82 Q1589.15 1545.82 1590.96 1542.27 Q1592.78 1538.71 1592.78 1531.6 Q1592.78 1524.47 1590.96 1520.93 Q1589.15 1517.37 1585.52 1517.37 M1585.52 1513.66 Q1591.33 1513.66 1594.38 1518.27 Q1597.46 1522.85 1597.46 1531.6 Q1597.46 1540.33 1594.38 1544.94 Q1591.33 1549.52 1585.52 1549.52 Q1579.71 1549.52 1576.63 1544.94 Q1573.57 1540.33 1573.57 1531.6 Q1573.57 1522.85 1576.63 1518.27 Q1579.71 1513.66 1585.52 1513.66 Z\" fill=\"#000000\" fill-rule=\"nonzero\" fill-opacity=\"1\" /><path clip-path=\"url(#clip660)\" d=\"M1835.26 1544.91 L1842.9 1544.91 L1842.9 1518.55 L1834.59 1520.21 L1834.59 1515.95 L1842.85 1514.29 L1847.53 1514.29 L1847.53 1544.91 L1855.17 1544.91 L1855.17 1548.85 L1835.26 1548.85 L1835.26 1544.91 Z\" fill=\"#000000\" fill-rule=\"nonzero\" fill-opacity=\"1\" /><path clip-path=\"url(#clip660)\" d=\"M1868.64 1544.91 L1884.96 1544.91 L1884.96 1548.85 L1863.01 1548.85 L1863.01 1544.91 Q1865.67 1542.16 1870.26 1537.53 Q1874.86 1532.88 1876.04 1531.53 Q1878.29 1529.01 1879.17 1527.27 Q1880.07 1525.51 1880.07 1523.82 Q1880.07 1521.07 1878.13 1519.33 Q1876.21 1517.6 1873.1 1517.6 Q1870.91 1517.6 1868.45 1518.36 Q1866.02 1519.13 1863.24 1520.68 L1863.24 1515.95 Q1866.07 1514.82 1868.52 1514.24 Q1870.98 1513.66 1873.01 1513.66 Q1878.38 1513.66 1881.58 1516.35 Q1884.77 1519.03 1884.77 1523.52 Q1884.77 1525.65 1883.96 1527.57 Q1883.17 1529.47 1881.07 1532.07 Q1880.49 1532.74 1877.39 1535.95 Q1874.29 1539.15 1868.64 1544.91 Z\" fill=\"#000000\" fill-rule=\"nonzero\" fill-opacity=\"1\" /><path clip-path=\"url(#clip660)\" d=\"M2122.51 1544.91 L2130.15 1544.91 L2130.15 1518.55 L2121.84 1520.21 L2121.84 1515.95 L2130.1 1514.29 L2134.78 1514.29 L2134.78 1544.91 L2142.42 1544.91 L2142.42 1548.85 L2122.51 1548.85 L2122.51 1544.91 Z\" fill=\"#000000\" fill-rule=\"nonzero\" fill-opacity=\"1\" /><path clip-path=\"url(#clip660)\" d=\"M2164.71 1518.36 L2152.9 1536.81 L2164.71 1536.81 L2164.71 1518.36 M2163.48 1514.29 L2169.36 1514.29 L2169.36 1536.81 L2174.29 1536.81 L2174.29 1540.7 L2169.36 1540.7 L2169.36 1548.85 L2164.71 1548.85 L2164.71 1540.7 L2149.11 1540.7 L2149.11 1536.19 L2163.48 1514.29 Z\" fill=\"#000000\" fill-rule=\"nonzero\" fill-opacity=\"1\" /><polyline clip-path=\"url(#clip660)\" style=\"stroke:#000000; stroke-linecap:round; stroke-linejoin:round; stroke-width:4; stroke-opacity:1; fill:none\" points=\"213.607,1486.45 213.607,47.2441 \"/>\n",
       "<polyline clip-path=\"url(#clip660)\" style=\"stroke:#000000; stroke-linecap:round; stroke-linejoin:round; stroke-width:4; stroke-opacity:1; fill:none\" points=\"213.607,1392.91 232.505,1392.91 \"/>\n",
       "<polyline clip-path=\"url(#clip660)\" style=\"stroke:#000000; stroke-linecap:round; stroke-linejoin:round; stroke-width:4; stroke-opacity:1; fill:none\" points=\"213.607,776.889 232.505,776.889 \"/>\n",
       "<polyline clip-path=\"url(#clip660)\" style=\"stroke:#000000; stroke-linecap:round; stroke-linejoin:round; stroke-width:4; stroke-opacity:1; fill:none\" points=\"213.607,160.864 232.505,160.864 \"/>\n",
       "<path clip-path=\"url(#clip660)\" d=\"M51.6634 1412.71 L59.3023 1412.71 L59.3023 1386.34 L50.9921 1388.01 L50.9921 1383.75 L59.256 1382.08 L63.9319 1382.08 L63.9319 1412.71 L71.5707 1412.71 L71.5707 1416.64 L51.6634 1416.64 L51.6634 1412.71 Z\" fill=\"#000000\" fill-rule=\"nonzero\" fill-opacity=\"1\" /><path clip-path=\"url(#clip660)\" d=\"M91.0151 1385.16 Q87.404 1385.16 85.5753 1388.72 Q83.7697 1392.27 83.7697 1399.4 Q83.7697 1406.5 85.5753 1410.07 Q87.404 1413.61 91.0151 1413.61 Q94.6493 1413.61 96.4548 1410.07 Q98.2835 1406.5 98.2835 1399.4 Q98.2835 1392.27 96.4548 1388.72 Q94.6493 1385.16 91.0151 1385.16 M91.0151 1381.46 Q96.8252 1381.46 99.8808 1386.06 Q102.959 1390.65 102.959 1399.4 Q102.959 1408.12 99.8808 1412.73 Q96.8252 1417.31 91.0151 1417.31 Q85.2049 1417.31 82.1262 1412.73 Q79.0707 1408.12 79.0707 1399.4 Q79.0707 1390.65 82.1262 1386.06 Q85.2049 1381.46 91.0151 1381.46 Z\" fill=\"#000000\" fill-rule=\"nonzero\" fill-opacity=\"1\" /><path clip-path=\"url(#clip660)\" d=\"M102.959 1375.56 L127.071 1375.56 L127.071 1378.76 L102.959 1378.76 L102.959 1375.56 Z\" fill=\"#000000\" fill-rule=\"nonzero\" fill-opacity=\"1\" /><path clip-path=\"url(#clip660)\" d=\"M135.929 1386.03 L142.136 1386.03 L142.136 1364.61 L135.384 1365.97 L135.384 1362.51 L142.098 1361.15 L145.898 1361.15 L145.898 1386.03 L152.104 1386.03 L152.104 1389.23 L135.929 1389.23 L135.929 1386.03 Z\" fill=\"#000000\" fill-rule=\"nonzero\" fill-opacity=\"1\" /><path clip-path=\"url(#clip660)\" d=\"M167.903 1363.65 Q164.969 1363.65 163.483 1366.55 Q162.016 1369.43 162.016 1375.22 Q162.016 1380.99 163.483 1383.89 Q164.969 1386.77 167.903 1386.77 Q170.855 1386.77 172.322 1383.89 Q173.808 1380.99 173.808 1375.22 Q173.808 1369.43 172.322 1366.55 Q170.855 1363.65 167.903 1363.65 M167.903 1360.64 Q172.623 1360.64 175.106 1364.39 Q177.607 1368.11 177.607 1375.22 Q177.607 1382.31 175.106 1386.05 Q172.623 1389.78 167.903 1389.78 Q163.182 1389.78 160.68 1386.05 Q158.198 1382.31 158.198 1375.22 Q158.198 1368.11 160.68 1364.39 Q163.182 1360.64 167.903 1360.64 Z\" fill=\"#000000\" fill-rule=\"nonzero\" fill-opacity=\"1\" /><path clip-path=\"url(#clip660)\" d=\"M76.9787 796.681 L84.6175 796.681 L84.6175 770.316 L76.3074 771.982 L76.3074 767.723 L84.5712 766.056 L89.2471 766.056 L89.2471 796.681 L96.886 796.681 L96.886 800.616 L76.9787 800.616 L76.9787 796.681 Z\" fill=\"#000000\" fill-rule=\"nonzero\" fill-opacity=\"1\" /><path clip-path=\"url(#clip660)\" d=\"M116.33 769.135 Q112.719 769.135 110.891 772.7 Q109.085 776.242 109.085 783.371 Q109.085 790.478 110.891 794.042 Q112.719 797.584 116.33 797.584 Q119.965 797.584 121.77 794.042 Q123.599 790.478 123.599 783.371 Q123.599 776.242 121.77 772.7 Q119.965 769.135 116.33 769.135 M116.33 765.431 Q122.14 765.431 125.196 770.038 Q128.275 774.621 128.275 783.371 Q128.275 792.098 125.196 796.704 Q122.14 801.288 116.33 801.288 Q110.52 801.288 107.441 796.704 Q104.386 792.098 104.386 783.371 Q104.386 774.621 107.441 770.038 Q110.52 765.431 116.33 765.431 Z\" fill=\"#000000\" fill-rule=\"nonzero\" fill-opacity=\"1\" /><path clip-path=\"url(#clip660)\" d=\"M128.275 759.533 L152.386 759.533 L152.386 762.73 L128.275 762.73 L128.275 759.533 Z\" fill=\"#000000\" fill-rule=\"nonzero\" fill-opacity=\"1\" /><path clip-path=\"url(#clip660)\" d=\"M160.624 745.126 L175.539 745.126 L175.539 748.323 L164.103 748.323 L164.103 755.207 Q164.931 754.925 165.759 754.793 Q166.586 754.643 167.414 754.643 Q172.116 754.643 174.862 757.219 Q177.607 759.796 177.607 764.197 Q177.607 768.73 174.786 771.25 Q171.965 773.752 166.831 773.752 Q165.063 773.752 163.22 773.451 Q161.395 773.15 159.439 772.548 L159.439 768.73 Q161.132 769.651 162.937 770.103 Q164.743 770.554 166.755 770.554 Q170.009 770.554 171.909 768.843 Q173.808 767.131 173.808 764.197 Q173.808 761.263 171.909 759.552 Q170.009 757.84 166.755 757.84 Q165.232 757.84 163.709 758.179 Q162.204 758.517 160.624 759.232 L160.624 745.126 Z\" fill=\"#000000\" fill-rule=\"nonzero\" fill-opacity=\"1\" /><path clip-path=\"url(#clip660)\" d=\"M106.902 180.656 L114.541 180.656 L114.541 154.291 L106.231 155.957 L106.231 151.698 L114.494 150.032 L119.17 150.032 L119.17 180.656 L126.809 180.656 L126.809 184.592 L106.902 184.592 L106.902 180.656 Z\" fill=\"#000000\" fill-rule=\"nonzero\" fill-opacity=\"1\" /><path clip-path=\"url(#clip660)\" d=\"M146.253 153.11 Q142.642 153.11 140.814 156.675 Q139.008 160.217 139.008 167.346 Q139.008 174.453 140.814 178.018 Q142.642 181.559 146.253 181.559 Q149.888 181.559 151.693 178.018 Q153.522 174.453 153.522 167.346 Q153.522 160.217 151.693 156.675 Q149.888 153.11 146.253 153.11 M146.253 149.407 Q152.064 149.407 155.119 154.013 Q158.198 158.596 158.198 167.346 Q158.198 176.073 155.119 180.68 Q152.064 185.263 146.253 185.263 Q140.443 185.263 137.365 180.68 Q134.309 176.073 134.309 167.346 Q134.309 158.596 137.365 154.013 Q140.443 149.407 146.253 149.407 Z\" fill=\"#000000\" fill-rule=\"nonzero\" fill-opacity=\"1\" /><path clip-path=\"url(#clip660)\" d=\"M167.903 131.603 Q164.969 131.603 163.483 134.499 Q162.016 137.377 162.016 143.169 Q162.016 148.943 163.483 151.84 Q164.969 154.717 167.903 154.717 Q170.855 154.717 172.322 151.84 Q173.808 148.943 173.808 143.169 Q173.808 137.377 172.322 134.499 Q170.855 131.603 167.903 131.603 M167.903 128.593 Q172.623 128.593 175.106 132.336 Q177.607 136.06 177.607 143.169 Q177.607 150.26 175.106 154.003 Q172.623 157.727 167.903 157.727 Q163.182 157.727 160.68 154.003 Q158.198 150.26 158.198 143.169 Q158.198 136.06 160.68 132.336 Q163.182 128.593 167.903 128.593 Z\" fill=\"#000000\" fill-rule=\"nonzero\" fill-opacity=\"1\" /><polyline clip-path=\"url(#clip662)\" style=\"stroke:#009af9; stroke-linecap:round; stroke-linejoin:round; stroke-width:4; stroke-opacity:1; fill:none\" points=\"274.149,87.9763 418.297,103.466 562.444,120.079 706.592,138.246 850.739,158.604 994.887,182.084 1139.03,209.973 1283.18,243.706 1427.33,284.557 1571.48,354.639 1715.62,511.757 1859.77,823.112 2003.92,1445.72 \"/>\n",
       "<path clip-path=\"url(#clip660)\" d=\"M284.912 198.898 L551.258 198.898 L551.258 95.2176 L284.912 95.2176  Z\" fill=\"#ffffff\" fill-rule=\"evenodd\" fill-opacity=\"1\"/>\n",
       "<polyline clip-path=\"url(#clip660)\" style=\"stroke:#000000; stroke-linecap:round; stroke-linejoin:round; stroke-width:4; stroke-opacity:1; fill:none\" points=\"284.912,198.898 551.258,198.898 551.258,95.2176 284.912,95.2176 284.912,198.898 \"/>\n",
       "<polyline clip-path=\"url(#clip660)\" style=\"stroke:#009af9; stroke-linecap:round; stroke-linejoin:round; stroke-width:4; stroke-opacity:1; fill:none\" points=\"308.681,147.058 451.291,147.058 \"/>\n",
       "<path clip-path=\"url(#clip660)\" d=\"M488.901 166.745 Q487.096 171.375 485.383 172.787 Q483.67 174.199 480.8 174.199 L477.397 174.199 L477.397 170.634 L479.897 170.634 Q481.656 170.634 482.628 169.8 Q483.601 168.967 484.781 165.865 L485.545 163.921 L475.059 138.412 L479.573 138.412 L487.675 158.689 L495.776 138.412 L500.29 138.412 L488.901 166.745 Z\" fill=\"#000000\" fill-rule=\"nonzero\" fill-opacity=\"1\" /><path clip-path=\"url(#clip660)\" d=\"M507.582 160.402 L515.221 160.402 L515.221 134.037 L506.911 135.703 L506.911 131.444 L515.174 129.778 L519.85 129.778 L519.85 160.402 L527.489 160.402 L527.489 164.338 L507.582 164.338 L507.582 160.402 Z\" fill=\"#000000\" fill-rule=\"nonzero\" fill-opacity=\"1\" /></svg>\n"
      ]
     },
     "metadata": {},
     "output_type": "display_data"
    }
   ],
   "source": [
    "# TODO: By making the initial guess complex find a complex root.\n",
    "k = 1:15\n",
    "x_0 = 0.1im\n",
    "f2 = x -> x^5 - x^2 + 1\n",
    "\n",
    "errs = [nanabs(newton(f2, x_0, n) - newton(f2, x_0, 15)) for n = k]\n",
    "plot(k, errs; yscale=:log10)"
   ]
  },
  {
   "cell_type": "code",
   "execution_count": 91,
   "metadata": {},
   "outputs": [
    {
     "data": {
      "text/plain": [
       "2.230842177652903e-10 + 1.4571654993744687e-10im"
      ]
     },
     "metadata": {},
     "output_type": "display_data"
    }
   ],
   "source": [
    "r = newton(f2, 0.1im, 13)\n",
    "f2(r)"
   ]
  },
  {
   "cell_type": "markdown",
   "metadata": {},
   "source": [
    "**Problem 5(c)** By changing the initial guesses compute 5 roots to\n",
    "$\\sin x - 1/x$. Hint: you may need to add an overload for `/(x::Real, y::Dual)`."
   ]
  },
  {
   "cell_type": "code",
   "execution_count": 93,
   "metadata": {},
   "outputs": [
    {
     "data": {
      "image/png": "[encoded data removed]",
      "image/svg+xml": [
       "<?xml version=\"1.0\" encoding=\"utf-8\"?>\n",
       "<svg xmlns=\"http://www.w3.org/2000/svg\" xmlns:xlink=\"http://www.w3.org/1999/xlink\" width=\"600\" height=\"400\" viewBox=\"0 0 2400 1600\">\n",
       "<defs>\n",
       "  <clipPath id=\"clip790\">\n",
       "    <rect x=\"0\" y=\"0\" width=\"2400\" height=\"1600\"/>\n",
       "  </clipPath>\n",
       "</defs>\n",
       "<path clip-path=\"url(#clip790)\" d=\"M0 1600 L2400 1600 L2400 8.88178e-14 L0 8.88178e-14  Z\" fill=\"#ffffff\" fill-rule=\"evenodd\" fill-opacity=\"1\"/>\n",
       "<defs>\n",
       "  <clipPath id=\"clip791\">\n",
       "    <rect x=\"480\" y=\"0\" width=\"1681\" height=\"1600\"/>\n",
       "  </clipPath>\n",
       "</defs>\n",
       "<path clip-path=\"url(#clip790)\" d=\"M213.607 1486.45 L2352.76 1486.45 L2352.76 47.2441 L213.607 47.2441  Z\" fill=\"#ffffff\" fill-rule=\"evenodd\" fill-opacity=\"1\"/>\n",
       "<defs>\n",
       "  <clipPath id=\"clip792\">\n",
       "    <rect x=\"213\" y=\"47\" width=\"2140\" height=\"1440\"/>\n",
       "  </clipPath>\n",
       "</defs>\n",
       "<polyline clip-path=\"url(#clip792)\" style=\"stroke:#000000; stroke-linecap:round; stroke-linejoin:round; stroke-width:2; stroke-opacity:0.1; fill:none\" points=\"274.149,1486.45 274.149,47.2441 \"/>\n",
       "<polyline clip-path=\"url(#clip792)\" style=\"stroke:#000000; stroke-linecap:round; stroke-linejoin:round; stroke-width:2; stroke-opacity:0.1; fill:none\" points=\"778.666,1486.45 778.666,47.2441 \"/>\n",
       "<polyline clip-path=\"url(#clip792)\" style=\"stroke:#000000; stroke-linecap:round; stroke-linejoin:round; stroke-width:2; stroke-opacity:0.1; fill:none\" points=\"1283.18,1486.45 1283.18,47.2441 \"/>\n",
       "<polyline clip-path=\"url(#clip792)\" style=\"stroke:#000000; stroke-linecap:round; stroke-linejoin:round; stroke-width:2; stroke-opacity:0.1; fill:none\" points=\"1787.7,1486.45 1787.7,47.2441 \"/>\n",
       "<polyline clip-path=\"url(#clip792)\" style=\"stroke:#000000; stroke-linecap:round; stroke-linejoin:round; stroke-width:2; stroke-opacity:0.1; fill:none\" points=\"2292.21,1486.45 2292.21,47.2441 \"/>\n",
       "<polyline clip-path=\"url(#clip792)\" style=\"stroke:#000000; stroke-linecap:round; stroke-linejoin:round; stroke-width:2; stroke-opacity:0.1; fill:none\" points=\"213.607,1380.96 2352.76,1380.96 \"/>\n",
       "<polyline clip-path=\"url(#clip792)\" style=\"stroke:#000000; stroke-linecap:round; stroke-linejoin:round; stroke-width:2; stroke-opacity:0.1; fill:none\" points=\"213.607,885.59 2352.76,885.59 \"/>\n",
       "<polyline clip-path=\"url(#clip792)\" style=\"stroke:#000000; stroke-linecap:round; stroke-linejoin:round; stroke-width:2; stroke-opacity:0.1; fill:none\" points=\"213.607,390.217 2352.76,390.217 \"/>\n",
       "<polyline clip-path=\"url(#clip790)\" style=\"stroke:#000000; stroke-linecap:round; stroke-linejoin:round; stroke-width:4; stroke-opacity:1; fill:none\" points=\"213.607,1486.45 2352.76,1486.45 \"/>\n",
       "<polyline clip-path=\"url(#clip790)\" style=\"stroke:#000000; stroke-linecap:round; stroke-linejoin:round; stroke-width:4; stroke-opacity:1; fill:none\" points=\"274.149,1486.45 274.149,1467.55 \"/>\n",
       "<polyline clip-path=\"url(#clip790)\" style=\"stroke:#000000; stroke-linecap:round; stroke-linejoin:round; stroke-width:4; stroke-opacity:1; fill:none\" points=\"778.666,1486.45 778.666,1467.55 \"/>\n",
       "<polyline clip-path=\"url(#clip790)\" style=\"stroke:#000000; stroke-linecap:round; stroke-linejoin:round; stroke-width:4; stroke-opacity:1; fill:none\" points=\"1283.18,1486.45 1283.18,1467.55 \"/>\n",
       "<polyline clip-path=\"url(#clip790)\" style=\"stroke:#000000; stroke-linecap:round; stroke-linejoin:round; stroke-width:4; stroke-opacity:1; fill:none\" points=\"1787.7,1486.45 1787.7,1467.55 \"/>\n",
       "<polyline clip-path=\"url(#clip790)\" style=\"stroke:#000000; stroke-linecap:round; stroke-linejoin:round; stroke-width:4; stroke-opacity:1; fill:none\" points=\"2292.21,1486.45 2292.21,1467.55 \"/>\n",
       "<path clip-path=\"url(#clip790)\" d=\"M264.531 1544.91 L272.17 1544.91 L272.17 1518.55 L263.86 1520.21 L263.86 1515.95 L272.124 1514.29 L276.8 1514.29 L276.8 1544.91 L284.439 1544.91 L284.439 1548.85 L264.531 1548.85 L264.531 1544.91 Z\" fill=\"#000000\" fill-rule=\"nonzero\" fill-opacity=\"1\" /><path clip-path=\"url(#clip790)\" d=\"M773.318 1544.91 L789.638 1544.91 L789.638 1548.85 L767.693 1548.85 L767.693 1544.91 Q770.355 1542.16 774.939 1537.53 Q779.545 1532.88 780.726 1531.53 Q782.971 1529.01 783.851 1527.27 Q784.753 1525.51 784.753 1523.82 Q784.753 1521.07 782.809 1519.33 Q780.888 1517.6 777.786 1517.6 Q775.587 1517.6 773.133 1518.36 Q770.703 1519.13 767.925 1520.68 L767.925 1515.95 Q770.749 1514.82 773.203 1514.24 Q775.656 1513.66 777.693 1513.66 Q783.064 1513.66 786.258 1516.35 Q789.453 1519.03 789.453 1523.52 Q789.453 1525.65 788.642 1527.57 Q787.855 1529.47 785.749 1532.07 Q785.17 1532.74 782.068 1535.95 Q778.966 1539.15 773.318 1544.91 Z\" fill=\"#000000\" fill-rule=\"nonzero\" fill-opacity=\"1\" /><path clip-path=\"url(#clip790)\" d=\"M1287.43 1530.21 Q1290.79 1530.93 1292.66 1533.2 Q1294.56 1535.47 1294.56 1538.8 Q1294.56 1543.92 1291.04 1546.72 Q1287.52 1549.52 1281.04 1549.52 Q1278.86 1549.52 1276.55 1549.08 Q1274.26 1548.66 1271.8 1547.81 L1271.8 1543.29 Q1273.75 1544.43 1276.06 1545.01 Q1278.38 1545.58 1280.9 1545.58 Q1285.3 1545.58 1287.59 1543.85 Q1289.91 1542.11 1289.91 1538.8 Q1289.91 1535.75 1287.75 1534.03 Q1285.62 1532.3 1281.8 1532.3 L1277.78 1532.3 L1277.78 1528.45 L1281.99 1528.45 Q1285.44 1528.45 1287.27 1527.09 Q1289.1 1525.7 1289.1 1523.11 Q1289.1 1520.45 1287.2 1519.03 Q1285.32 1517.6 1281.8 1517.6 Q1279.88 1517.6 1277.68 1518.01 Q1275.48 1518.43 1272.85 1519.31 L1272.85 1515.14 Q1275.51 1514.4 1277.82 1514.03 Q1280.16 1513.66 1282.22 1513.66 Q1287.55 1513.66 1290.65 1516.09 Q1293.75 1518.5 1293.75 1522.62 Q1293.75 1525.49 1292.11 1527.48 Q1290.46 1529.45 1287.43 1530.21 Z\" fill=\"#000000\" fill-rule=\"nonzero\" fill-opacity=\"1\" /><path clip-path=\"url(#clip790)\" d=\"M1790.71 1518.36 L1778.9 1536.81 L1790.71 1536.81 L1790.71 1518.36 M1789.48 1514.29 L1795.36 1514.29 L1795.36 1536.81 L1800.29 1536.81 L1800.29 1540.7 L1795.36 1540.7 L1795.36 1548.85 L1790.71 1548.85 L1790.71 1540.7 L1775.11 1540.7 L1775.11 1536.19 L1789.48 1514.29 Z\" fill=\"#000000\" fill-rule=\"nonzero\" fill-opacity=\"1\" /><path clip-path=\"url(#clip790)\" d=\"M2282.49 1514.29 L2300.85 1514.29 L2300.85 1518.22 L2286.77 1518.22 L2286.77 1526.7 Q2287.79 1526.35 2288.81 1526.19 Q2289.83 1526 2290.85 1526 Q2296.64 1526 2300.01 1529.17 Q2303.39 1532.34 2303.39 1537.76 Q2303.39 1543.34 2299.92 1546.44 Q2296.45 1549.52 2290.13 1549.52 Q2287.95 1549.52 2285.69 1549.15 Q2283.44 1548.78 2281.03 1548.04 L2281.03 1543.34 Q2283.12 1544.47 2285.34 1545.03 Q2287.56 1545.58 2290.04 1545.58 Q2294.04 1545.58 2296.38 1543.48 Q2298.72 1541.37 2298.72 1537.76 Q2298.72 1534.15 2296.38 1532.04 Q2294.04 1529.94 2290.04 1529.94 Q2288.16 1529.94 2286.29 1530.35 Q2284.44 1530.77 2282.49 1531.65 L2282.49 1514.29 Z\" fill=\"#000000\" fill-rule=\"nonzero\" fill-opacity=\"1\" /><polyline clip-path=\"url(#clip790)\" style=\"stroke:#000000; stroke-linecap:round; stroke-linejoin:round; stroke-width:4; stroke-opacity:1; fill:none\" points=\"213.607,1486.45 213.607,47.2441 \"/>\n",
       "<polyline clip-path=\"url(#clip790)\" style=\"stroke:#000000; stroke-linecap:round; stroke-linejoin:round; stroke-width:4; stroke-opacity:1; fill:none\" points=\"213.607,1380.96 232.505,1380.96 \"/>\n",
       "<polyline clip-path=\"url(#clip790)\" style=\"stroke:#000000; stroke-linecap:round; stroke-linejoin:round; stroke-width:4; stroke-opacity:1; fill:none\" points=\"213.607,885.59 232.505,885.59 \"/>\n",
       "<polyline clip-path=\"url(#clip790)\" style=\"stroke:#000000; stroke-linecap:round; stroke-linejoin:round; stroke-width:4; stroke-opacity:1; fill:none\" points=\"213.607,390.217 232.505,390.217 \"/>\n",
       "<path clip-path=\"url(#clip790)\" d=\"M52.4722 1400.76 L60.111 1400.76 L60.111 1374.39 L51.8009 1376.06 L51.8009 1371.8 L60.0647 1370.13 L64.7406 1370.13 L64.7406 1400.76 L72.3795 1400.76 L72.3795 1404.69 L52.4722 1404.69 L52.4722 1400.76 Z\" fill=\"#000000\" fill-rule=\"nonzero\" fill-opacity=\"1\" /><path clip-path=\"url(#clip790)\" d=\"M91.8238 1373.21 Q88.2127 1373.21 86.384 1376.78 Q84.5785 1380.32 84.5785 1387.45 Q84.5785 1394.55 86.384 1398.12 Q88.2127 1401.66 91.8238 1401.66 Q95.458 1401.66 97.2636 1398.12 Q99.0923 1394.55 99.0923 1387.45 Q99.0923 1380.32 97.2636 1376.78 Q95.458 1373.21 91.8238 1373.21 M91.8238 1369.51 Q97.6339 1369.51 100.689 1374.11 Q103.768 1378.7 103.768 1387.45 Q103.768 1396.17 100.689 1400.78 Q97.6339 1405.36 91.8238 1405.36 Q86.0136 1405.36 82.935 1400.78 Q79.8794 1396.17 79.8794 1387.45 Q79.8794 1378.7 82.935 1374.11 Q86.0136 1369.51 91.8238 1369.51 Z\" fill=\"#000000\" fill-rule=\"nonzero\" fill-opacity=\"1\" /><path clip-path=\"url(#clip790)\" d=\"M103.768 1363.61 L127.88 1363.61 L127.88 1366.81 L103.768 1366.81 L103.768 1363.61 Z\" fill=\"#000000\" fill-rule=\"nonzero\" fill-opacity=\"1\" /><path clip-path=\"url(#clip790)\" d=\"M136.738 1374.08 L142.945 1374.08 L142.945 1352.66 L136.193 1354.02 L136.193 1350.56 L142.907 1349.2 L146.706 1349.2 L146.706 1374.08 L152.913 1374.08 L152.913 1377.28 L136.738 1377.28 L136.738 1374.08 Z\" fill=\"#000000\" fill-rule=\"nonzero\" fill-opacity=\"1\" /><path clip-path=\"url(#clip790)\" d=\"M160.624 1349.2 L175.539 1349.2 L175.539 1352.4 L164.103 1352.4 L164.103 1359.28 Q164.931 1359 165.759 1358.87 Q166.586 1358.72 167.414 1358.72 Q172.116 1358.72 174.862 1361.29 Q177.607 1363.87 177.607 1368.27 Q177.607 1372.81 174.786 1375.33 Q171.965 1377.83 166.831 1377.83 Q165.063 1377.83 163.22 1377.53 Q161.395 1377.23 159.439 1376.62 L159.439 1372.81 Q161.132 1373.73 162.937 1374.18 Q164.743 1374.63 166.755 1374.63 Q170.009 1374.63 171.909 1372.92 Q173.808 1371.21 173.808 1368.27 Q173.808 1365.34 171.909 1363.63 Q170.009 1361.92 166.755 1361.92 Q165.232 1361.92 163.709 1362.25 Q162.204 1362.59 160.624 1363.31 L160.624 1349.2 Z\" fill=\"#000000\" fill-rule=\"nonzero\" fill-opacity=\"1\" /><path clip-path=\"url(#clip790)\" d=\"M51.6634 905.383 L59.3023 905.383 L59.3023 879.017 L50.9921 880.684 L50.9921 876.425 L59.256 874.758 L63.9319 874.758 L63.9319 905.383 L71.5707 905.383 L71.5707 909.318 L51.6634 909.318 L51.6634 905.383 Z\" fill=\"#000000\" fill-rule=\"nonzero\" fill-opacity=\"1\" /><path clip-path=\"url(#clip790)\" d=\"M91.0151 877.837 Q87.404 877.837 85.5753 881.402 Q83.7697 884.943 83.7697 892.073 Q83.7697 899.179 85.5753 902.744 Q87.404 906.286 91.0151 906.286 Q94.6493 906.286 96.4548 902.744 Q98.2835 899.179 98.2835 892.073 Q98.2835 884.943 96.4548 881.402 Q94.6493 877.837 91.0151 877.837 M91.0151 874.133 Q96.8252 874.133 99.8808 878.74 Q102.959 883.323 102.959 892.073 Q102.959 900.8 99.8808 905.406 Q96.8252 909.989 91.0151 909.989 Q85.2049 909.989 82.1262 905.406 Q79.0707 900.8 79.0707 892.073 Q79.0707 883.323 82.1262 878.74 Q85.2049 874.133 91.0151 874.133 Z\" fill=\"#000000\" fill-rule=\"nonzero\" fill-opacity=\"1\" /><path clip-path=\"url(#clip790)\" d=\"M102.959 868.234 L127.071 868.234 L127.071 871.432 L102.959 871.432 L102.959 868.234 Z\" fill=\"#000000\" fill-rule=\"nonzero\" fill-opacity=\"1\" /><path clip-path=\"url(#clip790)\" d=\"M135.929 878.71 L142.136 878.71 L142.136 857.288 L135.384 858.642 L135.384 855.182 L142.098 853.828 L145.898 853.828 L145.898 878.71 L152.104 878.71 L152.104 881.908 L135.929 881.908 L135.929 878.71 Z\" fill=\"#000000\" fill-rule=\"nonzero\" fill-opacity=\"1\" /><path clip-path=\"url(#clip790)\" d=\"M167.903 856.329 Q164.969 856.329 163.483 859.226 Q162.016 862.103 162.016 867.896 Q162.016 873.67 163.483 876.566 Q164.969 879.444 167.903 879.444 Q170.855 879.444 172.322 876.566 Q173.808 873.67 173.808 867.896 Q173.808 862.103 172.322 859.226 Q170.855 856.329 167.903 856.329 M167.903 853.32 Q172.623 853.32 175.106 857.063 Q177.607 860.787 177.607 867.896 Q177.607 874.986 175.106 878.729 Q172.623 882.453 167.903 882.453 Q163.182 882.453 160.68 878.729 Q158.198 874.986 158.198 867.896 Q158.198 860.787 160.68 857.063 Q163.182 853.32 167.903 853.32 Z\" fill=\"#000000\" fill-rule=\"nonzero\" fill-opacity=\"1\" /><path clip-path=\"url(#clip790)\" d=\"M76.9787 410.009 L84.6175 410.009 L84.6175 383.643 L76.3074 385.31 L76.3074 381.051 L84.5712 379.384 L89.2471 379.384 L89.2471 410.009 L96.886 410.009 L96.886 413.944 L76.9787 413.944 L76.9787 410.009 Z\" fill=\"#000000\" fill-rule=\"nonzero\" fill-opacity=\"1\" /><path clip-path=\"url(#clip790)\" d=\"M116.33 382.463 Q112.719 382.463 110.891 386.028 Q109.085 389.569 109.085 396.699 Q109.085 403.805 110.891 407.37 Q112.719 410.912 116.33 410.912 Q119.965 410.912 121.77 407.37 Q123.599 403.805 123.599 396.699 Q123.599 389.569 121.77 386.028 Q119.965 382.463 116.33 382.463 M116.33 378.759 Q122.14 378.759 125.196 383.366 Q128.275 387.949 128.275 396.699 Q128.275 405.426 125.196 410.032 Q122.14 414.615 116.33 414.615 Q110.52 414.615 107.441 410.032 Q104.386 405.426 104.386 396.699 Q104.386 387.949 107.441 383.366 Q110.52 378.759 116.33 378.759 Z\" fill=\"#000000\" fill-rule=\"nonzero\" fill-opacity=\"1\" /><path clip-path=\"url(#clip790)\" d=\"M128.275 372.861 L152.386 372.861 L152.386 376.058 L128.275 376.058 L128.275 372.861 Z\" fill=\"#000000\" fill-rule=\"nonzero\" fill-opacity=\"1\" /><path clip-path=\"url(#clip790)\" d=\"M160.624 358.454 L175.539 358.454 L175.539 361.651 L164.103 361.651 L164.103 368.535 Q164.931 368.253 165.759 368.121 Q166.586 367.971 167.414 367.971 Q172.116 367.971 174.862 370.547 Q177.607 373.124 177.607 377.525 Q177.607 382.058 174.786 384.578 Q171.965 387.079 166.831 387.079 Q165.063 387.079 163.22 386.778 Q161.395 386.477 159.439 385.876 L159.439 382.058 Q161.132 382.979 162.937 383.431 Q164.743 383.882 166.755 383.882 Q170.009 383.882 171.909 382.17 Q173.808 380.459 173.808 377.525 Q173.808 374.591 171.909 372.879 Q170.009 371.168 166.755 371.168 Q165.232 371.168 163.709 371.506 Q162.204 371.845 160.624 372.56 L160.624 358.454 Z\" fill=\"#000000\" fill-rule=\"nonzero\" fill-opacity=\"1\" /><polyline clip-path=\"url(#clip792)\" style=\"stroke:#009af9; stroke-linecap:round; stroke-linejoin:round; stroke-width:4; stroke-opacity:1; fill:none\" points=\"274.149,87.9763 778.666,284.196 1283.18,676.213 1787.7,1445.72 \"/>\n",
       "<path clip-path=\"url(#clip790)\" d=\"M284.912 198.898 L551.258 198.898 L551.258 95.2176 L284.912 95.2176  Z\" fill=\"#ffffff\" fill-rule=\"evenodd\" fill-opacity=\"1\"/>\n",
       "<polyline clip-path=\"url(#clip790)\" style=\"stroke:#000000; stroke-linecap:round; stroke-linejoin:round; stroke-width:4; stroke-opacity:1; fill:none\" points=\"284.912,198.898 551.258,198.898 551.258,95.2176 284.912,95.2176 284.912,198.898 \"/>\n",
       "<polyline clip-path=\"url(#clip790)\" style=\"stroke:#009af9; stroke-linecap:round; stroke-linejoin:round; stroke-width:4; stroke-opacity:1; fill:none\" points=\"308.681,147.058 451.291,147.058 \"/>\n",
       "<path clip-path=\"url(#clip790)\" d=\"M488.901 166.745 Q487.096 171.375 485.383 172.787 Q483.67 174.199 480.8 174.199 L477.397 174.199 L477.397 170.634 L479.897 170.634 Q481.656 170.634 482.628 169.8 Q483.601 168.967 484.781 165.865 L485.545 163.921 L475.059 138.412 L479.573 138.412 L487.675 158.689 L495.776 138.412 L500.29 138.412 L488.901 166.745 Z\" fill=\"#000000\" fill-rule=\"nonzero\" fill-opacity=\"1\" /><path clip-path=\"url(#clip790)\" d=\"M507.582 160.402 L515.221 160.402 L515.221 134.037 L506.911 135.703 L506.911 131.444 L515.174 129.778 L519.85 129.778 L519.85 160.402 L527.489 160.402 L527.489 164.338 L507.582 164.338 L507.582 160.402 Z\" fill=\"#000000\" fill-rule=\"nonzero\" fill-opacity=\"1\" /></svg>\n"
      ],
      "text/html": [
       "<?xml version=\"1.0\" encoding=\"utf-8\"?>\n",
       "<svg xmlns=\"http://www.w3.org/2000/svg\" xmlns:xlink=\"http://www.w3.org/1999/xlink\" width=\"600\" height=\"400\" viewBox=\"0 0 2400 1600\">\n",
       "<defs>\n",
       "  <clipPath id=\"clip840\">\n",
       "    <rect x=\"0\" y=\"0\" width=\"2400\" height=\"1600\"/>\n",
       "  </clipPath>\n",
       "</defs>\n",
       "<path clip-path=\"url(#clip840)\" d=\"M0 1600 L2400 1600 L2400 8.88178e-14 L0 8.88178e-14  Z\" fill=\"#ffffff\" fill-rule=\"evenodd\" fill-opacity=\"1\"/>\n",
       "<defs>\n",
       "  <clipPath id=\"clip841\">\n",
       "    <rect x=\"480\" y=\"0\" width=\"1681\" height=\"1600\"/>\n",
       "  </clipPath>\n",
       "</defs>\n",
       "<path clip-path=\"url(#clip840)\" d=\"M213.607 1486.45 L2352.76 1486.45 L2352.76 47.2441 L213.607 47.2441  Z\" fill=\"#ffffff\" fill-rule=\"evenodd\" fill-opacity=\"1\"/>\n",
       "<defs>\n",
       "  <clipPath id=\"clip842\">\n",
       "    <rect x=\"213\" y=\"47\" width=\"2140\" height=\"1440\"/>\n",
       "  </clipPath>\n",
       "</defs>\n",
       "<polyline clip-path=\"url(#clip842)\" style=\"stroke:#000000; stroke-linecap:round; stroke-linejoin:round; stroke-width:2; stroke-opacity:0.1; fill:none\" points=\"274.149,1486.45 274.149,47.2441 \"/>\n",
       "<polyline clip-path=\"url(#clip842)\" style=\"stroke:#000000; stroke-linecap:round; stroke-linejoin:round; stroke-width:2; stroke-opacity:0.1; fill:none\" points=\"778.666,1486.45 778.666,47.2441 \"/>\n",
       "<polyline clip-path=\"url(#clip842)\" style=\"stroke:#000000; stroke-linecap:round; stroke-linejoin:round; stroke-width:2; stroke-opacity:0.1; fill:none\" points=\"1283.18,1486.45 1283.18,47.2441 \"/>\n",
       "<polyline clip-path=\"url(#clip842)\" style=\"stroke:#000000; stroke-linecap:round; stroke-linejoin:round; stroke-width:2; stroke-opacity:0.1; fill:none\" points=\"1787.7,1486.45 1787.7,47.2441 \"/>\n",
       "<polyline clip-path=\"url(#clip842)\" style=\"stroke:#000000; stroke-linecap:round; stroke-linejoin:round; stroke-width:2; stroke-opacity:0.1; fill:none\" points=\"2292.21,1486.45 2292.21,47.2441 \"/>\n",
       "<polyline clip-path=\"url(#clip842)\" style=\"stroke:#000000; stroke-linecap:round; stroke-linejoin:round; stroke-width:2; stroke-opacity:0.1; fill:none\" points=\"213.607,1380.96 2352.76,1380.96 \"/>\n",
       "<polyline clip-path=\"url(#clip842)\" style=\"stroke:#000000; stroke-linecap:round; stroke-linejoin:round; stroke-width:2; stroke-opacity:0.1; fill:none\" points=\"213.607,885.59 2352.76,885.59 \"/>\n",
       "<polyline clip-path=\"url(#clip842)\" style=\"stroke:#000000; stroke-linecap:round; stroke-linejoin:round; stroke-width:2; stroke-opacity:0.1; fill:none\" points=\"213.607,390.217 2352.76,390.217 \"/>\n",
       "<polyline clip-path=\"url(#clip840)\" style=\"stroke:#000000; stroke-linecap:round; stroke-linejoin:round; stroke-width:4; stroke-opacity:1; fill:none\" points=\"213.607,1486.45 2352.76,1486.45 \"/>\n",
       "<polyline clip-path=\"url(#clip840)\" style=\"stroke:#000000; stroke-linecap:round; stroke-linejoin:round; stroke-width:4; stroke-opacity:1; fill:none\" points=\"274.149,1486.45 274.149,1467.55 \"/>\n",
       "<polyline clip-path=\"url(#clip840)\" style=\"stroke:#000000; stroke-linecap:round; stroke-linejoin:round; stroke-width:4; stroke-opacity:1; fill:none\" points=\"778.666,1486.45 778.666,1467.55 \"/>\n",
       "<polyline clip-path=\"url(#clip840)\" style=\"stroke:#000000; stroke-linecap:round; stroke-linejoin:round; stroke-width:4; stroke-opacity:1; fill:none\" points=\"1283.18,1486.45 1283.18,1467.55 \"/>\n",
       "<polyline clip-path=\"url(#clip840)\" style=\"stroke:#000000; stroke-linecap:round; stroke-linejoin:round; stroke-width:4; stroke-opacity:1; fill:none\" points=\"1787.7,1486.45 1787.7,1467.55 \"/>\n",
       "<polyline clip-path=\"url(#clip840)\" style=\"stroke:#000000; stroke-linecap:round; stroke-linejoin:round; stroke-width:4; stroke-opacity:1; fill:none\" points=\"2292.21,1486.45 2292.21,1467.55 \"/>\n",
       "<path clip-path=\"url(#clip840)\" d=\"M264.531 1544.91 L272.17 1544.91 L272.17 1518.55 L263.86 1520.21 L263.86 1515.95 L272.124 1514.29 L276.8 1514.29 L276.8 1544.91 L284.439 1544.91 L284.439 1548.85 L264.531 1548.85 L264.531 1544.91 Z\" fill=\"#000000\" fill-rule=\"nonzero\" fill-opacity=\"1\" /><path clip-path=\"url(#clip840)\" d=\"M773.318 1544.91 L789.638 1544.91 L789.638 1548.85 L767.693 1548.85 L767.693 1544.91 Q770.355 1542.16 774.939 1537.53 Q779.545 1532.88 780.726 1531.53 Q782.971 1529.01 783.851 1527.27 Q784.753 1525.51 784.753 1523.82 Q784.753 1521.07 782.809 1519.33 Q780.888 1517.6 777.786 1517.6 Q775.587 1517.6 773.133 1518.36 Q770.703 1519.13 767.925 1520.68 L767.925 1515.95 Q770.749 1514.82 773.203 1514.24 Q775.656 1513.66 777.693 1513.66 Q783.064 1513.66 786.258 1516.35 Q789.453 1519.03 789.453 1523.52 Q789.453 1525.65 788.642 1527.57 Q787.855 1529.47 785.749 1532.07 Q785.17 1532.74 782.068 1535.95 Q778.966 1539.15 773.318 1544.91 Z\" fill=\"#000000\" fill-rule=\"nonzero\" fill-opacity=\"1\" /><path clip-path=\"url(#clip840)\" d=\"M1287.43 1530.21 Q1290.79 1530.93 1292.66 1533.2 Q1294.56 1535.47 1294.56 1538.8 Q1294.56 1543.92 1291.04 1546.72 Q1287.52 1549.52 1281.04 1549.52 Q1278.86 1549.52 1276.55 1549.08 Q1274.26 1548.66 1271.8 1547.81 L1271.8 1543.29 Q1273.75 1544.43 1276.06 1545.01 Q1278.38 1545.58 1280.9 1545.58 Q1285.3 1545.58 1287.59 1543.85 Q1289.91 1542.11 1289.91 1538.8 Q1289.91 1535.75 1287.75 1534.03 Q1285.62 1532.3 1281.8 1532.3 L1277.78 1532.3 L1277.78 1528.45 L1281.99 1528.45 Q1285.44 1528.45 1287.27 1527.09 Q1289.1 1525.7 1289.1 1523.11 Q1289.1 1520.45 1287.2 1519.03 Q1285.32 1517.6 1281.8 1517.6 Q1279.88 1517.6 1277.68 1518.01 Q1275.48 1518.43 1272.85 1519.31 L1272.85 1515.14 Q1275.51 1514.4 1277.82 1514.03 Q1280.16 1513.66 1282.22 1513.66 Q1287.55 1513.66 1290.65 1516.09 Q1293.75 1518.5 1293.75 1522.62 Q1293.75 1525.49 1292.11 1527.48 Q1290.46 1529.45 1287.43 1530.21 Z\" fill=\"#000000\" fill-rule=\"nonzero\" fill-opacity=\"1\" /><path clip-path=\"url(#clip840)\" d=\"M1790.71 1518.36 L1778.9 1536.81 L1790.71 1536.81 L1790.71 1518.36 M1789.48 1514.29 L1795.36 1514.29 L1795.36 1536.81 L1800.29 1536.81 L1800.29 1540.7 L1795.36 1540.7 L1795.36 1548.85 L1790.71 1548.85 L1790.71 1540.7 L1775.11 1540.7 L1775.11 1536.19 L1789.48 1514.29 Z\" fill=\"#000000\" fill-rule=\"nonzero\" fill-opacity=\"1\" /><path clip-path=\"url(#clip840)\" d=\"M2282.49 1514.29 L2300.85 1514.29 L2300.85 1518.22 L2286.77 1518.22 L2286.77 1526.7 Q2287.79 1526.35 2288.81 1526.19 Q2289.83 1526 2290.85 1526 Q2296.64 1526 2300.01 1529.17 Q2303.39 1532.34 2303.39 1537.76 Q2303.39 1543.34 2299.92 1546.44 Q2296.45 1549.52 2290.13 1549.52 Q2287.95 1549.52 2285.69 1549.15 Q2283.44 1548.78 2281.03 1548.04 L2281.03 1543.34 Q2283.12 1544.47 2285.34 1545.03 Q2287.56 1545.58 2290.04 1545.58 Q2294.04 1545.58 2296.38 1543.48 Q2298.72 1541.37 2298.72 1537.76 Q2298.72 1534.15 2296.38 1532.04 Q2294.04 1529.94 2290.04 1529.94 Q2288.16 1529.94 2286.29 1530.35 Q2284.44 1530.77 2282.49 1531.65 L2282.49 1514.29 Z\" fill=\"#000000\" fill-rule=\"nonzero\" fill-opacity=\"1\" /><polyline clip-path=\"url(#clip840)\" style=\"stroke:#000000; stroke-linecap:round; stroke-linejoin:round; stroke-width:4; stroke-opacity:1; fill:none\" points=\"213.607,1486.45 213.607,47.2441 \"/>\n",
       "<polyline clip-path=\"url(#clip840)\" style=\"stroke:#000000; stroke-linecap:round; stroke-linejoin:round; stroke-width:4; stroke-opacity:1; fill:none\" points=\"213.607,1380.96 232.505,1380.96 \"/>\n",
       "<polyline clip-path=\"url(#clip840)\" style=\"stroke:#000000; stroke-linecap:round; stroke-linejoin:round; stroke-width:4; stroke-opacity:1; fill:none\" points=\"213.607,885.59 232.505,885.59 \"/>\n",
       "<polyline clip-path=\"url(#clip840)\" style=\"stroke:#000000; stroke-linecap:round; stroke-linejoin:round; stroke-width:4; stroke-opacity:1; fill:none\" points=\"213.607,390.217 232.505,390.217 \"/>\n",
       "<path clip-path=\"url(#clip840)\" d=\"M52.4722 1400.76 L60.111 1400.76 L60.111 1374.39 L51.8009 1376.06 L51.8009 1371.8 L60.0647 1370.13 L64.7406 1370.13 L64.7406 1400.76 L72.3795 1400.76 L72.3795 1404.69 L52.4722 1404.69 L52.4722 1400.76 Z\" fill=\"#000000\" fill-rule=\"nonzero\" fill-opacity=\"1\" /><path clip-path=\"url(#clip840)\" d=\"M91.8238 1373.21 Q88.2127 1373.21 86.384 1376.78 Q84.5785 1380.32 84.5785 1387.45 Q84.5785 1394.55 86.384 1398.12 Q88.2127 1401.66 91.8238 1401.66 Q95.458 1401.66 97.2636 1398.12 Q99.0923 1394.55 99.0923 1387.45 Q99.0923 1380.32 97.2636 1376.78 Q95.458 1373.21 91.8238 1373.21 M91.8238 1369.51 Q97.6339 1369.51 100.689 1374.11 Q103.768 1378.7 103.768 1387.45 Q103.768 1396.17 100.689 1400.78 Q97.6339 1405.36 91.8238 1405.36 Q86.0136 1405.36 82.935 1400.78 Q79.8794 1396.17 79.8794 1387.45 Q79.8794 1378.7 82.935 1374.11 Q86.0136 1369.51 91.8238 1369.51 Z\" fill=\"#000000\" fill-rule=\"nonzero\" fill-opacity=\"1\" /><path clip-path=\"url(#clip840)\" d=\"M103.768 1363.61 L127.88 1363.61 L127.88 1366.81 L103.768 1366.81 L103.768 1363.61 Z\" fill=\"#000000\" fill-rule=\"nonzero\" fill-opacity=\"1\" /><path clip-path=\"url(#clip840)\" d=\"M136.738 1374.08 L142.945 1374.08 L142.945 1352.66 L136.193 1354.02 L136.193 1350.56 L142.907 1349.2 L146.706 1349.2 L146.706 1374.08 L152.913 1374.08 L152.913 1377.28 L136.738 1377.28 L136.738 1374.08 Z\" fill=\"#000000\" fill-rule=\"nonzero\" fill-opacity=\"1\" /><path clip-path=\"url(#clip840)\" d=\"M160.624 1349.2 L175.539 1349.2 L175.539 1352.4 L164.103 1352.4 L164.103 1359.28 Q164.931 1359 165.759 1358.87 Q166.586 1358.72 167.414 1358.72 Q172.116 1358.72 174.862 1361.29 Q177.607 1363.87 177.607 1368.27 Q177.607 1372.81 174.786 1375.33 Q171.965 1377.83 166.831 1377.83 Q165.063 1377.83 163.22 1377.53 Q161.395 1377.23 159.439 1376.62 L159.439 1372.81 Q161.132 1373.73 162.937 1374.18 Q164.743 1374.63 166.755 1374.63 Q170.009 1374.63 171.909 1372.92 Q173.808 1371.21 173.808 1368.27 Q173.808 1365.34 171.909 1363.63 Q170.009 1361.92 166.755 1361.92 Q165.232 1361.92 163.709 1362.25 Q162.204 1362.59 160.624 1363.31 L160.624 1349.2 Z\" fill=\"#000000\" fill-rule=\"nonzero\" fill-opacity=\"1\" /><path clip-path=\"url(#clip840)\" d=\"M51.6634 905.383 L59.3023 905.383 L59.3023 879.017 L50.9921 880.684 L50.9921 876.425 L59.256 874.758 L63.9319 874.758 L63.9319 905.383 L71.5707 905.383 L71.5707 909.318 L51.6634 909.318 L51.6634 905.383 Z\" fill=\"#000000\" fill-rule=\"nonzero\" fill-opacity=\"1\" /><path clip-path=\"url(#clip840)\" d=\"M91.0151 877.837 Q87.404 877.837 85.5753 881.402 Q83.7697 884.943 83.7697 892.073 Q83.7697 899.179 85.5753 902.744 Q87.404 906.286 91.0151 906.286 Q94.6493 906.286 96.4548 902.744 Q98.2835 899.179 98.2835 892.073 Q98.2835 884.943 96.4548 881.402 Q94.6493 877.837 91.0151 877.837 M91.0151 874.133 Q96.8252 874.133 99.8808 878.74 Q102.959 883.323 102.959 892.073 Q102.959 900.8 99.8808 905.406 Q96.8252 909.989 91.0151 909.989 Q85.2049 909.989 82.1262 905.406 Q79.0707 900.8 79.0707 892.073 Q79.0707 883.323 82.1262 878.74 Q85.2049 874.133 91.0151 874.133 Z\" fill=\"#000000\" fill-rule=\"nonzero\" fill-opacity=\"1\" /><path clip-path=\"url(#clip840)\" d=\"M102.959 868.234 L127.071 868.234 L127.071 871.432 L102.959 871.432 L102.959 868.234 Z\" fill=\"#000000\" fill-rule=\"nonzero\" fill-opacity=\"1\" /><path clip-path=\"url(#clip840)\" d=\"M135.929 878.71 L142.136 878.71 L142.136 857.288 L135.384 858.642 L135.384 855.182 L142.098 853.828 L145.898 853.828 L145.898 878.71 L152.104 878.71 L152.104 881.908 L135.929 881.908 L135.929 878.71 Z\" fill=\"#000000\" fill-rule=\"nonzero\" fill-opacity=\"1\" /><path clip-path=\"url(#clip840)\" d=\"M167.903 856.329 Q164.969 856.329 163.483 859.226 Q162.016 862.103 162.016 867.896 Q162.016 873.67 163.483 876.566 Q164.969 879.444 167.903 879.444 Q170.855 879.444 172.322 876.566 Q173.808 873.67 173.808 867.896 Q173.808 862.103 172.322 859.226 Q170.855 856.329 167.903 856.329 M167.903 853.32 Q172.623 853.32 175.106 857.063 Q177.607 860.787 177.607 867.896 Q177.607 874.986 175.106 878.729 Q172.623 882.453 167.903 882.453 Q163.182 882.453 160.68 878.729 Q158.198 874.986 158.198 867.896 Q158.198 860.787 160.68 857.063 Q163.182 853.32 167.903 853.32 Z\" fill=\"#000000\" fill-rule=\"nonzero\" fill-opacity=\"1\" /><path clip-path=\"url(#clip840)\" d=\"M76.9787 410.009 L84.6175 410.009 L84.6175 383.643 L76.3074 385.31 L76.3074 381.051 L84.5712 379.384 L89.2471 379.384 L89.2471 410.009 L96.886 410.009 L96.886 413.944 L76.9787 413.944 L76.9787 410.009 Z\" fill=\"#000000\" fill-rule=\"nonzero\" fill-opacity=\"1\" /><path clip-path=\"url(#clip840)\" d=\"M116.33 382.463 Q112.719 382.463 110.891 386.028 Q109.085 389.569 109.085 396.699 Q109.085 403.805 110.891 407.37 Q112.719 410.912 116.33 410.912 Q119.965 410.912 121.77 407.37 Q123.599 403.805 123.599 396.699 Q123.599 389.569 121.77 386.028 Q119.965 382.463 116.33 382.463 M116.33 378.759 Q122.14 378.759 125.196 383.366 Q128.275 387.949 128.275 396.699 Q128.275 405.426 125.196 410.032 Q122.14 414.615 116.33 414.615 Q110.52 414.615 107.441 410.032 Q104.386 405.426 104.386 396.699 Q104.386 387.949 107.441 383.366 Q110.52 378.759 116.33 378.759 Z\" fill=\"#000000\" fill-rule=\"nonzero\" fill-opacity=\"1\" /><path clip-path=\"url(#clip840)\" d=\"M128.275 372.861 L152.386 372.861 L152.386 376.058 L128.275 376.058 L128.275 372.861 Z\" fill=\"#000000\" fill-rule=\"nonzero\" fill-opacity=\"1\" /><path clip-path=\"url(#clip840)\" d=\"M160.624 358.454 L175.539 358.454 L175.539 361.651 L164.103 361.651 L164.103 368.535 Q164.931 368.253 165.759 368.121 Q166.586 367.971 167.414 367.971 Q172.116 367.971 174.862 370.547 Q177.607 373.124 177.607 377.525 Q177.607 382.058 174.786 384.578 Q171.965 387.079 166.831 387.079 Q165.063 387.079 163.22 386.778 Q161.395 386.477 159.439 385.876 L159.439 382.058 Q161.132 382.979 162.937 383.431 Q164.743 383.882 166.755 383.882 Q170.009 383.882 171.909 382.17 Q173.808 380.459 173.808 377.525 Q173.808 374.591 171.909 372.879 Q170.009 371.168 166.755 371.168 Q165.232 371.168 163.709 371.506 Q162.204 371.845 160.624 372.56 L160.624 358.454 Z\" fill=\"#000000\" fill-rule=\"nonzero\" fill-opacity=\"1\" /><polyline clip-path=\"url(#clip842)\" style=\"stroke:#009af9; stroke-linecap:round; stroke-linejoin:round; stroke-width:4; stroke-opacity:1; fill:none\" points=\"274.149,87.9763 778.666,284.196 1283.18,676.213 1787.7,1445.72 \"/>\n",
       "<path clip-path=\"url(#clip840)\" d=\"M284.912 198.898 L551.258 198.898 L551.258 95.2176 L284.912 95.2176  Z\" fill=\"#ffffff\" fill-rule=\"evenodd\" fill-opacity=\"1\"/>\n",
       "<polyline clip-path=\"url(#clip840)\" style=\"stroke:#000000; stroke-linecap:round; stroke-linejoin:round; stroke-width:4; stroke-opacity:1; fill:none\" points=\"284.912,198.898 551.258,198.898 551.258,95.2176 284.912,95.2176 284.912,198.898 \"/>\n",
       "<polyline clip-path=\"url(#clip840)\" style=\"stroke:#009af9; stroke-linecap:round; stroke-linejoin:round; stroke-width:4; stroke-opacity:1; fill:none\" points=\"308.681,147.058 451.291,147.058 \"/>\n",
       "<path clip-path=\"url(#clip840)\" d=\"M488.901 166.745 Q487.096 171.375 485.383 172.787 Q483.67 174.199 480.8 174.199 L477.397 174.199 L477.397 170.634 L479.897 170.634 Q481.656 170.634 482.628 169.8 Q483.601 168.967 484.781 165.865 L485.545 163.921 L475.059 138.412 L479.573 138.412 L487.675 158.689 L495.776 138.412 L500.29 138.412 L488.901 166.745 Z\" fill=\"#000000\" fill-rule=\"nonzero\" fill-opacity=\"1\" /><path clip-path=\"url(#clip840)\" d=\"M507.582 160.402 L515.221 160.402 L515.221 134.037 L506.911 135.703 L506.911 131.444 L515.174 129.778 L519.85 129.778 L519.85 160.402 L527.489 160.402 L527.489 164.338 L507.582 164.338 L507.582 160.402 Z\" fill=\"#000000\" fill-rule=\"nonzero\" fill-opacity=\"1\" /></svg>\n"
      ]
     },
     "metadata": {},
     "output_type": "display_data"
    }
   ],
   "source": [
    "# TODO: Use newton to compute roots of sin(x) - 1/x.\n",
    "k = 1:5\n",
    "x_0 = 1\n",
    "f3 = x -> sin(x) - 1/x\n",
    "\n",
    "errs = [nanabs(newton(f3, x_0, n) - newton(f3, x_0, 15)) for n = k]\n",
    "plot(k, errs; yscale=:log10)"
   ]
  },
  {
   "cell_type": "markdown",
   "metadata": {},
   "source": [
    "---\n",
    "\n",
    "*This notebook was generated using [Literate.jl](https://github.com/fredrikekre/Literate.jl).*"
   ]
  }
 ],
 "metadata": {
  "kernelspec": {
   "display_name": "Julia 1.11.2",
   "language": "julia",
   "name": "julia-1.11"
  },
  "language_info": {
   "file_extension": ".jl",
   "mimetype": "application/julia",
   "name": "julia",
   "version": "1.11.2"
  }
 },
 "nbformat": 4,
 "nbformat_minor": 3
}
