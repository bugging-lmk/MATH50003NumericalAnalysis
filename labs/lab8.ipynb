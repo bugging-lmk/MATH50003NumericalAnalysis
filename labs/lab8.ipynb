{
 "cells": [
  {
   "cell_type": "markdown",
   "metadata": {},
   "source": [
    "# MATH50003 (2024–25)\n",
    "# Lab 8: V.1 Fourier Expansions and V.2 Discrete Fourier Transform"
   ]
  },
  {
   "cell_type": "markdown",
   "metadata": {},
   "source": [
    "This lab explores the practical implementation of Fourier expansions on a computer,\n",
    "in particular, via use the periodic Trapezium rule for approximating the Fourier coefficients.\n",
    "This has a number of wonderful properties including interpolating data exactly, and\n",
    "can be expressed cleanly in terms of the Discrete Fourier Transform (DFT).\n",
    "We also explore the closely related cousins of the Fourier expansion: the Fourier–Taylor expansion\n",
    "(for functions with only non-negative Fourier coefficients) and the Cosine expansion (for even functions)."
   ]
  },
  {
   "cell_type": "markdown",
   "metadata": {},
   "source": [
    "**Learning Outcomes**\n",
    "\n",
    "Mathematical knowledge:"
   ]
  },
  {
   "cell_type": "markdown",
   "metadata": {},
   "source": [
    "1. Computing Fourier coefficients and approximating Fourier expansions.\n",
    "2. Extensions to Cosine expansions and discrete cosine coefficients.\n",
    "3. The relationship between regularity and convergence of Fourier expansions.\n",
    "4. The Discrete Fourier Transform and the Discrete Cosine Transform.\n",
    "5. The interpolatory behaviour of approximate Fourier expansions."
   ]
  },
  {
   "cell_type": "markdown",
   "metadata": {},
   "source": [
    "Coding knowledge:"
   ]
  },
  {
   "cell_type": "markdown",
   "metadata": {},
   "source": [
    "1. The QuadGK.jl package and `quadgk` function for black box numerical integration.\n",
    "2. The FFTW.jl package and the `fft` function for applying the Discrete Fourier Transform fast."
   ]
  },
  {
   "cell_type": "markdown",
   "metadata": {},
   "source": [
    "We first load  packages we need including two new ones, FFTW.jl (for the fast Fourier transform)\n",
    "and QuadGK.jl (for black-box numerical integration)."
   ]
  },
  {
   "cell_type": "code",
   "execution_count": 3,
   "metadata": {},
   "outputs": [],
   "source": [
    "using LinearAlgebra, Plots, FFTW, QuadGK, Test"
   ]
  },
  {
   "cell_type": "markdown",
   "metadata": {},
   "source": [
    "## V.1 Fourier Expansions"
   ]
  },
  {
   "cell_type": "markdown",
   "metadata": {},
   "source": [
    "Consider the Fourier expansion\n",
    "$$\n",
    "f(x) = ∑_{k=-∞}^∞ f̂_k {\\rm e}^{{\\rm i}kθ}\n",
    "$$\n",
    "and the closely related Fourier–Taylor expansion\n",
    "$$\n",
    "f(x) = ∑_{k=0}^∞ f̂_k {\\rm e}^{{\\rm i}kθ}\n",
    "$$\n",
    "where\n",
    "$$\n",
    "f̂_k := {1 \\over 2π} ∫_0^{2π} {\\rm e}^{-{\\rm i}kθ} f(x)  {\\rm d}x.\n",
    "$$\n",
    "We will ultimately use the Trapezium rule to compute $f̂_k$ but for now we will use QuadGK.jl\n",
    "to get a high-accuracy approximation. QuadGK.jl implements a black-box algorithm for computing\n",
    "integrals via `quadgk`, eg."
   ]
  },
  {
   "cell_type": "code",
   "execution_count": 4,
   "metadata": {},
   "outputs": [
    {
     "data": {
      "text/plain": [
       "(1.7182818284590453, 2.220446049250313e-16)"
      ]
     },
     "metadata": {},
     "output_type": "display_data"
    }
   ],
   "source": [
    "σ,ε = quadgk(exp, 0, 1) # integrates exp(x) for x ∈ [0,1]"
   ]
  },
  {
   "cell_type": "markdown",
   "metadata": {},
   "source": [
    "This returns a 2-tuple, the first argument is an approximation to the integral"
   ]
  },
  {
   "cell_type": "code",
   "execution_count": 5,
   "metadata": {},
   "outputs": [
    {
     "data": {
      "text/plain": [
       "\u001b[32m\u001b[1mTest Passed\u001b[22m\u001b[39m"
      ]
     },
     "metadata": {},
     "output_type": "display_data"
    }
   ],
   "source": [
    "@test σ ≈ exp(1)-1"
   ]
  },
  {
   "cell_type": "markdown",
   "metadata": {},
   "source": [
    "whilst the second argument is an estimate for the error, which in this case is spot-on:"
   ]
  },
  {
   "cell_type": "code",
   "execution_count": null,
   "metadata": {},
   "outputs": [],
   "source": [
    "abs(σ - (exp(1)-1))"
   ]
  },
  {
   "cell_type": "markdown",
   "metadata": {},
   "source": [
    "If we give an extra parameter `atol` we can specify the desired accuracy.\n",
    "We can thus compute  approximations to the true Fourier coefficients that are accurate\n",
    "to $10^{-12}$ via:"
   ]
  },
  {
   "cell_type": "code",
   "execution_count": null,
   "metadata": {},
   "outputs": [],
   "source": [
    "fouriercoefficient(f, k) = quadgk(θ -> f(θ)*exp(-im*k*θ), 0, 2π, atol=1E-12)[1]/(2π)\n",
    "fouriercoefficient(exp, 0)"
   ]
  },
  {
   "cell_type": "markdown",
   "metadata": {},
   "source": [
    "We can use this to approximate a finite truncation of the Fourier series\n",
    "$$\n",
    "fₙ(θ) = ∑_{k=-m}^m f̂ₖ {\\rm e}^{{\\rm i}kθ}\n",
    "$$\n",
    "Here we implement this in code for the case of $f(θ) = \\exp θ$:"
   ]
  },
  {
   "cell_type": "code",
   "execution_count": null,
   "metadata": {},
   "outputs": [],
   "source": [
    "m = 20 # n = 2m+1 Fourier coefficients\n",
    "f̂ = [fouriercoefficient(exp, k) for k = -m:m]\n",
    "F = θ -> [exp(im*k*θ) for k = -m:m] # Create the Fourier basis\n",
    "fₙ = θ -> transpose(F(θ))*f̂ # finite Fourier series\n",
    "g = range(0, 2π, 1000) # plotting grid\n",
    "plot(g, exp.(g); label=\"f\")\n",
    "plot!(g, real(fₙ.(g)); label=\"Re fₙ(θ)\")\n",
    "plot!(g, imag(fₙ.(g)); label=\"Im fₙ(θ)\")"
   ]
  },
  {
   "cell_type": "markdown",
   "metadata": {},
   "source": [
    "Because of symmetry properties the imaginary part is numerically zero.\n",
    "But observe also that the approximation overshoots at $0$ and $2π$, something\n",
    "known as _Gibb's phenomenon_."
   ]
  },
  {
   "cell_type": "markdown",
   "metadata": {},
   "source": [
    "------"
   ]
  },
  {
   "cell_type": "markdown",
   "metadata": {},
   "source": [
    "**Problem 1(a)** Repeat the above experiment for the non-symmetric truncation\n",
    "$$\n",
    "fₙ(θ) = ∑_{k=-m}^{m-1} f̂ₖ {\\rm e}^{{\\rm i}kθ}\n",
    "$$\n",
    "with $n = 2m$ Fourier coefficients, where $m = 20$,\n",
    "for $f(θ) = \\exp(θ)$, $f(θ) = \\exp(\\cos(θ))$, and $\\exp(\\exp({\\rm i} θ))$. Is the imaginary part still\n",
    "numerically zero?  Does the second example appear to converge at $0$ and $2π$?"
   ]
  },
  {
   "cell_type": "code",
   "execution_count": null,
   "metadata": {},
   "outputs": [],
   "source": [
    "m = 20 # n = 2m Fourier coefficients\n",
    "# TODO: plot the truncated Fourier expansion with coefficients ranging from -m:m-1"
   ]
  },
  {
   "cell_type": "markdown",
   "metadata": {},
   "source": [
    "**Problem 1(b)**  Plot the finite Fourier-Taylor expansion\n",
    "$$\n",
    "fₙ(θ) = ∑_{k=0}^{ n-1} f̂ₖ {\\rm e}^{{\\rm i}kθ}\n",
    "$$\n",
    "where $n = 20$,\n",
    "for $f(θ) = \\exp(θ)$, $f(θ) = \\exp(\\cos(θ))$, and $\\exp(\\exp({\\rm i} θ))$.\n",
    "For which of these functions does the approximation appear to converge?"
   ]
  },
  {
   "cell_type": "code",
   "execution_count": null,
   "metadata": {},
   "outputs": [],
   "source": [
    "n = 20\n",
    "# TODO: plot the truncated Fourier-Taylor expansion with coefficients ranging from 0:n-1"
   ]
  },
  {
   "cell_type": "markdown",
   "metadata": {},
   "source": [
    "**Problem 1(c)** A cosine expansion is a special case of Fourier series of the form\n",
    "$$\n",
    "f(θ) = ∑_{k=0}^∞ f̌_k \\cos k θ.\n",
    "$$\n",
    "Derive an expression for $f̌_k$ and plot the finite cosine expansion\n",
    "$$\n",
    "fₙ(θ) = ∑_{k=0}^{ n-1} f̌_k \\cos k θ\n",
    "$$\n",
    "for $f(θ) = \\exp(θ)$ and $f(θ) = \\exp(\\cos(θ))$. You may assume $f$ is real\n",
    "and the returned coefficients should be real.\n",
    "For which of these functions does the approximation appear to converge?"
   ]
  },
  {
   "cell_type": "code",
   "execution_count": null,
   "metadata": {},
   "outputs": [],
   "source": [
    "n = 20\n",
    "function cosinecoefficient(f, k)\n",
    "    # TODO: use quadgk to approximate f̌_k\n",
    "\n",
    "end\n",
    "@test cosinecoefficient(θ -> exp(cos(θ)), 5) isa Float64\n",
    "@test cosinecoefficient(θ -> exp(cos(θ)), 5) ≈ 0.0005429263119137845\n",
    "\n",
    "# TODO: plot the truncated cosine expansion with coefficients ranging from 0:n-1"
   ]
  },
  {
   "cell_type": "markdown",
   "metadata": {},
   "source": [
    "### V.1.1 Convergence of Fourier series"
   ]
  },
  {
   "cell_type": "markdown",
   "metadata": {},
   "source": [
    "Different function have different rates of convergence for their Fourier series,\n",
    "which is largely dictated by the rate of decay in their coefficients. We can explore\n",
    "how different _regularity_, i.e., the smoothness of the function, influences the rate of decay\n",
    "of a Fourier expansion."
   ]
  },
  {
   "cell_type": "markdown",
   "metadata": {},
   "source": [
    "----"
   ]
  },
  {
   "cell_type": "markdown",
   "metadata": {},
   "source": [
    "**Problem 2(a)** Plot  the absolute value of coefficients for the functions $θ$,\n",
    "$θ (2π - θ)$ and $θ^2 (2π-θ)^2$ for $k = 1,…,100$. By scaling the $x$- and $y$-axis logarithmically deduce\n",
    "experimentally the rate of decay."
   ]
  },
  {
   "cell_type": "code",
   "execution_count": null,
   "metadata": {},
   "outputs": [],
   "source": [
    "# TODO: plot the coefficients for the three functions with different smoothness properties and deduce the rate of decay."
   ]
  },
  {
   "cell_type": "markdown",
   "metadata": {},
   "source": [
    "**Problem 2(b)** Repeat the above for $1/(\\cos^2 θ + 1)$ and $1/(25 \\cos^2 θ + 1)$, $\\exp(\\cos θ)$, now only scaling the $y$-axis logarithmically. Is the\n",
    "convergence algebraic, exponential, or super-exponential?"
   ]
  },
  {
   "cell_type": "code",
   "execution_count": null,
   "metadata": {},
   "outputs": [],
   "source": [
    "# TODO: plot the coefficients for the three functions with different smoothness properties and deduce the rate of decay."
   ]
  },
  {
   "cell_type": "markdown",
   "metadata": {},
   "source": [
    "----"
   ]
  },
  {
   "cell_type": "markdown",
   "metadata": {},
   "source": [
    "### V.1.2 Trapezium rule and discrete Fourier coefficients"
   ]
  },
  {
   "cell_type": "markdown",
   "metadata": {},
   "source": [
    "Above we use `quadgk` to compute the Fourier integrals, however, this has highly limited the number of coefficients\n",
    "we can compute as it becomes prohibitively expensive for large `k`. Instead, we can leverage the Trapezium rule which has\n",
    "highly structured error properties for computing Fourier integrals. We can use a modified version of the `trapeziumrule` function\n",
    "from Lab 1:"
   ]
  },
  {
   "cell_type": "code",
   "execution_count": null,
   "metadata": {},
   "outputs": [],
   "source": [
    "function periodictrapeziumrule(f, n)\n",
    "    ret = 0.0\n",
    "    for j = 0:n-1\n",
    "        ret = ret + f(2π*j/n)\n",
    "    end\n",
    "    ret/n\n",
    "end\n",
    "\n",
    "f = θ -> exp(cos(θ))\n",
    "@test periodictrapeziumrule(f, 10) ≈ quadgk(f, 0, 2π)[1]/(2π)"
   ]
  },
  {
   "cell_type": "markdown",
   "metadata": {},
   "source": [
    "This satisfies the discrete orthogonality property:"
   ]
  },
  {
   "cell_type": "code",
   "execution_count": null,
   "metadata": {},
   "outputs": [],
   "source": [
    "n = 5\n",
    "k = 3\n",
    "@test [periodictrapeziumrule(θ -> exp(im*(k-ℓ)*θ), n) for ℓ=-20:20] ≈ [mod(ℓ,n) == mod(k,n) ? 1 : 0 for ℓ=-20:20]"
   ]
  },
  {
   "cell_type": "markdown",
   "metadata": {},
   "source": [
    "### V.1.3 Convergence of Approximate Fourier expansions"
   ]
  },
  {
   "cell_type": "markdown",
   "metadata": {},
   "source": [
    "We can use the periodic trapezium rule to compute discrete Fourier coefficients $f̂_k^n$ via:"
   ]
  },
  {
   "cell_type": "code",
   "execution_count": null,
   "metadata": {},
   "outputs": [],
   "source": [
    "discretefouriercoefficient(f, k, n) = periodictrapeziumrule(θ -> exp(-im*k*θ)f(θ), n)"
   ]
  },
  {
   "cell_type": "markdown",
   "metadata": {},
   "source": [
    "These satisfy the aliasing formula\n",
    "$$\n",
    "f̂_k^n = ⋯ + f̂_{k-n} + f̂_k + f̂_{k+n} + …\n",
    "$$\n",
    "which we can verify for this case since $f̂_k$ decays very rapidly:"
   ]
  },
  {
   "cell_type": "code",
   "execution_count": null,
   "metadata": {},
   "outputs": [],
   "source": [
    "n = 4\n",
    "@test discretefouriercoefficient(f, 1, n) ≈  fouriercoefficient(f, 1-2n) + fouriercoefficient(f, 1-n) + fouriercoefficient(f, 1) + fouriercoefficient(f, 1+n) + fouriercoefficient(f, 1+2n)"
   ]
  },
  {
   "cell_type": "markdown",
   "metadata": {},
   "source": [
    "------"
   ]
  },
  {
   "cell_type": "markdown",
   "metadata": {},
   "source": [
    "**Problem 3** Implement the following function `discretecosinecoefficient(f, k, n)` that implements the discrete Cosine coefficient defined via\n",
    "$$\n",
    "c_k^n :=  {1 \\over n} ∑_{j=1}^n f(θ_j) \\cos k θ_j \\begin{cases} 1 & k = 0 \\\\ 2 & \\hbox{otherwise} \\end{cases}\n",
    "$$\n",
    "where $θ_j = π(j-1/2)/n$."
   ]
  },
  {
   "cell_type": "code",
   "execution_count": null,
   "metadata": {},
   "outputs": [],
   "source": [
    "function discretecosinecoefficient(f, k, n)\n",
    "    # TODO: implement the above approximation to the coefficient in the cosine expansion\n",
    "\n",
    "end\n",
    "\n",
    "n = 5\n",
    "@test [discretecosinecoefficient(θ -> 1, ℓ, n) for ℓ = 0:n-1] ≈ [ℓ == 0 ? 1 : 0 for ℓ=0:n-1]\n",
    "\n",
    "k = 3\n",
    "@test [discretecosinecoefficient(θ -> cos(k*θ), ℓ, n) for ℓ = 0:n-1] ≈ [ℓ == k ? 1 : 0 for ℓ=0:n-1]"
   ]
  },
  {
   "cell_type": "markdown",
   "metadata": {},
   "source": [
    "------"
   ]
  },
  {
   "cell_type": "markdown",
   "metadata": {},
   "source": [
    "## V.2 Discrete Fourier Transform"
   ]
  },
  {
   "cell_type": "markdown",
   "metadata": {},
   "source": [
    "The discrete Fourier transform (DFT) expresses the map from function values to discrete Fourier coefficients as a matrix:"
   ]
  },
  {
   "cell_type": "code",
   "execution_count": null,
   "metadata": {},
   "outputs": [],
   "source": [
    "discretefouriertransform(n) = [exp(-2im*π/n * k*j) for k=0:n-1,j=0:n-1]/sqrt(n)\n",
    "\n",
    "n = 10\n",
    "Q = discretefouriertransform(n)\n",
    "@test Q'Q ≈ I # Q is unitary\n",
    "θ = [2π*j/n for j=0:n-1]\n",
    "# Matches the discrete Fourier coefficient:\n",
    "@test Q/sqrt(n) * exp.(θ) ≈ [discretefouriercoefficient(exp, k, n) for k=0:n-1]"
   ]
  },
  {
   "cell_type": "markdown",
   "metadata": {},
   "source": [
    "FFTW.jl gives its own implementation of the DFT (up to multiplication by $\\sqrt n$) computed via the Fast Fourier Transform (FFT):"
   ]
  },
  {
   "cell_type": "code",
   "execution_count": null,
   "metadata": {},
   "outputs": [],
   "source": [
    "@test fft(exp.(θ)) ≈ sqrt(n) * Q * exp.(θ)"
   ]
  },
  {
   "cell_type": "markdown",
   "metadata": {},
   "source": [
    "Matrix multiplication is $O(n^2)$ operations whilst the FFT costs $O(n \\log n)$ operations, which is\n",
    "a substantial speedup."
   ]
  },
  {
   "cell_type": "markdown",
   "metadata": {},
   "source": [
    "-----\n",
    "**Problem 4** Use `fft` in the function `specialsum(n)` to construct a vector to compute $[S_n(0),…,S_n(n-1)]$ for\n",
    "$$\n",
    "   S_n(k) := ∑_{p=0}^∞ {1 \\over (k+p n)!}.\n",
    "$$"
   ]
  },
  {
   "cell_type": "code",
   "execution_count": null,
   "metadata": {},
   "outputs": [],
   "source": [
    "function specialsum(n)\n",
    "    # TODO: implement a numerical algorithm using fft to compute [S_n(0),…,S_n(n-1)], fast enough that the test passes\n",
    "\n",
    "end\n",
    "\n",
    "\n",
    "n = 5\n",
    "@test specialsum(n) ≈ [sum(1/factorial(big(k+p*n)) for p = 0:10) for k=0:n-1]\n",
    "n = 100_000\n",
    "@test length(specialsum(n)) == n\n",
    "@test specialsum(n)[1:10] ≈ [1/factorial(k) for k=0:9]"
   ]
  },
  {
   "cell_type": "markdown",
   "metadata": {},
   "source": [
    "-----"
   ]
  },
  {
   "cell_type": "markdown",
   "metadata": {},
   "source": [
    "### V.2.1 Trigonometric Interpolation"
   ]
  },
  {
   "cell_type": "markdown",
   "metadata": {},
   "source": [
    "An important property of approximate Fourier expansions is that they interpolate the data at the specified grid.\n",
    "In the case of the Fourier–Taylor expansion we can observe this by plotting the real (and imaginary) part of the expansion:"
   ]
  },
  {
   "cell_type": "code",
   "execution_count": null,
   "metadata": {},
   "outputs": [],
   "source": [
    "g = range(0,2π,1000) # plotting grid\n",
    "f = θ -> exp(exp(im*θ)) # function with a converging Fourier–Taylor expansion\n",
    "plot(g, real.(f.(g)); label=\"exp(exp(iθ))\")\n",
    "n = 4\n",
    "θ = [2π/n*j for j=0:n-1]\n",
    "𝐟ₖ = fft(f.(θ))/n\n",
    "fₙ = θ -> transpose([exp(im*k*θ) for k=0:n-1])𝐟ₖ\n",
    "plot!(g, real.(fₙ.(g)); label=\"n = $n\")\n",
    "scatter!(θ, real.(f.(θ)); label=nothing) # we interpolate exactly at the grid points"
   ]
  },
  {
   "cell_type": "markdown",
   "metadata": {},
   "source": [
    "This example converges very rapidly (and with `n=6` the two curves would be indistinguishable).\n",
    "But the interpolation property is true even for functions where we fail to converge:"
   ]
  },
  {
   "cell_type": "code",
   "execution_count": null,
   "metadata": {},
   "outputs": [],
   "source": [
    "f = θ -> exp(θ) # function without a converging Fourier–Taylor expansion\n",
    "plot(g, real.(f.(g)); label=\"exp(θ)\")\n",
    "n = 4\n",
    "θ = [2π/n*j for j=0:n-1]\n",
    "𝐟ₖ = fft(f.(θ))/n\n",
    "fₙ = θ -> transpose([exp(im*k*θ) for k=0:n-1])𝐟ₖ\n",
    "plot!(g, real.(fₙ.(g)); label=\"n = $n\")\n",
    "scatter!(θ, real.(f.(θ)); label=nothing) # we still interpolate exactly at the grid points"
   ]
  },
  {
   "cell_type": "markdown",
   "metadata": {},
   "source": [
    "------"
   ]
  },
  {
   "cell_type": "markdown",
   "metadata": {},
   "source": [
    "**Problem 5(a)** Plot the real part of the approximate Fourier expansion\n",
    "$$\n",
    "f_{-m:m}(θ) : = ∑_{k=-m}^m f̂_k^n {\\rm e}^{{\\rm i}kθ}\n",
    "$$\n",
    "and verify that it interpolates $f(θ) = \\exp(θ)$ at the specified grid for $m=5,10,20$. Does the approximation appear to converge?"
   ]
  },
  {
   "cell_type": "code",
   "execution_count": null,
   "metadata": {},
   "outputs": [],
   "source": [
    "# TODO: Compare $\\exp(θ)$ to its approximate Fourier expansion and describe the observed convergence"
   ]
  },
  {
   "cell_type": "markdown",
   "metadata": {},
   "source": [
    "**Problem 5(b)** Consider the approximate cosine expansion\n",
    "$$\n",
    "f_n(θ) = ∑_{k=0}^{n-1} c_k^n \\cos k θ.\n",
    "$$\n",
    "Compare $f_n$ and $f$ for  $f(θ) = \\exp θ$  and $\\exp(\\cos(θ))$ on $[0,π]$ for $n = 5, 20$.\n",
    "Does the approximate cosine expansion interpolate both functions? Expain how the convergence properties better than Fourier, even for non-even functions.\n",
    "Can you explain this phenomena?"
   ]
  },
  {
   "cell_type": "code",
   "execution_count": null,
   "metadata": {},
   "outputs": [],
   "source": [
    "# TODO: by plotting the cosine expansion make some observations on the interpolation and convergence"
   ]
  },
  {
   "cell_type": "markdown",
   "metadata": {},
   "source": [
    "---\n",
    "\n",
    "*This notebook was generated using [Literate.jl](https://github.com/fredrikekre/Literate.jl).*"
   ]
  }
 ],
 "metadata": {
  "kernelspec": {
   "display_name": "Julia 1.11.2",
   "language": "julia",
   "name": "julia-1.11"
  },
  "language_info": {
   "file_extension": ".jl",
   "mimetype": "application/julia",
   "name": "julia",
   "version": "1.11.2"
  }
 },
 "nbformat": 4,
 "nbformat_minor": 3
}
